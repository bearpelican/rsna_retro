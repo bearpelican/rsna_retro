{
 "cells": [
  {
   "cell_type": "code",
   "execution_count": 1,
   "metadata": {},
   "outputs": [
    {
     "name": "stdout",
     "output_type": "stream",
     "text": [
      "Loading imports\n",
      "Warning: Your Kaggle API key is readable by other users on this system! To fix this, you can run 'chmod 600 /home/ashaw/.kaggle/kaggle.json'\n"
     ]
    }
   ],
   "source": [
    "from rsna_retro.imports import *\n",
    "from rsna_retro.metadata import *\n",
    "from rsna_retro.preprocess import *\n",
    "from rsna_retro.train import *\n",
    "from rsna_retro.train3d import *"
   ]
  },
  {
   "cell_type": "code",
   "execution_count": 2,
   "metadata": {},
   "outputs": [],
   "source": [
    "torch.cuda.set_device(4)"
   ]
  },
  {
   "cell_type": "code",
   "execution_count": 3,
   "metadata": {},
   "outputs": [],
   "source": [
    "dbunch = get_3d_dbunch_aug(Meta.df_any, bs=10)"
   ]
  },
  {
   "cell_type": "code",
   "execution_count": 4,
   "metadata": {
    "scrolled": true
   },
   "outputs": [
    {
     "data": {
      "text/plain": [
       "(torch.Size([10, 60, 3, 256, 256]), torch.Size([10, 60, 6]))"
      ]
     },
     "execution_count": 4,
     "metadata": {},
     "output_type": "execute_result"
    }
   ],
   "source": [
    "x,y = dbunch.one_batch()\n",
    "x.shape, y.shape"
   ]
  },
  {
   "cell_type": "markdown",
   "metadata": {},
   "source": [
    "## Model"
   ]
  },
  {
   "cell_type": "code",
   "execution_count": 5,
   "metadata": {},
   "outputs": [],
   "source": [
    "m = get_3d_head()"
   ]
  },
  {
   "cell_type": "code",
   "execution_count": 6,
   "metadata": {},
   "outputs": [],
   "source": [
    "config=dict(custom_head=m)\n",
    "learn = get_learner(dbunch, xresnet18, get_loss(), config=config)"
   ]
  },
  {
   "cell_type": "code",
   "execution_count": 7,
   "metadata": {},
   "outputs": [
    {
     "data": {
      "text/plain": [
       "<fastai2.learner.Learner at 0x7f20dc0eb210>"
      ]
     },
     "execution_count": 7,
     "metadata": {},
     "output_type": "execute_result"
    }
   ],
   "source": [
    "hook = ReshapeBodyHook(learn.model[0])\n",
    "learn.add_cb(DePadLoss())"
   ]
  },
  {
   "cell_type": "code",
   "execution_count": 9,
   "metadata": {},
   "outputs": [
    {
     "ename": "RuntimeError",
     "evalue": "Error(s) in loading state_dict for Sequential:\n\tMissing key(s) in state_dict: \"0.4.0.convpath.0.0.weight\", \"0.4.0.convpath.0.1.weight\", \"0.4.0.convpath.0.1.bias\", \"0.4.0.convpath.0.1.running_mean\", \"0.4.0.convpath.0.1.running_var\", \"0.4.0.convpath.1.0.weight\", \"0.4.0.convpath.1.1.weight\", \"0.4.0.convpath.1.1.bias\", \"0.4.0.convpath.1.1.running_mean\", \"0.4.0.convpath.1.1.running_var\", \"0.4.1.convpath.0.0.weight\", \"0.4.1.convpath.0.1.weight\", \"0.4.1.convpath.0.1.bias\", \"0.4.1.convpath.0.1.running_mean\", \"0.4.1.convpath.0.1.running_var\", \"0.4.1.convpath.1.0.weight\", \"0.4.1.convpath.1.1.weight\", \"0.4.1.convpath.1.1.bias\", \"0.4.1.convpath.1.1.running_mean\", \"0.4.1.convpath.1.1.running_var\", \"0.5.0.convpath.0.0.weight\", \"0.5.0.convpath.0.1.weight\", \"0.5.0.convpath.0.1.bias\", \"0.5.0.convpath.0.1.running_mean\", \"0.5.0.convpath.0.1.running_var\", \"0.5.0.convpath.1.0.weight\", \"0.5.0.convpath.1.1.weight\", \"0.5.0.convpath.1.1.bias\", \"0.5.0.convpath.1.1.running_mean\", \"0.5.0.convpath.1.1.running_var\", \"0.5.1.convpath.0.0.weight\", \"0.5.1.convpath.0.1.weight\", \"0.5.1.convpath.0.1.bias\", \"0.5.1.convpath.0.1.running_mean\", \"0.5.1.convpath.0.1.running_var\", \"0.5.1.convpath.1.0.weight\", \"0.5.1.convpath.1.1.weight\", \"0.5.1.convpath.1.1.bias\", \"0.5.1.convpath.1.1.running_mean\", \"0.5.1.convpath.1.1.running_var\", \"0.6.0.convpath.0.0.weight\", \"0.6.0.convpath.0.1.weight\", \"0.6.0.convpath.0.1.bias\", \"0.6.0.convpath.0.1.running_mean\", \"0.6.0.convpath.0.1.running_var\", \"0.6.0.convpath.1.0.weight\", \"0.6.0.convpath.1.1.weight\", \"0.6.0.convpath.1.1.bias\", \"0.6.0.convpath.1.1.running_mean\", \"0.6.0.convpath.1.1.running_var\", \"0.6.1.convpath.0.0.weight\", \"0.6.1.convpath.0.1.weight\", \"0.6.1.convpath.0.1.bias\", \"0.6.1.convpath.0.1.running_mean\", \"0.6.1.convpath.0.1.running_var\", \"0.6.1.convpath.1.0.weight\", \"0.6.1.convpath.1.1.weight\", \"0.6.1.convpath.1.1.bias\", \"0.6.1.convpath.1.1.running_mean\", \"0.6.1.convpath.1.1.running_var\", \"0.7.0.convpath.0.0.weight\", \"0.7.0.convpath.0.1.weight\", \"0.7.0.convpath.0.1.bias\", \"0.7.0.convpath.0.1.running_mean\", \"0.7.0.convpath.0.1.running_var\", \"0.7.0.convpath.1.0.weight\", \"0.7.0.convpath.1.1.weight\", \"0.7.0.convpath.1.1.bias\", \"0.7.0.convpath.1.1.running_mean\", \"0.7.0.convpath.1.1.running_var\", \"0.7.1.convpath.0.0.weight\", \"0.7.1.convpath.0.1.weight\", \"0.7.1.convpath.0.1.bias\", \"0.7.1.convpath.0.1.running_mean\", \"0.7.1.convpath.0.1.running_var\", \"0.7.1.convpath.1.0.weight\", \"0.7.1.convpath.1.1.weight\", \"0.7.1.convpath.1.1.bias\", \"0.7.1.convpath.1.1.running_mean\", \"0.7.1.convpath.1.1.running_var\", \"1.1.0.weight\", \"1.1.1.weight\", \"1.1.1.bias\", \"1.1.1.running_mean\", \"1.1.1.running_var\", \"1.2.0.weight\", \"1.2.1.weight\", \"1.2.1.bias\", \"1.2.1.running_mean\", \"1.2.1.running_var\", \"1.3.0.weight\", \"1.3.1.weight\", \"1.3.1.bias\", \"1.3.1.running_mean\", \"1.3.1.running_var\", \"1.7.weight\", \"1.7.bias\". \n\tUnexpected key(s) in state_dict: \"0.4.0.convs.0.0.weight\", \"0.4.0.convs.0.1.weight\", \"0.4.0.convs.0.1.bias\", \"0.4.0.convs.0.1.running_mean\", \"0.4.0.convs.0.1.running_var\", \"0.4.0.convs.0.1.num_batches_tracked\", \"0.4.0.convs.1.0.weight\", \"0.4.0.convs.1.1.weight\", \"0.4.0.convs.1.1.bias\", \"0.4.0.convs.1.1.running_mean\", \"0.4.0.convs.1.1.running_var\", \"0.4.0.convs.1.1.num_batches_tracked\", \"0.4.0.convpath.0.0.0.weight\", \"0.4.0.convpath.0.0.1.weight\", \"0.4.0.convpath.0.0.1.bias\", \"0.4.0.convpath.0.0.1.running_mean\", \"0.4.0.convpath.0.0.1.running_var\", \"0.4.0.convpath.0.0.1.num_batches_tracked\", \"0.4.0.convpath.0.1.0.weight\", \"0.4.0.convpath.0.1.1.weight\", \"0.4.0.convpath.0.1.1.bias\", \"0.4.0.convpath.0.1.1.running_mean\", \"0.4.0.convpath.0.1.1.running_var\", \"0.4.0.convpath.0.1.1.num_batches_tracked\", \"0.4.1.convs.0.0.weight\", \"0.4.1.convs.0.1.weight\", \"0.4.1.convs.0.1.bias\", \"0.4.1.convs.0.1.running_mean\", \"0.4.1.convs.0.1.running_var\", \"0.4.1.convs.0.1.num_batches_tracked\", \"0.4.1.convs.1.0.weight\", \"0.4.1.convs.1.1.weight\", \"0.4.1.convs.1.1.bias\", \"0.4.1.convs.1.1.running_mean\", \"0.4.1.convs.1.1.running_var\", \"0.4.1.convs.1.1.num_batches_tracked\", \"0.4.1.convpath.0.0.0.weight\", \"0.4.1.convpath.0.0.1.weight\", \"0.4.1.convpath.0.0.1.bias\", \"0.4.1.convpath.0.0.1.running_mean\", \"0.4.1.convpath.0.0.1.running_var\", \"0.4.1.convpath.0.0.1.num_batches_tracked\", \"0.4.1.convpath.0.1.0.weight\", \"0.4.1.convpath.0.1.1.weight\", \"0.4.1.convpath.0.1.1.bias\", \"0.4.1.convpath.0.1.1.running_mean\", \"0.4.1.convpath.0.1.1.running_var\", \"0.4.1.convpath.0.1.1.num_batches_tracked\", \"0.5.0.convs.0.0.weight\", \"0.5.0.convs.0.1.weight\", \"0.5.0.convs.0.1.bias\", \"0.5.0.convs.0.1.running_mean\", \"0.5.0.convs.0.1.running_var\", \"0.5.0.convs.0.1.num_batches_tracked\", \"0.5.0.convs.1.0.weight\", \"0.5.0.convs.1.1.weight\", \"0.5.0.convs.1.1.bias\", \"0.5.0.convs.1.1.running_mean\", \"0.5.0.convs.1.1.running_var\", \"0.5.0.convs.1.1.num_batches_tracked\", \"0.5.0.convpath.0.0.0.weight\", \"0.5.0.convpath.0.0.1.weight\", \"0.5.0.convpath.0.0.1.bias\", \"0.5.0.convpath.0.0.1.running_mean\", \"0.5.0.convpath.0.0.1.running_var\", \"0.5.0.convpath.0.0.1.num_batches_tracked\", \"0.5.0.convpath.0.1.0.weight\", \"0.5.0.convpath.0.1.1.weight\", \"0.5.0.convpath.0.1.1.bias\", \"0.5.0.convpath.0.1.1.running_mean\", \"0.5.0.convpath.0.1.1.running_var\", \"0.5.0.convpath.0.1.1.num_batches_tracked\", \"0.5.1.convs.0.0.weight\", \"0.5.1.convs.0.1.weight\", \"0.5.1.convs.0.1.bias\", \"0.5.1.convs.0.1.running_mean\", \"0.5.1.convs.0.1.running_var\", \"0.5.1.convs.0.1.num_batches_tracked\", \"0.5.1.convs.1.0.weight\", \"0.5.1.convs.1.1.weight\", \"0.5.1.convs.1.1.bias\", \"0.5.1.convs.1.1.running_mean\", \"0.5.1.convs.1.1.running_var\", \"0.5.1.convs.1.1.num_batches_tracked\", \"0.5.1.convpath.0.0.0.weight\", \"0.5.1.convpath.0.0.1.weight\", \"0.5.1.convpath.0.0.1.bias\", \"0.5.1.convpath.0.0.1.running_mean\", \"0.5.1.convpath.0.0.1.running_var\", \"0.5.1.convpath.0.0.1.num_batches_tracked\", \"0.5.1.convpath.0.1.0.weight\", \"0.5.1.convpath.0.1.1.weight\", \"0.5.1.convpath.0.1.1.bias\", \"0.5.1.convpath.0.1.1.running_mean\", \"0.5.1.convpath.0.1.1.running_var\", \"0.5.1.convpath.0.1.1.num_batches_tracked\", \"0.6.0.convs.0.0.weight\", \"0.6.0.convs.0.1.weight\", \"0.6.0.convs.0.1.bias\", \"0.6.0.convs.0.1.running_mean\", \"0.6.0.convs.0.1.running_var\", \"0.6.0.convs.0.1.num_batches_tracked\", \"0.6.0.convs.1.0.weight\", \"0.6.0.convs.1.1.weight\", \"0.6.0.convs.1.1.bias\", \"0.6.0.convs.1.1.running_mean\", \"0.6.0.convs.1.1.running_var\", \"0.6.0.convs.1.1.num_batches_tracked\", \"0.6.0.convpath.0.0.0.weight\", \"0.6.0.convpath.0.0.1.weight\", \"0.6.0.convpath.0.0.1.bias\", \"0.6.0.convpath.0.0.1.running_mean\", \"0.6.0.convpath.0.0.1.running_var\", \"0.6.0.convpath.0.0.1.num_batches_tracked\", \"0.6.0.convpath.0.1.0.weight\", \"0.6.0.convpath.0.1.1.weight\", \"0.6.0.convpath.0.1.1.bias\", \"0.6.0.convpath.0.1.1.running_mean\", \"0.6.0.convpath.0.1.1.running_var\", \"0.6.0.convpath.0.1.1.num_batches_tracked\", \"0.6.1.convs.0.0.weight\", \"0.6.1.convs.0.1.weight\", \"0.6.1.convs.0.1.bias\", \"0.6.1.convs.0.1.running_mean\", \"0.6.1.convs.0.1.running_var\", \"0.6.1.convs.0.1.num_batches_tracked\", \"0.6.1.convs.1.0.weight\", \"0.6.1.convs.1.1.weight\", \"0.6.1.convs.1.1.bias\", \"0.6.1.convs.1.1.running_mean\", \"0.6.1.convs.1.1.running_var\", \"0.6.1.convs.1.1.num_batches_tracked\", \"0.6.1.convpath.0.0.0.weight\", \"0.6.1.convpath.0.0.1.weight\", \"0.6.1.convpath.0.0.1.bias\", \"0.6.1.convpath.0.0.1.running_mean\", \"0.6.1.convpath.0.0.1.running_var\", \"0.6.1.convpath.0.0.1.num_batches_tracked\", \"0.6.1.convpath.0.1.0.weight\", \"0.6.1.convpath.0.1.1.weight\", \"0.6.1.convpath.0.1.1.bias\", \"0.6.1.convpath.0.1.1.running_mean\", \"0.6.1.convpath.0.1.1.running_var\", \"0.6.1.convpath.0.1.1.num_batches_tracked\", \"0.7.0.convs.0.0.weight\", \"0.7.0.convs.0.1.weight\", \"0.7.0.convs.0.1.bias\", \"0.7.0.convs.0.1.running_mean\", \"0.7.0.convs.0.1.running_var\", \"0.7.0.convs.0.1.num_batches_tracked\", \"0.7.0.convs.1.0.weight\", \"0.7.0.convs.1.1.weight\", \"0.7.0.convs.1.1.bias\", \"0.7.0.convs.1.1.running_mean\", \"0.7.0.convs.1.1.running_var\", \"0.7.0.convs.1.1.num_batches_tracked\", \"0.7.0.convpath.0.0.0.weight\", \"0.7.0.convpath.0.0.1.weight\", \"0.7.0.convpath.0.0.1.bias\", \"0.7.0.convpath.0.0.1.running_mean\", \"0.7.0.convpath.0.0.1.running_var\", \"0.7.0.convpath.0.0.1.num_batches_tracked\", \"0.7.0.convpath.0.1.0.weight\", \"0.7.0.convpath.0.1.1.weight\", \"0.7.0.convpath.0.1.1.bias\", \"0.7.0.convpath.0.1.1.running_mean\", \"0.7.0.convpath.0.1.1.running_var\", \"0.7.0.convpath.0.1.1.num_batches_tracked\", \"0.7.1.convs.0.0.weight\", \"0.7.1.convs.0.1.weight\", \"0.7.1.convs.0.1.bias\", \"0.7.1.convs.0.1.running_mean\", \"0.7.1.convs.0.1.running_var\", \"0.7.1.convs.0.1.num_batches_tracked\", \"0.7.1.convs.1.0.weight\", \"0.7.1.convs.1.1.weight\", \"0.7.1.convs.1.1.bias\", \"0.7.1.convs.1.1.running_mean\", \"0.7.1.convs.1.1.running_var\", \"0.7.1.convs.1.1.num_batches_tracked\", \"0.7.1.convpath.0.0.0.weight\", \"0.7.1.convpath.0.0.1.weight\", \"0.7.1.convpath.0.0.1.bias\", \"0.7.1.convpath.0.0.1.running_mean\", \"0.7.1.convpath.0.0.1.running_var\", \"0.7.1.convpath.0.0.1.num_batches_tracked\", \"0.7.1.convpath.0.1.0.weight\", \"0.7.1.convpath.0.1.1.weight\", \"0.7.1.convpath.0.1.1.bias\", \"0.7.1.convpath.0.1.1.running_mean\", \"0.7.1.convpath.0.1.1.running_var\", \"0.7.1.convpath.0.1.1.num_batches_tracked\", \"1.2.weight\", \"1.2.bias\", \"1.2.running_mean\", \"1.2.running_var\", \"1.2.num_batches_tracked\", \"1.3.weight\". ",
     "output_type": "error",
     "traceback": [
      "\u001b[0;31m---------------------------------------------------------------------------\u001b[0m",
      "\u001b[0;31mRuntimeError\u001b[0m                              Traceback (most recent call last)",
      "\u001b[0;32m<ipython-input-9-673b1abbda87>\u001b[0m in \u001b[0;36m<module>\u001b[0;34m\u001b[0m\n\u001b[0;32m----> 1\u001b[0;31m \u001b[0mlearn\u001b[0m\u001b[0;34m.\u001b[0m\u001b[0mload\u001b[0m\u001b[0;34m(\u001b[0m\u001b[0;34mf'runs/baseline_any_xresnet18-3-full'\u001b[0m\u001b[0;34m,\u001b[0m \u001b[0mstrict\u001b[0m\u001b[0;34m=\u001b[0m\u001b[0;32mTrue\u001b[0m\u001b[0;34m)\u001b[0m\u001b[0;34m\u001b[0m\u001b[0;34m\u001b[0m\u001b[0m\n\u001b[0m",
      "\u001b[0;32m~/fastai2/fastai2/learner.py\u001b[0m in \u001b[0;36mload\u001b[0;34m(self, file, with_opt, device, strict)\u001b[0m\n\u001b[1;32m    361\u001b[0m         \u001b[0mdistrib_barrier\u001b[0m\u001b[0;34m(\u001b[0m\u001b[0;34m)\u001b[0m\u001b[0;34m\u001b[0m\u001b[0;34m\u001b[0m\u001b[0m\n\u001b[1;32m    362\u001b[0m         \u001b[0mfile\u001b[0m \u001b[0;34m=\u001b[0m \u001b[0mjoin_path_file\u001b[0m\u001b[0;34m(\u001b[0m\u001b[0mfile\u001b[0m\u001b[0;34m,\u001b[0m \u001b[0mself\u001b[0m\u001b[0;34m.\u001b[0m\u001b[0mpath\u001b[0m\u001b[0;34m/\u001b[0m\u001b[0mself\u001b[0m\u001b[0;34m.\u001b[0m\u001b[0mmodel_dir\u001b[0m\u001b[0;34m,\u001b[0m \u001b[0mext\u001b[0m\u001b[0;34m=\u001b[0m\u001b[0;34m'.pth'\u001b[0m\u001b[0;34m)\u001b[0m\u001b[0;34m\u001b[0m\u001b[0;34m\u001b[0m\u001b[0m\n\u001b[0;32m--> 363\u001b[0;31m         \u001b[0mload_model\u001b[0m\u001b[0;34m(\u001b[0m\u001b[0mfile\u001b[0m\u001b[0;34m,\u001b[0m \u001b[0mself\u001b[0m\u001b[0;34m.\u001b[0m\u001b[0mmodel\u001b[0m\u001b[0;34m,\u001b[0m \u001b[0mself\u001b[0m\u001b[0;34m.\u001b[0m\u001b[0mopt\u001b[0m\u001b[0;34m,\u001b[0m \u001b[0mwith_opt\u001b[0m\u001b[0;34m=\u001b[0m\u001b[0mwith_opt\u001b[0m\u001b[0;34m,\u001b[0m \u001b[0mdevice\u001b[0m\u001b[0;34m=\u001b[0m\u001b[0mdevice\u001b[0m\u001b[0;34m,\u001b[0m \u001b[0mstrict\u001b[0m\u001b[0;34m=\u001b[0m\u001b[0mstrict\u001b[0m\u001b[0;34m)\u001b[0m\u001b[0;34m\u001b[0m\u001b[0;34m\u001b[0m\u001b[0m\n\u001b[0m\u001b[1;32m    364\u001b[0m         \u001b[0;32mreturn\u001b[0m \u001b[0mself\u001b[0m\u001b[0;34m\u001b[0m\u001b[0;34m\u001b[0m\u001b[0m\n\u001b[1;32m    365\u001b[0m \u001b[0;34m\u001b[0m\u001b[0m\n",
      "\u001b[0;32m~/fastai2/fastai2/learner.py\u001b[0m in \u001b[0;36mload_model\u001b[0;34m(file, model, opt, with_opt, device, strict)\u001b[0m\n\u001b[1;32m    160\u001b[0m     \u001b[0mhasopt\u001b[0m \u001b[0;34m=\u001b[0m \u001b[0mset\u001b[0m\u001b[0;34m(\u001b[0m\u001b[0mstate\u001b[0m\u001b[0;34m)\u001b[0m\u001b[0;34m==\u001b[0m\u001b[0;34m{\u001b[0m\u001b[0;34m'model'\u001b[0m\u001b[0;34m,\u001b[0m \u001b[0;34m'opt'\u001b[0m\u001b[0;34m}\u001b[0m\u001b[0;34m\u001b[0m\u001b[0;34m\u001b[0m\u001b[0m\n\u001b[1;32m    161\u001b[0m     \u001b[0mmodel_state\u001b[0m \u001b[0;34m=\u001b[0m \u001b[0mstate\u001b[0m\u001b[0;34m[\u001b[0m\u001b[0;34m'model'\u001b[0m\u001b[0;34m]\u001b[0m \u001b[0;32mif\u001b[0m \u001b[0mhasopt\u001b[0m \u001b[0;32melse\u001b[0m \u001b[0mstate\u001b[0m\u001b[0;34m\u001b[0m\u001b[0;34m\u001b[0m\u001b[0m\n\u001b[0;32m--> 162\u001b[0;31m     \u001b[0mget_model\u001b[0m\u001b[0;34m(\u001b[0m\u001b[0mmodel\u001b[0m\u001b[0;34m)\u001b[0m\u001b[0;34m.\u001b[0m\u001b[0mload_state_dict\u001b[0m\u001b[0;34m(\u001b[0m\u001b[0mmodel_state\u001b[0m\u001b[0;34m,\u001b[0m \u001b[0mstrict\u001b[0m\u001b[0;34m=\u001b[0m\u001b[0mstrict\u001b[0m\u001b[0;34m)\u001b[0m\u001b[0;34m\u001b[0m\u001b[0;34m\u001b[0m\u001b[0m\n\u001b[0m\u001b[1;32m    163\u001b[0m     \u001b[0;32mif\u001b[0m \u001b[0mhasopt\u001b[0m \u001b[0;32mand\u001b[0m \u001b[0mifnone\u001b[0m\u001b[0;34m(\u001b[0m\u001b[0mwith_opt\u001b[0m\u001b[0;34m,\u001b[0m\u001b[0;32mTrue\u001b[0m\u001b[0;34m)\u001b[0m\u001b[0;34m:\u001b[0m\u001b[0;34m\u001b[0m\u001b[0;34m\u001b[0m\u001b[0m\n\u001b[1;32m    164\u001b[0m         \u001b[0;32mtry\u001b[0m\u001b[0;34m:\u001b[0m \u001b[0mopt\u001b[0m\u001b[0;34m.\u001b[0m\u001b[0mload_state_dict\u001b[0m\u001b[0;34m(\u001b[0m\u001b[0mstate\u001b[0m\u001b[0;34m[\u001b[0m\u001b[0;34m'opt'\u001b[0m\u001b[0;34m]\u001b[0m\u001b[0;34m)\u001b[0m\u001b[0;34m\u001b[0m\u001b[0;34m\u001b[0m\u001b[0m\n",
      "\u001b[0;32m~/anaconda3/envs/rsna_retro/lib/python3.7/site-packages/torch/nn/modules/module.py\u001b[0m in \u001b[0;36mload_state_dict\u001b[0;34m(self, state_dict, strict)\u001b[0m\n\u001b[1;32m    837\u001b[0m         \u001b[0;32mif\u001b[0m \u001b[0mlen\u001b[0m\u001b[0;34m(\u001b[0m\u001b[0merror_msgs\u001b[0m\u001b[0;34m)\u001b[0m \u001b[0;34m>\u001b[0m \u001b[0;36m0\u001b[0m\u001b[0;34m:\u001b[0m\u001b[0;34m\u001b[0m\u001b[0;34m\u001b[0m\u001b[0m\n\u001b[1;32m    838\u001b[0m             raise RuntimeError('Error(s) in loading state_dict for {}:\\n\\t{}'.format(\n\u001b[0;32m--> 839\u001b[0;31m                                self.__class__.__name__, \"\\n\\t\".join(error_msgs)))\n\u001b[0m\u001b[1;32m    840\u001b[0m         \u001b[0;32mreturn\u001b[0m \u001b[0m_IncompatibleKeys\u001b[0m\u001b[0;34m(\u001b[0m\u001b[0mmissing_keys\u001b[0m\u001b[0;34m,\u001b[0m \u001b[0munexpected_keys\u001b[0m\u001b[0;34m)\u001b[0m\u001b[0;34m\u001b[0m\u001b[0;34m\u001b[0m\u001b[0m\n\u001b[1;32m    841\u001b[0m \u001b[0;34m\u001b[0m\u001b[0m\n",
      "\u001b[0;31mRuntimeError\u001b[0m: Error(s) in loading state_dict for Sequential:\n\tMissing key(s) in state_dict: \"0.4.0.convpath.0.0.weight\", \"0.4.0.convpath.0.1.weight\", \"0.4.0.convpath.0.1.bias\", \"0.4.0.convpath.0.1.running_mean\", \"0.4.0.convpath.0.1.running_var\", \"0.4.0.convpath.1.0.weight\", \"0.4.0.convpath.1.1.weight\", \"0.4.0.convpath.1.1.bias\", \"0.4.0.convpath.1.1.running_mean\", \"0.4.0.convpath.1.1.running_var\", \"0.4.1.convpath.0.0.weight\", \"0.4.1.convpath.0.1.weight\", \"0.4.1.convpath.0.1.bias\", \"0.4.1.convpath.0.1.running_mean\", \"0.4.1.convpath.0.1.running_var\", \"0.4.1.convpath.1.0.weight\", \"0.4.1.convpath.1.1.weight\", \"0.4.1.convpath.1.1.bias\", \"0.4.1.convpath.1.1.running_mean\", \"0.4.1.convpath.1.1.running_var\", \"0.5.0.convpath.0.0.weight\", \"0.5.0.convpath.0.1.weight\", \"0.5.0.convpath.0.1.bias\", \"0.5.0.convpath.0.1.running_mean\", \"0.5.0.convpath.0.1.running_var\", \"0.5.0.convpath.1.0.weight\", \"0.5.0.convpath.1.1.weight\", \"0.5.0.convpath.1.1.bias\", \"0.5.0.convpath.1.1.running_mean\", \"0.5.0.convpath.1.1.running_var\", \"0.5.1.convpath.0.0.weight\", \"0.5.1.convpath.0.1.weight\", \"0.5.1.convpath.0.1.bias\", \"0.5.1.convpath.0.1.running_mean\", \"0.5.1.convpath.0.1.running_var\", \"0.5.1.convpath.1.0.weight\", \"0.5.1.convpath.1.1.weight\", \"0.5.1.convpath.1.1.bias\", \"0.5.1.convpath.1.1.running_mean\", \"0.5.1.convpath.1.1.running_var\", \"0.6.0.convpath.0.0.weight\", \"0.6.0.convpath.0.1.weight\", \"0.6.0.convpath.0.1.bias\", \"0.6.0.convpath.0.1.running_mean\", \"0.6.0.convpath.0.1.running_var\", \"0.6.0.convpath.1.0.weight\", \"0.6.0.convpath.1.1.weight\", \"0.6.0.convpath.1.1.bias\", \"0.6.0.convpath.1.1.running_mean\", \"0.6.0.convpath.1.1.running_var\", \"0.6.1.convpath.0.0.weight\", \"0.6.1.convpath.0.1.weight\", \"0.6.1.convpath.0.1.bias\", \"0.6.1.convpath.0.1.running_mean\", \"0.6.1.convpath.0.1.running_var\", \"0.6.1.convpath.1.0.weight\", \"0.6.1.convpath.1.1.weight\", \"0.6.1.convpath.1.1.bias\", \"0.6.1.convpath.1.1.running_mean\", \"0.6.1.convpath.1.1.running_var\", \"0.7.0.convpath.0.0.weight\", \"0.7.0.convpath.0.1.weight\", \"0.7.0.convpath.0.1.bias\", \"0.7.0.convpath.0.1.running_mean\", \"0.7.0.convpath.0.1.running_var\", \"0.7.0.convpath.1.0.weight\", \"0.7.0.convpath.1.1.weight\", \"0.7.0.convpath.1.1.bias\", \"0.7.0.convpath.1.1.running_mean\", \"0.7.0.convpath.1.1.running_var\", \"0.7.1.convpath.0.0.weight\", \"0.7.1.convpath.0.1.weight\", \"0.7.1.convpath.0.1.bias\", \"0.7.1.convpath.0.1.running_mean\", \"0.7.1.convpath.0.1.running_var\", \"0.7.1.convpath.1.0.weight\", \"0.7.1.convpath.1.1.weight\", \"0.7.1.convpath.1.1.bias\", \"0.7.1.convpath.1.1.running_mean\", \"0.7.1.convpath.1.1.running_var\", \"1.1.0.weight\", \"1.1.1.weight\", \"1.1.1.bias\", \"1.1.1.running_mean\", \"1.1.1.running_var\", \"1.2.0.weight\", \"1.2.1.weight\", \"1.2.1.bias\", \"1.2.1.running_mean\", \"1.2.1.running_var\", \"1.3.0.weight\", \"1.3.1.weight\", \"1.3.1.bias\", \"1.3.1.running_mean\", \"1.3.1.running_var\", \"1.7.weight\", \"1.7.bias\". \n\tUnexpected key(s) in state_dict: \"0.4.0.convs.0.0.weight\", \"0.4.0.convs.0.1.weight\", \"0.4.0.convs.0.1.bias\", \"0.4.0.convs.0.1.running_mean\", \"0.4.0.convs.0.1.running_var\", \"0.4.0.convs.0.1.num_batches_tracked\", \"0.4.0.convs.1.0.weight\", \"0.4.0.convs.1.1.weight\", \"0.4.0.convs.1.1.bias\", \"0.4.0.convs.1.1.running_mean\", \"0.4.0.convs.1.1.running_var\", \"0.4.0.convs.1.1.num_batches_tracked\", \"0.4.0.convpath.0.0.0.weight\", \"0.4.0.convpath.0.0.1.weight\", \"0.4.0.convpath.0.0.1.bias\", \"0.4.0.convpath.0.0.1.running_mean\", \"0.4.0.convpath.0.0.1.running_var\", \"0.4.0.convpath.0.0.1.num_batches_tracked\", \"0.4.0.convpath.0.1.0.weight\", \"0.4.0.convpath.0.1.1.weight\", \"0.4.0.convpath.0.1.1.bias\", \"0.4.0.convpath.0.1.1.running_mean\", \"0.4.0.convpath.0.1.1.running_var\", \"0.4.0.convpath.0.1.1.num_batches_tracked\", \"0.4.1.convs.0.0.weight\", \"0.4.1.convs.0.1.weight\", \"0.4.1.convs.0.1.bias\", \"0.4.1.convs.0.1.running_mean\", \"0.4.1.convs.0.1.running_var\", \"0.4.1.convs.0.1.num_batches_tracked\", \"0.4.1.convs.1.0.weight\", \"0.4.1.convs.1.1.weight\", \"0.4.1.convs.1.1.bias\", \"0.4.1.convs.1.1.running_mean\", \"0.4.1.convs.1.1.running_var\", \"0.4.1.convs.1.1.num_batches_tracked\", \"0.4.1.convpath.0.0.0.weight\", \"0.4.1.convpath.0.0.1.weight\", \"0.4.1.convpath.0.0.1.bias\", \"0.4.1.convpath.0.0.1.running_mean\", \"0.4.1.convpath.0.0.1.running_var\", \"0.4.1.convpath.0.0.1.num_batches_tracked\", \"0.4.1.convpath.0.1.0.weight\", \"0.4.1.convpath.0.1.1.weight\", \"0.4.1.convpath.0.1.1.bias\", \"0.4.1.convpath.0.1.1.running_mean\", \"0.4.1.convpath.0.1.1.running_var\", \"0.4.1.convpath.0.1.1.num_batches_tracked\", \"0.5.0.convs.0.0.weight\", \"0.5.0.convs.0.1.weight\", \"0.5.0.convs.0.1.bias\", \"0.5.0.convs.0.1.running_mean\", \"0.5.0.convs.0.1.running_var\", \"0.5.0.convs.0.1.num_batches_tracked\", \"0.5.0.convs.1.0.weight\", \"0.5.0.convs.1.1.weight\", \"0.5.0.convs.1.1.bias\", \"0.5.0.convs.1.1.running_mean\", \"0.5.0.convs.1.1.running_var\", \"0.5.0.convs.1.1.num_batches_tracked\", \"0.5.0.convpath.0.0.0.weight\", \"0.5.0.convpath.0.0.1.weight\", \"0.5.0.convpath.0.0.1.bias\", \"0.5.0.convpath.0.0.1.running_mean\", \"0.5.0.convpath.0.0.1.running_var\", \"0.5.0.convpath.0.0.1.num_batches_tracked\", \"0.5.0.convpath.0.1.0.weight\", \"0.5.0.convpath.0.1.1.weight\", \"0.5.0.convpath.0.1.1.bias\", \"0.5.0.convpath.0.1.1.running_mean\", \"0.5.0.convpath.0.1.1.running_var\", \"0.5.0.convpath.0.1.1.num_batches_tracked\", \"0.5.1.convs.0.0.weight\", \"0.5.1.convs.0.1.weight\", \"0.5.1.convs.0.1.bias\", \"0.5.1.convs.0.1.running_mean\", \"0.5.1.convs.0.1.running_var\", \"0.5.1.convs.0.1.num_batches_tracked\", \"0.5.1.convs.1.0.weight\", \"0.5.1.convs.1.1.weight\", \"0.5.1.convs.1.1.bias\", \"0.5.1.convs.1.1.running_mean\", \"0.5.1.convs.1.1.running_var\", \"0.5.1.convs.1.1.num_batches_tracked\", \"0.5.1.convpath.0.0.0.weight\", \"0.5.1.convpath.0.0.1.weight\", \"0.5.1.convpath.0.0.1.bias\", \"0.5.1.convpath.0.0.1.running_mean\", \"0.5.1.convpath.0.0.1.running_var\", \"0.5.1.convpath.0.0.1.num_batches_tracked\", \"0.5.1.convpath.0.1.0.weight\", \"0.5.1.convpath.0.1.1.weight\", \"0.5.1.convpath.0.1.1.bias\", \"0.5.1.convpath.0.1.1.running_mean\", \"0.5.1.convpath.0.1.1.running_var\", \"0.5.1.convpath.0.1.1.num_batches_tracked\", \"0.6.0.convs.0.0.weight\", \"0.6.0.convs.0.1.weight\", \"0.6.0.convs.0.1.bias\", \"0.6.0.convs.0.1.running_mean\", \"0.6.0.convs.0.1.running_var\", \"0.6.0.convs.0.1.num_batches_tracked\", \"0.6.0.convs.1.0.weight\", \"0.6.0.convs.1.1.weight\", \"0.6.0.convs.1.1.bias\", \"0.6.0.convs.1.1.running_mean\", \"0.6.0.convs.1.1.running_var\", \"0.6.0.convs.1.1.num_batches_tracked\", \"0.6.0.convpath.0.0.0.weight\", \"0.6.0.convpath.0.0.1.weight\", \"0.6.0.convpath.0.0.1.bias\", \"0.6.0.convpath.0.0.1.running_mean\", \"0.6.0.convpath.0.0.1.running_var\", \"0.6.0.convpath.0.0.1.num_batches_tracked\", \"0.6.0.convpath.0.1.0.weight\", \"0.6.0.convpath.0.1.1.weight\", \"0.6.0.convpath.0.1.1.bias\", \"0.6.0.convpath.0.1.1.running_mean\", \"0.6.0.convpath.0.1.1.running_var\", \"0.6.0.convpath.0.1.1.num_batches_tracked\", \"0.6.1.convs.0.0.weight\", \"0.6.1.convs.0.1.weight\", \"0.6.1.convs.0.1.bias\", \"0.6.1.convs.0.1.running_mean\", \"0.6.1.convs.0.1.running_var\", \"0.6.1.convs.0.1.num_batches_tracked\", \"0.6.1.convs.1.0.weight\", \"0.6.1.convs.1.1.weight\", \"0.6.1.convs.1.1.bias\", \"0.6.1.convs.1.1.running_mean\", \"0.6.1.convs.1.1.running_var\", \"0.6.1.convs.1.1.num_batches_tracked\", \"0.6.1.convpath.0.0.0.weight\", \"0.6.1.convpath.0.0.1.weight\", \"0.6.1.convpath.0.0.1.bias\", \"0.6.1.convpath.0.0.1.running_mean\", \"0.6.1.convpath.0.0.1.running_var\", \"0.6.1.convpath.0.0.1.num_batches_tracked\", \"0.6.1.convpath.0.1.0.weight\", \"0.6.1.convpath.0.1.1.weight\", \"0.6.1.convpath.0.1.1.bias\", \"0.6.1.convpath.0.1.1.running_mean\", \"0.6.1.convpath.0.1.1.running_var\", \"0.6.1.convpath.0.1.1.num_batches_tracked\", \"0.7.0.convs.0.0.weight\", \"0.7.0.convs.0.1.weight\", \"0.7.0.convs.0.1.bias\", \"0.7.0.convs.0.1.running_mean\", \"0.7.0.convs.0.1.running_var\", \"0.7.0.convs.0.1.num_batches_tracked\", \"0.7.0.convs.1.0.weight\", \"0.7.0.convs.1.1.weight\", \"0.7.0.convs.1.1.bias\", \"0.7.0.convs.1.1.running_mean\", \"0.7.0.convs.1.1.running_var\", \"0.7.0.convs.1.1.num_batches_tracked\", \"0.7.0.convpath.0.0.0.weight\", \"0.7.0.convpath.0.0.1.weight\", \"0.7.0.convpath.0.0.1.bias\", \"0.7.0.convpath.0.0.1.running_mean\", \"0.7.0.convpath.0.0.1.running_var\", \"0.7.0.convpath.0.0.1.num_batches_tracked\", \"0.7.0.convpath.0.1.0.weight\", \"0.7.0.convpath.0.1.1.weight\", \"0.7.0.convpath.0.1.1.bias\", \"0.7.0.convpath.0.1.1.running_mean\", \"0.7.0.convpath.0.1.1.running_var\", \"0.7.0.convpath.0.1.1.num_batches_tracked\", \"0.7.1.convs.0.0.weight\", \"0.7.1.convs.0.1.weight\", \"0.7.1.convs.0.1.bias\", \"0.7.1.convs.0.1.running_mean\", \"0.7.1.convs.0.1.running_var\", \"0.7.1.convs.0.1.num_batches_tracked\", \"0.7.1.convs.1.0.weight\", \"0.7.1.convs.1.1.weight\", \"0.7.1.convs.1.1.bias\", \"0.7.1.convs.1.1.running_mean\", \"0.7.1.convs.1.1.running_var\", \"0.7.1.convs.1.1.num_batches_tracked\", \"0.7.1.convpath.0.0.0.weight\", \"0.7.1.convpath.0.0.1.weight\", \"0.7.1.convpath.0.0.1.bias\", \"0.7.1.convpath.0.0.1.running_mean\", \"0.7.1.convpath.0.0.1.running_var\", \"0.7.1.convpath.0.0.1.num_batches_tracked\", \"0.7.1.convpath.0.1.0.weight\", \"0.7.1.convpath.0.1.1.weight\", \"0.7.1.convpath.0.1.1.bias\", \"0.7.1.convpath.0.1.1.running_mean\", \"0.7.1.convpath.0.1.1.running_var\", \"0.7.1.convpath.0.1.1.num_batches_tracked\", \"1.2.weight\", \"1.2.bias\", \"1.2.running_mean\", \"1.2.running_var\", \"1.2.num_batches_tracked\", \"1.3.weight\". "
     ]
    }
   ],
   "source": [
    "learn.load(f'runs/baseline_any_xresnet18-3-full', strict=True)"
   ]
  },
  {
   "cell_type": "code",
   "execution_count": 9,
   "metadata": {},
   "outputs": [
    {
     "data": {
      "text/plain": [
       "Sequential(\n",
       "  (0): Sequential(\n",
       "    (0): ConvLayer(\n",
       "      (0): Conv2d(3, 32, kernel_size=(3, 3), stride=(2, 2), padding=(1, 1), bias=False)\n",
       "      (1): BatchNorm2d(32, eps=1e-05, momentum=0.1, affine=True, track_running_stats=True)\n",
       "      (2): ReLU()\n",
       "    )\n",
       "    (1): ConvLayer(\n",
       "      (0): Conv2d(32, 32, kernel_size=(3, 3), stride=(1, 1), padding=(1, 1), bias=False)\n",
       "      (1): BatchNorm2d(32, eps=1e-05, momentum=0.1, affine=True, track_running_stats=True)\n",
       "      (2): ReLU()\n",
       "    )\n",
       "    (2): ConvLayer(\n",
       "      (0): Conv2d(32, 64, kernel_size=(3, 3), stride=(1, 1), padding=(1, 1), bias=False)\n",
       "      (1): BatchNorm2d(64, eps=1e-05, momentum=0.1, affine=True, track_running_stats=True)\n",
       "      (2): ReLU()\n",
       "    )\n",
       "    (3): MaxPool2d(kernel_size=3, stride=2, padding=1, dilation=1, ceil_mode=False)\n",
       "    (4): Sequential(\n",
       "      (0): ResBlock(\n",
       "        (convpath): Sequential(\n",
       "          (0): ConvLayer(\n",
       "            (0): Conv2d(64, 64, kernel_size=(3, 3), stride=(1, 1), padding=(1, 1), bias=False)\n",
       "            (1): BatchNorm2d(64, eps=1e-05, momentum=0.1, affine=True, track_running_stats=True)\n",
       "            (2): ReLU()\n",
       "          )\n",
       "          (1): ConvLayer(\n",
       "            (0): Conv2d(64, 64, kernel_size=(3, 3), stride=(1, 1), padding=(1, 1), bias=False)\n",
       "            (1): BatchNorm2d(64, eps=1e-05, momentum=0.1, affine=True, track_running_stats=True)\n",
       "          )\n",
       "        )\n",
       "        (idpath): Sequential()\n",
       "        (act): ReLU(inplace=True)\n",
       "      )\n",
       "      (1): ResBlock(\n",
       "        (convpath): Sequential(\n",
       "          (0): ConvLayer(\n",
       "            (0): Conv2d(64, 64, kernel_size=(3, 3), stride=(1, 1), padding=(1, 1), bias=False)\n",
       "            (1): BatchNorm2d(64, eps=1e-05, momentum=0.1, affine=True, track_running_stats=True)\n",
       "            (2): ReLU()\n",
       "          )\n",
       "          (1): ConvLayer(\n",
       "            (0): Conv2d(64, 64, kernel_size=(3, 3), stride=(1, 1), padding=(1, 1), bias=False)\n",
       "            (1): BatchNorm2d(64, eps=1e-05, momentum=0.1, affine=True, track_running_stats=True)\n",
       "          )\n",
       "        )\n",
       "        (idpath): Sequential()\n",
       "        (act): ReLU(inplace=True)\n",
       "      )\n",
       "    )\n",
       "    (5): Sequential(\n",
       "      (0): ResBlock(\n",
       "        (convpath): Sequential(\n",
       "          (0): ConvLayer(\n",
       "            (0): Conv2d(64, 128, kernel_size=(3, 3), stride=(2, 2), padding=(1, 1), bias=False)\n",
       "            (1): BatchNorm2d(128, eps=1e-05, momentum=0.1, affine=True, track_running_stats=True)\n",
       "            (2): ReLU()\n",
       "          )\n",
       "          (1): ConvLayer(\n",
       "            (0): Conv2d(128, 128, kernel_size=(3, 3), stride=(1, 1), padding=(1, 1), bias=False)\n",
       "            (1): BatchNorm2d(128, eps=1e-05, momentum=0.1, affine=True, track_running_stats=True)\n",
       "          )\n",
       "        )\n",
       "        (idpath): Sequential(\n",
       "          (0): AvgPool2d(kernel_size=2, stride=2, padding=0)\n",
       "          (1): ConvLayer(\n",
       "            (0): Conv2d(64, 128, kernel_size=(1, 1), stride=(1, 1), bias=False)\n",
       "            (1): BatchNorm2d(128, eps=1e-05, momentum=0.1, affine=True, track_running_stats=True)\n",
       "          )\n",
       "        )\n",
       "        (act): ReLU(inplace=True)\n",
       "      )\n",
       "      (1): ResBlock(\n",
       "        (convpath): Sequential(\n",
       "          (0): ConvLayer(\n",
       "            (0): Conv2d(128, 128, kernel_size=(3, 3), stride=(1, 1), padding=(1, 1), bias=False)\n",
       "            (1): BatchNorm2d(128, eps=1e-05, momentum=0.1, affine=True, track_running_stats=True)\n",
       "            (2): ReLU()\n",
       "          )\n",
       "          (1): ConvLayer(\n",
       "            (0): Conv2d(128, 128, kernel_size=(3, 3), stride=(1, 1), padding=(1, 1), bias=False)\n",
       "            (1): BatchNorm2d(128, eps=1e-05, momentum=0.1, affine=True, track_running_stats=True)\n",
       "          )\n",
       "        )\n",
       "        (idpath): Sequential()\n",
       "        (act): ReLU(inplace=True)\n",
       "      )\n",
       "    )\n",
       "    (6): Sequential(\n",
       "      (0): ResBlock(\n",
       "        (convpath): Sequential(\n",
       "          (0): ConvLayer(\n",
       "            (0): Conv2d(128, 256, kernel_size=(3, 3), stride=(2, 2), padding=(1, 1), bias=False)\n",
       "            (1): BatchNorm2d(256, eps=1e-05, momentum=0.1, affine=True, track_running_stats=True)\n",
       "            (2): ReLU()\n",
       "          )\n",
       "          (1): ConvLayer(\n",
       "            (0): Conv2d(256, 256, kernel_size=(3, 3), stride=(1, 1), padding=(1, 1), bias=False)\n",
       "            (1): BatchNorm2d(256, eps=1e-05, momentum=0.1, affine=True, track_running_stats=True)\n",
       "          )\n",
       "        )\n",
       "        (idpath): Sequential(\n",
       "          (0): AvgPool2d(kernel_size=2, stride=2, padding=0)\n",
       "          (1): ConvLayer(\n",
       "            (0): Conv2d(128, 256, kernel_size=(1, 1), stride=(1, 1), bias=False)\n",
       "            (1): BatchNorm2d(256, eps=1e-05, momentum=0.1, affine=True, track_running_stats=True)\n",
       "          )\n",
       "        )\n",
       "        (act): ReLU(inplace=True)\n",
       "      )\n",
       "      (1): ResBlock(\n",
       "        (convpath): Sequential(\n",
       "          (0): ConvLayer(\n",
       "            (0): Conv2d(256, 256, kernel_size=(3, 3), stride=(1, 1), padding=(1, 1), bias=False)\n",
       "            (1): BatchNorm2d(256, eps=1e-05, momentum=0.1, affine=True, track_running_stats=True)\n",
       "            (2): ReLU()\n",
       "          )\n",
       "          (1): ConvLayer(\n",
       "            (0): Conv2d(256, 256, kernel_size=(3, 3), stride=(1, 1), padding=(1, 1), bias=False)\n",
       "            (1): BatchNorm2d(256, eps=1e-05, momentum=0.1, affine=True, track_running_stats=True)\n",
       "          )\n",
       "        )\n",
       "        (idpath): Sequential()\n",
       "        (act): ReLU(inplace=True)\n",
       "      )\n",
       "    )\n",
       "    (7): Sequential(\n",
       "      (0): ResBlock(\n",
       "        (convpath): Sequential(\n",
       "          (0): ConvLayer(\n",
       "            (0): Conv2d(256, 512, kernel_size=(3, 3), stride=(2, 2), padding=(1, 1), bias=False)\n",
       "            (1): BatchNorm2d(512, eps=1e-05, momentum=0.1, affine=True, track_running_stats=True)\n",
       "            (2): ReLU()\n",
       "          )\n",
       "          (1): ConvLayer(\n",
       "            (0): Conv2d(512, 512, kernel_size=(3, 3), stride=(1, 1), padding=(1, 1), bias=False)\n",
       "            (1): BatchNorm2d(512, eps=1e-05, momentum=0.1, affine=True, track_running_stats=True)\n",
       "          )\n",
       "        )\n",
       "        (idpath): Sequential(\n",
       "          (0): AvgPool2d(kernel_size=2, stride=2, padding=0)\n",
       "          (1): ConvLayer(\n",
       "            (0): Conv2d(256, 512, kernel_size=(1, 1), stride=(1, 1), bias=False)\n",
       "            (1): BatchNorm2d(512, eps=1e-05, momentum=0.1, affine=True, track_running_stats=True)\n",
       "          )\n",
       "        )\n",
       "        (act): ReLU(inplace=True)\n",
       "      )\n",
       "      (1): ResBlock(\n",
       "        (convpath): Sequential(\n",
       "          (0): ConvLayer(\n",
       "            (0): Conv2d(512, 512, kernel_size=(3, 3), stride=(1, 1), padding=(1, 1), bias=False)\n",
       "            (1): BatchNorm2d(512, eps=1e-05, momentum=0.1, affine=True, track_running_stats=True)\n",
       "            (2): ReLU()\n",
       "          )\n",
       "          (1): ConvLayer(\n",
       "            (0): Conv2d(512, 512, kernel_size=(3, 3), stride=(1, 1), padding=(1, 1), bias=False)\n",
       "            (1): BatchNorm2d(512, eps=1e-05, momentum=0.1, affine=True, track_running_stats=True)\n",
       "          )\n",
       "        )\n",
       "        (idpath): Sequential()\n",
       "        (act): ReLU(inplace=True)\n",
       "      )\n",
       "    )\n",
       "  )\n",
       "  (1): Sequential(\n",
       "    (0): Batchify()\n",
       "    (1): ConvLayer(\n",
       "      (0): Conv3d(512, 256, kernel_size=(5, 3, 3), stride=(1, 2, 2), padding=(2, 1, 1), bias=False)\n",
       "      (1): BatchNorm3d(256, eps=1e-05, momentum=0.1, affine=True, track_running_stats=True)\n",
       "      (2): ReLU()\n",
       "    )\n",
       "    (2): ConvLayer(\n",
       "      (0): Conv3d(256, 128, kernel_size=(5, 3, 3), stride=(1, 2, 2), padding=(2, 1, 1), bias=False)\n",
       "      (1): BatchNorm3d(128, eps=1e-05, momentum=0.1, affine=True, track_running_stats=True)\n",
       "      (2): ReLU()\n",
       "    )\n",
       "    (3): ConvLayer(\n",
       "      (0): Conv3d(128, 64, kernel_size=(5, 3, 3), stride=(1, 2, 2), padding=(2, 1, 1), bias=False)\n",
       "      (1): BatchNorm3d(64, eps=1e-05, momentum=0.1, affine=True, track_running_stats=True)\n",
       "      (2): ReLU()\n",
       "    )\n",
       "    (4): DeBatchify()\n",
       "    (5): AdaptiveConcatPool2d(\n",
       "      (ap): AdaptiveAvgPool2d(output_size=1)\n",
       "      (mp): AdaptiveMaxPool2d(output_size=1)\n",
       "    )\n",
       "    (6): full: False\n",
       "    (7): Linear(in_features=128, out_features=6, bias=True)\n",
       "  )\n",
       ")"
      ]
     },
     "execution_count": 9,
     "metadata": {},
     "output_type": "execute_result"
    }
   ],
   "source": [
    "learn.model"
   ]
  },
  {
   "cell_type": "code",
   "execution_count": 10,
   "metadata": {},
   "outputs": [],
   "source": [
    "# learn.summary()"
   ]
  },
  {
   "cell_type": "markdown",
   "metadata": {},
   "source": [
    "## Training"
   ]
  },
  {
   "cell_type": "code",
   "execution_count": 11,
   "metadata": {},
   "outputs": [],
   "source": [
    "name = 'train3d_baseline'"
   ]
  },
  {
   "cell_type": "code",
   "execution_count": null,
   "metadata": {},
   "outputs": [
    {
     "data": {
      "text/html": [
       "\n",
       "    <div>\n",
       "        <style>\n",
       "            /* Turns off some styling */\n",
       "            progress {\n",
       "                /* gets rid of default border in Firefox and Opera. */\n",
       "                border: none;\n",
       "                /* Needs to be in here for Safari polyfill so background images work as expected. */\n",
       "                background-size: auto;\n",
       "            }\n",
       "            .progress-bar-interrupted, .progress-bar-interrupted::-webkit-progress-bar {\n",
       "                background: #F44336;\n",
       "            }\n",
       "        </style>\n",
       "      <progress value='0' class='' max='1', style='width:300px; height:20px; vertical-align: middle;'></progress>\n",
       "      0.00% [0/1 00:00<00:00]\n",
       "    </div>\n",
       "    \n",
       "\n",
       "\n",
       "    <div>\n",
       "        <style>\n",
       "            /* Turns off some styling */\n",
       "            progress {\n",
       "                /* gets rid of default border in Firefox and Opera. */\n",
       "                border: none;\n",
       "                /* Needs to be in here for Safari polyfill so background images work as expected. */\n",
       "                background-size: auto;\n",
       "            }\n",
       "            .progress-bar-interrupted, .progress-bar-interrupted::-webkit-progress-bar {\n",
       "                background: #F44336;\n",
       "            }\n",
       "        </style>\n",
       "      <progress value='19' class='' max='777', style='width:300px; height:20px; vertical-align: middle;'></progress>\n",
       "      2.45% [19/777 01:32<1:01:43 0.7618]\n",
       "    </div>\n",
       "    "
      ],
      "text/plain": [
       "<IPython.core.display.HTML object>"
      ]
     },
     "metadata": {},
     "output_type": "display_data"
    }
   ],
   "source": [
    "# learn.lr_find()"
   ]
  },
  {
   "cell_type": "code",
   "execution_count": 12,
   "metadata": {
    "scrolled": true
   },
   "outputs": [
    {
     "data": {
      "text/html": [
       "<table border=\"1\" class=\"dataframe\">\n",
       "  <thead>\n",
       "    <tr style=\"text-align: left;\">\n",
       "      <th>epoch</th>\n",
       "      <th>train_loss</th>\n",
       "      <th>valid_loss</th>\n",
       "      <th>accuracy_multi</th>\n",
       "      <th>accuracy_any</th>\n",
       "      <th>time</th>\n",
       "    </tr>\n",
       "  </thead>\n",
       "  <tbody>\n",
       "    <tr>\n",
       "      <td>0</td>\n",
       "      <td>0.239114</td>\n",
       "      <td>0.265494</td>\n",
       "      <td>0.900234</td>\n",
       "      <td>0.821428</td>\n",
       "      <td>12:38</td>\n",
       "    </tr>\n",
       "    <tr>\n",
       "      <td>1</td>\n",
       "      <td>0.203959</td>\n",
       "      <td>0.223500</td>\n",
       "      <td>0.917494</td>\n",
       "      <td>0.849477</td>\n",
       "      <td>12:00</td>\n",
       "    </tr>\n",
       "    <tr>\n",
       "      <td>2</td>\n",
       "      <td>0.194068</td>\n",
       "      <td>0.186622</td>\n",
       "      <td>0.931219</td>\n",
       "      <td>0.882135</td>\n",
       "      <td>11:55</td>\n",
       "    </tr>\n",
       "    <tr>\n",
       "      <td>3</td>\n",
       "      <td>0.173744</td>\n",
       "      <td>0.175737</td>\n",
       "      <td>0.935924</td>\n",
       "      <td>0.891193</td>\n",
       "      <td>11:54</td>\n",
       "    </tr>\n",
       "    <tr>\n",
       "      <td>4</td>\n",
       "      <td>0.158361</td>\n",
       "      <td>09:53</td>\n",
       "    </tr>\n",
       "  </tbody>\n",
       "</table>"
      ],
      "text/plain": [
       "<IPython.core.display.HTML object>"
      ]
     },
     "metadata": {},
     "output_type": "display_data"
    },
    {
     "ename": "KeyboardInterrupt",
     "evalue": "",
     "output_type": "error",
     "traceback": [
      "\u001b[0;31m---------------------------------------------------------------------------\u001b[0m",
      "\u001b[0;31mKeyboardInterrupt\u001b[0m                         Traceback (most recent call last)",
      "\u001b[0;32m<ipython-input-12-07790a6f5834>\u001b[0m in \u001b[0;36m<module>\u001b[0;34m\u001b[0m\n\u001b[0;32m----> 1\u001b[0;31m \u001b[0mdo_fit\u001b[0m\u001b[0;34m(\u001b[0m\u001b[0mlearn\u001b[0m\u001b[0;34m,\u001b[0m \u001b[0;36m6\u001b[0m\u001b[0;34m,\u001b[0m \u001b[0;36m1e-2\u001b[0m\u001b[0;34m,\u001b[0m \u001b[0mfreeze\u001b[0m\u001b[0;34m=\u001b[0m\u001b[0;32mFalse\u001b[0m\u001b[0;34m)\u001b[0m\u001b[0;34m\u001b[0m\u001b[0;34m\u001b[0m\u001b[0m\n\u001b[0m\u001b[1;32m      2\u001b[0m \u001b[0mlearn\u001b[0m\u001b[0;34m.\u001b[0m\u001b[0msave\u001b[0m\u001b[0;34m(\u001b[0m\u001b[0;34mf'runs/{name}-1'\u001b[0m\u001b[0;34m)\u001b[0m\u001b[0;34m\u001b[0m\u001b[0;34m\u001b[0m\u001b[0m\n",
      "\u001b[0;32m~/kaggle/rsna_retro/rsna_retro/train.py\u001b[0m in \u001b[0;36mdo_fit\u001b[0;34m(learn, epochs, lr, freeze, do_slice, **kwargs)\u001b[0m\n\u001b[1;32m     86\u001b[0m         \u001b[0mlearn\u001b[0m\u001b[0;34m.\u001b[0m\u001b[0mfit_one_cycle\u001b[0m\u001b[0;34m(\u001b[0m\u001b[0;36m1\u001b[0m\u001b[0;34m,\u001b[0m \u001b[0mlr\u001b[0m\u001b[0;34m,\u001b[0m \u001b[0mdiv\u001b[0m\u001b[0;34m=\u001b[0m\u001b[0;36m2\u001b[0m\u001b[0;34m,\u001b[0m \u001b[0mdiv_final\u001b[0m\u001b[0;34m=\u001b[0m\u001b[0;36m1\u001b[0m\u001b[0;34m,\u001b[0m \u001b[0mpct_start\u001b[0m\u001b[0;34m=\u001b[0m\u001b[0;36m0.1\u001b[0m\u001b[0;34m)\u001b[0m\u001b[0;34m\u001b[0m\u001b[0;34m\u001b[0m\u001b[0m\n\u001b[1;32m     87\u001b[0m     \u001b[0mlearn\u001b[0m\u001b[0;34m.\u001b[0m\u001b[0munfreeze\u001b[0m\u001b[0;34m(\u001b[0m\u001b[0;34m)\u001b[0m\u001b[0;34m\u001b[0m\u001b[0;34m\u001b[0m\u001b[0m\n\u001b[0;32m---> 88\u001b[0;31m     \u001b[0mlearn\u001b[0m\u001b[0;34m.\u001b[0m\u001b[0mfit_one_cycle\u001b[0m\u001b[0;34m(\u001b[0m\u001b[0mepochs\u001b[0m\u001b[0;34m,\u001b[0m \u001b[0mlr\u001b[0m\u001b[0;34m,\u001b[0m \u001b[0;34m**\u001b[0m\u001b[0mkwargs\u001b[0m\u001b[0;34m)\u001b[0m\u001b[0;34m\u001b[0m\u001b[0;34m\u001b[0m\u001b[0m\n\u001b[0m\u001b[1;32m     89\u001b[0m \u001b[0;34m\u001b[0m\u001b[0m\n\u001b[1;32m     90\u001b[0m \u001b[0;31m#Cell\u001b[0m\u001b[0;34m\u001b[0m\u001b[0;34m\u001b[0m\u001b[0;34m\u001b[0m\u001b[0m\n",
      "\u001b[0;32m~/fastai2/fastai2/callback/schedule.py\u001b[0m in \u001b[0;36mfit_one_cycle\u001b[0;34m(self, n_epoch, lr_max, div, div_final, pct_start, wd, moms, cbs, reset_opt)\u001b[0m\n\u001b[1;32m     88\u001b[0m     scheds = {'lr': combined_cos(pct_start, lr_max/div, lr_max, lr_max/div_final),\n\u001b[1;32m     89\u001b[0m               'mom': combined_cos(pct_start, *moms)}\n\u001b[0;32m---> 90\u001b[0;31m     \u001b[0mself\u001b[0m\u001b[0;34m.\u001b[0m\u001b[0mfit\u001b[0m\u001b[0;34m(\u001b[0m\u001b[0mn_epoch\u001b[0m\u001b[0;34m,\u001b[0m \u001b[0mcbs\u001b[0m\u001b[0;34m=\u001b[0m\u001b[0mParamScheduler\u001b[0m\u001b[0;34m(\u001b[0m\u001b[0mscheds\u001b[0m\u001b[0;34m)\u001b[0m\u001b[0;34m+\u001b[0m\u001b[0mL\u001b[0m\u001b[0;34m(\u001b[0m\u001b[0mcbs\u001b[0m\u001b[0;34m)\u001b[0m\u001b[0;34m,\u001b[0m \u001b[0mreset_opt\u001b[0m\u001b[0;34m=\u001b[0m\u001b[0mreset_opt\u001b[0m\u001b[0;34m,\u001b[0m \u001b[0mwd\u001b[0m\u001b[0;34m=\u001b[0m\u001b[0mwd\u001b[0m\u001b[0;34m)\u001b[0m\u001b[0;34m\u001b[0m\u001b[0;34m\u001b[0m\u001b[0m\n\u001b[0m\u001b[1;32m     91\u001b[0m \u001b[0;34m\u001b[0m\u001b[0m\n\u001b[1;32m     92\u001b[0m \u001b[0;31m# Cell\u001b[0m\u001b[0;34m\u001b[0m\u001b[0;34m\u001b[0m\u001b[0;34m\u001b[0m\u001b[0m\n",
      "\u001b[0;32m~/fastai2/fastai2/learner.py\u001b[0m in \u001b[0;36mfit\u001b[0;34m(self, n_epoch, lr, wd, cbs, reset_opt)\u001b[0m\n\u001b[1;32m    286\u001b[0m                     \u001b[0;32mtry\u001b[0m\u001b[0;34m:\u001b[0m\u001b[0;34m\u001b[0m\u001b[0;34m\u001b[0m\u001b[0m\n\u001b[1;32m    287\u001b[0m                         \u001b[0mself\u001b[0m\u001b[0;34m.\u001b[0m\u001b[0mepoch\u001b[0m\u001b[0;34m=\u001b[0m\u001b[0mepoch\u001b[0m\u001b[0;34m;\u001b[0m          \u001b[0mself\u001b[0m\u001b[0;34m(\u001b[0m\u001b[0;34m'begin_epoch'\u001b[0m\u001b[0;34m)\u001b[0m\u001b[0;34m\u001b[0m\u001b[0;34m\u001b[0m\u001b[0m\n\u001b[0;32m--> 288\u001b[0;31m                         \u001b[0mself\u001b[0m\u001b[0;34m.\u001b[0m\u001b[0m_do_epoch_train\u001b[0m\u001b[0;34m(\u001b[0m\u001b[0;34m)\u001b[0m\u001b[0;34m\u001b[0m\u001b[0;34m\u001b[0m\u001b[0m\n\u001b[0m\u001b[1;32m    289\u001b[0m                         \u001b[0mself\u001b[0m\u001b[0;34m.\u001b[0m\u001b[0m_do_epoch_validate\u001b[0m\u001b[0;34m(\u001b[0m\u001b[0;34m)\u001b[0m\u001b[0;34m\u001b[0m\u001b[0;34m\u001b[0m\u001b[0m\n\u001b[1;32m    290\u001b[0m                     \u001b[0;32mexcept\u001b[0m \u001b[0mCancelEpochException\u001b[0m\u001b[0;34m:\u001b[0m   \u001b[0mself\u001b[0m\u001b[0;34m(\u001b[0m\u001b[0;34m'after_cancel_epoch'\u001b[0m\u001b[0;34m)\u001b[0m\u001b[0;34m\u001b[0m\u001b[0;34m\u001b[0m\u001b[0m\n",
      "\u001b[0;32m~/fastai2/fastai2/learner.py\u001b[0m in \u001b[0;36m_do_epoch_train\u001b[0;34m(self)\u001b[0m\n\u001b[1;32m    261\u001b[0m         \u001b[0;32mtry\u001b[0m\u001b[0;34m:\u001b[0m\u001b[0;34m\u001b[0m\u001b[0;34m\u001b[0m\u001b[0m\n\u001b[1;32m    262\u001b[0m             \u001b[0mself\u001b[0m\u001b[0;34m.\u001b[0m\u001b[0mdl\u001b[0m \u001b[0;34m=\u001b[0m \u001b[0mself\u001b[0m\u001b[0;34m.\u001b[0m\u001b[0mdbunch\u001b[0m\u001b[0;34m.\u001b[0m\u001b[0mtrain_dl\u001b[0m\u001b[0;34m;\u001b[0m                  \u001b[0mself\u001b[0m\u001b[0;34m(\u001b[0m\u001b[0;34m'begin_train'\u001b[0m\u001b[0;34m)\u001b[0m\u001b[0;34m\u001b[0m\u001b[0;34m\u001b[0m\u001b[0m\n\u001b[0;32m--> 263\u001b[0;31m             \u001b[0mself\u001b[0m\u001b[0;34m.\u001b[0m\u001b[0mall_batches\u001b[0m\u001b[0;34m(\u001b[0m\u001b[0;34m)\u001b[0m\u001b[0;34m\u001b[0m\u001b[0;34m\u001b[0m\u001b[0m\n\u001b[0m\u001b[1;32m    264\u001b[0m         \u001b[0;32mexcept\u001b[0m \u001b[0mCancelTrainException\u001b[0m\u001b[0;34m:\u001b[0m                         \u001b[0mself\u001b[0m\u001b[0;34m(\u001b[0m\u001b[0;34m'after_cancel_train'\u001b[0m\u001b[0;34m)\u001b[0m\u001b[0;34m\u001b[0m\u001b[0;34m\u001b[0m\u001b[0m\n\u001b[1;32m    265\u001b[0m         \u001b[0;32mfinally\u001b[0m\u001b[0;34m:\u001b[0m                                             \u001b[0mself\u001b[0m\u001b[0;34m(\u001b[0m\u001b[0;34m'after_train'\u001b[0m\u001b[0;34m)\u001b[0m\u001b[0;34m\u001b[0m\u001b[0;34m\u001b[0m\u001b[0m\n",
      "\u001b[0;32m~/fastai2/fastai2/learner.py\u001b[0m in \u001b[0;36mall_batches\u001b[0;34m(self)\u001b[0m\n\u001b[1;32m    239\u001b[0m     \u001b[0;32mdef\u001b[0m \u001b[0mall_batches\u001b[0m\u001b[0;34m(\u001b[0m\u001b[0mself\u001b[0m\u001b[0;34m)\u001b[0m\u001b[0;34m:\u001b[0m\u001b[0;34m\u001b[0m\u001b[0;34m\u001b[0m\u001b[0m\n\u001b[1;32m    240\u001b[0m         \u001b[0mself\u001b[0m\u001b[0;34m.\u001b[0m\u001b[0mn_iter\u001b[0m \u001b[0;34m=\u001b[0m \u001b[0mlen\u001b[0m\u001b[0;34m(\u001b[0m\u001b[0mself\u001b[0m\u001b[0;34m.\u001b[0m\u001b[0mdl\u001b[0m\u001b[0;34m)\u001b[0m\u001b[0;34m\u001b[0m\u001b[0;34m\u001b[0m\u001b[0m\n\u001b[0;32m--> 241\u001b[0;31m         \u001b[0;32mfor\u001b[0m \u001b[0mo\u001b[0m \u001b[0;32min\u001b[0m \u001b[0menumerate\u001b[0m\u001b[0;34m(\u001b[0m\u001b[0mself\u001b[0m\u001b[0;34m.\u001b[0m\u001b[0mdl\u001b[0m\u001b[0;34m)\u001b[0m\u001b[0;34m:\u001b[0m \u001b[0mself\u001b[0m\u001b[0;34m.\u001b[0m\u001b[0mone_batch\u001b[0m\u001b[0;34m(\u001b[0m\u001b[0;34m*\u001b[0m\u001b[0mo\u001b[0m\u001b[0;34m)\u001b[0m\u001b[0;34m\u001b[0m\u001b[0;34m\u001b[0m\u001b[0m\n\u001b[0m\u001b[1;32m    242\u001b[0m \u001b[0;34m\u001b[0m\u001b[0m\n\u001b[1;32m    243\u001b[0m     \u001b[0;32mdef\u001b[0m \u001b[0mone_batch\u001b[0m\u001b[0;34m(\u001b[0m\u001b[0mself\u001b[0m\u001b[0;34m,\u001b[0m \u001b[0mi\u001b[0m\u001b[0;34m,\u001b[0m \u001b[0mb\u001b[0m\u001b[0;34m)\u001b[0m\u001b[0;34m:\u001b[0m\u001b[0;34m\u001b[0m\u001b[0;34m\u001b[0m\u001b[0m\n",
      "\u001b[0;32m~/fastai2/fastai2/learner.py\u001b[0m in \u001b[0;36mone_batch\u001b[0;34m(self, i, b)\u001b[0m\n\u001b[1;32m    245\u001b[0m         \u001b[0;32mtry\u001b[0m\u001b[0;34m:\u001b[0m\u001b[0;34m\u001b[0m\u001b[0;34m\u001b[0m\u001b[0m\n\u001b[1;32m    246\u001b[0m             \u001b[0mself\u001b[0m\u001b[0;34m.\u001b[0m\u001b[0m_split\u001b[0m\u001b[0;34m(\u001b[0m\u001b[0mb\u001b[0m\u001b[0;34m)\u001b[0m\u001b[0;34m;\u001b[0m                                  \u001b[0mself\u001b[0m\u001b[0;34m(\u001b[0m\u001b[0;34m'begin_batch'\u001b[0m\u001b[0;34m)\u001b[0m\u001b[0;34m\u001b[0m\u001b[0;34m\u001b[0m\u001b[0m\n\u001b[0;32m--> 247\u001b[0;31m             \u001b[0mself\u001b[0m\u001b[0;34m.\u001b[0m\u001b[0mpred\u001b[0m \u001b[0;34m=\u001b[0m \u001b[0mself\u001b[0m\u001b[0;34m.\u001b[0m\u001b[0mmodel\u001b[0m\u001b[0;34m(\u001b[0m\u001b[0;34m*\u001b[0m\u001b[0mself\u001b[0m\u001b[0;34m.\u001b[0m\u001b[0mxb\u001b[0m\u001b[0;34m)\u001b[0m\u001b[0;34m;\u001b[0m                \u001b[0mself\u001b[0m\u001b[0;34m(\u001b[0m\u001b[0;34m'after_pred'\u001b[0m\u001b[0;34m)\u001b[0m\u001b[0;34m\u001b[0m\u001b[0;34m\u001b[0m\u001b[0m\n\u001b[0m\u001b[1;32m    248\u001b[0m             \u001b[0;32mif\u001b[0m \u001b[0mlen\u001b[0m\u001b[0;34m(\u001b[0m\u001b[0mself\u001b[0m\u001b[0;34m.\u001b[0m\u001b[0myb\u001b[0m\u001b[0;34m)\u001b[0m \u001b[0;34m==\u001b[0m \u001b[0;36m0\u001b[0m\u001b[0;34m:\u001b[0m \u001b[0;32mreturn\u001b[0m\u001b[0;34m\u001b[0m\u001b[0;34m\u001b[0m\u001b[0m\n\u001b[1;32m    249\u001b[0m             \u001b[0mself\u001b[0m\u001b[0;34m.\u001b[0m\u001b[0mloss\u001b[0m \u001b[0;34m=\u001b[0m \u001b[0mself\u001b[0m\u001b[0;34m.\u001b[0m\u001b[0mloss_func\u001b[0m\u001b[0;34m(\u001b[0m\u001b[0mself\u001b[0m\u001b[0;34m.\u001b[0m\u001b[0mpred\u001b[0m\u001b[0;34m,\u001b[0m \u001b[0;34m*\u001b[0m\u001b[0mself\u001b[0m\u001b[0;34m.\u001b[0m\u001b[0myb\u001b[0m\u001b[0;34m)\u001b[0m\u001b[0;34m;\u001b[0m \u001b[0mself\u001b[0m\u001b[0;34m(\u001b[0m\u001b[0;34m'after_loss'\u001b[0m\u001b[0;34m)\u001b[0m\u001b[0;34m\u001b[0m\u001b[0;34m\u001b[0m\u001b[0m\n",
      "\u001b[0;32m~/fastai2/fastai2/learner.py\u001b[0m in \u001b[0;36m__call__\u001b[0;34m(self, event_name)\u001b[0m\n\u001b[1;32m    220\u001b[0m     \u001b[0;32mdef\u001b[0m \u001b[0mordered_cbs\u001b[0m\u001b[0;34m(\u001b[0m\u001b[0mself\u001b[0m\u001b[0;34m,\u001b[0m \u001b[0mcb_func\u001b[0m\u001b[0;34m:\u001b[0m\u001b[0mstr\u001b[0m\u001b[0;34m)\u001b[0m\u001b[0;34m:\u001b[0m \u001b[0;32mreturn\u001b[0m \u001b[0;34m[\u001b[0m\u001b[0mcb\u001b[0m \u001b[0;32mfor\u001b[0m \u001b[0mcb\u001b[0m \u001b[0;32min\u001b[0m \u001b[0msort_by_run\u001b[0m\u001b[0;34m(\u001b[0m\u001b[0mself\u001b[0m\u001b[0;34m.\u001b[0m\u001b[0mcbs\u001b[0m\u001b[0;34m)\u001b[0m \u001b[0;32mif\u001b[0m \u001b[0mhasattr\u001b[0m\u001b[0;34m(\u001b[0m\u001b[0mcb\u001b[0m\u001b[0;34m,\u001b[0m \u001b[0mcb_func\u001b[0m\u001b[0;34m)\u001b[0m\u001b[0;34m]\u001b[0m\u001b[0;34m\u001b[0m\u001b[0;34m\u001b[0m\u001b[0m\n\u001b[1;32m    221\u001b[0m \u001b[0;34m\u001b[0m\u001b[0m\n\u001b[0;32m--> 222\u001b[0;31m     \u001b[0;32mdef\u001b[0m \u001b[0m__call__\u001b[0m\u001b[0;34m(\u001b[0m\u001b[0mself\u001b[0m\u001b[0;34m,\u001b[0m \u001b[0mevent_name\u001b[0m\u001b[0;34m)\u001b[0m\u001b[0;34m:\u001b[0m \u001b[0mL\u001b[0m\u001b[0;34m(\u001b[0m\u001b[0mevent_name\u001b[0m\u001b[0;34m)\u001b[0m\u001b[0;34m.\u001b[0m\u001b[0mmap\u001b[0m\u001b[0;34m(\u001b[0m\u001b[0mself\u001b[0m\u001b[0;34m.\u001b[0m\u001b[0m_call_one\u001b[0m\u001b[0;34m)\u001b[0m\u001b[0;34m\u001b[0m\u001b[0;34m\u001b[0m\u001b[0m\n\u001b[0m\u001b[1;32m    223\u001b[0m     \u001b[0;32mdef\u001b[0m \u001b[0m_call_one\u001b[0m\u001b[0;34m(\u001b[0m\u001b[0mself\u001b[0m\u001b[0;34m,\u001b[0m \u001b[0mevent_name\u001b[0m\u001b[0;34m)\u001b[0m\u001b[0;34m:\u001b[0m\u001b[0;34m\u001b[0m\u001b[0;34m\u001b[0m\u001b[0m\n\u001b[1;32m    224\u001b[0m         \u001b[0;32massert\u001b[0m \u001b[0mhasattr\u001b[0m\u001b[0;34m(\u001b[0m\u001b[0mevent\u001b[0m\u001b[0;34m,\u001b[0m \u001b[0mevent_name\u001b[0m\u001b[0;34m)\u001b[0m\u001b[0;34m\u001b[0m\u001b[0;34m\u001b[0m\u001b[0m\n",
      "\u001b[0;32m~/anaconda3/envs/rsna_retro/lib/python3.7/site-packages/fastcore/foundation.py\u001b[0m in \u001b[0;36mmap\u001b[0;34m(self, f, *args, **kwargs)\u001b[0m\n\u001b[1;32m    360\u001b[0m              \u001b[0;32melse\u001b[0m \u001b[0mf\u001b[0m\u001b[0;34m.\u001b[0m\u001b[0mformat\u001b[0m \u001b[0;32mif\u001b[0m \u001b[0misinstance\u001b[0m\u001b[0;34m(\u001b[0m\u001b[0mf\u001b[0m\u001b[0;34m,\u001b[0m\u001b[0mstr\u001b[0m\u001b[0;34m)\u001b[0m\u001b[0;34m\u001b[0m\u001b[0;34m\u001b[0m\u001b[0m\n\u001b[1;32m    361\u001b[0m              else f.__getitem__)\n\u001b[0;32m--> 362\u001b[0;31m         \u001b[0;32mreturn\u001b[0m \u001b[0mself\u001b[0m\u001b[0;34m.\u001b[0m\u001b[0m_new\u001b[0m\u001b[0;34m(\u001b[0m\u001b[0mmap\u001b[0m\u001b[0;34m(\u001b[0m\u001b[0mg\u001b[0m\u001b[0;34m,\u001b[0m \u001b[0mself\u001b[0m\u001b[0;34m)\u001b[0m\u001b[0;34m)\u001b[0m\u001b[0;34m\u001b[0m\u001b[0;34m\u001b[0m\u001b[0m\n\u001b[0m\u001b[1;32m    363\u001b[0m \u001b[0;34m\u001b[0m\u001b[0m\n\u001b[1;32m    364\u001b[0m     \u001b[0;32mdef\u001b[0m \u001b[0mfilter\u001b[0m\u001b[0;34m(\u001b[0m\u001b[0mself\u001b[0m\u001b[0;34m,\u001b[0m \u001b[0mf\u001b[0m\u001b[0;34m,\u001b[0m \u001b[0mnegate\u001b[0m\u001b[0;34m=\u001b[0m\u001b[0;32mFalse\u001b[0m\u001b[0;34m,\u001b[0m \u001b[0;34m**\u001b[0m\u001b[0mkwargs\u001b[0m\u001b[0;34m)\u001b[0m\u001b[0;34m:\u001b[0m\u001b[0;34m\u001b[0m\u001b[0;34m\u001b[0m\u001b[0m\n",
      "\u001b[0;32m~/anaconda3/envs/rsna_retro/lib/python3.7/site-packages/fastcore/foundation.py\u001b[0m in \u001b[0;36m_new\u001b[0;34m(self, items, *args, **kwargs)\u001b[0m\n\u001b[1;32m    313\u001b[0m     \u001b[0;34m@\u001b[0m\u001b[0mproperty\u001b[0m\u001b[0;34m\u001b[0m\u001b[0;34m\u001b[0m\u001b[0m\n\u001b[1;32m    314\u001b[0m     \u001b[0;32mdef\u001b[0m \u001b[0m_xtra\u001b[0m\u001b[0;34m(\u001b[0m\u001b[0mself\u001b[0m\u001b[0;34m)\u001b[0m\u001b[0;34m:\u001b[0m \u001b[0;32mreturn\u001b[0m \u001b[0;32mNone\u001b[0m\u001b[0;34m\u001b[0m\u001b[0;34m\u001b[0m\u001b[0m\n\u001b[0;32m--> 315\u001b[0;31m     \u001b[0;32mdef\u001b[0m \u001b[0m_new\u001b[0m\u001b[0;34m(\u001b[0m\u001b[0mself\u001b[0m\u001b[0;34m,\u001b[0m \u001b[0mitems\u001b[0m\u001b[0;34m,\u001b[0m \u001b[0;34m*\u001b[0m\u001b[0margs\u001b[0m\u001b[0;34m,\u001b[0m \u001b[0;34m**\u001b[0m\u001b[0mkwargs\u001b[0m\u001b[0;34m)\u001b[0m\u001b[0;34m:\u001b[0m \u001b[0;32mreturn\u001b[0m \u001b[0mtype\u001b[0m\u001b[0;34m(\u001b[0m\u001b[0mself\u001b[0m\u001b[0;34m)\u001b[0m\u001b[0;34m(\u001b[0m\u001b[0mitems\u001b[0m\u001b[0;34m,\u001b[0m \u001b[0;34m*\u001b[0m\u001b[0margs\u001b[0m\u001b[0;34m,\u001b[0m \u001b[0muse_list\u001b[0m\u001b[0;34m=\u001b[0m\u001b[0;32mNone\u001b[0m\u001b[0;34m,\u001b[0m \u001b[0;34m**\u001b[0m\u001b[0mkwargs\u001b[0m\u001b[0;34m)\u001b[0m\u001b[0;34m\u001b[0m\u001b[0;34m\u001b[0m\u001b[0m\n\u001b[0m\u001b[1;32m    316\u001b[0m     \u001b[0;32mdef\u001b[0m \u001b[0m__getitem__\u001b[0m\u001b[0;34m(\u001b[0m\u001b[0mself\u001b[0m\u001b[0;34m,\u001b[0m \u001b[0midx\u001b[0m\u001b[0;34m)\u001b[0m\u001b[0;34m:\u001b[0m \u001b[0;32mreturn\u001b[0m \u001b[0mself\u001b[0m\u001b[0;34m.\u001b[0m\u001b[0m_get\u001b[0m\u001b[0;34m(\u001b[0m\u001b[0midx\u001b[0m\u001b[0;34m)\u001b[0m \u001b[0;32mif\u001b[0m \u001b[0mis_indexer\u001b[0m\u001b[0;34m(\u001b[0m\u001b[0midx\u001b[0m\u001b[0;34m)\u001b[0m \u001b[0;32melse\u001b[0m \u001b[0mL\u001b[0m\u001b[0;34m(\u001b[0m\u001b[0mself\u001b[0m\u001b[0;34m.\u001b[0m\u001b[0m_get\u001b[0m\u001b[0;34m(\u001b[0m\u001b[0midx\u001b[0m\u001b[0;34m)\u001b[0m\u001b[0;34m,\u001b[0m \u001b[0muse_list\u001b[0m\u001b[0;34m=\u001b[0m\u001b[0;32mNone\u001b[0m\u001b[0;34m)\u001b[0m\u001b[0;34m\u001b[0m\u001b[0;34m\u001b[0m\u001b[0m\n\u001b[1;32m    317\u001b[0m     \u001b[0;32mdef\u001b[0m \u001b[0mcopy\u001b[0m\u001b[0;34m(\u001b[0m\u001b[0mself\u001b[0m\u001b[0;34m)\u001b[0m\u001b[0;34m:\u001b[0m \u001b[0;32mreturn\u001b[0m \u001b[0mself\u001b[0m\u001b[0;34m.\u001b[0m\u001b[0m_new\u001b[0m\u001b[0;34m(\u001b[0m\u001b[0mself\u001b[0m\u001b[0;34m.\u001b[0m\u001b[0mitems\u001b[0m\u001b[0;34m.\u001b[0m\u001b[0mcopy\u001b[0m\u001b[0;34m(\u001b[0m\u001b[0;34m)\u001b[0m\u001b[0;34m)\u001b[0m\u001b[0;34m\u001b[0m\u001b[0;34m\u001b[0m\u001b[0m\n",
      "\u001b[0;32m~/anaconda3/envs/rsna_retro/lib/python3.7/site-packages/fastcore/foundation.py\u001b[0m in \u001b[0;36m__call__\u001b[0;34m(cls, x, *args, **kwargs)\u001b[0m\n\u001b[1;32m     39\u001b[0m             \u001b[0;32mreturn\u001b[0m \u001b[0mx\u001b[0m\u001b[0;34m\u001b[0m\u001b[0;34m\u001b[0m\u001b[0m\n\u001b[1;32m     40\u001b[0m \u001b[0;34m\u001b[0m\u001b[0m\n\u001b[0;32m---> 41\u001b[0;31m         \u001b[0mres\u001b[0m \u001b[0;34m=\u001b[0m \u001b[0msuper\u001b[0m\u001b[0;34m(\u001b[0m\u001b[0;34m)\u001b[0m\u001b[0;34m.\u001b[0m\u001b[0m__call__\u001b[0m\u001b[0;34m(\u001b[0m\u001b[0;34m*\u001b[0m\u001b[0;34m(\u001b[0m\u001b[0;34m(\u001b[0m\u001b[0mx\u001b[0m\u001b[0;34m,\u001b[0m\u001b[0;34m)\u001b[0m \u001b[0;34m+\u001b[0m \u001b[0margs\u001b[0m\u001b[0;34m)\u001b[0m\u001b[0;34m,\u001b[0m \u001b[0;34m**\u001b[0m\u001b[0mkwargs\u001b[0m\u001b[0;34m)\u001b[0m\u001b[0;34m\u001b[0m\u001b[0;34m\u001b[0m\u001b[0m\n\u001b[0m\u001b[1;32m     42\u001b[0m         \u001b[0mres\u001b[0m\u001b[0;34m.\u001b[0m\u001b[0m_newchk\u001b[0m \u001b[0;34m=\u001b[0m \u001b[0;36m0\u001b[0m\u001b[0;34m\u001b[0m\u001b[0;34m\u001b[0m\u001b[0m\n\u001b[1;32m     43\u001b[0m         \u001b[0;32mreturn\u001b[0m \u001b[0mres\u001b[0m\u001b[0;34m\u001b[0m\u001b[0;34m\u001b[0m\u001b[0m\n",
      "\u001b[0;32m~/anaconda3/envs/rsna_retro/lib/python3.7/site-packages/fastcore/foundation.py\u001b[0m in \u001b[0;36m__init__\u001b[0;34m(self, items, use_list, match, *rest)\u001b[0m\n\u001b[1;32m    304\u001b[0m         \u001b[0;32mif\u001b[0m \u001b[0mitems\u001b[0m \u001b[0;32mis\u001b[0m \u001b[0;32mNone\u001b[0m\u001b[0;34m:\u001b[0m \u001b[0mitems\u001b[0m \u001b[0;34m=\u001b[0m \u001b[0;34m[\u001b[0m\u001b[0;34m]\u001b[0m\u001b[0;34m\u001b[0m\u001b[0;34m\u001b[0m\u001b[0m\n\u001b[1;32m    305\u001b[0m         \u001b[0;32mif\u001b[0m \u001b[0;34m(\u001b[0m\u001b[0muse_list\u001b[0m \u001b[0;32mis\u001b[0m \u001b[0;32mnot\u001b[0m \u001b[0;32mNone\u001b[0m\u001b[0;34m)\u001b[0m \u001b[0;32mor\u001b[0m \u001b[0;32mnot\u001b[0m \u001b[0m_is_array\u001b[0m\u001b[0;34m(\u001b[0m\u001b[0mitems\u001b[0m\u001b[0;34m)\u001b[0m\u001b[0;34m:\u001b[0m\u001b[0;34m\u001b[0m\u001b[0;34m\u001b[0m\u001b[0m\n\u001b[0;32m--> 306\u001b[0;31m             \u001b[0mitems\u001b[0m \u001b[0;34m=\u001b[0m \u001b[0mlist\u001b[0m\u001b[0;34m(\u001b[0m\u001b[0mitems\u001b[0m\u001b[0;34m)\u001b[0m \u001b[0;32mif\u001b[0m \u001b[0muse_list\u001b[0m \u001b[0;32melse\u001b[0m \u001b[0m_listify\u001b[0m\u001b[0;34m(\u001b[0m\u001b[0mitems\u001b[0m\u001b[0;34m)\u001b[0m\u001b[0;34m\u001b[0m\u001b[0;34m\u001b[0m\u001b[0m\n\u001b[0m\u001b[1;32m    307\u001b[0m         \u001b[0;32mif\u001b[0m \u001b[0mmatch\u001b[0m \u001b[0;32mis\u001b[0m \u001b[0;32mnot\u001b[0m \u001b[0;32mNone\u001b[0m\u001b[0;34m:\u001b[0m\u001b[0;34m\u001b[0m\u001b[0;34m\u001b[0m\u001b[0m\n\u001b[1;32m    308\u001b[0m             \u001b[0;32mif\u001b[0m \u001b[0mis_coll\u001b[0m\u001b[0;34m(\u001b[0m\u001b[0mmatch\u001b[0m\u001b[0;34m)\u001b[0m\u001b[0;34m:\u001b[0m \u001b[0mmatch\u001b[0m \u001b[0;34m=\u001b[0m \u001b[0mlen\u001b[0m\u001b[0;34m(\u001b[0m\u001b[0mmatch\u001b[0m\u001b[0;34m)\u001b[0m\u001b[0;34m\u001b[0m\u001b[0;34m\u001b[0m\u001b[0m\n",
      "\u001b[0;32m~/anaconda3/envs/rsna_retro/lib/python3.7/site-packages/fastcore/foundation.py\u001b[0m in \u001b[0;36m_listify\u001b[0;34m(o)\u001b[0m\n\u001b[1;32m    240\u001b[0m     \u001b[0;32mif\u001b[0m \u001b[0misinstance\u001b[0m\u001b[0;34m(\u001b[0m\u001b[0mo\u001b[0m\u001b[0;34m,\u001b[0m \u001b[0mlist\u001b[0m\u001b[0;34m)\u001b[0m\u001b[0;34m:\u001b[0m \u001b[0;32mreturn\u001b[0m \u001b[0mo\u001b[0m\u001b[0;34m\u001b[0m\u001b[0;34m\u001b[0m\u001b[0m\n\u001b[1;32m    241\u001b[0m     \u001b[0;32mif\u001b[0m \u001b[0misinstance\u001b[0m\u001b[0;34m(\u001b[0m\u001b[0mo\u001b[0m\u001b[0;34m,\u001b[0m \u001b[0mstr\u001b[0m\u001b[0;34m)\u001b[0m \u001b[0;32mor\u001b[0m \u001b[0m_is_array\u001b[0m\u001b[0;34m(\u001b[0m\u001b[0mo\u001b[0m\u001b[0;34m)\u001b[0m\u001b[0;34m:\u001b[0m \u001b[0;32mreturn\u001b[0m \u001b[0;34m[\u001b[0m\u001b[0mo\u001b[0m\u001b[0;34m]\u001b[0m\u001b[0;34m\u001b[0m\u001b[0;34m\u001b[0m\u001b[0m\n\u001b[0;32m--> 242\u001b[0;31m     \u001b[0;32mif\u001b[0m \u001b[0mis_iter\u001b[0m\u001b[0;34m(\u001b[0m\u001b[0mo\u001b[0m\u001b[0;34m)\u001b[0m\u001b[0;34m:\u001b[0m \u001b[0;32mreturn\u001b[0m \u001b[0mlist\u001b[0m\u001b[0;34m(\u001b[0m\u001b[0mo\u001b[0m\u001b[0;34m)\u001b[0m\u001b[0;34m\u001b[0m\u001b[0;34m\u001b[0m\u001b[0m\n\u001b[0m\u001b[1;32m    243\u001b[0m     \u001b[0;32mreturn\u001b[0m \u001b[0;34m[\u001b[0m\u001b[0mo\u001b[0m\u001b[0;34m]\u001b[0m\u001b[0;34m\u001b[0m\u001b[0;34m\u001b[0m\u001b[0m\n\u001b[1;32m    244\u001b[0m \u001b[0;34m\u001b[0m\u001b[0m\n",
      "\u001b[0;32m~/anaconda3/envs/rsna_retro/lib/python3.7/site-packages/fastcore/foundation.py\u001b[0m in \u001b[0;36m__call__\u001b[0;34m(self, *args, **kwargs)\u001b[0m\n\u001b[1;32m    206\u001b[0m             \u001b[0;32mif\u001b[0m \u001b[0misinstance\u001b[0m\u001b[0;34m(\u001b[0m\u001b[0mv\u001b[0m\u001b[0;34m,\u001b[0m\u001b[0m_Arg\u001b[0m\u001b[0;34m)\u001b[0m\u001b[0;34m:\u001b[0m \u001b[0mkwargs\u001b[0m\u001b[0;34m[\u001b[0m\u001b[0mk\u001b[0m\u001b[0;34m]\u001b[0m \u001b[0;34m=\u001b[0m \u001b[0margs\u001b[0m\u001b[0;34m.\u001b[0m\u001b[0mpop\u001b[0m\u001b[0;34m(\u001b[0m\u001b[0mv\u001b[0m\u001b[0;34m.\u001b[0m\u001b[0mi\u001b[0m\u001b[0;34m)\u001b[0m\u001b[0;34m\u001b[0m\u001b[0;34m\u001b[0m\u001b[0m\n\u001b[1;32m    207\u001b[0m         \u001b[0mfargs\u001b[0m \u001b[0;34m=\u001b[0m \u001b[0;34m[\u001b[0m\u001b[0margs\u001b[0m\u001b[0;34m[\u001b[0m\u001b[0mx\u001b[0m\u001b[0;34m.\u001b[0m\u001b[0mi\u001b[0m\u001b[0;34m]\u001b[0m \u001b[0;32mif\u001b[0m \u001b[0misinstance\u001b[0m\u001b[0;34m(\u001b[0m\u001b[0mx\u001b[0m\u001b[0;34m,\u001b[0m \u001b[0m_Arg\u001b[0m\u001b[0;34m)\u001b[0m \u001b[0;32melse\u001b[0m \u001b[0mx\u001b[0m \u001b[0;32mfor\u001b[0m \u001b[0mx\u001b[0m \u001b[0;32min\u001b[0m \u001b[0mself\u001b[0m\u001b[0;34m.\u001b[0m\u001b[0mpargs\u001b[0m\u001b[0;34m]\u001b[0m \u001b[0;34m+\u001b[0m \u001b[0margs\u001b[0m\u001b[0;34m[\u001b[0m\u001b[0mself\u001b[0m\u001b[0;34m.\u001b[0m\u001b[0mmaxi\u001b[0m\u001b[0;34m+\u001b[0m\u001b[0;36m1\u001b[0m\u001b[0;34m:\u001b[0m\u001b[0;34m]\u001b[0m\u001b[0;34m\u001b[0m\u001b[0;34m\u001b[0m\u001b[0m\n\u001b[0;32m--> 208\u001b[0;31m         \u001b[0;32mreturn\u001b[0m \u001b[0mself\u001b[0m\u001b[0;34m.\u001b[0m\u001b[0mfn\u001b[0m\u001b[0;34m(\u001b[0m\u001b[0;34m*\u001b[0m\u001b[0mfargs\u001b[0m\u001b[0;34m,\u001b[0m \u001b[0;34m**\u001b[0m\u001b[0mkwargs\u001b[0m\u001b[0;34m)\u001b[0m\u001b[0;34m\u001b[0m\u001b[0;34m\u001b[0m\u001b[0m\n\u001b[0m\u001b[1;32m    209\u001b[0m \u001b[0;34m\u001b[0m\u001b[0m\n\u001b[1;32m    210\u001b[0m \u001b[0;31m# Cell\u001b[0m\u001b[0;34m\u001b[0m\u001b[0;34m\u001b[0m\u001b[0;34m\u001b[0m\u001b[0m\n",
      "\u001b[0;32m~/fastai2/fastai2/learner.py\u001b[0m in \u001b[0;36m_call_one\u001b[0;34m(self, event_name)\u001b[0m\n\u001b[1;32m    223\u001b[0m     \u001b[0;32mdef\u001b[0m \u001b[0m_call_one\u001b[0m\u001b[0;34m(\u001b[0m\u001b[0mself\u001b[0m\u001b[0;34m,\u001b[0m \u001b[0mevent_name\u001b[0m\u001b[0;34m)\u001b[0m\u001b[0;34m:\u001b[0m\u001b[0;34m\u001b[0m\u001b[0;34m\u001b[0m\u001b[0m\n\u001b[1;32m    224\u001b[0m         \u001b[0;32massert\u001b[0m \u001b[0mhasattr\u001b[0m\u001b[0;34m(\u001b[0m\u001b[0mevent\u001b[0m\u001b[0;34m,\u001b[0m \u001b[0mevent_name\u001b[0m\u001b[0;34m)\u001b[0m\u001b[0;34m\u001b[0m\u001b[0;34m\u001b[0m\u001b[0m\n\u001b[0;32m--> 225\u001b[0;31m         \u001b[0;34m[\u001b[0m\u001b[0mcb\u001b[0m\u001b[0;34m(\u001b[0m\u001b[0mevent_name\u001b[0m\u001b[0;34m)\u001b[0m \u001b[0;32mfor\u001b[0m \u001b[0mcb\u001b[0m \u001b[0;32min\u001b[0m \u001b[0msort_by_run\u001b[0m\u001b[0;34m(\u001b[0m\u001b[0mself\u001b[0m\u001b[0;34m.\u001b[0m\u001b[0mcbs\u001b[0m\u001b[0;34m)\u001b[0m\u001b[0;34m]\u001b[0m\u001b[0;34m\u001b[0m\u001b[0;34m\u001b[0m\u001b[0m\n\u001b[0m\u001b[1;32m    226\u001b[0m \u001b[0;34m\u001b[0m\u001b[0m\n\u001b[1;32m    227\u001b[0m     \u001b[0;32mdef\u001b[0m \u001b[0m_bn_bias_state\u001b[0m\u001b[0;34m(\u001b[0m\u001b[0mself\u001b[0m\u001b[0;34m,\u001b[0m \u001b[0mwith_bias\u001b[0m\u001b[0;34m)\u001b[0m\u001b[0;34m:\u001b[0m \u001b[0;32mreturn\u001b[0m \u001b[0mbn_bias_params\u001b[0m\u001b[0;34m(\u001b[0m\u001b[0mself\u001b[0m\u001b[0;34m.\u001b[0m\u001b[0mmodel\u001b[0m\u001b[0;34m,\u001b[0m \u001b[0mwith_bias\u001b[0m\u001b[0;34m)\u001b[0m\u001b[0;34m.\u001b[0m\u001b[0mmap\u001b[0m\u001b[0;34m(\u001b[0m\u001b[0mself\u001b[0m\u001b[0;34m.\u001b[0m\u001b[0mopt\u001b[0m\u001b[0;34m.\u001b[0m\u001b[0mstate\u001b[0m\u001b[0;34m)\u001b[0m\u001b[0;34m\u001b[0m\u001b[0;34m\u001b[0m\u001b[0m\n",
      "\u001b[0;32m~/fastai2/fastai2/learner.py\u001b[0m in \u001b[0;36m<listcomp>\u001b[0;34m(.0)\u001b[0m\n\u001b[1;32m    223\u001b[0m     \u001b[0;32mdef\u001b[0m \u001b[0m_call_one\u001b[0m\u001b[0;34m(\u001b[0m\u001b[0mself\u001b[0m\u001b[0;34m,\u001b[0m \u001b[0mevent_name\u001b[0m\u001b[0;34m)\u001b[0m\u001b[0;34m:\u001b[0m\u001b[0;34m\u001b[0m\u001b[0;34m\u001b[0m\u001b[0m\n\u001b[1;32m    224\u001b[0m         \u001b[0;32massert\u001b[0m \u001b[0mhasattr\u001b[0m\u001b[0;34m(\u001b[0m\u001b[0mevent\u001b[0m\u001b[0;34m,\u001b[0m \u001b[0mevent_name\u001b[0m\u001b[0;34m)\u001b[0m\u001b[0;34m\u001b[0m\u001b[0;34m\u001b[0m\u001b[0m\n\u001b[0;32m--> 225\u001b[0;31m         \u001b[0;34m[\u001b[0m\u001b[0mcb\u001b[0m\u001b[0;34m(\u001b[0m\u001b[0mevent_name\u001b[0m\u001b[0;34m)\u001b[0m \u001b[0;32mfor\u001b[0m \u001b[0mcb\u001b[0m \u001b[0;32min\u001b[0m \u001b[0msort_by_run\u001b[0m\u001b[0;34m(\u001b[0m\u001b[0mself\u001b[0m\u001b[0;34m.\u001b[0m\u001b[0mcbs\u001b[0m\u001b[0;34m)\u001b[0m\u001b[0;34m]\u001b[0m\u001b[0;34m\u001b[0m\u001b[0;34m\u001b[0m\u001b[0m\n\u001b[0m\u001b[1;32m    226\u001b[0m \u001b[0;34m\u001b[0m\u001b[0m\n\u001b[1;32m    227\u001b[0m     \u001b[0;32mdef\u001b[0m \u001b[0m_bn_bias_state\u001b[0m\u001b[0;34m(\u001b[0m\u001b[0mself\u001b[0m\u001b[0;34m,\u001b[0m \u001b[0mwith_bias\u001b[0m\u001b[0;34m)\u001b[0m\u001b[0;34m:\u001b[0m \u001b[0;32mreturn\u001b[0m \u001b[0mbn_bias_params\u001b[0m\u001b[0;34m(\u001b[0m\u001b[0mself\u001b[0m\u001b[0;34m.\u001b[0m\u001b[0mmodel\u001b[0m\u001b[0;34m,\u001b[0m \u001b[0mwith_bias\u001b[0m\u001b[0;34m)\u001b[0m\u001b[0;34m.\u001b[0m\u001b[0mmap\u001b[0m\u001b[0;34m(\u001b[0m\u001b[0mself\u001b[0m\u001b[0;34m.\u001b[0m\u001b[0mopt\u001b[0m\u001b[0;34m.\u001b[0m\u001b[0mstate\u001b[0m\u001b[0;34m)\u001b[0m\u001b[0;34m\u001b[0m\u001b[0;34m\u001b[0m\u001b[0m\n",
      "\u001b[0;32m~/fastai2/fastai2/learner.py\u001b[0m in \u001b[0;36m__call__\u001b[0;34m(self, event_name)\u001b[0m\n\u001b[1;32m     23\u001b[0m         _run = (event_name not in _inner_loop or (self.run_train and getattr(self, 'training', True)) or\n\u001b[1;32m     24\u001b[0m                (self.run_valid and not getattr(self, 'training', False)))\n\u001b[0;32m---> 25\u001b[0;31m         \u001b[0;32mif\u001b[0m \u001b[0mself\u001b[0m\u001b[0;34m.\u001b[0m\u001b[0mrun\u001b[0m \u001b[0;32mand\u001b[0m \u001b[0m_run\u001b[0m\u001b[0;34m:\u001b[0m \u001b[0mgetattr\u001b[0m\u001b[0;34m(\u001b[0m\u001b[0mself\u001b[0m\u001b[0;34m,\u001b[0m \u001b[0mevent_name\u001b[0m\u001b[0;34m,\u001b[0m \u001b[0mnoop\u001b[0m\u001b[0;34m)\u001b[0m\u001b[0;34m(\u001b[0m\u001b[0;34m)\u001b[0m\u001b[0;34m\u001b[0m\u001b[0;34m\u001b[0m\u001b[0m\n\u001b[0m\u001b[1;32m     26\u001b[0m \u001b[0;34m\u001b[0m\u001b[0m\n\u001b[1;32m     27\u001b[0m     \u001b[0;34m@\u001b[0m\u001b[0mproperty\u001b[0m\u001b[0;34m\u001b[0m\u001b[0;34m\u001b[0m\u001b[0m\n",
      "\u001b[0;32m~/kaggle/rsna_retro/rsna_retro/train3d.py\u001b[0m in \u001b[0;36mafter_pred\u001b[0;34m(self)\u001b[0m\n\u001b[1;32m    191\u001b[0m         \u001b[0mmask\u001b[0m \u001b[0;34m=\u001b[0m \u001b[0mtarg\u001b[0m\u001b[0;34m[\u001b[0m\u001b[0;34m:\u001b[0m\u001b[0;34m,\u001b[0m\u001b[0;34m-\u001b[0m\u001b[0;36m1\u001b[0m\u001b[0;34m]\u001b[0m \u001b[0;34m!=\u001b[0m \u001b[0mself\u001b[0m\u001b[0;34m.\u001b[0m\u001b[0mpad_idx\u001b[0m\u001b[0;34m\u001b[0m\u001b[0;34m\u001b[0m\u001b[0m\n\u001b[1;32m    192\u001b[0m \u001b[0;34m\u001b[0m\u001b[0m\n\u001b[0;32m--> 193\u001b[0;31m         \u001b[0mlearn\u001b[0m\u001b[0;34m.\u001b[0m\u001b[0mpred\u001b[0m \u001b[0;34m=\u001b[0m \u001b[0mpred\u001b[0m\u001b[0;34m[\u001b[0m\u001b[0mmask\u001b[0m\u001b[0;34m]\u001b[0m\u001b[0;34m\u001b[0m\u001b[0;34m\u001b[0m\u001b[0m\n\u001b[0m\u001b[1;32m    194\u001b[0m         \u001b[0mlearn\u001b[0m\u001b[0;34m.\u001b[0m\u001b[0myb\u001b[0m \u001b[0;34m=\u001b[0m \u001b[0;34m(\u001b[0m\u001b[0mtarg\u001b[0m\u001b[0;34m[\u001b[0m\u001b[0mmask\u001b[0m\u001b[0;34m]\u001b[0m\u001b[0;34m,\u001b[0m\u001b[0;34m)\u001b[0m\u001b[0;34m\u001b[0m\u001b[0;34m\u001b[0m\u001b[0m\n",
      "\u001b[0;31mKeyboardInterrupt\u001b[0m: "
     ]
    }
   ],
   "source": [
    "do_fit(learn, 6, 1e-2, freeze=False)\n",
    "learn.save(f'runs/{name}-1')"
   ]
  }
 ],
 "metadata": {
  "kernelspec": {
   "display_name": "Python 3",
   "language": "python",
   "name": "python3"
  },
  "language_info": {
   "codemirror_mode": {
    "name": "ipython",
    "version": 3
   },
   "file_extension": ".py",
   "mimetype": "text/x-python",
   "name": "python",
   "nbconvert_exporter": "python",
   "pygments_lexer": "ipython3",
   "version": "3.7.5"
  }
 },
 "nbformat": 4,
 "nbformat_minor": 2
}

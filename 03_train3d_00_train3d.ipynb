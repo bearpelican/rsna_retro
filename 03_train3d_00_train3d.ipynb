{
 "cells": [
  {
   "cell_type": "code",
   "execution_count": 1,
   "metadata": {},
   "outputs": [],
   "source": [
    "#default_exp train3d"
   ]
  },
  {
   "cell_type": "code",
   "execution_count": 2,
   "metadata": {},
   "outputs": [
    {
     "name": "stdout",
     "output_type": "stream",
     "text": [
      "Loading imports\n",
      "Warning: Your Kaggle API key is readable by other users on this system! To fix this, you can run 'chmod 600 /home/ashaw/.kaggle/kaggle.json'\n"
     ]
    }
   ],
   "source": [
    "#export\n",
    "from rsna_retro.imports import *\n",
    "from rsna_retro.metadata import *\n",
    "from rsna_retro.preprocess import *\n",
    "from rsna_retro.train import *"
   ]
  },
  {
   "cell_type": "code",
   "execution_count": 3,
   "metadata": {},
   "outputs": [],
   "source": [
    "torch.cuda.set_device(4)"
   ]
  },
  {
   "cell_type": "code",
   "execution_count": 4,
   "metadata": {
    "scrolled": true
   },
   "outputs": [
    {
     "data": {
      "text/html": [
       "<div>\n",
       "<style scoped>\n",
       "    .dataframe tbody tr th:only-of-type {\n",
       "        vertical-align: middle;\n",
       "    }\n",
       "\n",
       "    .dataframe tbody tr th {\n",
       "        vertical-align: top;\n",
       "    }\n",
       "\n",
       "    .dataframe thead th {\n",
       "        text-align: right;\n",
       "    }\n",
       "</style>\n",
       "<table border=\"1\" class=\"dataframe\">\n",
       "  <thead>\n",
       "    <tr style=\"text-align: right;\">\n",
       "      <th></th>\n",
       "      <th>Modality</th>\n",
       "      <th>PatientID</th>\n",
       "      <th>StudyInstanceUID</th>\n",
       "      <th>SeriesInstanceUID</th>\n",
       "      <th>StudyID</th>\n",
       "      <th>ImagePositionPatient</th>\n",
       "      <th>ImageOrientationPatient</th>\n",
       "      <th>SamplesPerPixel</th>\n",
       "      <th>PhotometricInterpretation</th>\n",
       "      <th>Rows</th>\n",
       "      <th>...</th>\n",
       "      <th>MultiWindowCenter</th>\n",
       "      <th>WindowCenter1</th>\n",
       "      <th>MultiWindowWidth</th>\n",
       "      <th>WindowWidth1</th>\n",
       "      <th>any</th>\n",
       "      <th>epidural</th>\n",
       "      <th>intraparenchymal</th>\n",
       "      <th>intraventricular</th>\n",
       "      <th>subarachnoid</th>\n",
       "      <th>subdural</th>\n",
       "    </tr>\n",
       "    <tr>\n",
       "      <th>SOPInstanceUID</th>\n",
       "      <th></th>\n",
       "      <th></th>\n",
       "      <th></th>\n",
       "      <th></th>\n",
       "      <th></th>\n",
       "      <th></th>\n",
       "      <th></th>\n",
       "      <th></th>\n",
       "      <th></th>\n",
       "      <th></th>\n",
       "      <th></th>\n",
       "      <th></th>\n",
       "      <th></th>\n",
       "      <th></th>\n",
       "      <th></th>\n",
       "      <th></th>\n",
       "      <th></th>\n",
       "      <th></th>\n",
       "      <th></th>\n",
       "      <th></th>\n",
       "      <th></th>\n",
       "    </tr>\n",
       "  </thead>\n",
       "  <tbody>\n",
       "    <tr>\n",
       "      <th>ID_2a8702d25</th>\n",
       "      <td>CT</td>\n",
       "      <td>ID_ff137633</td>\n",
       "      <td>ID_d17053848c</td>\n",
       "      <td>ID_7098f7c836</td>\n",
       "      <td></td>\n",
       "      <td>-126.437378</td>\n",
       "      <td>1.0</td>\n",
       "      <td>1</td>\n",
       "      <td>MONOCHROME2</td>\n",
       "      <td>512</td>\n",
       "      <td>...</td>\n",
       "      <td>NaN</td>\n",
       "      <td>NaN</td>\n",
       "      <td>NaN</td>\n",
       "      <td>NaN</td>\n",
       "      <td>1</td>\n",
       "      <td>0</td>\n",
       "      <td>1</td>\n",
       "      <td>1</td>\n",
       "      <td>0</td>\n",
       "      <td>0</td>\n",
       "    </tr>\n",
       "    <tr>\n",
       "      <th>ID_66891ac22</th>\n",
       "      <td>CT</td>\n",
       "      <td>ID_42940b2c</td>\n",
       "      <td>ID_17e33f43d0</td>\n",
       "      <td>ID_e14dd0090b</td>\n",
       "      <td></td>\n",
       "      <td>-125.000000</td>\n",
       "      <td>1.0</td>\n",
       "      <td>1</td>\n",
       "      <td>MONOCHROME2</td>\n",
       "      <td>512</td>\n",
       "      <td>...</td>\n",
       "      <td>NaN</td>\n",
       "      <td>NaN</td>\n",
       "      <td>NaN</td>\n",
       "      <td>NaN</td>\n",
       "      <td>1</td>\n",
       "      <td>0</td>\n",
       "      <td>1</td>\n",
       "      <td>0</td>\n",
       "      <td>0</td>\n",
       "      <td>0</td>\n",
       "    </tr>\n",
       "    <tr>\n",
       "      <th>ID_8e6e5b51f</th>\n",
       "      <td>CT</td>\n",
       "      <td>ID_76fbed32</td>\n",
       "      <td>ID_1d8eaa14ef</td>\n",
       "      <td>ID_e3919709a0</td>\n",
       "      <td></td>\n",
       "      <td>-125.000000</td>\n",
       "      <td>1.0</td>\n",
       "      <td>1</td>\n",
       "      <td>MONOCHROME2</td>\n",
       "      <td>512</td>\n",
       "      <td>...</td>\n",
       "      <td>NaN</td>\n",
       "      <td>NaN</td>\n",
       "      <td>NaN</td>\n",
       "      <td>NaN</td>\n",
       "      <td>1</td>\n",
       "      <td>0</td>\n",
       "      <td>0</td>\n",
       "      <td>0</td>\n",
       "      <td>0</td>\n",
       "      <td>1</td>\n",
       "    </tr>\n",
       "    <tr>\n",
       "      <th>ID_cb8b9b514</th>\n",
       "      <td>CT</td>\n",
       "      <td>ID_20039b63</td>\n",
       "      <td>ID_1cfe3e70dd</td>\n",
       "      <td>ID_e3b5d8d9b8</td>\n",
       "      <td></td>\n",
       "      <td>-125.000000</td>\n",
       "      <td>1.0</td>\n",
       "      <td>1</td>\n",
       "      <td>MONOCHROME2</td>\n",
       "      <td>512</td>\n",
       "      <td>...</td>\n",
       "      <td>NaN</td>\n",
       "      <td>NaN</td>\n",
       "      <td>NaN</td>\n",
       "      <td>NaN</td>\n",
       "      <td>0</td>\n",
       "      <td>0</td>\n",
       "      <td>0</td>\n",
       "      <td>0</td>\n",
       "      <td>0</td>\n",
       "      <td>0</td>\n",
       "    </tr>\n",
       "    <tr>\n",
       "      <th>ID_ee683911f</th>\n",
       "      <td>CT</td>\n",
       "      <td>ID_a065f3ac</td>\n",
       "      <td>ID_9c727ac231</td>\n",
       "      <td>ID_99e83a310d</td>\n",
       "      <td></td>\n",
       "      <td>-125.000000</td>\n",
       "      <td>1.0</td>\n",
       "      <td>1</td>\n",
       "      <td>MONOCHROME2</td>\n",
       "      <td>512</td>\n",
       "      <td>...</td>\n",
       "      <td>1.0</td>\n",
       "      <td>40.0</td>\n",
       "      <td>1.0</td>\n",
       "      <td>80.0</td>\n",
       "      <td>0</td>\n",
       "      <td>0</td>\n",
       "      <td>0</td>\n",
       "      <td>0</td>\n",
       "      <td>0</td>\n",
       "      <td>0</td>\n",
       "    </tr>\n",
       "  </tbody>\n",
       "</table>\n",
       "<p>5 rows × 47 columns</p>\n",
       "</div>"
      ],
      "text/plain": [
       "               Modality    PatientID StudyInstanceUID SeriesInstanceUID  \\\n",
       "SOPInstanceUID                                                            \n",
       "ID_2a8702d25         CT  ID_ff137633    ID_d17053848c     ID_7098f7c836   \n",
       "ID_66891ac22         CT  ID_42940b2c    ID_17e33f43d0     ID_e14dd0090b   \n",
       "ID_8e6e5b51f         CT  ID_76fbed32    ID_1d8eaa14ef     ID_e3919709a0   \n",
       "ID_cb8b9b514         CT  ID_20039b63    ID_1cfe3e70dd     ID_e3b5d8d9b8   \n",
       "ID_ee683911f         CT  ID_a065f3ac    ID_9c727ac231     ID_99e83a310d   \n",
       "\n",
       "               StudyID  ImagePositionPatient  ImageOrientationPatient  \\\n",
       "SOPInstanceUID                                                          \n",
       "ID_2a8702d25                     -126.437378                      1.0   \n",
       "ID_66891ac22                     -125.000000                      1.0   \n",
       "ID_8e6e5b51f                     -125.000000                      1.0   \n",
       "ID_cb8b9b514                     -125.000000                      1.0   \n",
       "ID_ee683911f                     -125.000000                      1.0   \n",
       "\n",
       "                SamplesPerPixel PhotometricInterpretation  Rows  ...  \\\n",
       "SOPInstanceUID                                                   ...   \n",
       "ID_2a8702d25                  1               MONOCHROME2   512  ...   \n",
       "ID_66891ac22                  1               MONOCHROME2   512  ...   \n",
       "ID_8e6e5b51f                  1               MONOCHROME2   512  ...   \n",
       "ID_cb8b9b514                  1               MONOCHROME2   512  ...   \n",
       "ID_ee683911f                  1               MONOCHROME2   512  ...   \n",
       "\n",
       "                MultiWindowCenter  WindowCenter1  MultiWindowWidth  \\\n",
       "SOPInstanceUID                                                       \n",
       "ID_2a8702d25                  NaN            NaN               NaN   \n",
       "ID_66891ac22                  NaN            NaN               NaN   \n",
       "ID_8e6e5b51f                  NaN            NaN               NaN   \n",
       "ID_cb8b9b514                  NaN            NaN               NaN   \n",
       "ID_ee683911f                  1.0           40.0               1.0   \n",
       "\n",
       "                WindowWidth1  any  epidural  intraparenchymal  \\\n",
       "SOPInstanceUID                                                  \n",
       "ID_2a8702d25             NaN    1         0                 1   \n",
       "ID_66891ac22             NaN    1         0                 1   \n",
       "ID_8e6e5b51f             NaN    1         0                 0   \n",
       "ID_cb8b9b514             NaN    0         0                 0   \n",
       "ID_ee683911f            80.0    0         0                 0   \n",
       "\n",
       "                intraventricular  subarachnoid  subdural  \n",
       "SOPInstanceUID                                            \n",
       "ID_2a8702d25                   1             0         0  \n",
       "ID_66891ac22                   0             0         0  \n",
       "ID_8e6e5b51f                   0             0         1  \n",
       "ID_cb8b9b514                   0             0         0  \n",
       "ID_ee683911f                   0             0         0  \n",
       "\n",
       "[5 rows x 47 columns]"
      ]
     },
     "execution_count": 4,
     "metadata": {},
     "output_type": "execute_result"
    }
   ],
   "source": [
    "df_any = Meta.df_any\n",
    "df_any.head()"
   ]
  },
  {
   "cell_type": "code",
   "execution_count": 5,
   "metadata": {},
   "outputs": [
    {
     "data": {
      "text/plain": [
       "array([60])"
      ]
     },
     "execution_count": 5,
     "metadata": {},
     "output_type": "execute_result"
    }
   ],
   "source": [
    "df_slice_count = df_any.groupby(['SeriesInstanceUID']).agg(['count'])\n",
    "max(df_slice_count.PatientID.values)"
   ]
  },
  {
   "cell_type": "code",
   "execution_count": 6,
   "metadata": {},
   "outputs": [],
   "source": [
    "#export\n",
    "max_seq_len = 60"
   ]
  },
  {
   "cell_type": "code",
   "execution_count": 7,
   "metadata": {},
   "outputs": [],
   "source": [
    "#export\n",
    "class OpenCTs:\n",
    "    def __init__(self, path): \n",
    "        self.fn = get_pil_fn(path)\n",
    "        self.tt = ToTensor()\n",
    "    def __call__(self, item):\n",
    "        if isinstance(item, (str, Path)): return self.fn(item)\n",
    "        xs = [self.tt(self.fn(x)) for x in item]\n",
    "        return TensorCTScan(torch.stack(xs))"
   ]
  },
  {
   "cell_type": "code",
   "execution_count": 8,
   "metadata": {},
   "outputs": [],
   "source": [
    "#export\n",
    "def pad_batch(x, pad_to=None, value=0):\n",
    "    bs_pad = pad_to-x.shape[0]\n",
    "    pad = [0]*len(x.shape)*2\n",
    "    pad[-1] = bs_pad\n",
    "    return F.pad(x, pad=pad, value=value)"
   ]
  },
  {
   "cell_type": "code",
   "execution_count": 9,
   "metadata": {},
   "outputs": [],
   "source": [
    "# pad_batch(x, to=4)"
   ]
  },
  {
   "cell_type": "code",
   "execution_count": 10,
   "metadata": {},
   "outputs": [],
   "source": [
    "#export\n",
    "class TfmSOP:\n",
    "    def __init__(self,df,open_fn,pad_to=None):\n",
    "        self.open_fn = open_fn\n",
    "        self.df = df\n",
    "        self.pad_to = pad_to\n",
    "    \n",
    "    def x(self, sid):\n",
    "        sids = self.df.SOPInstanceUID[sid].values\n",
    "        x = self.open_fn(sids)\n",
    "        if self.pad_to is None: return x\n",
    "        t = type(x)\n",
    "        return t(pad_batch(x, pad_to=self.pad_to))\n",
    "    \n",
    "    def y(self, sid): \n",
    "        vals = self.df.loc[sid,htypes].values\n",
    "        if self.pad_to is not None: \n",
    "            vals = pad_batch(tensor(vals), pad_to=self.pad_to, value=-1)\n",
    "        return TensorMultiCategory(vals).float()"
   ]
  },
  {
   "cell_type": "code",
   "execution_count": 11,
   "metadata": {},
   "outputs": [],
   "source": [
    "def group_cv(idx, grps): return np.concatenate([grps[o] for o in range_of(grps) if o!=idx])\n",
    "\n",
    "# column can also be PatientID\n",
    "def split_data(df, cv_idx, grps, column):\n",
    "    grp_cv = group_cv(cv_idx, grps)\n",
    "    mask = df[column].isin(grp_cv)\n",
    "    return idx[mask],idx[~mask]"
   ]
  },
  {
   "cell_type": "code",
   "execution_count": 12,
   "metadata": {},
   "outputs": [],
   "source": [
    "#export\n",
    "def get_3d_dsrc(df, open_fn, grps=Meta.grps, cv_idx=0, column='SeriesInstanceUID',\n",
    "               pad_to=None):\n",
    "    df_series = df.reset_index().set_index(column).sort_values(\"ImagePositionPatient2\")\n",
    "    tfm = TfmSOP(df_series, open_fn, pad_to)\n",
    "    sids = df_series.index.unique()\n",
    "    \n",
    "    s1 = np.where(np.in1d(sids, group_cv(cv_idx,grps)))[0]\n",
    "    s2 = np.where(np.in1d(sids, grps[cv_idx]))[0]\n",
    "    dsrc = DataSource(sids, [[tfm.x],[tfm.y]], splits=(s1,s2))\n",
    "    return dsrc"
   ]
  },
  {
   "cell_type": "code",
   "execution_count": 13,
   "metadata": {},
   "outputs": [],
   "source": [
    "#export\n",
    "def get_3d_dbunch(df, path=path_jpg256, bs=None, num_workers=8):\n",
    "    pad_to = None if bs is None else max_seq_len\n",
    "    dsrc = get_3d_dsrc(df, open_fn=OpenCTs(path), pad_to=pad_to)\n",
    "\n",
    "    nrm = Normalize.from_stats(mean,std)\n",
    "    batch_tfms = L(nrm, Cuda(), IntToFloatTensor())\n",
    "\n",
    "    dbunch = DataBunch(\n",
    "        TfmdDL(dsrc.train, bs=bs, after_batch=batch_tfms, num_workers=num_workers, shuffle=True),\n",
    "        TfmdDL(dsrc.valid, bs=bs, after_batch=batch_tfms, num_workers=num_workers)\n",
    "    )\n",
    "    dbunch.device = default_device()\n",
    "    dbunch.c = 6\n",
    "    return dbunch\n"
   ]
  },
  {
   "cell_type": "code",
   "execution_count": 14,
   "metadata": {},
   "outputs": [],
   "source": [
    "# dsrc = get_3d_dsrc(df_any, open_fn=OpenCTs(path_jpg256), pad_to=max_seq_len)\n",
    "# x,y = dsrc[0]\n",
    "# x.shape, y.shape"
   ]
  },
  {
   "cell_type": "code",
   "execution_count": 15,
   "metadata": {},
   "outputs": [],
   "source": [
    "# dbunch = get_3d_dbunch(df_any, bs=10)\n",
    "# x,y = dbunch.one_batch()\n",
    "# x.shape, y.shape"
   ]
  },
  {
   "cell_type": "markdown",
   "metadata": {},
   "source": [
    "## Features"
   ]
  },
  {
   "cell_type": "code",
   "execution_count": 16,
   "metadata": {},
   "outputs": [],
   "source": [
    "#export\n",
    "def get_np_fn(p):\n",
    "    def _f(fn): return torch.from_numpy(np.load(str(p/f'{fn}.npy')))\n",
    "    return _f"
   ]
  },
  {
   "cell_type": "code",
   "execution_count": 17,
   "metadata": {},
   "outputs": [],
   "source": [
    "#export\n",
    "class OpenFeats:\n",
    "    def __init__(self, path):\n",
    "        self.fn = get_np_fn(path)\n",
    "        self.tt = ToTensor()\n",
    "    def __call__(self, item):\n",
    "        if isinstance(item, (str, Path)): return self.fn(item)\n",
    "        xs = [self.tt(self.fn(x)) for x in item]\n",
    "        return TensorCTScan(torch.stack(xs))"
   ]
  },
  {
   "cell_type": "code",
   "execution_count": 18,
   "metadata": {},
   "outputs": [],
   "source": [
    "#export\n",
    "def get_3d_dbunch_feat(df, path=path/'features_224', bs=1, num_workers=8):\n",
    "    pad_to = None if bs == 1 else max_seq_len\n",
    "    dsrc = get_3d_dsrc(df, open_fn=OpenFeats(path), pad_to=pad_to)\n",
    "\n",
    "    dbunch = DataBunch(\n",
    "        TfmdDL(dsrc.train, bs=bs, after_batch=[Cuda()], num_workers=num_workers, shuffle=True),\n",
    "        TfmdDL(dsrc.valid, bs=bs, after_batch=[Cuda()], num_workers=num_workers)\n",
    "    )\n",
    "    dbunch.device = default_device()\n",
    "    dbunch.c = 6\n",
    "    return dbunch\n"
   ]
  },
  {
   "cell_type": "code",
   "execution_count": 19,
   "metadata": {},
   "outputs": [],
   "source": [
    "# dbunch_feat = get_3d_dbunch_feat(df_any, bs=10)\n",
    "# xb,yb = dbunch_feat.one_batch()\n",
    "# xb.shape, yb.shape"
   ]
  },
  {
   "cell_type": "markdown",
   "metadata": {},
   "source": [
    "## Model"
   ]
  },
  {
   "cell_type": "code",
   "execution_count": 20,
   "metadata": {},
   "outputs": [],
   "source": [
    "#export\n",
    "class ReshapeCNNBody(Module):\n",
    "    def __init__(self, body):\n",
    "        super().__init__()\n",
    "        self.body = body\n",
    "        \n",
    "#     def __setstate__(self, state):\n",
    "#         self.body.__setstate__(state)\n",
    "#     def __getstate__(self):\n",
    "#         return self.body.__getstate__()\n",
    "    \n",
    "    def load_state_dict(self, *args, **kwargs):\n",
    "        self.body.load_state_dict(*args, **kwargs)\n",
    "\n",
    "    def state_dict(self, *args, **kwargs):\n",
    "        return self.body.state_dict(*args, **kwargs)\n",
    "        \n",
    "    def __getitem__(self, idx):\n",
    "        return self.body\n",
    "    \n",
    "    def forward(self, x):\n",
    "        shape = x.shape\n",
    "        x = self.body(x.view(-1, *shape[2:]))\n",
    "        return x.view(*shape[:2], *x.shape[1:])"
   ]
  },
  {
   "cell_type": "code",
   "execution_count": 21,
   "metadata": {},
   "outputs": [],
   "source": [
    "class ReshapeBodyHook():\n",
    "    def __init__(self, body):\n",
    "        super().__init__()\n",
    "        body.register_forward_pre_hook(self.pre_hook)\n",
    "        body.register_forward_hook(self.forward_hook)\n",
    "        self.shape = None\n",
    "        \n",
    "    def pre_hook(self, module, input):\n",
    "        x = input[0]\n",
    "        self.shape = x.shape\n",
    "        return (x.view(-1, *x.shape[2:]),)\n",
    "    \n",
    "    def forward_hook(self, module, input, x):\n",
    "        return x.view(*self.shape[:2], *x.shape[1:])"
   ]
  },
  {
   "cell_type": "code",
   "execution_count": 22,
   "metadata": {},
   "outputs": [],
   "source": [
    "#export\n",
    "def conv3(ni,nf,stride=1):\n",
    "    return ConvLayer(ni, nf, (5,3,3), stride=(1,stride,stride), ndim=3, padding=(2,1,1))"
   ]
  },
  {
   "cell_type": "code",
   "execution_count": 23,
   "metadata": {},
   "outputs": [],
   "source": [
    "#export\n",
    "class Batchify(Module):\n",
    "    def forward(self, x): return x.transpose(1,2)\n",
    "\n",
    "class DeBatchify(Module):\n",
    "    def forward(self, x):\n",
    "        x_t = x.transpose(1,2)\n",
    "        x_c = x_t.contiguous().view(-1, *x_t.shape[2:])\n",
    "        return x_c\n",
    "\n",
    "def get_3d_head():\n",
    "    m = nn.Sequential(Batchify(),\n",
    "        conv3(512,256,2), # 8\n",
    "        conv3(256,128,2), # 4\n",
    "        conv3(128, 64,2), # 2\n",
    "        DeBatchify(), nn.AdaptiveAvgPool2d(1), Flatten(), nn.Linear(64,6))\n",
    "    init_cnn(m)\n",
    "    return m"
   ]
  },
  {
   "cell_type": "markdown",
   "metadata": {},
   "source": [
    "## Ignore Padding in Loss"
   ]
  },
  {
   "cell_type": "code",
   "execution_count": 24,
   "metadata": {},
   "outputs": [],
   "source": [
    "#export\n",
    "class DePadLoss(Callback):\n",
    "    def __init__(self, pad_idx=-1): \n",
    "        super().__init__()\n",
    "        store_attr(self, 'pad_idx')\n",
    "\n",
    "    def after_pred(self):\n",
    "        learn = self.learn\n",
    "        targ = learn.yb[0].view(-1, *learn.yb[0].shape[2:])\n",
    "        if targ.shape[0] != self.pred.shape[0]:\n",
    "            pred = learn.pred.view(-1, *learn.pred.shape[2:])\n",
    "        else: pred = learn.pred\n",
    "        \n",
    "        mask = targ[:,-1] != self.pad_idx\n",
    "        \n",
    "        learn.pred = pred[mask]\n",
    "        learn.yb = (targ[mask],)"
   ]
  },
  {
   "cell_type": "markdown",
   "metadata": {},
   "source": [
    "## Training Features - By Batch"
   ]
  },
  {
   "cell_type": "code",
   "execution_count": 24,
   "metadata": {},
   "outputs": [],
   "source": [
    "dbunch_feat = get_3d_dbunch_feat(df_any, bs=16)"
   ]
  },
  {
   "cell_type": "code",
   "execution_count": 26,
   "metadata": {},
   "outputs": [],
   "source": [
    "m = get_3d_head()\n",
    "learn = get_learner(dbunch_feat, m)"
   ]
  },
  {
   "cell_type": "code",
   "execution_count": 27,
   "metadata": {},
   "outputs": [
    {
     "data": {
      "text/plain": [
       "<fastai2.learner.Learner at 0x7f6cec3bbd90>"
      ]
     },
     "execution_count": 27,
     "metadata": {},
     "output_type": "execute_result"
    }
   ],
   "source": [
    "learn.add_cb(DePadLoss())"
   ]
  },
  {
   "cell_type": "code",
   "execution_count": 28,
   "metadata": {},
   "outputs": [
    {
     "data": {
      "text/html": [
       "<table border=\"1\" class=\"dataframe\">\n",
       "  <thead>\n",
       "    <tr style=\"text-align: left;\">\n",
       "      <th>epoch</th>\n",
       "      <th>train_loss</th>\n",
       "      <th>valid_loss</th>\n",
       "      <th>accuracy_multi</th>\n",
       "      <th>accuracy_any</th>\n",
       "      <th>time</th>\n",
       "    </tr>\n",
       "  </thead>\n",
       "  <tbody>\n",
       "    <tr>\n",
       "      <td>0</td>\n",
       "      <td>0.108049</td>\n",
       "      <td>0.104689</td>\n",
       "      <td>0.963100</td>\n",
       "      <td>0.940114</td>\n",
       "      <td>01:22</td>\n",
       "    </tr>\n",
       "  </tbody>\n",
       "</table>"
      ],
      "text/plain": [
       "<IPython.core.display.HTML object>"
      ]
     },
     "metadata": {},
     "output_type": "display_data"
    }
   ],
   "source": [
    "do_fit(learn, 1, 1e-2)"
   ]
  },
  {
   "cell_type": "markdown",
   "metadata": {},
   "source": [
    "## Train on Slice"
   ]
  },
  {
   "cell_type": "code",
   "execution_count": 25,
   "metadata": {},
   "outputs": [],
   "source": [
    "m = get_3d_head()"
   ]
  },
  {
   "cell_type": "code",
   "execution_count": 26,
   "metadata": {},
   "outputs": [],
   "source": [
    "dbunch = get_3d_dbunch(df_any, bs=10)\n",
    "config=dict(custom_head=m, init=None)\n",
    "learn = get_learner(dbunch, resnet18, get_loss(), config=config)"
   ]
  },
  {
   "cell_type": "code",
   "execution_count": 27,
   "metadata": {},
   "outputs": [],
   "source": [
    "# learn.model[0] = ReshapeCNNBody(learn.model[0])"
   ]
  },
  {
   "cell_type": "code",
   "execution_count": 28,
   "metadata": {},
   "outputs": [],
   "source": [
    "hook = ReshapeBodyHook(learn.model[0])"
   ]
  },
  {
   "cell_type": "code",
   "execution_count": 29,
   "metadata": {},
   "outputs": [
    {
     "data": {
      "text/plain": [
       "<fastai2.learner.Learner at 0x7fdd90635550>"
      ]
     },
     "execution_count": 29,
     "metadata": {},
     "output_type": "execute_result"
    }
   ],
   "source": [
    "learn.add_cb(DePadLoss())"
   ]
  },
  {
   "cell_type": "code",
   "execution_count": null,
   "metadata": {},
   "outputs": [
    {
     "data": {
      "text/html": [
       "\n",
       "    <div>\n",
       "        <style>\n",
       "            /* Turns off some styling */\n",
       "            progress {\n",
       "                /* gets rid of default border in Firefox and Opera. */\n",
       "                border: none;\n",
       "                /* Needs to be in here for Safari polyfill so background images work as expected. */\n",
       "                background-size: auto;\n",
       "            }\n",
       "            .progress-bar-interrupted, .progress-bar-interrupted::-webkit-progress-bar {\n",
       "                background: #F44336;\n",
       "            }\n",
       "        </style>\n",
       "      <progress value='0' class='' max='1', style='width:300px; height:20px; vertical-align: middle;'></progress>\n",
       "      0.00% [0/1 00:00<00:00]\n",
       "    </div>\n",
       "    \n",
       "<table border=\"1\" class=\"dataframe\">\n",
       "  <thead>\n",
       "    <tr style=\"text-align: left;\">\n",
       "      <th>epoch</th>\n",
       "      <th>train_loss</th>\n",
       "      <th>valid_loss</th>\n",
       "      <th>accuracy_multi</th>\n",
       "      <th>accuracy_any</th>\n",
       "      <th>time</th>\n",
       "    </tr>\n",
       "  </thead>\n",
       "  <tbody>\n",
       "  </tbody>\n",
       "</table><p>\n",
       "\n",
       "    <div>\n",
       "        <style>\n",
       "            /* Turns off some styling */\n",
       "            progress {\n",
       "                /* gets rid of default border in Firefox and Opera. */\n",
       "                border: none;\n",
       "                /* Needs to be in here for Safari polyfill so background images work as expected. */\n",
       "                background-size: auto;\n",
       "            }\n",
       "            .progress-bar-interrupted, .progress-bar-interrupted::-webkit-progress-bar {\n",
       "                background: #F44336;\n",
       "            }\n",
       "        </style>\n",
       "      <progress value='57' class='' max='777', style='width:300px; height:20px; vertical-align: middle;'></progress>\n",
       "      7.34% [57/777 00:38<08:01 0.4140]\n",
       "    </div>\n",
       "    "
      ],
      "text/plain": [
       "<IPython.core.display.HTML object>"
      ]
     },
     "metadata": {},
     "output_type": "display_data"
    }
   ],
   "source": [
    "do_fit(learn, 1, 1e-2)"
   ]
  },
  {
   "cell_type": "markdown",
   "metadata": {},
   "source": [
    "## Export"
   ]
  },
  {
   "cell_type": "code",
   "execution_count": 3,
   "metadata": {},
   "outputs": [
    {
     "name": "stdout",
     "output_type": "stream",
     "text": [
      "Converted 01_data_01_metadata_stage2.ipynb.\n",
      "Converted 01_data_02_preprocess_windows.ipynb.\n",
      "Converted 02_train_00_train.ipynb.\n",
      "Converted 02_train_01_full.ipynb.\n",
      "Converted 02_train_02_any.ipynb.\n",
      "Converted 02_train_02c_any_old_double_avg_pool.ipynb.\n",
      "Converted 03_train3d_00_train3d.ipynb.\n",
      "Converted 03_train3d_01_train3d-Copy1.ipynb.\n",
      "Converted 03_train3d_01_train3d-resnet18.ipynb.\n",
      "Converted 03_train3d_01_train3d.ipynb.\n",
      "Converted 03_train3d_02_train_head.ipynb.\n",
      "This cell doesn't have an export destination and was ignored:\n",
      "e\n",
      "Converted 03_train3d_scratch_3Dbatch.ipynb.\n",
      "Converted 03_train3d_scratch_extract_features.ipynb.\n",
      "Converted 04_trainSeq_00_trainSeq.ipynb.\n"
     ]
    }
   ],
   "source": [
    "#hide\n",
    "from nbdev.export import notebook2script\n",
    "notebook2script()"
   ]
  }
 ],
 "metadata": {
  "kernelspec": {
   "display_name": "Python 3",
   "language": "python",
   "name": "python3"
  },
  "language_info": {
   "codemirror_mode": {
    "name": "ipython",
    "version": 3
   },
   "file_extension": ".py",
   "mimetype": "text/x-python",
   "name": "python",
   "nbconvert_exporter": "python",
   "pygments_lexer": "ipython3",
   "version": "3.7.5"
  }
 },
 "nbformat": 4,
 "nbformat_minor": 2
}

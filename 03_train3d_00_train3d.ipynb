{
 "cells": [
  {
   "cell_type": "code",
   "execution_count": null,
   "metadata": {},
   "outputs": [],
   "source": [
    "#default_exp train3d"
   ]
  },
  {
   "cell_type": "code",
   "execution_count": null,
   "metadata": {},
   "outputs": [],
   "source": [
    "#export\n",
    "from rsna_retro.imports import *\n",
    "from rsna_retro.metadata import *\n",
    "from rsna_retro.preprocess import *\n",
    "from rsna_retro.train import *"
   ]
  },
  {
   "cell_type": "code",
   "execution_count": null,
   "metadata": {},
   "outputs": [],
   "source": [
    "torch.cuda.set_device(2)"
   ]
  },
  {
   "cell_type": "code",
   "execution_count": null,
   "metadata": {
    "scrolled": true
   },
   "outputs": [],
   "source": [
    "df_any.head()"
   ]
  },
  {
   "cell_type": "code",
   "execution_count": null,
   "metadata": {},
   "outputs": [],
   "source": [
    "df_any.groupby(['SeriesInstanceUID']).agg(['count'])"
   ]
  },
  {
   "cell_type": "code",
   "execution_count": 6,
   "metadata": {},
   "outputs": [],
   "source": [
    "#export\n",
    "class OpenCTs:\n",
    "    def __init__(self, path): \n",
    "        self.fn = get_pil_fn(path)\n",
    "        self.tt = ToTensor()\n",
    "    def __call__(self, item):\n",
    "        if isinstance(item, (str, Path)): return self.fn(item)\n",
    "        xs = [self.tt(self.fn(x)) for x in item]\n",
    "        return TensorCTScan(torch.stack(xs))"
   ]
  },
  {
   "cell_type": "code",
   "execution_count": 7,
   "metadata": {},
   "outputs": [],
   "source": [
    "#export\n",
    "class TfmSOP:\n",
    "    def __init__(self,df,open_fn):\n",
    "        self.open_fn = open_fn\n",
    "        self.df = df\n",
    "    \n",
    "    def x(self, sid):\n",
    "        sids = self.df.SOPInstanceUID[sid].values\n",
    "        return self.open_fn(sids)\n",
    "    \n",
    "    def y(self, sid): return TensorMultiCategory(self.df.loc[sid,htypes].values).float()"
   ]
  },
  {
   "cell_type": "code",
   "execution_count": 8,
   "metadata": {},
   "outputs": [],
   "source": [
    "#export\n",
    "def get_3d_dsrc(df, open_fn):\n",
    "    df_series = df.reset_index().set_index('SeriesInstanceUID').sort_values(\"ImagePositionPatient2\")\n",
    "    tfm = TfmSOP(df_series, open_fn)\n",
    "    sids = df_series.index.unique()\n",
    "    splits = RandomSplitter(valid_pct=0.1, seed=42)(sids)\n",
    "    dsrc = DataSource(sids, [[tfm.x],[tfm.y]], splits=splits)\n",
    "    return dsrc"
   ]
  },
  {
   "cell_type": "code",
   "execution_count": 9,
   "metadata": {},
   "outputs": [],
   "source": [
    "\n",
    "def get_3d_dbunch(df, path=path_jpg256):\n",
    "    dsrc = get_3d_dsrc(df, open_fn=OpenCTs(path))\n",
    "\n",
    "    nrm = Normalize.from_stats(mean,std)\n",
    "    batch_tfms = L(nrm, Cuda(), IntToFloatTensor())\n",
    "\n",
    "    dbunch = DataBunch(\n",
    "        TfmdDL(dsrc.train, bs=None, after_batch=batch_tfms, num_workers=8, shuffle=True),\n",
    "        TfmdDL(dsrc.valid, bs=None, after_batch=batch_tfms, num_workers=8)\n",
    "    )\n",
    "    dbunch.device = default_device()\n",
    "    dbunch.c = 6\n",
    "    return dbunch\n"
   ]
  },
  {
   "cell_type": "code",
   "execution_count": null,
   "metadata": {},
   "outputs": [],
   "source": [
    "gr"
   ]
  },
  {
   "cell_type": "code",
   "execution_count": 10,
   "metadata": {},
   "outputs": [],
   "source": [
    "dbunch = get_3d_dbunch(df_any)"
   ]
  },
  {
   "cell_type": "code",
   "execution_count": 11,
   "metadata": {},
   "outputs": [
    {
     "data": {
      "text/plain": [
       "(torch.Size([34, 3, 256, 256]), torch.Size([34, 6]))"
      ]
     },
     "execution_count": 11,
     "metadata": {},
     "output_type": "execute_result"
    }
   ],
   "source": [
    "x,y = dbunch.one_batch()\n",
    "x.shape, y.shape"
   ]
  },
  {
   "cell_type": "markdown",
   "metadata": {},
   "source": [
    "## Features"
   ]
  },
  {
   "cell_type": "code",
   "execution_count": 14,
   "metadata": {},
   "outputs": [],
   "source": [
    "#export\n",
    "def get_np_fn(p):\n",
    "    def _f(fn): return torch.from_numpy(np.load(str(p/f'{fn}.npy')))\n",
    "    return _f"
   ]
  },
  {
   "cell_type": "code",
   "execution_count": 15,
   "metadata": {},
   "outputs": [],
   "source": [
    "#export\n",
    "class OpenFeats:\n",
    "    def __init__(self, path):\n",
    "        self.fn = get_np_fn(path)\n",
    "        self.tt = ToTensor()\n",
    "    def __call__(self, item):\n",
    "        if isinstance(item, (str, Path)): return self.fn(item)\n",
    "        xs = [self.tt(self.fn(x)) for x in item]\n",
    "        return TensorCTScan(torch.stack(xs))"
   ]
  },
  {
   "cell_type": "code",
   "execution_count": 16,
   "metadata": {},
   "outputs": [],
   "source": [
    "dsrc_feat = get_3d_dsrc(df_any, open_fn=OpenFeats(path/'features_224'))"
   ]
  },
  {
   "cell_type": "code",
   "execution_count": 17,
   "metadata": {},
   "outputs": [],
   "source": [
    "dbunch_feat = DataBunch(\n",
    "    TfmdDL(dsrc.train, bs=None, after_batch=[Cuda()], num_workers=8, shuffle=True),\n",
    "    TfmdDL(dsrc.valid, bs=None, after_batch=[Cuda()], num_workers=8)\n",
    ")\n",
    "dbunch_feat.device = default_device()\n",
    "dbunch_feat.c = 6"
   ]
  },
  {
   "cell_type": "code",
   "execution_count": 18,
   "metadata": {},
   "outputs": [
    {
     "data": {
      "text/plain": [
       "torch.Size([35, 512, 7, 7])"
      ]
     },
     "execution_count": 18,
     "metadata": {},
     "output_type": "execute_result"
    }
   ],
   "source": [
    "dsrc_feat[0][0].shape"
   ]
  },
  {
   "cell_type": "markdown",
   "metadata": {},
   "source": [
    "## Model"
   ]
  },
  {
   "cell_type": "code",
   "execution_count": 19,
   "metadata": {},
   "outputs": [],
   "source": [
    "#export\n",
    "class Batchify(Module):\n",
    "    def forward(self, x): return x[None].transpose(1,2)\n",
    "\n",
    "class DeBatchify(Module):\n",
    "    def forward(self, x): return x[0].transpose(0,1)\n",
    "\n",
    "def conv3(ni,nf,stride=1):\n",
    "    return ConvLayer(ni, nf, (5,3,3), stride=(1,stride,stride), ndim=3, padding=(2,1,1))"
   ]
  },
  {
   "cell_type": "code",
   "execution_count": 20,
   "metadata": {},
   "outputs": [],
   "source": [
    "#export\n",
    "def get_3d_head():\n",
    "    m = nn.Sequential(Batchify(),\n",
    "        conv3(512,256,2), # 8\n",
    "        conv3(256,128,2), # 4\n",
    "        conv3(128, 64,2), # 2\n",
    "        DeBatchify(), nn.AdaptiveAvgPool2d(1), Flatten(), nn.Linear(64,6))\n",
    "    init_cnn(m)\n",
    "    return m"
   ]
  },
  {
   "cell_type": "code",
   "execution_count": 21,
   "metadata": {},
   "outputs": [],
   "source": [
    "xb, yb = next(iter(dbunch_feat.train_dl))"
   ]
  },
  {
   "cell_type": "code",
   "execution_count": 22,
   "metadata": {},
   "outputs": [
    {
     "data": {
      "text/plain": [
       "torch.Size([32, 3, 256, 256])"
      ]
     },
     "execution_count": 22,
     "metadata": {},
     "output_type": "execute_result"
    }
   ],
   "source": [
    "xb.shape"
   ]
  },
  {
   "cell_type": "code",
   "execution_count": null,
   "metadata": {},
   "outputs": [],
   "source": [
    "m = get_3d_head()"
   ]
  },
  {
   "cell_type": "code",
   "execution_count": 64,
   "metadata": {},
   "outputs": [],
   "source": [
    "config=dict(custom_head=m, init=None)\n",
    "learn = get_learner(dbunch, xresnet34, get_loss(), config=config)"
   ]
  },
  {
   "cell_type": "code",
   "execution_count": 14,
   "metadata": {},
   "outputs": [
    {
     "data": {
      "text/plain": [
       "Sequential (Input shape: 28 x 3 x 256 x 256)\n",
       "================================================================\n",
       "Layer (type)         Output Shape         Param #    Trainable \n",
       "================================================================\n",
       "Conv2d               28 x 32 x 128 x 128  864        True      \n",
       "________________________________________________________________\n",
       "BatchNorm2d          28 x 32 x 128 x 128  64         True      \n",
       "________________________________________________________________\n",
       "ReLU                 28 x 32 x 128 x 128  0          False     \n",
       "________________________________________________________________\n",
       "Conv2d               28 x 32 x 128 x 128  9,216      True      \n",
       "________________________________________________________________\n",
       "BatchNorm2d          28 x 32 x 128 x 128  64         True      \n",
       "________________________________________________________________\n",
       "ReLU                 28 x 32 x 128 x 128  0          False     \n",
       "________________________________________________________________\n",
       "Conv2d               28 x 64 x 128 x 128  18,432     True      \n",
       "________________________________________________________________\n",
       "BatchNorm2d          28 x 64 x 128 x 128  128        True      \n",
       "________________________________________________________________\n",
       "ReLU                 28 x 64 x 128 x 128  0          False     \n",
       "________________________________________________________________\n",
       "MaxPool2d            28 x 64 x 64 x 64    0          False     \n",
       "________________________________________________________________\n",
       "Conv2d               28 x 64 x 64 x 64    36,864     True      \n",
       "________________________________________________________________\n",
       "BatchNorm2d          28 x 64 x 64 x 64    128        True      \n",
       "________________________________________________________________\n",
       "ReLU                 28 x 64 x 64 x 64    0          False     \n",
       "________________________________________________________________\n",
       "Conv2d               28 x 64 x 64 x 64    36,864     True      \n",
       "________________________________________________________________\n",
       "BatchNorm2d          28 x 64 x 64 x 64    128        True      \n",
       "________________________________________________________________\n",
       "ReLU                 28 x 64 x 64 x 64    0          False     \n",
       "________________________________________________________________\n",
       "Conv2d               28 x 64 x 64 x 64    36,864     True      \n",
       "________________________________________________________________\n",
       "BatchNorm2d          28 x 64 x 64 x 64    128        True      \n",
       "________________________________________________________________\n",
       "ReLU                 28 x 64 x 64 x 64    0          False     \n",
       "________________________________________________________________\n",
       "Conv2d               28 x 64 x 64 x 64    36,864     True      \n",
       "________________________________________________________________\n",
       "BatchNorm2d          28 x 64 x 64 x 64    128        True      \n",
       "________________________________________________________________\n",
       "ReLU                 28 x 64 x 64 x 64    0          False     \n",
       "________________________________________________________________\n",
       "Conv2d               28 x 64 x 64 x 64    36,864     True      \n",
       "________________________________________________________________\n",
       "BatchNorm2d          28 x 64 x 64 x 64    128        True      \n",
       "________________________________________________________________\n",
       "ReLU                 28 x 64 x 64 x 64    0          False     \n",
       "________________________________________________________________\n",
       "Conv2d               28 x 64 x 64 x 64    36,864     True      \n",
       "________________________________________________________________\n",
       "BatchNorm2d          28 x 64 x 64 x 64    128        True      \n",
       "________________________________________________________________\n",
       "ReLU                 28 x 64 x 64 x 64    0          False     \n",
       "________________________________________________________________\n",
       "Conv2d               28 x 128 x 32 x 32   73,728     True      \n",
       "________________________________________________________________\n",
       "BatchNorm2d          28 x 128 x 32 x 32   256        True      \n",
       "________________________________________________________________\n",
       "ReLU                 28 x 128 x 32 x 32   0          False     \n",
       "________________________________________________________________\n",
       "Conv2d               28 x 128 x 32 x 32   147,456    True      \n",
       "________________________________________________________________\n",
       "BatchNorm2d          28 x 128 x 32 x 32   256        True      \n",
       "________________________________________________________________\n",
       "Conv2d               28 x 128 x 32 x 32   8,192      True      \n",
       "________________________________________________________________\n",
       "BatchNorm2d          28 x 128 x 32 x 32   256        True      \n",
       "________________________________________________________________\n",
       "AvgPool2d            28 x 64 x 32 x 32    0          False     \n",
       "________________________________________________________________\n",
       "ReLU                 28 x 128 x 32 x 32   0          False     \n",
       "________________________________________________________________\n",
       "Conv2d               28 x 128 x 32 x 32   147,456    True      \n",
       "________________________________________________________________\n",
       "BatchNorm2d          28 x 128 x 32 x 32   256        True      \n",
       "________________________________________________________________\n",
       "ReLU                 28 x 128 x 32 x 32   0          False     \n",
       "________________________________________________________________\n",
       "Conv2d               28 x 128 x 32 x 32   147,456    True      \n",
       "________________________________________________________________\n",
       "BatchNorm2d          28 x 128 x 32 x 32   256        True      \n",
       "________________________________________________________________\n",
       "ReLU                 28 x 128 x 32 x 32   0          False     \n",
       "________________________________________________________________\n",
       "Conv2d               28 x 128 x 32 x 32   147,456    True      \n",
       "________________________________________________________________\n",
       "BatchNorm2d          28 x 128 x 32 x 32   256        True      \n",
       "________________________________________________________________\n",
       "ReLU                 28 x 128 x 32 x 32   0          False     \n",
       "________________________________________________________________\n",
       "Conv2d               28 x 128 x 32 x 32   147,456    True      \n",
       "________________________________________________________________\n",
       "BatchNorm2d          28 x 128 x 32 x 32   256        True      \n",
       "________________________________________________________________\n",
       "ReLU                 28 x 128 x 32 x 32   0          False     \n",
       "________________________________________________________________\n",
       "Conv2d               28 x 128 x 32 x 32   147,456    True      \n",
       "________________________________________________________________\n",
       "BatchNorm2d          28 x 128 x 32 x 32   256        True      \n",
       "________________________________________________________________\n",
       "ReLU                 28 x 128 x 32 x 32   0          False     \n",
       "________________________________________________________________\n",
       "Conv2d               28 x 128 x 32 x 32   147,456    True      \n",
       "________________________________________________________________\n",
       "BatchNorm2d          28 x 128 x 32 x 32   256        True      \n",
       "________________________________________________________________\n",
       "ReLU                 28 x 128 x 32 x 32   0          False     \n",
       "________________________________________________________________\n",
       "Conv2d               28 x 256 x 16 x 16   294,912    True      \n",
       "________________________________________________________________\n",
       "BatchNorm2d          28 x 256 x 16 x 16   512        True      \n",
       "________________________________________________________________\n",
       "ReLU                 28 x 256 x 16 x 16   0          False     \n",
       "________________________________________________________________\n",
       "Conv2d               28 x 256 x 16 x 16   589,824    True      \n",
       "________________________________________________________________\n",
       "BatchNorm2d          28 x 256 x 16 x 16   512        True      \n",
       "________________________________________________________________\n",
       "Conv2d               28 x 256 x 16 x 16   32,768     True      \n",
       "________________________________________________________________\n",
       "BatchNorm2d          28 x 256 x 16 x 16   512        True      \n",
       "________________________________________________________________\n",
       "AvgPool2d            28 x 128 x 16 x 16   0          False     \n",
       "________________________________________________________________\n",
       "ReLU                 28 x 256 x 16 x 16   0          False     \n",
       "________________________________________________________________\n",
       "Conv2d               28 x 256 x 16 x 16   589,824    True      \n",
       "________________________________________________________________\n",
       "BatchNorm2d          28 x 256 x 16 x 16   512        True      \n",
       "________________________________________________________________\n",
       "ReLU                 28 x 256 x 16 x 16   0          False     \n",
       "________________________________________________________________\n",
       "Conv2d               28 x 256 x 16 x 16   589,824    True      \n",
       "________________________________________________________________\n",
       "BatchNorm2d          28 x 256 x 16 x 16   512        True      \n",
       "________________________________________________________________\n",
       "ReLU                 28 x 256 x 16 x 16   0          False     \n",
       "________________________________________________________________\n",
       "Conv2d               28 x 256 x 16 x 16   589,824    True      \n",
       "________________________________________________________________\n",
       "BatchNorm2d          28 x 256 x 16 x 16   512        True      \n",
       "________________________________________________________________\n",
       "ReLU                 28 x 256 x 16 x 16   0          False     \n",
       "________________________________________________________________\n",
       "Conv2d               28 x 256 x 16 x 16   589,824    True      \n",
       "________________________________________________________________\n",
       "BatchNorm2d          28 x 256 x 16 x 16   512        True      \n",
       "________________________________________________________________\n",
       "ReLU                 28 x 256 x 16 x 16   0          False     \n",
       "________________________________________________________________\n",
       "Conv2d               28 x 256 x 16 x 16   589,824    True      \n",
       "________________________________________________________________\n",
       "BatchNorm2d          28 x 256 x 16 x 16   512        True      \n",
       "________________________________________________________________\n",
       "ReLU                 28 x 256 x 16 x 16   0          False     \n",
       "________________________________________________________________\n",
       "Conv2d               28 x 256 x 16 x 16   589,824    True      \n",
       "________________________________________________________________\n",
       "BatchNorm2d          28 x 256 x 16 x 16   512        True      \n",
       "________________________________________________________________\n",
       "ReLU                 28 x 256 x 16 x 16   0          False     \n",
       "________________________________________________________________\n",
       "Conv2d               28 x 256 x 16 x 16   589,824    True      \n",
       "________________________________________________________________\n",
       "BatchNorm2d          28 x 256 x 16 x 16   512        True      \n",
       "________________________________________________________________\n",
       "ReLU                 28 x 256 x 16 x 16   0          False     \n",
       "________________________________________________________________\n",
       "Conv2d               28 x 256 x 16 x 16   589,824    True      \n",
       "________________________________________________________________\n",
       "BatchNorm2d          28 x 256 x 16 x 16   512        True      \n",
       "________________________________________________________________\n",
       "ReLU                 28 x 256 x 16 x 16   0          False     \n",
       "________________________________________________________________\n",
       "Conv2d               28 x 256 x 16 x 16   589,824    True      \n",
       "________________________________________________________________\n",
       "BatchNorm2d          28 x 256 x 16 x 16   512        True      \n",
       "________________________________________________________________\n",
       "ReLU                 28 x 256 x 16 x 16   0          False     \n",
       "________________________________________________________________\n",
       "Conv2d               28 x 256 x 16 x 16   589,824    True      \n",
       "________________________________________________________________\n",
       "BatchNorm2d          28 x 256 x 16 x 16   512        True      \n",
       "________________________________________________________________\n",
       "ReLU                 28 x 256 x 16 x 16   0          False     \n",
       "________________________________________________________________\n",
       "Conv2d               28 x 512 x 8 x 8     1,179,648  True      \n",
       "________________________________________________________________\n",
       "BatchNorm2d          28 x 512 x 8 x 8     1,024      True      \n",
       "________________________________________________________________\n",
       "ReLU                 28 x 512 x 8 x 8     0          False     \n",
       "________________________________________________________________\n",
       "Conv2d               28 x 512 x 8 x 8     2,359,296  True      \n",
       "________________________________________________________________\n",
       "BatchNorm2d          28 x 512 x 8 x 8     1,024      True      \n",
       "________________________________________________________________\n",
       "Conv2d               28 x 512 x 8 x 8     131,072    True      \n",
       "________________________________________________________________\n",
       "BatchNorm2d          28 x 512 x 8 x 8     1,024      True      \n",
       "________________________________________________________________\n",
       "AvgPool2d            28 x 256 x 8 x 8     0          False     \n",
       "________________________________________________________________\n",
       "ReLU                 28 x 512 x 8 x 8     0          False     \n",
       "________________________________________________________________\n",
       "Conv2d               28 x 512 x 8 x 8     2,359,296  True      \n",
       "________________________________________________________________\n",
       "BatchNorm2d          28 x 512 x 8 x 8     1,024      True      \n",
       "________________________________________________________________\n",
       "ReLU                 28 x 512 x 8 x 8     0          False     \n",
       "________________________________________________________________\n",
       "Conv2d               28 x 512 x 8 x 8     2,359,296  True      \n",
       "________________________________________________________________\n",
       "BatchNorm2d          28 x 512 x 8 x 8     1,024      True      \n",
       "________________________________________________________________\n",
       "ReLU                 28 x 512 x 8 x 8     0          False     \n",
       "________________________________________________________________\n",
       "Conv2d               28 x 512 x 8 x 8     2,359,296  True      \n",
       "________________________________________________________________\n",
       "BatchNorm2d          28 x 512 x 8 x 8     1,024      True      \n",
       "________________________________________________________________\n",
       "ReLU                 28 x 512 x 8 x 8     0          False     \n",
       "________________________________________________________________\n",
       "Conv2d               28 x 512 x 8 x 8     2,359,296  True      \n",
       "________________________________________________________________\n",
       "BatchNorm2d          28 x 512 x 8 x 8     1,024      True      \n",
       "________________________________________________________________\n",
       "ReLU                 28 x 512 x 8 x 8     0          False     \n",
       "________________________________________________________________\n",
       "AdaptiveAvgPool2d    28 x 512 x 1 x 1     0          False     \n",
       "________________________________________________________________\n",
       "Batchify             28 x 512 x 1 x 1 x 1 0          False     \n",
       "________________________________________________________________\n",
       "Conv3d               28 x 256 x 1 x 1 x 1 5,898,240  True      \n",
       "________________________________________________________________\n",
       "BatchNorm3d          28 x 256 x 1 x 1 x 1 512        True      \n",
       "________________________________________________________________\n",
       "ReLU                 28 x 256 x 1 x 1 x 1 0          False     \n",
       "________________________________________________________________\n",
       "Conv3d               28 x 128 x 1 x 1 x 1 1,474,560  True      \n",
       "________________________________________________________________\n",
       "BatchNorm3d          28 x 128 x 1 x 1 x 1 256        True      \n",
       "________________________________________________________________\n",
       "ReLU                 28 x 128 x 1 x 1 x 1 0          False     \n",
       "________________________________________________________________\n",
       "Conv3d               28 x 64 x 1 x 1 x 1  368,640    True      \n",
       "________________________________________________________________\n",
       "BatchNorm3d          28 x 64 x 1 x 1 x 1  128        True      \n",
       "________________________________________________________________\n",
       "ReLU                 28 x 64 x 1 x 1 x 1  0          False     \n",
       "________________________________________________________________\n",
       "DeBatchify           28 x 64 x 1 x 1      0          False     \n",
       "________________________________________________________________\n",
       "AdaptiveAvgPool2d    28 x 64 x 1 x 1      0          False     \n",
       "________________________________________________________________\n",
       "Flatten              28 x 64              0          False     \n",
       "________________________________________________________________\n",
       "Linear               28 x 6               390        True      \n",
       "________________________________________________________________\n",
       "\n",
       "Total params: 29,046,630\n",
       "Total trainable params: 29,046,630\n",
       "Total non-trainable params: 0\n",
       "\n",
       "Optimizer used: functools.partial(<function Adam at 0x7f82dda983b0>, wd=1e-05, eps=0.0001, sqr_mom=0.999)\n",
       "Loss function: FlattenedLoss of BCEWithLogitsLoss()\n",
       "\n",
       "Callbacks:\n",
       "  - ModelToHalf\n",
       "  - TrainEvalCallback\n",
       "  - Recorder\n",
       "  - ProgressCallback\n",
       "  - MixedPrecision"
      ]
     },
     "execution_count": 14,
     "metadata": {},
     "output_type": "execute_result"
    }
   ],
   "source": [
    "learn.summary()"
   ]
  },
  {
   "cell_type": "markdown",
   "metadata": {},
   "source": [
    "## Training"
   ]
  },
  {
   "cell_type": "code",
   "execution_count": 18,
   "metadata": {},
   "outputs": [],
   "source": [
    "name = 'train3d_sample'"
   ]
  },
  {
   "cell_type": "code",
   "execution_count": null,
   "metadata": {},
   "outputs": [],
   "source": [
    "do_fit(learn, 1, 4e-2, freeze=False)\n",
    "learn.save(f'runs/{name}-1')"
   ]
  },
  {
   "cell_type": "markdown",
   "metadata": {},
   "source": [
    "## Export"
   ]
  },
  {
   "cell_type": "code",
   "execution_count": 12,
   "metadata": {},
   "outputs": [
    {
     "name": "stdout",
     "output_type": "stream",
     "text": [
      "Converted 01_data_01_metadata_stage2.ipynb.\n",
      "Converted 01_data_02_preprocess_windows.ipynb.\n",
      "Converted 02_train_00_train.ipynb.\n",
      "Converted 02_train_01_train_full.ipynb.\n",
      "Converted 02_train_02_train_wgt.ipynb.\n",
      "Converted 03_train3d_00_train3d.ipynb.\n",
      "Converted 03_train3d_01_train3d.ipynb.\n",
      "This cell doesn't have an export destination and was ignored:\n",
      "e\n",
      "Converted 03_train3d_scratch_3Dbatch.ipynb.\n",
      "Converted 03_train3d_scratch_extract_features.ipynb.\n"
     ]
    }
   ],
   "source": [
    "#hide\n",
    "from nbdev.export import notebook2script\n",
    "notebook2script()"
   ]
  }
 ],
 "metadata": {
  "kernelspec": {
   "display_name": "Python 3",
   "language": "python",
   "name": "python3"
  },
  "language_info": {
   "codemirror_mode": {
    "name": "ipython",
    "version": 3
   },
   "file_extension": ".py",
   "mimetype": "text/x-python",
   "name": "python",
   "nbconvert_exporter": "python",
   "pygments_lexer": "ipython3",
   "version": "3.7.5"
  }
 },
 "nbformat": 4,
 "nbformat_minor": 2
}

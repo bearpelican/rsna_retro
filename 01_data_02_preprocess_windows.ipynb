{
 "cells": [
  {
   "cell_type": "code",
   "execution_count": 1,
   "metadata": {},
   "outputs": [],
   "source": [
    "#default_exp preprocess"
   ]
  },
  {
   "cell_type": "code",
   "execution_count": 2,
   "metadata": {},
   "outputs": [],
   "source": [
    "#export\n",
    "from rsna_retro.imports import *\n",
    "from rsna_retro.metadata import *"
   ]
  },
  {
   "cell_type": "code",
   "execution_count": 3,
   "metadata": {},
   "outputs": [],
   "source": [
    "torch.cuda.set_device(3)"
   ]
  },
  {
   "cell_type": "code",
   "execution_count": 4,
   "metadata": {},
   "outputs": [],
   "source": [
    "#export\n",
    "\n",
    "def fix_pxrepr(dcm):\n",
    "    if dcm.PixelRepresentation != 0 or dcm.RescaleIntercept<-100: return dcm\n",
    "    \n",
    "def dcm_tfm(fn):\n",
    "    try:\n",
    "        x = fn.dcmread()\n",
    "        fix_pxrepr(x)\n",
    "    except Exception as e:\n",
    "        print(fn,e)\n",
    "        raise SkipItemException\n",
    "    if x.Rows != 512 or x.Columns != 512: x.zoom_to((512,512))\n",
    "    return x.scaled_px\n",
    "\n",
    "def save_file(o, dest, ext, tiff):\n",
    "    fname,px = o\n",
    "    fn = dest/Path(fname).with_suffix(f'{ext}')\n",
    "#     wins = (dicom_windows.brain, dicom_windows.subdural, dicom_windows.abdomen_soft)\n",
    "    wins = [(80,40),(80,200),(40,380)] # appian windows\n",
    "    if tiff: px.save_tif16(fn, compress=False)\n",
    "    else:    px.save_jpg(fn, wins)\n",
    "\n",
    "def process_batch(pxs, fnames, dest, tiff, crop, resize, n_workers=4):\n",
    "    ext = '.tif' if tiff else '.jpg'\n",
    "    if crop or resize: pxs = TensorImage(pxs.cuda())\n",
    "    if resize:\n",
    "        tfm = AffineCoordTfm(size=256)\n",
    "        pxs = tfm(pxs.unsqueeze(1)).squeeze()\n",
    "    if crop:\n",
    "        masks = pxs.mask_from_blur((80,40))\n",
    "        bbs = mask2bbox(masks)\n",
    "        pxs = crop_resize(pxs, bbs, 256)\n",
    "    if crop or resize: pxs = pxs.cpu().squeeze()\n",
    "    parallel(save_file, zip(fnames, pxs), n_workers=n_workers, progress=False, dest=dest, ext=ext, tiff=tiff)\n",
    "    "
   ]
  },
  {
   "cell_type": "code",
   "execution_count": 5,
   "metadata": {},
   "outputs": [],
   "source": [
    "#export\n",
    "def filename(o): return os.path.splitext(os.path.basename(o))[0]"
   ]
  },
  {
   "cell_type": "code",
   "execution_count": 6,
   "metadata": {},
   "outputs": [],
   "source": [
    "#export\n",
    "def process_dataset(resize=False, test=False, tiff=False, crop=False, trial=False, bs=128, n_workers=8):\n",
    "    df = df_tst if test else df_comb\n",
    "    path_dcm = path_tst if test else path_trn\n",
    "    fns = [path_dcm/f'{filename(o)}.dcm' for o in df.fname.values]\n",
    "    fns = [f for f in fns if not f.exists()]\n",
    "    dest_fn = ('tst_'  if test else\n",
    "               'crop_' if crop else\n",
    "               'nocrop_')\n",
    "    dest_fn += 'tif' if tiff else 'jpg'\n",
    "    if resize: dest_fn += '256'\n",
    "    dest = path/dest_fn\n",
    "    dest.mkdir(exist_ok=True)\n",
    "\n",
    "    dsrc = DataSource(fns, [[dcm_tfm],[os.path.basename]])\n",
    "    dl = TfmdDL(dsrc, bs=bs, num_workers=1)\n",
    "\n",
    "    for i,b in enumerate(progress_bar(dl)):\n",
    "        process_batch(*b, dest=dest, tiff=tiff, crop=crop, resize=resize, n_workers=n_workers)\n",
    "        if trial and i==2: break"
   ]
  },
  {
   "cell_type": "code",
   "execution_count": 7,
   "metadata": {},
   "outputs": [
    {
     "data": {
      "text/html": [
       "\n",
       "    <div>\n",
       "        <style>\n",
       "            /* Turns off some styling */\n",
       "            progress {\n",
       "                /* gets rid of default border in Firefox and Opera. */\n",
       "                border: none;\n",
       "                /* Needs to be in here for Safari polyfill so background images work as expected. */\n",
       "                background-size: auto;\n",
       "            }\n",
       "            .progress-bar-interrupted, .progress-bar-interrupted::-webkit-progress-bar {\n",
       "                background: #F44336;\n",
       "            }\n",
       "        </style>\n",
       "      <progress value='5882' class='' max='5882', style='width:300px; height:20px; vertical-align: middle;'></progress>\n",
       "      100.00% [5882/5882 1:37:27<00:00]\n",
       "    </div>\n",
       "    "
      ],
      "text/plain": [
       "<IPython.core.display.HTML object>"
      ]
     },
     "metadata": {},
     "output_type": "display_data"
    }
   ],
   "source": [
    "process_dataset(resize=True)"
   ]
  },
  {
   "cell_type": "code",
   "execution_count": 8,
   "metadata": {},
   "outputs": [
    {
     "data": {
      "text/html": [
       "\n",
       "    <div>\n",
       "        <style>\n",
       "            /* Turns off some styling */\n",
       "            progress {\n",
       "                /* gets rid of default border in Firefox and Opera. */\n",
       "                border: none;\n",
       "                /* Needs to be in here for Safari polyfill so background images work as expected. */\n",
       "                background-size: auto;\n",
       "            }\n",
       "            .progress-bar-interrupted, .progress-bar-interrupted::-webkit-progress-bar {\n",
       "                background: #F44336;\n",
       "            }\n",
       "        </style>\n",
       "      <progress value='948' class='' max='948', style='width:300px; height:20px; vertical-align: middle;'></progress>\n",
       "      100.00% [948/948 21:48<00:00]\n",
       "    </div>\n",
       "    "
      ],
      "text/plain": [
       "<IPython.core.display.HTML object>"
      ]
     },
     "metadata": {},
     "output_type": "display_data"
    }
   ],
   "source": [
    "process_dataset(test=True)"
   ]
  },
  {
   "cell_type": "code",
   "execution_count": 9,
   "metadata": {},
   "outputs": [
    {
     "data": {
      "text/html": [
       "\n",
       "    <div>\n",
       "        <style>\n",
       "            /* Turns off some styling */\n",
       "            progress {\n",
       "                /* gets rid of default border in Firefox and Opera. */\n",
       "                border: none;\n",
       "                /* Needs to be in here for Safari polyfill so background images work as expected. */\n",
       "                background-size: auto;\n",
       "            }\n",
       "            .progress-bar-interrupted, .progress-bar-interrupted::-webkit-progress-bar {\n",
       "                background: #F44336;\n",
       "            }\n",
       "        </style>\n",
       "      <progress value='5882' class='' max='5882', style='width:300px; height:20px; vertical-align: middle;'></progress>\n",
       "      100.00% [5882/5882 2:36:26<00:00]\n",
       "    </div>\n",
       "    "
      ],
      "text/plain": [
       "<IPython.core.display.HTML object>"
      ]
     },
     "metadata": {},
     "output_type": "display_data"
    },
    {
     "name": "stderr",
     "output_type": "stream",
     "text": [
      "IOPub message rate exceeded.\n",
      "The notebook server will temporarily stop sending output\n",
      "to the client in order to avoid crashing it.\n",
      "To change this limit, set the config variable\n",
      "`--NotebookApp.iopub_msg_rate_limit`.\n",
      "\n",
      "Current values:\n",
      "NotebookApp.iopub_msg_rate_limit=1000.0 (msgs/sec)\n",
      "NotebookApp.rate_limit_window=3.0 (secs)\n",
      "\n"
     ]
    }
   ],
   "source": [
    "process_dataset()"
   ]
  },
  {
   "cell_type": "code",
   "execution_count": 10,
   "metadata": {},
   "outputs": [
    {
     "data": {
      "text/html": [
       "\n",
       "    <div>\n",
       "        <style>\n",
       "            /* Turns off some styling */\n",
       "            progress {\n",
       "                /* gets rid of default border in Firefox and Opera. */\n",
       "                border: none;\n",
       "                /* Needs to be in here for Safari polyfill so background images work as expected. */\n",
       "                background-size: auto;\n",
       "            }\n",
       "            .progress-bar-interrupted, .progress-bar-interrupted::-webkit-progress-bar {\n",
       "                background: #F44336;\n",
       "            }\n",
       "        </style>\n",
       "      <progress value='948' class='' max='948', style='width:300px; height:20px; vertical-align: middle;'></progress>\n",
       "      100.00% [948/948 16:04<00:00]\n",
       "    </div>\n",
       "    "
      ],
      "text/plain": [
       "<IPython.core.display.HTML object>"
      ]
     },
     "metadata": {},
     "output_type": "display_data"
    }
   ],
   "source": [
    "process_dataset(test=True, resize=True)"
   ]
  },
  {
   "cell_type": "markdown",
   "metadata": {},
   "source": [
    "## Creating a script"
   ]
  },
  {
   "cell_type": "code",
   "execution_count": null,
   "metadata": {},
   "outputs": [],
   "source": [
    "#export\n",
    "@call_parse\n",
    "def preprocess_script(\n",
    "    resize:Param(\"Resize to 256px\"   , bool)=False,\n",
    "    test  :Param(\"Process test set\"  , bool)=False,\n",
    "    tiff  :Param(\"Save TIFF format\"  , bool)=False,\n",
    "    crop  :Param(\"Crop to brain area\", bool)=False,\n",
    "    trial :Param(\"Just do 2 batches\" , bool)=False,\n",
    "    bs    :Param(\"Batch size\"        , int)=256,\n",
    "    n_workers:Param(\"Number of workers\", int)=8,\n",
    "):\n",
    "    print('resize,test,tiff,crop,trial,bs,n_workers')\n",
    "    print(resize,test,tiff,crop,trial,bs,n_workers)\n",
    "    process_dataset(resize,test,tiff,crop,trial,bs,n_workers)"
   ]
  },
  {
   "cell_type": "markdown",
   "metadata": {},
   "source": [
    "To Run this script:\n",
    "`python -m rsna_retro.preprocess.preprocess_script `"
   ]
  },
  {
   "cell_type": "code",
   "execution_count": 1,
   "metadata": {},
   "outputs": [
    {
     "name": "stdout",
     "output_type": "stream",
     "text": [
      "Converted 01_data_01_metadata_stage2.ipynb.\n",
      "Converted 01_data_02_preprocess_windows.ipynb.\n",
      "Converted 02_train_01_train.ipynb.\n",
      "Converted 04_orig_replace_ashaw_refactor.ipynb.\n",
      "Converted 04_replace_ashaw_refactor.ipynb.\n",
      "Converted 04b_orig_replace_ashaw_refactor.ipynb.\n",
      "Converted 10_qure.ipynb.\n",
      "Converted 12_merge.ipynb.\n",
      "Converted 14_xgboost.ipynb.\n",
      "Converted 16_slice_e2e-shallow.ipynb.\n",
      "Converted 16b_orig_slice_e2e-shallow.ipynb.\n",
      "This cell doesn't have an export destination and was ignored:\n",
      "e\n",
      "Converted 17_slice_model-deep.ipynb.\n",
      "Converted 21_cleanup-nocrop2.ipynb.\n",
      "Converted 26_submit_final.ipynb.\n",
      "Converted 27_ensemble_tabular_nn.ipynb.\n",
      "Converted 99_index.ipynb.\n",
      "Converted cleanup-combine-qure.ipynb.\n",
      "Converted delete_03b_cleanup-tif.ipynb.\n",
      "Converted submit.ipynb.\n",
      "Converted walkthru.ipynb.\n",
      "Converted x00_tcia-ct-segm-prep.ipynb.\n",
      "Converted x00_tcia-ct-segm-train.ipynb.\n"
     ]
    }
   ],
   "source": [
    "#hide\n",
    "from nbdev.export import notebook2script\n",
    "notebook2script()"
   ]
  }
 ],
 "metadata": {
  "kernelspec": {
   "display_name": "Python 3",
   "language": "python",
   "name": "python3"
  },
  "language_info": {
   "codemirror_mode": {
    "name": "ipython",
    "version": 3
   },
   "file_extension": ".py",
   "mimetype": "text/x-python",
   "name": "python",
   "nbconvert_exporter": "python",
   "pygments_lexer": "ipython3",
   "version": "3.7.5"
  }
 },
 "nbformat": 4,
 "nbformat_minor": 2
}

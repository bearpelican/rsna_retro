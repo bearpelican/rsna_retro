{
 "cells": [
  {
   "cell_type": "code",
   "execution_count": 1,
   "metadata": {},
   "outputs": [
    {
     "name": "stdout",
     "output_type": "stream",
     "text": [
      "Loading imports\n",
      "Warning: Your Kaggle API key is readable by other users on this system! To fix this, you can run 'chmod 600 /home/ashaw/.kaggle/kaggle.json'\n"
     ]
    }
   ],
   "source": [
    "from rsna_retro.imports import *\n",
    "from rsna_retro.metadata import *\n",
    "from rsna_retro.preprocess import *\n",
    "from rsna_retro.train import *\n",
    "# from rsna_retro.train3d import *\n",
    "from rsna_retro.train_adjacent import *"
   ]
  },
  {
   "cell_type": "code",
   "execution_count": 2,
   "metadata": {},
   "outputs": [],
   "source": [
    "torch.cuda.set_device(1)"
   ]
  },
  {
   "cell_type": "markdown",
   "metadata": {},
   "source": [
    "## Train"
   ]
  },
  {
   "cell_type": "code",
   "execution_count": 3,
   "metadata": {},
   "outputs": [],
   "source": [
    "name = 'train_adjacent_3c'"
   ]
  },
  {
   "cell_type": "code",
   "execution_count": 5,
   "metadata": {},
   "outputs": [],
   "source": [
    "# dbunch = get_data_gen(Meta.df_any, Meta.grps_any, 512, sz=128, c3=True)\n",
    "dbunch = get_adj_data(512, 128, Meta.splits_stg1, c3=True)\n",
    "learn = get_learner(dbunch, xresnet18)"
   ]
  },
  {
   "cell_type": "code",
   "execution_count": 5,
   "metadata": {},
   "outputs": [
    {
     "data": {
      "text/html": [
       "<table border=\"1\" class=\"dataframe\">\n",
       "  <thead>\n",
       "    <tr style=\"text-align: left;\">\n",
       "      <th>epoch</th>\n",
       "      <th>train_loss</th>\n",
       "      <th>valid_loss</th>\n",
       "      <th>accuracy_multi</th>\n",
       "      <th>accuracy_any</th>\n",
       "      <th>time</th>\n",
       "    </tr>\n",
       "  </thead>\n",
       "  <tbody>\n",
       "    <tr>\n",
       "      <td>0</td>\n",
       "      <td>0.269365</td>\n",
       "      <td>0.284156</td>\n",
       "      <td>0.891961</td>\n",
       "      <td>0.782228</td>\n",
       "      <td>05:49</td>\n",
       "    </tr>\n",
       "    <tr>\n",
       "      <td>1</td>\n",
       "      <td>0.240021</td>\n",
       "      <td>0.252687</td>\n",
       "      <td>0.907981</td>\n",
       "      <td>0.831122</td>\n",
       "      <td>05:43</td>\n",
       "    </tr>\n",
       "    <tr>\n",
       "      <td>2</td>\n",
       "      <td>0.222274</td>\n",
       "      <td>0.274895</td>\n",
       "      <td>0.898848</td>\n",
       "      <td>0.789114</td>\n",
       "      <td>05:44</td>\n",
       "    </tr>\n",
       "    <tr>\n",
       "      <td>3</td>\n",
       "      <td>0.212675</td>\n",
       "      <td>0.256419</td>\n",
       "      <td>0.903037</td>\n",
       "      <td>0.817004</td>\n",
       "      <td>05:46</td>\n",
       "    </tr>\n",
       "    <tr>\n",
       "      <td>4</td>\n",
       "      <td>0.204610</td>\n",
       "      <td>0.208262</td>\n",
       "      <td>0.922973</td>\n",
       "      <td>0.863965</td>\n",
       "      <td>05:50</td>\n",
       "    </tr>\n",
       "    <tr>\n",
       "      <td>5</td>\n",
       "      <td>0.199007</td>\n",
       "      <td>0.209916</td>\n",
       "      <td>0.920333</td>\n",
       "      <td>0.856814</td>\n",
       "      <td>05:51</td>\n",
       "    </tr>\n",
       "    <tr>\n",
       "      <td>6</td>\n",
       "      <td>0.196785</td>\n",
       "      <td>0.215926</td>\n",
       "      <td>0.923330</td>\n",
       "      <td>0.843253</td>\n",
       "      <td>05:50</td>\n",
       "    </tr>\n",
       "    <tr>\n",
       "      <td>7</td>\n",
       "      <td>0.190333</td>\n",
       "      <td>0.199025</td>\n",
       "      <td>0.928972</td>\n",
       "      <td>0.866190</td>\n",
       "      <td>05:44</td>\n",
       "    </tr>\n",
       "    <tr>\n",
       "      <td>8</td>\n",
       "      <td>0.184499</td>\n",
       "      <td>0.217785</td>\n",
       "      <td>0.925767</td>\n",
       "      <td>0.854059</td>\n",
       "      <td>05:55</td>\n",
       "    </tr>\n",
       "    <tr>\n",
       "      <td>9</td>\n",
       "      <td>0.181565</td>\n",
       "      <td>0.185740</td>\n",
       "      <td>0.933417</td>\n",
       "      <td>0.879115</td>\n",
       "      <td>05:46</td>\n",
       "    </tr>\n",
       "    <tr>\n",
       "      <td>10</td>\n",
       "      <td>0.177099</td>\n",
       "      <td>0.196794</td>\n",
       "      <td>0.931131</td>\n",
       "      <td>0.872759</td>\n",
       "      <td>05:46</td>\n",
       "    </tr>\n",
       "    <tr>\n",
       "      <td>11</td>\n",
       "      <td>0.171304</td>\n",
       "      <td>0.186646</td>\n",
       "      <td>0.934892</td>\n",
       "      <td>0.880069</td>\n",
       "      <td>05:46</td>\n",
       "    </tr>\n",
       "    <tr>\n",
       "      <td>12</td>\n",
       "      <td>0.168751</td>\n",
       "      <td>0.183411</td>\n",
       "      <td>0.934380</td>\n",
       "      <td>0.880175</td>\n",
       "      <td>05:51</td>\n",
       "    </tr>\n",
       "    <tr>\n",
       "      <td>13</td>\n",
       "      <td>0.162345</td>\n",
       "      <td>0.181353</td>\n",
       "      <td>0.935298</td>\n",
       "      <td>0.879195</td>\n",
       "      <td>05:48</td>\n",
       "    </tr>\n",
       "    <tr>\n",
       "      <td>14</td>\n",
       "      <td>0.159194</td>\n",
       "      <td>0.171952</td>\n",
       "      <td>0.938838</td>\n",
       "      <td>0.889074</td>\n",
       "      <td>05:46</td>\n",
       "    </tr>\n",
       "    <tr>\n",
       "      <td>15</td>\n",
       "      <td>0.151846</td>\n",
       "      <td>0.172922</td>\n",
       "      <td>0.939412</td>\n",
       "      <td>0.888809</td>\n",
       "      <td>05:50</td>\n",
       "    </tr>\n",
       "    <tr>\n",
       "      <td>16</td>\n",
       "      <td>0.145978</td>\n",
       "      <td>0.169528</td>\n",
       "      <td>0.940105</td>\n",
       "      <td>0.891167</td>\n",
       "      <td>05:48</td>\n",
       "    </tr>\n",
       "    <tr>\n",
       "      <td>17</td>\n",
       "      <td>0.141365</td>\n",
       "      <td>0.169085</td>\n",
       "      <td>0.940957</td>\n",
       "      <td>0.891299</td>\n",
       "      <td>05:43</td>\n",
       "    </tr>\n",
       "    <tr>\n",
       "      <td>18</td>\n",
       "      <td>0.138287</td>\n",
       "      <td>0.167758</td>\n",
       "      <td>0.941496</td>\n",
       "      <td>0.892650</td>\n",
       "      <td>05:50</td>\n",
       "    </tr>\n",
       "    <tr>\n",
       "      <td>19</td>\n",
       "      <td>0.135962</td>\n",
       "      <td>0.168495</td>\n",
       "      <td>0.941526</td>\n",
       "      <td>0.892676</td>\n",
       "      <td>05:54</td>\n",
       "    </tr>\n",
       "  </tbody>\n",
       "</table>"
      ],
      "text/plain": [
       "<IPython.core.display.HTML object>"
      ]
     },
     "metadata": {},
     "output_type": "display_data"
    }
   ],
   "source": [
    "do_fit(learn, 20, 4e-2)\n",
    "learn.save(f'runs/{name}-1')"
   ]
  },
  {
   "cell_type": "code",
   "execution_count": 6,
   "metadata": {},
   "outputs": [
    {
     "data": {
      "text/html": [
       "<table border=\"1\" class=\"dataframe\">\n",
       "  <thead>\n",
       "    <tr style=\"text-align: left;\">\n",
       "      <th>epoch</th>\n",
       "      <th>train_loss</th>\n",
       "      <th>valid_loss</th>\n",
       "      <th>accuracy_multi</th>\n",
       "      <th>accuracy_any</th>\n",
       "      <th>time</th>\n",
       "    </tr>\n",
       "  </thead>\n",
       "  <tbody>\n",
       "    <tr>\n",
       "      <td>0</td>\n",
       "      <td>0.178314</td>\n",
       "      <td>0.190167</td>\n",
       "      <td>0.932243</td>\n",
       "      <td>0.876016</td>\n",
       "      <td>06:33</td>\n",
       "    </tr>\n",
       "    <tr>\n",
       "      <td>1</td>\n",
       "      <td>0.163995</td>\n",
       "      <td>0.176704</td>\n",
       "      <td>0.936936</td>\n",
       "      <td>0.886532</td>\n",
       "      <td>06:29</td>\n",
       "    </tr>\n",
       "    <tr>\n",
       "      <td>2</td>\n",
       "      <td>0.156380</td>\n",
       "      <td>0.172639</td>\n",
       "      <td>0.938507</td>\n",
       "      <td>0.888598</td>\n",
       "      <td>06:28</td>\n",
       "    </tr>\n",
       "    <tr>\n",
       "      <td>3</td>\n",
       "      <td>0.150417</td>\n",
       "      <td>0.172572</td>\n",
       "      <td>0.938715</td>\n",
       "      <td>0.887379</td>\n",
       "      <td>06:30</td>\n",
       "    </tr>\n",
       "    <tr>\n",
       "      <td>4</td>\n",
       "      <td>0.148932</td>\n",
       "      <td>0.167169</td>\n",
       "      <td>0.940829</td>\n",
       "      <td>0.893127</td>\n",
       "      <td>06:29</td>\n",
       "    </tr>\n",
       "    <tr>\n",
       "      <td>5</td>\n",
       "      <td>0.146415</td>\n",
       "      <td>0.170050</td>\n",
       "      <td>0.940185</td>\n",
       "      <td>0.888942</td>\n",
       "      <td>06:29</td>\n",
       "    </tr>\n",
       "    <tr>\n",
       "      <td>6</td>\n",
       "      <td>0.142422</td>\n",
       "      <td>0.169537</td>\n",
       "      <td>0.941231</td>\n",
       "      <td>0.892412</td>\n",
       "      <td>06:29</td>\n",
       "    </tr>\n",
       "    <tr>\n",
       "      <td>7</td>\n",
       "      <td>0.140100</td>\n",
       "      <td>0.164451</td>\n",
       "      <td>0.942140</td>\n",
       "      <td>0.895484</td>\n",
       "      <td>06:31</td>\n",
       "    </tr>\n",
       "    <tr>\n",
       "      <td>8</td>\n",
       "      <td>0.135010</td>\n",
       "      <td>0.166667</td>\n",
       "      <td>0.942630</td>\n",
       "      <td>0.896332</td>\n",
       "      <td>06:29</td>\n",
       "    </tr>\n",
       "    <tr>\n",
       "      <td>9</td>\n",
       "      <td>0.132576</td>\n",
       "      <td>0.170250</td>\n",
       "      <td>0.941760</td>\n",
       "      <td>0.895113</td>\n",
       "      <td>06:29</td>\n",
       "    </tr>\n",
       "    <tr>\n",
       "      <td>10</td>\n",
       "      <td>0.131406</td>\n",
       "      <td>0.170626</td>\n",
       "      <td>0.941906</td>\n",
       "      <td>0.894954</td>\n",
       "      <td>06:30</td>\n",
       "    </tr>\n",
       "    <tr>\n",
       "      <td>11</td>\n",
       "      <td>0.126625</td>\n",
       "      <td>0.170928</td>\n",
       "      <td>0.942277</td>\n",
       "      <td>0.895034</td>\n",
       "      <td>06:29</td>\n",
       "    </tr>\n",
       "    <tr>\n",
       "      <td>12</td>\n",
       "      <td>0.120637</td>\n",
       "      <td>0.169497</td>\n",
       "      <td>0.942820</td>\n",
       "      <td>0.895987</td>\n",
       "      <td>06:31</td>\n",
       "    </tr>\n",
       "    <tr>\n",
       "      <td>13</td>\n",
       "      <td>0.116871</td>\n",
       "      <td>0.172089</td>\n",
       "      <td>0.942634</td>\n",
       "      <td>0.895934</td>\n",
       "      <td>06:29</td>\n",
       "    </tr>\n",
       "    <tr>\n",
       "      <td>14</td>\n",
       "      <td>0.111539</td>\n",
       "      <td>0.179768</td>\n",
       "      <td>0.941880</td>\n",
       "      <td>0.894451</td>\n",
       "      <td>06:29</td>\n",
       "    </tr>\n",
       "    <tr>\n",
       "      <td>15</td>\n",
       "      <td>0.108755</td>\n",
       "      <td>0.180348</td>\n",
       "      <td>0.942290</td>\n",
       "      <td>0.894716</td>\n",
       "      <td>06:29</td>\n",
       "    </tr>\n",
       "    <tr>\n",
       "      <td>16</td>\n",
       "      <td>0.101683</td>\n",
       "      <td>0.182711</td>\n",
       "      <td>0.942899</td>\n",
       "      <td>0.895855</td>\n",
       "      <td>06:31</td>\n",
       "    </tr>\n",
       "    <tr>\n",
       "      <td>17</td>\n",
       "      <td>0.097730</td>\n",
       "      <td>0.184230</td>\n",
       "      <td>0.942471</td>\n",
       "      <td>0.894610</td>\n",
       "      <td>06:32</td>\n",
       "    </tr>\n",
       "    <tr>\n",
       "      <td>18</td>\n",
       "      <td>0.094799</td>\n",
       "      <td>0.186957</td>\n",
       "      <td>0.942220</td>\n",
       "      <td>0.894027</td>\n",
       "      <td>06:28</td>\n",
       "    </tr>\n",
       "    <tr>\n",
       "      <td>19</td>\n",
       "      <td>0.092623</td>\n",
       "      <td>0.187751</td>\n",
       "      <td>0.942418</td>\n",
       "      <td>0.894875</td>\n",
       "      <td>06:32</td>\n",
       "    </tr>\n",
       "  </tbody>\n",
       "</table>"
      ],
      "text/plain": [
       "<IPython.core.display.HTML object>"
      ]
     },
     "metadata": {},
     "output_type": "display_data"
    }
   ],
   "source": [
    "learn.dbunch = get_data_gen(Meta.df_any, Meta.grps_any, 512, sz=256, c3=True)\n",
    "do_fit(learn, 20, 4e-3)\n",
    "learn.save(f'runs/{name}-2')"
   ]
  },
  {
   "cell_type": "code",
   "execution_count": 7,
   "metadata": {},
   "outputs": [
    {
     "data": {
      "text/html": [
       "<table border=\"1\" class=\"dataframe\">\n",
       "  <thead>\n",
       "    <tr style=\"text-align: left;\">\n",
       "      <th>epoch</th>\n",
       "      <th>train_loss</th>\n",
       "      <th>valid_loss</th>\n",
       "      <th>accuracy_multi</th>\n",
       "      <th>accuracy_any</th>\n",
       "      <th>time</th>\n",
       "    </tr>\n",
       "  </thead>\n",
       "  <tbody>\n",
       "    <tr>\n",
       "      <td>0</td>\n",
       "      <td>0.097783</td>\n",
       "      <td>0.187456</td>\n",
       "      <td>0.941306</td>\n",
       "      <td>0.892915</td>\n",
       "      <td>06:17</td>\n",
       "    </tr>\n",
       "    <tr>\n",
       "      <td>1</td>\n",
       "      <td>0.093887</td>\n",
       "      <td>0.191735</td>\n",
       "      <td>0.941769</td>\n",
       "      <td>0.893312</td>\n",
       "      <td>06:16</td>\n",
       "    </tr>\n",
       "  </tbody>\n",
       "</table>"
      ],
      "text/plain": [
       "<IPython.core.display.HTML object>"
      ]
     },
     "metadata": {},
     "output_type": "display_data"
    }
   ],
   "source": [
    "learn.dbunch = get_data_gen(Meta.df_comb, Meta.grps, 512, sz=None, c3=True)\n",
    "do_fit(learn, 2, 5e-4)\n",
    "learn.save(f'runs/{name}-3-full')"
   ]
  },
  {
   "cell_type": "markdown",
   "metadata": {},
   "source": [
    "## Submission"
   ]
  },
  {
   "cell_type": "code",
   "execution_count": 7,
   "metadata": {},
   "outputs": [],
   "source": [
    "learn.load(f'runs/{name}-3-full')\n",
    "sub_fn = f'subm/{name}'"
   ]
  },
  {
   "cell_type": "code",
   "execution_count": 8,
   "metadata": {},
   "outputs": [],
   "source": [
    "# learn.dbunch = get_data_gen(Meta.df_tst, bs=512, sz=None, with_aug=False, tst_dir='tst_jpg256')\n",
    "learn.dbunch = get_adj_test_data(512, sz=None, tst_dir='tst_jpg256', c3=True)"
   ]
  },
  {
   "cell_type": "code",
   "execution_count": 9,
   "metadata": {},
   "outputs": [
    {
     "data": {
      "text/html": [],
      "text/plain": [
       "<IPython.core.display.HTML object>"
      ]
     },
     "metadata": {},
     "output_type": "display_data"
    }
   ],
   "source": [
    "preds,targs = learn.get_preds()"
   ]
  },
  {
   "cell_type": "code",
   "execution_count": 10,
   "metadata": {},
   "outputs": [],
   "source": [
    "pred_csv = submission(Meta.df_tst, preds, fn=sub_fn)"
   ]
  },
  {
   "cell_type": "code",
   "execution_count": 11,
   "metadata": {},
   "outputs": [
    {
     "name": "stderr",
     "output_type": "stream",
     "text": [
      "100%|██████████| 26.0M/26.0M [00:03<00:00, 8.99MB/s]\n"
     ]
    },
    {
     "data": {
      "text/plain": [
       "Successfully submitted to RSNA Intracranial Hemorrhage Detection"
      ]
     },
     "execution_count": 11,
     "metadata": {},
     "output_type": "execute_result"
    }
   ],
   "source": [
    "api.competition_submit(f'{sub_fn}.csv', f'{name} adjacent 3c', 'rsna-intracranial-hemorrhage-detection')"
   ]
  },
  {
   "cell_type": "code",
   "execution_count": 17,
   "metadata": {},
   "outputs": [
    {
     "data": {
      "text/plain": [
       "{'ref': 14244564,\n",
       " 'totalBytes': 27277209,\n",
       " 'date': '2020-01-21T07:12:15.983Z',\n",
       " 'description': 'train_adjacent_3c adjacent 3c',\n",
       " 'errorDescription': None,\n",
       " 'fileName': 'train_adjacent_3c.csv',\n",
       " 'publicScore': '0.32314',\n",
       " 'privateScore': '0.07443',\n",
       " 'status': 'complete',\n",
       " 'submittedBy': 'Andrew Shaw',\n",
       " 'submittedByRef': 'bearpelican',\n",
       " 'teamName': 'Andrew Shaw',\n",
       " 'type': 'standard',\n",
       " 'url': 'https://www.kaggle.com/submissions/14244564/14244564.raw'}"
      ]
     },
     "execution_count": 17,
     "metadata": {},
     "output_type": "execute_result"
    }
   ],
   "source": [
    "api.competitions_submissions_list('rsna-intracranial-hemorrhage-detection')[0]"
   ]
  }
 ],
 "metadata": {
  "kernelspec": {
   "display_name": "Python 3",
   "language": "python",
   "name": "python3"
  },
  "language_info": {
   "codemirror_mode": {
    "name": "ipython",
    "version": 3
   },
   "file_extension": ".py",
   "mimetype": "text/x-python",
   "name": "python",
   "nbconvert_exporter": "python",
   "pygments_lexer": "ipython3",
   "version": "3.7.6"
  }
 },
 "nbformat": 4,
 "nbformat_minor": 2
}

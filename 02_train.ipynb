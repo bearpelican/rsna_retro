{
 "cells": [
  {
   "cell_type": "code",
   "execution_count": 1,
   "metadata": {},
   "outputs": [],
   "source": [
    "#default_exp train"
   ]
  },
  {
   "cell_type": "code",
   "execution_count": 2,
   "metadata": {},
   "outputs": [
    {
     "name": "stdout",
     "output_type": "stream",
     "text": [
      "Loading imports\n",
      "Warning: Your Kaggle API key is readable by other users on this system! To fix this, you can run 'chmod 600 /home/ashaw/.kaggle/kaggle.json'\n"
     ]
    }
   ],
   "source": [
    "#export\n",
    "from rsna_retro.imports import *\n",
    "from rsna_retro.metadata import *\n",
    "from rsna_retro.preprocess import *"
   ]
  },
  {
   "cell_type": "code",
   "execution_count": 3,
   "metadata": {},
   "outputs": [],
   "source": [
    "torch.cuda.set_device(4)"
   ]
  },
  {
   "cell_type": "code",
   "execution_count": 4,
   "metadata": {},
   "outputs": [],
   "source": [
    "#export\n",
    "def get_pil_fn(p):\n",
    "    def _f(fn): return PILCTScan.create(p/f'{fn}.jpg')\n",
    "    return _f"
   ]
  },
  {
   "cell_type": "code",
   "execution_count": 5,
   "metadata": {},
   "outputs": [],
   "source": [
    "#export\n",
    "def fn2label(fn): return Meta.df_comb.loc[fn][htypes].values.astype(np.float32)"
   ]
  },
  {
   "cell_type": "code",
   "execution_count": 6,
   "metadata": {},
   "outputs": [],
   "source": [
    "#export\n",
    "def get_wgts(df, splits):\n",
    "    wgts = df['any'][splits[0]].values\n",
    "    return wgts * (1/0.14 - 2) + 1"
   ]
  },
  {
   "cell_type": "code",
   "execution_count": 7,
   "metadata": {},
   "outputs": [
    {
     "data": {
      "text/plain": [
       "array([1., 1., 1., ..., 1., 1., 1.])"
      ]
     },
     "execution_count": 7,
     "metadata": {},
     "output_type": "execute_result"
    }
   ],
   "source": [
    "get_wgts(Meta.df_comb, Meta.splits)"
   ]
  },
  {
   "cell_type": "code",
   "execution_count": 8,
   "metadata": {},
   "outputs": [],
   "source": [
    "#export\n",
    "def get_data_gen(fns, bs, img_tfm, splits, sz=None, nw=8, mean=mean, std=std,\n",
    "        wgts=None, batch_xtra=None, after_item=None, with_aug=True, test=False, **kwargs):\n",
    "    tfms = [[img_tfm, ToTensor], [fn2label,EncodedMultiCategorize(htypes)]]\n",
    "    if test: tfms = [tfms[0]]\n",
    "    dsrc = DataSource(fns, tfms, splits=splits)\n",
    "    nrm = Normalize.from_stats(mean,std)\n",
    "    batch_tfms = L(IntToFloatTensor, nrm, Cuda()) + L(batch_xtra)\n",
    "    if with_aug: batch_tfms += aug_transforms(**kwargs)\n",
    "    if sz is not None:\n",
    "        batch_tfms = batch_tfms+[RandomResizedCropGPU(sz, min_scale=0.7, ratio=(1.,1.), valid_scale=0.9)]\n",
    "    if wgts is None:\n",
    "        return dsrc.databunch(bs=bs, num_workers=nw, after_item=after_item, after_batch=batch_tfms)\n",
    "    else:\n",
    "        return dsrc.weighted_databunch(wgts, bs=bs, num_workers=nw, after_item=after_item, after_batch=batch_tfms)\n"
   ]
  },
  {
   "cell_type": "code",
   "execution_count": 9,
   "metadata": {},
   "outputs": [],
   "source": [
    "#export\n",
    "def filename(o): return os.path.splitext(os.path.basename(o))[0]"
   ]
  },
  {
   "cell_type": "code",
   "execution_count": 10,
   "metadata": {},
   "outputs": [
    {
     "data": {
      "text/html": [
       "<div>\n",
       "<style scoped>\n",
       "    .dataframe tbody tr th:only-of-type {\n",
       "        vertical-align: middle;\n",
       "    }\n",
       "\n",
       "    .dataframe tbody tr th {\n",
       "        vertical-align: top;\n",
       "    }\n",
       "\n",
       "    .dataframe thead th {\n",
       "        text-align: right;\n",
       "    }\n",
       "</style>\n",
       "<table border=\"1\" class=\"dataframe\">\n",
       "  <thead>\n",
       "    <tr style=\"text-align: right;\">\n",
       "      <th></th>\n",
       "      <th>Modality</th>\n",
       "      <th>PatientID</th>\n",
       "      <th>StudyInstanceUID</th>\n",
       "      <th>SeriesInstanceUID</th>\n",
       "      <th>StudyID</th>\n",
       "      <th>ImagePositionPatient</th>\n",
       "      <th>ImageOrientationPatient</th>\n",
       "      <th>SamplesPerPixel</th>\n",
       "      <th>PhotometricInterpretation</th>\n",
       "      <th>Rows</th>\n",
       "      <th>...</th>\n",
       "      <th>MultiWindowCenter</th>\n",
       "      <th>WindowCenter1</th>\n",
       "      <th>MultiWindowWidth</th>\n",
       "      <th>WindowWidth1</th>\n",
       "      <th>any</th>\n",
       "      <th>epidural</th>\n",
       "      <th>intraparenchymal</th>\n",
       "      <th>intraventricular</th>\n",
       "      <th>subarachnoid</th>\n",
       "      <th>subdural</th>\n",
       "    </tr>\n",
       "    <tr>\n",
       "      <th>SOPInstanceUID</th>\n",
       "      <th></th>\n",
       "      <th></th>\n",
       "      <th></th>\n",
       "      <th></th>\n",
       "      <th></th>\n",
       "      <th></th>\n",
       "      <th></th>\n",
       "      <th></th>\n",
       "      <th></th>\n",
       "      <th></th>\n",
       "      <th></th>\n",
       "      <th></th>\n",
       "      <th></th>\n",
       "      <th></th>\n",
       "      <th></th>\n",
       "      <th></th>\n",
       "      <th></th>\n",
       "      <th></th>\n",
       "      <th></th>\n",
       "      <th></th>\n",
       "      <th></th>\n",
       "    </tr>\n",
       "  </thead>\n",
       "  <tbody>\n",
       "    <tr>\n",
       "      <th>ID_352e89f1c</th>\n",
       "      <td>CT</td>\n",
       "      <td>ID_d557ddd2</td>\n",
       "      <td>ID_05074a0d95</td>\n",
       "      <td>ID_be6165332c</td>\n",
       "      <td></td>\n",
       "      <td>-125.000000</td>\n",
       "      <td>1.0</td>\n",
       "      <td>1</td>\n",
       "      <td>MONOCHROME2</td>\n",
       "      <td>512</td>\n",
       "      <td>...</td>\n",
       "      <td>NaN</td>\n",
       "      <td>NaN</td>\n",
       "      <td>NaN</td>\n",
       "      <td>NaN</td>\n",
       "      <td>0</td>\n",
       "      <td>0</td>\n",
       "      <td>0</td>\n",
       "      <td>0</td>\n",
       "      <td>0</td>\n",
       "      <td>0</td>\n",
       "    </tr>\n",
       "    <tr>\n",
       "      <th>ID_3cf4fb50f</th>\n",
       "      <td>CT</td>\n",
       "      <td>ID_16b2ad86</td>\n",
       "      <td>ID_c3a404ea2e</td>\n",
       "      <td>ID_2c1454e208</td>\n",
       "      <td></td>\n",
       "      <td>-125.000000</td>\n",
       "      <td>1.0</td>\n",
       "      <td>1</td>\n",
       "      <td>MONOCHROME2</td>\n",
       "      <td>512</td>\n",
       "      <td>...</td>\n",
       "      <td>1.0</td>\n",
       "      <td>36.0</td>\n",
       "      <td>1.0</td>\n",
       "      <td>80.0</td>\n",
       "      <td>0</td>\n",
       "      <td>0</td>\n",
       "      <td>0</td>\n",
       "      <td>0</td>\n",
       "      <td>0</td>\n",
       "      <td>0</td>\n",
       "    </tr>\n",
       "    <tr>\n",
       "      <th>ID_e3674b189</th>\n",
       "      <td>CT</td>\n",
       "      <td>ID_eb712bf0</td>\n",
       "      <td>ID_db83193795</td>\n",
       "      <td>ID_e1facea145</td>\n",
       "      <td></td>\n",
       "      <td>-125.000000</td>\n",
       "      <td>1.0</td>\n",
       "      <td>1</td>\n",
       "      <td>MONOCHROME2</td>\n",
       "      <td>512</td>\n",
       "      <td>...</td>\n",
       "      <td>NaN</td>\n",
       "      <td>NaN</td>\n",
       "      <td>NaN</td>\n",
       "      <td>NaN</td>\n",
       "      <td>0</td>\n",
       "      <td>0</td>\n",
       "      <td>0</td>\n",
       "      <td>0</td>\n",
       "      <td>0</td>\n",
       "      <td>0</td>\n",
       "    </tr>\n",
       "    <tr>\n",
       "      <th>ID_2a8702d25</th>\n",
       "      <td>CT</td>\n",
       "      <td>ID_ff137633</td>\n",
       "      <td>ID_d17053848c</td>\n",
       "      <td>ID_7098f7c836</td>\n",
       "      <td></td>\n",
       "      <td>-126.437378</td>\n",
       "      <td>1.0</td>\n",
       "      <td>1</td>\n",
       "      <td>MONOCHROME2</td>\n",
       "      <td>512</td>\n",
       "      <td>...</td>\n",
       "      <td>NaN</td>\n",
       "      <td>NaN</td>\n",
       "      <td>NaN</td>\n",
       "      <td>NaN</td>\n",
       "      <td>1</td>\n",
       "      <td>0</td>\n",
       "      <td>1</td>\n",
       "      <td>1</td>\n",
       "      <td>0</td>\n",
       "      <td>0</td>\n",
       "    </tr>\n",
       "    <tr>\n",
       "      <th>ID_7be0f1b3c</th>\n",
       "      <td>CT</td>\n",
       "      <td>ID_cd9169c2</td>\n",
       "      <td>ID_b42de79024</td>\n",
       "      <td>ID_f5bd86b25b</td>\n",
       "      <td></td>\n",
       "      <td>-125.000000</td>\n",
       "      <td>1.0</td>\n",
       "      <td>1</td>\n",
       "      <td>MONOCHROME2</td>\n",
       "      <td>512</td>\n",
       "      <td>...</td>\n",
       "      <td>NaN</td>\n",
       "      <td>NaN</td>\n",
       "      <td>NaN</td>\n",
       "      <td>NaN</td>\n",
       "      <td>0</td>\n",
       "      <td>0</td>\n",
       "      <td>0</td>\n",
       "      <td>0</td>\n",
       "      <td>0</td>\n",
       "      <td>0</td>\n",
       "    </tr>\n",
       "    <tr>\n",
       "      <th>...</th>\n",
       "      <td>...</td>\n",
       "      <td>...</td>\n",
       "      <td>...</td>\n",
       "      <td>...</td>\n",
       "      <td>...</td>\n",
       "      <td>...</td>\n",
       "      <td>...</td>\n",
       "      <td>...</td>\n",
       "      <td>...</td>\n",
       "      <td>...</td>\n",
       "      <td>...</td>\n",
       "      <td>...</td>\n",
       "      <td>...</td>\n",
       "      <td>...</td>\n",
       "      <td>...</td>\n",
       "      <td>...</td>\n",
       "      <td>...</td>\n",
       "      <td>...</td>\n",
       "      <td>...</td>\n",
       "      <td>...</td>\n",
       "      <td>...</td>\n",
       "    </tr>\n",
       "    <tr>\n",
       "      <th>ID_6097e9f6f</th>\n",
       "      <td>CT</td>\n",
       "      <td>ID_17214181</td>\n",
       "      <td>ID_bddb5e0824</td>\n",
       "      <td>ID_fd40582b03</td>\n",
       "      <td></td>\n",
       "      <td>-107.000000</td>\n",
       "      <td>1.0</td>\n",
       "      <td>1</td>\n",
       "      <td>MONOCHROME2</td>\n",
       "      <td>512</td>\n",
       "      <td>...</td>\n",
       "      <td>1.0</td>\n",
       "      <td>36.0</td>\n",
       "      <td>1.0</td>\n",
       "      <td>80.0</td>\n",
       "      <td>0</td>\n",
       "      <td>0</td>\n",
       "      <td>0</td>\n",
       "      <td>0</td>\n",
       "      <td>0</td>\n",
       "      <td>0</td>\n",
       "    </tr>\n",
       "    <tr>\n",
       "      <th>ID_d0353cdfe</th>\n",
       "      <td>CT</td>\n",
       "      <td>ID_be09d60c</td>\n",
       "      <td>ID_dd98962b72</td>\n",
       "      <td>ID_3038ce1582</td>\n",
       "      <td></td>\n",
       "      <td>-125.000000</td>\n",
       "      <td>1.0</td>\n",
       "      <td>1</td>\n",
       "      <td>MONOCHROME2</td>\n",
       "      <td>512</td>\n",
       "      <td>...</td>\n",
       "      <td>NaN</td>\n",
       "      <td>NaN</td>\n",
       "      <td>NaN</td>\n",
       "      <td>NaN</td>\n",
       "      <td>0</td>\n",
       "      <td>0</td>\n",
       "      <td>0</td>\n",
       "      <td>0</td>\n",
       "      <td>0</td>\n",
       "      <td>0</td>\n",
       "    </tr>\n",
       "    <tr>\n",
       "      <th>ID_60186961d</th>\n",
       "      <td>CT</td>\n",
       "      <td>ID_fe4dc149</td>\n",
       "      <td>ID_08eaca3179</td>\n",
       "      <td>ID_f522d564e7</td>\n",
       "      <td></td>\n",
       "      <td>-117.500000</td>\n",
       "      <td>1.0</td>\n",
       "      <td>1</td>\n",
       "      <td>MONOCHROME2</td>\n",
       "      <td>512</td>\n",
       "      <td>...</td>\n",
       "      <td>1.0</td>\n",
       "      <td>36.0</td>\n",
       "      <td>1.0</td>\n",
       "      <td>80.0</td>\n",
       "      <td>0</td>\n",
       "      <td>0</td>\n",
       "      <td>0</td>\n",
       "      <td>0</td>\n",
       "      <td>0</td>\n",
       "      <td>0</td>\n",
       "    </tr>\n",
       "    <tr>\n",
       "      <th>ID_ade93b505</th>\n",
       "      <td>CT</td>\n",
       "      <td>ID_7edc1693</td>\n",
       "      <td>ID_6ef1390596</td>\n",
       "      <td>ID_ae9377c164</td>\n",
       "      <td></td>\n",
       "      <td>-117.500000</td>\n",
       "      <td>1.0</td>\n",
       "      <td>1</td>\n",
       "      <td>MONOCHROME2</td>\n",
       "      <td>512</td>\n",
       "      <td>...</td>\n",
       "      <td>1.0</td>\n",
       "      <td>36.0</td>\n",
       "      <td>1.0</td>\n",
       "      <td>80.0</td>\n",
       "      <td>0</td>\n",
       "      <td>0</td>\n",
       "      <td>0</td>\n",
       "      <td>0</td>\n",
       "      <td>0</td>\n",
       "      <td>0</td>\n",
       "    </tr>\n",
       "    <tr>\n",
       "      <th>ID_089650003</th>\n",
       "      <td>CT</td>\n",
       "      <td>ID_2598ed5f</td>\n",
       "      <td>ID_2da4eb9033</td>\n",
       "      <td>ID_976f65f093</td>\n",
       "      <td></td>\n",
       "      <td>-96.542106</td>\n",
       "      <td>1.0</td>\n",
       "      <td>1</td>\n",
       "      <td>MONOCHROME2</td>\n",
       "      <td>512</td>\n",
       "      <td>...</td>\n",
       "      <td>1.0</td>\n",
       "      <td>36.0</td>\n",
       "      <td>1.0</td>\n",
       "      <td>80.0</td>\n",
       "      <td>0</td>\n",
       "      <td>0</td>\n",
       "      <td>0</td>\n",
       "      <td>0</td>\n",
       "      <td>0</td>\n",
       "      <td>0</td>\n",
       "    </tr>\n",
       "  </tbody>\n",
       "</table>\n",
       "<p>752802 rows × 47 columns</p>\n",
       "</div>"
      ],
      "text/plain": [
       "               Modality    PatientID StudyInstanceUID SeriesInstanceUID  \\\n",
       "SOPInstanceUID                                                            \n",
       "ID_352e89f1c         CT  ID_d557ddd2    ID_05074a0d95     ID_be6165332c   \n",
       "ID_3cf4fb50f         CT  ID_16b2ad86    ID_c3a404ea2e     ID_2c1454e208   \n",
       "ID_e3674b189         CT  ID_eb712bf0    ID_db83193795     ID_e1facea145   \n",
       "ID_2a8702d25         CT  ID_ff137633    ID_d17053848c     ID_7098f7c836   \n",
       "ID_7be0f1b3c         CT  ID_cd9169c2    ID_b42de79024     ID_f5bd86b25b   \n",
       "...                 ...          ...              ...               ...   \n",
       "ID_6097e9f6f         CT  ID_17214181    ID_bddb5e0824     ID_fd40582b03   \n",
       "ID_d0353cdfe         CT  ID_be09d60c    ID_dd98962b72     ID_3038ce1582   \n",
       "ID_60186961d         CT  ID_fe4dc149    ID_08eaca3179     ID_f522d564e7   \n",
       "ID_ade93b505         CT  ID_7edc1693    ID_6ef1390596     ID_ae9377c164   \n",
       "ID_089650003         CT  ID_2598ed5f    ID_2da4eb9033     ID_976f65f093   \n",
       "\n",
       "               StudyID  ImagePositionPatient  ImageOrientationPatient  \\\n",
       "SOPInstanceUID                                                          \n",
       "ID_352e89f1c                     -125.000000                      1.0   \n",
       "ID_3cf4fb50f                     -125.000000                      1.0   \n",
       "ID_e3674b189                     -125.000000                      1.0   \n",
       "ID_2a8702d25                     -126.437378                      1.0   \n",
       "ID_7be0f1b3c                     -125.000000                      1.0   \n",
       "...                ...                   ...                      ...   \n",
       "ID_6097e9f6f                     -107.000000                      1.0   \n",
       "ID_d0353cdfe                     -125.000000                      1.0   \n",
       "ID_60186961d                     -117.500000                      1.0   \n",
       "ID_ade93b505                     -117.500000                      1.0   \n",
       "ID_089650003                      -96.542106                      1.0   \n",
       "\n",
       "                SamplesPerPixel PhotometricInterpretation  Rows  ...  \\\n",
       "SOPInstanceUID                                                   ...   \n",
       "ID_352e89f1c                  1               MONOCHROME2   512  ...   \n",
       "ID_3cf4fb50f                  1               MONOCHROME2   512  ...   \n",
       "ID_e3674b189                  1               MONOCHROME2   512  ...   \n",
       "ID_2a8702d25                  1               MONOCHROME2   512  ...   \n",
       "ID_7be0f1b3c                  1               MONOCHROME2   512  ...   \n",
       "...                         ...                       ...   ...  ...   \n",
       "ID_6097e9f6f                  1               MONOCHROME2   512  ...   \n",
       "ID_d0353cdfe                  1               MONOCHROME2   512  ...   \n",
       "ID_60186961d                  1               MONOCHROME2   512  ...   \n",
       "ID_ade93b505                  1               MONOCHROME2   512  ...   \n",
       "ID_089650003                  1               MONOCHROME2   512  ...   \n",
       "\n",
       "                MultiWindowCenter  WindowCenter1  MultiWindowWidth  \\\n",
       "SOPInstanceUID                                                       \n",
       "ID_352e89f1c                  NaN            NaN               NaN   \n",
       "ID_3cf4fb50f                  1.0           36.0               1.0   \n",
       "ID_e3674b189                  NaN            NaN               NaN   \n",
       "ID_2a8702d25                  NaN            NaN               NaN   \n",
       "ID_7be0f1b3c                  NaN            NaN               NaN   \n",
       "...                           ...            ...               ...   \n",
       "ID_6097e9f6f                  1.0           36.0               1.0   \n",
       "ID_d0353cdfe                  NaN            NaN               NaN   \n",
       "ID_60186961d                  1.0           36.0               1.0   \n",
       "ID_ade93b505                  1.0           36.0               1.0   \n",
       "ID_089650003                  1.0           36.0               1.0   \n",
       "\n",
       "                WindowWidth1  any  epidural  intraparenchymal  \\\n",
       "SOPInstanceUID                                                  \n",
       "ID_352e89f1c             NaN    0         0                 0   \n",
       "ID_3cf4fb50f            80.0    0         0                 0   \n",
       "ID_e3674b189             NaN    0         0                 0   \n",
       "ID_2a8702d25             NaN    1         0                 1   \n",
       "ID_7be0f1b3c             NaN    0         0                 0   \n",
       "...                      ...  ...       ...               ...   \n",
       "ID_6097e9f6f            80.0    0         0                 0   \n",
       "ID_d0353cdfe             NaN    0         0                 0   \n",
       "ID_60186961d            80.0    0         0                 0   \n",
       "ID_ade93b505            80.0    0         0                 0   \n",
       "ID_089650003            80.0    0         0                 0   \n",
       "\n",
       "                intraventricular  subarachnoid  subdural  \n",
       "SOPInstanceUID                                            \n",
       "ID_352e89f1c                   0             0         0  \n",
       "ID_3cf4fb50f                   0             0         0  \n",
       "ID_e3674b189                   0             0         0  \n",
       "ID_2a8702d25                   1             0         0  \n",
       "ID_7be0f1b3c                   0             0         0  \n",
       "...                          ...           ...       ...  \n",
       "ID_6097e9f6f                   0             0         0  \n",
       "ID_d0353cdfe                   0             0         0  \n",
       "ID_60186961d                   0             0         0  \n",
       "ID_ade93b505                   0             0         0  \n",
       "ID_089650003                   0             0         0  \n",
       "\n",
       "[752802 rows x 47 columns]"
      ]
     },
     "execution_count": 10,
     "metadata": {},
     "output_type": "execute_result"
    }
   ],
   "source": [
    "Meta.df_comb"
   ]
  },
  {
   "cell_type": "code",
   "execution_count": 15,
   "metadata": {},
   "outputs": [],
   "source": [
    "#export\n",
    "def get_data(bs, sz, splits, img_dir=path_jpg256):\n",
    "    return get_data_gen(L(list(Meta.df_comb.index)), bs=bs, img_tfm=get_pil_fn(path/img_dir), \n",
    "                        sz=sz, splits=splits)"
   ]
  },
  {
   "cell_type": "code",
   "execution_count": 16,
   "metadata": {},
   "outputs": [
    {
     "name": "stdout",
     "output_type": "stream",
     "text": [
      "CPU times: user 371 ms, sys: 862 µs, total: 372 ms\n",
      "Wall time: 369 ms\n"
     ]
    },
    {
     "data": {
      "text/plain": [
       "<fastai2.data.core.DataBunch at 0x7fcb2d0d5410>"
      ]
     },
     "execution_count": 16,
     "metadata": {},
     "output_type": "execute_result"
    }
   ],
   "source": [
    "%time get_data(512, 128, Meta.splits_sample)"
   ]
  },
  {
   "cell_type": "code",
   "execution_count": 17,
   "metadata": {},
   "outputs": [
    {
     "name": "stdout",
     "output_type": "stream",
     "text": [
      "CPU times: user 2.46 s, sys: 36 ms, total: 2.49 s\n",
      "Wall time: 2.49 s\n"
     ]
    }
   ],
   "source": [
    "%time dbch = get_data(512, 128, Meta.splits)"
   ]
  },
  {
   "cell_type": "code",
   "execution_count": 18,
   "metadata": {},
   "outputs": [
    {
     "data": {
      "text/plain": [
       "<fastai2.data.core.DataBunch at 0x7fcb2c02c690>"
      ]
     },
     "execution_count": 18,
     "metadata": {},
     "output_type": "execute_result"
    }
   ],
   "source": [
    "get_data(512, 128, Meta.splits_sample)"
   ]
  },
  {
   "cell_type": "markdown",
   "metadata": {},
   "source": [
    "## Training"
   ]
  },
  {
   "cell_type": "code",
   "execution_count": 19,
   "metadata": {},
   "outputs": [],
   "source": [
    "#export\n",
    "def accuracy_any(inp, targ, thresh=0.5, sigmoid=True):\n",
    "    inp,targ = flatten_check(inp[:,0],targ[:,0])\n",
    "    if sigmoid: inp = inp.sigmoid()\n",
    "    return ((inp>thresh)==targ.bool()).float().mean()\n",
    "\n",
    "\n",
    "def get_loss(scale=None):\n",
    "    num_classes = 6\n",
    "    loss_weights = to_device(tensor(2.0, 1, 1, 1, 1, 1))\n",
    "    loss_weights = loss_weights/loss_weights.sum()*num_classes\n",
    "    \n",
    "    if scale is not None: scale = to_device(tensor([scale]*num_classes))\n",
    "    return BaseLoss(nn.BCEWithLogitsLoss, weight=loss_weights, #pos_weight=scale,\n",
    "                    floatify=True, flatten=False, is_2d=False, activation=torch.sigmoid)\n"
   ]
  },
  {
   "cell_type": "code",
   "execution_count": 20,
   "metadata": {},
   "outputs": [],
   "source": [
    "#export\n",
    "def get_learner(dbch, arch_or_model, lf=None, pretrained=False, opt_func=None, metrics=None, fp16=True, config=None):\n",
    "    if lf is None: lf = get_loss()\n",
    "    if metrics is None: metrics=[accuracy_multi,accuracy_any]\n",
    "    if opt_func is None: opt_func = partial(Adam, wd=1e-5, eps=1e-4, sqr_mom=0.999)\n",
    "    if isinstance(arch_or_model, nn.Module):\n",
    "        learn = Learner(dbch, arch_or_model, loss_func=lf, lr=3e-3,\n",
    "                    opt_func=opt_func, metrics=metrics)\n",
    "    else:\n",
    "        if config is None: config=dict(ps=0., lin_ftrs=[], concat_pool=False)\n",
    "        learn = cnn_learner(dbch, arch_or_model, pretrained=pretrained, loss_func=lf, lr=3e-3,\n",
    "                            opt_func=opt_func, metrics=metrics, config=config)\n",
    "    return learn.to_fp16() if fp16 else learn"
   ]
  },
  {
   "cell_type": "code",
   "execution_count": 21,
   "metadata": {},
   "outputs": [],
   "source": [
    "# def fit_tune(bs, sz, epochs, lr):\n",
    "#     learn.dbunch = get_data(bs, sz)\n",
    "#     do_fit(learn, epochs, lr, freeze=False)"
   ]
  },
  {
   "cell_type": "code",
   "execution_count": 22,
   "metadata": {},
   "outputs": [],
   "source": [
    "#export\n",
    "def do_fit(learn, epochs, lr, freeze=False, do_slice=False, **kwargs):\n",
    "    if do_slice: lr = slice(lr*3,lr)\n",
    "    if freeze:\n",
    "        learn.freeze()\n",
    "        learn.fit_one_cycle(1, lr, div=2, div_final=1, pct_start=0.1)\n",
    "    learn.unfreeze()\n",
    "    learn.fit_one_cycle(epochs, lr, **kwargs)"
   ]
  },
  {
   "cell_type": "markdown",
   "metadata": {},
   "source": [
    "## Submission"
   ]
  },
  {
   "cell_type": "code",
   "execution_count": 26,
   "metadata": {},
   "outputs": [],
   "source": [
    "#export\n",
    "def get_test_data(df_tst, bs=512, sz=256, tst_dir='tst_jpg', sl=None):\n",
    "    tst_fns = df_tst.index.values\n",
    "    if sl is not None: tst_fns = tst_fns[sl]\n",
    "    tst_splits = [L.range(tst_fns), L.range(tst_fns)]\n",
    "    tst_dbch = get_data_gen(tst_fns, bs=bs, img_tfm=get_pil_fn(path/tst_dir), sz=sz, splits=tst_splits, test=True)\n",
    "    tst_dbch.c = 6\n",
    "    return tst_dbch"
   ]
  },
  {
   "cell_type": "code",
   "execution_count": 27,
   "metadata": {},
   "outputs": [],
   "source": [
    "#export\n",
    "def submission(df_tst, preds, fn='submission'):\n",
    "    ids,labels = [],[]\n",
    "    for idx,pred in zip(df_tst.index, preds):\n",
    "        for i,label in enumerate(htypes):\n",
    "            ids.append(f\"{idx}_{label}\")\n",
    "            labels.append('{0:1.10f}'.format(pred[i].item()))\n",
    "    df_csv = pd.DataFrame({'ID': ids, 'Label': labels})\n",
    "    df_csv.to_csv(f'{fn}.csv', index=False)\n",
    "    return df_csv"
   ]
  },
  {
   "cell_type": "markdown",
   "metadata": {},
   "source": [
    "## Example"
   ]
  },
  {
   "cell_type": "code",
   "execution_count": 28,
   "metadata": {},
   "outputs": [],
   "source": [
    "name = 'sample'"
   ]
  },
  {
   "cell_type": "code",
   "execution_count": 29,
   "metadata": {},
   "outputs": [],
   "source": [
    "dbch = get_data(512, 128, splits=Meta.splits_sample)\n",
    "learn = get_learner(dbch, xresnet18)"
   ]
  },
  {
   "cell_type": "code",
   "execution_count": 30,
   "metadata": {
    "scrolled": false
   },
   "outputs": [
    {
     "data": {
      "text/html": [
       "<table border=\"1\" class=\"dataframe\">\n",
       "  <thead>\n",
       "    <tr style=\"text-align: left;\">\n",
       "      <th>epoch</th>\n",
       "      <th>train_loss</th>\n",
       "      <th>valid_loss</th>\n",
       "      <th>accuracy_multi</th>\n",
       "      <th>accuracy_any</th>\n",
       "      <th>time</th>\n",
       "    </tr>\n",
       "  </thead>\n",
       "  <tbody>\n",
       "    <tr>\n",
       "      <td>0</td>\n",
       "      <td>0.710802</td>\n",
       "      <td>0.435682</td>\n",
       "      <td>0.830323</td>\n",
       "      <td>0.769416</td>\n",
       "      <td>00:18</td>\n",
       "    </tr>\n",
       "  </tbody>\n",
       "</table>"
      ],
      "text/plain": [
       "<IPython.core.display.HTML object>"
      ]
     },
     "metadata": {},
     "output_type": "display_data"
    }
   ],
   "source": [
    "do_fit(learn, 1, 1e-2)\n",
    "learn.save(f'runs/{name}-1')"
   ]
  },
  {
   "cell_type": "code",
   "execution_count": 19,
   "metadata": {},
   "outputs": [
    {
     "data": {
      "text/plain": [
       "<fastai2.learner.Learner at 0x7f0d978ed950>"
      ]
     },
     "execution_count": 19,
     "metadata": {},
     "output_type": "execute_result"
    }
   ],
   "source": [
    "learn.load(f'runs/{name}-1')"
   ]
  },
  {
   "cell_type": "markdown",
   "metadata": {},
   "source": [
    "## Example Submission"
   ]
  },
  {
   "cell_type": "code",
   "execution_count": 27,
   "metadata": {},
   "outputs": [],
   "source": [
    "learn.dbunch = get_test_data(Meta.df_tst, bs=256, sz=256)"
   ]
  },
  {
   "cell_type": "code",
   "execution_count": 28,
   "metadata": {},
   "outputs": [],
   "source": [
    "# tst = test_dl(learn.dbunch, tst_fns, after_item=[get_pil_fn(path/'tst_jpg'), ToTensor])\n",
    "\n",
    "# tst.tfms = Pipeline(funcs=[get_pil_fn(path/'tst_jpg'), ToTensor])"
   ]
  },
  {
   "cell_type": "code",
   "execution_count": 29,
   "metadata": {},
   "outputs": [],
   "source": [
    "sub_fn = f'subm/{name}'"
   ]
  },
  {
   "cell_type": "code",
   "execution_count": null,
   "metadata": {},
   "outputs": [
    {
     "data": {
      "text/html": [
       "\n",
       "    <div>\n",
       "        <style>\n",
       "            /* Turns off some styling */\n",
       "            progress {\n",
       "                /* gets rid of default border in Firefox and Opera. */\n",
       "                border: none;\n",
       "                /* Needs to be in here for Safari polyfill so background images work as expected. */\n",
       "                background-size: auto;\n",
       "            }\n",
       "            .progress-bar-interrupted, .progress-bar-interrupted::-webkit-progress-bar {\n",
       "                background: #F44336;\n",
       "            }\n",
       "        </style>\n",
       "      <progress value='114' class='' max='316', style='width:300px; height:20px; vertical-align: middle;'></progress>\n",
       "      36.08% [114/316 03:22<05:58 0.6837]\n",
       "    </div>\n",
       "    "
      ],
      "text/plain": [
       "<IPython.core.display.HTML object>"
      ]
     },
     "metadata": {},
     "output_type": "display_data"
    }
   ],
   "source": [
    "preds,targs = learn.get_preds()"
   ]
  },
  {
   "cell_type": "code",
   "execution_count": 33,
   "metadata": {},
   "outputs": [],
   "source": [
    "pred_csv = submission(df_tst, preds, fn=sub_fn)"
   ]
  },
  {
   "cell_type": "code",
   "execution_count": null,
   "metadata": {},
   "outputs": [],
   "source": [
    "FileLink(f'{sub_fn}.csv')"
   ]
  },
  {
   "cell_type": "code",
   "execution_count": 7,
   "metadata": {},
   "outputs": [
    {
     "name": "stderr",
     "output_type": "stream",
     "text": [
      "100%|██████████| 26.0M/26.0M [00:03<00:00, 8.99MB/s]\n"
     ]
    },
    {
     "data": {
      "text/plain": [
       "Successfully submitted to RSNA Intracranial Hemorrhage Detection"
      ]
     },
     "execution_count": 7,
     "metadata": {},
     "output_type": "execute_result"
    }
   ],
   "source": [
    "api.competition_submit(f'{sub_fn}.csv', 'testing rsna_retro submission', 'rsna-intracranial-hemorrhage-detection')"
   ]
  },
  {
   "cell_type": "code",
   "execution_count": 15,
   "metadata": {},
   "outputs": [
    {
     "data": {
      "text/plain": [
       "{'ref': 13695014,\n",
       " 'totalBytes': 27277209,\n",
       " 'date': '2019-12-08T22:49:07.013Z',\n",
       " 'description': 'testing rsna_retro submission',\n",
       " 'errorDescription': None,\n",
       " 'fileName': 'test_sub.csv',\n",
       " 'publicScore': '0.95475',\n",
       " 'privateScore': '0.06444',\n",
       " 'status': 'complete',\n",
       " 'submittedBy': 'Andrew Shaw',\n",
       " 'submittedByRef': 'bearpelican',\n",
       " 'teamName': 'Andrew Shaw',\n",
       " 'type': 'standard',\n",
       " 'url': 'https://www.kaggle.com/submissions/13695014/13695014.raw'}"
      ]
     },
     "execution_count": 15,
     "metadata": {},
     "output_type": "execute_result"
    }
   ],
   "source": [
    "api.competitions_submissions_list('rsna-intracranial-hemorrhage-detection')[0]"
   ]
  },
  {
   "cell_type": "markdown",
   "metadata": {},
   "source": [
    "## Save Predictions"
   ]
  },
  {
   "cell_type": "code",
   "execution_count": 21,
   "metadata": {},
   "outputs": [],
   "source": [
    "#export\n",
    "class DummyLoss:\n",
    "    def __call__(self, p, *t, **kwargs): return torch.tensor(0, device=p.device).float()"
   ]
  },
  {
   "cell_type": "code",
   "execution_count": 22,
   "metadata": {},
   "outputs": [],
   "source": [
    "#export\n",
    "def save_features(learn, feat_path):\n",
    "    preds,targs = learn.get_preds(dl=learn.dbunch.valid_dl)\n",
    "    val_ids = dbunch.valid_dl.dataset.items\n",
    "    feat_path.mkdir(exist_ok=True)\n",
    "    for idx,pred in progress_bar(zip(val_ids, preds), total=len(val_ids)):\n",
    "        np.save(str(feat_path/f'{idx}'), pred.squeeze().numpy())"
   ]
  },
  {
   "cell_type": "code",
   "execution_count": 23,
   "metadata": {},
   "outputs": [],
   "source": [
    "fn_save = 'runs/baseline_any_xse_resnext_512_appian-1'"
   ]
  },
  {
   "cell_type": "code",
   "execution_count": 24,
   "metadata": {},
   "outputs": [],
   "source": [
    "#export\n",
    "path_feat256 = path/'features_512'\n",
    "path_feat256_tst = path/'tst_features_512'"
   ]
  },
  {
   "cell_type": "code",
   "execution_count": 25,
   "metadata": {},
   "outputs": [
    {
     "ename": "RuntimeError",
     "evalue": "Error(s) in loading state_dict for Sequential:\n\tMissing key(s) in state_dict: \"0.0.0.weight\", \"0.0.1.weight\", \"0.0.1.bias\", \"0.0.1.running_mean\", \"0.0.1.running_var\", \"0.1.0.weight\", \"0.1.1.weight\", \"0.1.1.bias\", \"0.1.1.running_mean\", \"0.1.1.running_var\", \"0.2.0.weight\", \"0.2.1.weight\", \"0.2.1.bias\", \"0.2.1.running_mean\", \"0.2.1.running_var\", \"0.4.0.convs.0.0.weight\", \"0.4.0.convs.0.1.weight\", \"0.4.0.convs.0.1.bias\", \"0.4.0.convs.0.1.running_mean\", \"0.4.0.convs.0.1.running_var\", \"0.4.0.convs.1.0.weight\", \"0.4.0.convs.1.1.weight\", \"0.4.0.convs.1.1.bias\", \"0.4.0.convs.1.1.running_mean\", \"0.4.0.convs.1.1.running_var\", \"0.4.0.convpath.0.0.0.weight\", \"0.4.0.convpath.0.0.1.weight\", \"0.4.0.convpath.0.0.1.bias\", \"0.4.0.convpath.0.0.1.running_mean\", \"0.4.0.convpath.0.0.1.running_var\", \"0.4.0.convpath.0.1.0.weight\", \"0.4.0.convpath.0.1.1.weight\", \"0.4.0.convpath.0.1.1.bias\", \"0.4.0.convpath.0.1.1.running_mean\", \"0.4.0.convpath.0.1.1.running_var\", \"0.4.1.convs.0.0.weight\", \"0.4.1.convs.0.1.weight\", \"0.4.1.convs.0.1.bias\", \"0.4.1.convs.0.1.running_mean\", \"0.4.1.convs.0.1.running_var\", \"0.4.1.convs.1.0.weight\", \"0.4.1.convs.1.1.weight\", \"0.4.1.convs.1.1.bias\", \"0.4.1.convs.1.1.running_mean\", \"0.4.1.convs.1.1.running_var\", \"0.4.1.convpath.0.0.0.weight\", \"0.4.1.convpath.0.0.1.weight\", \"0.4.1.convpath.0.0.1.bias\", \"0.4.1.convpath.0.0.1.running_mean\", \"0.4.1.convpath.0.0.1.running_var\", \"0.4.1.convpath.0.1.0.weight\", \"0.4.1.convpath.0.1.1.weight\", \"0.4.1.convpath.0.1.1.bias\", \"0.4.1.convpath.0.1.1.running_mean\", \"0.4.1.convpath.0.1.1.running_var\", \"0.4.2.convs.0.0.weight\", \"0.4.2.convs.0.1.weight\", \"0.4.2.convs.0.1.bias\", \"0.4.2.convs.0.1.running_mean\", \"0.4.2.convs.0.1.running_var\", \"0.4.2.convs.1.0.weight\", \"0.4.2.convs.1.1.weight\", \"0.4.2.convs.1.1.bias\", \"0.4.2.convs.1.1.running_mean\", \"0.4.2.convs.1.1.running_var\", \"0.4.2.convpath.0.0.0.weight\", \"0.4.2.convpath.0.0.1.weight\", \"0.4.2.convpath.0.0.1.bias\", \"0.4.2.convpath.0.0.1.running_mean\", \"0.4.2.convpath.0.0.1.running_var\", \"0.4.2.convpath.0.1.0.weight\", \"0.4.2.convpath.0.1.1.weight\", \"0.4.2.convpath.0.1.1.bias\", \"0.4.2.convpath.0.1.1.running_mean\", \"0.4.2.convpath.0.1.1.running_var\", \"0.5.0.convs.0.0.weight\", \"0.5.0.convs.0.1.weight\", \"0.5.0.convs.0.1.bias\", \"0.5.0.convs.0.1.running_mean\", \"0.5.0.convs.0.1.running_var\", \"0.5.0.convs.1.0.weight\", \"0.5.0.convs.1.1.weight\", \"0.5.0.convs.1.1.bias\", \"0.5.0.convs.1.1.running_mean\", \"0.5.0.convs.1.1.running_var\", \"0.5.0.convpath.0.0.0.weight\", \"0.5.0.convpath.0.0.1.weight\", \"0.5.0.convpath.0.0.1.bias\", \"0.5.0.convpath.0.0.1.running_mean\", \"0.5.0.convpath.0.0.1.running_var\", \"0.5.0.convpath.0.1.0.weight\", \"0.5.0.convpath.0.1.1.weight\", \"0.5.0.convpath.0.1.1.bias\", \"0.5.0.convpath.0.1.1.running_mean\", \"0.5.0.convpath.0.1.1.running_var\", \"0.5.0.idpath.1.0.weight\", \"0.5.0.idpath.1.1.weight\", \"0.5.0.idpath.1.1.bias\", \"0.5.0.idpath.1.1.running_mean\", \"0.5.0.idpath.1.1.running_var\", \"0.5.1.convs.0.0.weight\", \"0.5.1.convs.0.1.weight\", \"0.5.1.convs.0.1.bias\", \"0.5.1.convs.0.1.running_mean\", \"0.5.1.convs.0.1.running_var\", \"0.5.1.convs.1.0.weight\", \"0.5.1.convs.1.1.weight\", \"0.5.1.convs.1.1.bias\", \"0.5.1.convs.1.1.running_mean\", \"0.5.1.convs.1.1.running_var\", \"0.5.1.convpath.0.0.0.weight\", \"0.5.1.convpath.0.0.1.weight\", \"0.5.1.convpath.0.0.1.bias\", \"0.5.1.convpath.0.0.1.running_mean\", \"0.5.1.convpath.0.0.1.running_var\", \"0.5.1.convpath.0.1.0.weight\", \"0.5.1.convpath.0.1.1.weight\", \"0.5.1.convpath.0.1.1.bias\", \"0.5.1.convpath.0.1.1.running_mean\", \"0.5.1.convpath.0.1.1.running_var\", \"0.5.2.convs.0.0.weight\", \"0.5.2.convs.0.1.weight\", \"0.5.2.convs.0.1.bias\", \"0.5.2.convs.0.1.running_mean\", \"0.5.2.convs.0.1.running_var\", \"0.5.2.convs.1.0.weight\", \"0.5.2.convs.1.1.weight\", \"0.5.2.convs.1.1.bias\", \"0.5.2.convs.1.1.running_mean\", \"0.5.2.convs.1.1.running_var\", \"0.5.2.convpath.0.0.0.weight\", \"0.5.2.convpath.0.0.1.weight\", \"0.5.2.convpath.0.0.1.bias\", \"0.5.2.convpath.0.0.1.running_mean\", \"0.5.2.convpath.0.0.1.running_var\", \"0.5.2.convpath.0.1.0.weight\", \"0.5.2.convpath.0.1.1.weight\", \"0.5.2.convpath.0.1.1.bias\", \"0.5.2.convpath.0.1.1.running_mean\", \"0.5.2.convpath.0.1.1.running_var\", \"0.5.3.convs.0.0.weight\", \"0.5.3.convs.0.1.weight\", \"0.5.3.convs.0.1.bias\", \"0.5.3.convs.0.1.running_mean\", \"0.5.3.convs.0.1.running_var\", \"0.5.3.convs.1.0.weight\", \"0.5.3.convs.1.1.weight\", \"0.5.3.convs.1.1.bias\", \"0.5.3.convs.1.1.running_mean\", \"0.5.3.convs.1.1.running_var\", \"0.5.3.convpath.0.0.0.weight\", \"0.5.3.convpath.0.0.1.weight\", \"0.5.3.convpath.0.0.1.bias\", \"0.5.3.convpath.0.0.1.running_mean\", \"0.5.3.convpath.0.0.1.running_var\", \"0.5.3.convpath.0.1.0.weight\", \"0.5.3.convpath.0.1.1.weight\", \"0.5.3.convpath.0.1.1.bias\", \"0.5.3.convpath.0.1.1.running_mean\", \"0.5.3.convpath.0.1.1.running_var\", \"0.6.0.convs.0.0.weight\", \"0.6.0.convs.0.1.weight\", \"0.6.0.convs.0.1.bias\", \"0.6.0.convs.0.1.running_mean\", \"0.6.0.convs.0.1.running_var\", \"0.6.0.convs.1.0.weight\", \"0.6.0.convs.1.1.weight\", \"0.6.0.convs.1.1.bias\", \"0.6.0.convs.1.1.running_mean\", \"0.6.0.convs.1.1.running_var\", \"0.6.0.convpath.0.0.0.weight\", \"0.6.0.convpath.0.0.1.weight\", \"0.6.0.convpath.0.0.1.bias\", \"0.6.0.convpath.0.0.1.running_mean\", \"0.6.0.convpath.0.0.1.running_var\", \"0.6.0.convpath.0.1.0.weight\", \"0.6.0.convpath.0.1.1.weight\", \"0.6.0.convpath.0.1.1.bias\", \"0.6.0.convpath.0.1.1.running_mean\", \"0.6.0.convpath.0.1.1.running_var\", \"0.6.0.idpath.1.0.weight\", \"0.6.0.idpath.1.1.weight\", \"0.6.0.idpath.1.1.bias\", \"0.6.0.idpath.1.1.running_mean\", \"0.6.0.idpath.1.1.running_var\", \"0.6.1.convs.0.0.weight\", \"0.6.1.convs.0.1.weight\", \"0.6.1.convs.0.1.bias\", \"0.6.1.convs.0.1.running_mean\", \"0.6.1.convs.0.1.running_var\", \"0.6.1.convs.1.0.weight\", \"0.6.1.convs.1.1.weight\", \"0.6.1.convs.1.1.bias\", \"0.6.1.convs.1.1.running_mean\", \"0.6.1.convs.1.1.running_var\", \"0.6.1.convpath.0.0.0.weight\", \"0.6.1.convpath.0.0.1.weight\", \"0.6.1.convpath.0.0.1.bias\", \"0.6.1.convpath.0.0.1.running_mean\", \"0.6.1.convpath.0.0.1.running_var\", \"0.6.1.convpath.0.1.0.weight\", \"0.6.1.convpath.0.1.1.weight\", \"0.6.1.convpath.0.1.1.bias\", \"0.6.1.convpath.0.1.1.running_mean\", \"0.6.1.convpath.0.1.1.running_var\", \"0.6.2.convs.0.0.weight\", \"0.6.2.convs.0.1.weight\", \"0.6.2.convs.0.1.bias\", \"0.6.2.convs.0.1.running_mean\", \"0.6.2.convs.0.1.running_var\", \"0.6.2.convs.1.0.weight\", \"0.6.2.convs.1.1.weight\", \"0.6.2.convs.1.1.bias\", \"0.6.2.convs.1.1.running_mean\", \"0.6.2.convs.1.1.running_var\", \"0.6.2.convpath.0.0.0.weight\", \"0.6.2.convpath.0.0.1.weight\", \"0.6.2.convpath.0.0.1.bias\", \"0.6.2.convpath.0.0.1.running_mean\", \"0.6.2.convpath.0.0.1.running_var\", \"0.6.2.convpath.0.1.0.weight\", \"0.6.2.convpath.0.1.1.weight\", \"0.6.2.convpath.0.1.1.bias\", \"0.6.2.convpath.0.1.1.running_mean\", \"0.6.2.convpath.0.1.1.running_var\", \"0.6.3.convs.0.0.weight\", \"0.6.3.convs.0.1.weight\", \"0.6.3.convs.0.1.bias\", \"0.6.3.convs.0.1.running_mean\", \"0.6.3.convs.0.1.running_var\", \"0.6.3.convs.1.0.weight\", \"0.6.3.convs.1.1.weight\", \"0.6.3.convs.1.1.bias\", \"0.6.3.convs.1.1.running_mean\", \"0.6.3.convs.1.1.running_var\", \"0.6.3.convpath.0.0.0.weight\", \"0.6.3.convpath.0.0.1.weight\", \"0.6.3.convpath.0.0.1.bias\", \"0.6.3.convpath.0.0.1.running_mean\", \"0.6.3.convpath.0.0.1.running_var\", \"0.6.3.convpath.0.1.0.weight\", \"0.6.3.convpath.0.1.1.weight\", \"0.6.3.convpath.0.1.1.bias\", \"0.6.3.convpath.0.1.1.running_mean\", \"0.6.3.convpath.0.1.1.running_var\", \"0.6.4.convs.0.0.weight\", \"0.6.4.convs.0.1.weight\", \"0.6.4.convs.0.1.bias\", \"0.6.4.convs.0.1.running_mean\", \"0.6.4.convs.0.1.running_var\", \"0.6.4.convs.1.0.weight\", \"0.6.4.convs.1.1.weight\", \"0.6.4.convs.1.1.bias\", \"0.6.4.convs.1.1.running_mean\", \"0.6.4.convs.1.1.running_var\", \"0.6.4.convpath.0.0.0.weight\", \"0.6.4.convpath.0.0.1.weight\", \"0.6.4.convpath.0.0.1.bias\", \"0.6.4.convpath.0.0.1.running_mean\", \"0.6.4.convpath.0.0.1.running_var\", \"0.6.4.convpath.0.1.0.weight\", \"0.6.4.convpath.0.1.1.weight\", \"0.6.4.convpath.0.1.1.bias\", \"0.6.4.convpath.0.1.1.running_mean\", \"0.6.4.convpath.0.1.1.running_var\", \"0.6.5.convs.0.0.weight\", \"0.6.5.convs.0.1.weight\", \"0.6.5.convs.0.1.bias\", \"0.6.5.convs.0.1.running_mean\", \"0.6.5.convs.0.1.running_var\", \"0.6.5.convs.1.0.weight\", \"0.6.5.convs.1.1.weight\", \"0.6.5.convs.1.1.bias\", \"0.6.5.convs.1.1.running_mean\", \"0.6.5.convs.1.1.running_var\", \"0.6.5.convpath.0.0.0.weight\", \"0.6.5.convpath.0.0.1.weight\", \"0.6.5.convpath.0.0.1.bias\", \"0.6.5.convpath.0.0.1.running_mean\", \"0.6.5.convpath.0.0.1.running_var\", \"0.6.5.convpath.0.1.0.weight\", \"0.6.5.convpath.0.1.1.weight\", \"0.6.5.convpath.0.1.1.bias\", \"0.6.5.convpath.0.1.1.running_mean\", \"0.6.5.convpath.0.1.1.running_var\", \"0.7.0.convs.0.0.weight\", \"0.7.0.convs.0.1.weight\", \"0.7.0.convs.0.1.bias\", \"0.7.0.convs.0.1.running_mean\", \"0.7.0.convs.0.1.running_var\", \"0.7.0.convs.1.0.weight\", \"0.7.0.convs.1.1.weight\", \"0.7.0.convs.1.1.bias\", \"0.7.0.convs.1.1.running_mean\", \"0.7.0.convs.1.1.running_var\", \"0.7.0.convpath.0.0.0.weight\", \"0.7.0.convpath.0.0.1.weight\", \"0.7.0.convpath.0.0.1.bias\", \"0.7.0.convpath.0.0.1.running_mean\", \"0.7.0.convpath.0.0.1.running_var\", \"0.7.0.convpath.0.1.0.weight\", \"0.7.0.convpath.0.1.1.weight\", \"0.7.0.convpath.0.1.1.bias\", \"0.7.0.convpath.0.1.1.running_mean\", \"0.7.0.convpath.0.1.1.running_var\", \"0.7.0.idpath.1.0.weight\", \"0.7.0.idpath.1.1.weight\", \"0.7.0.idpath.1.1.bias\", \"0.7.0.idpath.1.1.running_mean\", \"0.7.0.idpath.1.1.running_var\", \"0.7.1.convs.0.0.weight\", \"0.7.1.convs.0.1.weight\", \"0.7.1.convs.0.1.bias\", \"0.7.1.convs.0.1.running_mean\", \"0.7.1.convs.0.1.running_var\", \"0.7.1.convs.1.0.weight\", \"0.7.1.convs.1.1.weight\", \"0.7.1.convs.1.1.bias\", \"0.7.1.convs.1.1.running_mean\", \"0.7.1.convs.1.1.running_var\", \"0.7.1.convpath.0.0.0.weight\", \"0.7.1.convpath.0.0.1.weight\", \"0.7.1.convpath.0.0.1.bias\", \"0.7.1.convpath.0.0.1.running_mean\", \"0.7.1.convpath.0.0.1.running_var\", \"0.7.1.convpath.0.1.0.weight\", \"0.7.1.convpath.0.1.1.weight\", \"0.7.1.convpath.0.1.1.bias\", \"0.7.1.convpath.0.1.1.running_mean\", \"0.7.1.convpath.0.1.1.running_var\", \"0.7.2.convs.0.0.weight\", \"0.7.2.convs.0.1.weight\", \"0.7.2.convs.0.1.bias\", \"0.7.2.convs.0.1.running_mean\", \"0.7.2.convs.0.1.running_var\", \"0.7.2.convs.1.0.weight\", \"0.7.2.convs.1.1.weight\", \"0.7.2.convs.1.1.bias\", \"0.7.2.convs.1.1.running_mean\", \"0.7.2.convs.1.1.running_var\", \"0.7.2.convpath.0.0.0.weight\", \"0.7.2.convpath.0.0.1.weight\", \"0.7.2.convpath.0.0.1.bias\", \"0.7.2.convpath.0.0.1.running_mean\", \"0.7.2.convpath.0.0.1.running_var\", \"0.7.2.convpath.0.1.0.weight\", \"0.7.2.convpath.0.1.1.weight\", \"0.7.2.convpath.0.1.1.bias\", \"0.7.2.convpath.0.1.1.running_mean\", \"0.7.2.convpath.0.1.1.running_var\", \"1.2.weight\", \"1.2.bias\", \"1.2.running_mean\", \"1.2.running_var\", \"1.3.weight\". \n\tUnexpected key(s) in state_dict: \"layer0.conv1.weight\", \"layer0.bn1.weight\", \"layer0.bn1.bias\", \"layer0.bn1.running_mean\", \"layer0.bn1.running_var\", \"layer0.bn1.num_batches_tracked\", \"layer1.0.conv1.weight\", \"layer1.0.bn1.weight\", \"layer1.0.bn1.bias\", \"layer1.0.bn1.running_mean\", \"layer1.0.bn1.running_var\", \"layer1.0.bn1.num_batches_tracked\", \"layer1.0.conv2.weight\", \"layer1.0.bn2.weight\", \"layer1.0.bn2.bias\", \"layer1.0.bn2.running_mean\", \"layer1.0.bn2.running_var\", \"layer1.0.bn2.num_batches_tracked\", \"layer1.0.conv3.weight\", \"layer1.0.bn3.weight\", \"layer1.0.bn3.bias\", \"layer1.0.bn3.running_mean\", \"layer1.0.bn3.running_var\", \"layer1.0.bn3.num_batches_tracked\", \"layer1.0.se_module.fc1.weight\", \"layer1.0.se_module.fc1.bias\", \"layer1.0.se_module.fc2.weight\", \"layer1.0.se_module.fc2.bias\", \"layer1.0.downsample.0.weight\", \"layer1.0.downsample.1.weight\", \"layer1.0.downsample.1.bias\", \"layer1.0.downsample.1.running_mean\", \"layer1.0.downsample.1.running_var\", \"layer1.0.downsample.1.num_batches_tracked\", \"layer1.1.conv1.weight\", \"layer1.1.bn1.weight\", \"layer1.1.bn1.bias\", \"layer1.1.bn1.running_mean\", \"layer1.1.bn1.running_var\", \"layer1.1.bn1.num_batches_tracked\", \"layer1.1.conv2.weight\", \"layer1.1.bn2.weight\", \"layer1.1.bn2.bias\", \"layer1.1.bn2.running_mean\", \"layer1.1.bn2.running_var\", \"layer1.1.bn2.num_batches_tracked\", \"layer1.1.conv3.weight\", \"layer1.1.bn3.weight\", \"layer1.1.bn3.bias\", \"layer1.1.bn3.running_mean\", \"layer1.1.bn3.running_var\", \"layer1.1.bn3.num_batches_tracked\", \"layer1.1.se_module.fc1.weight\", \"layer1.1.se_module.fc1.bias\", \"layer1.1.se_module.fc2.weight\", \"layer1.1.se_module.fc2.bias\", \"layer1.2.conv1.weight\", \"layer1.2.bn1.weight\", \"layer1.2.bn1.bias\", \"layer1.2.bn1.running_mean\", \"layer1.2.bn1.running_var\", \"layer1.2.bn1.num_batches_tracked\", \"layer1.2.conv2.weight\", \"layer1.2.bn2.weight\", \"layer1.2.bn2.bias\", \"layer1.2.bn2.running_mean\", \"layer1.2.bn2.running_var\", \"layer1.2.bn2.num_batches_tracked\", \"layer1.2.conv3.weight\", \"layer1.2.bn3.weight\", \"layer1.2.bn3.bias\", \"layer1.2.bn3.running_mean\", \"layer1.2.bn3.running_var\", \"layer1.2.bn3.num_batches_tracked\", \"layer1.2.se_module.fc1.weight\", \"layer1.2.se_module.fc1.bias\", \"layer1.2.se_module.fc2.weight\", \"layer1.2.se_module.fc2.bias\", \"layer2.0.conv1.weight\", \"layer2.0.bn1.weight\", \"layer2.0.bn1.bias\", \"layer2.0.bn1.running_mean\", \"layer2.0.bn1.running_var\", \"layer2.0.bn1.num_batches_tracked\", \"layer2.0.conv2.weight\", \"layer2.0.bn2.weight\", \"layer2.0.bn2.bias\", \"layer2.0.bn2.running_mean\", \"layer2.0.bn2.running_var\", \"layer2.0.bn2.num_batches_tracked\", \"layer2.0.conv3.weight\", \"layer2.0.bn3.weight\", \"layer2.0.bn3.bias\", \"layer2.0.bn3.running_mean\", \"layer2.0.bn3.running_var\", \"layer2.0.bn3.num_batches_tracked\", \"layer2.0.se_module.fc1.weight\", \"layer2.0.se_module.fc1.bias\", \"layer2.0.se_module.fc2.weight\", \"layer2.0.se_module.fc2.bias\", \"layer2.0.downsample.0.weight\", \"layer2.0.downsample.1.weight\", \"layer2.0.downsample.1.bias\", \"layer2.0.downsample.1.running_mean\", \"layer2.0.downsample.1.running_var\", \"layer2.0.downsample.1.num_batches_tracked\", \"layer2.1.conv1.weight\", \"layer2.1.bn1.weight\", \"layer2.1.bn1.bias\", \"layer2.1.bn1.running_mean\", \"layer2.1.bn1.running_var\", \"layer2.1.bn1.num_batches_tracked\", \"layer2.1.conv2.weight\", \"layer2.1.bn2.weight\", \"layer2.1.bn2.bias\", \"layer2.1.bn2.running_mean\", \"layer2.1.bn2.running_var\", \"layer2.1.bn2.num_batches_tracked\", \"layer2.1.conv3.weight\", \"layer2.1.bn3.weight\", \"layer2.1.bn3.bias\", \"layer2.1.bn3.running_mean\", \"layer2.1.bn3.running_var\", \"layer2.1.bn3.num_batches_tracked\", \"layer2.1.se_module.fc1.weight\", \"layer2.1.se_module.fc1.bias\", \"layer2.1.se_module.fc2.weight\", \"layer2.1.se_module.fc2.bias\", \"layer2.2.conv1.weight\", \"layer2.2.bn1.weight\", \"layer2.2.bn1.bias\", \"layer2.2.bn1.running_mean\", \"layer2.2.bn1.running_var\", \"layer2.2.bn1.num_batches_tracked\", \"layer2.2.conv2.weight\", \"layer2.2.bn2.weight\", \"layer2.2.bn2.bias\", \"layer2.2.bn2.running_mean\", \"layer2.2.bn2.running_var\", \"layer2.2.bn2.num_batches_tracked\", \"layer2.2.conv3.weight\", \"layer2.2.bn3.weight\", \"layer2.2.bn3.bias\", \"layer2.2.bn3.running_mean\", \"layer2.2.bn3.running_var\", \"layer2.2.bn3.num_batches_tracked\", \"layer2.2.se_module.fc1.weight\", \"layer2.2.se_module.fc1.bias\", \"layer2.2.se_module.fc2.weight\", \"layer2.2.se_module.fc2.bias\", \"layer2.3.conv1.weight\", \"layer2.3.bn1.weight\", \"layer2.3.bn1.bias\", \"layer2.3.bn1.running_mean\", \"layer2.3.bn1.running_var\", \"layer2.3.bn1.num_batches_tracked\", \"layer2.3.conv2.weight\", \"layer2.3.bn2.weight\", \"layer2.3.bn2.bias\", \"layer2.3.bn2.running_mean\", \"layer2.3.bn2.running_var\", \"layer2.3.bn2.num_batches_tracked\", \"layer2.3.conv3.weight\", \"layer2.3.bn3.weight\", \"layer2.3.bn3.bias\", \"layer2.3.bn3.running_mean\", \"layer2.3.bn3.running_var\", \"layer2.3.bn3.num_batches_tracked\", \"layer2.3.se_module.fc1.weight\", \"layer2.3.se_module.fc1.bias\", \"layer2.3.se_module.fc2.weight\", \"layer2.3.se_module.fc2.bias\", \"layer3.0.conv1.weight\", \"layer3.0.bn1.weight\", \"layer3.0.bn1.bias\", \"layer3.0.bn1.running_mean\", \"layer3.0.bn1.running_var\", \"layer3.0.bn1.num_batches_tracked\", \"layer3.0.conv2.weight\", \"layer3.0.bn2.weight\", \"layer3.0.bn2.bias\", \"layer3.0.bn2.running_mean\", \"layer3.0.bn2.running_var\", \"layer3.0.bn2.num_batches_tracked\", \"layer3.0.conv3.weight\", \"layer3.0.bn3.weight\", \"layer3.0.bn3.bias\", \"layer3.0.bn3.running_mean\", \"layer3.0.bn3.running_var\", \"layer3.0.bn3.num_batches_tracked\", \"layer3.0.se_module.fc1.weight\", \"layer3.0.se_module.fc1.bias\", \"layer3.0.se_module.fc2.weight\", \"layer3.0.se_module.fc2.bias\", \"layer3.0.downsample.0.weight\", \"layer3.0.downsample.1.weight\", \"layer3.0.downsample.1.bias\", \"layer3.0.downsample.1.running_mean\", \"layer3.0.downsample.1.running_var\", \"layer3.0.downsample.1.num_batches_tracked\", \"layer3.1.conv1.weight\", \"layer3.1.bn1.weight\", \"layer3.1.bn1.bias\", \"layer3.1.bn1.running_mean\", \"layer3.1.bn1.running_var\", \"layer3.1.bn1.num_batches_tracked\", \"layer3.1.conv2.weight\", \"layer3.1.bn2.weight\", \"layer3.1.bn2.bias\", \"layer3.1.bn2.running_mean\", \"layer3.1.bn2.running_var\", \"layer3.1.bn2.num_batches_tracked\", \"layer3.1.conv3.weight\", \"layer3.1.bn3.weight\", \"layer3.1.bn3.bias\", \"layer3.1.bn3.running_mean\", \"layer3.1.bn3.running_var\", \"layer3.1.bn3.num_batches_tracked\", \"layer3.1.se_module.fc1.weight\", \"layer3.1.se_module.fc1.bias\", \"layer3.1.se_module.fc2.weight\", \"layer3.1.se_module.fc2.bias\", \"layer3.2.conv1.weight\", \"layer3.2.bn1.weight\", \"layer3.2.bn1.bias\", \"layer3.2.bn1.running_mean\", \"layer3.2.bn1.running_var\", \"layer3.2.bn1.num_batches_tracked\", \"layer3.2.conv2.weight\", \"layer3.2.bn2.weight\", \"layer3.2.bn2.bias\", \"layer3.2.bn2.running_mean\", \"layer3.2.bn2.running_var\", \"layer3.2.bn2.num_batches_tracked\", \"layer3.2.conv3.weight\", \"layer3.2.bn3.weight\", \"layer3.2.bn3.bias\", \"layer3.2.bn3.running_mean\", \"layer3.2.bn3.running_var\", \"layer3.2.bn3.num_batches_tracked\", \"layer3.2.se_module.fc1.weight\", \"layer3.2.se_module.fc1.bias\", \"layer3.2.se_module.fc2.weight\", \"layer3.2.se_module.fc2.bias\", \"layer3.3.conv1.weight\", \"layer3.3.bn1.weight\", \"layer3.3.bn1.bias\", \"layer3.3.bn1.running_mean\", \"layer3.3.bn1.running_var\", \"layer3.3.bn1.num_batches_tracked\", \"layer3.3.conv2.weight\", \"layer3.3.bn2.weight\", \"layer3.3.bn2.bias\", \"layer3.3.bn2.running_mean\", \"layer3.3.bn2.running_var\", \"layer3.3.bn2.num_batches_tracked\", \"layer3.3.conv3.weight\", \"layer3.3.bn3.weight\", \"layer3.3.bn3.bias\", \"layer3.3.bn3.running_mean\", \"layer3.3.bn3.running_var\", \"layer3.3.bn3.num_batches_tracked\", \"layer3.3.se_module.fc1.weight\", \"layer3.3.se_module.fc1.bias\", \"layer3.3.se_module.fc2.weight\", \"layer3.3.se_module.fc2.bias\", \"layer3.4.conv1.weight\", \"layer3.4.bn1.weight\", \"layer3.4.bn1.bias\", \"layer3.4.bn1.running_mean\", \"layer3.4.bn1.running_var\", \"layer3.4.bn1.num_batches_tracked\", \"layer3.4.conv2.weight\", \"layer3.4.bn2.weight\", \"layer3.4.bn2.bias\", \"layer3.4.bn2.running_mean\", \"layer3.4.bn2.running_var\", \"layer3.4.bn2.num_batches_tracked\", \"layer3.4.conv3.weight\", \"layer3.4.bn3.weight\", \"layer3.4.bn3.bias\", \"layer3.4.bn3.running_mean\", \"layer3.4.bn3.running_var\", \"layer3.4.bn3.num_batches_tracked\", \"layer3.4.se_module.fc1.weight\", \"layer3.4.se_module.fc1.bias\", \"layer3.4.se_module.fc2.weight\", \"layer3.4.se_module.fc2.bias\", \"layer3.5.conv1.weight\", \"layer3.5.bn1.weight\", \"layer3.5.bn1.bias\", \"layer3.5.bn1.running_mean\", \"layer3.5.bn1.running_var\", \"layer3.5.bn1.num_batches_tracked\", \"layer3.5.conv2.weight\", \"layer3.5.bn2.weight\", \"layer3.5.bn2.bias\", \"layer3.5.bn2.running_mean\", \"layer3.5.bn2.running_var\", \"layer3.5.bn2.num_batches_tracked\", \"layer3.5.conv3.weight\", \"layer3.5.bn3.weight\", \"layer3.5.bn3.bias\", \"layer3.5.bn3.running_mean\", \"layer3.5.bn3.running_var\", \"layer3.5.bn3.num_batches_tracked\", \"layer3.5.se_module.fc1.weight\", \"layer3.5.se_module.fc1.bias\", \"layer3.5.se_module.fc2.weight\", \"layer3.5.se_module.fc2.bias\", \"layer4.0.conv1.weight\", \"layer4.0.bn1.weight\", \"layer4.0.bn1.bias\", \"layer4.0.bn1.running_mean\", \"layer4.0.bn1.running_var\", \"layer4.0.bn1.num_batches_tracked\", \"layer4.0.conv2.weight\", \"layer4.0.bn2.weight\", \"layer4.0.bn2.bias\", \"layer4.0.bn2.running_mean\", \"layer4.0.bn2.running_var\", \"layer4.0.bn2.num_batches_tracked\", \"layer4.0.conv3.weight\", \"layer4.0.bn3.weight\", \"layer4.0.bn3.bias\", \"layer4.0.bn3.running_mean\", \"layer4.0.bn3.running_var\", \"layer4.0.bn3.num_batches_tracked\", \"layer4.0.se_module.fc1.weight\", \"layer4.0.se_module.fc1.bias\", \"layer4.0.se_module.fc2.weight\", \"layer4.0.se_module.fc2.bias\", \"layer4.0.downsample.0.weight\", \"layer4.0.downsample.1.weight\", \"layer4.0.downsample.1.bias\", \"layer4.0.downsample.1.running_mean\", \"layer4.0.downsample.1.running_var\", \"layer4.0.downsample.1.num_batches_tracked\", \"layer4.1.conv1.weight\", \"layer4.1.bn1.weight\", \"layer4.1.bn1.bias\", \"layer4.1.bn1.running_mean\", \"layer4.1.bn1.running_var\", \"layer4.1.bn1.num_batches_tracked\", \"layer4.1.conv2.weight\", \"layer4.1.bn2.weight\", \"layer4.1.bn2.bias\", \"layer4.1.bn2.running_mean\", \"layer4.1.bn2.running_var\", \"layer4.1.bn2.num_batches_tracked\", \"layer4.1.conv3.weight\", \"layer4.1.bn3.weight\", \"layer4.1.bn3.bias\", \"layer4.1.bn3.running_mean\", \"layer4.1.bn3.running_var\", \"layer4.1.bn3.num_batches_tracked\", \"layer4.1.se_module.fc1.weight\", \"layer4.1.se_module.fc1.bias\", \"layer4.1.se_module.fc2.weight\", \"layer4.1.se_module.fc2.bias\", \"layer4.2.conv1.weight\", \"layer4.2.bn1.weight\", \"layer4.2.bn1.bias\", \"layer4.2.bn1.running_mean\", \"layer4.2.bn1.running_var\", \"layer4.2.bn1.num_batches_tracked\", \"layer4.2.conv2.weight\", \"layer4.2.bn2.weight\", \"layer4.2.bn2.bias\", \"layer4.2.bn2.running_mean\", \"layer4.2.bn2.running_var\", \"layer4.2.bn2.num_batches_tracked\", \"layer4.2.conv3.weight\", \"layer4.2.bn3.weight\", \"layer4.2.bn3.bias\", \"layer4.2.bn3.running_mean\", \"layer4.2.bn3.running_var\", \"layer4.2.bn3.num_batches_tracked\", \"layer4.2.se_module.fc1.weight\", \"layer4.2.se_module.fc1.bias\", \"layer4.2.se_module.fc2.weight\", \"layer4.2.se_module.fc2.bias\", \"last_linear.weight\", \"last_linear.bias\". ",
     "output_type": "error",
     "traceback": [
      "\u001b[0;31m---------------------------------------------------------------------------\u001b[0m",
      "\u001b[0;31mRuntimeError\u001b[0m                              Traceback (most recent call last)",
      "\u001b[0;32m<ipython-input-25-7deaf854159f>\u001b[0m in \u001b[0;36m<module>\u001b[0;34m\u001b[0m\n\u001b[1;32m      1\u001b[0m \u001b[0mdbunch\u001b[0m \u001b[0;34m=\u001b[0m \u001b[0mget_test_data\u001b[0m\u001b[0;34m(\u001b[0m\u001b[0mMeta\u001b[0m\u001b[0;34m.\u001b[0m\u001b[0mdf_comb\u001b[0m\u001b[0;34m,\u001b[0m \u001b[0mbs\u001b[0m\u001b[0;34m=\u001b[0m\u001b[0;36m128\u001b[0m\u001b[0;34m,\u001b[0m \u001b[0msz\u001b[0m\u001b[0;34m=\u001b[0m\u001b[0;32mNone\u001b[0m\u001b[0;34m,\u001b[0m \u001b[0mtst_dir\u001b[0m\u001b[0;34m=\u001b[0m\u001b[0;34m'nocrop_jpg'\u001b[0m\u001b[0;34m)\u001b[0m\u001b[0;34m\u001b[0m\u001b[0;34m\u001b[0m\u001b[0m\n\u001b[1;32m      2\u001b[0m \u001b[0mlearn\u001b[0m \u001b[0;34m=\u001b[0m \u001b[0mget_learner\u001b[0m\u001b[0;34m(\u001b[0m\u001b[0mdbunch\u001b[0m\u001b[0;34m,\u001b[0m \u001b[0mxresnet34\u001b[0m\u001b[0;34m,\u001b[0m \u001b[0mlf\u001b[0m\u001b[0;34m=\u001b[0m\u001b[0mDummyLoss\u001b[0m\u001b[0;34m(\u001b[0m\u001b[0;34m)\u001b[0m\u001b[0;34m,\u001b[0m \u001b[0mmetrics\u001b[0m\u001b[0;34m=\u001b[0m\u001b[0;34m[\u001b[0m\u001b[0;34m]\u001b[0m\u001b[0;34m)\u001b[0m\u001b[0;34m\u001b[0m\u001b[0;34m\u001b[0m\u001b[0m\n\u001b[0;32m----> 3\u001b[0;31m \u001b[0mlearn\u001b[0m\u001b[0;34m.\u001b[0m\u001b[0mload\u001b[0m\u001b[0;34m(\u001b[0m\u001b[0mfn_save\u001b[0m\u001b[0;34m)\u001b[0m\u001b[0;34m\u001b[0m\u001b[0;34m\u001b[0m\u001b[0m\n\u001b[0m\u001b[1;32m      4\u001b[0m \u001b[0mlearn\u001b[0m\u001b[0;34m.\u001b[0m\u001b[0mmodel\u001b[0m \u001b[0;34m=\u001b[0m \u001b[0mlearn\u001b[0m\u001b[0;34m.\u001b[0m\u001b[0mmodel\u001b[0m\u001b[0;34m[\u001b[0m\u001b[0;36m0\u001b[0m\u001b[0;34m]\u001b[0m\u001b[0;34m\u001b[0m\u001b[0;34m\u001b[0m\u001b[0m\n",
      "\u001b[0;32m~/fastai2/fastai2/learner.py\u001b[0m in \u001b[0;36mload\u001b[0;34m(self, file, with_opt, device, strict)\u001b[0m\n\u001b[1;32m    356\u001b[0m         \u001b[0mdistrib_barrier\u001b[0m\u001b[0;34m(\u001b[0m\u001b[0;34m)\u001b[0m\u001b[0;34m\u001b[0m\u001b[0;34m\u001b[0m\u001b[0m\n\u001b[1;32m    357\u001b[0m         \u001b[0mfile\u001b[0m \u001b[0;34m=\u001b[0m \u001b[0mjoin_path_file\u001b[0m\u001b[0;34m(\u001b[0m\u001b[0mfile\u001b[0m\u001b[0;34m,\u001b[0m \u001b[0mself\u001b[0m\u001b[0;34m.\u001b[0m\u001b[0mpath\u001b[0m\u001b[0;34m/\u001b[0m\u001b[0mself\u001b[0m\u001b[0;34m.\u001b[0m\u001b[0mmodel_dir\u001b[0m\u001b[0;34m,\u001b[0m \u001b[0mext\u001b[0m\u001b[0;34m=\u001b[0m\u001b[0;34m'.pth'\u001b[0m\u001b[0;34m)\u001b[0m\u001b[0;34m\u001b[0m\u001b[0;34m\u001b[0m\u001b[0m\n\u001b[0;32m--> 358\u001b[0;31m         \u001b[0mload_model\u001b[0m\u001b[0;34m(\u001b[0m\u001b[0mfile\u001b[0m\u001b[0;34m,\u001b[0m \u001b[0mself\u001b[0m\u001b[0;34m.\u001b[0m\u001b[0mmodel\u001b[0m\u001b[0;34m,\u001b[0m \u001b[0mself\u001b[0m\u001b[0;34m.\u001b[0m\u001b[0mopt\u001b[0m\u001b[0;34m,\u001b[0m \u001b[0mwith_opt\u001b[0m\u001b[0;34m=\u001b[0m\u001b[0mwith_opt\u001b[0m\u001b[0;34m,\u001b[0m \u001b[0mdevice\u001b[0m\u001b[0;34m=\u001b[0m\u001b[0mdevice\u001b[0m\u001b[0;34m,\u001b[0m \u001b[0mstrict\u001b[0m\u001b[0;34m=\u001b[0m\u001b[0mstrict\u001b[0m\u001b[0;34m)\u001b[0m\u001b[0;34m\u001b[0m\u001b[0;34m\u001b[0m\u001b[0m\n\u001b[0m\u001b[1;32m    359\u001b[0m         \u001b[0;32mreturn\u001b[0m \u001b[0mself\u001b[0m\u001b[0;34m\u001b[0m\u001b[0;34m\u001b[0m\u001b[0m\n\u001b[1;32m    360\u001b[0m \u001b[0;34m\u001b[0m\u001b[0m\n",
      "\u001b[0;32m~/fastai2/fastai2/learner.py\u001b[0m in \u001b[0;36mload_model\u001b[0;34m(file, model, opt, with_opt, device, strict)\u001b[0m\n\u001b[1;32m    155\u001b[0m     \u001b[0mhasopt\u001b[0m \u001b[0;34m=\u001b[0m \u001b[0mset\u001b[0m\u001b[0;34m(\u001b[0m\u001b[0mstate\u001b[0m\u001b[0;34m)\u001b[0m\u001b[0;34m==\u001b[0m\u001b[0;34m{\u001b[0m\u001b[0;34m'model'\u001b[0m\u001b[0;34m,\u001b[0m \u001b[0;34m'opt'\u001b[0m\u001b[0;34m}\u001b[0m\u001b[0;34m\u001b[0m\u001b[0;34m\u001b[0m\u001b[0m\n\u001b[1;32m    156\u001b[0m     \u001b[0mmodel_state\u001b[0m \u001b[0;34m=\u001b[0m \u001b[0mstate\u001b[0m\u001b[0;34m[\u001b[0m\u001b[0;34m'model'\u001b[0m\u001b[0;34m]\u001b[0m \u001b[0;32mif\u001b[0m \u001b[0mhasopt\u001b[0m \u001b[0;32melse\u001b[0m \u001b[0mstate\u001b[0m\u001b[0;34m\u001b[0m\u001b[0;34m\u001b[0m\u001b[0m\n\u001b[0;32m--> 157\u001b[0;31m     \u001b[0mget_model\u001b[0m\u001b[0;34m(\u001b[0m\u001b[0mmodel\u001b[0m\u001b[0;34m)\u001b[0m\u001b[0;34m.\u001b[0m\u001b[0mload_state_dict\u001b[0m\u001b[0;34m(\u001b[0m\u001b[0mmodel_state\u001b[0m\u001b[0;34m,\u001b[0m \u001b[0mstrict\u001b[0m\u001b[0;34m=\u001b[0m\u001b[0mstrict\u001b[0m\u001b[0;34m)\u001b[0m\u001b[0;34m\u001b[0m\u001b[0;34m\u001b[0m\u001b[0m\n\u001b[0m\u001b[1;32m    158\u001b[0m     \u001b[0;32mif\u001b[0m \u001b[0mhasopt\u001b[0m \u001b[0;32mand\u001b[0m \u001b[0mifnone\u001b[0m\u001b[0;34m(\u001b[0m\u001b[0mwith_opt\u001b[0m\u001b[0;34m,\u001b[0m\u001b[0;32mTrue\u001b[0m\u001b[0;34m)\u001b[0m\u001b[0;34m:\u001b[0m\u001b[0;34m\u001b[0m\u001b[0;34m\u001b[0m\u001b[0m\n\u001b[1;32m    159\u001b[0m         \u001b[0;32mtry\u001b[0m\u001b[0;34m:\u001b[0m \u001b[0mopt\u001b[0m\u001b[0;34m.\u001b[0m\u001b[0mload_state_dict\u001b[0m\u001b[0;34m(\u001b[0m\u001b[0mstate\u001b[0m\u001b[0;34m[\u001b[0m\u001b[0;34m'opt'\u001b[0m\u001b[0;34m]\u001b[0m\u001b[0;34m)\u001b[0m\u001b[0;34m\u001b[0m\u001b[0;34m\u001b[0m\u001b[0m\n",
      "\u001b[0;32m~/anaconda3/envs/rsna_retro/lib/python3.7/site-packages/torch/nn/modules/module.py\u001b[0m in \u001b[0;36mload_state_dict\u001b[0;34m(self, state_dict, strict)\u001b[0m\n\u001b[1;32m    837\u001b[0m         \u001b[0;32mif\u001b[0m \u001b[0mlen\u001b[0m\u001b[0;34m(\u001b[0m\u001b[0merror_msgs\u001b[0m\u001b[0;34m)\u001b[0m \u001b[0;34m>\u001b[0m \u001b[0;36m0\u001b[0m\u001b[0;34m:\u001b[0m\u001b[0;34m\u001b[0m\u001b[0;34m\u001b[0m\u001b[0m\n\u001b[1;32m    838\u001b[0m             raise RuntimeError('Error(s) in loading state_dict for {}:\\n\\t{}'.format(\n\u001b[0;32m--> 839\u001b[0;31m                                self.__class__.__name__, \"\\n\\t\".join(error_msgs)))\n\u001b[0m\u001b[1;32m    840\u001b[0m         \u001b[0;32mreturn\u001b[0m \u001b[0m_IncompatibleKeys\u001b[0m\u001b[0;34m(\u001b[0m\u001b[0mmissing_keys\u001b[0m\u001b[0;34m,\u001b[0m \u001b[0munexpected_keys\u001b[0m\u001b[0;34m)\u001b[0m\u001b[0;34m\u001b[0m\u001b[0;34m\u001b[0m\u001b[0m\n\u001b[1;32m    841\u001b[0m \u001b[0;34m\u001b[0m\u001b[0m\n",
      "\u001b[0;31mRuntimeError\u001b[0m: Error(s) in loading state_dict for Sequential:\n\tMissing key(s) in state_dict: \"0.0.0.weight\", \"0.0.1.weight\", \"0.0.1.bias\", \"0.0.1.running_mean\", \"0.0.1.running_var\", \"0.1.0.weight\", \"0.1.1.weight\", \"0.1.1.bias\", \"0.1.1.running_mean\", \"0.1.1.running_var\", \"0.2.0.weight\", \"0.2.1.weight\", \"0.2.1.bias\", \"0.2.1.running_mean\", \"0.2.1.running_var\", \"0.4.0.convs.0.0.weight\", \"0.4.0.convs.0.1.weight\", \"0.4.0.convs.0.1.bias\", \"0.4.0.convs.0.1.running_mean\", \"0.4.0.convs.0.1.running_var\", \"0.4.0.convs.1.0.weight\", \"0.4.0.convs.1.1.weight\", \"0.4.0.convs.1.1.bias\", \"0.4.0.convs.1.1.running_mean\", \"0.4.0.convs.1.1.running_var\", \"0.4.0.convpath.0.0.0.weight\", \"0.4.0.convpath.0.0.1.weight\", \"0.4.0.convpath.0.0.1.bias\", \"0.4.0.convpath.0.0.1.running_mean\", \"0.4.0.convpath.0.0.1.running_var\", \"0.4.0.convpath.0.1.0.weight\", \"0.4.0.convpath.0.1.1.weight\", \"0.4.0.convpath.0.1.1.bias\", \"0.4.0.convpath.0.1.1.running_mean\", \"0.4.0.convpath.0.1.1.running_var\", \"0.4.1.convs.0.0.weight\", \"0.4.1.convs.0.1.weight\", \"0.4.1.convs.0.1.bias\", \"0.4.1.convs.0.1.running_mean\", \"0.4.1.convs.0.1.running_var\", \"0.4.1.convs.1.0.weight\", \"0.4.1.convs.1.1.weight\", \"0.4.1.convs.1.1.bias\", \"0.4.1.convs.1.1.running_mean\", \"0.4.1.convs.1.1.running_var\", \"0.4.1.convpath.0.0.0.weight\", \"0.4.1.convpath.0.0.1.weight\", \"0.4.1.convpath.0.0.1.bias\", \"0.4.1.convpath.0.0.1.running_mean\", \"0.4.1.convpath.0.0.1.running_var\", \"0.4.1.convpath.0.1.0.weight\", \"0.4.1.convpath.0.1.1.weight\", \"0.4.1.convpath.0.1.1.bias\", \"0.4.1.convpath.0.1.1.running_mean\", \"0.4.1.convpath.0.1.1.running_var\", \"0.4.2.convs.0.0.weight\", \"0.4.2.convs.0.1.weight\", \"0.4.2.convs.0.1.bias\", \"0.4.2.convs.0.1.running_mean\", \"0.4.2.convs.0.1.running_var\", \"0.4.2.convs.1.0.weight\", \"0.4.2.convs.1.1.weight\", \"0.4.2.convs.1.1.bias\", \"0.4.2.convs.1.1.running_mean\", \"0.4.2.convs.1.1.running_var\", \"0.4.2.convpath.0.0.0.weight\", \"0.4.2.convpath.0.0.1.weight\", \"0.4.2.convpath.0.0.1.bias\", \"0.4.2.convpath.0.0.1.running_mean\", \"0.4.2.convpath.0.0.1.running_var\", \"0.4.2.convpath.0.1.0.weight\", \"0.4.2.convpath.0.1.1.weight\", \"0.4.2.convpath.0.1.1.bias\", \"0.4.2.convpath.0.1.1.running_mean\", \"0.4.2.convpath.0.1.1.running_var\", \"0.5.0.convs.0.0.weight\", \"0.5.0.convs.0.1.weight\", \"0.5.0.convs.0.1.bias\", \"0.5.0.convs.0.1.running_mean\", \"0.5.0.convs.0.1.running_var\", \"0.5.0.convs.1.0.weight\", \"0.5.0.convs.1.1.weight\", \"0.5.0.convs.1.1.bias\", \"0.5.0.convs.1.1.running_mean\", \"0.5.0.convs.1.1.running_var\", \"0.5.0.convpath.0.0.0.weight\", \"0.5.0.convpath.0.0.1.weight\", \"0.5.0.convpath.0.0.1.bias\", \"0.5.0.convpath.0.0.1.running_mean\", \"0.5.0.convpath.0.0.1.running_var\", \"0.5.0.convpath.0.1.0.weight\", \"0.5.0.convpath.0.1.1.weight\", \"0.5.0.convpath.0.1.1.bias\", \"0.5.0.convpath.0.1.1.running_mean\", \"0.5.0.convpath.0.1.1.running_var\", \"0.5.0.idpath.1.0.weight\", \"0.5.0.idpath.1.1.weight\", \"0.5.0.idpath.1.1.bias\", \"0.5.0.idpath.1.1.running_mean\", \"0.5.0.idpath.1.1.running_var\", \"0.5.1.convs.0.0.weight\", \"0.5.1.convs.0.1.weight\", \"0.5.1.convs.0.1.bias\", \"0.5.1.convs.0.1.running_mean\", \"0.5.1.convs.0.1.running_var\", \"0.5.1.convs.1.0.weight\", \"0.5.1.convs.1.1.weight\", \"0.5.1.convs.1.1.bias\", \"0.5.1.convs.1.1.running_mean\", \"0.5.1.convs.1.1.running_var\", \"0.5.1.convpath.0.0.0.weight\", \"0.5.1.convpath.0.0.1.weight\", \"0.5.1.convpath.0.0.1.bias\", \"0.5.1.convpath.0.0.1.running_mean\", \"0.5.1.convpath.0.0.1.running_var\", \"0.5.1.convpath.0.1.0.weight\", \"0.5.1.convpath.0.1.1.weight\", \"0.5.1.convpath.0.1.1.bias\", \"0.5.1.convpath.0.1.1.running_mean\", \"0.5.1.convpath.0.1.1.running_var\", \"0.5.2.convs.0.0.weight\", \"0.5.2.convs.0.1.weight\", \"0.5.2.convs.0.1.bias\", \"0.5.2.convs.0.1.running_mean\", \"0.5.2.convs.0.1.running_var\", \"0.5.2.convs.1.0.weight\", \"0.5.2.convs.1.1.weight\", \"0.5.2.convs.1.1.bias\", \"0.5.2.convs.1.1.running_mean\", \"0.5.2.convs.1.1.running_var\", \"0.5.2.convpath.0.0.0.weight\", \"0.5.2.convpath.0.0.1.weight\", \"0.5.2.convpath.0.0.1.bias\", \"0.5.2.convpath.0.0.1.running_mean\", \"0.5.2.convpath.0.0.1.running_var\", \"0.5.2.convpath.0.1.0.weight\", \"0.5.2.convpath.0.1.1.weight\", \"0.5.2.convpath.0.1.1.bias\", \"0.5.2.convpath.0.1.1.running_mean\", \"0.5.2.convpath.0.1.1.running_var\", \"0.5.3.convs.0.0.weight\", \"0.5.3.convs.0.1.weight\", \"0.5.3.convs.0.1.bias\", \"0.5.3.convs.0.1.running_mean\", \"0.5.3.convs.0.1.running_var\", \"0.5.3.convs.1.0.weight\", \"0.5.3.convs.1.1.weight\", \"0.5.3.convs.1.1.bias\", \"0.5.3.convs.1.1.running_mean\", \"0.5.3.convs.1.1.running_var\", \"0.5.3.convpath.0.0.0.weight\", \"0.5.3.convpath.0.0.1.weight\", \"0.5.3.convpath.0.0.1.bias\", \"0.5.3.convpath.0.0.1.running_mean\", \"0.5.3.convpath.0.0.1.running_var\", \"0.5.3.convpath.0.1.0.weight\", \"0.5.3.convpath.0.1.1.weight\", \"0.5.3.convpath.0.1.1.bias\", \"0.5.3.convpath.0.1.1.running_mean\", \"0.5.3.convpath.0.1.1.running_var\", \"0.6.0.convs.0.0.weight\", \"0.6.0.convs.0.1.weight\", \"0.6.0.convs.0.1.bias\", \"0.6.0.convs.0.1.running_mean\", \"0.6.0.convs.0.1.running_var\", \"0.6.0.convs.1.0.weight\", \"0.6.0.convs.1.1.weight\", \"0.6.0.convs.1.1.bias\", \"0.6.0.convs.1.1.running_mean\", \"0.6.0.convs.1.1.running_var\", \"0.6.0.convpath.0.0.0.weight\", \"0.6.0.convpath.0.0.1.weight\", \"0.6.0.convpath.0.0.1.bias\", \"0.6.0.convpath.0.0.1.running_mean\", \"0.6.0.convpath.0.0.1.running_var\", \"0.6.0.convpath.0.1.0.weight\", \"0.6.0.convpath.0.1.1.weight\", \"0.6.0.convpath.0.1.1.bias\", \"0.6.0.convpath.0.1.1.running_mean\", \"0.6.0.convpath.0.1.1.running_var\", \"0.6.0.idpath.1.0.weight\", \"0.6.0.idpath.1.1.weight\", \"0.6.0.idpath.1.1.bias\", \"0.6.0.idpath.1.1.running_mean\", \"0.6.0.idpath.1.1.running_var\", \"0.6.1.convs.0.0.weight\", \"0.6.1.convs.0.1.weight\", \"0.6.1.convs.0.1.bias\", \"0.6.1.convs.0.1.running_mean\", \"0.6.1.convs.0.1.running_var\", \"0.6.1.convs.1.0.weight\", \"0.6.1.convs.1.1.weight\", \"0.6.1.convs.1.1.bias\", \"0.6.1.convs.1.1.running_mean\", \"0.6.1.convs.1.1.running_var\", \"0.6.1.convpath.0.0.0.weight\", \"0.6.1.convpath.0.0.1.weight\", \"0.6.1.convpath.0.0.1.bias\", \"0.6.1.convpath.0.0.1.running_mean\", \"0.6.1.convpath.0.0.1.running_var\", \"0.6.1.convpath.0.1.0.weight\", \"0.6.1.convpath.0.1.1.weight\", \"0.6.1.convpath.0.1.1.bias\", \"0.6.1.convpath.0.1.1.running_mean\", \"0.6.1.convpath.0.1.1.running_var\", \"0.6.2.convs.0.0.weight\", \"0.6.2.convs.0.1.weight\", \"0.6.2.convs.0.1.bias\", \"0.6.2.convs.0.1.running_mean\", \"0.6.2.convs.0.1.running_var\", \"0.6.2.convs.1.0.weight\", \"0.6.2.convs.1.1.weight\", \"0.6.2.convs.1.1.bias\", \"0.6.2.convs.1.1.running_mean\", \"0.6.2.convs.1.1.running_var\", \"0.6.2.convpath.0.0.0.weight\", \"0.6.2.convpath.0.0.1.weight\", \"0.6.2.convpath.0.0.1.bias\", \"0.6.2.convpath.0.0.1.running_mean\", \"0.6.2.convpath.0.0.1.running_var\", \"0.6.2.convpath.0.1.0.weight\", \"0.6.2.convpath.0.1.1.weight\", \"0.6.2.convpath.0.1.1.bias\", \"0.6.2.convpath.0.1.1.running_mean\", \"0.6.2.convpath.0.1.1.running_var\", \"0.6.3.convs.0.0.weight\", \"0.6.3.convs.0.1.weight\", \"0.6.3.convs.0.1.bias\", \"0.6.3.convs.0.1.running_mean\", \"0.6.3.convs.0.1.running_var\", \"0.6.3.convs.1.0.weight\", \"0.6.3.convs.1.1.weight\", \"0.6.3.convs.1.1.bias\", \"0.6.3.convs.1.1.running_mean\", \"0.6.3.convs.1.1.running_var\", \"0.6.3.convpath.0.0.0.weight\", \"0.6.3.convpath.0.0.1.weight\", \"0.6.3.convpath.0.0.1.bias\", \"0.6.3.convpath.0.0.1.running_mean\", \"0.6.3.convpath.0.0.1.running_var\", \"0.6.3.convpath.0.1.0.weight\", \"0.6.3.convpath.0.1.1.weight\", \"0.6.3.convpath.0.1.1.bias\", \"0.6.3.convpath.0.1.1.running_mean\", \"0.6.3.convpath.0.1.1.running_var\", \"0.6.4.convs.0.0.weight\", \"0.6.4.convs.0.1.weight\", \"0.6.4.convs.0.1.bias\", \"0.6.4.convs.0.1.running_mean\", \"0.6.4.convs.0.1.running_var\", \"0.6.4.convs.1.0.weight\", \"0.6.4.convs.1.1.weight\", \"0.6.4.convs.1.1.bias\", \"0.6.4.convs.1.1.running_mean\", \"0.6.4.convs.1.1.running_var\", \"0.6.4.convpath.0.0.0.weight\", \"0.6.4.convpath.0.0.1.weight\", \"0.6.4.convpath.0.0.1.bias\", \"0.6.4.convpath.0.0.1.running_mean\", \"0.6.4.convpath.0.0.1.running_var\", \"0.6.4.convpath.0.1.0.weight\", \"0.6.4.convpath.0.1.1.weight\", \"0.6.4.convpath.0.1.1.bias\", \"0.6.4.convpath.0.1.1.running_mean\", \"0.6.4.convpath.0.1.1.running_var\", \"0.6.5.convs.0.0.weight\", \"0.6.5.convs.0.1.weight\", \"0.6.5.convs.0.1.bias\", \"0.6.5.convs.0.1.running_mean\", \"0.6.5.convs.0.1.running_var\", \"0.6.5.convs.1.0.weight\", \"0.6.5.convs.1.1.weight\", \"0.6.5.convs.1.1.bias\", \"0.6.5.convs.1.1.running_mean\", \"0.6.5.convs.1.1.running_var\", \"0.6.5.convpath.0.0.0.weight\", \"0.6.5.convpath.0.0.1.weight\", \"0.6.5.convpath.0.0.1.bias\", \"0.6.5.convpath.0.0.1.running_mean\", \"0.6.5.convpath.0.0.1.running_var\", \"0.6.5.convpath.0.1.0.weight\", \"0.6.5.convpath.0.1.1.weight\", \"0.6.5.convpath.0.1.1.bias\", \"0.6.5.convpath.0.1.1.running_mean\", \"0.6.5.convpath.0.1.1.running_var\", \"0.7.0.convs.0.0.weight\", \"0.7.0.convs.0.1.weight\", \"0.7.0.convs.0.1.bias\", \"0.7.0.convs.0.1.running_mean\", \"0.7.0.convs.0.1.running_var\", \"0.7.0.convs.1.0.weight\", \"0.7.0.convs.1.1.weight\", \"0.7.0.convs.1.1.bias\", \"0.7.0.convs.1.1.running_mean\", \"0.7.0.convs.1.1.running_var\", \"0.7.0.convpath.0.0.0.weight\", \"0.7.0.convpath.0.0.1.weight\", \"0.7.0.convpath.0.0.1.bias\", \"0.7.0.convpath.0.0.1.running_mean\", \"0.7.0.convpath.0.0.1.running_var\", \"0.7.0.convpath.0.1.0.weight\", \"0.7.0.convpath.0.1.1.weight\", \"0.7.0.convpath.0.1.1.bias\", \"0.7.0.convpath.0.1.1.running_mean\", \"0.7.0.convpath.0.1.1.running_var\", \"0.7.0.idpath.1.0.weight\", \"0.7.0.idpath.1.1.weight\", \"0.7.0.idpath.1.1.bias\", \"0.7.0.idpath.1.1.running_mean\", \"0.7.0.idpath.1.1.running_var\", \"0.7.1.convs.0.0.weight\", \"0.7.1.convs.0.1.weight\", \"0.7.1.convs.0.1.bias\", \"0.7.1.convs.0.1.running_mean\", \"0.7.1.convs.0.1.running_var\", \"0.7.1.convs.1.0.weight\", \"0.7.1.convs.1.1.weight\", \"0.7.1.convs.1.1.bias\", \"0.7.1.convs.1.1.running_mean\", \"0.7.1.convs.1.1.running_var\", \"0.7.1.convpath.0.0.0.weight\", \"0.7.1.convpath.0.0.1.weight\", \"0.7.1.convpath.0.0.1.bias\", \"0.7.1.convpath.0.0.1.running_mean\", \"0.7.1.convpath.0.0.1.running_var\", \"0.7.1.convpath.0.1.0.weight\", \"0.7.1.convpath.0.1.1.weight\", \"0.7.1.convpath.0.1.1.bias\", \"0.7.1.convpath.0.1.1.running_mean\", \"0.7.1.convpath.0.1.1.running_var\", \"0.7.2.convs.0.0.weight\", \"0.7.2.convs.0.1.weight\", \"0.7.2.convs.0.1.bias\", \"0.7.2.convs.0.1.running_mean\", \"0.7.2.convs.0.1.running_var\", \"0.7.2.convs.1.0.weight\", \"0.7.2.convs.1.1.weight\", \"0.7.2.convs.1.1.bias\", \"0.7.2.convs.1.1.running_mean\", \"0.7.2.convs.1.1.running_var\", \"0.7.2.convpath.0.0.0.weight\", \"0.7.2.convpath.0.0.1.weight\", \"0.7.2.convpath.0.0.1.bias\", \"0.7.2.convpath.0.0.1.running_mean\", \"0.7.2.convpath.0.0.1.running_var\", \"0.7.2.convpath.0.1.0.weight\", \"0.7.2.convpath.0.1.1.weight\", \"0.7.2.convpath.0.1.1.bias\", \"0.7.2.convpath.0.1.1.running_mean\", \"0.7.2.convpath.0.1.1.running_var\", \"1.2.weight\", \"1.2.bias\", \"1.2.running_mean\", \"1.2.running_var\", \"1.3.weight\". \n\tUnexpected key(s) in state_dict: \"layer0.conv1.weight\", \"layer0.bn1.weight\", \"layer0.bn1.bias\", \"layer0.bn1.running_mean\", \"layer0.bn1.running_var\", \"layer0.bn1.num_batches_tracked\", \"layer1.0.conv1.weight\", \"layer1.0.bn1.weight\", \"layer1.0.bn1.bias\", \"layer1.0.bn1.running_mean\", \"layer1.0.bn1.running_var\", \"layer1.0.bn1.num_batches_tracked\", \"layer1.0.conv2.weight\", \"layer1.0.bn2.weight\", \"layer1.0.bn2.bias\", \"layer1.0.bn2.running_mean\", \"layer1.0.bn2.running_var\", \"layer1.0.bn2.num_batches_tracked\", \"layer1.0.conv3.weight\", \"layer1.0.bn3.weight\", \"layer1.0.bn3.bias\", \"layer1.0.bn3.running_mean\", \"layer1.0.bn3.running_var\", \"layer1.0.bn3.num_batches_tracked\", \"layer1.0.se_module.fc1.weight\", \"layer1.0.se_module.fc1.bias\", \"layer1.0.se_module.fc2.weight\", \"layer1.0.se_module.fc2.bias\", \"layer1.0.downsample.0.weight\", \"layer1.0.downsample.1.weight\", \"layer1.0.downsample.1.bias\", \"layer1.0.downsample.1.running_mean\", \"layer1.0.downsample.1.running_var\", \"layer1.0.downsample.1.num_batches_tracked\", \"layer1.1.conv1.weight\", \"layer1.1.bn1.weight\", \"layer1.1.bn1.bias\", \"layer1.1.bn1.running_mean\", \"layer1.1.bn1.running_var\", \"layer1.1.bn1.num_batches_tracked\", \"layer1.1.conv2.weight\", \"layer1.1.bn2.weight\", \"layer1.1.bn2.bias\", \"layer1.1.bn2.running_mean\", \"layer1.1.bn2.running_var\", \"layer1.1.bn2.num_batches_tracked\", \"layer1.1.conv3.weight\", \"layer1.1.bn3.weight\", \"layer1.1.bn3.bias\", \"layer1.1.bn3.running_mean\", \"layer1.1.bn3.running_var\", \"layer1.1.bn3.num_batches_tracked\", \"layer1.1.se_module.fc1.weight\", \"layer1.1.se_module.fc1.bias\", \"layer1.1.se_module.fc2.weight\", \"layer1.1.se_module.fc2.bias\", \"layer1.2.conv1.weight\", \"layer1.2.bn1.weight\", \"layer1.2.bn1.bias\", \"layer1.2.bn1.running_mean\", \"layer1.2.bn1.running_var\", \"layer1.2.bn1.num_batches_tracked\", \"layer1.2.conv2.weight\", \"layer1.2.bn2.weight\", \"layer1.2.bn2.bias\", \"layer1.2.bn2.running_mean\", \"layer1.2.bn2.running_var\", \"layer1.2.bn2.num_batches_tracked\", \"layer1.2.conv3.weight\", \"layer1.2.bn3.weight\", \"layer1.2.bn3.bias\", \"layer1.2.bn3.running_mean\", \"layer1.2.bn3.running_var\", \"layer1.2.bn3.num_batches_tracked\", \"layer1.2.se_module.fc1.weight\", \"layer1.2.se_module.fc1.bias\", \"layer1.2.se_module.fc2.weight\", \"layer1.2.se_module.fc2.bias\", \"layer2.0.conv1.weight\", \"layer2.0.bn1.weight\", \"layer2.0.bn1.bias\", \"layer2.0.bn1.running_mean\", \"layer2.0.bn1.running_var\", \"layer2.0.bn1.num_batches_tracked\", \"layer2.0.conv2.weight\", \"layer2.0.bn2.weight\", \"layer2.0.bn2.bias\", \"layer2.0.bn2.running_mean\", \"layer2.0.bn2.running_var\", \"layer2.0.bn2.num_batches_tracked\", \"layer2.0.conv3.weight\", \"layer2.0.bn3.weight\", \"layer2.0.bn3.bias\", \"layer2.0.bn3.running_mean\", \"layer2.0.bn3.running_var\", \"layer2.0.bn3.num_batches_tracked\", \"layer2.0.se_module.fc1.weight\", \"layer2.0.se_module.fc1.bias\", \"layer2.0.se_module.fc2.weight\", \"layer2.0.se_module.fc2.bias\", \"layer2.0.downsample.0.weight\", \"layer2.0.downsample.1.weight\", \"layer2.0.downsample.1.bias\", \"layer2.0.downsample.1.running_mean\", \"layer2.0.downsample.1.running_var\", \"layer2.0.downsample.1.num_batches_tracked\", \"layer2.1.conv1.weight\", \"layer2.1.bn1.weight\", \"layer2.1.bn1.bias\", \"layer2.1.bn1.running_mean\", \"layer2.1.bn1.running_var\", \"layer2.1.bn1.num_batches_tracked\", \"layer2.1.conv2.weight\", \"layer2.1.bn2.weight\", \"layer2.1.bn2.bias\", \"layer2.1.bn2.running_mean\", \"layer2.1.bn2.running_var\", \"layer2.1.bn2.num_batches_tracked\", \"layer2.1.conv3.weight\", \"layer2.1.bn3.weight\", \"layer2.1.bn3.bias\", \"layer2.1.bn3.running_mean\", \"layer2.1.bn3.running_var\", \"layer2.1.bn3.num_batches_tracked\", \"layer2.1.se_module.fc1.weight\", \"layer2.1.se_module.fc1.bias\", \"layer2.1.se_module.fc2.weight\", \"layer2.1.se_module.fc2.bias\", \"layer2.2.conv1.weight\", \"layer2.2.bn1.weight\", \"layer2.2.bn1.bias\", \"layer2.2.bn1.running_mean\", \"layer2.2.bn1.running_var\", \"layer2.2.bn1.num_batches_tracked\", \"layer2.2.conv2.weight\", \"layer2.2.bn2.weight\", \"layer2.2.bn2.bias\", \"layer2.2.bn2.running_mean\", \"layer2.2.bn2.running_var\", \"layer2.2.bn2.num_batches_tracked\", \"layer2.2.conv3.weight\", \"layer2.2.bn3.weight\", \"layer2.2.bn3.bias\", \"layer2.2.bn3.running_mean\", \"layer2.2.bn3.running_var\", \"layer2.2.bn3.num_batches_tracked\", \"layer2.2.se_module.fc1.weight\", \"layer2.2.se_module.fc1.bias\", \"layer2.2.se_module.fc2.weight\", \"layer2.2.se_module.fc2.bias\", \"layer2.3.conv1.weight\", \"layer2.3.bn1.weight\", \"layer2.3.bn1.bias\", \"layer2.3.bn1.running_mean\", \"layer2.3.bn1.running_var\", \"layer2.3.bn1.num_batches_tracked\", \"layer2.3.conv2.weight\", \"layer2.3.bn2.weight\", \"layer2.3.bn2.bias\", \"layer2.3.bn2.running_mean\", \"layer2.3.bn2.running_var\", \"layer2.3.bn2.num_batches_tracked\", \"layer2.3.conv3.weight\", \"layer2.3.bn3.weight\", \"layer2.3.bn3.bias\", \"layer2.3.bn3.running_mean\", \"layer2.3.bn3.running_var\", \"layer2.3.bn3.num_batches_tracked\", \"layer2.3.se_module.fc1.weight\", \"layer2.3.se_module.fc1.bias\", \"layer2.3.se_module.fc2.weight\", \"layer2.3.se_module.fc2.bias\", \"layer3.0.conv1.weight\", \"layer3.0.bn1.weight\", \"layer3.0.bn1.bias\", \"layer3.0.bn1.running_mean\", \"layer3.0.bn1.running_var\", \"layer3.0.bn1.num_batches_tracked\", \"layer3.0.conv2.weight\", \"layer3.0.bn2.weight\", \"layer3.0.bn2.bias\", \"layer3.0.bn2.running_mean\", \"layer3.0.bn2.running_var\", \"layer3.0.bn2.num_batches_tracked\", \"layer3.0.conv3.weight\", \"layer3.0.bn3.weight\", \"layer3.0.bn3.bias\", \"layer3.0.bn3.running_mean\", \"layer3.0.bn3.running_var\", \"layer3.0.bn3.num_batches_tracked\", \"layer3.0.se_module.fc1.weight\", \"layer3.0.se_module.fc1.bias\", \"layer3.0.se_module.fc2.weight\", \"layer3.0.se_module.fc2.bias\", \"layer3.0.downsample.0.weight\", \"layer3.0.downsample.1.weight\", \"layer3.0.downsample.1.bias\", \"layer3.0.downsample.1.running_mean\", \"layer3.0.downsample.1.running_var\", \"layer3.0.downsample.1.num_batches_tracked\", \"layer3.1.conv1.weight\", \"layer3.1.bn1.weight\", \"layer3.1.bn1.bias\", \"layer3.1.bn1.running_mean\", \"layer3.1.bn1.running_var\", \"layer3.1.bn1.num_batches_tracked\", \"layer3.1.conv2.weight\", \"layer3.1.bn2.weight\", \"layer3.1.bn2.bias\", \"layer3.1.bn2.running_mean\", \"layer3.1.bn2.running_var\", \"layer3.1.bn2.num_batches_tracked\", \"layer3.1.conv3.weight\", \"layer3.1.bn3.weight\", \"layer3.1.bn3.bias\", \"layer3.1.bn3.running_mean\", \"layer3.1.bn3.running_var\", \"layer3.1.bn3.num_batches_tracked\", \"layer3.1.se_module.fc1.weight\", \"layer3.1.se_module.fc1.bias\", \"layer3.1.se_module.fc2.weight\", \"layer3.1.se_module.fc2.bias\", \"layer3.2.conv1.weight\", \"layer3.2.bn1.weight\", \"layer3.2.bn1.bias\", \"layer3.2.bn1.running_mean\", \"layer3.2.bn1.running_var\", \"layer3.2.bn1.num_batches_tracked\", \"layer3.2.conv2.weight\", \"layer3.2.bn2.weight\", \"layer3.2.bn2.bias\", \"layer3.2.bn2.running_mean\", \"layer3.2.bn2.running_var\", \"layer3.2.bn2.num_batches_tracked\", \"layer3.2.conv3.weight\", \"layer3.2.bn3.weight\", \"layer3.2.bn3.bias\", \"layer3.2.bn3.running_mean\", \"layer3.2.bn3.running_var\", \"layer3.2.bn3.num_batches_tracked\", \"layer3.2.se_module.fc1.weight\", \"layer3.2.se_module.fc1.bias\", \"layer3.2.se_module.fc2.weight\", \"layer3.2.se_module.fc2.bias\", \"layer3.3.conv1.weight\", \"layer3.3.bn1.weight\", \"layer3.3.bn1.bias\", \"layer3.3.bn1.running_mean\", \"layer3.3.bn1.running_var\", \"layer3.3.bn1.num_batches_tracked\", \"layer3.3.conv2.weight\", \"layer3.3.bn2.weight\", \"layer3.3.bn2.bias\", \"layer3.3.bn2.running_mean\", \"layer3.3.bn2.running_var\", \"layer3.3.bn2.num_batches_tracked\", \"layer3.3.conv3.weight\", \"layer3.3.bn3.weight\", \"layer3.3.bn3.bias\", \"layer3.3.bn3.running_mean\", \"layer3.3.bn3.running_var\", \"layer3.3.bn3.num_batches_tracked\", \"layer3.3.se_module.fc1.weight\", \"layer3.3.se_module.fc1.bias\", \"layer3.3.se_module.fc2.weight\", \"layer3.3.se_module.fc2.bias\", \"layer3.4.conv1.weight\", \"layer3.4.bn1.weight\", \"layer3.4.bn1.bias\", \"layer3.4.bn1.running_mean\", \"layer3.4.bn1.running_var\", \"layer3.4.bn1.num_batches_tracked\", \"layer3.4.conv2.weight\", \"layer3.4.bn2.weight\", \"layer3.4.bn2.bias\", \"layer3.4.bn2.running_mean\", \"layer3.4.bn2.running_var\", \"layer3.4.bn2.num_batches_tracked\", \"layer3.4.conv3.weight\", \"layer3.4.bn3.weight\", \"layer3.4.bn3.bias\", \"layer3.4.bn3.running_mean\", \"layer3.4.bn3.running_var\", \"layer3.4.bn3.num_batches_tracked\", \"layer3.4.se_module.fc1.weight\", \"layer3.4.se_module.fc1.bias\", \"layer3.4.se_module.fc2.weight\", \"layer3.4.se_module.fc2.bias\", \"layer3.5.conv1.weight\", \"layer3.5.bn1.weight\", \"layer3.5.bn1.bias\", \"layer3.5.bn1.running_mean\", \"layer3.5.bn1.running_var\", \"layer3.5.bn1.num_batches_tracked\", \"layer3.5.conv2.weight\", \"layer3.5.bn2.weight\", \"layer3.5.bn2.bias\", \"layer3.5.bn2.running_mean\", \"layer3.5.bn2.running_var\", \"layer3.5.bn2.num_batches_tracked\", \"layer3.5.conv3.weight\", \"layer3.5.bn3.weight\", \"layer3.5.bn3.bias\", \"layer3.5.bn3.running_mean\", \"layer3.5.bn3.running_var\", \"layer3.5.bn3.num_batches_tracked\", \"layer3.5.se_module.fc1.weight\", \"layer3.5.se_module.fc1.bias\", \"layer3.5.se_module.fc2.weight\", \"layer3.5.se_module.fc2.bias\", \"layer4.0.conv1.weight\", \"layer4.0.bn1.weight\", \"layer4.0.bn1.bias\", \"layer4.0.bn1.running_mean\", \"layer4.0.bn1.running_var\", \"layer4.0.bn1.num_batches_tracked\", \"layer4.0.conv2.weight\", \"layer4.0.bn2.weight\", \"layer4.0.bn2.bias\", \"layer4.0.bn2.running_mean\", \"layer4.0.bn2.running_var\", \"layer4.0.bn2.num_batches_tracked\", \"layer4.0.conv3.weight\", \"layer4.0.bn3.weight\", \"layer4.0.bn3.bias\", \"layer4.0.bn3.running_mean\", \"layer4.0.bn3.running_var\", \"layer4.0.bn3.num_batches_tracked\", \"layer4.0.se_module.fc1.weight\", \"layer4.0.se_module.fc1.bias\", \"layer4.0.se_module.fc2.weight\", \"layer4.0.se_module.fc2.bias\", \"layer4.0.downsample.0.weight\", \"layer4.0.downsample.1.weight\", \"layer4.0.downsample.1.bias\", \"layer4.0.downsample.1.running_mean\", \"layer4.0.downsample.1.running_var\", \"layer4.0.downsample.1.num_batches_tracked\", \"layer4.1.conv1.weight\", \"layer4.1.bn1.weight\", \"layer4.1.bn1.bias\", \"layer4.1.bn1.running_mean\", \"layer4.1.bn1.running_var\", \"layer4.1.bn1.num_batches_tracked\", \"layer4.1.conv2.weight\", \"layer4.1.bn2.weight\", \"layer4.1.bn2.bias\", \"layer4.1.bn2.running_mean\", \"layer4.1.bn2.running_var\", \"layer4.1.bn2.num_batches_tracked\", \"layer4.1.conv3.weight\", \"layer4.1.bn3.weight\", \"layer4.1.bn3.bias\", \"layer4.1.bn3.running_mean\", \"layer4.1.bn3.running_var\", \"layer4.1.bn3.num_batches_tracked\", \"layer4.1.se_module.fc1.weight\", \"layer4.1.se_module.fc1.bias\", \"layer4.1.se_module.fc2.weight\", \"layer4.1.se_module.fc2.bias\", \"layer4.2.conv1.weight\", \"layer4.2.bn1.weight\", \"layer4.2.bn1.bias\", \"layer4.2.bn1.running_mean\", \"layer4.2.bn1.running_var\", \"layer4.2.bn1.num_batches_tracked\", \"layer4.2.conv2.weight\", \"layer4.2.bn2.weight\", \"layer4.2.bn2.bias\", \"layer4.2.bn2.running_mean\", \"layer4.2.bn2.running_var\", \"layer4.2.bn2.num_batches_tracked\", \"layer4.2.conv3.weight\", \"layer4.2.bn3.weight\", \"layer4.2.bn3.bias\", \"layer4.2.bn3.running_mean\", \"layer4.2.bn3.running_var\", \"layer4.2.bn3.num_batches_tracked\", \"layer4.2.se_module.fc1.weight\", \"layer4.2.se_module.fc1.bias\", \"layer4.2.se_module.fc2.weight\", \"layer4.2.se_module.fc2.bias\", \"last_linear.weight\", \"last_linear.bias\". "
     ]
    }
   ],
   "source": [
    "dbunch = get_test_data(Meta.df_comb, bs=128, sz=None, tst_dir='nocrop_jpg')\n",
    "learn = get_learner(dbunch, xresnet34, lf=DummyLoss(), metrics=[])\n",
    "learn.load(fn_save)\n",
    "learn.model = learn.model[0]"
   ]
  },
  {
   "cell_type": "code",
   "execution_count": 23,
   "metadata": {},
   "outputs": [
    {
     "data": {
      "text/html": [],
      "text/plain": [
       "<IPython.core.display.HTML object>"
      ]
     },
     "metadata": {},
     "output_type": "display_data"
    },
    {
     "data": {
      "text/html": [
       "\n",
       "    <div>\n",
       "        <style>\n",
       "            /* Turns off some styling */\n",
       "            progress {\n",
       "                /* gets rid of default border in Firefox and Opera. */\n",
       "                border: none;\n",
       "                /* Needs to be in here for Safari polyfill so background images work as expected. */\n",
       "                background-size: auto;\n",
       "            }\n",
       "            .progress-bar-interrupted, .progress-bar-interrupted::-webkit-progress-bar {\n",
       "                background: #F44336;\n",
       "            }\n",
       "        </style>\n",
       "      <progress value='752802' class='' max='752802', style='width:300px; height:20px; vertical-align: middle;'></progress>\n",
       "      100.00% [752802/752802 07:28<00:00]\n",
       "    </div>\n",
       "    "
      ],
      "text/plain": [
       "<IPython.core.display.HTML object>"
      ]
     },
     "metadata": {},
     "output_type": "display_data"
    }
   ],
   "source": [
    "save_features(learn, path_feat256)"
   ]
  },
  {
   "cell_type": "code",
   "execution_count": 24,
   "metadata": {},
   "outputs": [
    {
     "data": {
      "text/html": [],
      "text/plain": [
       "<IPython.core.display.HTML object>"
      ]
     },
     "metadata": {},
     "output_type": "display_data"
    },
    {
     "data": {
      "text/html": [
       "\n",
       "    <div>\n",
       "        <style>\n",
       "            /* Turns off some styling */\n",
       "            progress {\n",
       "                /* gets rid of default border in Firefox and Opera. */\n",
       "                border: none;\n",
       "                /* Needs to be in here for Safari polyfill so background images work as expected. */\n",
       "                background-size: auto;\n",
       "            }\n",
       "            .progress-bar-interrupted, .progress-bar-interrupted::-webkit-progress-bar {\n",
       "                background: #F44336;\n",
       "            }\n",
       "        </style>\n",
       "      <progress value='121232' class='' max='121232', style='width:300px; height:20px; vertical-align: middle;'></progress>\n",
       "      100.00% [121232/121232 01:13<00:00]\n",
       "    </div>\n",
       "    "
      ],
      "text/plain": [
       "<IPython.core.display.HTML object>"
      ]
     },
     "metadata": {},
     "output_type": "display_data"
    }
   ],
   "source": [
    "dbunch = get_test_data(Meta.df_tst, bs=512, sz=None, tst_dir='tst_jpg')\n",
    "learn = get_learner(dbunch, xresnet34, lf=DummyLoss(), metrics=[])\n",
    "learn.load(fn_save)\n",
    "learn.model = learn.model[0]\n",
    "save_features(learn, path_feat256_tst)"
   ]
  },
  {
   "cell_type": "markdown",
   "metadata": {},
   "source": [
    "## Export"
   ]
  },
  {
   "cell_type": "code",
   "execution_count": 8,
   "metadata": {},
   "outputs": [
    {
     "name": "stdout",
     "output_type": "stream",
     "text": [
      "Converted 00_metadata.ipynb.\n",
      "Converted 01_preprocess.ipynb.\n",
      "Converted 01_preprocess_mean_std.ipynb.\n",
      "Converted 02_train.ipynb.\n",
      "Converted 03_train3d.ipynb.\n",
      "Converted 03_train3d_01_train3d.ipynb.\n",
      "Converted 03_train3d_02_train_head.ipynb.\n",
      "Converted 04_trainSeq_01_lstm.ipynb.\n",
      "Converted 04_trainSeq_02_transformer.ipynb.\n",
      "Converted 04_trainSeq_03_lstm_seutao.ipynb.\n",
      "Converted 05_train_adjacent.ipynb.\n",
      "Converted 05_train_adjacent_01_5c.ipynb.\n",
      "Converted 05_train_adjacent_02_3c.ipynb.\n"
     ]
    }
   ],
   "source": [
    "#hide\n",
    "from nbdev.export import notebook2script\n",
    "notebook2script()"
   ]
  }
 ],
 "metadata": {
  "kernelspec": {
   "display_name": "Python 3",
   "language": "python",
   "name": "python3"
  },
  "language_info": {
   "codemirror_mode": {
    "name": "ipython",
    "version": 3
   },
   "file_extension": ".py",
   "mimetype": "text/x-python",
   "name": "python",
   "nbconvert_exporter": "python",
   "pygments_lexer": "ipython3",
   "version": "3.7.5"
  }
 },
 "nbformat": 4,
 "nbformat_minor": 2
}

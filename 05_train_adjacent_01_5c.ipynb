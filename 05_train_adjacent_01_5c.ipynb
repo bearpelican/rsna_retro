{
 "cells": [
  {
   "cell_type": "code",
   "execution_count": 1,
   "metadata": {},
   "outputs": [
    {
     "name": "stdout",
     "output_type": "stream",
     "text": [
      "Loading imports\n",
      "Warning: Your Kaggle API key is readable by other users on this system! To fix this, you can run 'chmod 600 /home/ashaw/.kaggle/kaggle.json'\n"
     ]
    }
   ],
   "source": [
    "from rsna_retro.imports import *\n",
    "from rsna_retro.metadata import *\n",
    "from rsna_retro.preprocess import *\n",
    "from rsna_retro.train import *\n",
    "# from rsna_retro.train3d import *\n",
    "from rsna_retro.train_adjacent import *"
   ]
  },
  {
   "cell_type": "code",
   "execution_count": 2,
   "metadata": {},
   "outputs": [],
   "source": [
    "torch.cuda.set_device(2)"
   ]
  },
  {
   "cell_type": "markdown",
   "metadata": {},
   "source": [
    "## Train"
   ]
  },
  {
   "cell_type": "code",
   "execution_count": 3,
   "metadata": {},
   "outputs": [],
   "source": [
    "name = 'train_adjacent_5c'"
   ]
  },
  {
   "cell_type": "code",
   "execution_count": 4,
   "metadata": {},
   "outputs": [],
   "source": [
    "dbunch = get_adj_data(512, 128, Meta.splits_stg1)\n",
    "learn = get_learner(dbunch, partial(xresnet18, c_in=5))"
   ]
  },
  {
   "cell_type": "code",
   "execution_count": 5,
   "metadata": {},
   "outputs": [
    {
     "data": {
      "text/html": [
       "<table border=\"1\" class=\"dataframe\">\n",
       "  <thead>\n",
       "    <tr style=\"text-align: left;\">\n",
       "      <th>epoch</th>\n",
       "      <th>train_loss</th>\n",
       "      <th>valid_loss</th>\n",
       "      <th>accuracy_multi</th>\n",
       "      <th>accuracy_any</th>\n",
       "      <th>time</th>\n",
       "    </tr>\n",
       "  </thead>\n",
       "  <tbody>\n",
       "    <tr>\n",
       "      <td>0</td>\n",
       "      <td>0.259508</td>\n",
       "      <td>0.264516</td>\n",
       "      <td>0.898018</td>\n",
       "      <td>0.824924</td>\n",
       "      <td>06:03</td>\n",
       "    </tr>\n",
       "    <tr>\n",
       "      <td>1</td>\n",
       "      <td>0.231305</td>\n",
       "      <td>0.254917</td>\n",
       "      <td>0.910475</td>\n",
       "      <td>0.848391</td>\n",
       "      <td>06:01</td>\n",
       "    </tr>\n",
       "    <tr>\n",
       "      <td>2</td>\n",
       "      <td>0.211863</td>\n",
       "      <td>0.215509</td>\n",
       "      <td>0.921635</td>\n",
       "      <td>0.862720</td>\n",
       "      <td>06:02</td>\n",
       "    </tr>\n",
       "    <tr>\n",
       "      <td>3</td>\n",
       "      <td>0.203018</td>\n",
       "      <td>0.211351</td>\n",
       "      <td>0.923065</td>\n",
       "      <td>0.867408</td>\n",
       "      <td>06:00</td>\n",
       "    </tr>\n",
       "    <tr>\n",
       "      <td>4</td>\n",
       "      <td>0.199288</td>\n",
       "      <td>0.235727</td>\n",
       "      <td>0.917799</td>\n",
       "      <td>0.858694</td>\n",
       "      <td>06:05</td>\n",
       "    </tr>\n",
       "    <tr>\n",
       "      <td>5</td>\n",
       "      <td>0.190459</td>\n",
       "      <td>0.219281</td>\n",
       "      <td>0.922430</td>\n",
       "      <td>0.858403</td>\n",
       "      <td>06:06</td>\n",
       "    </tr>\n",
       "    <tr>\n",
       "      <td>6</td>\n",
       "      <td>0.188275</td>\n",
       "      <td>0.215355</td>\n",
       "      <td>0.923750</td>\n",
       "      <td>0.868547</td>\n",
       "      <td>06:07</td>\n",
       "    </tr>\n",
       "    <tr>\n",
       "      <td>7</td>\n",
       "      <td>0.183203</td>\n",
       "      <td>0.218013</td>\n",
       "      <td>0.927466</td>\n",
       "      <td>0.865713</td>\n",
       "      <td>06:05</td>\n",
       "    </tr>\n",
       "    <tr>\n",
       "      <td>8</td>\n",
       "      <td>0.179288</td>\n",
       "      <td>0.188682</td>\n",
       "      <td>0.932985</td>\n",
       "      <td>0.881552</td>\n",
       "      <td>06:04</td>\n",
       "    </tr>\n",
       "    <tr>\n",
       "      <td>9</td>\n",
       "      <td>0.176608</td>\n",
       "      <td>0.190069</td>\n",
       "      <td>0.932234</td>\n",
       "      <td>0.880387</td>\n",
       "      <td>06:01</td>\n",
       "    </tr>\n",
       "    <tr>\n",
       "      <td>10</td>\n",
       "      <td>0.171105</td>\n",
       "      <td>0.188833</td>\n",
       "      <td>0.930990</td>\n",
       "      <td>0.882532</td>\n",
       "      <td>06:05</td>\n",
       "    </tr>\n",
       "    <tr>\n",
       "      <td>11</td>\n",
       "      <td>0.166303</td>\n",
       "      <td>0.182052</td>\n",
       "      <td>0.936428</td>\n",
       "      <td>0.886081</td>\n",
       "      <td>06:00</td>\n",
       "    </tr>\n",
       "    <tr>\n",
       "      <td>12</td>\n",
       "      <td>0.163598</td>\n",
       "      <td>0.178598</td>\n",
       "      <td>0.937077</td>\n",
       "      <td>0.888598</td>\n",
       "      <td>06:03</td>\n",
       "    </tr>\n",
       "    <tr>\n",
       "      <td>13</td>\n",
       "      <td>0.158213</td>\n",
       "      <td>0.182923</td>\n",
       "      <td>0.936958</td>\n",
       "      <td>0.884201</td>\n",
       "      <td>06:02</td>\n",
       "    </tr>\n",
       "    <tr>\n",
       "      <td>14</td>\n",
       "      <td>0.152974</td>\n",
       "      <td>0.172012</td>\n",
       "      <td>0.939699</td>\n",
       "      <td>0.892570</td>\n",
       "      <td>06:02</td>\n",
       "    </tr>\n",
       "    <tr>\n",
       "      <td>15</td>\n",
       "      <td>0.148430</td>\n",
       "      <td>0.167631</td>\n",
       "      <td>0.941297</td>\n",
       "      <td>0.895590</td>\n",
       "      <td>06:02</td>\n",
       "    </tr>\n",
       "    <tr>\n",
       "      <td>16</td>\n",
       "      <td>0.141603</td>\n",
       "      <td>0.167098</td>\n",
       "      <td>0.942308</td>\n",
       "      <td>0.896649</td>\n",
       "      <td>06:04</td>\n",
       "    </tr>\n",
       "    <tr>\n",
       "      <td>17</td>\n",
       "      <td>0.136775</td>\n",
       "      <td>0.165547</td>\n",
       "      <td>0.942612</td>\n",
       "      <td>0.898186</td>\n",
       "      <td>06:01</td>\n",
       "    </tr>\n",
       "    <tr>\n",
       "      <td>18</td>\n",
       "      <td>0.131668</td>\n",
       "      <td>0.166191</td>\n",
       "      <td>0.943178</td>\n",
       "      <td>0.899642</td>\n",
       "      <td>06:01</td>\n",
       "    </tr>\n",
       "    <tr>\n",
       "      <td>19</td>\n",
       "      <td>0.128460</td>\n",
       "      <td>0.165917</td>\n",
       "      <td>0.943323</td>\n",
       "      <td>0.899695</td>\n",
       "      <td>05:59</td>\n",
       "    </tr>\n",
       "  </tbody>\n",
       "</table>"
      ],
      "text/plain": [
       "<IPython.core.display.HTML object>"
      ]
     },
     "metadata": {},
     "output_type": "display_data"
    }
   ],
   "source": [
    "do_fit(learn, 20, 4e-2)\n",
    "learn.save(f'runs/{name}-1')"
   ]
  },
  {
   "cell_type": "code",
   "execution_count": 6,
   "metadata": {},
   "outputs": [
    {
     "data": {
      "text/html": [
       "<table border=\"1\" class=\"dataframe\">\n",
       "  <thead>\n",
       "    <tr style=\"text-align: left;\">\n",
       "      <th>epoch</th>\n",
       "      <th>train_loss</th>\n",
       "      <th>valid_loss</th>\n",
       "      <th>accuracy_multi</th>\n",
       "      <th>accuracy_any</th>\n",
       "      <th>time</th>\n",
       "    </tr>\n",
       "  </thead>\n",
       "  <tbody>\n",
       "    <tr>\n",
       "      <td>0</td>\n",
       "      <td>0.170900</td>\n",
       "      <td>0.182028</td>\n",
       "      <td>0.935947</td>\n",
       "      <td>0.886717</td>\n",
       "      <td>07:02</td>\n",
       "    </tr>\n",
       "    <tr>\n",
       "      <td>1</td>\n",
       "      <td>0.157297</td>\n",
       "      <td>0.171350</td>\n",
       "      <td>0.939544</td>\n",
       "      <td>0.893312</td>\n",
       "      <td>06:55</td>\n",
       "    </tr>\n",
       "    <tr>\n",
       "      <td>2</td>\n",
       "      <td>0.149589</td>\n",
       "      <td>0.167156</td>\n",
       "      <td>0.940802</td>\n",
       "      <td>0.897126</td>\n",
       "      <td>06:56</td>\n",
       "    </tr>\n",
       "    <tr>\n",
       "      <td>3</td>\n",
       "      <td>0.146365</td>\n",
       "      <td>0.166136</td>\n",
       "      <td>0.941752</td>\n",
       "      <td>0.898159</td>\n",
       "      <td>06:53</td>\n",
       "    </tr>\n",
       "    <tr>\n",
       "      <td>4</td>\n",
       "      <td>0.143014</td>\n",
       "      <td>0.164770</td>\n",
       "      <td>0.941443</td>\n",
       "      <td>0.895034</td>\n",
       "      <td>06:56</td>\n",
       "    </tr>\n",
       "    <tr>\n",
       "      <td>5</td>\n",
       "      <td>0.141222</td>\n",
       "      <td>0.166002</td>\n",
       "      <td>0.942246</td>\n",
       "      <td>0.897047</td>\n",
       "      <td>06:53</td>\n",
       "    </tr>\n",
       "    <tr>\n",
       "      <td>6</td>\n",
       "      <td>0.136026</td>\n",
       "      <td>0.164642</td>\n",
       "      <td>0.943054</td>\n",
       "      <td>0.898265</td>\n",
       "      <td>06:52</td>\n",
       "    </tr>\n",
       "    <tr>\n",
       "      <td>7</td>\n",
       "      <td>0.133535</td>\n",
       "      <td>0.165213</td>\n",
       "      <td>0.942979</td>\n",
       "      <td>0.897815</td>\n",
       "      <td>06:52</td>\n",
       "    </tr>\n",
       "    <tr>\n",
       "      <td>8</td>\n",
       "      <td>0.132073</td>\n",
       "      <td>0.164068</td>\n",
       "      <td>0.943747</td>\n",
       "      <td>0.899272</td>\n",
       "      <td>06:52</td>\n",
       "    </tr>\n",
       "    <tr>\n",
       "      <td>9</td>\n",
       "      <td>0.125835</td>\n",
       "      <td>0.163462</td>\n",
       "      <td>0.943464</td>\n",
       "      <td>0.900517</td>\n",
       "      <td>06:52</td>\n",
       "    </tr>\n",
       "    <tr>\n",
       "      <td>10</td>\n",
       "      <td>0.122973</td>\n",
       "      <td>0.168319</td>\n",
       "      <td>0.943734</td>\n",
       "      <td>0.897365</td>\n",
       "      <td>06:53</td>\n",
       "    </tr>\n",
       "    <tr>\n",
       "      <td>11</td>\n",
       "      <td>0.120749</td>\n",
       "      <td>0.166883</td>\n",
       "      <td>0.943491</td>\n",
       "      <td>0.898689</td>\n",
       "      <td>06:52</td>\n",
       "    </tr>\n",
       "    <tr>\n",
       "      <td>12</td>\n",
       "      <td>0.115686</td>\n",
       "      <td>0.167823</td>\n",
       "      <td>0.944705</td>\n",
       "      <td>0.903033</td>\n",
       "      <td>06:52</td>\n",
       "    </tr>\n",
       "    <tr>\n",
       "      <td>13</td>\n",
       "      <td>0.112177</td>\n",
       "      <td>0.169811</td>\n",
       "      <td>0.944078</td>\n",
       "      <td>0.900490</td>\n",
       "      <td>06:52</td>\n",
       "    </tr>\n",
       "    <tr>\n",
       "      <td>14</td>\n",
       "      <td>0.106139</td>\n",
       "      <td>0.175337</td>\n",
       "      <td>0.943390</td>\n",
       "      <td>0.899589</td>\n",
       "      <td>06:50</td>\n",
       "    </tr>\n",
       "    <tr>\n",
       "      <td>15</td>\n",
       "      <td>0.098948</td>\n",
       "      <td>0.182181</td>\n",
       "      <td>0.943769</td>\n",
       "      <td>0.898954</td>\n",
       "      <td>06:54</td>\n",
       "    </tr>\n",
       "    <tr>\n",
       "      <td>16</td>\n",
       "      <td>0.096224</td>\n",
       "      <td>0.183501</td>\n",
       "      <td>0.943601</td>\n",
       "      <td>0.898742</td>\n",
       "      <td>06:51</td>\n",
       "    </tr>\n",
       "    <tr>\n",
       "      <td>17</td>\n",
       "      <td>0.091669</td>\n",
       "      <td>0.188314</td>\n",
       "      <td>0.943385</td>\n",
       "      <td>0.897894</td>\n",
       "      <td>06:54</td>\n",
       "    </tr>\n",
       "    <tr>\n",
       "      <td>18</td>\n",
       "      <td>0.087617</td>\n",
       "      <td>0.188019</td>\n",
       "      <td>0.943672</td>\n",
       "      <td>0.898477</td>\n",
       "      <td>06:52</td>\n",
       "    </tr>\n",
       "    <tr>\n",
       "      <td>19</td>\n",
       "      <td>0.087538</td>\n",
       "      <td>0.190110</td>\n",
       "      <td>0.943632</td>\n",
       "      <td>0.898689</td>\n",
       "      <td>06:52</td>\n",
       "    </tr>\n",
       "  </tbody>\n",
       "</table>"
      ],
      "text/plain": [
       "<IPython.core.display.HTML object>"
      ]
     },
     "metadata": {},
     "output_type": "display_data"
    }
   ],
   "source": [
    "learn.dbunch = get_data_gen(Meta.df_any, Meta.grps_any, 512, sz=256)\n",
    "do_fit(learn, 20, 4e-3)\n",
    "learn.save(f'runs/{name}-2')"
   ]
  },
  {
   "cell_type": "code",
   "execution_count": 7,
   "metadata": {},
   "outputs": [
    {
     "data": {
      "text/html": [
       "<table border=\"1\" class=\"dataframe\">\n",
       "  <thead>\n",
       "    <tr style=\"text-align: left;\">\n",
       "      <th>epoch</th>\n",
       "      <th>train_loss</th>\n",
       "      <th>valid_loss</th>\n",
       "      <th>accuracy_multi</th>\n",
       "      <th>accuracy_any</th>\n",
       "      <th>time</th>\n",
       "    </tr>\n",
       "  </thead>\n",
       "  <tbody>\n",
       "    <tr>\n",
       "      <td>0</td>\n",
       "      <td>0.093190</td>\n",
       "      <td>0.190156</td>\n",
       "      <td>0.943804</td>\n",
       "      <td>0.899589</td>\n",
       "      <td>06:46</td>\n",
       "    </tr>\n",
       "    <tr>\n",
       "      <td>1</td>\n",
       "      <td>0.085082</td>\n",
       "      <td>0.192222</td>\n",
       "      <td>0.943597</td>\n",
       "      <td>0.898954</td>\n",
       "      <td>06:41</td>\n",
       "    </tr>\n",
       "  </tbody>\n",
       "</table>"
      ],
      "text/plain": [
       "<IPython.core.display.HTML object>"
      ]
     },
     "metadata": {},
     "output_type": "display_data"
    }
   ],
   "source": [
    "learn.dbunch = get_data_gen(Meta.df_comb, Meta.grps, 512, sz=None)\n",
    "do_fit(learn, 2, 5e-4)\n",
    "learn.save(f'runs/{name}-3')"
   ]
  },
  {
   "cell_type": "markdown",
   "metadata": {},
   "source": [
    "## Submission"
   ]
  },
  {
   "cell_type": "code",
   "execution_count": 5,
   "metadata": {},
   "outputs": [],
   "source": [
    "learn.load(f'runs/{name}-3')\n",
    "sub_fn = f'subm/{name}'"
   ]
  },
  {
   "cell_type": "code",
   "execution_count": 6,
   "metadata": {},
   "outputs": [],
   "source": [
    "# learn.dbunch = get_data_gen(Meta.df_tst, bs=512, sz=None, with_aug=False, tst_dir='tst_jpg256')\n",
    "learn.dbunch = get_adj_test_data(512, sz=None, tst_dir='tst_jpg256')"
   ]
  },
  {
   "cell_type": "code",
   "execution_count": 7,
   "metadata": {},
   "outputs": [
    {
     "data": {
      "text/html": [],
      "text/plain": [
       "<IPython.core.display.HTML object>"
      ]
     },
     "metadata": {},
     "output_type": "display_data"
    }
   ],
   "source": [
    "preds,targs = learn.get_preds()"
   ]
  },
  {
   "cell_type": "code",
   "execution_count": 8,
   "metadata": {},
   "outputs": [],
   "source": [
    "pred_csv = submission(Meta.df_tst, preds, fn=sub_fn)"
   ]
  },
  {
   "cell_type": "code",
   "execution_count": 11,
   "metadata": {},
   "outputs": [
    {
     "name": "stderr",
     "output_type": "stream",
     "text": [
      "100%|██████████| 26.0M/26.0M [00:02<00:00, 9.80MB/s]\n"
     ]
    },
    {
     "data": {
      "text/plain": [
       "Successfully submitted to RSNA Intracranial Hemorrhage Detection"
      ]
     },
     "execution_count": 11,
     "metadata": {},
     "output_type": "execute_result"
    }
   ],
   "source": [
    "api.competition_submit(f'{sub_fn}.csv', f'{name} adjacent 5c', 'rsna-intracranial-hemorrhage-detection')"
   ]
  },
  {
   "cell_type": "code",
   "execution_count": 16,
   "metadata": {},
   "outputs": [
    {
     "data": {
      "text/plain": [
       "{'ref': 14244524,\n",
       " 'totalBytes': 27277209,\n",
       " 'date': '2020-01-21T07:07:06.64Z',\n",
       " 'description': 'train_adjacent_5c adjacent 5c',\n",
       " 'errorDescription': None,\n",
       " 'fileName': 'train_adjacent_5c.csv',\n",
       " 'publicScore': '0.34569',\n",
       " 'privateScore': '0.07648',\n",
       " 'status': 'complete',\n",
       " 'submittedBy': 'Andrew Shaw',\n",
       " 'submittedByRef': 'bearpelican',\n",
       " 'teamName': 'Andrew Shaw',\n",
       " 'type': 'standard',\n",
       " 'url': 'https://www.kaggle.com/submissions/14244524/14244524.raw'}"
      ]
     },
     "execution_count": 16,
     "metadata": {},
     "output_type": "execute_result"
    }
   ],
   "source": [
    "api.competitions_submissions_list('rsna-intracranial-hemorrhage-detection')[0]"
   ]
  }
 ],
 "metadata": {
  "kernelspec": {
   "display_name": "Python 3",
   "language": "python",
   "name": "python3"
  },
  "language_info": {
   "codemirror_mode": {
    "name": "ipython",
    "version": 3
   },
   "file_extension": ".py",
   "mimetype": "text/x-python",
   "name": "python",
   "nbconvert_exporter": "python",
   "pygments_lexer": "ipython3",
   "version": "3.7.6"
  }
 },
 "nbformat": 4,
 "nbformat_minor": 2
}

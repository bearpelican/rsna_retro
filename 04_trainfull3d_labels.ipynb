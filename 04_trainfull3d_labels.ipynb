{
 "cells": [
  {
   "cell_type": "code",
   "execution_count": 1,
   "metadata": {},
   "outputs": [],
   "source": [
    "#default_exp trainfull3d_labels"
   ]
  },
  {
   "cell_type": "code",
   "execution_count": 2,
   "metadata": {},
   "outputs": [
    {
     "name": "stdout",
     "output_type": "stream",
     "text": [
      "Loading imports\n"
     ]
    }
   ],
   "source": [
    "#export\n",
    "from rsna_retro.imports import *\n",
    "from rsna_retro.metadata import *\n",
    "from rsna_retro.preprocess import *\n",
    "from rsna_retro.train import *\n",
    "from rsna_retro.train3d import *"
   ]
  },
  {
   "cell_type": "code",
   "execution_count": 3,
   "metadata": {},
   "outputs": [],
   "source": [
    "torch.cuda.set_device(2)"
   ]
  },
  {
   "cell_type": "markdown",
   "metadata": {},
   "source": [
    "## 3d dataset with tfms"
   ]
  },
  {
   "cell_type": "code",
   "execution_count": 4,
   "metadata": {},
   "outputs": [],
   "source": [
    "dls = get_3d_dls_aug(Meta.df_comb, sz=128, bs=32, grps=Meta.grps_stg1)"
   ]
  },
  {
   "cell_type": "markdown",
   "metadata": {},
   "source": [
    "## 3d model"
   ]
  },
  {
   "cell_type": "code",
   "execution_count": 5,
   "metadata": {},
   "outputs": [],
   "source": [
    "#export\n",
    "class Flat3d(Module):\n",
    "    def forward(self, x): return x.view(x.shape[0],-1)"
   ]
  },
  {
   "cell_type": "code",
   "execution_count": 6,
   "metadata": {},
   "outputs": [],
   "source": [
    "\n",
    "#export\n",
    "class XResNet3D(nn.Sequential):\n",
    "    @delegates(ResBlock)\n",
    "    def __init__(self, block, expansion, layers, p=0.0, c_in=3, c_out=1000, stem_szs=(32,32,64),\n",
    "                 widen=1.0, sa=False, act_cls=defaults.activation, **kwargs):\n",
    "        store_attr(self, 'block,expansion,act_cls')\n",
    "        stem_szs = [c_in, *stem_szs]\n",
    "        stem = [ConvLayer(stem_szs[i], stem_szs[i+1], stride=2 if i==0 else 1, act_cls=act_cls, ndim=3)\n",
    "                for i in range(3)]\n",
    "\n",
    "        block_szs = [int(o*widen) for o in [64,128,256,512] +[256]*(len(layers)-4)]\n",
    "        block_szs = [64//expansion] + block_szs\n",
    "        blocks = [self._make_layer(ni=block_szs[i], nf=block_szs[i+1], blocks=l,\n",
    "                                   stride=1 if i==0 else 2, sa=sa and i==len(layers)-4, **kwargs)\n",
    "                  for i,l in enumerate(layers)]\n",
    "        super().__init__(\n",
    "            Batchify(),\n",
    "            *stem, nn.MaxPool3d(kernel_size=3, stride=2, padding=1),\n",
    "            *blocks,\n",
    "            ConvLayer(512,512,stride=2,ndim=3), # 8\n",
    "            ConvLayer(512,1024,stride=2,ndim=3), # 4\n",
    "            ConvLayer(1024,1024,stride=2,ndim=3), # 2\n",
    "            nn.AdaptiveAvgPool3d((1, 1, 1)), Batchify(), Flat3d(), nn.Dropout(p),\n",
    "            nn.Linear(1024*expansion, c_out),\n",
    "#             nn.Linear(block_szs[-1]*expansion, c_out),\n",
    "        )\n",
    "        init_cnn(self)\n",
    "\n",
    "    def _make_layer(self, ni, nf, blocks, stride, sa, **kwargs):\n",
    "        return nn.Sequential(\n",
    "            *[self.block(self.expansion, ni if i==0 else nf, nf, stride=stride if i==0 else 1,\n",
    "                      sa=sa and i==(blocks-1), act_cls=self.act_cls, **kwargs)\n",
    "              for i in range(blocks)])"
   ]
  },
  {
   "cell_type": "code",
   "execution_count": 7,
   "metadata": {},
   "outputs": [],
   "source": [
    "#export\n",
    "def xres3d(**kwargs):\n",
    "    m = XResNet3D(ResBlock, expansion=1, layers=[2, 2,  2, 2], c_out=6, ndim=3, **kwargs)\n",
    "    init_cnn(m)\n",
    "    return m"
   ]
  },
  {
   "cell_type": "code",
   "execution_count": 8,
   "metadata": {},
   "outputs": [
    {
     "data": {
      "text/plain": [
       "(torch.Size([32, 60, 3, 128, 128]), torch.Size([32, 60, 6]))"
      ]
     },
     "execution_count": 8,
     "metadata": {},
     "output_type": "execute_result"
    }
   ],
   "source": [
    "xb,yb = dls.one_batch()\n",
    "xb.shape, yb.shape"
   ]
  },
  {
   "cell_type": "code",
   "execution_count": 9,
   "metadata": {},
   "outputs": [],
   "source": [
    "m = xres3d().cuda()"
   ]
  },
  {
   "cell_type": "code",
   "execution_count": 10,
   "metadata": {},
   "outputs": [],
   "source": [
    "learn = get_learner(dls, m, get_loss())\n",
    "# learn.to_fp16()"
   ]
  },
  {
   "cell_type": "code",
   "execution_count": 11,
   "metadata": {},
   "outputs": [
    {
     "name": "stdout",
     "output_type": "stream",
     "text": [
      "torch.Size([32, 6])\n"
     ]
    }
   ],
   "source": [
    "xb, yb = dls.one_batch()\n",
    "with torch.no_grad():\n",
    "    print(learn.model(xb).shape)"
   ]
  },
  {
   "cell_type": "code",
   "execution_count": 12,
   "metadata": {},
   "outputs": [],
   "source": [
    "#export\n",
    "class RowLoss(Callback):\n",
    "    def __init__(self): super().__init__()\n",
    "\n",
    "    def after_pred(self):\n",
    "        learn = self.learn\n",
    "        learn.pred = learn.pred\n",
    "        learn.yb = (learn.yb[0].max(dim=1)[0],)"
   ]
  },
  {
   "cell_type": "code",
   "execution_count": 13,
   "metadata": {},
   "outputs": [
    {
     "data": {
      "text/plain": [
       "<fastai2.learner.Learner at 0x7fba44a84690>"
      ]
     },
     "execution_count": 13,
     "metadata": {},
     "output_type": "execute_result"
    }
   ],
   "source": [
    "learn.add_cb(RowLoss())"
   ]
  },
  {
   "cell_type": "code",
   "execution_count": 14,
   "metadata": {},
   "outputs": [
    {
     "data": {
      "text/plain": [
       "XResNet3D (Input shape: ['32 x 60 x 3 x 128 x 128'])\n",
       "================================================================\n",
       "Layer (type)         Output Shape         Param #    Trainable \n",
       "================================================================\n",
       "Batchify             32 x 3 x 60 x 128 x 128 0          False     \n",
       "________________________________________________________________\n",
       "Conv3d               32 x 32 x 30 x 64 x 64 2,592      True      \n",
       "________________________________________________________________\n",
       "BatchNorm3d          32 x 32 x 30 x 64 x 64 64         True      \n",
       "________________________________________________________________\n",
       "ReLU                 32 x 32 x 30 x 64 x 64 0          False     \n",
       "________________________________________________________________\n",
       "Conv3d               32 x 32 x 30 x 64 x 64 27,648     True      \n",
       "________________________________________________________________\n",
       "BatchNorm3d          32 x 32 x 30 x 64 x 64 64         True      \n",
       "________________________________________________________________\n",
       "ReLU                 32 x 32 x 30 x 64 x 64 0          False     \n",
       "________________________________________________________________\n",
       "Conv3d               32 x 64 x 30 x 64 x 64 55,296     True      \n",
       "________________________________________________________________\n",
       "BatchNorm3d          32 x 64 x 30 x 64 x 64 128        True      \n",
       "________________________________________________________________\n",
       "ReLU                 32 x 64 x 30 x 64 x 64 0          False     \n",
       "________________________________________________________________\n",
       "MaxPool3d            32 x 64 x 15 x 32 x 32 0          False     \n",
       "________________________________________________________________\n",
       "Conv3d               32 x 64 x 15 x 32 x 32 110,592    True      \n",
       "________________________________________________________________\n",
       "BatchNorm3d          32 x 64 x 15 x 32 x 32 128        True      \n",
       "________________________________________________________________\n",
       "ReLU                 32 x 64 x 15 x 32 x 32 0          False     \n",
       "________________________________________________________________\n",
       "Conv3d               32 x 64 x 15 x 32 x 32 110,592    True      \n",
       "________________________________________________________________\n",
       "BatchNorm3d          32 x 64 x 15 x 32 x 32 128        True      \n",
       "________________________________________________________________\n",
       "Sequential           32 x 64 x 15 x 32 x 32 0          False     \n",
       "________________________________________________________________\n",
       "ReLU                 32 x 64 x 15 x 32 x 32 0          False     \n",
       "________________________________________________________________\n",
       "Conv3d               32 x 64 x 15 x 32 x 32 110,592    True      \n",
       "________________________________________________________________\n",
       "BatchNorm3d          32 x 64 x 15 x 32 x 32 128        True      \n",
       "________________________________________________________________\n",
       "ReLU                 32 x 64 x 15 x 32 x 32 0          False     \n",
       "________________________________________________________________\n",
       "Conv3d               32 x 64 x 15 x 32 x 32 110,592    True      \n",
       "________________________________________________________________\n",
       "BatchNorm3d          32 x 64 x 15 x 32 x 32 128        True      \n",
       "________________________________________________________________\n",
       "Sequential           32 x 64 x 15 x 32 x 32 0          False     \n",
       "________________________________________________________________\n",
       "ReLU                 32 x 64 x 15 x 32 x 32 0          False     \n",
       "________________________________________________________________\n",
       "Conv3d               32 x 128 x 8 x 16 x 16 221,184    True      \n",
       "________________________________________________________________\n",
       "BatchNorm3d          32 x 128 x 8 x 16 x 16 256        True      \n",
       "________________________________________________________________\n",
       "ReLU                 32 x 128 x 8 x 16 x 16 0          False     \n",
       "________________________________________________________________\n",
       "Conv3d               32 x 128 x 8 x 16 x 16 442,368    True      \n",
       "________________________________________________________________\n",
       "BatchNorm3d          32 x 128 x 8 x 16 x 16 256        True      \n",
       "________________________________________________________________\n",
       "AvgPool3d            32 x 64 x 8 x 16 x 16 0          False     \n",
       "________________________________________________________________\n",
       "Conv3d               32 x 128 x 8 x 16 x 16 8,192      True      \n",
       "________________________________________________________________\n",
       "BatchNorm3d          32 x 128 x 8 x 16 x 16 256        True      \n",
       "________________________________________________________________\n",
       "ReLU                 32 x 128 x 8 x 16 x 16 0          False     \n",
       "________________________________________________________________\n",
       "Conv3d               32 x 128 x 8 x 16 x 16 442,368    True      \n",
       "________________________________________________________________\n",
       "BatchNorm3d          32 x 128 x 8 x 16 x 16 256        True      \n",
       "________________________________________________________________\n",
       "ReLU                 32 x 128 x 8 x 16 x 16 0          False     \n",
       "________________________________________________________________\n",
       "Conv3d               32 x 128 x 8 x 16 x 16 442,368    True      \n",
       "________________________________________________________________\n",
       "BatchNorm3d          32 x 128 x 8 x 16 x 16 256        True      \n",
       "________________________________________________________________\n",
       "Sequential           32 x 128 x 8 x 16 x 16 0          False     \n",
       "________________________________________________________________\n",
       "ReLU                 32 x 128 x 8 x 16 x 16 0          False     \n",
       "________________________________________________________________\n",
       "Conv3d               32 x 256 x 4 x 8 x 8 884,736    True      \n",
       "________________________________________________________________\n",
       "BatchNorm3d          32 x 256 x 4 x 8 x 8 512        True      \n",
       "________________________________________________________________\n",
       "ReLU                 32 x 256 x 4 x 8 x 8 0          False     \n",
       "________________________________________________________________\n",
       "Conv3d               32 x 256 x 4 x 8 x 8 1,769,472  True      \n",
       "________________________________________________________________\n",
       "BatchNorm3d          32 x 256 x 4 x 8 x 8 512        True      \n",
       "________________________________________________________________\n",
       "AvgPool3d            32 x 128 x 4 x 8 x 8 0          False     \n",
       "________________________________________________________________\n",
       "Conv3d               32 x 256 x 4 x 8 x 8 32,768     True      \n",
       "________________________________________________________________\n",
       "BatchNorm3d          32 x 256 x 4 x 8 x 8 512        True      \n",
       "________________________________________________________________\n",
       "ReLU                 32 x 256 x 4 x 8 x 8 0          False     \n",
       "________________________________________________________________\n",
       "Conv3d               32 x 256 x 4 x 8 x 8 1,769,472  True      \n",
       "________________________________________________________________\n",
       "BatchNorm3d          32 x 256 x 4 x 8 x 8 512        True      \n",
       "________________________________________________________________\n",
       "ReLU                 32 x 256 x 4 x 8 x 8 0          False     \n",
       "________________________________________________________________\n",
       "Conv3d               32 x 256 x 4 x 8 x 8 1,769,472  True      \n",
       "________________________________________________________________\n",
       "BatchNorm3d          32 x 256 x 4 x 8 x 8 512        True      \n",
       "________________________________________________________________\n",
       "Sequential           32 x 256 x 4 x 8 x 8 0          False     \n",
       "________________________________________________________________\n",
       "ReLU                 32 x 256 x 4 x 8 x 8 0          False     \n",
       "________________________________________________________________\n",
       "Conv3d               32 x 512 x 2 x 4 x 4 3,538,944  True      \n",
       "________________________________________________________________\n",
       "BatchNorm3d          32 x 512 x 2 x 4 x 4 1,024      True      \n",
       "________________________________________________________________\n",
       "ReLU                 32 x 512 x 2 x 4 x 4 0          False     \n",
       "________________________________________________________________\n",
       "Conv3d               32 x 512 x 2 x 4 x 4 7,077,888  True      \n",
       "________________________________________________________________\n",
       "BatchNorm3d          32 x 512 x 2 x 4 x 4 1,024      True      \n",
       "________________________________________________________________\n",
       "AvgPool3d            32 x 256 x 2 x 4 x 4 0          False     \n",
       "________________________________________________________________\n",
       "Conv3d               32 x 512 x 2 x 4 x 4 131,072    True      \n",
       "________________________________________________________________\n",
       "BatchNorm3d          32 x 512 x 2 x 4 x 4 1,024      True      \n",
       "________________________________________________________________\n",
       "ReLU                 32 x 512 x 2 x 4 x 4 0          False     \n",
       "________________________________________________________________\n",
       "Conv3d               32 x 512 x 2 x 4 x 4 7,077,888  True      \n",
       "________________________________________________________________\n",
       "BatchNorm3d          32 x 512 x 2 x 4 x 4 1,024      True      \n",
       "________________________________________________________________\n",
       "ReLU                 32 x 512 x 2 x 4 x 4 0          False     \n",
       "________________________________________________________________\n",
       "Conv3d               32 x 512 x 2 x 4 x 4 7,077,888  True      \n",
       "________________________________________________________________\n",
       "BatchNorm3d          32 x 512 x 2 x 4 x 4 1,024      True      \n",
       "________________________________________________________________\n",
       "Sequential           32 x 512 x 2 x 4 x 4 0          False     \n",
       "________________________________________________________________\n",
       "ReLU                 32 x 512 x 2 x 4 x 4 0          False     \n",
       "________________________________________________________________\n",
       "Conv3d               32 x 512 x 1 x 2 x 2 7,077,888  True      \n",
       "________________________________________________________________\n",
       "BatchNorm3d          32 x 512 x 1 x 2 x 2 1,024      True      \n",
       "________________________________________________________________\n",
       "ReLU                 32 x 512 x 1 x 2 x 2 0          False     \n",
       "________________________________________________________________\n",
       "Conv3d               32 x 1024 x 1 x 1 x 1 14,155,776 True      \n",
       "________________________________________________________________\n",
       "BatchNorm3d          32 x 1024 x 1 x 1 x 1 2,048      True      \n",
       "________________________________________________________________\n",
       "ReLU                 32 x 1024 x 1 x 1 x 1 0          False     \n",
       "________________________________________________________________\n",
       "Conv3d               32 x 1024 x 1 x 1 x 1 28,311,552 True      \n",
       "________________________________________________________________\n",
       "BatchNorm3d          32 x 1024 x 1 x 1 x 1 2,048      True      \n",
       "________________________________________________________________\n",
       "ReLU                 32 x 1024 x 1 x 1 x 1 0          False     \n",
       "________________________________________________________________\n",
       "AdaptiveAvgPool3d    32 x 1024 x 1 x 1 x 1 0          False     \n",
       "________________________________________________________________\n",
       "Batchify             32 x 1 x 1024 x 1 x 1 0          False     \n",
       "________________________________________________________________\n",
       "Flat3d               32 x 1024            0          False     \n",
       "________________________________________________________________\n",
       "Dropout              32 x 1024            0          False     \n",
       "________________________________________________________________\n",
       "Linear               32 x 6               6,150      True      \n",
       "________________________________________________________________\n",
       "\n",
       "Total params: 82,780,198\n",
       "Total trainable params: 82,780,198\n",
       "Total non-trainable params: 0\n",
       "\n",
       "Optimizer used: functools.partial(<function Adam at 0x7fbcef5a1830>, wd=1e-05, eps=0.0001, sqr_mom=0.999)\n",
       "Loss function: FlattenedLoss of BCEWithLogitsLoss()\n",
       "\n",
       "Callbacks:\n",
       "  - ModelToHalf\n",
       "  - TrainEvalCallback\n",
       "  - Recorder\n",
       "  - ProgressCallback\n",
       "  - RowLoss\n",
       "  - MixedPrecision"
      ]
     },
     "execution_count": 14,
     "metadata": {},
     "output_type": "execute_result"
    }
   ],
   "source": [
    "learn.summary()"
   ]
  },
  {
   "cell_type": "code",
   "execution_count": null,
   "metadata": {},
   "outputs": [],
   "source": [
    "do_fit(learn, 1, 1e-2)"
   ]
  },
  {
   "cell_type": "markdown",
   "metadata": {},
   "source": [
    "## Export"
   ]
  },
  {
   "cell_type": "code",
   "execution_count": 34,
   "metadata": {
    "scrolled": true
   },
   "outputs": [
    {
     "name": "stdout",
     "output_type": "stream",
     "text": [
      "Converted 00_metadata.ipynb.\n",
      "Converted 01_preprocess.ipynb.\n",
      "Converted 01_preprocess_mean_std.ipynb.\n",
      "Converted 02_train.ipynb.\n",
      "Converted 03_train3d.ipynb.\n",
      "Converted 03_train3d_01_train3d.ipynb.\n",
      "Converted 03_train3d_01b_train_lstm.ipynb.\n",
      "Converted 03_train3d_02_train_3d_head.ipynb.\n",
      "Converted 03_train3d_02_train_lstm_head.ipynb.\n",
      "Converted 03_train3d_02c_train_lstm_head_2ndPlace.ipynb.\n",
      "Converted 03_trainfull3d.ipynb.\n",
      "Converted 03_trainfull3d_labels.ipynb.\n",
      "This cell doesn't have an export destination and was ignored:\n",
      "e\n",
      "Converted 03_trainfull3d_labels_01_partial3d.ipynb.\n",
      "Converted 04_trainSeq_01_lstm.ipynb.\n",
      "Converted 04_trainSeq_02_transformer.ipynb.\n",
      "Converted 04_trainSeq_03_lstm_seutao.ipynb.\n",
      "Converted 05_train_adjacent.ipynb.\n",
      "Converted 05_train_adjacent_01_5c_adj_win.ipynb.\n",
      "Converted 05_train_adjacent_01_5slice.ipynb.\n",
      "Converted 05_train_adjacent_02_3c.ipynb.\n",
      "Converted 05_train_adjacent_02_3c_stg1.ipynb.\n",
      "Converted 06_seutao_features.ipynb.\n",
      "Converted 06_seutao_features_01_simple_lstm_20ep.ipynb.\n",
      "Converted 06_seutao_features_01b_simple_lstm_10ep.ipynb.\n",
      "Converted 06_seutao_features_01c_simple_lstm_meta.ipynb.\n",
      "Converted 06_seutao_features_01d_simple_lstm_meta_full.ipynb.\n",
      "Converted 06_seutao_features_02_2ndPlace.ipynb.\n",
      "Converted 06_seutao_features_03_1stPlace.ipynb.\n",
      "Converted 06_seutao_features_04_Transformer.ipynb.\n",
      "Converted 06_seutao_features_04_Transformer_meta.ipynb.\n",
      "Converted 07_train_3d_lstm.ipynb.\n",
      "Converted Tabular_02_FeatureImportance.ipynb.\n"
     ]
    }
   ],
   "source": [
    "#hide\n",
    "from nbdev.export import notebook2script\n",
    "notebook2script()"
   ]
  }
 ],
 "metadata": {
  "kernelspec": {
   "display_name": "Python 3",
   "language": "python",
   "name": "python3"
  },
  "language_info": {
   "codemirror_mode": {
    "name": "ipython",
    "version": 3
   },
   "file_extension": ".py",
   "mimetype": "text/x-python",
   "name": "python",
   "nbconvert_exporter": "python",
   "pygments_lexer": "ipython3",
   "version": "3.7.6"
  }
 },
 "nbformat": 4,
 "nbformat_minor": 2
}

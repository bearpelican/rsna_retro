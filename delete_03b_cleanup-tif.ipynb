{
 "cells": [
  {
   "cell_type": "code",
   "execution_count": 2,
   "metadata": {
    "_cell_guid": "b1076dfc-b9ad-4769-8c92-a6c4dae69d19",
    "_uuid": "8f2839f25d086af736a60e9eeb907d3b93b6e0e5"
   },
   "outputs": [],
   "source": [
    "from rsnautils import *"
   ]
  },
  {
   "cell_type": "code",
   "execution_count": 3,
   "metadata": {},
   "outputs": [],
   "source": [
    "def dcm_tfm(fn): \n",
    "    fn = Path(fn)\n",
    "    try:\n",
    "        x = fn.dcmread()\n",
    "        fix_pxrepr(x)\n",
    "    except Exception as e:\n",
    "        print(fn,e)\n",
    "        raise SkipItemException\n",
    "    if x.Rows != 512 or x.Columns != 512: x.zoom_to((512,512))\n",
    "    return x.scaled_px"
   ]
  },
  {
   "cell_type": "code",
   "execution_count": 5,
   "metadata": {},
   "outputs": [],
   "source": [
    "fns = list(df_comb.fname.values)\n",
    "dest = path/'train_tif'\n",
    "dest.mkdir(exist_ok=True)\n",
    "bs=512"
   ]
  },
  {
   "cell_type": "code",
   "execution_count": 83,
   "metadata": {},
   "outputs": [],
   "source": [
    "# fns2 = set([o.with_suffix('').name for o in dest.ls()])\n",
    "# fns3 = set([Path(o).with_suffix('').name for o in fns])\n",
    "# fns4 = [o for o in fns3 if o not in fns2]\n",
    "# fns5 = [path_trn/Path(o).with_suffix('.dcm') for o in fns4]"
   ]
  },
  {
   "cell_type": "code",
   "execution_count": 6,
   "metadata": {},
   "outputs": [],
   "source": [
    "dsrc = DataSource(fns, [[dcm_tfm],[os.path.basename]])\n",
    "dl = TfmdDL(dsrc, bs=bs, num_workers=2)"
   ]
  },
  {
   "cell_type": "code",
   "execution_count": 7,
   "metadata": {},
   "outputs": [],
   "source": [
    "ext = '.tif'\n",
    "def dest_fname(fname): return dest/Path(fname).with_suffix(ext)\n",
    "\n",
    "def save_cropped_jpg(o, dest):\n",
    "    fname,px = o\n",
    "    px.save_tif16(dest_fname(fname), bins=bins)"
   ]
  },
  {
   "cell_type": "code",
   "execution_count": 86,
   "metadata": {},
   "outputs": [],
   "source": [
    "tfm = AffineCoordTfm(size=256)"
   ]
  },
  {
   "cell_type": "code",
   "execution_count": 8,
   "metadata": {},
   "outputs": [],
   "source": [
    "def process_batch(pxs, fnames, n_workers=4):\n",
    "#     pxs = tfm(TensorImage(pxs.unsqueeze(1)).cuda()).cpu().squeeze(1)\n",
    "#     pxs = pxs.cuda()\n",
    "#     masks = pxs.mask_from_blur(dicom_windows.brain)\n",
    "#     bbs = mask2bbox(masks)\n",
    "#     gs = crop_resize(pxs, bbs, 352).cpu().squeeze()\n",
    "    parallel(save_cropped_jpg, zip(fnames, pxs), n_workers=n_workers, progress=False, dest=dest)"
   ]
  },
  {
   "cell_type": "code",
   "execution_count": 13,
   "metadata": {},
   "outputs": [
    {
     "name": "stdout",
     "output_type": "stream",
     "text": [
      "CPU times: user 2.02 s, sys: 1.86 s, total: 3.87 s\n",
      "Wall time: 6.39 s\n"
     ]
    }
   ],
   "source": [
    "%time process_batch(*dl.one_batch(), n_workers=8)"
   ]
  },
  {
   "cell_type": "code",
   "execution_count": 14,
   "metadata": {},
   "outputs": [
    {
     "data": {
      "text/html": [
       "\n",
       "    <div>\n",
       "        <style>\n",
       "            /* Turns off some styling */\n",
       "            progress {\n",
       "                /* gets rid of default border in Firefox and Opera. */\n",
       "                border: none;\n",
       "                /* Needs to be in here for Safari polyfill so background images work as expected. */\n",
       "                background-size: auto;\n",
       "            }\n",
       "            .progress-bar-interrupted, .progress-bar-interrupted::-webkit-progress-bar {\n",
       "                background: #F44336;\n",
       "            }\n",
       "        </style>\n",
       "      <progress value='1317' class='' max='1317', style='width:300px; height:20px; vertical-align: middle;'></progress>\n",
       "      100.00% [1317/1317 1:38:35<00:00]\n",
       "    </div>\n",
       "    "
      ],
      "text/plain": [
       "<IPython.core.display.HTML object>"
      ]
     },
     "metadata": {},
     "output_type": "display_data"
    }
   ],
   "source": [
    "for b in progress_bar(dl): process_batch(*b, n_workers=6)"
   ]
  },
  {
   "cell_type": "code",
   "execution_count": null,
   "metadata": {},
   "outputs": [],
   "source": [
    "fns = dest.ls()"
   ]
  },
  {
   "cell_type": "code",
   "execution_count": null,
   "metadata": {},
   "outputs": [],
   "source": [
    "for i,(ax,fn) in enumerate(zip(subplots(2,4)[1].flat,fns)):\n",
    "    jpgfn = dest_fname(fn).name\n",
    "    show_image(Image.open(jpgfn), ax=ax)"
   ]
  },
  {
   "cell_type": "code",
   "execution_count": null,
   "metadata": {},
   "outputs": [],
   "source": [
    "Image.open(jpgfn).shape"
   ]
  },
  {
   "cell_type": "code",
   "execution_count": null,
   "metadata": {},
   "outputs": [],
   "source": []
  }
 ],
 "metadata": {
  "kernelspec": {
   "display_name": "Python 3",
   "language": "python",
   "name": "python3"
  },
  "language_info": {
   "codemirror_mode": {
    "name": "ipython",
    "version": 3
   },
   "file_extension": ".py",
   "mimetype": "text/x-python",
   "name": "python",
   "nbconvert_exporter": "python",
   "pygments_lexer": "ipython3",
   "version": "3.7.5"
  }
 },
 "nbformat": 4,
 "nbformat_minor": 1
}

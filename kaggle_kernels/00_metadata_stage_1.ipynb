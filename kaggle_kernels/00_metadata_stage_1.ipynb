{
 "cells": [
  {
   "cell_type": "markdown",
   "metadata": {},
   "source": [
    "It's really handy to have all the DICOM info available in a single DataFrame, so let's create that! In this notebook, we'll just create the DICOM DataFrames. To see how to use them to analyze the competition data, see [this followup notebook](https://www.kaggle.com/jhoward/some-dicom-gotchas-to-be-aware-of-fastai).\n",
    "\n",
    "First, we'll install the latest versions of pytorch and fastai v2 (not officially released yet) so we can use the fastai medical imaging module."
   ]
  },
  {
   "cell_type": "code",
   "execution_count": 1,
   "metadata": {
    "_cell_guid": "79c7e3d0-c299-4dcb-8224-4455121ee9b0",
    "_uuid": "d629ff2d2480ee46fbb7e2d37f6b5fab8052498a"
   },
   "outputs": [],
   "source": [
    "from fastai2.basics import *\n",
    "from fastai2.medical.imaging import *"
   ]
  },
  {
   "cell_type": "markdown",
   "metadata": {},
   "source": [
    "Let's take a look at what files we have in the dataset."
   ]
  },
  {
   "cell_type": "code",
   "execution_count": 2,
   "metadata": {},
   "outputs": [],
   "source": [
    "path = Path('~/data/rsna').expanduser()\n",
    "path_meta = path/'meta'"
   ]
  },
  {
   "cell_type": "markdown",
   "metadata": {},
   "source": [
    "Most lists in fastai v2, including that returned by `Path.ls`, are returned as a [fastai.core.L](http://dev.fast.ai/core.html#L), which has lots of handy methods, such as `attrgot` used here to grab file names."
   ]
  },
  {
   "cell_type": "code",
   "execution_count": 3,
   "metadata": {},
   "outputs": [
    {
     "data": {
      "text/plain": [
       "(#5) [ID_352e89f1c.dcm,ID_3cf4fb50f.dcm,ID_2a8702d25.dcm,ID_66891ac22.dcm,ID_54f412d54.dcm]"
      ]
     },
     "execution_count": 3,
     "metadata": {},
     "output_type": "execute_result"
    }
   ],
   "source": [
    "path_trn = path/'stage_1_train_images'\n",
    "fns_trn = path_trn.ls()\n",
    "fns_trn[:5].attrgot('name')"
   ]
  },
  {
   "cell_type": "code",
   "execution_count": 6,
   "metadata": {},
   "outputs": [],
   "source": [
    "path_tst = path/'stage_1_test_images'\n",
    "fns_tst = path_tst.ls()\n",
    "len(fns_trn),len(fns_tst)"
   ]
  },
  {
   "cell_type": "markdown",
   "metadata": {},
   "source": [
    "We can grab a file and take a look inside using the `dcmread` method that fastai v2 adds."
   ]
  },
  {
   "cell_type": "code",
   "execution_count": 7,
   "metadata": {},
   "outputs": [
    {
     "data": {
      "text/plain": [
       "(0008, 0018) SOP Instance UID                    UI: ID_352e89f1c\n",
       "(0008, 0060) Modality                            CS: 'CT'\n",
       "(0010, 0020) Patient ID                          LO: 'ID_d557ddd2'\n",
       "(0020, 000d) Study Instance UID                  UI: ID_05074a0d95\n",
       "(0020, 000e) Series Instance UID                 UI: ID_be6165332c\n",
       "(0020, 0010) Study ID                            SH: ''\n",
       "(0020, 0032) Image Position (Patient)            DS: ['-125.000000', '-119.997978', '44.732330']\n",
       "(0020, 0037) Image Orientation (Patient)         DS: ['1.000000', '0.000000', '0.000000', '0.000000', '0.927184', '-0.374607']\n",
       "(0028, 0002) Samples per Pixel                   US: 1\n",
       "(0028, 0004) Photometric Interpretation          CS: 'MONOCHROME2'\n",
       "(0028, 0010) Rows                                US: 512\n",
       "(0028, 0011) Columns                             US: 512\n",
       "(0028, 0030) Pixel Spacing                       DS: ['0.488281', '0.488281']\n",
       "(0028, 0100) Bits Allocated                      US: 16\n",
       "(0028, 0101) Bits Stored                         US: 16\n",
       "(0028, 0102) High Bit                            US: 15\n",
       "(0028, 0103) Pixel Representation                US: 1\n",
       "(0028, 1050) Window Center                       DS: \"30\"\n",
       "(0028, 1051) Window Width                        DS: \"80\"\n",
       "(0028, 1052) Rescale Intercept                   DS: \"-1024\"\n",
       "(0028, 1053) Rescale Slope                       DS: \"1\"\n",
       "(7fe0, 0010) Pixel Data                          OW: Array of 524288 elements"
      ]
     },
     "execution_count": 7,
     "metadata": {},
     "output_type": "execute_result"
    }
   ],
   "source": [
    "fn = fns_trn[0]\n",
    "dcm = fn.dcmread()\n",
    "dcm"
   ]
  },
  {
   "cell_type": "markdown",
   "metadata": {},
   "source": [
    "# Labels"
   ]
  },
  {
   "cell_type": "markdown",
   "metadata": {},
   "source": [
    "Before we pull the metadata out of the DIMCOM files, let's process the labels into a convenient format and save it for later. We'll use *feather* format because it's lightning fast!"
   ]
  },
  {
   "cell_type": "code",
   "execution_count": 6,
   "metadata": {},
   "outputs": [],
   "source": [
    "def save_lbls():\n",
    "    path_lbls = path/'stage_1_train.csv'\n",
    "    lbls = pd.read_csv(path_lbls)\n",
    "    lbls[[\"ID\",\"htype\"]] = lbls.ID.str.rsplit(\"_\", n=1, expand=True)\n",
    "    lbls.drop_duplicates(['ID','htype'], inplace=True)\n",
    "    pvt = lbls.pivot('ID', 'htype', 'Label')\n",
    "    pvt.reset_index(inplace=True)    \n",
    "    pvt.to_feather(path_meta/'labels.fth')"
   ]
  },
  {
   "cell_type": "code",
   "execution_count": 7,
   "metadata": {},
   "outputs": [],
   "source": [
    "save_lbls()"
   ]
  },
  {
   "cell_type": "code",
   "execution_count": 8,
   "metadata": {},
   "outputs": [
    {
     "data": {
      "text/html": [
       "<div>\n",
       "<style scoped>\n",
       "    .dataframe tbody tr th:only-of-type {\n",
       "        vertical-align: middle;\n",
       "    }\n",
       "\n",
       "    .dataframe tbody tr th {\n",
       "        vertical-align: top;\n",
       "    }\n",
       "\n",
       "    .dataframe thead th {\n",
       "        text-align: right;\n",
       "    }\n",
       "</style>\n",
       "<table border=\"1\" class=\"dataframe\">\n",
       "  <thead>\n",
       "    <tr style=\"text-align: right;\">\n",
       "      <th></th>\n",
       "      <th>any</th>\n",
       "      <th>epidural</th>\n",
       "      <th>intraparenchymal</th>\n",
       "      <th>intraventricular</th>\n",
       "      <th>subarachnoid</th>\n",
       "      <th>subdural</th>\n",
       "    </tr>\n",
       "    <tr>\n",
       "      <th>ID</th>\n",
       "      <th></th>\n",
       "      <th></th>\n",
       "      <th></th>\n",
       "      <th></th>\n",
       "      <th></th>\n",
       "      <th></th>\n",
       "    </tr>\n",
       "  </thead>\n",
       "  <tbody>\n",
       "    <tr>\n",
       "      <th>ID_000039fa0</th>\n",
       "      <td>0</td>\n",
       "      <td>0</td>\n",
       "      <td>0</td>\n",
       "      <td>0</td>\n",
       "      <td>0</td>\n",
       "      <td>0</td>\n",
       "    </tr>\n",
       "    <tr>\n",
       "      <th>ID_00005679d</th>\n",
       "      <td>0</td>\n",
       "      <td>0</td>\n",
       "      <td>0</td>\n",
       "      <td>0</td>\n",
       "      <td>0</td>\n",
       "      <td>0</td>\n",
       "    </tr>\n",
       "    <tr>\n",
       "      <th>ID_00008ce3c</th>\n",
       "      <td>0</td>\n",
       "      <td>0</td>\n",
       "      <td>0</td>\n",
       "      <td>0</td>\n",
       "      <td>0</td>\n",
       "      <td>0</td>\n",
       "    </tr>\n",
       "    <tr>\n",
       "      <th>ID_0000950d7</th>\n",
       "      <td>0</td>\n",
       "      <td>0</td>\n",
       "      <td>0</td>\n",
       "      <td>0</td>\n",
       "      <td>0</td>\n",
       "      <td>0</td>\n",
       "    </tr>\n",
       "    <tr>\n",
       "      <th>ID_0000aee4b</th>\n",
       "      <td>0</td>\n",
       "      <td>0</td>\n",
       "      <td>0</td>\n",
       "      <td>0</td>\n",
       "      <td>0</td>\n",
       "      <td>0</td>\n",
       "    </tr>\n",
       "    <tr>\n",
       "      <th>ID_0000f1657</th>\n",
       "      <td>0</td>\n",
       "      <td>0</td>\n",
       "      <td>0</td>\n",
       "      <td>0</td>\n",
       "      <td>0</td>\n",
       "      <td>0</td>\n",
       "    </tr>\n",
       "    <tr>\n",
       "      <th>ID_000178e76</th>\n",
       "      <td>0</td>\n",
       "      <td>0</td>\n",
       "      <td>0</td>\n",
       "      <td>0</td>\n",
       "      <td>0</td>\n",
       "      <td>0</td>\n",
       "    </tr>\n",
       "    <tr>\n",
       "      <th>ID_00019828f</th>\n",
       "      <td>0</td>\n",
       "      <td>0</td>\n",
       "      <td>0</td>\n",
       "      <td>0</td>\n",
       "      <td>0</td>\n",
       "      <td>0</td>\n",
       "    </tr>\n",
       "  </tbody>\n",
       "</table>\n",
       "</div>"
      ],
      "text/plain": [
       "              any  epidural  intraparenchymal  intraventricular  subarachnoid  \\\n",
       "ID                                                                              \n",
       "ID_000039fa0    0         0                 0                 0             0   \n",
       "ID_00005679d    0         0                 0                 0             0   \n",
       "ID_00008ce3c    0         0                 0                 0             0   \n",
       "ID_0000950d7    0         0                 0                 0             0   \n",
       "ID_0000aee4b    0         0                 0                 0             0   \n",
       "ID_0000f1657    0         0                 0                 0             0   \n",
       "ID_000178e76    0         0                 0                 0             0   \n",
       "ID_00019828f    0         0                 0                 0             0   \n",
       "\n",
       "              subdural  \n",
       "ID                      \n",
       "ID_000039fa0         0  \n",
       "ID_00005679d         0  \n",
       "ID_00008ce3c         0  \n",
       "ID_0000950d7         0  \n",
       "ID_0000aee4b         0  \n",
       "ID_0000f1657         0  \n",
       "ID_000178e76         0  \n",
       "ID_00019828f         0  "
      ]
     },
     "execution_count": 8,
     "metadata": {},
     "output_type": "execute_result"
    }
   ],
   "source": [
    "df_lbls = pd.read_feather('labels.fth').set_index('ID')\n",
    "df_lbls.head(8)"
   ]
  },
  {
   "cell_type": "code",
   "execution_count": 9,
   "metadata": {},
   "outputs": [
    {
     "data": {
      "text/plain": [
       "any                 0.144015\n",
       "epidural            0.004095\n",
       "intraparenchymal    0.048296\n",
       "intraventricular    0.035248\n",
       "subarachnoid        0.047641\n",
       "subdural            0.063026\n",
       "dtype: float64"
      ]
     },
     "execution_count": 9,
     "metadata": {},
     "output_type": "execute_result"
    }
   ],
   "source": [
    "df_lbls.mean()"
   ]
  },
  {
   "cell_type": "markdown",
   "metadata": {},
   "source": [
    "# DICOM Meta"
   ]
  },
  {
   "cell_type": "markdown",
   "metadata": {},
   "source": [
    "To turn the DICOM file metadata into a DataFrame we can use the `from_dicoms` function that fastai v2 adds. By passing `px_summ=True` summary statistics of the image pixels (mean/min/max/std) will be added to the DataFrame as well (although it takes much longer if you include this, since the image data has to be uncompressed)."
   ]
  },
  {
   "cell_type": "code",
   "execution_count": 8,
   "metadata": {},
   "outputs": [],
   "source": [
    "df_tst = pd.DataFrame.from_dicoms(fns_tst, px_summ=True, window=dicom_windows.brain)"
   ]
  },
  {
   "cell_type": "code",
   "execution_count": 9,
   "metadata": {},
   "outputs": [
    {
     "data": {
      "text/html": [
       "<div>\n",
       "<style scoped>\n",
       "    .dataframe tbody tr th:only-of-type {\n",
       "        vertical-align: middle;\n",
       "    }\n",
       "\n",
       "    .dataframe tbody tr th {\n",
       "        vertical-align: top;\n",
       "    }\n",
       "\n",
       "    .dataframe thead th {\n",
       "        text-align: right;\n",
       "    }\n",
       "</style>\n",
       "<table border=\"1\" class=\"dataframe\">\n",
       "  <thead>\n",
       "    <tr style=\"text-align: right;\">\n",
       "      <th></th>\n",
       "      <th>BitsAllocated</th>\n",
       "      <th>BitsStored</th>\n",
       "      <th>Columns</th>\n",
       "      <th>HighBit</th>\n",
       "      <th>ImageOrientationPatient</th>\n",
       "      <th>ImageOrientationPatient1</th>\n",
       "      <th>ImageOrientationPatient2</th>\n",
       "      <th>ImageOrientationPatient3</th>\n",
       "      <th>ImageOrientationPatient4</th>\n",
       "      <th>ImageOrientationPatient5</th>\n",
       "      <th>...</th>\n",
       "      <th>WindowCenter</th>\n",
       "      <th>WindowCenter1</th>\n",
       "      <th>WindowWidth</th>\n",
       "      <th>WindowWidth1</th>\n",
       "      <th>fname</th>\n",
       "      <th>img_max</th>\n",
       "      <th>img_mean</th>\n",
       "      <th>img_min</th>\n",
       "      <th>img_pct_window</th>\n",
       "      <th>img_std</th>\n",
       "    </tr>\n",
       "  </thead>\n",
       "  <tbody>\n",
       "    <tr>\n",
       "      <th>0</th>\n",
       "      <td>16</td>\n",
       "      <td>16</td>\n",
       "      <td>512</td>\n",
       "      <td>15</td>\n",
       "      <td>1.0</td>\n",
       "      <td>0.0</td>\n",
       "      <td>0.0</td>\n",
       "      <td>0.0</td>\n",
       "      <td>0.948324</td>\n",
       "      <td>-0.317305</td>\n",
       "      <td>...</td>\n",
       "      <td>30.0</td>\n",
       "      <td>NaN</td>\n",
       "      <td>80.0</td>\n",
       "      <td>NaN</td>\n",
       "      <td>/home/jhoward/data/rsna/stage_1_test_images/ID_e3674b189.dcm</td>\n",
       "      <td>2749</td>\n",
       "      <td>50.591320</td>\n",
       "      <td>-2000</td>\n",
       "      <td>0.243259</td>\n",
       "      <td>1216.541625</td>\n",
       "    </tr>\n",
       "    <tr>\n",
       "      <th>1</th>\n",
       "      <td>16</td>\n",
       "      <td>16</td>\n",
       "      <td>512</td>\n",
       "      <td>15</td>\n",
       "      <td>1.0</td>\n",
       "      <td>0.0</td>\n",
       "      <td>0.0</td>\n",
       "      <td>0.0</td>\n",
       "      <td>0.976296</td>\n",
       "      <td>-0.216440</td>\n",
       "      <td>...</td>\n",
       "      <td>30.0</td>\n",
       "      <td>NaN</td>\n",
       "      <td>80.0</td>\n",
       "      <td>NaN</td>\n",
       "      <td>/home/jhoward/data/rsna/stage_1_test_images/ID_7be0f1b3c.dcm</td>\n",
       "      <td>2776</td>\n",
       "      <td>10.762859</td>\n",
       "      <td>-2000</td>\n",
       "      <td>0.251751</td>\n",
       "      <td>1164.588862</td>\n",
       "    </tr>\n",
       "    <tr>\n",
       "      <th>2</th>\n",
       "      <td>16</td>\n",
       "      <td>16</td>\n",
       "      <td>512</td>\n",
       "      <td>15</td>\n",
       "      <td>1.0</td>\n",
       "      <td>0.0</td>\n",
       "      <td>0.0</td>\n",
       "      <td>0.0</td>\n",
       "      <td>0.927184</td>\n",
       "      <td>-0.374607</td>\n",
       "      <td>...</td>\n",
       "      <td>30.0</td>\n",
       "      <td>NaN</td>\n",
       "      <td>80.0</td>\n",
       "      <td>NaN</td>\n",
       "      <td>/home/jhoward/data/rsna/stage_1_test_images/ID_8abc0dbe8.dcm</td>\n",
       "      <td>3249</td>\n",
       "      <td>48.297985</td>\n",
       "      <td>-2000</td>\n",
       "      <td>0.277439</td>\n",
       "      <td>1190.333214</td>\n",
       "    </tr>\n",
       "    <tr>\n",
       "      <th>3</th>\n",
       "      <td>16</td>\n",
       "      <td>16</td>\n",
       "      <td>512</td>\n",
       "      <td>15</td>\n",
       "      <td>1.0</td>\n",
       "      <td>0.0</td>\n",
       "      <td>0.0</td>\n",
       "      <td>0.0</td>\n",
       "      <td>0.927184</td>\n",
       "      <td>-0.374607</td>\n",
       "      <td>...</td>\n",
       "      <td>30.0</td>\n",
       "      <td>NaN</td>\n",
       "      <td>80.0</td>\n",
       "      <td>NaN</td>\n",
       "      <td>/home/jhoward/data/rsna/stage_1_test_images/ID_89444fe23.dcm</td>\n",
       "      <td>3002</td>\n",
       "      <td>74.667126</td>\n",
       "      <td>-2000</td>\n",
       "      <td>0.174026</td>\n",
       "      <td>1292.603296</td>\n",
       "    </tr>\n",
       "    <tr>\n",
       "      <th>4</th>\n",
       "      <td>16</td>\n",
       "      <td>16</td>\n",
       "      <td>512</td>\n",
       "      <td>15</td>\n",
       "      <td>1.0</td>\n",
       "      <td>0.0</td>\n",
       "      <td>0.0</td>\n",
       "      <td>0.0</td>\n",
       "      <td>0.882948</td>\n",
       "      <td>-0.469472</td>\n",
       "      <td>...</td>\n",
       "      <td>30.0</td>\n",
       "      <td>NaN</td>\n",
       "      <td>80.0</td>\n",
       "      <td>NaN</td>\n",
       "      <td>/home/jhoward/data/rsna/stage_1_test_images/ID_a5d5df4b7.dcm</td>\n",
       "      <td>2800</td>\n",
       "      <td>44.382950</td>\n",
       "      <td>-2000</td>\n",
       "      <td>0.260780</td>\n",
       "      <td>1191.494654</td>\n",
       "    </tr>\n",
       "  </tbody>\n",
       "</table>\n",
       "<p>5 rows × 42 columns</p>\n",
       "</div>"
      ],
      "text/plain": [
       "   BitsAllocated  BitsStored  Columns  HighBit  ImageOrientationPatient  \\\n",
       "0             16          16      512       15                      1.0   \n",
       "1             16          16      512       15                      1.0   \n",
       "2             16          16      512       15                      1.0   \n",
       "3             16          16      512       15                      1.0   \n",
       "4             16          16      512       15                      1.0   \n",
       "\n",
       "   ImageOrientationPatient1  ImageOrientationPatient2  \\\n",
       "0                       0.0                       0.0   \n",
       "1                       0.0                       0.0   \n",
       "2                       0.0                       0.0   \n",
       "3                       0.0                       0.0   \n",
       "4                       0.0                       0.0   \n",
       "\n",
       "   ImageOrientationPatient3  ImageOrientationPatient4  \\\n",
       "0                       0.0                  0.948324   \n",
       "1                       0.0                  0.976296   \n",
       "2                       0.0                  0.927184   \n",
       "3                       0.0                  0.927184   \n",
       "4                       0.0                  0.882948   \n",
       "\n",
       "   ImageOrientationPatient5  ...  WindowCenter  WindowCenter1  WindowWidth  \\\n",
       "0                 -0.317305  ...          30.0            NaN         80.0   \n",
       "1                 -0.216440  ...          30.0            NaN         80.0   \n",
       "2                 -0.374607  ...          30.0            NaN         80.0   \n",
       "3                 -0.374607  ...          30.0            NaN         80.0   \n",
       "4                 -0.469472  ...          30.0            NaN         80.0   \n",
       "\n",
       "  WindowWidth1                                                         fname  \\\n",
       "0          NaN  /home/jhoward/data/rsna/stage_1_test_images/ID_e3674b189.dcm   \n",
       "1          NaN  /home/jhoward/data/rsna/stage_1_test_images/ID_7be0f1b3c.dcm   \n",
       "2          NaN  /home/jhoward/data/rsna/stage_1_test_images/ID_8abc0dbe8.dcm   \n",
       "3          NaN  /home/jhoward/data/rsna/stage_1_test_images/ID_89444fe23.dcm   \n",
       "4          NaN  /home/jhoward/data/rsna/stage_1_test_images/ID_a5d5df4b7.dcm   \n",
       "\n",
       "   img_max   img_mean  img_min  img_pct_window      img_std  \n",
       "0     2749  50.591320    -2000        0.243259  1216.541625  \n",
       "1     2776  10.762859    -2000        0.251751  1164.588862  \n",
       "2     3249  48.297985    -2000        0.277439  1190.333214  \n",
       "3     3002  74.667126    -2000        0.174026  1292.603296  \n",
       "4     2800  44.382950    -2000        0.260780  1191.494654  \n",
       "\n",
       "[5 rows x 42 columns]"
      ]
     },
     "execution_count": 9,
     "metadata": {},
     "output_type": "execute_result"
    }
   ],
   "source": [
    "df_tst.to_feather('df_tst.fth')\n",
    "df_tst.head()"
   ]
  },
  {
   "cell_type": "code",
   "execution_count": 13,
   "metadata": {},
   "outputs": [
    {
     "name": "stdout",
     "output_type": "stream",
     "text": [
      "CPU times: user 1d 13h 10min 59s, sys: 2h 33min 6s, total: 1d 15h 44min 6s\n",
      "Wall time: 1h 15min 4s\n"
     ]
    }
   ],
   "source": [
    "%time df_trn = pd.DataFrame.from_dicoms(fns_trn, px_summ=True, window=dicom_windows.brain)\n",
    "df_trn.to_feather('df_trn.fth')"
   ]
  },
  {
   "cell_type": "markdown",
   "metadata": {},
   "source": [
    "There is one corrupted DICOM in the competition data, so the command above prints out the information about this file. Despite the error message show above, the command completes successfully, and the data from the corrupted file is not included in the output DataFrame."
   ]
  },
  {
   "cell_type": "code",
   "execution_count": 18,
   "metadata": {
    "scrolled": false
   },
   "outputs": [
    {
     "data": {
      "text/html": [
       "<div>\n",
       "<style scoped>\n",
       "    .dataframe tbody tr th:only-of-type {\n",
       "        vertical-align: middle;\n",
       "    }\n",
       "\n",
       "    .dataframe tbody tr th {\n",
       "        vertical-align: top;\n",
       "    }\n",
       "\n",
       "    .dataframe thead th {\n",
       "        text-align: right;\n",
       "    }\n",
       "</style>\n",
       "<table border=\"1\" class=\"dataframe\">\n",
       "  <thead>\n",
       "    <tr style=\"text-align: right;\">\n",
       "      <th></th>\n",
       "      <th>BitsAllocated</th>\n",
       "      <th>BitsStored</th>\n",
       "      <th>Columns</th>\n",
       "      <th>HighBit</th>\n",
       "      <th>ImageOrientationPatient</th>\n",
       "      <th>ImageOrientationPatient1</th>\n",
       "      <th>ImageOrientationPatient2</th>\n",
       "      <th>ImageOrientationPatient3</th>\n",
       "      <th>ImageOrientationPatient4</th>\n",
       "      <th>ImageOrientationPatient5</th>\n",
       "      <th>...</th>\n",
       "      <th>WindowCenter</th>\n",
       "      <th>WindowCenter1</th>\n",
       "      <th>WindowWidth</th>\n",
       "      <th>WindowWidth1</th>\n",
       "      <th>fname</th>\n",
       "      <th>img_max</th>\n",
       "      <th>img_mean</th>\n",
       "      <th>img_min</th>\n",
       "      <th>img_pct_window</th>\n",
       "      <th>img_std</th>\n",
       "    </tr>\n",
       "  </thead>\n",
       "  <tbody>\n",
       "    <tr>\n",
       "      <th>218429</th>\n",
       "      <td>16</td>\n",
       "      <td>16</td>\n",
       "      <td>512</td>\n",
       "      <td>15</td>\n",
       "      <td>1.0</td>\n",
       "      <td>0.0</td>\n",
       "      <td>0.0</td>\n",
       "      <td>0.0</td>\n",
       "      <td>0.97237</td>\n",
       "      <td>-0.233445</td>\n",
       "      <td>...</td>\n",
       "      <td>30.0</td>\n",
       "      <td>NaN</td>\n",
       "      <td>80.0</td>\n",
       "      <td>NaN</td>\n",
       "      <td>/home/jhoward/data/rsna/stage_1_train_images/ID_6431af929.dcm</td>\n",
       "      <td>0</td>\n",
       "      <td>0.0</td>\n",
       "      <td>0</td>\n",
       "      <td>NaN</td>\n",
       "      <td>0.0</td>\n",
       "    </tr>\n",
       "  </tbody>\n",
       "</table>\n",
       "<p>1 rows × 42 columns</p>\n",
       "</div>"
      ],
      "text/plain": [
       "        BitsAllocated  BitsStored  Columns  HighBit  ImageOrientationPatient  \\\n",
       "218429             16          16      512       15                      1.0   \n",
       "\n",
       "        ImageOrientationPatient1  ImageOrientationPatient2  \\\n",
       "218429                       0.0                       0.0   \n",
       "\n",
       "        ImageOrientationPatient3  ImageOrientationPatient4  \\\n",
       "218429                       0.0                   0.97237   \n",
       "\n",
       "        ImageOrientationPatient5  ...  WindowCenter  WindowCenter1  \\\n",
       "218429                 -0.233445  ...          30.0            NaN   \n",
       "\n",
       "        WindowWidth WindowWidth1  \\\n",
       "218429         80.0          NaN   \n",
       "\n",
       "                                                                fname  \\\n",
       "218429  /home/jhoward/data/rsna/stage_1_train_images/ID_6431af929.dcm   \n",
       "\n",
       "        img_max  img_mean  img_min  img_pct_window img_std  \n",
       "218429        0       0.0        0             NaN     0.0  \n",
       "\n",
       "[1 rows x 42 columns]"
      ]
     },
     "execution_count": 18,
     "metadata": {},
     "output_type": "execute_result"
    }
   ],
   "source": [
    "df_trn.query('SOPInstanceUID==\"ID_6431af929\"')"
   ]
  },
  {
   "cell_type": "code",
   "execution_count": null,
   "metadata": {},
   "outputs": [],
   "source": []
  }
 ],
 "metadata": {
  "kernelspec": {
   "display_name": "Python 3",
   "language": "python",
   "name": "python3"
  },
  "language_info": {
   "codemirror_mode": {
    "name": "ipython",
    "version": 3
   },
   "file_extension": ".py",
   "mimetype": "text/x-python",
   "name": "python",
   "nbconvert_exporter": "python",
   "pygments_lexer": "ipython3",
   "version": "3.7.5"
  }
 },
 "nbformat": 4,
 "nbformat_minor": 1
}

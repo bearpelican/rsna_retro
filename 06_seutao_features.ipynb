{
 "cells": [
  {
   "cell_type": "code",
   "execution_count": 1,
   "metadata": {},
   "outputs": [],
   "source": [
    "#default_exp seutao"
   ]
  },
  {
   "cell_type": "code",
   "execution_count": 2,
   "metadata": {},
   "outputs": [
    {
     "name": "stdout",
     "output_type": "stream",
     "text": [
      "Loading imports\n"
     ]
    }
   ],
   "source": [
    "#export\n",
    "from rsna_retro.imports import *\n",
    "from rsna_retro.metadata import *\n",
    "from rsna_retro.preprocess import *\n",
    "from rsna_retro.train import *\n",
    "from rsna_retro.train3d import *"
   ]
  },
  {
   "cell_type": "code",
   "execution_count": 3,
   "metadata": {},
   "outputs": [],
   "source": [
    "#export\n",
    "path = Path('~/kaggle/RSNA2019_1st_place_solution/SequenceModel/features/stage2_finetune/st_se101_256_fine').expanduser()\n",
    "np_file = path/'st_se101_256_fine_val_oof_feature_TTA_stage2_finetune.npy'\n",
    "np_file_test = path/'st_se101_256_fine_test_feature_TTA_stage2_finetune.npy'\n",
    "csv_file = path/'st_se101_256_fine_val_prob_TTA_stage2_finetune.csv'\n",
    "csv_file_test = path/'st_se101_256_fine_test_prob_TTA_stage2_finetune.csv'\n",
    "\n",
    "\n",
    "fth_file = csv_file.with_suffix('.fth')\n",
    "fth_file_test = csv_file_test.with_suffix('.fth')"
   ]
  },
  {
   "cell_type": "code",
   "execution_count": 4,
   "metadata": {},
   "outputs": [],
   "source": [
    "# preprocessing\n",
    "# pd.read_csv(csv_file).to_feather(fth_file)\n",
    "# pd.read_csv(csv_file_test).to_feather(fth_file_test)"
   ]
  },
  {
   "cell_type": "code",
   "execution_count": 5,
   "metadata": {},
   "outputs": [],
   "source": [
    "#export\n",
    "class OpenFeatMap:\n",
    "    def __init__(self, feature_map):\n",
    "        self.fm = feature_map\n",
    "        self.tt = ToTensor()\n",
    "    def __call__(self, item):\n",
    "        if isinstance(item, (str, Path)): return self.fn(item)\n",
    "        xs = [torch.from_numpy(self.fm[x]) for x in item]\n",
    "        return TensorCTScan(torch.stack(xs))"
   ]
  },
  {
   "cell_type": "markdown",
   "metadata": {},
   "source": [
    "## dsets"
   ]
  },
  {
   "cell_type": "code",
   "execution_count": 6,
   "metadata": {},
   "outputs": [],
   "source": [
    "# features = np.load(str(np_file))"
   ]
  },
  {
   "cell_type": "code",
   "execution_count": 7,
   "metadata": {},
   "outputs": [],
   "source": [
    "#export\n",
    "def get_seutao_dls(df, np_file, csv_file, bs=1, num_workers=8, test=False):\n",
    "    print('loading features')\n",
    "    features = np.load(str(np_file))\n",
    "    prob_df = pd.read_csv(csv_file)\n",
    "    sops = [f.replace('.dcm', '') for f in prob_df.filename.values]\n",
    "    feature_map = dict(zip(sops, features))\n",
    "    print('Done loading features')\n",
    "\n",
    "    dsets = get_3d_dsets(df, open_fn=OpenFeatMap(feature_map), test=test)\n",
    "    return get_dls(dsets, bs, None, num_workers)\n"
   ]
  },
  {
   "cell_type": "code",
   "execution_count": 8,
   "metadata": {},
   "outputs": [
    {
     "name": "stdout",
     "output_type": "stream",
     "text": [
      "loading features\n",
      "Done loading features\n"
     ]
    }
   ],
   "source": [
    "dls = get_seutao_dls(Meta.df_comb1, np_file, csv_file, bs=64)"
   ]
  },
  {
   "cell_type": "markdown",
   "metadata": {},
   "source": [
    "## Prob"
   ]
  },
  {
   "cell_type": "code",
   "execution_count": 9,
   "metadata": {},
   "outputs": [
    {
     "data": {
      "text/plain": [
       "(-998.400024, 1794.01276, 167.08153131830622, 244.90964319136026)"
      ]
     },
     "execution_count": 9,
     "metadata": {},
     "output_type": "execute_result"
    }
   ],
   "source": [
    "pos = Meta.df_comb.ImagePositionPatient2.values\n",
    "pos.min(), pos.max(), pos.mean(), pos.std()\n",
    "# (pos - pos.min())/pos.max()"
   ]
  },
  {
   "cell_type": "code",
   "execution_count": 10,
   "metadata": {},
   "outputs": [],
   "source": [
    "#export\n",
    "# saving hardcoded positioning so we can normalize the test set the same way\n",
    "pos_min, pos_max, pos_mean, pos_std = (-998.400024, 1794.01276, 167.08153131830622, 244.90964319136026)"
   ]
  },
  {
   "cell_type": "code",
   "execution_count": 11,
   "metadata": {},
   "outputs": [],
   "source": [
    "# plt.hist(Meta.df_comb.ImagePositionPatient2.values)"
   ]
  },
  {
   "cell_type": "code",
   "execution_count": 12,
   "metadata": {},
   "outputs": [],
   "source": [
    "#export\n",
    "class OpenMultFeatMap:\n",
    "    def __init__(self, feature_map):\n",
    "        self.fm = feature_map\n",
    "        self.tt = ToTensor()\n",
    "        \n",
    "    def get_feat(self, sop):\n",
    "        return [torch.from_numpy(x) for x in self.fm[sop]]\n",
    "    \n",
    "    def __call__(self, item):\n",
    "        if isinstance(item, (str, Path)): return self.fn(item)\n",
    "        feats = zip(*[self.get_feat(sop) for sop in item])\n",
    "        return tuple([torch.stack(col) for col in feats])"
   ]
  },
  {
   "cell_type": "code",
   "execution_count": 13,
   "metadata": {},
   "outputs": [],
   "source": [
    "#export\n",
    "def get_seutao_dls_meta(df, np_file, csv_file, bs=1, num_workers=8, grps=Meta.grps_stg1, test=False):\n",
    "    print('loading features')\n",
    "    features = np.load(str(np_file))\n",
    "    prob_df = pd.read_csv(csv_file).set_index('filename')\n",
    "    sops = [f.replace('.dcm', '') for f in prob_df.index.values]\n",
    "    \n",
    "    preds = prob_df.values.astype(features.dtype)\n",
    "    pos = df.loc[sops].ImagePositionPatient2.values.reshape(-1, 1).astype(features.dtype)\n",
    "    pos_norm = (pos - pos_mean)/pos_std\n",
    "    \n",
    "    feature_map = dict(zip(sops, zip(features, preds, pos_norm)))\n",
    "    print('Done loading features')\n",
    "\n",
    "    dsets = get_3d_dsets(df, open_fn=OpenMultFeatMap(feature_map), grps=grps, test=test)\n",
    "    return get_dls(dsets, bs, None, num_workers)\n"
   ]
  },
  {
   "cell_type": "code",
   "execution_count": 14,
   "metadata": {},
   "outputs": [
    {
     "name": "stdout",
     "output_type": "stream",
     "text": [
      "loading features\n",
      "Done loading features\n"
     ]
    }
   ],
   "source": [
    "dls = get_seutao_dls_meta(Meta.df_comb1, np_file, csv_file, bs=64)"
   ]
  },
  {
   "cell_type": "code",
   "execution_count": 15,
   "metadata": {},
   "outputs": [
    {
     "data": {
      "text/plain": [
       "0"
      ]
     },
     "execution_count": 15,
     "metadata": {},
     "output_type": "execute_result"
    }
   ],
   "source": [
    "len(dls.valid)"
   ]
  },
  {
   "cell_type": "code",
   "execution_count": 16,
   "metadata": {},
   "outputs": [],
   "source": [
    "xb,yb = dls.one_batch()"
   ]
  },
  {
   "cell_type": "code",
   "execution_count": 17,
   "metadata": {},
   "outputs": [
    {
     "data": {
      "text/plain": [
       "[(torch.Size([64, 60, 2048]), torch.float16),\n",
       " (torch.Size([64, 60, 6]), torch.float16),\n",
       " (torch.Size([64, 60, 1]), torch.float16)]"
      ]
     },
     "execution_count": 17,
     "metadata": {},
     "output_type": "execute_result"
    }
   ],
   "source": [
    "[(x.shape,x.dtype) for x in xb]"
   ]
  },
  {
   "cell_type": "markdown",
   "metadata": {},
   "source": [
    "## Load"
   ]
  },
  {
   "cell_type": "code",
   "execution_count": 17,
   "metadata": {},
   "outputs": [],
   "source": [
    "class HeadModel(nn.Module):\n",
    "    def __init__(self):\n",
    "        super().__init__()\n",
    "        self.linear = nn.Linear(2048, 6)\n",
    "        \n",
    "    def forward(self, x):\n",
    "        s = x.shape\n",
    "        x = self.linear(x.view(-1, 2048))\n",
    "        return x.view(*s[:2], x.shape[-1])"
   ]
  },
  {
   "cell_type": "code",
   "execution_count": 18,
   "metadata": {},
   "outputs": [],
   "source": [
    "class SeqHead(nn.Module):\n",
    "    def __init__(self):\n",
    "        super().__init__()\n",
    "        d_model = 2048\n",
    "        hidden = 96\n",
    "        self.lstm = nn.LSTM(input_size=d_model, hidden_size=hidden, num_layers=2, bidirectional=True)\n",
    "        self.head = nn.Sequential(nn.Linear(hidden*2,6))\n",
    "        \n",
    "    def forward(self, x):\n",
    "        feat, _ = self.lstm(x.transpose(0,1))\n",
    "        return self.head(feat.transpose(0,1))"
   ]
  },
  {
   "cell_type": "code",
   "execution_count": 13,
   "metadata": {},
   "outputs": [],
   "source": [
    "m = HeadModel().cuda()"
   ]
  },
  {
   "cell_type": "code",
   "execution_count": 14,
   "metadata": {},
   "outputs": [],
   "source": [
    "learn = get_learner(dls, m)"
   ]
  },
  {
   "cell_type": "code",
   "execution_count": 15,
   "metadata": {},
   "outputs": [
    {
     "data": {
      "text/plain": [
       "<fastai2.learner.Learner at 0x7f1534462a90>"
      ]
     },
     "execution_count": 15,
     "metadata": {},
     "output_type": "execute_result"
    }
   ],
   "source": [
    "learn.add_cb(DePadLoss())"
   ]
  },
  {
   "cell_type": "code",
   "execution_count": 16,
   "metadata": {},
   "outputs": [],
   "source": [
    "name = 'seutao_feat_headonly'"
   ]
  },
  {
   "cell_type": "markdown",
   "metadata": {},
   "source": [
    "## Train"
   ]
  },
  {
   "cell_type": "code",
   "execution_count": 17,
   "metadata": {},
   "outputs": [
    {
     "data": {
      "text/html": [],
      "text/plain": [
       "<IPython.core.display.HTML object>"
      ]
     },
     "metadata": {},
     "output_type": "display_data"
    },
    {
     "data": {
      "image/png": "[encoded data removed]",
      "text/plain": [
       "<Figure size 432x288 with 1 Axes>"
      ]
     },
     "metadata": {
      "needs_background": "light"
     },
     "output_type": "display_data"
    }
   ],
   "source": [
    "learn.lr_find(num_it=500)"
   ]
  },
  {
   "cell_type": "code",
   "execution_count": null,
   "metadata": {},
   "outputs": [],
   "source": [
    "do_fit(learn, 10, 1e-2)\n",
    "learn.save(f'runs/{name}-1')"
   ]
  },
  {
   "cell_type": "markdown",
   "metadata": {},
   "source": [
    "## Submit"
   ]
  },
  {
   "cell_type": "code",
   "execution_count": 19,
   "metadata": {},
   "outputs": [],
   "source": [
    "#export\n",
    "class FlattenPred(Callback):\n",
    "    def __init__(self): super().__init__()\n",
    "\n",
    "    def after_pred(self):\n",
    "        learn = self.learn\n",
    "        learn.pred = learn.pred.view(-1, *learn.pred.shape[2:])"
   ]
  },
  {
   "cell_type": "code",
   "execution_count": 23,
   "metadata": {},
   "outputs": [],
   "source": [
    "#export\n",
    "def submit_predictions(learn, load_fn, sub_fn, message, dfunc=get_seutao_dls):\n",
    "    df = Meta.df_tst\n",
    "    learn.dls = dfunc(df, np_file_test, csv_file_test, bs=1, test=True)\n",
    "    learn.load(load_fn)\n",
    "    preds,targs = learn.get_preds()\n",
    "    pred_csv = submission(df, preds, fn=sub_fn)\n",
    "    api.competition_submit(f'{sub_fn}.csv', message, 'rsna-intracranial-hemorrhage-detection')"
   ]
  },
  {
   "cell_type": "code",
   "execution_count": 24,
   "metadata": {},
   "outputs": [
    {
     "name": "stdout",
     "output_type": "stream",
     "text": [
      "loading features\n",
      "Done loading features\n"
     ]
    }
   ],
   "source": [
    "dls_test = get_seutao_dls_meta(Meta.df_tst, np_file_test, csv_file_test, bs=1, test=True)"
   ]
  },
  {
   "cell_type": "code",
   "execution_count": 22,
   "metadata": {},
   "outputs": [
    {
     "data": {
      "text/plain": [
       "torch.Size([1, 37, 2048])"
      ]
     },
     "execution_count": 22,
     "metadata": {},
     "output_type": "execute_result"
    }
   ],
   "source": [
    "dls_test.one_batch()[0][0].shape"
   ]
  },
  {
   "cell_type": "code",
   "execution_count": null,
   "metadata": {},
   "outputs": [],
   "source": [
    "test(f'runs/{name}-1', f'subm/{name}', 'testing seutao features headonly try2')"
   ]
  },
  {
   "cell_type": "code",
   "execution_count": 40,
   "metadata": {},
   "outputs": [
    {
     "data": {
      "text/plain": [
       "{'ref': 13827415,\n",
       " 'totalBytes': 27277209,\n",
       " 'date': '2019-12-17T10:05:45.983Z',\n",
       " 'description': 'testing seutao features headonly try2',\n",
       " 'errorDescription': None,\n",
       " 'fileName': 'seutao_feat_headonly.csv',\n",
       " 'publicScore': '0.58344',\n",
       " 'privateScore': '0.05386',\n",
       " 'status': 'complete',\n",
       " 'submittedBy': 'Andrew Shaw',\n",
       " 'submittedByRef': 'bearpelican',\n",
       " 'teamName': 'Andrew Shaw',\n",
       " 'type': 'standard',\n",
       " 'url': 'https://www.kaggle.com/submissions/13827415/13827415.raw'}"
      ]
     },
     "execution_count": 40,
     "metadata": {},
     "output_type": "execute_result"
    }
   ],
   "source": [
    "api.competitions_submissions_list('rsna-intracranial-hemorrhage-detection')[0]"
   ]
  },
  {
   "cell_type": "markdown",
   "metadata": {},
   "source": [
    "## Export"
   ]
  },
  {
   "cell_type": "code",
   "execution_count": 1,
   "metadata": {
    "scrolled": true
   },
   "outputs": [
    {
     "name": "stdout",
     "output_type": "stream",
     "text": [
      "Converted 00_metadata.ipynb.\n",
      "Converted 01_preprocess.ipynb.\n",
      "Converted 01_preprocess_mean_std.ipynb.\n",
      "Converted 02_train.ipynb.\n",
      "Converted 02_train_01_save_features.ipynb.\n",
      "Converted 03_train3d.ipynb.\n",
      "Converted 04_trainfull3d_deprecated.ipynb.\n",
      "Converted 04_trainfull3d_labels.ipynb.\n",
      "Converted 04_trainfull3d_labels_01_partial3d.ipynb.\n",
      "Converted 04_trainfull3d_labels_01_partial3d_old.ipynb.\n",
      "Converted 04_trainfull3d_labels_02_full3d.ipynb.\n",
      "Converted 04_trainfull3d_labels_02_full3d_old.ipynb.\n",
      "Converted 04_trainfull3d_labels_03_MIL.ipynb.\n",
      "Converted 05_train_adjacent.ipynb.\n",
      "Converted 06_seutao_features.ipynb.\n",
      "Converted Tabular_02_FeatureImportance.ipynb.\n"
     ]
    }
   ],
   "source": [
    "#hide\n",
    "from nbdev.export import notebook2script\n",
    "notebook2script()"
   ]
  }
 ],
 "metadata": {
  "kernelspec": {
   "display_name": "Python 3",
   "language": "python",
   "name": "python3"
  },
  "language_info": {
   "codemirror_mode": {
    "name": "ipython",
    "version": 3
   },
   "file_extension": ".py",
   "mimetype": "text/x-python",
   "name": "python",
   "nbconvert_exporter": "python",
   "pygments_lexer": "ipython3",
   "version": "3.7.6"
  }
 },
 "nbformat": 4,
 "nbformat_minor": 2
}

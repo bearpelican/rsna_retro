{
 "cells": [
  {
   "cell_type": "code",
   "execution_count": 1,
   "metadata": {},
   "outputs": [],
   "source": [
    "#default_exp train_slice"
   ]
  },
  {
   "cell_type": "code",
   "execution_count": 2,
   "metadata": {},
   "outputs": [
    {
     "name": "stdout",
     "output_type": "stream",
     "text": [
      "Loading imports\n",
      "Warning: Your Kaggle API key is readable by other users on this system! To fix this, you can run 'chmod 600 /home/ashaw/.kaggle/kaggle.json'\n"
     ]
    }
   ],
   "source": [
    "from rsna_retro.imports import *\n",
    "from rsna_retro.metadata import *\n",
    "from rsna_retro.preprocess import *\n",
    "from rsna_retro.train import *\n",
    "from rsna_retro.train3d import *"
   ]
  },
  {
   "cell_type": "code",
   "execution_count": null,
   "metadata": {},
   "outputs": [],
   "source": [
    "#export\n",
    "class OpenCTs:\n",
    "    def __init__(self, path): \n",
    "        self.fn = get_pil_fn(path)\n",
    "        self.tt = ToTensor()\n",
    "    def __call__(self, item):\n",
    "        if isinstance(item, (str, Path)): return self.fn(item)\n",
    "        xs = [self.tt(self.fn(x)) for x in item]\n",
    "        return TensorCTScan(torch.stack(xs))"
   ]
  },
  {
   "cell_type": "code",
   "execution_count": null,
   "metadata": {},
   "outputs": [],
   "source": [
    "#export\n",
    "def pad_batch(x, pad_to=None, value=0):\n",
    "    bs_pad = pad_to-x.shape[0]\n",
    "    pad = [0]*len(x.shape)*2\n",
    "    pad[-1] = bs_pad\n",
    "    return F.pad(x, pad=pad, value=value)"
   ]
  },
  {
   "cell_type": "code",
   "execution_count": null,
   "metadata": {},
   "outputs": [],
   "source": [
    "#export\n",
    "class TfmSlice:\n",
    "    def __init__(self,df,open_fn,pad_to=None):\n",
    "        self.open_fn = open_fn\n",
    "        self.df = df\n",
    "    \n",
    "    def x(self, sid):\n",
    "        sids = self.df.SOPInstanceUID[sid].values\n",
    "        x = self.open_fn(sids)\n",
    "        if self.pad_to is None: return x\n",
    "        t = type(x)\n",
    "        return t(pad_batch(x, pad_to=self.pad_to))\n",
    "    \n",
    "    def y(self, sid): \n",
    "        vals = self.df.loc[sid,htypes].values\n",
    "        if self.pad_to is not None: \n",
    "            vals = pad_batch(tensor(vals), pad_to=self.pad_to, value=-1)\n",
    "        return TensorMultiCategory(vals).float()"
   ]
  },
  {
   "cell_type": "code",
   "execution_count": null,
   "metadata": {},
   "outputs": [],
   "source": [
    "def group_cv(idx, grps): return np.concatenate([grps[o] for o in range_of(grps) if o!=idx])\n",
    "\n",
    "# column can also be PatientID\n",
    "def split_data(df, cv_idx, grps, column):\n",
    "    grp_cv = group_cv(cv_idx, grps)\n",
    "    mask = df[column].isin(grp_cv)\n",
    "    return idx[mask],idx[~mask]"
   ]
  },
  {
   "cell_type": "code",
   "execution_count": null,
   "metadata": {},
   "outputs": [],
   "source": [
    "#export\n",
    "def get_3d_dsrc(df, open_fn, grps=Meta.grps, cv_idx=0, column='SeriesInstanceUID',\n",
    "               pad_to=None):\n",
    "    df_series = df.reset_index().set_index(column).sort_values(\"ImagePositionPatient2\")\n",
    "    tfm = TfmSOP(df_series, open_fn, pad_to)\n",
    "    sids = df_series.index.unique()\n",
    "    \n",
    "    s1 = np.where(np.in1d(sids, group_cv(cv_idx,grps)))[0]\n",
    "    s2 = np.where(np.in1d(sids, grps[cv_idx]))[0]\n",
    "    dsrc = DataSource(sids, [[tfm.x],[tfm.y]], splits=(s1,s2))\n",
    "    return dsrc"
   ]
  }
 ],
 "metadata": {
  "kernelspec": {
   "display_name": "Python 3",
   "language": "python",
   "name": "python3"
  },
  "language_info": {
   "codemirror_mode": {
    "name": "ipython",
    "version": 3
   },
   "file_extension": ".py",
   "mimetype": "text/x-python",
   "name": "python",
   "nbconvert_exporter": "python",
   "pygments_lexer": "ipython3",
   "version": "3.7.5"
  }
 },
 "nbformat": 4,
 "nbformat_minor": 2
}

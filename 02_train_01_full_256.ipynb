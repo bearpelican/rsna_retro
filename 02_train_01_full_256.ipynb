{
 "cells": [
  {
   "cell_type": "code",
   "execution_count": 1,
   "metadata": {},
   "outputs": [
    {
     "name": "stdout",
     "output_type": "stream",
     "text": [
      "Loading imports\n",
      "Warning: Your Kaggle API key is readable by other users on this system! To fix this, you can run 'chmod 600 /home/ashaw/.kaggle/kaggle.json'\n"
     ]
    }
   ],
   "source": [
    "from rsna_retro.imports import *\n",
    "from rsna_retro.metadata import *\n",
    "from rsna_retro.preprocess import *\n",
    "from rsna_retro.train import *"
   ]
  },
  {
   "cell_type": "code",
   "execution_count": 2,
   "metadata": {},
   "outputs": [],
   "source": [
    "torch.cuda.set_device(1)"
   ]
  },
  {
   "cell_type": "markdown",
   "metadata": {},
   "source": [
    "## Training"
   ]
  },
  {
   "cell_type": "code",
   "execution_count": 3,
   "metadata": {},
   "outputs": [],
   "source": [
    "name = 'baseline_full256'"
   ]
  },
  {
   "cell_type": "code",
   "execution_count": 4,
   "metadata": {},
   "outputs": [],
   "source": [
    "dbch = get_data(512, 128, full_ds=True)\n",
    "learn = get_learner(dbch, xresnet34)"
   ]
  },
  {
   "cell_type": "markdown",
   "metadata": {},
   "source": [
    "## Training"
   ]
  },
  {
   "cell_type": "code",
   "execution_count": null,
   "metadata": {},
   "outputs": [
    {
     "data": {
      "text/html": [
       "\n",
       "    <div>\n",
       "        <style>\n",
       "            /* Turns off some styling */\n",
       "            progress {\n",
       "                /* gets rid of default border in Firefox and Opera. */\n",
       "                border: none;\n",
       "                /* Needs to be in here for Safari polyfill so background images work as expected. */\n",
       "                background-size: auto;\n",
       "            }\n",
       "            .progress-bar-interrupted, .progress-bar-interrupted::-webkit-progress-bar {\n",
       "                background: #F44336;\n",
       "            }\n",
       "        </style>\n",
       "      <progress value='0' class='' max='20', style='width:300px; height:20px; vertical-align: middle;'></progress>\n",
       "      0.00% [0/20 00:00<00:00]\n",
       "    </div>\n",
       "    \n",
       "<table border=\"1\" class=\"dataframe\">\n",
       "  <thead>\n",
       "    <tr style=\"text-align: left;\">\n",
       "      <th>epoch</th>\n",
       "      <th>train_loss</th>\n",
       "      <th>valid_loss</th>\n",
       "      <th>accuracy_multi</th>\n",
       "      <th>accuracy_any</th>\n",
       "      <th>time</th>\n",
       "    </tr>\n",
       "  </thead>\n",
       "  <tbody>\n",
       "  </tbody>\n",
       "</table><p>\n",
       "\n",
       "    <div>\n",
       "        <style>\n",
       "            /* Turns off some styling */\n",
       "            progress {\n",
       "                /* gets rid of default border in Firefox and Opera. */\n",
       "                border: none;\n",
       "                /* Needs to be in here for Safari polyfill so background images work as expected. */\n",
       "                background-size: auto;\n",
       "            }\n",
       "            .progress-bar-interrupted, .progress-bar-interrupted::-webkit-progress-bar {\n",
       "                background: #F44336;\n",
       "            }\n",
       "        </style>\n",
       "      <progress value='1026' class='' max='1286', style='width:300px; height:20px; vertical-align: middle;'></progress>\n",
       "      79.78% [1026/1286 05:26<01:22 0.1313]\n",
       "    </div>\n",
       "    "
      ],
      "text/plain": [
       "<IPython.core.display.HTML object>"
      ]
     },
     "metadata": {},
     "output_type": "display_data"
    }
   ],
   "source": [
    "do_fit(learn, 20, 4e-2)\n",
    "learn.save(f'runs/{name}-1')"
   ]
  },
  {
   "cell_type": "code",
   "execution_count": null,
   "metadata": {},
   "outputs": [],
   "source": [
    "learn.dbunch = get_data(512, 256, full_ds=True)\n",
    "do_fit(learn, 12, 4e-3)\n",
    "learn.save(f'runs/{name}-2')"
   ]
  },
  {
   "cell_type": "markdown",
   "metadata": {},
   "source": [
    "## Submission"
   ]
  },
  {
   "cell_type": "code",
   "execution_count": 11,
   "metadata": {},
   "outputs": [
    {
     "data": {
      "text/plain": [
       "<fastai2.learner.Learner at 0x7fdb9846fc90>"
      ]
     },
     "execution_count": 11,
     "metadata": {},
     "output_type": "execute_result"
    }
   ],
   "source": [
    "learn.load(f'runs/{name}-2')"
   ]
  },
  {
   "cell_type": "code",
   "execution_count": 12,
   "metadata": {},
   "outputs": [],
   "source": [
    "# tst_fns = df_tst.index.values"
   ]
  },
  {
   "cell_type": "code",
   "execution_count": 13,
   "metadata": {},
   "outputs": [],
   "source": [
    "sub_fn = f'subm/{name}-2'"
   ]
  },
  {
   "cell_type": "code",
   "execution_count": 15,
   "metadata": {},
   "outputs": [],
   "source": [
    "learn.dbunch = get_test_data(Meta.df_tst, bs=512, sz=256)"
   ]
  },
  {
   "cell_type": "code",
   "execution_count": 21,
   "metadata": {},
   "outputs": [],
   "source": [
    "# tst_bs = 256\n",
    "# tst_sz = 384\n",
    "# tst_splits = [L.range(tst_fns), L.range(tst_fns)]\n",
    "# tst_dbch = get_data_gen(tst_fns, bs=tst_bs, img_tfm=get_pil_fn(path/'tst_jpg'), sz=tst_sz, splits=tst_splits, test=True)\n",
    "# learn.dbunch = tst_dbch"
   ]
  },
  {
   "cell_type": "code",
   "execution_count": 16,
   "metadata": {},
   "outputs": [
    {
     "data": {
      "text/html": [],
      "text/plain": [
       "<IPython.core.display.HTML object>"
      ]
     },
     "metadata": {},
     "output_type": "display_data"
    }
   ],
   "source": [
    "preds,targs = learn.get_preds()"
   ]
  },
  {
   "cell_type": "code",
   "execution_count": 18,
   "metadata": {},
   "outputs": [],
   "source": [
    "pred_csv = submission(Meta.df_tst, preds, fn=sub_fn)"
   ]
  },
  {
   "cell_type": "code",
   "execution_count": 21,
   "metadata": {},
   "outputs": [
    {
     "data": {
      "text/html": [
       "<a href='subm/baseline.csv' target='_blank'>subm/baseline.csv</a><br>"
      ],
      "text/plain": [
       "/home/ashaw/kaggle/rsna_retro/subm/baseline.csv"
      ]
     },
     "execution_count": 21,
     "metadata": {},
     "output_type": "execute_result"
    }
   ],
   "source": [
    "FileLink(f'{sub_fn}.csv')"
   ]
  },
  {
   "cell_type": "code",
   "execution_count": 22,
   "metadata": {},
   "outputs": [
    {
     "name": "stderr",
     "output_type": "stream",
     "text": [
      "100%|██████████| 26.0M/26.0M [00:03<00:00, 8.71MB/s]\n"
     ]
    },
    {
     "data": {
      "text/plain": [
       "Successfully submitted to RSNA Intracranial Hemorrhage Detection"
      ]
     },
     "execution_count": 22,
     "metadata": {},
     "output_type": "execute_result"
    }
   ],
   "source": [
    "api.competition_submit(f'{sub_fn}.csv', 'rsna_retro - full - 256 size. Compare to 384 0.064', 'rsna-intracranial-hemorrhage-detection')"
   ]
  },
  {
   "cell_type": "code",
   "execution_count": 25,
   "metadata": {},
   "outputs": [
    {
     "data": {
      "text/plain": [
       "{'ref': 13735979,\n",
       " 'totalBytes': 27277209,\n",
       " 'date': '2019-12-10T22:55:30.017Z',\n",
       " 'description': 'rsna_retro - full - 256 size. Compare to 384 0.064',\n",
       " 'errorDescription': None,\n",
       " 'fileName': 'baseline.csv',\n",
       " 'publicScore': '1.00292',\n",
       " 'privateScore': '0.08507',\n",
       " 'status': 'complete',\n",
       " 'submittedBy': 'Andrew Shaw',\n",
       " 'submittedByRef': 'bearpelican',\n",
       " 'teamName': 'Andrew Shaw',\n",
       " 'type': 'standard',\n",
       " 'url': 'https://www.kaggle.com/submissions/13735979/13735979.raw'}"
      ]
     },
     "execution_count": 25,
     "metadata": {},
     "output_type": "execute_result"
    }
   ],
   "source": [
    "api.competitions_submissions_list('rsna-intracranial-hemorrhage-detection')[0]"
   ]
  },
  {
   "cell_type": "code",
   "execution_count": 15,
   "metadata": {},
   "outputs": [
    {
     "data": {
      "text/plain": [
       "{'ref': 13695014,\n",
       " 'totalBytes': 27277209,\n",
       " 'date': '2019-12-08T22:49:07.013Z',\n",
       " 'description': 'testing rsna_retro submission',\n",
       " 'errorDescription': None,\n",
       " 'fileName': 'test_sub.csv',\n",
       " 'publicScore': '0.95475',\n",
       " 'privateScore': '0.06444',\n",
       " 'status': 'complete',\n",
       " 'submittedBy': 'Andrew Shaw',\n",
       " 'submittedByRef': 'bearpelican',\n",
       " 'teamName': 'Andrew Shaw',\n",
       " 'type': 'standard',\n",
       " 'url': 'https://www.kaggle.com/submissions/13695014/13695014.raw'}"
      ]
     },
     "execution_count": 15,
     "metadata": {},
     "output_type": "execute_result"
    }
   ],
   "source": [
    "api.competitions_submissions_list('rsna-intracranial-hemorrhage-detection')[0]"
   ]
  }
 ],
 "metadata": {
  "kernelspec": {
   "display_name": "Python 3",
   "language": "python",
   "name": "python3"
  },
  "language_info": {
   "codemirror_mode": {
    "name": "ipython",
    "version": 3
   },
   "file_extension": ".py",
   "mimetype": "text/x-python",
   "name": "python",
   "nbconvert_exporter": "python",
   "pygments_lexer": "ipython3",
   "version": "3.7.5"
  }
 },
 "nbformat": 4,
 "nbformat_minor": 2
}

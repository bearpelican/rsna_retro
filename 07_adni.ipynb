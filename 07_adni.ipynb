{
 "cells": [
  {
   "cell_type": "code",
   "execution_count": 1,
   "metadata": {},
   "outputs": [],
   "source": [
    "import pandas as pd\n",
    "import numpy as np\n",
    "import nibabel as nib\n",
    "from tqdm import tqdm\n",
    "import logging\n",
    "from sklearn.model_selection import StratifiedKFold\n",
    "import time\n",
    "from sklearn.metrics import accuracy_score, roc_auc_score, confusion_matrix\n",
    "import sys\n",
    "import os"
   ]
  },
  {
   "cell_type": "code",
   "execution_count": 2,
   "metadata": {},
   "outputs": [],
   "source": [
    "import matplotlib.pyplot as plt \n",
    "from scipy.ndimage.interpolation import zoom"
   ]
  },
  {
   "cell_type": "code",
   "execution_count": 3,
   "metadata": {},
   "outputs": [],
   "source": [
    "from fastai2.basics import *"
   ]
  },
  {
   "cell_type": "code",
   "execution_count": 4,
   "metadata": {},
   "outputs": [],
   "source": [
    "data_path = Path('/home/akanksha/brainlabs/projects/brain-transfer')"
   ]
  },
  {
   "cell_type": "code",
   "execution_count": 22,
   "metadata": {},
   "outputs": [
    {
     "data": {
      "text/html": [
       "<div>\n",
       "<style scoped>\n",
       "    .dataframe tbody tr th:only-of-type {\n",
       "        vertical-align: middle;\n",
       "    }\n",
       "\n",
       "    .dataframe tbody tr th {\n",
       "        vertical-align: top;\n",
       "    }\n",
       "\n",
       "    .dataframe thead th {\n",
       "        text-align: right;\n",
       "    }\n",
       "</style>\n",
       "<table border=\"1\" class=\"dataframe\">\n",
       "  <thead>\n",
       "    <tr style=\"text-align: right;\">\n",
       "      <th></th>\n",
       "      <th>Path</th>\n",
       "      <th>Label</th>\n",
       "    </tr>\n",
       "  </thead>\n",
       "  <tbody>\n",
       "    <tr>\n",
       "      <th>0</th>\n",
       "      <td>data/sub-ADNI100S0015_ses-M36_T1w.nii</td>\n",
       "      <td>CN</td>\n",
       "    </tr>\n",
       "    <tr>\n",
       "      <th>1</th>\n",
       "      <td>data/sub-ADNI067S0019_ses-M36_T1w.nii</td>\n",
       "      <td>CN</td>\n",
       "    </tr>\n",
       "    <tr>\n",
       "      <th>2</th>\n",
       "      <td>data/sub-ADNI011S0021_ses-M96_T1wa.nii</td>\n",
       "      <td>CN</td>\n",
       "    </tr>\n",
       "    <tr>\n",
       "      <th>3</th>\n",
       "      <td>data/sub-ADNI011S0023_ses-M96_T1w.nii</td>\n",
       "      <td>CN</td>\n",
       "    </tr>\n",
       "    <tr>\n",
       "      <th>4</th>\n",
       "      <td>data/sub-ADNI067S0029_ses-M24_T1w.nii</td>\n",
       "      <td>AD</td>\n",
       "    </tr>\n",
       "  </tbody>\n",
       "</table>\n",
       "</div>"
      ],
      "text/plain": [
       "                                     Path Label\n",
       "0   data/sub-ADNI100S0015_ses-M36_T1w.nii    CN\n",
       "1   data/sub-ADNI067S0019_ses-M36_T1w.nii    CN\n",
       "2  data/sub-ADNI011S0021_ses-M96_T1wa.nii    CN\n",
       "3   data/sub-ADNI011S0023_ses-M96_T1w.nii    CN\n",
       "4   data/sub-ADNI067S0029_ses-M24_T1w.nii    AD"
      ]
     },
     "execution_count": 22,
     "metadata": {},
     "output_type": "execute_result"
    }
   ],
   "source": [
    "metadata = pd.read_csv(data_path/'data/metadata.csv')\n",
    "# metadata.loc[metadata['Path'].str.endswith('nii') == False, :]\n",
    "metadata = metadata[metadata.Label.isin(('AD', 'CN'))].reset_index(drop=True)\n",
    "metadata.head()"
   ]
  },
  {
   "cell_type": "code",
   "execution_count": 27,
   "metadata": {},
   "outputs": [
    {
     "data": {
      "text/plain": [
       "'data/sub-ADNI100S0015_ses-M36_T1w.nii'"
      ]
     },
     "execution_count": 27,
     "metadata": {},
     "output_type": "execute_result"
    }
   ],
   "source": [
    "metadata.Path[0]"
   ]
  },
  {
   "cell_type": "code",
   "execution_count": 28,
   "metadata": {},
   "outputs": [],
   "source": [
    "fn_img = Path(metadata.Path[1])"
   ]
  },
  {
   "cell_type": "code",
   "execution_count": 36,
   "metadata": {},
   "outputs": [],
   "source": [
    "a = nib.load(data_path/fn_img)"
   ]
  },
  {
   "cell_type": "code",
   "execution_count": 29,
   "metadata": {},
   "outputs": [
    {
     "name": "stderr",
     "output_type": "stream",
     "text": [
      "/home/ashaw/anaconda3/envs/rsna_retro/lib/python3.7/site-packages/ipykernel_launcher.py:1: DeprecationWarning: get_data() is deprecated in favor of get_fdata(), which has a more predictable return type. To obtain get_data() behavior going forward, use numpy.asanyarray(img.dataobj).\n",
      "\n",
      "* deprecated from version: 3.0\n",
      "* Will raise <class 'nibabel.deprecator.ExpiredDeprecationError'> as of version: 5.0\n",
      "  \"\"\"Entry point for launching an IPython kernel.\n"
     ]
    },
    {
     "data": {
      "text/plain": [
       "(160, 192, 192)"
      ]
     },
     "execution_count": 29,
     "metadata": {},
     "output_type": "execute_result"
    }
   ],
   "source": [
    "img = nib.load(data_path/fn_img).get_data()\n",
    "img.shape"
   ]
  },
  {
   "cell_type": "code",
   "execution_count": 32,
   "metadata": {},
   "outputs": [],
   "source": [
    "def norm(data):\n",
    "    data = data / float(np.max(data))\n",
    "    return data"
   ]
  },
  {
   "cell_type": "code",
   "execution_count": 33,
   "metadata": {},
   "outputs": [],
   "source": [
    "def resize(data, target_shape=[96, 128, 128]):\n",
    "    factor = [float(t) / float(s) for t, s in zip(target_shape, data.shape)]\n",
    "    resized = zoom(data, zoom=factor, order=1, prefilter=False)\n",
    "    #print(resized)\n",
    "    return resized"
   ]
  },
  {
   "cell_type": "code",
   "execution_count": 34,
   "metadata": {},
   "outputs": [],
   "source": [
    "n = norm(resize(img))"
   ]
  },
  {
   "cell_type": "code",
   "execution_count": 35,
   "metadata": {},
   "outputs": [
    {
     "data": {
      "text/plain": [
       "<matplotlib.image.AxesImage at 0x7f89922cec10>"
      ]
     },
     "execution_count": 35,
     "metadata": {},
     "output_type": "execute_result"
    },
    {
     "data": {
      "image/png": "[encoded data removed]",
      "text/plain": [
       "<Figure size 432x288 with 1 Axes>"
      ]
     },
     "metadata": {
      "needs_background": "light"
     },
     "output_type": "display_data"
    }
   ],
   "source": [
    "plt.imshow(n[50])"
   ]
  },
  {
   "cell_type": "code",
   "execution_count": 44,
   "metadata": {},
   "outputs": [],
   "source": [
    "#export\n",
    "class TfmSOP:\n",
    "    def __init__(self,df):\n",
    "        store_attr(self, 'df')\n",
    "    \n",
    "    def x(self, idx):\n",
    "        fn_img = Path(metadata.Path[idx])\n",
    "        img = img = nib.load(data_path/fn_img).get_data()\n",
    "        img_n = norm(resize(img))\n",
    "        return torch.from_numpy(img_n)\n",
    "    \n",
    "    def y(self, idx): \n",
    "        return int(metadata.Label[idx] == 'AD')"
   ]
  },
  {
   "cell_type": "code",
   "execution_count": 45,
   "metadata": {},
   "outputs": [],
   "source": [
    "tsop = TfmSOP(metadata)"
   ]
  },
  {
   "cell_type": "code",
   "execution_count": 46,
   "metadata": {},
   "outputs": [
    {
     "name": "stderr",
     "output_type": "stream",
     "text": [
      "/home/ashaw/anaconda3/envs/rsna_retro/lib/python3.7/site-packages/ipykernel_launcher.py:8: DeprecationWarning: get_data() is deprecated in favor of get_fdata(), which has a more predictable return type. To obtain get_data() behavior going forward, use numpy.asanyarray(img.dataobj).\n",
      "\n",
      "* deprecated from version: 3.0\n",
      "* Will raise <class 'nibabel.deprecator.ExpiredDeprecationError'> as of version: 5.0\n",
      "  \n"
     ]
    }
   ],
   "source": [
    "tfms = [[tsop.x],[tsop.y]]\n",
    "dsets = Datasets(range(metadata.shape[0]), tfms, splits=RandomSplitter()(range(metadata.shape[0])))"
   ]
  },
  {
   "cell_type": "code",
   "execution_count": 51,
   "metadata": {},
   "outputs": [],
   "source": [
    "#export\n",
    "def get_data_gen(fns, bs, img_tfm, splits, sz=None, nw=8, \n",
    "                 batch_xtra=None, after_item=None, with_aug=True, test=False, **kwargs):\n",
    "    tfms = [[tsop.x],[tsop.y]]\n",
    "    dsets = Datasets(range(metadata.shape[0]), tfms, splits=RandomSplitter()(range(metadata.shape[0])))\n",
    "    return dsets.dataloaders(bs=bs, num_workers=nw)"
   ]
  },
  {
   "cell_type": "code",
   "execution_count": null,
   "metadata": {},
   "outputs": [],
   "source": []
  },
  {
   "cell_type": "code",
   "execution_count": null,
   "metadata": {},
   "outputs": [],
   "source": [
    "a = get_data_gen()"
   ]
  },
  {
   "cell_type": "code",
   "execution_count": 48,
   "metadata": {},
   "outputs": [],
   "source": [
    "def preprocess_data(first_class, second_class, results_folder,\n",
    "                 num_epochs=70, batchsize=3):\n",
    "    \"\"\"Iterate minibatches on train subset.\n",
    "\n",
    "    Parameters\n",
    "    ----------\n",
    "    first_class : {'AD', 'LMCI', 'EMCI', 'Normal'}\n",
    "        String label for target == 0.\n",
    "    second_class : {'AD', 'LMCI', 'EMCI', 'Normal'}\n",
    "        String label for target == 1.\n",
    "    results_folder : string\n",
    "        Folder to store results.\n",
    "    num_epochs : integer\n",
    "        Number of epochs for all of the experiments. Default is 70.\n",
    "    batchsize : integer\n",
    "        Batchsize for network training. Default is 3.\n",
    "    \"\"\"\n",
    "    \n",
    "    if first_class not in {'AD', 'LMCI', 'EMCI', 'Normal', 'CN'}:\n",
    "        msg = \"First class must be 'AD', 'LMCI', 'EMCI', 'CN' or 'Normal', not {0}\"\n",
    "        raise ValueError(msg.format(first_class))\n",
    "    \n",
    "    if second_class not in {'AD', 'LMCI', 'EMCI', 'Normal', 'CN'}:\n",
    "        msg = \"Second class must be 'AD', 'LMCI', 'EMCI', 'CN' or 'Normal', not {0}\"\n",
    "        raise ValueError(msg.format(second_class))\n",
    "        \n",
    "    if first_class == second_class:\n",
    "        raise ValueError(\"Class labels should be different\")\n",
    "        \n",
    "    if not os.path.exists(results_folder):\n",
    "        os.makedirs(results_folder)\n",
    "    \n",
    "    metadata = pd.read_csv('data/metadata.csv')\n",
    "    smc_mask = ((metadata.Label == first_class) |\n",
    "                (metadata.Label == second_class)).values.astype('bool')\n",
    "\n",
    "    data = np.zeros((smc_mask.sum(), 1, 110, 110, 110), dtype='float32')\n",
    "    \n",
    "    for it, im in tqdm(enumerate(metadata[smc_mask].Path.values),\n",
    "                       total=smc_mask.sum(), desc='Reading MRI to memory'):\n",
    "        img = nib.load(im).get_data()\n",
    "        mx = img.max(axis=0).max(axis=0).max(axis=0) \n",
    "        #print(np.array(resize(img)) / mx)\n",
    "        data[it, 0, :, :, :] = np.array(resize(img,target_shape=[110, 110, 110])) / mx\n",
    "\n",
    "    target = (metadata[smc_mask].Label == second_class).values.astype('int32')\n",
    "    return data,target\n"
   ]
  },
  {
   "cell_type": "code",
   "execution_count": null,
   "metadata": {},
   "outputs": [],
   "source": [
    "def resize(data, target_shape=[96, 112, 96]):\n",
    "    factor = [float(t) / float(s) for t, s in zip(target_shape, data.shape)]\n",
    "    resized = zoom(data, zoom=factor, order=1, prefilter=False)\n",
    "    #print(resized)\n",
    "    return resized"
   ]
  }
 ],
 "metadata": {
  "kernelspec": {
   "display_name": "Python 3",
   "language": "python",
   "name": "python3"
  },
  "language_info": {
   "codemirror_mode": {
    "name": "ipython",
    "version": 3
   },
   "file_extension": ".py",
   "mimetype": "text/x-python",
   "name": "python",
   "nbconvert_exporter": "python",
   "pygments_lexer": "ipython3",
   "version": "3.7.6"
  }
 },
 "nbformat": 4,
 "nbformat_minor": 4
}

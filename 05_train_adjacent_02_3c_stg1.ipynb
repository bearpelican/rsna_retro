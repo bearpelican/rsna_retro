{
 "cells": [
  {
   "cell_type": "code",
   "execution_count": 1,
   "metadata": {},
   "outputs": [
    {
     "name": "stdout",
     "output_type": "stream",
     "text": [
      "Loading imports\n",
      "Warning: Your Kaggle API key is readable by other users on this system! To fix this, you can run 'chmod 600 /home/ashaw/.kaggle/kaggle.json'\n"
     ]
    }
   ],
   "source": [
    "from rsna_retro.imports import *\n",
    "from rsna_retro.metadata import *\n",
    "from rsna_retro.preprocess import *\n",
    "from rsna_retro.train import *\n",
    "# from rsna_retro.train3d import *\n",
    "from rsna_retro.train_adjacent import *"
   ]
  },
  {
   "cell_type": "code",
   "execution_count": 2,
   "metadata": {},
   "outputs": [],
   "source": [
    "torch.cuda.set_device(4)"
   ]
  },
  {
   "cell_type": "markdown",
   "metadata": {},
   "source": [
    "## Train"
   ]
  },
  {
   "cell_type": "code",
   "execution_count": 3,
   "metadata": {},
   "outputs": [],
   "source": [
    "name = 'train_adjacent_3c_stg1'"
   ]
  },
  {
   "cell_type": "code",
   "execution_count": 5,
   "metadata": {},
   "outputs": [],
   "source": [
    "# dbunch = get_data_gen(Meta.df_any, Meta.grps_any, 512, sz=128, c3=True)\n",
    "dbunch = get_adj_data(512, 128, Meta.splits_stg1, c3=True)\n",
    "learn = get_learner(dbunch, xresnet18, pretrained=True)"
   ]
  },
  {
   "cell_type": "code",
   "execution_count": 6,
   "metadata": {},
   "outputs": [
    {
     "data": {
      "text/html": [
       "<table border=\"1\" class=\"dataframe\">\n",
       "  <thead>\n",
       "    <tr style=\"text-align: left;\">\n",
       "      <th>epoch</th>\n",
       "      <th>train_loss</th>\n",
       "      <th>valid_loss</th>\n",
       "      <th>accuracy_multi</th>\n",
       "      <th>accuracy_any</th>\n",
       "      <th>time</th>\n",
       "    </tr>\n",
       "  </thead>\n",
       "  <tbody>\n",
       "    <tr>\n",
       "      <td>0</td>\n",
       "      <td>0.125282</td>\n",
       "      <td>0.141481</td>\n",
       "      <td>0.957712</td>\n",
       "      <td>0.914355</td>\n",
       "      <td>18:41</td>\n",
       "    </tr>\n",
       "    <tr>\n",
       "      <td>1</td>\n",
       "      <td>0.111421</td>\n",
       "      <td>0.237592</td>\n",
       "      <td>0.957630</td>\n",
       "      <td>0.900452</td>\n",
       "      <td>18:40</td>\n",
       "    </tr>\n",
       "    <tr>\n",
       "      <td>2</td>\n",
       "      <td>0.104922</td>\n",
       "      <td>0.125289</td>\n",
       "      <td>0.965062</td>\n",
       "      <td>0.927710</td>\n",
       "      <td>19:02</td>\n",
       "    </tr>\n",
       "    <tr>\n",
       "      <td>3</td>\n",
       "      <td>0.098921</td>\n",
       "      <td>0.114152</td>\n",
       "      <td>0.966230</td>\n",
       "      <td>0.929836</td>\n",
       "      <td>18:07</td>\n",
       "    </tr>\n",
       "    <tr>\n",
       "      <td>4</td>\n",
       "      <td>0.097587</td>\n",
       "      <td>0.128028</td>\n",
       "      <td>0.958612</td>\n",
       "      <td>0.915437</td>\n",
       "      <td>19:24</td>\n",
       "    </tr>\n",
       "    <tr>\n",
       "      <td>5</td>\n",
       "      <td>0.093545</td>\n",
       "      <td>0.113408</td>\n",
       "      <td>0.968103</td>\n",
       "      <td>0.932446</td>\n",
       "      <td>20:15</td>\n",
       "    </tr>\n",
       "    <tr>\n",
       "      <td>6</td>\n",
       "      <td>0.090407</td>\n",
       "      <td>0.095987</td>\n",
       "      <td>0.970768</td>\n",
       "      <td>0.939423</td>\n",
       "      <td>17:34</td>\n",
       "    </tr>\n",
       "    <tr>\n",
       "      <td>7</td>\n",
       "      <td>0.083406</td>\n",
       "      <td>0.096445</td>\n",
       "      <td>0.971112</td>\n",
       "      <td>0.940149</td>\n",
       "      <td>17:51</td>\n",
       "    </tr>\n",
       "    <tr>\n",
       "      <td>8</td>\n",
       "      <td>0.078789</td>\n",
       "      <td>0.091916</td>\n",
       "      <td>0.972371</td>\n",
       "      <td>0.943408</td>\n",
       "      <td>17:32</td>\n",
       "    </tr>\n",
       "    <tr>\n",
       "      <td>9</td>\n",
       "      <td>0.074532</td>\n",
       "      <td>0.087165</td>\n",
       "      <td>0.974286</td>\n",
       "      <td>0.948119</td>\n",
       "      <td>17:36</td>\n",
       "    </tr>\n",
       "    <tr>\n",
       "      <td>10</td>\n",
       "      <td>0.069834</td>\n",
       "      <td>0.082530</td>\n",
       "      <td>0.974641</td>\n",
       "      <td>0.948615</td>\n",
       "      <td>16:52</td>\n",
       "    </tr>\n",
       "    <tr>\n",
       "      <td>11</td>\n",
       "      <td>0.065800</td>\n",
       "      <td>0.081368</td>\n",
       "      <td>0.974959</td>\n",
       "      <td>0.949901</td>\n",
       "      <td>15:51</td>\n",
       "    </tr>\n",
       "  </tbody>\n",
       "</table>"
      ],
      "text/plain": [
       "<IPython.core.display.HTML object>"
      ]
     },
     "metadata": {},
     "output_type": "display_data"
    }
   ],
   "source": [
    "do_fit(learn, 12, 4e-2)\n",
    "learn.save(f'runs/{name}-1')"
   ]
  },
  {
   "cell_type": "code",
   "execution_count": 7,
   "metadata": {},
   "outputs": [
    {
     "ename": "SyntaxError",
     "evalue": "positional argument follows keyword argument (<ipython-input-7-19f28938f99c>, line 1)",
     "output_type": "error",
     "traceback": [
      "\u001b[0;36m  File \u001b[0;32m\"<ipython-input-7-19f28938f99c>\"\u001b[0;36m, line \u001b[0;32m1\u001b[0m\n\u001b[0;31m    learn.dbunch = get_adj_data(512, sz=256, Meta.splits_stg1, c3=True)\u001b[0m\n\u001b[0m                                            ^\u001b[0m\n\u001b[0;31mSyntaxError\u001b[0m\u001b[0;31m:\u001b[0m positional argument follows keyword argument\n"
     ]
    }
   ],
   "source": [
    "learn.load(f'runs/{name}-1')\n",
    "learn.dbunch = get_adj_data(512, 256, Meta.splits_stg1, c3=True)\n",
    "do_fit(learn, 12, 4e-3)\n",
    "learn.save(f'runs/{name}-2')"
   ]
  },
  {
   "cell_type": "code",
   "execution_count": null,
   "metadata": {},
   "outputs": [],
   "source": [
    "learn.dbunch = get_adj_data(256, sz=384, Meta.splits_stg1, c3=True)\n",
    "do_fit(learn, 4, 4e-4)\n",
    "learn.save(f'runs/{name}-3')"
   ]
  },
  {
   "cell_type": "markdown",
   "metadata": {},
   "source": [
    "## Submission"
   ]
  },
  {
   "cell_type": "code",
   "execution_count": 7,
   "metadata": {},
   "outputs": [],
   "source": [
    "learn.load(f'runs/{name}-3-full')\n",
    "sub_fn = f'subm/{name}'"
   ]
  },
  {
   "cell_type": "code",
   "execution_count": 8,
   "metadata": {},
   "outputs": [],
   "source": [
    "# learn.dbunch = get_data_gen(Meta.df_tst, bs=512, sz=None, with_aug=False, tst_dir='tst_jpg256')\n",
    "learn.dbunch = get_adj_test_data(512, sz=None, tst_dir='tst_jpg256', c3=True)"
   ]
  },
  {
   "cell_type": "code",
   "execution_count": 9,
   "metadata": {},
   "outputs": [
    {
     "data": {
      "text/html": [],
      "text/plain": [
       "<IPython.core.display.HTML object>"
      ]
     },
     "metadata": {},
     "output_type": "display_data"
    }
   ],
   "source": [
    "preds,targs = learn.get_preds()"
   ]
  },
  {
   "cell_type": "code",
   "execution_count": 10,
   "metadata": {},
   "outputs": [],
   "source": [
    "pred_csv = submission(Meta.df_tst, preds, fn=sub_fn)"
   ]
  },
  {
   "cell_type": "code",
   "execution_count": 11,
   "metadata": {},
   "outputs": [
    {
     "name": "stderr",
     "output_type": "stream",
     "text": [
      "100%|██████████| 26.0M/26.0M [00:03<00:00, 8.99MB/s]\n"
     ]
    },
    {
     "data": {
      "text/plain": [
       "Successfully submitted to RSNA Intracranial Hemorrhage Detection"
      ]
     },
     "execution_count": 11,
     "metadata": {},
     "output_type": "execute_result"
    }
   ],
   "source": [
    "api.competition_submit(f'{sub_fn}.csv', f'{name} adjacent 3c', 'rsna-intracranial-hemorrhage-detection')"
   ]
  },
  {
   "cell_type": "code",
   "execution_count": 17,
   "metadata": {},
   "outputs": [
    {
     "data": {
      "text/plain": [
       "{'ref': 14244564,\n",
       " 'totalBytes': 27277209,\n",
       " 'date': '2020-01-21T07:12:15.983Z',\n",
       " 'description': 'train_adjacent_3c adjacent 3c',\n",
       " 'errorDescription': None,\n",
       " 'fileName': 'train_adjacent_3c.csv',\n",
       " 'publicScore': '0.32314',\n",
       " 'privateScore': '0.07443',\n",
       " 'status': 'complete',\n",
       " 'submittedBy': 'Andrew Shaw',\n",
       " 'submittedByRef': 'bearpelican',\n",
       " 'teamName': 'Andrew Shaw',\n",
       " 'type': 'standard',\n",
       " 'url': 'https://www.kaggle.com/submissions/14244564/14244564.raw'}"
      ]
     },
     "execution_count": 17,
     "metadata": {},
     "output_type": "execute_result"
    }
   ],
   "source": [
    "api.competitions_submissions_list('rsna-intracranial-hemorrhage-detection')[0]"
   ]
  }
 ],
 "metadata": {
  "kernelspec": {
   "display_name": "Python 3",
   "language": "python",
   "name": "python3"
  },
  "language_info": {
   "codemirror_mode": {
    "name": "ipython",
    "version": 3
   },
   "file_extension": ".py",
   "mimetype": "text/x-python",
   "name": "python",
   "nbconvert_exporter": "python",
   "pygments_lexer": "ipython3",
   "version": "3.7.6"
  }
 },
 "nbformat": 4,
 "nbformat_minor": 2
}

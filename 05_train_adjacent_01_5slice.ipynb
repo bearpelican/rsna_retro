{
 "cells": [
  {
   "cell_type": "code",
   "execution_count": 1,
   "metadata": {},
   "outputs": [
    {
     "name": "stdout",
     "output_type": "stream",
     "text": [
      "Loading imports\n",
      "Warning: Your Kaggle API key is readable by other users on this system! To fix this, you can run 'chmod 600 /home/ashaw/.kaggle/kaggle.json'\n"
     ]
    }
   ],
   "source": [
    "from rsna_retro.imports import *\n",
    "from rsna_retro.metadata import *\n",
    "from rsna_retro.preprocess import *\n",
    "from rsna_retro.train import *\n",
    "# from rsna_retro.train3d import *\n",
    "from rsna_retro.train_adjacent import *"
   ]
  },
  {
   "cell_type": "code",
   "execution_count": 2,
   "metadata": {},
   "outputs": [],
   "source": [
    "torch.cuda.set_device(4)"
   ]
  },
  {
   "cell_type": "markdown",
   "metadata": {},
   "source": [
    "## Train"
   ]
  },
  {
   "cell_type": "code",
   "execution_count": 3,
   "metadata": {},
   "outputs": [],
   "source": [
    "name = 'train_adjacent_5slice'"
   ]
  },
  {
   "cell_type": "code",
   "execution_count": 4,
   "metadata": {},
   "outputs": [],
   "source": [
    "dbunch = get_adj_data(512, 128, Meta.splits_stg1, num_adj=2)\n",
    "learn = get_learner(dbunch, partial(xresnet18, c_in=5))"
   ]
  },
  {
   "cell_type": "code",
   "execution_count": 5,
   "metadata": {},
   "outputs": [
    {
     "data": {
      "text/html": [
       "<table border=\"1\" class=\"dataframe\">\n",
       "  <thead>\n",
       "    <tr style=\"text-align: left;\">\n",
       "      <th>epoch</th>\n",
       "      <th>train_loss</th>\n",
       "      <th>valid_loss</th>\n",
       "      <th>accuracy_multi</th>\n",
       "      <th>accuracy_any</th>\n",
       "      <th>time</th>\n",
       "    </tr>\n",
       "  </thead>\n",
       "  <tbody>\n",
       "    <tr>\n",
       "      <td>0</td>\n",
       "      <td>0.134521</td>\n",
       "      <td>0.186452</td>\n",
       "      <td>0.954977</td>\n",
       "      <td>0.900567</td>\n",
       "      <td>22:08</td>\n",
       "    </tr>\n",
       "    <tr>\n",
       "      <td>1</td>\n",
       "      <td>0.118813</td>\n",
       "      <td>0.200285</td>\n",
       "      <td>0.951811</td>\n",
       "      <td>0.882500</td>\n",
       "      <td>22:16</td>\n",
       "    </tr>\n",
       "    <tr>\n",
       "      <td>2</td>\n",
       "      <td>0.111451</td>\n",
       "      <td>0.116762</td>\n",
       "      <td>0.965285</td>\n",
       "      <td>0.927697</td>\n",
       "      <td>22:15</td>\n",
       "    </tr>\n",
       "    <tr>\n",
       "      <td>3</td>\n",
       "      <td>0.104367</td>\n",
       "      <td>0.122914</td>\n",
       "      <td>0.965084</td>\n",
       "      <td>0.926488</td>\n",
       "      <td>22:08</td>\n",
       "    </tr>\n",
       "    <tr>\n",
       "      <td>4</td>\n",
       "      <td>0.099635</td>\n",
       "      <td>0.110994</td>\n",
       "      <td>0.967174</td>\n",
       "      <td>0.932676</td>\n",
       "      <td>22:13</td>\n",
       "    </tr>\n",
       "    <tr>\n",
       "      <td>5</td>\n",
       "      <td>0.094237</td>\n",
       "      <td>0.103127</td>\n",
       "      <td>0.969122</td>\n",
       "      <td>0.935476</td>\n",
       "      <td>22:05</td>\n",
       "    </tr>\n",
       "    <tr>\n",
       "      <td>6</td>\n",
       "      <td>0.092475</td>\n",
       "      <td>0.100161</td>\n",
       "      <td>0.970053</td>\n",
       "      <td>0.937934</td>\n",
       "      <td>22:13</td>\n",
       "    </tr>\n",
       "    <tr>\n",
       "      <td>7</td>\n",
       "      <td>0.086409</td>\n",
       "      <td>0.096351</td>\n",
       "      <td>0.970546</td>\n",
       "      <td>0.938990</td>\n",
       "      <td>22:17</td>\n",
       "    </tr>\n",
       "    <tr>\n",
       "      <td>8</td>\n",
       "      <td>0.080964</td>\n",
       "      <td>0.095626</td>\n",
       "      <td>0.970872</td>\n",
       "      <td>0.940747</td>\n",
       "      <td>22:10</td>\n",
       "    </tr>\n",
       "    <tr>\n",
       "      <td>9</td>\n",
       "      <td>0.074496</td>\n",
       "      <td>0.086817</td>\n",
       "      <td>0.973605</td>\n",
       "      <td>0.946629</td>\n",
       "      <td>21:34</td>\n",
       "    </tr>\n",
       "    <tr>\n",
       "      <td>10</td>\n",
       "      <td>0.071260</td>\n",
       "      <td>0.083784</td>\n",
       "      <td>0.974301</td>\n",
       "      <td>0.948399</td>\n",
       "      <td>21:33</td>\n",
       "    </tr>\n",
       "    <tr>\n",
       "      <td>11</td>\n",
       "      <td>0.068943</td>\n",
       "      <td>0.083154</td>\n",
       "      <td>0.974564</td>\n",
       "      <td>0.948463</td>\n",
       "      <td>21:45</td>\n",
       "    </tr>\n",
       "  </tbody>\n",
       "</table>"
      ],
      "text/plain": [
       "<IPython.core.display.HTML object>"
      ]
     },
     "metadata": {},
     "output_type": "display_data"
    }
   ],
   "source": [
    "do_fit(learn, 12, 4e-2)\n",
    "learn.save(f'runs/{name}-1')"
   ]
  },
  {
   "cell_type": "code",
   "execution_count": 6,
   "metadata": {},
   "outputs": [
    {
     "data": {
      "text/html": [
       "<table border=\"1\" class=\"dataframe\">\n",
       "  <thead>\n",
       "    <tr style=\"text-align: left;\">\n",
       "      <th>epoch</th>\n",
       "      <th>train_loss</th>\n",
       "      <th>valid_loss</th>\n",
       "      <th>accuracy_multi</th>\n",
       "      <th>accuracy_any</th>\n",
       "      <th>time</th>\n",
       "    </tr>\n",
       "  </thead>\n",
       "  <tbody>\n",
       "    <tr>\n",
       "      <td>0</td>\n",
       "      <td>0.080543</td>\n",
       "      <td>0.092562</td>\n",
       "      <td>0.971706</td>\n",
       "      <td>0.942772</td>\n",
       "      <td>21:51</td>\n",
       "    </tr>\n",
       "    <tr>\n",
       "      <td>1</td>\n",
       "      <td>0.076271</td>\n",
       "      <td>0.086233</td>\n",
       "      <td>0.973523</td>\n",
       "      <td>0.947011</td>\n",
       "      <td>21:56</td>\n",
       "    </tr>\n",
       "    <tr>\n",
       "      <td>2</td>\n",
       "      <td>0.074624</td>\n",
       "      <td>0.085056</td>\n",
       "      <td>0.973141</td>\n",
       "      <td>0.945929</td>\n",
       "      <td>21:51</td>\n",
       "    </tr>\n",
       "    <tr>\n",
       "      <td>3</td>\n",
       "      <td>0.073481</td>\n",
       "      <td>0.082197</td>\n",
       "      <td>0.974478</td>\n",
       "      <td>0.949443</td>\n",
       "      <td>22:03</td>\n",
       "    </tr>\n",
       "    <tr>\n",
       "      <td>4</td>\n",
       "      <td>0.069635</td>\n",
       "      <td>0.083229</td>\n",
       "      <td>0.974824</td>\n",
       "      <td>0.950029</td>\n",
       "      <td>22:04</td>\n",
       "    </tr>\n",
       "    <tr>\n",
       "      <td>5</td>\n",
       "      <td>0.068641</td>\n",
       "      <td>0.080364</td>\n",
       "      <td>0.975008</td>\n",
       "      <td>0.950258</td>\n",
       "      <td>21:43</td>\n",
       "    </tr>\n",
       "    <tr>\n",
       "      <td>6</td>\n",
       "      <td>0.065503</td>\n",
       "      <td>0.077854</td>\n",
       "      <td>0.975721</td>\n",
       "      <td>0.952282</td>\n",
       "      <td>21:39</td>\n",
       "    </tr>\n",
       "    <tr>\n",
       "      <td>7</td>\n",
       "      <td>0.063969</td>\n",
       "      <td>0.078598</td>\n",
       "      <td>0.975712</td>\n",
       "      <td>0.952588</td>\n",
       "      <td>22:14</td>\n",
       "    </tr>\n",
       "    <tr>\n",
       "      <td>8</td>\n",
       "      <td>0.060533</td>\n",
       "      <td>0.080197</td>\n",
       "      <td>0.976292</td>\n",
       "      <td>0.953110</td>\n",
       "      <td>21:51</td>\n",
       "    </tr>\n",
       "    <tr>\n",
       "      <td>9</td>\n",
       "      <td>0.054940</td>\n",
       "      <td>0.079564</td>\n",
       "      <td>0.976551</td>\n",
       "      <td>0.953670</td>\n",
       "      <td>22:04</td>\n",
       "    </tr>\n",
       "    <tr>\n",
       "      <td>10</td>\n",
       "      <td>0.053923</td>\n",
       "      <td>0.079604</td>\n",
       "      <td>0.976693</td>\n",
       "      <td>0.954268</td>\n",
       "      <td>21:52</td>\n",
       "    </tr>\n",
       "    <tr>\n",
       "      <td>11</td>\n",
       "      <td>0.052764</td>\n",
       "      <td>0.079509</td>\n",
       "      <td>0.976727</td>\n",
       "      <td>0.954154</td>\n",
       "      <td>21:37</td>\n",
       "    </tr>\n",
       "  </tbody>\n",
       "</table>"
      ],
      "text/plain": [
       "<IPython.core.display.HTML object>"
      ]
     },
     "metadata": {},
     "output_type": "display_data"
    }
   ],
   "source": [
    "learn.dbunch = get_adj_data(512, 256, Meta.splits_stg1, num_adj=2)\n",
    "do_fit(learn, 12, 4e-3)\n",
    "learn.save(f'runs/{name}-2')"
   ]
  },
  {
   "cell_type": "code",
   "execution_count": 7,
   "metadata": {},
   "outputs": [
    {
     "data": {
      "text/html": [
       "<table border=\"1\" class=\"dataframe\">\n",
       "  <thead>\n",
       "    <tr style=\"text-align: left;\">\n",
       "      <th>epoch</th>\n",
       "      <th>train_loss</th>\n",
       "      <th>valid_loss</th>\n",
       "      <th>accuracy_multi</th>\n",
       "      <th>accuracy_any</th>\n",
       "      <th>time</th>\n",
       "    </tr>\n",
       "  </thead>\n",
       "  <tbody>\n",
       "    <tr>\n",
       "      <td>0</td>\n",
       "      <td>0.065313</td>\n",
       "      <td>0.076063</td>\n",
       "      <td>0.976158</td>\n",
       "      <td>0.953492</td>\n",
       "      <td>51:20</td>\n",
       "    </tr>\n",
       "    <tr>\n",
       "      <td>1</td>\n",
       "      <td>0.057907</td>\n",
       "      <td>0.078051</td>\n",
       "      <td>0.976754</td>\n",
       "      <td>0.953593</td>\n",
       "      <td>51:40</td>\n",
       "    </tr>\n",
       "    <tr>\n",
       "      <td>2</td>\n",
       "      <td>0.053618</td>\n",
       "      <td>0.074203</td>\n",
       "      <td>0.977340</td>\n",
       "      <td>0.955236</td>\n",
       "      <td>52:47</td>\n",
       "    </tr>\n",
       "    <tr>\n",
       "      <td>3</td>\n",
       "      <td>0.054038</td>\n",
       "      <td>0.074516</td>\n",
       "      <td>0.977312</td>\n",
       "      <td>0.954994</td>\n",
       "      <td>53:27</td>\n",
       "    </tr>\n",
       "  </tbody>\n",
       "</table>"
      ],
      "text/plain": [
       "<IPython.core.display.HTML object>"
      ]
     },
     "metadata": {},
     "output_type": "display_data"
    }
   ],
   "source": [
    "learn.dbunch = get_adj_data(256, 384, Meta.splits_stg1, num_adj=2, img_dir=path_jpg)\n",
    "do_fit(learn, 4, 4e-4)\n",
    "learn.save(f'runs/{name}-3')"
   ]
  },
  {
   "cell_type": "markdown",
   "metadata": {},
   "source": [
    "## Submission"
   ]
  },
  {
   "cell_type": "code",
   "execution_count": 5,
   "metadata": {},
   "outputs": [],
   "source": [
    "learn.load(f'runs/{name}-3')\n",
    "sub_fn = f'subm/{name}'"
   ]
  },
  {
   "cell_type": "code",
   "execution_count": 6,
   "metadata": {},
   "outputs": [],
   "source": [
    "# learn.dbunch = get_data_gen(Meta.df_tst, bs=512, sz=None, with_aug=False, tst_dir='tst_jpg256')\n",
    "learn.dbunch = get_adj_test_data(256, sz=384, tst_dir='tst_jpg', num_adj=2)"
   ]
  },
  {
   "cell_type": "code",
   "execution_count": 7,
   "metadata": {
    "scrolled": true
   },
   "outputs": [
    {
     "data": {
      "text/html": [],
      "text/plain": [
       "<IPython.core.display.HTML object>"
      ]
     },
     "metadata": {},
     "output_type": "display_data"
    }
   ],
   "source": [
    "preds,targs = learn.get_preds()"
   ]
  },
  {
   "cell_type": "code",
   "execution_count": 8,
   "metadata": {},
   "outputs": [],
   "source": [
    "pred_csv = submission(Meta.df_tst, preds, fn=sub_fn)"
   ]
  },
  {
   "cell_type": "code",
   "execution_count": 9,
   "metadata": {},
   "outputs": [
    {
     "name": "stderr",
     "output_type": "stream",
     "text": [
      "100%|██████████| 26.0M/26.0M [00:02<00:00, 9.87MB/s]\n"
     ]
    },
    {
     "data": {
      "text/plain": [
       "Successfully submitted to RSNA Intracranial Hemorrhage Detection"
      ]
     },
     "execution_count": 9,
     "metadata": {},
     "output_type": "execute_result"
    }
   ],
   "source": [
    "api.competition_submit(f'{sub_fn}.csv', f'{name} adjacent 5c', 'rsna-intracranial-hemorrhage-detection')"
   ]
  },
  {
   "cell_type": "code",
   "execution_count": 10,
   "metadata": {},
   "outputs": [
    {
     "data": {
      "text/plain": [
       "{'ref': 14277700,\n",
       " 'totalBytes': 27277209,\n",
       " 'date': '2020-01-24T00:32:08.123Z',\n",
       " 'description': 'train_adjacent_5slice adjacent 5c',\n",
       " 'errorDescription': None,\n",
       " 'fileName': 'train_adjacent_5slice.csv',\n",
       " 'publicScore': '0.55114',\n",
       " 'privateScore': '0.05921',\n",
       " 'status': 'complete',\n",
       " 'submittedBy': 'Andrew Shaw',\n",
       " 'submittedByRef': 'bearpelican',\n",
       " 'teamName': 'Andrew Shaw',\n",
       " 'type': 'standard',\n",
       " 'url': 'https://www.kaggle.com/submissions/14277700/14277700.raw'}"
      ]
     },
     "execution_count": 10,
     "metadata": {},
     "output_type": "execute_result"
    }
   ],
   "source": [
    "api.competitions_submissions_list('rsna-intracranial-hemorrhage-detection')[0]"
   ]
  }
 ],
 "metadata": {
  "kernelspec": {
   "display_name": "Python 3",
   "language": "python",
   "name": "python3"
  },
  "language_info": {
   "codemirror_mode": {
    "name": "ipython",
    "version": 3
   },
   "file_extension": ".py",
   "mimetype": "text/x-python",
   "name": "python",
   "nbconvert_exporter": "python",
   "pygments_lexer": "ipython3",
   "version": "3.7.6"
  }
 },
 "nbformat": 4,
 "nbformat_minor": 2
}

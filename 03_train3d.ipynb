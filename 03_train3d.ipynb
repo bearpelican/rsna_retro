{
 "cells": [
  {
   "cell_type": "code",
   "execution_count": 1,
   "metadata": {},
   "outputs": [],
   "source": [
    "#default_exp train3d"
   ]
  },
  {
   "cell_type": "code",
   "execution_count": 2,
   "metadata": {},
   "outputs": [
    {
     "name": "stdout",
     "output_type": "stream",
     "text": [
      "Loading imports\n",
      "Warning: Your Kaggle API key is readable by other users on this system! To fix this, you can run 'chmod 600 /home/ashaw/.kaggle/kaggle.json'\n"
     ]
    }
   ],
   "source": [
    "#export\n",
    "from rsna_retro.imports import *\n",
    "from rsna_retro.metadata import *\n",
    "from rsna_retro.preprocess import *\n",
    "from rsna_retro.train import *"
   ]
  },
  {
   "cell_type": "code",
   "execution_count": 3,
   "metadata": {},
   "outputs": [],
   "source": [
    "torch.cuda.set_device(5)"
   ]
  },
  {
   "cell_type": "code",
   "execution_count": 4,
   "metadata": {
    "scrolled": true
   },
   "outputs": [
    {
     "data": {
      "text/html": [
       "<div>\n",
       "<style scoped>\n",
       "    .dataframe tbody tr th:only-of-type {\n",
       "        vertical-align: middle;\n",
       "    }\n",
       "\n",
       "    .dataframe tbody tr th {\n",
       "        vertical-align: top;\n",
       "    }\n",
       "\n",
       "    .dataframe thead th {\n",
       "        text-align: right;\n",
       "    }\n",
       "</style>\n",
       "<table border=\"1\" class=\"dataframe\">\n",
       "  <thead>\n",
       "    <tr style=\"text-align: right;\">\n",
       "      <th></th>\n",
       "      <th>Modality</th>\n",
       "      <th>PatientID</th>\n",
       "      <th>StudyInstanceUID</th>\n",
       "      <th>SeriesInstanceUID</th>\n",
       "      <th>StudyID</th>\n",
       "      <th>ImagePositionPatient</th>\n",
       "      <th>ImageOrientationPatient</th>\n",
       "      <th>SamplesPerPixel</th>\n",
       "      <th>PhotometricInterpretation</th>\n",
       "      <th>Rows</th>\n",
       "      <th>...</th>\n",
       "      <th>MultiWindowCenter</th>\n",
       "      <th>WindowCenter1</th>\n",
       "      <th>MultiWindowWidth</th>\n",
       "      <th>WindowWidth1</th>\n",
       "      <th>any</th>\n",
       "      <th>epidural</th>\n",
       "      <th>intraparenchymal</th>\n",
       "      <th>intraventricular</th>\n",
       "      <th>subarachnoid</th>\n",
       "      <th>subdural</th>\n",
       "    </tr>\n",
       "    <tr>\n",
       "      <th>SOPInstanceUID</th>\n",
       "      <th></th>\n",
       "      <th></th>\n",
       "      <th></th>\n",
       "      <th></th>\n",
       "      <th></th>\n",
       "      <th></th>\n",
       "      <th></th>\n",
       "      <th></th>\n",
       "      <th></th>\n",
       "      <th></th>\n",
       "      <th></th>\n",
       "      <th></th>\n",
       "      <th></th>\n",
       "      <th></th>\n",
       "      <th></th>\n",
       "      <th></th>\n",
       "      <th></th>\n",
       "      <th></th>\n",
       "      <th></th>\n",
       "      <th></th>\n",
       "      <th></th>\n",
       "    </tr>\n",
       "  </thead>\n",
       "  <tbody>\n",
       "    <tr>\n",
       "      <th>ID_2a8702d25</th>\n",
       "      <td>CT</td>\n",
       "      <td>ID_ff137633</td>\n",
       "      <td>ID_d17053848c</td>\n",
       "      <td>ID_7098f7c836</td>\n",
       "      <td></td>\n",
       "      <td>-126.437378</td>\n",
       "      <td>1.0</td>\n",
       "      <td>1</td>\n",
       "      <td>MONOCHROME2</td>\n",
       "      <td>512</td>\n",
       "      <td>...</td>\n",
       "      <td>NaN</td>\n",
       "      <td>NaN</td>\n",
       "      <td>NaN</td>\n",
       "      <td>NaN</td>\n",
       "      <td>1</td>\n",
       "      <td>0</td>\n",
       "      <td>1</td>\n",
       "      <td>1</td>\n",
       "      <td>0</td>\n",
       "      <td>0</td>\n",
       "    </tr>\n",
       "    <tr>\n",
       "      <th>ID_66891ac22</th>\n",
       "      <td>CT</td>\n",
       "      <td>ID_42940b2c</td>\n",
       "      <td>ID_17e33f43d0</td>\n",
       "      <td>ID_e14dd0090b</td>\n",
       "      <td></td>\n",
       "      <td>-125.000000</td>\n",
       "      <td>1.0</td>\n",
       "      <td>1</td>\n",
       "      <td>MONOCHROME2</td>\n",
       "      <td>512</td>\n",
       "      <td>...</td>\n",
       "      <td>NaN</td>\n",
       "      <td>NaN</td>\n",
       "      <td>NaN</td>\n",
       "      <td>NaN</td>\n",
       "      <td>1</td>\n",
       "      <td>0</td>\n",
       "      <td>1</td>\n",
       "      <td>0</td>\n",
       "      <td>0</td>\n",
       "      <td>0</td>\n",
       "    </tr>\n",
       "    <tr>\n",
       "      <th>ID_8e6e5b51f</th>\n",
       "      <td>CT</td>\n",
       "      <td>ID_76fbed32</td>\n",
       "      <td>ID_1d8eaa14ef</td>\n",
       "      <td>ID_e3919709a0</td>\n",
       "      <td></td>\n",
       "      <td>-125.000000</td>\n",
       "      <td>1.0</td>\n",
       "      <td>1</td>\n",
       "      <td>MONOCHROME2</td>\n",
       "      <td>512</td>\n",
       "      <td>...</td>\n",
       "      <td>NaN</td>\n",
       "      <td>NaN</td>\n",
       "      <td>NaN</td>\n",
       "      <td>NaN</td>\n",
       "      <td>1</td>\n",
       "      <td>0</td>\n",
       "      <td>0</td>\n",
       "      <td>0</td>\n",
       "      <td>0</td>\n",
       "      <td>1</td>\n",
       "    </tr>\n",
       "    <tr>\n",
       "      <th>ID_cb8b9b514</th>\n",
       "      <td>CT</td>\n",
       "      <td>ID_20039b63</td>\n",
       "      <td>ID_1cfe3e70dd</td>\n",
       "      <td>ID_e3b5d8d9b8</td>\n",
       "      <td></td>\n",
       "      <td>-125.000000</td>\n",
       "      <td>1.0</td>\n",
       "      <td>1</td>\n",
       "      <td>MONOCHROME2</td>\n",
       "      <td>512</td>\n",
       "      <td>...</td>\n",
       "      <td>NaN</td>\n",
       "      <td>NaN</td>\n",
       "      <td>NaN</td>\n",
       "      <td>NaN</td>\n",
       "      <td>0</td>\n",
       "      <td>0</td>\n",
       "      <td>0</td>\n",
       "      <td>0</td>\n",
       "      <td>0</td>\n",
       "      <td>0</td>\n",
       "    </tr>\n",
       "    <tr>\n",
       "      <th>ID_ee683911f</th>\n",
       "      <td>CT</td>\n",
       "      <td>ID_a065f3ac</td>\n",
       "      <td>ID_9c727ac231</td>\n",
       "      <td>ID_99e83a310d</td>\n",
       "      <td></td>\n",
       "      <td>-125.000000</td>\n",
       "      <td>1.0</td>\n",
       "      <td>1</td>\n",
       "      <td>MONOCHROME2</td>\n",
       "      <td>512</td>\n",
       "      <td>...</td>\n",
       "      <td>1.0</td>\n",
       "      <td>40.0</td>\n",
       "      <td>1.0</td>\n",
       "      <td>80.0</td>\n",
       "      <td>0</td>\n",
       "      <td>0</td>\n",
       "      <td>0</td>\n",
       "      <td>0</td>\n",
       "      <td>0</td>\n",
       "      <td>0</td>\n",
       "    </tr>\n",
       "  </tbody>\n",
       "</table>\n",
       "<p>5 rows × 47 columns</p>\n",
       "</div>"
      ],
      "text/plain": [
       "               Modality    PatientID StudyInstanceUID SeriesInstanceUID  \\\n",
       "SOPInstanceUID                                                            \n",
       "ID_2a8702d25         CT  ID_ff137633    ID_d17053848c     ID_7098f7c836   \n",
       "ID_66891ac22         CT  ID_42940b2c    ID_17e33f43d0     ID_e14dd0090b   \n",
       "ID_8e6e5b51f         CT  ID_76fbed32    ID_1d8eaa14ef     ID_e3919709a0   \n",
       "ID_cb8b9b514         CT  ID_20039b63    ID_1cfe3e70dd     ID_e3b5d8d9b8   \n",
       "ID_ee683911f         CT  ID_a065f3ac    ID_9c727ac231     ID_99e83a310d   \n",
       "\n",
       "               StudyID  ImagePositionPatient  ImageOrientationPatient  \\\n",
       "SOPInstanceUID                                                          \n",
       "ID_2a8702d25                     -126.437378                      1.0   \n",
       "ID_66891ac22                     -125.000000                      1.0   \n",
       "ID_8e6e5b51f                     -125.000000                      1.0   \n",
       "ID_cb8b9b514                     -125.000000                      1.0   \n",
       "ID_ee683911f                     -125.000000                      1.0   \n",
       "\n",
       "                SamplesPerPixel PhotometricInterpretation  Rows  ...  \\\n",
       "SOPInstanceUID                                                   ...   \n",
       "ID_2a8702d25                  1               MONOCHROME2   512  ...   \n",
       "ID_66891ac22                  1               MONOCHROME2   512  ...   \n",
       "ID_8e6e5b51f                  1               MONOCHROME2   512  ...   \n",
       "ID_cb8b9b514                  1               MONOCHROME2   512  ...   \n",
       "ID_ee683911f                  1               MONOCHROME2   512  ...   \n",
       "\n",
       "                MultiWindowCenter  WindowCenter1  MultiWindowWidth  \\\n",
       "SOPInstanceUID                                                       \n",
       "ID_2a8702d25                  NaN            NaN               NaN   \n",
       "ID_66891ac22                  NaN            NaN               NaN   \n",
       "ID_8e6e5b51f                  NaN            NaN               NaN   \n",
       "ID_cb8b9b514                  NaN            NaN               NaN   \n",
       "ID_ee683911f                  1.0           40.0               1.0   \n",
       "\n",
       "                WindowWidth1  any  epidural  intraparenchymal  \\\n",
       "SOPInstanceUID                                                  \n",
       "ID_2a8702d25             NaN    1         0                 1   \n",
       "ID_66891ac22             NaN    1         0                 1   \n",
       "ID_8e6e5b51f             NaN    1         0                 0   \n",
       "ID_cb8b9b514             NaN    0         0                 0   \n",
       "ID_ee683911f            80.0    0         0                 0   \n",
       "\n",
       "                intraventricular  subarachnoid  subdural  \n",
       "SOPInstanceUID                                            \n",
       "ID_2a8702d25                   1             0         0  \n",
       "ID_66891ac22                   0             0         0  \n",
       "ID_8e6e5b51f                   0             0         1  \n",
       "ID_cb8b9b514                   0             0         0  \n",
       "ID_ee683911f                   0             0         0  \n",
       "\n",
       "[5 rows x 47 columns]"
      ]
     },
     "execution_count": 4,
     "metadata": {},
     "output_type": "execute_result"
    }
   ],
   "source": [
    "df_any = Meta.df_any\n",
    "df_any.head()"
   ]
  },
  {
   "cell_type": "code",
   "execution_count": 5,
   "metadata": {},
   "outputs": [],
   "source": [
    "# df_slice_count = df_any.groupby(['SeriesInstanceUID']).agg(['count'])\n",
    "# max(df_slice_count.PatientID.values)\n",
    "\n",
    "# min(df_slice_count.PatientID.values)\n",
    "\n",
    "# max_seq_len = 60"
   ]
  },
  {
   "cell_type": "code",
   "execution_count": 6,
   "metadata": {},
   "outputs": [],
   "source": [
    "#export\n",
    "class OpenCTs:\n",
    "    def __init__(self, path): \n",
    "        self.fn = get_pil_fn(path)\n",
    "        self.tt = ToTensor()\n",
    "    def __call__(self, item):\n",
    "        if isinstance(item, (str, Path)): return self.fn(item)\n",
    "        xs = [self.tt(self.fn(x)) for x in item]\n",
    "        xs\n",
    "        return TensorCTScan(torch.stack(xs))"
   ]
  },
  {
   "cell_type": "code",
   "execution_count": 7,
   "metadata": {},
   "outputs": [],
   "source": [
    "#export\n",
    "def pad_batch(x, pad_to=None, value=0):\n",
    "    if isinstance(x, tuple): return tuple([pad_batch(s, pad_to, value) for s in x])\n",
    "    bs_pad = pad_to-x.shape[0]\n",
    "    pad = [0]*len(x.shape)*2\n",
    "    pad[-1] = bs_pad\n",
    "    return F.pad(x, pad=pad, value=value)\n",
    "\n",
    "def pad_collate(items, values=[0,-1], fixed_pad=None):\n",
    "    def get_bs(x): return x[0].shape[0] if hasattr(x[0], 'shape') else get_bs(x[0])\n",
    "#     pad_to = max([get_bs(x) for x in items]) if fixed_pad is None else fixed_pad\n",
    "    pad_to = 60\n",
    "    def pad_row(row, pad_to, vals): return tuple([pad_batch(x,pad_to,v) for x,v in zip(row,vals)])\n",
    "    return [pad_row(row, pad_to, values) for row in items]"
   ]
  },
  {
   "cell_type": "code",
   "execution_count": 8,
   "metadata": {},
   "outputs": [],
   "source": [
    "#export\n",
    "class TfmSOP:\n",
    "    def __init__(self,df,open_fn):\n",
    "        self.open_fn = open_fn\n",
    "        self.df = df\n",
    "    \n",
    "    def x(self, sid):\n",
    "        sids = self.df.SOPInstanceUID[sid].values\n",
    "        return self.open_fn(sids)\n",
    "    \n",
    "    def y(self, sid): \n",
    "        vals = self.df.loc[sid,htypes].values\n",
    "        return TensorMultiCategory(tensor(vals)).float()"
   ]
  },
  {
   "cell_type": "code",
   "execution_count": 9,
   "metadata": {},
   "outputs": [],
   "source": [
    "#export\n",
    "def get_3d_dsrc(df, open_fn, grps=Meta.grps, cv_idx=0, tfms=None, column='SeriesInstanceUID', test=False):\n",
    "    df_series = df.reset_index().set_index(column).sort_values([column, \"ImagePositionPatient2\"])\n",
    "    sids = df_series.index.unique()\n",
    "    sid2idx = dict(zip(sids, range(len(sids))))\n",
    "    \n",
    "    # multi index is 10x faster\n",
    "    df_series.index = pd.MultiIndex.from_tuples(df_series.index.str.split('|').tolist())\n",
    "    tfm = TfmSOP(df_series, open_fn)\n",
    "    \n",
    "    if test: return DataSource(sids, [[tfm.x]], splits=[L.range(sids), L.range(sids)])\n",
    "    \n",
    "    s1 = [sid2idx[sid] for sid in group_cv(cv_idx,grps) if sid in sid2idx]\n",
    "    s2 = [sid2idx[sid] for sid in grps[cv_idx] if sid in sid2idx]\n",
    "    dsrc = DataSource(sids, [[tfm.x]+L(tfms),[tfm.y]], splits=(s1,s2))\n",
    "    return dsrc"
   ]
  },
  {
   "cell_type": "code",
   "execution_count": 10,
   "metadata": {},
   "outputs": [],
   "source": [
    "#export\n",
    "def get_dbunch(dsrc, bs, batch_tfms, num_workers=8):\n",
    "    dbunch = DataBunch(\n",
    "        TfmdDL(dsrc.train, bs=bs, before_batch=[pad_collate], after_batch=batch_tfms, num_workers=num_workers, shuffle=True),\n",
    "        TfmdDL(dsrc.valid, bs=bs, before_batch=[pad_collate], after_batch=batch_tfms, num_workers=num_workers)\n",
    "    )\n",
    "    dbunch.device = default_device()\n",
    "    dbunch.c = 6\n",
    "    return dbunch"
   ]
  },
  {
   "cell_type": "code",
   "execution_count": 11,
   "metadata": {},
   "outputs": [],
   "source": [
    "#export\n",
    "def get_3d_dbunch(df, path=path_jpg256, bs=1, num_workers=8, tfms=None):\n",
    "    dsrc = get_3d_dsrc(df, open_fn=OpenCTs(path))\n",
    "\n",
    "    nrm = Normalize.from_stats(mean,std)\n",
    "    batch_tfms = L(nrm, Cuda(), IntToFloatTensor(), *L(tfms))\n",
    "    \n",
    "    return get_dbunch(dsrc, bs, batch_tfms, num_workers)\n"
   ]
  },
  {
   "cell_type": "code",
   "execution_count": 12,
   "metadata": {},
   "outputs": [],
   "source": [
    "#export\n",
    "def get_3d_dbunch_aug(df, path=path_jpg256, bs=1, num_workers=8):\n",
    "    nrm = Normalize.from_stats(mean,std)\n",
    "    batch_tfms = L(nrm, Cuda())\n",
    "    dsrc = get_3d_dsrc(df, open_fn=OpenCTs(path), tfms=[IntToFloatTensor()]+aug_transforms())\n",
    "    \n",
    "    return get_dbunch(dsrc, bs, batch_tfms, num_workers)\n"
   ]
  },
  {
   "cell_type": "code",
   "execution_count": 16,
   "metadata": {},
   "outputs": [],
   "source": [
    "# dbunch = get_3d_dbunch_aug(df_any, bs=10)\n",
    "# next(iter(dbunch.train_dl))"
   ]
  },
  {
   "cell_type": "code",
   "execution_count": 17,
   "metadata": {},
   "outputs": [],
   "source": [
    "#export\n",
    "class Wrap():\n",
    "    def __init__(self, tfm, tfm_all=True): self.tfm = tfm\n",
    "    def __getattr__(self, x): return getattr(self.tfm, x)\n",
    "    def __call__(self, *args, **kwargs): return self.encodes(*args, **kwargs)\n",
    "    def encodes(self, x:TensorImage): return self.reshape(x, self.tfm)\n",
    "    def decodes(self, x:TensorImage): return self.reshape(x, self.tfm.decodes)\n",
    "    \n",
    "    def reshape(self, x, func):\n",
    "        if len(x.shape) != 5: return x\n",
    "        bs,ts,ch,w,h = x.shape\n",
    "        x = x.reshape(-1,ch,w,h)\n",
    "        out = func(x)\n",
    "        return out.reshape(bs,ts, *out.shape[-3:])\n",
    "        \n",
    "\n",
    "# wrapped_tfms = [Wrap(tfm) for tfm in aug_transforms()]"
   ]
  },
  {
   "cell_type": "code",
   "execution_count": 18,
   "metadata": {},
   "outputs": [],
   "source": [
    "# dsrc = get_3d_dsrc(df_any, open_fn=OpenCTs(path_jpg256))\n",
    "# x,y = dsrc[0]\n",
    "# x.shape, y.shape\n",
    "\n",
    "# dbunch = get_3d_dbunch(df_any, bs=10)\n",
    "# x,y = dbunch.one_batch()\n",
    "# x.shape, y.shape"
   ]
  },
  {
   "cell_type": "markdown",
   "metadata": {},
   "source": [
    "## Features"
   ]
  },
  {
   "cell_type": "code",
   "execution_count": 19,
   "metadata": {},
   "outputs": [],
   "source": [
    "#export\n",
    "def get_np_fn(p):\n",
    "    def _f(fn): return torch.from_numpy(np.load(str(p/f'{fn}.npy')))\n",
    "    return _f"
   ]
  },
  {
   "cell_type": "code",
   "execution_count": 20,
   "metadata": {},
   "outputs": [],
   "source": [
    "#export\n",
    "class OpenFeats:\n",
    "    def __init__(self, path):\n",
    "        self.fn = get_np_fn(path)\n",
    "        self.tt = ToTensor()\n",
    "    def __call__(self, item):\n",
    "        if isinstance(item, (str, Path)): return self.fn(item)\n",
    "        xs = [self.tt(self.fn(x)) for x in item]\n",
    "        return TensorCTScan(torch.stack(xs))"
   ]
  },
  {
   "cell_type": "code",
   "execution_count": 21,
   "metadata": {},
   "outputs": [],
   "source": [
    "#export\n",
    "def get_3d_dbunch_feat(df, path=path/'features_256', bs=1, num_workers=8):\n",
    "    dsrc = get_3d_dsrc(df, open_fn=OpenFeats(path))\n",
    "    return get_dbunch(dsrc, bs, [Cuda()], num_workers)\n"
   ]
  },
  {
   "cell_type": "code",
   "execution_count": 22,
   "metadata": {},
   "outputs": [],
   "source": [
    "# dbunch_feat = get_3d_dbunch_feat(df_any, bs=10)\n",
    "# xb,yb = dbunch_feat.one_batch()\n",
    "# xb.shape, yb.shape"
   ]
  },
  {
   "cell_type": "markdown",
   "metadata": {},
   "source": [
    "## Model"
   ]
  },
  {
   "cell_type": "code",
   "execution_count": 23,
   "metadata": {},
   "outputs": [],
   "source": [
    "#export\n",
    "class ReshapeBodyHook():\n",
    "    def __init__(self, body):\n",
    "        super().__init__()\n",
    "        body.register_forward_pre_hook(self.pre_hook)\n",
    "        body.register_forward_hook(self.forward_hook)\n",
    "        self.shape = None\n",
    "        \n",
    "    def pre_hook(self, module, input):\n",
    "        x = input[0]\n",
    "        self.shape = x.shape\n",
    "        return (x.view(-1, *x.shape[2:]),)\n",
    "    \n",
    "    def forward_hook(self, module, input, x):\n",
    "        return x.view(*self.shape[:2], *x.shape[1:])"
   ]
  },
  {
   "cell_type": "code",
   "execution_count": 24,
   "metadata": {},
   "outputs": [],
   "source": [
    "#export\n",
    "def conv3(ni,nf,stride=1):\n",
    "    return ConvLayer(ni, nf, (5,3,3), stride=(1,stride,stride), ndim=3, padding=(2,1,1))"
   ]
  },
  {
   "cell_type": "code",
   "execution_count": 25,
   "metadata": {},
   "outputs": [],
   "source": [
    "#export\n",
    "class Batchify(Module):\n",
    "    def forward(self, x): return x.transpose(1,2)\n",
    "\n",
    "class DeBatchify(Module):\n",
    "    def forward(self, x):\n",
    "        x_t = x.transpose(1,2)\n",
    "        x_c = x_t.contiguous().view(-1, *x_t.shape[2:])\n",
    "        return x_c\n",
    "\n",
    "def get_3d_head(concat_pool=True):\n",
    "    pool, feat = (AdaptiveConcatPool2d(1), 64*2) if concat_pool else (nn.AdaptiveAvgPool2d(1), 64)\n",
    "    m = nn.Sequential(Batchify(),\n",
    "        conv3(512,256,2), # 8\n",
    "        conv3(256,128,2), # 4\n",
    "        conv3(128, 64,2), # 2\n",
    "        DeBatchify(), pool, Flatten(), nn.Linear(feat,6))\n",
    "    init_cnn(m)\n",
    "    return m"
   ]
  },
  {
   "cell_type": "markdown",
   "metadata": {},
   "source": [
    "## Ignore Padding in Loss"
   ]
  },
  {
   "cell_type": "code",
   "execution_count": 26,
   "metadata": {},
   "outputs": [],
   "source": [
    "#export\n",
    "class DePadLoss(Callback):\n",
    "    def __init__(self, pad_idx=-1): \n",
    "        super().__init__()\n",
    "        store_attr(self, 'pad_idx')\n",
    "\n",
    "    def after_pred(self):\n",
    "        learn = self.learn\n",
    "        targ = learn.yb[0].view(-1, *learn.yb[0].shape[2:])\n",
    "        if targ.shape[0] != self.pred.shape[0]:\n",
    "            pred = learn.pred.view(-1, *learn.pred.shape[2:])\n",
    "        else: pred = learn.pred\n",
    "        \n",
    "        mask = targ[:,-1] != self.pad_idx\n",
    "        \n",
    "        learn.pred = pred[mask]\n",
    "        learn.yb = (targ[mask],)"
   ]
  },
  {
   "cell_type": "markdown",
   "metadata": {},
   "source": [
    "## Training Features - By Batch"
   ]
  },
  {
   "cell_type": "code",
   "execution_count": 27,
   "metadata": {},
   "outputs": [],
   "source": [
    "dbunch_feat = get_3d_dbunch_feat(df_any, bs=16)"
   ]
  },
  {
   "cell_type": "code",
   "execution_count": 28,
   "metadata": {},
   "outputs": [],
   "source": [
    "m = get_3d_head()\n",
    "learn = get_learner(dbunch_feat, m)"
   ]
  },
  {
   "cell_type": "code",
   "execution_count": 29,
   "metadata": {},
   "outputs": [
    {
     "data": {
      "text/plain": [
       "<fastai2.learner.Learner at 0x7f1304695050>"
      ]
     },
     "execution_count": 29,
     "metadata": {},
     "output_type": "execute_result"
    }
   ],
   "source": [
    "learn.add_cb(DePadLoss())"
   ]
  },
  {
   "cell_type": "code",
   "execution_count": 30,
   "metadata": {},
   "outputs": [
    {
     "data": {
      "text/html": [
       "<table border=\"1\" class=\"dataframe\">\n",
       "  <thead>\n",
       "    <tr style=\"text-align: left;\">\n",
       "      <th>epoch</th>\n",
       "      <th>train_loss</th>\n",
       "      <th>valid_loss</th>\n",
       "      <th>accuracy_multi</th>\n",
       "      <th>accuracy_any</th>\n",
       "      <th>time</th>\n",
       "    </tr>\n",
       "  </thead>\n",
       "  <tbody>\n",
       "    <tr>\n",
       "      <td>0</td>\n",
       "      <td>0.108678</td>\n",
       "      <td>0.157843</td>\n",
       "      <td>0.946956</td>\n",
       "      <td>0.905628</td>\n",
       "      <td>02:45</td>\n",
       "    </tr>\n",
       "  </tbody>\n",
       "</table>"
      ],
      "text/plain": [
       "<IPython.core.display.HTML object>"
      ]
     },
     "metadata": {},
     "output_type": "display_data"
    }
   ],
   "source": [
    "do_fit(learn, 1, 1e-2)"
   ]
  },
  {
   "cell_type": "code",
   "execution_count": 31,
   "metadata": {},
   "outputs": [
    {
     "data": {
      "text/plain": [
       "Sequential (Input shape: 16 x 48 x 512 x 8 x 8)\n",
       "================================================================\n",
       "Layer (type)         Output Shape         Param #    Trainable \n",
       "================================================================\n",
       "Batchify             16 x 512 x 48 x 8 x 8 0          False     \n",
       "________________________________________________________________\n",
       "Conv3d               16 x 256 x 48 x 4 x 4 5,898,240  True      \n",
       "________________________________________________________________\n",
       "BatchNorm3d          16 x 256 x 48 x 4 x 4 512        True      \n",
       "________________________________________________________________\n",
       "ReLU                 16 x 256 x 48 x 4 x 4 0          False     \n",
       "________________________________________________________________\n",
       "Conv3d               16 x 128 x 48 x 2 x 2 1,474,560  True      \n",
       "________________________________________________________________\n",
       "BatchNorm3d          16 x 128 x 48 x 2 x 2 256        True      \n",
       "________________________________________________________________\n",
       "ReLU                 16 x 128 x 48 x 2 x 2 0          False     \n",
       "________________________________________________________________\n",
       "Conv3d               16 x 64 x 48 x 1 x 1 368,640    True      \n",
       "________________________________________________________________\n",
       "BatchNorm3d          16 x 64 x 48 x 1 x 1 128        True      \n",
       "________________________________________________________________\n",
       "ReLU                 16 x 64 x 48 x 1 x 1 0          False     \n",
       "________________________________________________________________\n",
       "DeBatchify           16 x 64 x 1 x 1      0          False     \n",
       "________________________________________________________________\n",
       "AdaptiveAvgPool2d    16 x 64 x 1 x 1      0          False     \n",
       "________________________________________________________________\n",
       "AdaptiveMaxPool2d    16 x 64 x 1 x 1      0          False     \n",
       "________________________________________________________________\n",
       "Flatten              16 x 128             0          False     \n",
       "________________________________________________________________\n",
       "Linear               16 x 6               774        True      \n",
       "________________________________________________________________\n",
       "\n",
       "Total params: 7,743,110\n",
       "Total trainable params: 7,743,110\n",
       "Total non-trainable params: 0\n",
       "\n",
       "Optimizer used: functools.partial(<function Adam at 0x7f1499938dd0>, wd=1e-05, eps=0.0001, sqr_mom=0.999)\n",
       "Loss function: FlattenedLoss of BCEWithLogitsLoss()\n",
       "\n",
       "Model unfrozen\n",
       "\n",
       "Callbacks:\n",
       "  - ModelToHalf\n",
       "  - TrainEvalCallback\n",
       "  - Recorder\n",
       "  - ProgressCallback\n",
       "  - DePadLoss\n",
       "  - MixedPrecision"
      ]
     },
     "execution_count": 31,
     "metadata": {},
     "output_type": "execute_result"
    }
   ],
   "source": [
    "learn.summary()"
   ]
  },
  {
   "cell_type": "markdown",
   "metadata": {},
   "source": [
    "## Train on Slice"
   ]
  },
  {
   "cell_type": "code",
   "execution_count": 27,
   "metadata": {},
   "outputs": [],
   "source": [
    "m = get_3d_head()"
   ]
  },
  {
   "cell_type": "code",
   "execution_count": 28,
   "metadata": {},
   "outputs": [],
   "source": [
    "dbunch = get_3d_dbunch_aug(df_any, bs=10)\n",
    "config=dict(custom_head=m, init=None)\n",
    "learn = get_learner(dbunch, resnet18, get_loss(), config=config)"
   ]
  },
  {
   "cell_type": "code",
   "execution_count": 29,
   "metadata": {},
   "outputs": [],
   "source": [
    "# learn.model[0] = ReshapeCNNBody(learn.model[0])"
   ]
  },
  {
   "cell_type": "code",
   "execution_count": 30,
   "metadata": {},
   "outputs": [],
   "source": [
    "hook = ReshapeBodyHook(learn.model[0])"
   ]
  },
  {
   "cell_type": "code",
   "execution_count": 31,
   "metadata": {},
   "outputs": [
    {
     "data": {
      "text/plain": [
       "<fastai2.learner.Learner at 0x7f829c069950>"
      ]
     },
     "execution_count": 31,
     "metadata": {},
     "output_type": "execute_result"
    }
   ],
   "source": [
    "learn.add_cb(DePadLoss())"
   ]
  },
  {
   "cell_type": "code",
   "execution_count": 32,
   "metadata": {},
   "outputs": [
    {
     "data": {
      "text/html": [
       "<table border=\"1\" class=\"dataframe\">\n",
       "  <thead>\n",
       "    <tr style=\"text-align: left;\">\n",
       "      <th>epoch</th>\n",
       "      <th>train_loss</th>\n",
       "      <th>valid_loss</th>\n",
       "      <th>accuracy_multi</th>\n",
       "      <th>accuracy_any</th>\n",
       "      <th>time</th>\n",
       "    </tr>\n",
       "  </thead>\n",
       "  <tbody>\n",
       "    <tr>\n",
       "      <td>0</td>\n",
       "      <td>0.278352</td>\n",
       "      <td>0.272392</td>\n",
       "      <td>0.890677</td>\n",
       "      <td>0.803443</td>\n",
       "      <td>09:38</td>\n",
       "    </tr>\n",
       "  </tbody>\n",
       "</table>"
      ],
      "text/plain": [
       "<IPython.core.display.HTML object>"
      ]
     },
     "metadata": {},
     "output_type": "display_data"
    }
   ],
   "source": [
    "do_fit(learn, 1, 1e-2)"
   ]
  },
  {
   "cell_type": "markdown",
   "metadata": {},
   "source": [
    "## Export"
   ]
  },
  {
   "cell_type": "code",
   "execution_count": 1,
   "metadata": {},
   "outputs": [
    {
     "name": "stdout",
     "output_type": "stream",
     "text": [
      "Converted 00_metadata.ipynb.\n",
      "Converted 01_preprocess.ipynb.\n",
      "Converted 01_preprocess_mean_std.ipynb.\n",
      "Converted 02_train.ipynb.\n",
      "Converted 03_train3d.ipynb.\n",
      "Converted 03_train3d_01_train3d.ipynb.\n",
      "Converted 03_train3d_01b_train_lstm.ipynb.\n",
      "Converted 03_train3d_02_train_head.ipynb.\n",
      "Converted 03_trainfull3d.ipynb.\n",
      "Converted 04_trainSeq_01_lstm.ipynb.\n",
      "Converted 04_trainSeq_02_transformer.ipynb.\n",
      "Converted 04_trainSeq_03_lstm_seutao.ipynb.\n",
      "Converted 05_train_adjacent.ipynb.\n",
      "Converted 05_train_adjacent_01_5c.ipynb.\n",
      "Converted 05_train_adjacent_02_3c.ipynb.\n",
      "Converted 06_seutao_features.ipynb.\n",
      "Converted 06_seutao_features_01_simple_lstm_20ep.ipynb.\n",
      "Converted 06_seutao_features_01b_simple_lstm_10ep.ipynb.\n",
      "Converted 06_seutao_features_01c_simple_lstm_meta.ipynb.\n",
      "Converted 06_seutao_features_01d_simple_lstm_meta_fulldataset.ipynb.\n",
      "Converted 06_seutao_features_02_2ndPlace.ipynb.\n",
      "Converted 06_seutao_features_03_1stPlace.ipynb.\n",
      "Converted 07_train_3d_lstm.ipynb.\n"
     ]
    }
   ],
   "source": [
    "#hide\n",
    "from nbdev.export import notebook2script\n",
    "notebook2script()"
   ]
  }
 ],
 "metadata": {
  "kernelspec": {
   "display_name": "Python 3",
   "language": "python",
   "name": "python3"
  },
  "language_info": {
   "codemirror_mode": {
    "name": "ipython",
    "version": 3
   },
   "file_extension": ".py",
   "mimetype": "text/x-python",
   "name": "python",
   "nbconvert_exporter": "python",
   "pygments_lexer": "ipython3",
   "version": "3.7.6"
  }
 },
 "nbformat": 4,
 "nbformat_minor": 2
}

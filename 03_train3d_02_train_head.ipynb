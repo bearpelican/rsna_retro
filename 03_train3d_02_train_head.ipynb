{
 "cells": [
  {
   "cell_type": "code",
   "execution_count": 1,
   "metadata": {},
   "outputs": [
    {
     "name": "stdout",
     "output_type": "stream",
     "text": [
      "Loading imports\n",
      "Warning: Your Kaggle API key is readable by other users on this system! To fix this, you can run 'chmod 600 /home/ashaw/.kaggle/kaggle.json'\n"
     ]
    }
   ],
   "source": [
    "from rsna_retro.imports import *\n",
    "from rsna_retro.metadata import *\n",
    "from rsna_retro.preprocess import *\n",
    "from rsna_retro.train import *\n",
    "from rsna_retro.train3d import *"
   ]
  },
  {
   "cell_type": "code",
   "execution_count": 2,
   "metadata": {},
   "outputs": [],
   "source": [
    "torch.cuda.set_device(3)"
   ]
  },
  {
   "cell_type": "code",
   "execution_count": 3,
   "metadata": {
    "scrolled": true
   },
   "outputs": [
    {
     "data": {
      "text/html": [
       "<div>\n",
       "<style scoped>\n",
       "    .dataframe tbody tr th:only-of-type {\n",
       "        vertical-align: middle;\n",
       "    }\n",
       "\n",
       "    .dataframe tbody tr th {\n",
       "        vertical-align: top;\n",
       "    }\n",
       "\n",
       "    .dataframe thead th {\n",
       "        text-align: right;\n",
       "    }\n",
       "</style>\n",
       "<table border=\"1\" class=\"dataframe\">\n",
       "  <thead>\n",
       "    <tr style=\"text-align: right;\">\n",
       "      <th></th>\n",
       "      <th>Modality</th>\n",
       "      <th>PatientID</th>\n",
       "      <th>StudyInstanceUID</th>\n",
       "      <th>SeriesInstanceUID</th>\n",
       "      <th>StudyID</th>\n",
       "      <th>ImagePositionPatient</th>\n",
       "      <th>ImageOrientationPatient</th>\n",
       "      <th>SamplesPerPixel</th>\n",
       "      <th>PhotometricInterpretation</th>\n",
       "      <th>Rows</th>\n",
       "      <th>...</th>\n",
       "      <th>MultiWindowCenter</th>\n",
       "      <th>WindowCenter1</th>\n",
       "      <th>MultiWindowWidth</th>\n",
       "      <th>WindowWidth1</th>\n",
       "      <th>any</th>\n",
       "      <th>epidural</th>\n",
       "      <th>intraparenchymal</th>\n",
       "      <th>intraventricular</th>\n",
       "      <th>subarachnoid</th>\n",
       "      <th>subdural</th>\n",
       "    </tr>\n",
       "    <tr>\n",
       "      <th>SOPInstanceUID</th>\n",
       "      <th></th>\n",
       "      <th></th>\n",
       "      <th></th>\n",
       "      <th></th>\n",
       "      <th></th>\n",
       "      <th></th>\n",
       "      <th></th>\n",
       "      <th></th>\n",
       "      <th></th>\n",
       "      <th></th>\n",
       "      <th></th>\n",
       "      <th></th>\n",
       "      <th></th>\n",
       "      <th></th>\n",
       "      <th></th>\n",
       "      <th></th>\n",
       "      <th></th>\n",
       "      <th></th>\n",
       "      <th></th>\n",
       "      <th></th>\n",
       "      <th></th>\n",
       "    </tr>\n",
       "  </thead>\n",
       "  <tbody>\n",
       "    <tr>\n",
       "      <th>ID_2a8702d25</th>\n",
       "      <td>CT</td>\n",
       "      <td>ID_ff137633</td>\n",
       "      <td>ID_d17053848c</td>\n",
       "      <td>ID_7098f7c836</td>\n",
       "      <td></td>\n",
       "      <td>-126.437378</td>\n",
       "      <td>1.0</td>\n",
       "      <td>1</td>\n",
       "      <td>MONOCHROME2</td>\n",
       "      <td>512</td>\n",
       "      <td>...</td>\n",
       "      <td>NaN</td>\n",
       "      <td>NaN</td>\n",
       "      <td>NaN</td>\n",
       "      <td>NaN</td>\n",
       "      <td>1</td>\n",
       "      <td>0</td>\n",
       "      <td>1</td>\n",
       "      <td>1</td>\n",
       "      <td>0</td>\n",
       "      <td>0</td>\n",
       "    </tr>\n",
       "    <tr>\n",
       "      <th>ID_66891ac22</th>\n",
       "      <td>CT</td>\n",
       "      <td>ID_42940b2c</td>\n",
       "      <td>ID_17e33f43d0</td>\n",
       "      <td>ID_e14dd0090b</td>\n",
       "      <td></td>\n",
       "      <td>-125.000000</td>\n",
       "      <td>1.0</td>\n",
       "      <td>1</td>\n",
       "      <td>MONOCHROME2</td>\n",
       "      <td>512</td>\n",
       "      <td>...</td>\n",
       "      <td>NaN</td>\n",
       "      <td>NaN</td>\n",
       "      <td>NaN</td>\n",
       "      <td>NaN</td>\n",
       "      <td>1</td>\n",
       "      <td>0</td>\n",
       "      <td>1</td>\n",
       "      <td>0</td>\n",
       "      <td>0</td>\n",
       "      <td>0</td>\n",
       "    </tr>\n",
       "    <tr>\n",
       "      <th>ID_8e6e5b51f</th>\n",
       "      <td>CT</td>\n",
       "      <td>ID_76fbed32</td>\n",
       "      <td>ID_1d8eaa14ef</td>\n",
       "      <td>ID_e3919709a0</td>\n",
       "      <td></td>\n",
       "      <td>-125.000000</td>\n",
       "      <td>1.0</td>\n",
       "      <td>1</td>\n",
       "      <td>MONOCHROME2</td>\n",
       "      <td>512</td>\n",
       "      <td>...</td>\n",
       "      <td>NaN</td>\n",
       "      <td>NaN</td>\n",
       "      <td>NaN</td>\n",
       "      <td>NaN</td>\n",
       "      <td>1</td>\n",
       "      <td>0</td>\n",
       "      <td>0</td>\n",
       "      <td>0</td>\n",
       "      <td>0</td>\n",
       "      <td>1</td>\n",
       "    </tr>\n",
       "    <tr>\n",
       "      <th>ID_cb8b9b514</th>\n",
       "      <td>CT</td>\n",
       "      <td>ID_20039b63</td>\n",
       "      <td>ID_1cfe3e70dd</td>\n",
       "      <td>ID_e3b5d8d9b8</td>\n",
       "      <td></td>\n",
       "      <td>-125.000000</td>\n",
       "      <td>1.0</td>\n",
       "      <td>1</td>\n",
       "      <td>MONOCHROME2</td>\n",
       "      <td>512</td>\n",
       "      <td>...</td>\n",
       "      <td>NaN</td>\n",
       "      <td>NaN</td>\n",
       "      <td>NaN</td>\n",
       "      <td>NaN</td>\n",
       "      <td>0</td>\n",
       "      <td>0</td>\n",
       "      <td>0</td>\n",
       "      <td>0</td>\n",
       "      <td>0</td>\n",
       "      <td>0</td>\n",
       "    </tr>\n",
       "    <tr>\n",
       "      <th>ID_ee683911f</th>\n",
       "      <td>CT</td>\n",
       "      <td>ID_a065f3ac</td>\n",
       "      <td>ID_9c727ac231</td>\n",
       "      <td>ID_99e83a310d</td>\n",
       "      <td></td>\n",
       "      <td>-125.000000</td>\n",
       "      <td>1.0</td>\n",
       "      <td>1</td>\n",
       "      <td>MONOCHROME2</td>\n",
       "      <td>512</td>\n",
       "      <td>...</td>\n",
       "      <td>1.0</td>\n",
       "      <td>40.0</td>\n",
       "      <td>1.0</td>\n",
       "      <td>80.0</td>\n",
       "      <td>0</td>\n",
       "      <td>0</td>\n",
       "      <td>0</td>\n",
       "      <td>0</td>\n",
       "      <td>0</td>\n",
       "      <td>0</td>\n",
       "    </tr>\n",
       "  </tbody>\n",
       "</table>\n",
       "<p>5 rows × 47 columns</p>\n",
       "</div>"
      ],
      "text/plain": [
       "               Modality    PatientID StudyInstanceUID SeriesInstanceUID  \\\n",
       "SOPInstanceUID                                                            \n",
       "ID_2a8702d25         CT  ID_ff137633    ID_d17053848c     ID_7098f7c836   \n",
       "ID_66891ac22         CT  ID_42940b2c    ID_17e33f43d0     ID_e14dd0090b   \n",
       "ID_8e6e5b51f         CT  ID_76fbed32    ID_1d8eaa14ef     ID_e3919709a0   \n",
       "ID_cb8b9b514         CT  ID_20039b63    ID_1cfe3e70dd     ID_e3b5d8d9b8   \n",
       "ID_ee683911f         CT  ID_a065f3ac    ID_9c727ac231     ID_99e83a310d   \n",
       "\n",
       "               StudyID  ImagePositionPatient  ImageOrientationPatient  \\\n",
       "SOPInstanceUID                                                          \n",
       "ID_2a8702d25                     -126.437378                      1.0   \n",
       "ID_66891ac22                     -125.000000                      1.0   \n",
       "ID_8e6e5b51f                     -125.000000                      1.0   \n",
       "ID_cb8b9b514                     -125.000000                      1.0   \n",
       "ID_ee683911f                     -125.000000                      1.0   \n",
       "\n",
       "                SamplesPerPixel PhotometricInterpretation  Rows  ...  \\\n",
       "SOPInstanceUID                                                   ...   \n",
       "ID_2a8702d25                  1               MONOCHROME2   512  ...   \n",
       "ID_66891ac22                  1               MONOCHROME2   512  ...   \n",
       "ID_8e6e5b51f                  1               MONOCHROME2   512  ...   \n",
       "ID_cb8b9b514                  1               MONOCHROME2   512  ...   \n",
       "ID_ee683911f                  1               MONOCHROME2   512  ...   \n",
       "\n",
       "                MultiWindowCenter  WindowCenter1  MultiWindowWidth  \\\n",
       "SOPInstanceUID                                                       \n",
       "ID_2a8702d25                  NaN            NaN               NaN   \n",
       "ID_66891ac22                  NaN            NaN               NaN   \n",
       "ID_8e6e5b51f                  NaN            NaN               NaN   \n",
       "ID_cb8b9b514                  NaN            NaN               NaN   \n",
       "ID_ee683911f                  1.0           40.0               1.0   \n",
       "\n",
       "                WindowWidth1  any  epidural  intraparenchymal  \\\n",
       "SOPInstanceUID                                                  \n",
       "ID_2a8702d25             NaN    1         0                 1   \n",
       "ID_66891ac22             NaN    1         0                 1   \n",
       "ID_8e6e5b51f             NaN    1         0                 0   \n",
       "ID_cb8b9b514             NaN    0         0                 0   \n",
       "ID_ee683911f            80.0    0         0                 0   \n",
       "\n",
       "                intraventricular  subarachnoid  subdural  \n",
       "SOPInstanceUID                                            \n",
       "ID_2a8702d25                   1             0         0  \n",
       "ID_66891ac22                   0             0         0  \n",
       "ID_8e6e5b51f                   0             0         1  \n",
       "ID_cb8b9b514                   0             0         0  \n",
       "ID_ee683911f                   0             0         0  \n",
       "\n",
       "[5 rows x 47 columns]"
      ]
     },
     "execution_count": 3,
     "metadata": {},
     "output_type": "execute_result"
    }
   ],
   "source": [
    "df_any = Meta.df_any\n",
    "df_any.head()"
   ]
  },
  {
   "cell_type": "code",
   "execution_count": 4,
   "metadata": {},
   "outputs": [],
   "source": [
    "dls_feat = get_3d_dls_feat(df_any, bs=16)"
   ]
  },
  {
   "cell_type": "markdown",
   "metadata": {},
   "source": [
    "## Model"
   ]
  },
  {
   "cell_type": "code",
   "execution_count": 5,
   "metadata": {},
   "outputs": [],
   "source": [
    "m = get_3d_head()\n",
    "learn = get_learner(dls_feat, m)"
   ]
  },
  {
   "cell_type": "code",
   "execution_count": 6,
   "metadata": {},
   "outputs": [
    {
     "data": {
      "text/plain": [
       "<fastai2.learner.Learner at 0x7f172044b290>"
      ]
     },
     "execution_count": 6,
     "metadata": {},
     "output_type": "execute_result"
    }
   ],
   "source": [
    "learn.add_cb(DePadLoss())"
   ]
  },
  {
   "cell_type": "code",
   "execution_count": 9,
   "metadata": {},
   "outputs": [],
   "source": [
    "# def get_model_learner(dbch, model, lf=None, pretrained=False, opt_func=None, metrics=None, fp16=True, config=None):\n",
    "#     if lf is None: lf = get_loss()\n",
    "#     if metrics is None: metrics=[accuracy_multi,accuracy_any]\n",
    "#     if opt_func is None: opt_func = partial(Adam, wd=1e-5, eps=1e-4, sqr_mom=0.999)\n",
    "#     if config is None: config=dict(ps=0., lin_ftrs=[], concat_pool=False)\n",
    "#     learn = Learner(dbch, model, loss_func=lf, lr=3e-3,\n",
    "#                         opt_func=opt_func, metrics=metrics)\n",
    "#     return learn.to_fp16() if fp16 else learn"
   ]
  },
  {
   "cell_type": "code",
   "execution_count": 11,
   "metadata": {},
   "outputs": [],
   "source": [
    "# learn.load(f'runs/baseline_any-2b', strict=False)"
   ]
  },
  {
   "cell_type": "code",
   "execution_count": 12,
   "metadata": {},
   "outputs": [],
   "source": [
    "# learn.summary()"
   ]
  },
  {
   "cell_type": "markdown",
   "metadata": {},
   "source": [
    "## Training"
   ]
  },
  {
   "cell_type": "code",
   "execution_count": 7,
   "metadata": {},
   "outputs": [],
   "source": [
    "name = 'train3d_baseline_feat'"
   ]
  },
  {
   "cell_type": "code",
   "execution_count": 8,
   "metadata": {},
   "outputs": [
    {
     "data": {
      "text/html": [],
      "text/plain": [
       "<IPython.core.display.HTML object>"
      ]
     },
     "metadata": {},
     "output_type": "display_data"
    },
    {
     "data": {
      "image/png": "[encoded data removed]",
      "text/plain": [
       "<Figure size 432x288 with 1 Axes>"
      ]
     },
     "metadata": {
      "needs_background": "light"
     },
     "output_type": "display_data"
    }
   ],
   "source": [
    "learn.lr_find()"
   ]
  },
  {
   "cell_type": "code",
   "execution_count": 9,
   "metadata": {},
   "outputs": [
    {
     "data": {
      "text/html": [
       "<table border=\"1\" class=\"dataframe\">\n",
       "  <thead>\n",
       "    <tr style=\"text-align: left;\">\n",
       "      <th>epoch</th>\n",
       "      <th>train_loss</th>\n",
       "      <th>valid_loss</th>\n",
       "      <th>accuracy_multi</th>\n",
       "      <th>accuracy_any</th>\n",
       "      <th>time</th>\n",
       "    </tr>\n",
       "  </thead>\n",
       "  <tbody>\n",
       "    <tr>\n",
       "      <td>0</td>\n",
       "      <td>0.123400</td>\n",
       "      <td>0.181080</td>\n",
       "      <td>0.940498</td>\n",
       "      <td>0.893498</td>\n",
       "      <td>01:25</td>\n",
       "    </tr>\n",
       "    <tr>\n",
       "      <td>1</td>\n",
       "      <td>0.115699</td>\n",
       "      <td>0.191726</td>\n",
       "      <td>0.943363</td>\n",
       "      <td>0.903298</td>\n",
       "      <td>01:22</td>\n",
       "    </tr>\n",
       "    <tr>\n",
       "      <td>2</td>\n",
       "      <td>0.111429</td>\n",
       "      <td>0.167378</td>\n",
       "      <td>0.944608</td>\n",
       "      <td>0.905178</td>\n",
       "      <td>01:26</td>\n",
       "    </tr>\n",
       "    <tr>\n",
       "      <td>3</td>\n",
       "      <td>0.112184</td>\n",
       "      <td>0.179187</td>\n",
       "      <td>0.943420</td>\n",
       "      <td>0.897868</td>\n",
       "      <td>01:24</td>\n",
       "    </tr>\n",
       "    <tr>\n",
       "      <td>4</td>\n",
       "      <td>0.108705</td>\n",
       "      <td>0.173621</td>\n",
       "      <td>0.943906</td>\n",
       "      <td>0.900569</td>\n",
       "      <td>01:24</td>\n",
       "    </tr>\n",
       "    <tr>\n",
       "      <td>5</td>\n",
       "      <td>0.106566</td>\n",
       "      <td>0.188334</td>\n",
       "      <td>0.945495</td>\n",
       "      <td>0.900993</td>\n",
       "      <td>01:23</td>\n",
       "    </tr>\n",
       "    <tr>\n",
       "      <td>6</td>\n",
       "      <td>0.101750</td>\n",
       "      <td>0.168781</td>\n",
       "      <td>0.946325</td>\n",
       "      <td>0.905443</td>\n",
       "      <td>01:25</td>\n",
       "    </tr>\n",
       "    <tr>\n",
       "      <td>7</td>\n",
       "      <td>0.093019</td>\n",
       "      <td>0.169086</td>\n",
       "      <td>0.946479</td>\n",
       "      <td>0.904410</td>\n",
       "      <td>01:23</td>\n",
       "    </tr>\n",
       "    <tr>\n",
       "      <td>8</td>\n",
       "      <td>0.079321</td>\n",
       "      <td>0.188312</td>\n",
       "      <td>0.947124</td>\n",
       "      <td>0.904384</td>\n",
       "      <td>01:24</td>\n",
       "    </tr>\n",
       "    <tr>\n",
       "      <td>9</td>\n",
       "      <td>0.068149</td>\n",
       "      <td>0.201488</td>\n",
       "      <td>0.946449</td>\n",
       "      <td>0.902424</td>\n",
       "      <td>01:24</td>\n",
       "    </tr>\n",
       "  </tbody>\n",
       "</table>"
      ],
      "text/plain": [
       "<IPython.core.display.HTML object>"
      ]
     },
     "metadata": {},
     "output_type": "display_data"
    }
   ],
   "source": [
    "do_fit(learn, 10, 1e-1)\n",
    "learn.save(f'runs/{name}-1')"
   ]
  }
 ],
 "metadata": {
  "kernelspec": {
   "display_name": "Python 3",
   "language": "python",
   "name": "python3"
  },
  "language_info": {
   "codemirror_mode": {
    "name": "ipython",
    "version": 3
   },
   "file_extension": ".py",
   "mimetype": "text/x-python",
   "name": "python",
   "nbconvert_exporter": "python",
   "pygments_lexer": "ipython3",
   "version": "3.7.6"
  }
 },
 "nbformat": 4,
 "nbformat_minor": 2
}

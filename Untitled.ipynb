{
 "cells": [
  {
   "cell_type": "code",
   "execution_count": 1,
   "metadata": {},
   "outputs": [
    {
     "data": {
      "text/plain": [
       "<Option at 0x7f0fc0c4bf50: -x/--datapath>"
      ]
     },
     "execution_count": 1,
     "metadata": {},
     "output_type": "execute_result"
    }
   ],
   "source": [
    "import numpy as np\n",
    "import csv, gzip, os, sys, gc\n",
    "import math\n",
    "import torch\n",
    "from torch import nn\n",
    "import torch.optim as optim\n",
    "from torch.nn import functional as F\n",
    "\n",
    "import logging\n",
    "import datetime\n",
    "import optparse\n",
    "import pandas as pd\n",
    "import os\n",
    "from sklearn.metrics import log_loss\n",
    "import ast\n",
    "from torch.utils.data import Dataset\n",
    "from sklearn.metrics import log_loss\n",
    "from torch.utils.data import DataLoader\n",
    "from scipy.ndimage import uniform_filter\n",
    "from torch.optim.lr_scheduler import StepLR\n",
    "\n",
    "from apex.parallel import DistributedDataParallel as DDP\n",
    "from apex.fp16_utils import *\n",
    "from apex import amp, optimizers\n",
    "from apex.multi_tensor_apply import multi_tensor_applier\n",
    "\n",
    "# Print info about environments\n",
    "parser = optparse.OptionParser()\n",
    "parser.add_option('-s', '--seed', action=\"store\", dest=\"seed\", help=\"model seed\", default=\"1234\")\n",
    "parser.add_option('-o', '--fold', action=\"store\", dest=\"fold\", help=\"Fold for split\", default=\"0\")\n",
    "parser.add_option('-p', '--nbags', action=\"store\", dest=\"nbags\", help=\"Number of bags for averaging\", default=\"4\")\n",
    "parser.add_option('-e', '--epochs', action=\"store\", dest=\"epochs\", help=\"epochs\", default=\"10\")\n",
    "parser.add_option('-b', '--batchsize', action=\"store\", dest=\"batchsize\", help=\"batch size\", default=\"4\")\n",
    "parser.add_option('-r', '--rootpath', action=\"store\", dest=\"rootpath\", help=\"root directory\", default=\"\")\n",
    "parser.add_option('-i', '--imgpath', action=\"store\", dest=\"imgpath\", help=\"root directory\", default=\"data/mount/512X512X6/\")\n",
    "parser.add_option('-w', '--workpath', action=\"store\", dest=\"workpath\", help=\"Working path\", default=\"data/resnext101v12fold1/\")\n",
    "parser.add_option('-f', '--weightsname', action=\"store\", dest=\"weightsname\", help=\"Weights file name\", default=\"pytorch_model.bin\")\n",
    "parser.add_option('-l', '--lr', action=\"store\", dest=\"lr\", help=\"learning rate\", default=\"0.00005\")\n",
    "parser.add_option('-g', '--logmsg', action=\"store\", dest=\"logmsg\", help=\"root directory\", default=\"Recursion-pytorch\")\n",
    "parser.add_option('-c', '--size', action=\"store\", dest=\"size\", help=\"model size\", default=\"512\")\n",
    "parser.add_option('-a', '--globalepoch', action=\"store\", dest=\"globalepoch\", help=\"root directory\", default=\"3\")\n",
    "parser.add_option('-n', '--loadcsv', action=\"store\", dest=\"loadcsv\", help=\"Convert csv embeddings to numpy\", default=\"F\")\n",
    "parser.add_option('-j', '--lstm_units', action=\"store\", dest=\"lstm_units\", help=\"Lstm units\", default=\"128\")\n",
    "parser.add_option('-d', '--dropout', action=\"store\", dest=\"dropout\", help=\"LSTM input spatial dropout\", default=\"0.3\")\n",
    "parser.add_option('-z', '--decay', action=\"store\", dest=\"decay\", help=\"Weight Decay\", default=\"0.0\")\n",
    "parser.add_option('-m', '--lrgamma', action=\"store\", dest=\"lrgamma\", help=\"Scheduler Learning Rate Gamma\", default=\"1.0\")\n",
    "parser.add_option('-k', '--ttahflip', action=\"store\", dest=\"ttahflip\", help=\"Bag with horizontal flip on and off\", default=\"F\")\n",
    "parser.add_option('-q', '--ttatranspose', action=\"store\", dest=\"ttatranspose\", help=\"Bag with horizontal flip on and off\", default=\"F\")\n",
    "parser.add_option('-x', '--datapath', action=\"store\", dest=\"datapath\", help=\"Data path\", default=\"data\")"
   ]
  },
  {
   "cell_type": "code",
   "execution_count": 2,
   "metadata": {},
   "outputs": [
    {
     "name": "stderr",
     "output_type": "stream",
     "text": [
      "2020-02-07 01:02:30,469 - Recursion-pytorch - INFO - Cuda set up : time 01:02:30.469087\n",
      "2020-02-07 01:02:30,634 - Recursion-pytorch - INFO - Device : TITAN RTX\n",
      "2020-02-07 01:02:30,634 - Recursion-pytorch - INFO - Cuda available : True\n",
      "2020-02-07 01:02:30,635 - Recursion-pytorch - INFO - Cuda n_gpus : 7\n"
     ]
    }
   ],
   "source": [
    "options, args = parser.parse_args(['--datapath', 'data/resnext101v12fold1'])\n",
    "package_dir = options.rootpath\n",
    "sys.path.append(package_dir)\n",
    "sys.path.insert(0, 'scripts')\n",
    "from logs import get_logger\n",
    "from utils import dumpobj, loadobj, GradualWarmupScheduler\n",
    "\n",
    "# Print info about environments\n",
    "logger = get_logger(options.logmsg, 'INFO') # noqa\n",
    "logger.info('Cuda set up : time {}'.format(datetime.datetime.now().time()))\n",
    "\n",
    "device=torch.device('cuda')\n",
    "logger.info('Device : {}'.format(torch.cuda.get_device_name(0)))\n",
    "logger.info('Cuda available : {}'.format(torch.cuda.is_available()))\n",
    "n_gpu = torch.cuda.device_count()\n",
    "logger.info('Cuda n_gpus : {}'.format(n_gpu ))"
   ]
  },
  {
   "cell_type": "code",
   "execution_count": 3,
   "metadata": {},
   "outputs": [
    {
     "name": "stderr",
     "output_type": "stream",
     "text": [
      "2020-02-07 01:02:30,668 - Recursion-pytorch - INFO - Load params : time 01:02:30.668766\n",
      "2020-02-07 01:02:30,669 - Recursion-pytorch - INFO - seed                1234\n",
      "2020-02-07 01:02:30,670 - Recursion-pytorch - INFO - fold                0\n",
      "2020-02-07 01:02:30,670 - Recursion-pytorch - INFO - nbags               4\n",
      "2020-02-07 01:02:30,671 - Recursion-pytorch - INFO - epochs              10\n",
      "2020-02-07 01:02:30,671 - Recursion-pytorch - INFO - batchsize           4\n",
      "2020-02-07 01:02:30,672 - Recursion-pytorch - INFO - rootpath            \n",
      "2020-02-07 01:02:30,672 - Recursion-pytorch - INFO - imgpath             data/mount/512X512X6/\n",
      "2020-02-07 01:02:30,673 - Recursion-pytorch - INFO - workpath            data/resnext101v12fold1/\n",
      "2020-02-07 01:02:30,673 - Recursion-pytorch - INFO - weightsname         pytorch_model.bin\n",
      "2020-02-07 01:02:30,673 - Recursion-pytorch - INFO - lr                  0.00005\n",
      "2020-02-07 01:02:30,674 - Recursion-pytorch - INFO - logmsg              Recursion-pytorch\n",
      "2020-02-07 01:02:30,674 - Recursion-pytorch - INFO - size                512\n",
      "2020-02-07 01:02:30,675 - Recursion-pytorch - INFO - globalepoch         3\n",
      "2020-02-07 01:02:30,677 - Recursion-pytorch - INFO - loadcsv             F\n",
      "2020-02-07 01:02:30,677 - Recursion-pytorch - INFO - lstm_units          128\n",
      "2020-02-07 01:02:30,678 - Recursion-pytorch - INFO - dropout             0.3\n",
      "2020-02-07 01:02:30,678 - Recursion-pytorch - INFO - decay               0.0\n",
      "2020-02-07 01:02:30,679 - Recursion-pytorch - INFO - lrgamma             1.0\n",
      "2020-02-07 01:02:30,679 - Recursion-pytorch - INFO - ttahflip            F\n",
      "2020-02-07 01:02:30,680 - Recursion-pytorch - INFO - ttatranspose        F\n",
      "2020-02-07 01:02:30,680 - Recursion-pytorch - INFO - datapath            data/resnext101v12fold1\n"
     ]
    }
   ],
   "source": [
    "logger.info('Load params : time {}'.format(datetime.datetime.now().time()))\n",
    "for (k,v) in options.__dict__.items():\n",
    "    logger.info('{}{}'.format(k.ljust(20), v))\n",
    "\n",
    "SEED = int(options.seed)\n",
    "SIZE = int(options.size)\n",
    "EPOCHS = int(options.epochs)\n",
    "GLOBALEPOCH=int(options.globalepoch)\n",
    "n_epochs = EPOCHS \n",
    "lr=float(options.lr)\n",
    "lrgamma=float(options.lrgamma)\n",
    "DECAY=float(options.decay)\n",
    "batch_size = int(options.batchsize)\n",
    "ROOT = options.rootpath\n",
    "path_data = os.path.join(ROOT, options.datapath)\n",
    "# path_img = os.path.join(ROOT, options.imgpath)\n",
    "WORK_DIR = os.path.join(ROOT, options.workpath)\n",
    "path_emb = os.path.join(ROOT, options.workpath)\n",
    "WEIGHTS_NAME = options.weightsname\n",
    "fold = int(options.fold)\n",
    "LOADCSV= options.loadcsv=='T'\n",
    "LSTM_UNITS=int(options.lstm_units)\n",
    "nbags=int(options.nbags)\n",
    "DROPOUT=float(options.dropout)\n",
    "TTAHFLIP= 'T' if options.ttahflip=='T' else ''\n",
    "TTATRANSPOSE= 'P' if options.ttatranspose=='T' else ''\n",
    "n_classes = 6\n",
    "label_cols = ['epidural', 'intraparenchymal', 'intraventricular', 'subarachnoid', 'subdural', 'any']\n",
    "\n",
    "def makeSub(ypred, imgs):\n",
    "    imgls = np.array(imgs).repeat(len(label_cols)) \n",
    "    icdls = pd.Series(label_cols*ypred.shape[0])   \n",
    "    yidx = ['{}_{}'.format(i,j) for i,j in zip(imgls, icdls)]\n",
    "    subdf = pd.DataFrame({'ID' : yidx, 'Label': ypred.flatten()})\n",
    "    return subdf\n",
    "\n",
    "class SpatialDropout(nn.Dropout2d):\n",
    "    def forward(self, x):\n",
    "        x = x.unsqueeze(2)    # (N, T, 1, K)\n",
    "        x = x.permute(0, 3, 2, 1)  # (N, K, 1, T)\n",
    "        x = super(SpatialDropout, self).forward(x)  # (N, K, 1, T), some features are masked\n",
    "        x = x.permute(0, 3, 2, 1)  # (N, T, 1, K)\n",
    "        x = x.squeeze(2)  # (N, T, K)\n",
    "        return x\n",
    "\n",
    "def criterion(data, targets, criterion = torch.nn.BCEWithLogitsLoss()):\n",
    "    ''' Define custom loss function for weighted BCE on 'target' column '''\n",
    "    loss_all = criterion(data, targets)\n",
    "    loss_any = criterion(data[:,-1:], targets[:,-1:])\n",
    "    return (loss_all*6 + loss_any*1)/7\n",
    "\n",
    "class IntracranialDataset(Dataset):\n",
    "    def __init__(self, df, mat, labels=label_cols):\n",
    "        self.data = df\n",
    "        self.mat = mat\n",
    "        self.labels = labels\n",
    "        self.patients = df.SliceID.unique()\n",
    "        self.data = self.data.set_index('SliceID')\n",
    "\n",
    "    def __len__(self):\n",
    "        return len(self.patients)\n",
    "\n",
    "    def __getitem__(self, idx):\n",
    "        \n",
    "        patidx = self.patients[idx]\n",
    "        patdf = self.data.loc[patidx].sort_values('seq')\n",
    "        patemb = self.mat[patdf['embidx'].values]\n",
    "\n",
    "        patdeltalag  = np.zeros(patemb.shape)\n",
    "        patdeltalead = np.zeros(patemb.shape)\n",
    "        patdeltalag [1:] = patemb[1:]-patemb[:-1]\n",
    "        patdeltalead[:-1] = patemb[:-1]-patemb[1:]\n",
    "\n",
    "        patemb = np.concatenate((patemb, patdeltalag, patdeltalead), -1)\n",
    "        \n",
    "        ids = torch.tensor(patdf['embidx'].values)\n",
    "\n",
    "        if self.labels:\n",
    "            labels = torch.tensor(patdf[label_cols].values)\n",
    "            return {'emb': patemb, 'embidx' : ids, 'labels': labels}    \n",
    "        else:      \n",
    "            return {'emb': patemb, 'embidx' : ids}\n",
    "\n",
    "def predict(loader):\n",
    "    valls = []\n",
    "    imgls = []\n",
    "    imgdf = loader.dataset.data.reset_index().set_index('embidx')[['Image']].copy()\n",
    "    for step, batch in enumerate(loader):\n",
    "        inputs = batch[\"emb\"]\n",
    "        mask = batch['mask'].to(device, dtype=torch.int)\n",
    "        inputs = inputs.to(device, dtype=torch.float)\n",
    "        logits = model(inputs)\n",
    "        # get the mask for masked labels\n",
    "        maskidx = mask.view(-1)==1\n",
    "        # reshape for\n",
    "        logits = logits.view(-1, n_classes)[maskidx]\n",
    "        valls.append(torch.sigmoid(logits).detach().cpu().numpy())\n",
    "        # Get the list of images\n",
    "        embidx = batch[\"embidx\"].detach().cpu().numpy().astype(np.int32)\n",
    "        embidx = embidx.flatten()[embidx.flatten()>-1]\n",
    "        images = imgdf.loc[embidx].Image.tolist() \n",
    "        imgls += images\n",
    "    return np.concatenate(valls, 0), imgls"
   ]
  },
  {
   "cell_type": "code",
   "execution_count": 4,
   "metadata": {},
   "outputs": [
    {
     "name": "stderr",
     "output_type": "stream",
     "text": [
      "2020-02-07 01:02:30,688 - Recursion-pytorch - INFO - Cuda set up : time 01:02:30.688295\n"
     ]
    }
   ],
   "source": [
    "# Print info about environments\n",
    "logger.info('Cuda set up : time {}'.format(datetime.datetime.now().time()))"
   ]
  },
  {
   "cell_type": "code",
   "execution_count": 5,
   "metadata": {},
   "outputs": [],
   "source": [
    "# Get image sequences\n",
    "trnmdf = pd.read_csv(os.path.join(path_data, 'train_metadata.csv'))\n",
    "tstmdf = pd.read_csv(os.path.join(path_data, 'test_metadata.csv'))"
   ]
  },
  {
   "cell_type": "code",
   "execution_count": 6,
   "metadata": {},
   "outputs": [],
   "source": [
    "trnmdf['SliceID'] = trnmdf[['PatientID', 'SeriesInstanceUID', 'StudyInstanceUID']].apply(lambda x: '{}__{}__{}'.format(*x.tolist()), 1)\n",
    "tstmdf['SliceID'] = tstmdf[['PatientID', 'SeriesInstanceUID', 'StudyInstanceUID']].apply(lambda x: '{}__{}__{}'.format(*x.tolist()), 1)\n",
    "\n",
    "poscols = ['ImagePos{}'.format(i) for i in range(1, 4)]\n",
    "trnmdf[poscols] = pd.DataFrame(trnmdf['ImagePositionPatient']\\\n",
    "              .apply(lambda x: list(map(float, ast.literal_eval(x)))).tolist())\n",
    "tstmdf[poscols] = pd.DataFrame(tstmdf['ImagePositionPatient']\\\n",
    "              .apply(lambda x: list(map(float, ast.literal_eval(x)))).tolist())\n",
    "\n",
    "trnmdf = trnmdf.sort_values(['SliceID']+poscols)\\\n",
    "                [['PatientID', 'SliceID', 'SOPInstanceUID']+poscols].reset_index(drop=True)\n",
    "tstmdf = tstmdf.sort_values(['SliceID']+poscols)\\\n",
    "                [['PatientID', 'SliceID', 'SOPInstanceUID']+poscols].reset_index(drop=True)"
   ]
  },
  {
   "cell_type": "code",
   "execution_count": 7,
   "metadata": {},
   "outputs": [],
   "source": [
    "trnmdf['seq'] = (trnmdf.groupby(['SliceID']).cumcount() + 1)\n",
    "tstmdf['seq'] = (tstmdf.groupby(['SliceID']).cumcount() + 1)\n",
    "\n",
    "keepcols = ['PatientID', 'SliceID', 'SOPInstanceUID', 'seq']\n",
    "trnmdf = trnmdf[keepcols]\n",
    "tstmdf = tstmdf[keepcols]\n",
    "\n",
    "trnmdf.columns = tstmdf.columns = ['PatientID', 'SliceID', 'Image', 'seq']"
   ]
  },
  {
   "cell_type": "code",
   "execution_count": 8,
   "metadata": {},
   "outputs": [],
   "source": [
    "SIZE=480\n",
    "fold=1\n",
    "GLOBALEPOCH=0"
   ]
  },
  {
   "cell_type": "code",
   "execution_count": 10,
   "metadata": {},
   "outputs": [],
   "source": [
    "# Load Data Frames\n",
    "trndf = loadobj(os.path.join(path_emb, 'loader_trn_size{}_fold{}_ep{}'.format(SIZE, fold, GLOBALEPOCH))).dataset.data\n",
    "valdf = loadobj(os.path.join(path_emb, 'loader_val_size{}_fold{}_ep{}'.format(SIZE, fold, GLOBALEPOCH))).dataset.data\n",
    "tstdf = loadobj(os.path.join('data/stg2tst', 'loader_tst2_size{}_fold{}_ep{}'.format(SIZE, fold, GLOBALEPOCH))).dataset.data"
   ]
  },
  {
   "cell_type": "code",
   "execution_count": 11,
   "metadata": {},
   "outputs": [],
   "source": [
    "trndf['embidx'] = range(trndf.shape[0])\n",
    "valdf['embidx'] = range(valdf.shape[0])\n",
    "tstdf['embidx'] = range(tstdf.shape[0])\n",
    "\n",
    "trndf = trndf.merge(trnmdf.drop('PatientID', 1), on = 'Image')\n",
    "valdf = valdf.merge(trnmdf.drop('PatientID', 1), on = 'Image')\n",
    "# tstdf = tstdf.merge(trnmdf.drop('PatientID', 1), on = 'Image')\n",
    "tstdf = tstdf.merge(tstmdf, on = 'Image')"
   ]
  },
  {
   "cell_type": "code",
   "execution_count": 12,
   "metadata": {},
   "outputs": [
    {
     "data": {
      "text/plain": [
       "(539827, 12)"
      ]
     },
     "execution_count": 12,
     "metadata": {},
     "output_type": "execute_result"
    }
   ],
   "source": [
    "trndf.shape"
   ]
  },
  {
   "cell_type": "code",
   "execution_count": 13,
   "metadata": {},
   "outputs": [
    {
     "data": {
      "text/plain": [
       "(134430, 12)"
      ]
     },
     "execution_count": 13,
     "metadata": {},
     "output_type": "execute_result"
    }
   ],
   "source": [
    "valdf.shape"
   ]
  },
  {
   "cell_type": "code",
   "execution_count": 14,
   "metadata": {},
   "outputs": [
    {
     "data": {
      "text/plain": [
       "(121232, 4)"
      ]
     },
     "execution_count": 14,
     "metadata": {},
     "output_type": "execute_result"
    }
   ],
   "source": [
    "tstmdf.shape"
   ]
  },
  {
   "cell_type": "code",
   "execution_count": 15,
   "metadata": {},
   "outputs": [
    {
     "data": {
      "text/plain": [
       "(121232, 6)"
      ]
     },
     "execution_count": 15,
     "metadata": {},
     "output_type": "execute_result"
    }
   ],
   "source": [
    "tstdf.shape"
   ]
  },
  {
   "cell_type": "code",
   "execution_count": 16,
   "metadata": {},
   "outputs": [
    {
     "data": {
      "text/plain": [
       "(121232, 6)"
      ]
     },
     "execution_count": 16,
     "metadata": {},
     "output_type": "execute_result"
    }
   ],
   "source": [
    "tstdf.shape"
   ]
  },
  {
   "cell_type": "code",
   "execution_count": 17,
   "metadata": {},
   "outputs": [
    {
     "name": "stderr",
     "output_type": "stream",
     "text": [
      "2020-02-07 01:04:02,212 - Recursion-pytorch - INFO - Trn df shape 539827 12\n",
      "2020-02-07 01:04:02,213 - Recursion-pytorch - INFO - Val df shape 134430 12\n",
      "2020-02-07 01:04:02,213 - Recursion-pytorch - INFO - Tst df shape 121232 6\n"
     ]
    }
   ],
   "source": [
    "logger.info('Trn df shape {} {}'.format(*trndf.shape))\n",
    "logger.info('Val df shape {} {}'.format(*valdf.shape))\n",
    "logger.info('Tst df shape {} {}'.format(*tstdf.shape))"
   ]
  }
 ],
 "metadata": {
  "kernelspec": {
   "display_name": "Python 3",
   "language": "python",
   "name": "python3"
  },
  "language_info": {
   "codemirror_mode": {
    "name": "ipython",
    "version": 3
   },
   "file_extension": ".py",
   "mimetype": "text/x-python",
   "name": "python",
   "nbconvert_exporter": "python",
   "pygments_lexer": "ipython3",
   "version": "3.7.6"
  }
 },
 "nbformat": 4,
 "nbformat_minor": 4
}

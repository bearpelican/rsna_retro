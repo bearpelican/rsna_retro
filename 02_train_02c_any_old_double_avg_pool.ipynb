{
 "cells": [
  {
   "cell_type": "code",
   "execution_count": 1,
   "metadata": {},
   "outputs": [
    {
     "name": "stdout",
     "output_type": "stream",
     "text": [
      "Warning: Your Kaggle API key is readable by other users on this system! To fix this, you can run 'chmod 600 /home/ashaw/.kaggle/kaggle.json'\n"
     ]
    }
   ],
   "source": [
    "from rsna_retro.imports import *\n",
    "from rsna_retro.metadata import *\n",
    "from rsna_retro.preprocess import *\n",
    "from rsna_retro.train import *"
   ]
  },
  {
   "cell_type": "code",
   "execution_count": 2,
   "metadata": {},
   "outputs": [],
   "source": [
    "set_num_threads(1)"
   ]
  },
  {
   "cell_type": "code",
   "execution_count": 3,
   "metadata": {},
   "outputs": [],
   "source": [
    "torch.cuda.set_device(5)"
   ]
  },
  {
   "cell_type": "code",
   "execution_count": 4,
   "metadata": {
    "scrolled": true
   },
   "outputs": [
    {
     "data": {
      "text/html": [
       "<div>\n",
       "<style scoped>\n",
       "    .dataframe tbody tr th:only-of-type {\n",
       "        vertical-align: middle;\n",
       "    }\n",
       "\n",
       "    .dataframe tbody tr th {\n",
       "        vertical-align: top;\n",
       "    }\n",
       "\n",
       "    .dataframe thead th {\n",
       "        text-align: right;\n",
       "    }\n",
       "</style>\n",
       "<table border=\"1\" class=\"dataframe\">\n",
       "  <thead>\n",
       "    <tr style=\"text-align: right;\">\n",
       "      <th></th>\n",
       "      <th>Modality</th>\n",
       "      <th>PatientID</th>\n",
       "      <th>StudyInstanceUID</th>\n",
       "      <th>SeriesInstanceUID</th>\n",
       "      <th>StudyID</th>\n",
       "      <th>ImagePositionPatient</th>\n",
       "      <th>ImageOrientationPatient</th>\n",
       "      <th>SamplesPerPixel</th>\n",
       "      <th>PhotometricInterpretation</th>\n",
       "      <th>Rows</th>\n",
       "      <th>...</th>\n",
       "      <th>MultiWindowCenter</th>\n",
       "      <th>WindowCenter1</th>\n",
       "      <th>MultiWindowWidth</th>\n",
       "      <th>WindowWidth1</th>\n",
       "      <th>any</th>\n",
       "      <th>epidural</th>\n",
       "      <th>intraparenchymal</th>\n",
       "      <th>intraventricular</th>\n",
       "      <th>subarachnoid</th>\n",
       "      <th>subdural</th>\n",
       "    </tr>\n",
       "    <tr>\n",
       "      <th>SOPInstanceUID</th>\n",
       "      <th></th>\n",
       "      <th></th>\n",
       "      <th></th>\n",
       "      <th></th>\n",
       "      <th></th>\n",
       "      <th></th>\n",
       "      <th></th>\n",
       "      <th></th>\n",
       "      <th></th>\n",
       "      <th></th>\n",
       "      <th></th>\n",
       "      <th></th>\n",
       "      <th></th>\n",
       "      <th></th>\n",
       "      <th></th>\n",
       "      <th></th>\n",
       "      <th></th>\n",
       "      <th></th>\n",
       "      <th></th>\n",
       "      <th></th>\n",
       "      <th></th>\n",
       "    </tr>\n",
       "  </thead>\n",
       "  <tbody>\n",
       "    <tr>\n",
       "      <th>ID_2a8702d25</th>\n",
       "      <td>CT</td>\n",
       "      <td>ID_ff137633</td>\n",
       "      <td>ID_d17053848c</td>\n",
       "      <td>ID_7098f7c836</td>\n",
       "      <td></td>\n",
       "      <td>-126.437378</td>\n",
       "      <td>1.0</td>\n",
       "      <td>1</td>\n",
       "      <td>MONOCHROME2</td>\n",
       "      <td>512</td>\n",
       "      <td>...</td>\n",
       "      <td>NaN</td>\n",
       "      <td>NaN</td>\n",
       "      <td>NaN</td>\n",
       "      <td>NaN</td>\n",
       "      <td>1</td>\n",
       "      <td>0</td>\n",
       "      <td>1</td>\n",
       "      <td>1</td>\n",
       "      <td>0</td>\n",
       "      <td>0</td>\n",
       "    </tr>\n",
       "    <tr>\n",
       "      <th>ID_66891ac22</th>\n",
       "      <td>CT</td>\n",
       "      <td>ID_42940b2c</td>\n",
       "      <td>ID_17e33f43d0</td>\n",
       "      <td>ID_e14dd0090b</td>\n",
       "      <td></td>\n",
       "      <td>-125.000000</td>\n",
       "      <td>1.0</td>\n",
       "      <td>1</td>\n",
       "      <td>MONOCHROME2</td>\n",
       "      <td>512</td>\n",
       "      <td>...</td>\n",
       "      <td>NaN</td>\n",
       "      <td>NaN</td>\n",
       "      <td>NaN</td>\n",
       "      <td>NaN</td>\n",
       "      <td>1</td>\n",
       "      <td>0</td>\n",
       "      <td>1</td>\n",
       "      <td>0</td>\n",
       "      <td>0</td>\n",
       "      <td>0</td>\n",
       "    </tr>\n",
       "    <tr>\n",
       "      <th>ID_8e6e5b51f</th>\n",
       "      <td>CT</td>\n",
       "      <td>ID_76fbed32</td>\n",
       "      <td>ID_1d8eaa14ef</td>\n",
       "      <td>ID_e3919709a0</td>\n",
       "      <td></td>\n",
       "      <td>-125.000000</td>\n",
       "      <td>1.0</td>\n",
       "      <td>1</td>\n",
       "      <td>MONOCHROME2</td>\n",
       "      <td>512</td>\n",
       "      <td>...</td>\n",
       "      <td>NaN</td>\n",
       "      <td>NaN</td>\n",
       "      <td>NaN</td>\n",
       "      <td>NaN</td>\n",
       "      <td>1</td>\n",
       "      <td>0</td>\n",
       "      <td>0</td>\n",
       "      <td>0</td>\n",
       "      <td>0</td>\n",
       "      <td>1</td>\n",
       "    </tr>\n",
       "    <tr>\n",
       "      <th>ID_cb8b9b514</th>\n",
       "      <td>CT</td>\n",
       "      <td>ID_20039b63</td>\n",
       "      <td>ID_1cfe3e70dd</td>\n",
       "      <td>ID_e3b5d8d9b8</td>\n",
       "      <td></td>\n",
       "      <td>-125.000000</td>\n",
       "      <td>1.0</td>\n",
       "      <td>1</td>\n",
       "      <td>MONOCHROME2</td>\n",
       "      <td>512</td>\n",
       "      <td>...</td>\n",
       "      <td>NaN</td>\n",
       "      <td>NaN</td>\n",
       "      <td>NaN</td>\n",
       "      <td>NaN</td>\n",
       "      <td>0</td>\n",
       "      <td>0</td>\n",
       "      <td>0</td>\n",
       "      <td>0</td>\n",
       "      <td>0</td>\n",
       "      <td>0</td>\n",
       "    </tr>\n",
       "    <tr>\n",
       "      <th>ID_ee683911f</th>\n",
       "      <td>CT</td>\n",
       "      <td>ID_a065f3ac</td>\n",
       "      <td>ID_9c727ac231</td>\n",
       "      <td>ID_99e83a310d</td>\n",
       "      <td></td>\n",
       "      <td>-125.000000</td>\n",
       "      <td>1.0</td>\n",
       "      <td>1</td>\n",
       "      <td>MONOCHROME2</td>\n",
       "      <td>512</td>\n",
       "      <td>...</td>\n",
       "      <td>1.0</td>\n",
       "      <td>40.0</td>\n",
       "      <td>1.0</td>\n",
       "      <td>80.0</td>\n",
       "      <td>0</td>\n",
       "      <td>0</td>\n",
       "      <td>0</td>\n",
       "      <td>0</td>\n",
       "      <td>0</td>\n",
       "      <td>0</td>\n",
       "    </tr>\n",
       "  </tbody>\n",
       "</table>\n",
       "<p>5 rows × 47 columns</p>\n",
       "</div>"
      ],
      "text/plain": [
       "               Modality    PatientID StudyInstanceUID SeriesInstanceUID  \\\n",
       "SOPInstanceUID                                                            \n",
       "ID_2a8702d25         CT  ID_ff137633    ID_d17053848c     ID_7098f7c836   \n",
       "ID_66891ac22         CT  ID_42940b2c    ID_17e33f43d0     ID_e14dd0090b   \n",
       "ID_8e6e5b51f         CT  ID_76fbed32    ID_1d8eaa14ef     ID_e3919709a0   \n",
       "ID_cb8b9b514         CT  ID_20039b63    ID_1cfe3e70dd     ID_e3b5d8d9b8   \n",
       "ID_ee683911f         CT  ID_a065f3ac    ID_9c727ac231     ID_99e83a310d   \n",
       "\n",
       "               StudyID  ImagePositionPatient  ImageOrientationPatient  \\\n",
       "SOPInstanceUID                                                          \n",
       "ID_2a8702d25                     -126.437378                      1.0   \n",
       "ID_66891ac22                     -125.000000                      1.0   \n",
       "ID_8e6e5b51f                     -125.000000                      1.0   \n",
       "ID_cb8b9b514                     -125.000000                      1.0   \n",
       "ID_ee683911f                     -125.000000                      1.0   \n",
       "\n",
       "                SamplesPerPixel PhotometricInterpretation  Rows  ...  \\\n",
       "SOPInstanceUID                                                   ...   \n",
       "ID_2a8702d25                  1               MONOCHROME2   512  ...   \n",
       "ID_66891ac22                  1               MONOCHROME2   512  ...   \n",
       "ID_8e6e5b51f                  1               MONOCHROME2   512  ...   \n",
       "ID_cb8b9b514                  1               MONOCHROME2   512  ...   \n",
       "ID_ee683911f                  1               MONOCHROME2   512  ...   \n",
       "\n",
       "                MultiWindowCenter  WindowCenter1  MultiWindowWidth  \\\n",
       "SOPInstanceUID                                                       \n",
       "ID_2a8702d25                  NaN            NaN               NaN   \n",
       "ID_66891ac22                  NaN            NaN               NaN   \n",
       "ID_8e6e5b51f                  NaN            NaN               NaN   \n",
       "ID_cb8b9b514                  NaN            NaN               NaN   \n",
       "ID_ee683911f                  1.0           40.0               1.0   \n",
       "\n",
       "                WindowWidth1  any  epidural  intraparenchymal  \\\n",
       "SOPInstanceUID                                                  \n",
       "ID_2a8702d25             NaN    1         0                 1   \n",
       "ID_66891ac22             NaN    1         0                 1   \n",
       "ID_8e6e5b51f             NaN    1         0                 0   \n",
       "ID_cb8b9b514             NaN    0         0                 0   \n",
       "ID_ee683911f            80.0    0         0                 0   \n",
       "\n",
       "                intraventricular  subarachnoid  subdural  \n",
       "SOPInstanceUID                                            \n",
       "ID_2a8702d25                   1             0         0  \n",
       "ID_66891ac22                   0             0         0  \n",
       "ID_8e6e5b51f                   0             0         1  \n",
       "ID_cb8b9b514                   0             0         0  \n",
       "ID_ee683911f                   0             0         0  \n",
       "\n",
       "[5 rows x 47 columns]"
      ]
     },
     "execution_count": 4,
     "metadata": {},
     "output_type": "execute_result"
    }
   ],
   "source": [
    "df_any = meta.df_any\n",
    "df_any.head()"
   ]
  },
  {
   "cell_type": "code",
   "execution_count": 5,
   "metadata": {},
   "outputs": [],
   "source": [
    "fns = L(list(df_any.index))"
   ]
  },
  {
   "cell_type": "code",
   "execution_count": 6,
   "metadata": {},
   "outputs": [],
   "source": [
    "def get_data(fns, bs, sz, img_dir='nocrop_jpg', splits=splits_any):\n",
    "    if sz <= 256: img_dir = f'{img_dir}256'\n",
    "    return get_data_gen(fns, bs=bs, img_tfm=get_pil_fn(path/img_dir), \n",
    "                        sz=sz, splits=splits)"
   ]
  },
  {
   "cell_type": "markdown",
   "metadata": {},
   "source": [
    "## Load Model"
   ]
  },
  {
   "cell_type": "code",
   "execution_count": 9,
   "metadata": {},
   "outputs": [],
   "source": [
    "name = 'baseline_any'"
   ]
  },
  {
   "cell_type": "code",
   "execution_count": 10,
   "metadata": {},
   "outputs": [],
   "source": [
    "dbch = get_data(fns, 512, 128)\n",
    "learn = get_learner(dbch, xresnet34)"
   ]
  },
  {
   "cell_type": "markdown",
   "metadata": {},
   "source": [
    "## Training"
   ]
  },
  {
   "cell_type": "code",
   "execution_count": 8,
   "metadata": {},
   "outputs": [
    {
     "data": {
      "text/html": [
       "<table border=\"1\" class=\"dataframe\">\n",
       "  <thead>\n",
       "    <tr style=\"text-align: left;\">\n",
       "      <th>epoch</th>\n",
       "      <th>train_loss</th>\n",
       "      <th>valid_loss</th>\n",
       "      <th>accuracy_multi</th>\n",
       "      <th>accuracy_any</th>\n",
       "      <th>time</th>\n",
       "    </tr>\n",
       "  </thead>\n",
       "  <tbody>\n",
       "    <tr>\n",
       "      <td>0</td>\n",
       "      <td>0.254301</td>\n",
       "      <td>0.278034</td>\n",
       "      <td>0.896199</td>\n",
       "      <td>0.806834</td>\n",
       "      <td>03:09</td>\n",
       "    </tr>\n",
       "    <tr>\n",
       "      <td>1</td>\n",
       "      <td>0.225084</td>\n",
       "      <td>0.367604</td>\n",
       "      <td>0.875990</td>\n",
       "      <td>0.712250</td>\n",
       "      <td>03:14</td>\n",
       "    </tr>\n",
       "    <tr>\n",
       "      <td>2</td>\n",
       "      <td>0.212654</td>\n",
       "      <td>0.495538</td>\n",
       "      <td>0.814444</td>\n",
       "      <td>0.497947</td>\n",
       "      <td>03:14</td>\n",
       "    </tr>\n",
       "    <tr>\n",
       "      <td>3</td>\n",
       "      <td>0.205387</td>\n",
       "      <td>0.299321</td>\n",
       "      <td>0.899139</td>\n",
       "      <td>0.812104</td>\n",
       "      <td>03:14</td>\n",
       "    </tr>\n",
       "    <tr>\n",
       "      <td>4</td>\n",
       "      <td>0.199100</td>\n",
       "      <td>0.270439</td>\n",
       "      <td>0.904211</td>\n",
       "      <td>0.796716</td>\n",
       "      <td>03:15</td>\n",
       "    </tr>\n",
       "    <tr>\n",
       "      <td>5</td>\n",
       "      <td>0.192158</td>\n",
       "      <td>0.209285</td>\n",
       "      <td>0.922880</td>\n",
       "      <td>0.861820</td>\n",
       "      <td>03:15</td>\n",
       "    </tr>\n",
       "    <tr>\n",
       "      <td>6</td>\n",
       "      <td>0.188286</td>\n",
       "      <td>0.195047</td>\n",
       "      <td>0.929555</td>\n",
       "      <td>0.876705</td>\n",
       "      <td>03:15</td>\n",
       "    </tr>\n",
       "    <tr>\n",
       "      <td>7</td>\n",
       "      <td>0.182425</td>\n",
       "      <td>0.199078</td>\n",
       "      <td>0.929281</td>\n",
       "      <td>0.868971</td>\n",
       "      <td>03:16</td>\n",
       "    </tr>\n",
       "    <tr>\n",
       "      <td>8</td>\n",
       "      <td>0.180373</td>\n",
       "      <td>0.205410</td>\n",
       "      <td>0.925202</td>\n",
       "      <td>0.864177</td>\n",
       "      <td>03:14</td>\n",
       "    </tr>\n",
       "    <tr>\n",
       "      <td>9</td>\n",
       "      <td>0.174530</td>\n",
       "      <td>0.194176</td>\n",
       "      <td>0.930446</td>\n",
       "      <td>0.878692</td>\n",
       "      <td>03:12</td>\n",
       "    </tr>\n",
       "    <tr>\n",
       "      <td>10</td>\n",
       "      <td>0.172995</td>\n",
       "      <td>0.190289</td>\n",
       "      <td>0.931815</td>\n",
       "      <td>0.871169</td>\n",
       "      <td>03:14</td>\n",
       "    </tr>\n",
       "    <tr>\n",
       "      <td>11</td>\n",
       "      <td>0.169726</td>\n",
       "      <td>0.199658</td>\n",
       "      <td>0.929665</td>\n",
       "      <td>0.867435</td>\n",
       "      <td>03:13</td>\n",
       "    </tr>\n",
       "    <tr>\n",
       "      <td>12</td>\n",
       "      <td>0.163822</td>\n",
       "      <td>0.181987</td>\n",
       "      <td>0.935068</td>\n",
       "      <td>0.884254</td>\n",
       "      <td>03:12</td>\n",
       "    </tr>\n",
       "    <tr>\n",
       "      <td>13</td>\n",
       "      <td>0.160782</td>\n",
       "      <td>0.174804</td>\n",
       "      <td>0.938944</td>\n",
       "      <td>0.889736</td>\n",
       "      <td>03:12</td>\n",
       "    </tr>\n",
       "    <tr>\n",
       "      <td>14</td>\n",
       "      <td>0.157135</td>\n",
       "      <td>0.172409</td>\n",
       "      <td>0.939695</td>\n",
       "      <td>0.892226</td>\n",
       "      <td>03:11</td>\n",
       "    </tr>\n",
       "    <tr>\n",
       "      <td>15</td>\n",
       "      <td>0.149388</td>\n",
       "      <td>0.170656</td>\n",
       "      <td>0.940428</td>\n",
       "      <td>0.896014</td>\n",
       "      <td>03:12</td>\n",
       "    </tr>\n",
       "    <tr>\n",
       "      <td>16</td>\n",
       "      <td>0.142425</td>\n",
       "      <td>0.170035</td>\n",
       "      <td>0.941310</td>\n",
       "      <td>0.895616</td>\n",
       "      <td>03:11</td>\n",
       "    </tr>\n",
       "    <tr>\n",
       "      <td>17</td>\n",
       "      <td>0.139453</td>\n",
       "      <td>0.167509</td>\n",
       "      <td>0.942131</td>\n",
       "      <td>0.897020</td>\n",
       "      <td>03:14</td>\n",
       "    </tr>\n",
       "    <tr>\n",
       "      <td>18</td>\n",
       "      <td>0.131454</td>\n",
       "      <td>0.168411</td>\n",
       "      <td>0.942423</td>\n",
       "      <td>0.897365</td>\n",
       "      <td>03:13</td>\n",
       "    </tr>\n",
       "    <tr>\n",
       "      <td>19</td>\n",
       "      <td>0.129294</td>\n",
       "      <td>0.168577</td>\n",
       "      <td>0.942250</td>\n",
       "      <td>0.897047</td>\n",
       "      <td>03:13</td>\n",
       "    </tr>\n",
       "  </tbody>\n",
       "</table>"
      ],
      "text/plain": [
       "<IPython.core.display.HTML object>"
      ]
     },
     "metadata": {},
     "output_type": "display_data"
    }
   ],
   "source": [
    "do_fit(learn, 20, 4e-2, freeze=False)\n",
    "learn.save(f'runs/{name}-1')"
   ]
  },
  {
   "cell_type": "code",
   "execution_count": 9,
   "metadata": {},
   "outputs": [
    {
     "data": {
      "text/html": [
       "<table border=\"1\" class=\"dataframe\">\n",
       "  <thead>\n",
       "    <tr style=\"text-align: left;\">\n",
       "      <th>epoch</th>\n",
       "      <th>train_loss</th>\n",
       "      <th>valid_loss</th>\n",
       "      <th>accuracy_multi</th>\n",
       "      <th>accuracy_any</th>\n",
       "      <th>time</th>\n",
       "    </tr>\n",
       "  </thead>\n",
       "  <tbody>\n",
       "    <tr>\n",
       "      <td>0</td>\n",
       "      <td>0.186483</td>\n",
       "      <td>0.195522</td>\n",
       "      <td>0.930711</td>\n",
       "      <td>0.877765</td>\n",
       "      <td>08:23</td>\n",
       "    </tr>\n",
       "    <tr>\n",
       "      <td>1</td>\n",
       "      <td>0.168234</td>\n",
       "      <td>0.178869</td>\n",
       "      <td>0.937002</td>\n",
       "      <td>0.888651</td>\n",
       "      <td>08:06</td>\n",
       "    </tr>\n",
       "    <tr>\n",
       "      <td>2</td>\n",
       "      <td>0.157464</td>\n",
       "      <td>0.170420</td>\n",
       "      <td>0.939505</td>\n",
       "      <td>0.894186</td>\n",
       "      <td>08:10</td>\n",
       "    </tr>\n",
       "    <tr>\n",
       "      <td>3</td>\n",
       "      <td>0.151394</td>\n",
       "      <td>0.167016</td>\n",
       "      <td>0.942048</td>\n",
       "      <td>0.897285</td>\n",
       "      <td>08:16</td>\n",
       "    </tr>\n",
       "    <tr>\n",
       "      <td>4</td>\n",
       "      <td>0.148513</td>\n",
       "      <td>0.165948</td>\n",
       "      <td>0.941443</td>\n",
       "      <td>0.897418</td>\n",
       "      <td>08:13</td>\n",
       "    </tr>\n",
       "    <tr>\n",
       "      <td>5</td>\n",
       "      <td>0.143086</td>\n",
       "      <td>0.167033</td>\n",
       "      <td>0.941509</td>\n",
       "      <td>0.896358</td>\n",
       "      <td>08:12</td>\n",
       "    </tr>\n",
       "    <tr>\n",
       "      <td>6</td>\n",
       "      <td>0.139229</td>\n",
       "      <td>0.165709</td>\n",
       "      <td>0.942445</td>\n",
       "      <td>0.896252</td>\n",
       "      <td>08:12</td>\n",
       "    </tr>\n",
       "    <tr>\n",
       "      <td>7</td>\n",
       "      <td>0.137324</td>\n",
       "      <td>0.166132</td>\n",
       "      <td>0.942767</td>\n",
       "      <td>0.898662</td>\n",
       "      <td>08:10</td>\n",
       "    </tr>\n",
       "    <tr>\n",
       "      <td>8</td>\n",
       "      <td>0.132522</td>\n",
       "      <td>0.169561</td>\n",
       "      <td>0.942824</td>\n",
       "      <td>0.898239</td>\n",
       "      <td>08:14</td>\n",
       "    </tr>\n",
       "    <tr>\n",
       "      <td>9</td>\n",
       "      <td>0.130888</td>\n",
       "      <td>0.168320</td>\n",
       "      <td>0.942048</td>\n",
       "      <td>0.897524</td>\n",
       "      <td>08:25</td>\n",
       "    </tr>\n",
       "    <tr>\n",
       "      <td>10</td>\n",
       "      <td>0.126060</td>\n",
       "      <td>0.169343</td>\n",
       "      <td>0.941650</td>\n",
       "      <td>0.896570</td>\n",
       "      <td>08:16</td>\n",
       "    </tr>\n",
       "    <tr>\n",
       "      <td>11</td>\n",
       "      <td>0.122699</td>\n",
       "      <td>0.170526</td>\n",
       "      <td>0.942524</td>\n",
       "      <td>0.896517</td>\n",
       "      <td>08:24</td>\n",
       "    </tr>\n",
       "    <tr>\n",
       "      <td>12</td>\n",
       "      <td>0.121655</td>\n",
       "      <td>0.174047</td>\n",
       "      <td>0.942983</td>\n",
       "      <td>0.897974</td>\n",
       "      <td>08:34</td>\n",
       "    </tr>\n",
       "    <tr>\n",
       "      <td>13</td>\n",
       "      <td>0.113505</td>\n",
       "      <td>0.176059</td>\n",
       "      <td>0.942586</td>\n",
       "      <td>0.896173</td>\n",
       "      <td>08:22</td>\n",
       "    </tr>\n",
       "    <tr>\n",
       "      <td>14</td>\n",
       "      <td>0.111810</td>\n",
       "      <td>0.180508</td>\n",
       "      <td>0.942176</td>\n",
       "      <td>0.894160</td>\n",
       "      <td>08:20</td>\n",
       "    </tr>\n",
       "    <tr>\n",
       "      <td>15</td>\n",
       "      <td>0.108180</td>\n",
       "      <td>0.182603</td>\n",
       "      <td>0.942758</td>\n",
       "      <td>0.896279</td>\n",
       "      <td>08:16</td>\n",
       "    </tr>\n",
       "    <tr>\n",
       "      <td>16</td>\n",
       "      <td>0.101370</td>\n",
       "      <td>0.188855</td>\n",
       "      <td>0.942184</td>\n",
       "      <td>0.895616</td>\n",
       "      <td>08:09</td>\n",
       "    </tr>\n",
       "    <tr>\n",
       "      <td>17</td>\n",
       "      <td>0.097319</td>\n",
       "      <td>0.194115</td>\n",
       "      <td>0.941646</td>\n",
       "      <td>0.893365</td>\n",
       "      <td>08:16</td>\n",
       "    </tr>\n",
       "    <tr>\n",
       "      <td>18</td>\n",
       "      <td>0.094541</td>\n",
       "      <td>0.194691</td>\n",
       "      <td>0.941443</td>\n",
       "      <td>0.893233</td>\n",
       "      <td>08:14</td>\n",
       "    </tr>\n",
       "    <tr>\n",
       "      <td>19</td>\n",
       "      <td>0.093584</td>\n",
       "      <td>0.194711</td>\n",
       "      <td>0.941451</td>\n",
       "      <td>0.893498</td>\n",
       "      <td>08:16</td>\n",
       "    </tr>\n",
       "  </tbody>\n",
       "</table>"
      ],
      "text/plain": [
       "<IPython.core.display.HTML object>"
      ]
     },
     "metadata": {},
     "output_type": "display_data"
    }
   ],
   "source": [
    "learn.dbunch = get_data(fns, 512, 256)\n",
    "do_fit(learn, 20, 2e-3, freeze=False)\n",
    "learn.save(f'runs/{name}-2')"
   ]
  },
  {
   "cell_type": "code",
   "execution_count": 10,
   "metadata": {},
   "outputs": [
    {
     "data": {
      "text/plain": [
       "<fastai2.learner.Learner at 0x7f0730233890>"
      ]
     },
     "execution_count": 10,
     "metadata": {},
     "output_type": "execute_result"
    }
   ],
   "source": [
    "learn.load(f'runs/{name}-2')"
   ]
  },
  {
   "cell_type": "code",
   "execution_count": 11,
   "metadata": {},
   "outputs": [
    {
     "data": {
      "text/html": [
       "<table border=\"1\" class=\"dataframe\">\n",
       "  <thead>\n",
       "    <tr style=\"text-align: left;\">\n",
       "      <th>epoch</th>\n",
       "      <th>train_loss</th>\n",
       "      <th>valid_loss</th>\n",
       "      <th>accuracy_multi</th>\n",
       "      <th>accuracy_any</th>\n",
       "      <th>time</th>\n",
       "    </tr>\n",
       "  </thead>\n",
       "  <tbody>\n",
       "    <tr>\n",
       "      <td>0</td>\n",
       "      <td>0.053476</td>\n",
       "      <td>0.087890</td>\n",
       "      <td>0.974885</td>\n",
       "      <td>0.951471</td>\n",
       "      <td>20:22</td>\n",
       "    </tr>\n",
       "    <tr>\n",
       "      <td>1</td>\n",
       "      <td>0.050286</td>\n",
       "      <td>0.087986</td>\n",
       "      <td>0.974869</td>\n",
       "      <td>0.951376</td>\n",
       "      <td>20:14</td>\n",
       "    </tr>\n",
       "  </tbody>\n",
       "</table>"
      ],
      "text/plain": [
       "<IPython.core.display.HTML object>"
      ]
     },
     "metadata": {},
     "output_type": "display_data"
    }
   ],
   "source": [
    "fns_full = L(list(df_comb.index))\n",
    "learn.dbunch = get_data(fns_full, 512, 256, splits=splits)\n",
    "do_fit(learn, 2, 1e-4, freeze=False)\n",
    "learn.save(f'runs/{name}-2b')"
   ]
  },
  {
   "cell_type": "markdown",
   "metadata": {},
   "source": [
    "## Submission"
   ]
  },
  {
   "cell_type": "code",
   "execution_count": 11,
   "metadata": {},
   "outputs": [],
   "source": [
    "learn.load(f'runs/{name}-2b')\n",
    "sub_fn = f'subm/{name}'"
   ]
  },
  {
   "cell_type": "code",
   "execution_count": 12,
   "metadata": {},
   "outputs": [],
   "source": [
    "learn.dbunch = get_test_data(meta.df_tst, bs=512, sz=None, tst_dir='tst_jpg256')"
   ]
  },
  {
   "cell_type": "code",
   "execution_count": 13,
   "metadata": {},
   "outputs": [],
   "source": [
    "ob = learn.dbunch.one_batch()"
   ]
  },
  {
   "cell_type": "code",
   "execution_count": 16,
   "metadata": {},
   "outputs": [
    {
     "data": {
      "text/html": [],
      "text/plain": [
       "<IPython.core.display.HTML object>"
      ]
     },
     "metadata": {},
     "output_type": "display_data"
    }
   ],
   "source": [
    "preds,targs = learn.get_preds()"
   ]
  },
  {
   "cell_type": "code",
   "execution_count": null,
   "metadata": {},
   "outputs": [],
   "source": [
    "pred_csv = submission(meta.df_tst, preds, fn=sub_fn)"
   ]
  },
  {
   "cell_type": "code",
   "execution_count": 20,
   "metadata": {},
   "outputs": [],
   "source": [
    "from IPython.display import FileLink, FileLinks\n",
    "from kaggle import api"
   ]
  },
  {
   "cell_type": "code",
   "execution_count": 21,
   "metadata": {},
   "outputs": [
    {
     "data": {
      "text/html": [
       "<a href='subm/baseline_any.csv' target='_blank'>subm/baseline_any.csv</a><br>"
      ],
      "text/plain": [
       "/home/ashaw/kaggle/rsna_retro/subm/baseline_any.csv"
      ]
     },
     "execution_count": 21,
     "metadata": {},
     "output_type": "execute_result"
    }
   ],
   "source": [
    "FileLink(f'{sub_fn}.csv')"
   ]
  },
  {
   "cell_type": "code",
   "execution_count": 22,
   "metadata": {},
   "outputs": [
    {
     "name": "stderr",
     "output_type": "stream",
     "text": [
      "100%|██████████| 26.0M/26.0M [00:04<00:00, 6.23MB/s]\n"
     ]
    },
    {
     "data": {
      "text/plain": [
       "Successfully submitted to RSNA Intracranial Hemorrhage Detection"
      ]
     },
     "execution_count": 22,
     "metadata": {},
     "output_type": "execute_result"
    }
   ],
   "source": [
    "api.competition_submit(f'{sub_fn}.csv', 'train_02_any', 'rsna-intracranial-hemorrhage-detection')"
   ]
  },
  {
   "cell_type": "code",
   "execution_count": 27,
   "metadata": {},
   "outputs": [
    {
     "data": {
      "text/plain": [
       "{'ref': 13722309,\n",
       " 'totalBytes': 27277209,\n",
       " 'date': '2019-12-10T08:50:51.717Z',\n",
       " 'description': 'train_02_any',\n",
       " 'errorDescription': None,\n",
       " 'fileName': 'baseline_any.csv',\n",
       " 'publicScore': '0.72453',\n",
       " 'privateScore': '0.07846',\n",
       " 'status': 'complete',\n",
       " 'submittedBy': 'Andrew Shaw',\n",
       " 'submittedByRef': 'bearpelican',\n",
       " 'teamName': 'Andrew Shaw',\n",
       " 'type': 'standard',\n",
       " 'url': 'https://www.kaggle.com/submissions/13722309/13722309.raw'}"
      ]
     },
     "execution_count": 27,
     "metadata": {},
     "output_type": "execute_result"
    }
   ],
   "source": [
    "api.competitions_submissions_list('rsna-intracranial-hemorrhage-detection')[0]"
   ]
  },
  {
   "cell_type": "markdown",
   "metadata": {},
   "source": [
    "## Export"
   ]
  },
  {
   "cell_type": "code",
   "execution_count": 3,
   "metadata": {},
   "outputs": [
    {
     "name": "stdout",
     "output_type": "stream",
     "text": [
      "Converted 01_data_01_metadata_stage2.ipynb.\n",
      "Converted 01_data_02_preprocess_windows.ipynb.\n",
      "Converted 02_train_01_train.ipynb.\n",
      "Converted 04_orig_replace_ashaw_refactor.ipynb.\n",
      "Converted 04_replace_ashaw_refactor.ipynb.\n",
      "Converted 04b_orig_replace_ashaw_refactor.ipynb.\n",
      "Converted 10_qure.ipynb.\n",
      "Converted 12_merge.ipynb.\n",
      "Converted 14_xgboost.ipynb.\n",
      "Converted 16_slice_e2e-shallow.ipynb.\n",
      "Converted 16b_orig_slice_e2e-shallow.ipynb.\n",
      "This cell doesn't have an export destination and was ignored:\n",
      "e\n",
      "Converted 17_slice_model-deep.ipynb.\n",
      "Converted 21_cleanup-nocrop2.ipynb.\n",
      "Converted 26_submit_final.ipynb.\n",
      "Converted 27_ensemble_tabular_nn.ipynb.\n",
      "Converted 99_index.ipynb.\n",
      "Converted cleanup-combine-qure.ipynb.\n",
      "Converted delete_03b_cleanup-tif.ipynb.\n",
      "Converted submit.ipynb.\n",
      "Converted walkthru.ipynb.\n",
      "Converted x00_tcia-ct-segm-prep.ipynb.\n",
      "Converted x00_tcia-ct-segm-train.ipynb.\n"
     ]
    }
   ],
   "source": [
    "#hide\n",
    "from nbdev.export import notebook2script\n",
    "notebook2script()"
   ]
  }
 ],
 "metadata": {
  "kernelspec": {
   "display_name": "Python 3",
   "language": "python",
   "name": "python3"
  },
  "language_info": {
   "codemirror_mode": {
    "name": "ipython",
    "version": 3
   },
   "file_extension": ".py",
   "mimetype": "text/x-python",
   "name": "python",
   "nbconvert_exporter": "python",
   "pygments_lexer": "ipython3",
   "version": "3.7.5"
  }
 },
 "nbformat": 4,
 "nbformat_minor": 2
}

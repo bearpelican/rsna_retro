{
 "cells": [
  {
   "cell_type": "code",
   "execution_count": 1,
   "metadata": {},
   "outputs": [],
   "source": [
    "#default_exp train"
   ]
  },
  {
   "cell_type": "code",
   "execution_count": 2,
   "metadata": {},
   "outputs": [
    {
     "name": "stdout",
     "output_type": "stream",
     "text": [
      "Loading imports\n",
      "Warning: Your Kaggle API key is readable by other users on this system! To fix this, you can run 'chmod 600 /home/ashaw/.kaggle/kaggle.json'\n"
     ]
    }
   ],
   "source": [
    "#export\n",
    "from rsna_retro.imports import *\n",
    "from rsna_retro.metadata import *\n",
    "from rsna_retro.preprocess import *"
   ]
  },
  {
   "cell_type": "code",
   "execution_count": 3,
   "metadata": {},
   "outputs": [],
   "source": [
    "torch.cuda.set_device(3)"
   ]
  },
  {
   "cell_type": "code",
   "execution_count": 4,
   "metadata": {
    "scrolled": true
   },
   "outputs": [
    {
     "data": {
      "text/html": [
       "<div>\n",
       "<style scoped>\n",
       "    .dataframe tbody tr th:only-of-type {\n",
       "        vertical-align: middle;\n",
       "    }\n",
       "\n",
       "    .dataframe tbody tr th {\n",
       "        vertical-align: top;\n",
       "    }\n",
       "\n",
       "    .dataframe thead th {\n",
       "        text-align: right;\n",
       "    }\n",
       "</style>\n",
       "<table border=\"1\" class=\"dataframe\">\n",
       "  <thead>\n",
       "    <tr style=\"text-align: right;\">\n",
       "      <th></th>\n",
       "      <th>Modality</th>\n",
       "      <th>PatientID</th>\n",
       "      <th>StudyInstanceUID</th>\n",
       "      <th>SeriesInstanceUID</th>\n",
       "      <th>StudyID</th>\n",
       "      <th>ImagePositionPatient</th>\n",
       "      <th>ImageOrientationPatient</th>\n",
       "      <th>SamplesPerPixel</th>\n",
       "      <th>PhotometricInterpretation</th>\n",
       "      <th>Rows</th>\n",
       "      <th>...</th>\n",
       "      <th>MultiWindowCenter</th>\n",
       "      <th>WindowCenter1</th>\n",
       "      <th>MultiWindowWidth</th>\n",
       "      <th>WindowWidth1</th>\n",
       "      <th>any</th>\n",
       "      <th>epidural</th>\n",
       "      <th>intraparenchymal</th>\n",
       "      <th>intraventricular</th>\n",
       "      <th>subarachnoid</th>\n",
       "      <th>subdural</th>\n",
       "    </tr>\n",
       "    <tr>\n",
       "      <th>SOPInstanceUID</th>\n",
       "      <th></th>\n",
       "      <th></th>\n",
       "      <th></th>\n",
       "      <th></th>\n",
       "      <th></th>\n",
       "      <th></th>\n",
       "      <th></th>\n",
       "      <th></th>\n",
       "      <th></th>\n",
       "      <th></th>\n",
       "      <th></th>\n",
       "      <th></th>\n",
       "      <th></th>\n",
       "      <th></th>\n",
       "      <th></th>\n",
       "      <th></th>\n",
       "      <th></th>\n",
       "      <th></th>\n",
       "      <th></th>\n",
       "      <th></th>\n",
       "      <th></th>\n",
       "    </tr>\n",
       "  </thead>\n",
       "  <tbody>\n",
       "    <tr>\n",
       "      <th>ID_352e89f1c</th>\n",
       "      <td>CT</td>\n",
       "      <td>ID_d557ddd2</td>\n",
       "      <td>ID_05074a0d95</td>\n",
       "      <td>ID_be6165332c</td>\n",
       "      <td></td>\n",
       "      <td>-125.000000</td>\n",
       "      <td>1.0</td>\n",
       "      <td>1</td>\n",
       "      <td>MONOCHROME2</td>\n",
       "      <td>512</td>\n",
       "      <td>...</td>\n",
       "      <td>NaN</td>\n",
       "      <td>NaN</td>\n",
       "      <td>NaN</td>\n",
       "      <td>NaN</td>\n",
       "      <td>0</td>\n",
       "      <td>0</td>\n",
       "      <td>0</td>\n",
       "      <td>0</td>\n",
       "      <td>0</td>\n",
       "      <td>0</td>\n",
       "    </tr>\n",
       "    <tr>\n",
       "      <th>ID_3cf4fb50f</th>\n",
       "      <td>CT</td>\n",
       "      <td>ID_16b2ad86</td>\n",
       "      <td>ID_c3a404ea2e</td>\n",
       "      <td>ID_2c1454e208</td>\n",
       "      <td></td>\n",
       "      <td>-125.000000</td>\n",
       "      <td>1.0</td>\n",
       "      <td>1</td>\n",
       "      <td>MONOCHROME2</td>\n",
       "      <td>512</td>\n",
       "      <td>...</td>\n",
       "      <td>1.0</td>\n",
       "      <td>36.0</td>\n",
       "      <td>1.0</td>\n",
       "      <td>80.0</td>\n",
       "      <td>0</td>\n",
       "      <td>0</td>\n",
       "      <td>0</td>\n",
       "      <td>0</td>\n",
       "      <td>0</td>\n",
       "      <td>0</td>\n",
       "    </tr>\n",
       "    <tr>\n",
       "      <th>ID_e3674b189</th>\n",
       "      <td>CT</td>\n",
       "      <td>ID_eb712bf0</td>\n",
       "      <td>ID_db83193795</td>\n",
       "      <td>ID_e1facea145</td>\n",
       "      <td></td>\n",
       "      <td>-125.000000</td>\n",
       "      <td>1.0</td>\n",
       "      <td>1</td>\n",
       "      <td>MONOCHROME2</td>\n",
       "      <td>512</td>\n",
       "      <td>...</td>\n",
       "      <td>NaN</td>\n",
       "      <td>NaN</td>\n",
       "      <td>NaN</td>\n",
       "      <td>NaN</td>\n",
       "      <td>0</td>\n",
       "      <td>0</td>\n",
       "      <td>0</td>\n",
       "      <td>0</td>\n",
       "      <td>0</td>\n",
       "      <td>0</td>\n",
       "    </tr>\n",
       "    <tr>\n",
       "      <th>ID_2a8702d25</th>\n",
       "      <td>CT</td>\n",
       "      <td>ID_ff137633</td>\n",
       "      <td>ID_d17053848c</td>\n",
       "      <td>ID_7098f7c836</td>\n",
       "      <td></td>\n",
       "      <td>-126.437378</td>\n",
       "      <td>1.0</td>\n",
       "      <td>1</td>\n",
       "      <td>MONOCHROME2</td>\n",
       "      <td>512</td>\n",
       "      <td>...</td>\n",
       "      <td>NaN</td>\n",
       "      <td>NaN</td>\n",
       "      <td>NaN</td>\n",
       "      <td>NaN</td>\n",
       "      <td>1</td>\n",
       "      <td>0</td>\n",
       "      <td>1</td>\n",
       "      <td>1</td>\n",
       "      <td>0</td>\n",
       "      <td>0</td>\n",
       "    </tr>\n",
       "    <tr>\n",
       "      <th>ID_7be0f1b3c</th>\n",
       "      <td>CT</td>\n",
       "      <td>ID_cd9169c2</td>\n",
       "      <td>ID_b42de79024</td>\n",
       "      <td>ID_f5bd86b25b</td>\n",
       "      <td></td>\n",
       "      <td>-125.000000</td>\n",
       "      <td>1.0</td>\n",
       "      <td>1</td>\n",
       "      <td>MONOCHROME2</td>\n",
       "      <td>512</td>\n",
       "      <td>...</td>\n",
       "      <td>NaN</td>\n",
       "      <td>NaN</td>\n",
       "      <td>NaN</td>\n",
       "      <td>NaN</td>\n",
       "      <td>0</td>\n",
       "      <td>0</td>\n",
       "      <td>0</td>\n",
       "      <td>0</td>\n",
       "      <td>0</td>\n",
       "      <td>0</td>\n",
       "    </tr>\n",
       "  </tbody>\n",
       "</table>\n",
       "<p>5 rows × 47 columns</p>\n",
       "</div>"
      ],
      "text/plain": [
       "               Modality    PatientID StudyInstanceUID SeriesInstanceUID  \\\n",
       "SOPInstanceUID                                                            \n",
       "ID_352e89f1c         CT  ID_d557ddd2    ID_05074a0d95     ID_be6165332c   \n",
       "ID_3cf4fb50f         CT  ID_16b2ad86    ID_c3a404ea2e     ID_2c1454e208   \n",
       "ID_e3674b189         CT  ID_eb712bf0    ID_db83193795     ID_e1facea145   \n",
       "ID_2a8702d25         CT  ID_ff137633    ID_d17053848c     ID_7098f7c836   \n",
       "ID_7be0f1b3c         CT  ID_cd9169c2    ID_b42de79024     ID_f5bd86b25b   \n",
       "\n",
       "               StudyID  ImagePositionPatient  ImageOrientationPatient  \\\n",
       "SOPInstanceUID                                                          \n",
       "ID_352e89f1c                     -125.000000                      1.0   \n",
       "ID_3cf4fb50f                     -125.000000                      1.0   \n",
       "ID_e3674b189                     -125.000000                      1.0   \n",
       "ID_2a8702d25                     -126.437378                      1.0   \n",
       "ID_7be0f1b3c                     -125.000000                      1.0   \n",
       "\n",
       "                SamplesPerPixel PhotometricInterpretation  Rows  ...  \\\n",
       "SOPInstanceUID                                                   ...   \n",
       "ID_352e89f1c                  1               MONOCHROME2   512  ...   \n",
       "ID_3cf4fb50f                  1               MONOCHROME2   512  ...   \n",
       "ID_e3674b189                  1               MONOCHROME2   512  ...   \n",
       "ID_2a8702d25                  1               MONOCHROME2   512  ...   \n",
       "ID_7be0f1b3c                  1               MONOCHROME2   512  ...   \n",
       "\n",
       "                MultiWindowCenter  WindowCenter1  MultiWindowWidth  \\\n",
       "SOPInstanceUID                                                       \n",
       "ID_352e89f1c                  NaN            NaN               NaN   \n",
       "ID_3cf4fb50f                  1.0           36.0               1.0   \n",
       "ID_e3674b189                  NaN            NaN               NaN   \n",
       "ID_2a8702d25                  NaN            NaN               NaN   \n",
       "ID_7be0f1b3c                  NaN            NaN               NaN   \n",
       "\n",
       "                WindowWidth1  any  epidural  intraparenchymal  \\\n",
       "SOPInstanceUID                                                  \n",
       "ID_352e89f1c             NaN    0         0                 0   \n",
       "ID_3cf4fb50f            80.0    0         0                 0   \n",
       "ID_e3674b189             NaN    0         0                 0   \n",
       "ID_2a8702d25             NaN    1         0                 1   \n",
       "ID_7be0f1b3c             NaN    0         0                 0   \n",
       "\n",
       "                intraventricular  subarachnoid  subdural  \n",
       "SOPInstanceUID                                            \n",
       "ID_352e89f1c                   0             0         0  \n",
       "ID_3cf4fb50f                   0             0         0  \n",
       "ID_e3674b189                   0             0         0  \n",
       "ID_2a8702d25                   1             0         0  \n",
       "ID_7be0f1b3c                   0             0         0  \n",
       "\n",
       "[5 rows x 47 columns]"
      ]
     },
     "execution_count": 4,
     "metadata": {},
     "output_type": "execute_result"
    }
   ],
   "source": [
    "Meta.df_comb.head()"
   ]
  },
  {
   "cell_type": "code",
   "execution_count": 5,
   "metadata": {},
   "outputs": [],
   "source": [
    "#export\n",
    "def get_pil_fn(p):\n",
    "    def _f(fn): return PILCTScan.create(p/f'{fn}.jpg')\n",
    "    return _f"
   ]
  },
  {
   "cell_type": "code",
   "execution_count": 6,
   "metadata": {},
   "outputs": [],
   "source": [
    "#export\n",
    "def fn2label(fn): return Meta.df_comb.loc[fn][htypes].values.astype(np.float32)"
   ]
  },
  {
   "cell_type": "code",
   "execution_count": 7,
   "metadata": {},
   "outputs": [],
   "source": [
    "#export\n",
    "mean = [x/255.0 for x in [ 56.2214,  62.1220, 141.9133]]\n",
    "std = [x/255.0 for x in [93.0132, 77.8876, 50.8730]]"
   ]
  },
  {
   "cell_type": "code",
   "execution_count": 8,
   "metadata": {},
   "outputs": [],
   "source": [
    "#export\n",
    "def get_wgts(df, splits):\n",
    "    wgts = df['any'][splits[0]].values\n",
    "    return wgts * (1/0.14 - 2) + 1"
   ]
  },
  {
   "cell_type": "code",
   "execution_count": 9,
   "metadata": {},
   "outputs": [],
   "source": [
    "#export\n",
    "def get_data_gen(fns, bs, img_tfm, splits, sz=None, nw=8, mean=mean, std=std,\n",
    "        wgts=None, batch_xtra=None, after_item=None, with_aug=True, test=False, **kwargs):\n",
    "    tfms = [[img_tfm, ToTensor], [fn2label,EncodedMultiCategorize(htypes)]]\n",
    "    if test: tfms = [tfms[0]]\n",
    "    dsrc = DataSource(fns, tfms, splits=splits)\n",
    "    nrm = Normalize.from_stats(mean,std)\n",
    "    batch_tfms = L(IntToFloatTensor, nrm, Cuda()) + L(batch_xtra)\n",
    "    if with_aug: batch_tfms += aug_transforms(**kwargs)\n",
    "    if sz is not None:\n",
    "        batch_tfms = batch_tfms+[RandomResizedCropGPU(sz, min_scale=0.7, ratio=(1.,1.), valid_scale=0.9)]\n",
    "    if wgts is None:\n",
    "        return dsrc.databunch(bs=bs, num_workers=nw, after_item=after_item, after_batch=batch_tfms)\n",
    "    else:\n",
    "        return dsrc.weighted_databunch(wgts, bs=bs, num_workers=nw, after_item=after_item, after_batch=batch_tfms)\n"
   ]
  },
  {
   "cell_type": "code",
   "execution_count": 10,
   "metadata": {},
   "outputs": [],
   "source": [
    "#export\n",
    "def filename(o): return os.path.splitext(os.path.basename(o))[0]"
   ]
  },
  {
   "cell_type": "code",
   "execution_count": 11,
   "metadata": {},
   "outputs": [],
   "source": [
    "fns = L(list(Meta.df_comb.index))"
   ]
  },
  {
   "cell_type": "code",
   "execution_count": 12,
   "metadata": {},
   "outputs": [],
   "source": [
    "#export\n",
    "def get_data(bs, sz, img_dir='nocrop_jpg', splits=Meta.splits):\n",
    "    if sz <= 256: img_dir = f'{img_dir}256'\n",
    "    return get_data_gen(fns, bs=bs, img_tfm=get_pil_fn(path/img_dir), \n",
    "                        sz=sz, splits=splits)"
   ]
  },
  {
   "cell_type": "markdown",
   "metadata": {},
   "source": [
    "## Training"
   ]
  },
  {
   "cell_type": "code",
   "execution_count": 13,
   "metadata": {},
   "outputs": [],
   "source": [
    "#export\n",
    "def accuracy_any(inp, targ, thresh=0.5, sigmoid=True):\n",
    "    inp,targ = flatten_check(inp[:,0],targ[:,0])\n",
    "    if sigmoid: inp = inp.sigmoid()\n",
    "    return ((inp>thresh)==targ.bool()).float().mean()\n",
    "\n",
    "\n",
    "def get_loss(scale=None):\n",
    "    num_classes = 6\n",
    "    loss_weights = to_device(tensor(2.0, 1, 1, 1, 1, 1))\n",
    "    loss_weights = loss_weights/loss_weights.sum()*num_classes\n",
    "    \n",
    "    if scale is not None: scale = to_device(tensor([scale]*num_classes))\n",
    "    return BaseLoss(nn.BCEWithLogitsLoss, weight=loss_weights, #pos_weight=scale,\n",
    "                    floatify=True, flatten=False, is_2d=False, activation=torch.sigmoid)\n"
   ]
  },
  {
   "cell_type": "code",
   "execution_count": 14,
   "metadata": {},
   "outputs": [],
   "source": [
    "#export\n",
    "def get_learner(dbch, arch_or_model, lf=None, pretrained=False, opt_func=None, metrics=None, fp16=True, config=None):\n",
    "    if lf is None: lf = get_loss()\n",
    "    if metrics is None: metrics=[accuracy_multi,accuracy_any]\n",
    "    if opt_func is None: opt_func = partial(Adam, wd=1e-5, eps=1e-4, sqr_mom=0.999)\n",
    "    if isinstance(arch_or_model, nn.Module):\n",
    "        learn = Learner(dbch, arch_or_model, loss_func=lf, lr=3e-3,\n",
    "                    opt_func=opt_func, metrics=metrics)\n",
    "    else:\n",
    "        if config is None: config=dict(ps=0., lin_ftrs=[], concat_pool=False)\n",
    "        learn = cnn_learner(dbch, arch_or_model, pretrained=pretrained, loss_func=lf, lr=3e-3,\n",
    "                            opt_func=opt_func, metrics=metrics, config=config)\n",
    "    return learn.to_fp16() if fp16 else learn"
   ]
  },
  {
   "cell_type": "code",
   "execution_count": 15,
   "metadata": {},
   "outputs": [],
   "source": [
    "# def fit_tune(bs, sz, epochs, lr):\n",
    "#     learn.dbunch = get_data(bs, sz)\n",
    "#     do_fit(learn, epochs, lr, freeze=False)"
   ]
  },
  {
   "cell_type": "code",
   "execution_count": 16,
   "metadata": {},
   "outputs": [],
   "source": [
    "#export\n",
    "def do_fit(learn, epochs, lr, freeze=False, do_slice=False, **kwargs):\n",
    "    if do_slice: lr = slice(lr*3,lr)\n",
    "    if freeze:\n",
    "        learn.freeze()\n",
    "        learn.fit_one_cycle(1, lr, div=2, div_final=1, pct_start=0.1)\n",
    "    learn.unfreeze()\n",
    "    learn.fit_one_cycle(epochs, lr, **kwargs)"
   ]
  },
  {
   "cell_type": "markdown",
   "metadata": {},
   "source": [
    "## Submission"
   ]
  },
  {
   "cell_type": "code",
   "execution_count": 17,
   "metadata": {},
   "outputs": [],
   "source": [
    "#export\n",
    "def get_test_data(df_tst, bs=512, sz=256, tst_dir='tst_jpg'):\n",
    "    tst_fns = df_tst.index.values\n",
    "    tst_splits = [L.range(tst_fns), L.range(tst_fns)]\n",
    "    tst_dbch = get_data_gen(tst_fns, bs=bs, img_tfm=get_pil_fn(path/tst_dir), sz=sz, splits=tst_splits, test=True)\n",
    "    tst_dbch.c = 6\n",
    "    return tst_dbch"
   ]
  },
  {
   "cell_type": "code",
   "execution_count": 18,
   "metadata": {},
   "outputs": [],
   "source": [
    "#export\n",
    "def submission(df_tst, preds, fn='submission'):\n",
    "    ids,labels = [],[]\n",
    "    for idx,pred in zip(df_tst.index, preds):\n",
    "        for i,label in enumerate(htypes):\n",
    "            ids.append(f\"{idx}_{label}\")\n",
    "            labels.append('{0:1.10f}'.format(pred[i].item()))\n",
    "    df_csv = pd.DataFrame({'ID': ids, 'Label': labels})\n",
    "    df_csv.to_csv(f'{fn}.csv', index=False)\n",
    "    return df_csv"
   ]
  },
  {
   "cell_type": "markdown",
   "metadata": {},
   "source": [
    "## Example"
   ]
  },
  {
   "cell_type": "code",
   "execution_count": 22,
   "metadata": {},
   "outputs": [],
   "source": [
    "name = 'sample'"
   ]
  },
  {
   "cell_type": "code",
   "execution_count": 23,
   "metadata": {},
   "outputs": [],
   "source": [
    "dbch = get_data(512, 128)\n",
    "learn = get_learner(dbch, xresnet34)"
   ]
  },
  {
   "cell_type": "code",
   "execution_count": null,
   "metadata": {},
   "outputs": [],
   "source": [
    "do_fit(learn, 1, 1e-2)\n",
    "learn.save(f'runs/{name}-1')"
   ]
  },
  {
   "cell_type": "code",
   "execution_count": 19,
   "metadata": {},
   "outputs": [
    {
     "data": {
      "text/plain": [
       "<fastai2.learner.Learner at 0x7f0d978ed950>"
      ]
     },
     "execution_count": 19,
     "metadata": {},
     "output_type": "execute_result"
    }
   ],
   "source": [
    "learn.load(f'runs/{name}-1')"
   ]
  },
  {
   "cell_type": "markdown",
   "metadata": {},
   "source": [
    "## Example Submission"
   ]
  },
  {
   "cell_type": "code",
   "execution_count": 26,
   "metadata": {},
   "outputs": [],
   "source": [
    "learn.dbunch = get_test_data(Meta.df_tst, bs=256, sz=256)"
   ]
  },
  {
   "cell_type": "code",
   "execution_count": 27,
   "metadata": {},
   "outputs": [],
   "source": [
    "# tst = test_dl(learn.dbunch, tst_fns, after_item=[get_pil_fn(path/'tst_jpg'), ToTensor])\n",
    "\n",
    "# tst.tfms = Pipeline(funcs=[get_pil_fn(path/'tst_jpg'), ToTensor])"
   ]
  },
  {
   "cell_type": "code",
   "execution_count": 28,
   "metadata": {},
   "outputs": [],
   "source": [
    "sub_fn = f'subm/{name}'"
   ]
  },
  {
   "cell_type": "code",
   "execution_count": null,
   "metadata": {},
   "outputs": [],
   "source": [
    "preds,targs = learn.get_preds()"
   ]
  },
  {
   "cell_type": "code",
   "execution_count": 33,
   "metadata": {},
   "outputs": [],
   "source": [
    "pred_csv = submission(df_tst, preds, fn=sub_fn)"
   ]
  },
  {
   "cell_type": "code",
   "execution_count": null,
   "metadata": {},
   "outputs": [],
   "source": [
    "\n",
    "FileLink(f'{sub_fn}.csv')"
   ]
  },
  {
   "cell_type": "code",
   "execution_count": 7,
   "metadata": {},
   "outputs": [
    {
     "name": "stderr",
     "output_type": "stream",
     "text": [
      "100%|██████████| 26.0M/26.0M [00:03<00:00, 8.99MB/s]\n"
     ]
    },
    {
     "data": {
      "text/plain": [
       "Successfully submitted to RSNA Intracranial Hemorrhage Detection"
      ]
     },
     "execution_count": 7,
     "metadata": {},
     "output_type": "execute_result"
    }
   ],
   "source": [
    "api.competition_submit(f'{nm}.csv', 'testing rsna_retro submission', 'rsna-intracranial-hemorrhage-detection')"
   ]
  },
  {
   "cell_type": "code",
   "execution_count": 15,
   "metadata": {},
   "outputs": [
    {
     "data": {
      "text/plain": [
       "{'ref': 13695014,\n",
       " 'totalBytes': 27277209,\n",
       " 'date': '2019-12-08T22:49:07.013Z',\n",
       " 'description': 'testing rsna_retro submission',\n",
       " 'errorDescription': None,\n",
       " 'fileName': 'test_sub.csv',\n",
       " 'publicScore': '0.95475',\n",
       " 'privateScore': '0.06444',\n",
       " 'status': 'complete',\n",
       " 'submittedBy': 'Andrew Shaw',\n",
       " 'submittedByRef': 'bearpelican',\n",
       " 'teamName': 'Andrew Shaw',\n",
       " 'type': 'standard',\n",
       " 'url': 'https://www.kaggle.com/submissions/13695014/13695014.raw'}"
      ]
     },
     "execution_count": 15,
     "metadata": {},
     "output_type": "execute_result"
    }
   ],
   "source": [
    "api.competitions_submissions_list('rsna-intracranial-hemorrhage-detection')[0]"
   ]
  },
  {
   "cell_type": "markdown",
   "metadata": {},
   "source": [
    "## Save Predictions"
   ]
  },
  {
   "cell_type": "code",
   "execution_count": 19,
   "metadata": {},
   "outputs": [],
   "source": [
    "#export\n",
    "class DummyLoss:\n",
    "    def __call__(self, p, *t, **kwargs): return torch.tensor(0, device=p.device).float()"
   ]
  },
  {
   "cell_type": "code",
   "execution_count": 20,
   "metadata": {},
   "outputs": [],
   "source": [
    "#export\n",
    "def save_features(learn, feat_path):\n",
    "    preds,targs = learn.get_preds(dl=dbunch.valid_dl)\n",
    "    val_ids = dbunch.valid_dl.dataset.items\n",
    "    feat_path.mkdir(exist_ok=True)\n",
    "    for idx,pred in progress_bar(zip(val_ids, preds), total=len(val_ids)):\n",
    "        np.save(str(feat_path/f'{idx}'), pred.squeeze().numpy())"
   ]
  },
  {
   "cell_type": "code",
   "execution_count": 21,
   "metadata": {},
   "outputs": [],
   "source": [
    "fn_save = 'runs/baseline_any-2b'"
   ]
  },
  {
   "cell_type": "code",
   "execution_count": 25,
   "metadata": {},
   "outputs": [],
   "source": [
    "#export\n",
    "path_feat256 = path/'features_256'\n",
    "path_feat256_tst = path/'tst_features_256'"
   ]
  },
  {
   "cell_type": "code",
   "execution_count": null,
   "metadata": {},
   "outputs": [],
   "source": [
    "dbunch = get_test_data(Meta.df_comb, bs=512, sz=None, tst_dir='nocrop_jpg256')\n",
    "learn = get_learner(dbunch, xresnet34, lf=DummyLoss(), metrics=[])\n",
    "learn.load(fn_save)\n",
    "learn.model = learn.model[0]\n",
    "save_features(learn, path_feat256)"
   ]
  },
  {
   "cell_type": "code",
   "execution_count": null,
   "metadata": {},
   "outputs": [],
   "source": [
    "dbunch = get_test_data(Meta.df_tst, bs=512, sz=None, tst_dir='tst_jpg256')\n",
    "learn = get_learner(dbunch, xresnet34, lf=DummyLoss(), metrics=[])\n",
    "learn.load(fn_save)\n",
    "learn.model = learn.model[0]\n",
    "save_features(learn, path_feat256_tst)"
   ]
  },
  {
   "cell_type": "markdown",
   "metadata": {},
   "source": [
    "## Export"
   ]
  },
  {
   "cell_type": "code",
   "execution_count": 24,
   "metadata": {},
   "outputs": [
    {
     "name": "stdout",
     "output_type": "stream",
     "text": [
      "Converted 01_data_01_metadata_stage2.ipynb.\n",
      "Converted 01_data_02_preprocess_windows.ipynb.\n",
      "Converted 02_train_00_train.ipynb.\n",
      "Converted 02_train_01_full.ipynb.\n",
      "Converted 02_train_02_any.ipynb.\n",
      "Converted 02_train_02c_any_old_double_avg_pool.ipynb.\n",
      "Converted 03_train3d_00_train3d.ipynb.\n",
      "Converted 03_train3d_01_train3d-Copy1.ipynb.\n",
      "Converted 03_train3d_01_train3d-resnet18.ipynb.\n",
      "Converted 03_train3d_01_train3d.ipynb.\n",
      "Converted 03_train3d_02_train_head.ipynb.\n",
      "This cell doesn't have an export destination and was ignored:\n",
      "e\n",
      "Converted 03_train3d_scratch_3Dbatch.ipynb.\n",
      "Converted 03_train3d_scratch_extract_features.ipynb.\n",
      "Converted 04_trainSeq_00_trainSeq.ipynb.\n"
     ]
    }
   ],
   "source": [
    "#hide\n",
    "from nbdev.export import notebook2script\n",
    "notebook2script()"
   ]
  }
 ],
 "metadata": {
  "kernelspec": {
   "display_name": "Python 3",
   "language": "python",
   "name": "python3"
  },
  "language_info": {
   "codemirror_mode": {
    "name": "ipython",
    "version": 3
   },
   "file_extension": ".py",
   "mimetype": "text/x-python",
   "name": "python",
   "nbconvert_exporter": "python",
   "pygments_lexer": "ipython3",
   "version": "3.7.5"
  }
 },
 "nbformat": 4,
 "nbformat_minor": 2
}

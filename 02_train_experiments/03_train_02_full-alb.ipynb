{
 "cells": [
  {
   "cell_type": "code",
   "execution_count": 1,
   "metadata": {},
   "outputs": [],
   "source": [
    "import os\n",
    "os.chdir('../')"
   ]
  },
  {
   "cell_type": "code",
   "execution_count": 2,
   "metadata": {},
   "outputs": [
    {
     "name": "stdout",
     "output_type": "stream",
     "text": [
      "Loading imports\n",
      "Warning: Your Kaggle API key is readable by other users on this system! To fix this, you can run 'chmod 600 /home/ashaw/.kaggle/kaggle.json'\n"
     ]
    }
   ],
   "source": [
    "from rsna_retro.imports import *\n",
    "from rsna_retro.metadata import *\n",
    "from rsna_retro.preprocess import *\n",
    "from rsna_retro.train import *"
   ]
  },
  {
   "cell_type": "code",
   "execution_count": 3,
   "metadata": {},
   "outputs": [],
   "source": [
    "torch.cuda.set_device(3)"
   ]
  },
  {
   "cell_type": "code",
   "execution_count": 4,
   "metadata": {
    "scrolled": false
   },
   "outputs": [
    {
     "data": {
      "text/html": [
       "<div>\n",
       "<style scoped>\n",
       "    .dataframe tbody tr th:only-of-type {\n",
       "        vertical-align: middle;\n",
       "    }\n",
       "\n",
       "    .dataframe tbody tr th {\n",
       "        vertical-align: top;\n",
       "    }\n",
       "\n",
       "    .dataframe thead th {\n",
       "        text-align: right;\n",
       "    }\n",
       "</style>\n",
       "<table border=\"1\" class=\"dataframe\">\n",
       "  <thead>\n",
       "    <tr style=\"text-align: right;\">\n",
       "      <th></th>\n",
       "      <th>Modality</th>\n",
       "      <th>PatientID</th>\n",
       "      <th>StudyInstanceUID</th>\n",
       "      <th>SeriesInstanceUID</th>\n",
       "      <th>StudyID</th>\n",
       "      <th>ImagePositionPatient</th>\n",
       "      <th>ImageOrientationPatient</th>\n",
       "      <th>SamplesPerPixel</th>\n",
       "      <th>PhotometricInterpretation</th>\n",
       "      <th>Rows</th>\n",
       "      <th>...</th>\n",
       "      <th>MultiWindowCenter</th>\n",
       "      <th>WindowCenter1</th>\n",
       "      <th>MultiWindowWidth</th>\n",
       "      <th>WindowWidth1</th>\n",
       "      <th>any</th>\n",
       "      <th>epidural</th>\n",
       "      <th>intraparenchymal</th>\n",
       "      <th>intraventricular</th>\n",
       "      <th>subarachnoid</th>\n",
       "      <th>subdural</th>\n",
       "    </tr>\n",
       "    <tr>\n",
       "      <th>SOPInstanceUID</th>\n",
       "      <th></th>\n",
       "      <th></th>\n",
       "      <th></th>\n",
       "      <th></th>\n",
       "      <th></th>\n",
       "      <th></th>\n",
       "      <th></th>\n",
       "      <th></th>\n",
       "      <th></th>\n",
       "      <th></th>\n",
       "      <th></th>\n",
       "      <th></th>\n",
       "      <th></th>\n",
       "      <th></th>\n",
       "      <th></th>\n",
       "      <th></th>\n",
       "      <th></th>\n",
       "      <th></th>\n",
       "      <th></th>\n",
       "      <th></th>\n",
       "      <th></th>\n",
       "    </tr>\n",
       "  </thead>\n",
       "  <tbody>\n",
       "    <tr>\n",
       "      <th>ID_76d55d9d0</th>\n",
       "      <td>CT</td>\n",
       "      <td>ID_b9797064</td>\n",
       "      <td>ID_00b9e1961f</td>\n",
       "      <td>ID_0000298a7d</td>\n",
       "      <td></td>\n",
       "      <td>-125.0</td>\n",
       "      <td>1.0</td>\n",
       "      <td>1</td>\n",
       "      <td>MONOCHROME2</td>\n",
       "      <td>512</td>\n",
       "      <td>...</td>\n",
       "      <td>NaN</td>\n",
       "      <td>NaN</td>\n",
       "      <td>NaN</td>\n",
       "      <td>NaN</td>\n",
       "      <td>0</td>\n",
       "      <td>0</td>\n",
       "      <td>0</td>\n",
       "      <td>0</td>\n",
       "      <td>0</td>\n",
       "      <td>0</td>\n",
       "    </tr>\n",
       "    <tr>\n",
       "      <th>ID_96d282ea9</th>\n",
       "      <td>CT</td>\n",
       "      <td>ID_b9797064</td>\n",
       "      <td>ID_00b9e1961f</td>\n",
       "      <td>ID_0000298a7d</td>\n",
       "      <td></td>\n",
       "      <td>-125.0</td>\n",
       "      <td>1.0</td>\n",
       "      <td>1</td>\n",
       "      <td>MONOCHROME2</td>\n",
       "      <td>512</td>\n",
       "      <td>...</td>\n",
       "      <td>NaN</td>\n",
       "      <td>NaN</td>\n",
       "      <td>NaN</td>\n",
       "      <td>NaN</td>\n",
       "      <td>0</td>\n",
       "      <td>0</td>\n",
       "      <td>0</td>\n",
       "      <td>0</td>\n",
       "      <td>0</td>\n",
       "      <td>0</td>\n",
       "    </tr>\n",
       "    <tr>\n",
       "      <th>ID_7d8a7c29d</th>\n",
       "      <td>CT</td>\n",
       "      <td>ID_b9797064</td>\n",
       "      <td>ID_00b9e1961f</td>\n",
       "      <td>ID_0000298a7d</td>\n",
       "      <td></td>\n",
       "      <td>-125.0</td>\n",
       "      <td>1.0</td>\n",
       "      <td>1</td>\n",
       "      <td>MONOCHROME2</td>\n",
       "      <td>512</td>\n",
       "      <td>...</td>\n",
       "      <td>NaN</td>\n",
       "      <td>NaN</td>\n",
       "      <td>NaN</td>\n",
       "      <td>NaN</td>\n",
       "      <td>0</td>\n",
       "      <td>0</td>\n",
       "      <td>0</td>\n",
       "      <td>0</td>\n",
       "      <td>0</td>\n",
       "      <td>0</td>\n",
       "    </tr>\n",
       "    <tr>\n",
       "      <th>ID_4d4401491</th>\n",
       "      <td>CT</td>\n",
       "      <td>ID_b9797064</td>\n",
       "      <td>ID_00b9e1961f</td>\n",
       "      <td>ID_0000298a7d</td>\n",
       "      <td></td>\n",
       "      <td>-125.0</td>\n",
       "      <td>1.0</td>\n",
       "      <td>1</td>\n",
       "      <td>MONOCHROME2</td>\n",
       "      <td>512</td>\n",
       "      <td>...</td>\n",
       "      <td>NaN</td>\n",
       "      <td>NaN</td>\n",
       "      <td>NaN</td>\n",
       "      <td>NaN</td>\n",
       "      <td>0</td>\n",
       "      <td>0</td>\n",
       "      <td>0</td>\n",
       "      <td>0</td>\n",
       "      <td>0</td>\n",
       "      <td>0</td>\n",
       "    </tr>\n",
       "    <tr>\n",
       "      <th>ID_8f5ded0b7</th>\n",
       "      <td>CT</td>\n",
       "      <td>ID_b9797064</td>\n",
       "      <td>ID_00b9e1961f</td>\n",
       "      <td>ID_0000298a7d</td>\n",
       "      <td></td>\n",
       "      <td>-125.0</td>\n",
       "      <td>1.0</td>\n",
       "      <td>1</td>\n",
       "      <td>MONOCHROME2</td>\n",
       "      <td>512</td>\n",
       "      <td>...</td>\n",
       "      <td>NaN</td>\n",
       "      <td>NaN</td>\n",
       "      <td>NaN</td>\n",
       "      <td>NaN</td>\n",
       "      <td>0</td>\n",
       "      <td>0</td>\n",
       "      <td>0</td>\n",
       "      <td>0</td>\n",
       "      <td>0</td>\n",
       "      <td>0</td>\n",
       "    </tr>\n",
       "  </tbody>\n",
       "</table>\n",
       "<p>5 rows × 47 columns</p>\n",
       "</div>"
      ],
      "text/plain": [
       "               Modality    PatientID StudyInstanceUID SeriesInstanceUID  \\\n",
       "SOPInstanceUID                                                            \n",
       "ID_76d55d9d0         CT  ID_b9797064    ID_00b9e1961f     ID_0000298a7d   \n",
       "ID_96d282ea9         CT  ID_b9797064    ID_00b9e1961f     ID_0000298a7d   \n",
       "ID_7d8a7c29d         CT  ID_b9797064    ID_00b9e1961f     ID_0000298a7d   \n",
       "ID_4d4401491         CT  ID_b9797064    ID_00b9e1961f     ID_0000298a7d   \n",
       "ID_8f5ded0b7         CT  ID_b9797064    ID_00b9e1961f     ID_0000298a7d   \n",
       "\n",
       "               StudyID  ImagePositionPatient  ImageOrientationPatient  \\\n",
       "SOPInstanceUID                                                          \n",
       "ID_76d55d9d0                          -125.0                      1.0   \n",
       "ID_96d282ea9                          -125.0                      1.0   \n",
       "ID_7d8a7c29d                          -125.0                      1.0   \n",
       "ID_4d4401491                          -125.0                      1.0   \n",
       "ID_8f5ded0b7                          -125.0                      1.0   \n",
       "\n",
       "                SamplesPerPixel PhotometricInterpretation  Rows  ...  \\\n",
       "SOPInstanceUID                                                   ...   \n",
       "ID_76d55d9d0                  1               MONOCHROME2   512  ...   \n",
       "ID_96d282ea9                  1               MONOCHROME2   512  ...   \n",
       "ID_7d8a7c29d                  1               MONOCHROME2   512  ...   \n",
       "ID_4d4401491                  1               MONOCHROME2   512  ...   \n",
       "ID_8f5ded0b7                  1               MONOCHROME2   512  ...   \n",
       "\n",
       "                MultiWindowCenter  WindowCenter1  MultiWindowWidth  \\\n",
       "SOPInstanceUID                                                       \n",
       "ID_76d55d9d0                  NaN            NaN               NaN   \n",
       "ID_96d282ea9                  NaN            NaN               NaN   \n",
       "ID_7d8a7c29d                  NaN            NaN               NaN   \n",
       "ID_4d4401491                  NaN            NaN               NaN   \n",
       "ID_8f5ded0b7                  NaN            NaN               NaN   \n",
       "\n",
       "                WindowWidth1  any  epidural  intraparenchymal  \\\n",
       "SOPInstanceUID                                                  \n",
       "ID_76d55d9d0             NaN    0         0                 0   \n",
       "ID_96d282ea9             NaN    0         0                 0   \n",
       "ID_7d8a7c29d             NaN    0         0                 0   \n",
       "ID_4d4401491             NaN    0         0                 0   \n",
       "ID_8f5ded0b7             NaN    0         0                 0   \n",
       "\n",
       "                intraventricular  subarachnoid  subdural  \n",
       "SOPInstanceUID                                            \n",
       "ID_76d55d9d0                   0             0         0  \n",
       "ID_96d282ea9                   0             0         0  \n",
       "ID_7d8a7c29d                   0             0         0  \n",
       "ID_4d4401491                   0             0         0  \n",
       "ID_8f5ded0b7                   0             0         0  \n",
       "\n",
       "[5 rows x 47 columns]"
      ]
     },
     "execution_count": 4,
     "metadata": {},
     "output_type": "execute_result"
    }
   ],
   "source": [
    "Meta.df_comb.head()"
   ]
  },
  {
   "cell_type": "markdown",
   "metadata": {},
   "source": [
    "## Training"
   ]
  },
  {
   "cell_type": "code",
   "execution_count": 5,
   "metadata": {},
   "outputs": [],
   "source": [
    "name = 'baseline_full_stg1_album'"
   ]
  },
  {
   "cell_type": "code",
   "execution_count": 6,
   "metadata": {},
   "outputs": [],
   "source": [
    "dbch = get_album_data(512, 128, splits=Meta.splits_stg1)\n",
    "learn = get_learner(dbch, xresnet18, pretrained=True)"
   ]
  },
  {
   "cell_type": "markdown",
   "metadata": {},
   "source": [
    "## Training"
   ]
  },
  {
   "cell_type": "code",
   "execution_count": 7,
   "metadata": {},
   "outputs": [
    {
     "data": {
      "text/html": [
       "<table border=\"1\" class=\"dataframe\">\n",
       "  <thead>\n",
       "    <tr style=\"text-align: left;\">\n",
       "      <th>epoch</th>\n",
       "      <th>train_loss</th>\n",
       "      <th>valid_loss</th>\n",
       "      <th>accuracy_multi</th>\n",
       "      <th>accuracy_any</th>\n",
       "      <th>time</th>\n",
       "    </tr>\n",
       "  </thead>\n",
       "  <tbody>\n",
       "    <tr>\n",
       "      <td>0</td>\n",
       "      <td>0.121825</td>\n",
       "      <td>0.322755</td>\n",
       "      <td>0.887052</td>\n",
       "      <td>0.679458</td>\n",
       "      <td>08:53</td>\n",
       "    </tr>\n",
       "    <tr>\n",
       "      <td>1</td>\n",
       "      <td>0.110340</td>\n",
       "      <td>0.120292</td>\n",
       "      <td>0.965347</td>\n",
       "      <td>0.927825</td>\n",
       "      <td>08:48</td>\n",
       "    </tr>\n",
       "    <tr>\n",
       "      <td>2</td>\n",
       "      <td>0.105973</td>\n",
       "      <td>0.140129</td>\n",
       "      <td>0.961175</td>\n",
       "      <td>0.904946</td>\n",
       "      <td>08:23</td>\n",
       "    </tr>\n",
       "    <tr>\n",
       "      <td>3</td>\n",
       "      <td>0.100634</td>\n",
       "      <td>0.124001</td>\n",
       "      <td>0.965742</td>\n",
       "      <td>0.925138</td>\n",
       "      <td>07:24</td>\n",
       "    </tr>\n",
       "    <tr>\n",
       "      <td>4</td>\n",
       "      <td>0.098250</td>\n",
       "      <td>0.100677</td>\n",
       "      <td>0.969928</td>\n",
       "      <td>0.939207</td>\n",
       "      <td>09:44</td>\n",
       "    </tr>\n",
       "    <tr>\n",
       "      <td>5</td>\n",
       "      <td>0.093742</td>\n",
       "      <td>0.110747</td>\n",
       "      <td>0.968751</td>\n",
       "      <td>0.934674</td>\n",
       "      <td>07:56</td>\n",
       "    </tr>\n",
       "    <tr>\n",
       "      <td>6</td>\n",
       "      <td>0.089869</td>\n",
       "      <td>0.103589</td>\n",
       "      <td>0.968786</td>\n",
       "      <td>0.935298</td>\n",
       "      <td>07:44</td>\n",
       "    </tr>\n",
       "    <tr>\n",
       "      <td>7</td>\n",
       "      <td>0.087077</td>\n",
       "      <td>0.095993</td>\n",
       "      <td>0.971051</td>\n",
       "      <td>0.940760</td>\n",
       "      <td>08:46</td>\n",
       "    </tr>\n",
       "    <tr>\n",
       "      <td>8</td>\n",
       "      <td>0.080710</td>\n",
       "      <td>0.096636</td>\n",
       "      <td>0.972432</td>\n",
       "      <td>0.942135</td>\n",
       "      <td>08:16</td>\n",
       "    </tr>\n",
       "    <tr>\n",
       "      <td>9</td>\n",
       "      <td>0.075985</td>\n",
       "      <td>0.084212</td>\n",
       "      <td>0.974353</td>\n",
       "      <td>0.948857</td>\n",
       "      <td>08:18</td>\n",
       "    </tr>\n",
       "    <tr>\n",
       "      <td>10</td>\n",
       "      <td>0.072754</td>\n",
       "      <td>0.082845</td>\n",
       "      <td>0.974870</td>\n",
       "      <td>0.950080</td>\n",
       "      <td>09:13</td>\n",
       "    </tr>\n",
       "    <tr>\n",
       "      <td>11</td>\n",
       "      <td>0.067723</td>\n",
       "      <td>0.082791</td>\n",
       "      <td>0.975118</td>\n",
       "      <td>0.950589</td>\n",
       "      <td>09:17</td>\n",
       "    </tr>\n",
       "  </tbody>\n",
       "</table>"
      ],
      "text/plain": [
       "<IPython.core.display.HTML object>"
      ]
     },
     "metadata": {},
     "output_type": "display_data"
    }
   ],
   "source": [
    "do_fit(learn, 12, 4e-2)\n",
    "learn.save(f'runs/{name}-1')"
   ]
  },
  {
   "cell_type": "code",
   "execution_count": 8,
   "metadata": {},
   "outputs": [
    {
     "data": {
      "text/html": [
       "<table border=\"1\" class=\"dataframe\">\n",
       "  <thead>\n",
       "    <tr style=\"text-align: left;\">\n",
       "      <th>epoch</th>\n",
       "      <th>train_loss</th>\n",
       "      <th>valid_loss</th>\n",
       "      <th>accuracy_multi</th>\n",
       "      <th>accuracy_any</th>\n",
       "      <th>time</th>\n",
       "    </tr>\n",
       "  </thead>\n",
       "  <tbody>\n",
       "    <tr>\n",
       "      <td>0</td>\n",
       "      <td>0.082955</td>\n",
       "      <td>0.088718</td>\n",
       "      <td>0.972837</td>\n",
       "      <td>0.946884</td>\n",
       "      <td>13:29</td>\n",
       "    </tr>\n",
       "    <tr>\n",
       "      <td>1</td>\n",
       "      <td>0.077596</td>\n",
       "      <td>0.088343</td>\n",
       "      <td>0.973034</td>\n",
       "      <td>0.945624</td>\n",
       "      <td>13:25</td>\n",
       "    </tr>\n",
       "    <tr>\n",
       "      <td>2</td>\n",
       "      <td>0.075475</td>\n",
       "      <td>0.084964</td>\n",
       "      <td>0.974649</td>\n",
       "      <td>0.949952</td>\n",
       "      <td>13:28</td>\n",
       "    </tr>\n",
       "    <tr>\n",
       "      <td>3</td>\n",
       "      <td>0.072566</td>\n",
       "      <td>0.088011</td>\n",
       "      <td>0.973750</td>\n",
       "      <td>0.946540</td>\n",
       "      <td>13:30</td>\n",
       "    </tr>\n",
       "    <tr>\n",
       "      <td>4</td>\n",
       "      <td>0.071137</td>\n",
       "      <td>0.081148</td>\n",
       "      <td>0.975042</td>\n",
       "      <td>0.951633</td>\n",
       "      <td>13:22</td>\n",
       "    </tr>\n",
       "    <tr>\n",
       "      <td>5</td>\n",
       "      <td>0.069857</td>\n",
       "      <td>0.078381</td>\n",
       "      <td>0.975993</td>\n",
       "      <td>0.952728</td>\n",
       "      <td>13:22</td>\n",
       "    </tr>\n",
       "    <tr>\n",
       "      <td>6</td>\n",
       "      <td>0.067326</td>\n",
       "      <td>0.079218</td>\n",
       "      <td>0.975907</td>\n",
       "      <td>0.953148</td>\n",
       "      <td>13:18</td>\n",
       "    </tr>\n",
       "    <tr>\n",
       "      <td>7</td>\n",
       "      <td>0.063690</td>\n",
       "      <td>0.080946</td>\n",
       "      <td>0.975890</td>\n",
       "      <td>0.952626</td>\n",
       "      <td>13:20</td>\n",
       "    </tr>\n",
       "    <tr>\n",
       "      <td>8</td>\n",
       "      <td>0.060109</td>\n",
       "      <td>0.081026</td>\n",
       "      <td>0.976638</td>\n",
       "      <td>0.954637</td>\n",
       "      <td>13:30</td>\n",
       "    </tr>\n",
       "    <tr>\n",
       "      <td>9</td>\n",
       "      <td>0.057265</td>\n",
       "      <td>0.080089</td>\n",
       "      <td>0.976285</td>\n",
       "      <td>0.953912</td>\n",
       "      <td>13:24</td>\n",
       "    </tr>\n",
       "    <tr>\n",
       "      <td>10</td>\n",
       "      <td>0.053903</td>\n",
       "      <td>0.082613</td>\n",
       "      <td>0.976445</td>\n",
       "      <td>0.954001</td>\n",
       "      <td>13:23</td>\n",
       "    </tr>\n",
       "    <tr>\n",
       "      <td>11</td>\n",
       "      <td>0.051956</td>\n",
       "      <td>0.082758</td>\n",
       "      <td>0.976345</td>\n",
       "      <td>0.954408</td>\n",
       "      <td>13:24</td>\n",
       "    </tr>\n",
       "  </tbody>\n",
       "</table>"
      ],
      "text/plain": [
       "<IPython.core.display.HTML object>"
      ]
     },
     "metadata": {},
     "output_type": "display_data"
    }
   ],
   "source": [
    "learn.dbunch = get_album_data(512, 256, splits=Meta.splits_stg1)\n",
    "do_fit(learn, 12, 4e-3, freeze=False)\n",
    "learn.save(f'runs/{name}-2')"
   ]
  },
  {
   "cell_type": "code",
   "execution_count": 9,
   "metadata": {},
   "outputs": [
    {
     "data": {
      "text/html": [
       "<table border=\"1\" class=\"dataframe\">\n",
       "  <thead>\n",
       "    <tr style=\"text-align: left;\">\n",
       "      <th>epoch</th>\n",
       "      <th>train_loss</th>\n",
       "      <th>valid_loss</th>\n",
       "      <th>accuracy_multi</th>\n",
       "      <th>accuracy_any</th>\n",
       "      <th>time</th>\n",
       "    </tr>\n",
       "  </thead>\n",
       "  <tbody>\n",
       "    <tr>\n",
       "      <td>0</td>\n",
       "      <td>0.066584</td>\n",
       "      <td>0.081532</td>\n",
       "      <td>0.975887</td>\n",
       "      <td>0.952740</td>\n",
       "      <td>29:56</td>\n",
       "    </tr>\n",
       "    <tr>\n",
       "      <td>1</td>\n",
       "      <td>0.062915</td>\n",
       "      <td>0.078979</td>\n",
       "      <td>0.975916</td>\n",
       "      <td>0.952906</td>\n",
       "      <td>29:40</td>\n",
       "    </tr>\n",
       "    <tr>\n",
       "      <td>2</td>\n",
       "      <td>0.057435</td>\n",
       "      <td>0.077244</td>\n",
       "      <td>0.976688</td>\n",
       "      <td>0.954981</td>\n",
       "      <td>29:46</td>\n",
       "    </tr>\n",
       "    <tr>\n",
       "      <td>3</td>\n",
       "      <td>0.056702</td>\n",
       "      <td>0.078346</td>\n",
       "      <td>0.976659</td>\n",
       "      <td>0.954370</td>\n",
       "      <td>29:41</td>\n",
       "    </tr>\n",
       "  </tbody>\n",
       "</table>"
      ],
      "text/plain": [
       "<IPython.core.display.HTML object>"
      ]
     },
     "metadata": {},
     "output_type": "display_data"
    }
   ],
   "source": [
    "learn.dbunch = get_album_data(256, 384, splits=Meta.splits_stg1, img_dir=path_jpg)\n",
    "do_fit(learn, 4, 4e-4, freeze=False)\n",
    "learn.save(f'runs/{name}-3')"
   ]
  },
  {
   "cell_type": "markdown",
   "metadata": {},
   "source": [
    "## Submission"
   ]
  },
  {
   "cell_type": "code",
   "execution_count": 7,
   "metadata": {},
   "outputs": [
    {
     "data": {
      "text/plain": [
       "<fastai2.learner.Learner at 0x7f8d519eb910>"
      ]
     },
     "execution_count": 7,
     "metadata": {},
     "output_type": "execute_result"
    }
   ],
   "source": [
    "learn.load(f'runs/{name}-3')"
   ]
  },
  {
   "cell_type": "code",
   "execution_count": 8,
   "metadata": {},
   "outputs": [],
   "source": [
    "# tst_fns = df_tst.index.values"
   ]
  },
  {
   "cell_type": "code",
   "execution_count": 9,
   "metadata": {},
   "outputs": [],
   "source": [
    "sub_fn = f'subm/{name}-3'"
   ]
  },
  {
   "cell_type": "code",
   "execution_count": 10,
   "metadata": {},
   "outputs": [],
   "source": [
    "learn.dbunch = get_test_data(Meta.df_tst, bs=512, sz=384)"
   ]
  },
  {
   "cell_type": "code",
   "execution_count": 11,
   "metadata": {},
   "outputs": [],
   "source": [
    "# tst_bs = 256\n",
    "# tst_sz = 384\n",
    "# tst_splits = [L.range(tst_fns), L.range(tst_fns)]\n",
    "# tst_dbch = get_data_gen(tst_fns, bs=tst_bs, img_tfm=get_pil_fn(path/'tst_jpg'), sz=tst_sz, splits=tst_splits, test=True)\n",
    "# learn.dbunch = tst_dbch"
   ]
  },
  {
   "cell_type": "code",
   "execution_count": 12,
   "metadata": {},
   "outputs": [
    {
     "data": {
      "text/html": [],
      "text/plain": [
       "<IPython.core.display.HTML object>"
      ]
     },
     "metadata": {},
     "output_type": "display_data"
    }
   ],
   "source": [
    "preds,targs = learn.get_preds()"
   ]
  },
  {
   "cell_type": "code",
   "execution_count": 13,
   "metadata": {},
   "outputs": [],
   "source": [
    "pred_csv = submission(Meta.df_tst, preds, fn=sub_fn)"
   ]
  },
  {
   "cell_type": "code",
   "execution_count": 14,
   "metadata": {},
   "outputs": [
    {
     "data": {
      "text/html": [
       "<a href='subm/baseline_full_stg1_album-3.csv' target='_blank'>subm/baseline_full_stg1_album-3.csv</a><br>"
      ],
      "text/plain": [
       "/home/ashaw/kaggle/rsna_retro/subm/baseline_full_stg1_album-3.csv"
      ]
     },
     "execution_count": 14,
     "metadata": {},
     "output_type": "execute_result"
    }
   ],
   "source": [
    "FileLink(f'{sub_fn}.csv')"
   ]
  },
  {
   "cell_type": "code",
   "execution_count": 16,
   "metadata": {},
   "outputs": [
    {
     "name": "stderr",
     "output_type": "stream",
     "text": [
      "100%|██████████| 26.0M/26.0M [00:02<00:00, 9.90MB/s]\n"
     ]
    },
    {
     "data": {
      "text/plain": [
       "Successfully submitted to RSNA Intracranial Hemorrhage Detection"
      ]
     },
     "execution_count": 16,
     "metadata": {},
     "output_type": "execute_result"
    }
   ],
   "source": [
    "api.competition_submit(f'{sub_fn}.csv', 'Training on Stage 1 (384), Valid on Stage 2. - 0.087925', 'rsna-intracranial-hemorrhage-detection')"
   ]
  },
  {
   "cell_type": "code",
   "execution_count": 21,
   "metadata": {},
   "outputs": [
    {
     "data": {
      "text/plain": [
       "{'ref': 14266098,\n",
       " 'totalBytes': 27277209,\n",
       " 'date': '2020-01-22T18:41:10.043Z',\n",
       " 'description': 'Training on Stage 1 (384), Valid on Stage 2. - 0.087925',\n",
       " 'errorDescription': None,\n",
       " 'fileName': 'baseline_full_stg1_album-3.csv',\n",
       " 'publicScore': '0.52899',\n",
       " 'privateScore': '0.06902',\n",
       " 'status': 'complete',\n",
       " 'submittedBy': 'Andrew Shaw',\n",
       " 'submittedByRef': 'bearpelican',\n",
       " 'teamName': 'Andrew Shaw',\n",
       " 'type': 'standard',\n",
       " 'url': 'https://www.kaggle.com/submissions/14266098/14266098.raw'}"
      ]
     },
     "execution_count": 21,
     "metadata": {},
     "output_type": "execute_result"
    }
   ],
   "source": [
    "api.competitions_submissions_list('rsna-intracranial-hemorrhage-detection')[0]"
   ]
  }
 ],
 "metadata": {
  "kernelspec": {
   "display_name": "Python 3",
   "language": "python",
   "name": "python3"
  },
  "language_info": {
   "codemirror_mode": {
    "name": "ipython",
    "version": 3
   },
   "file_extension": ".py",
   "mimetype": "text/x-python",
   "name": "python",
   "nbconvert_exporter": "python",
   "pygments_lexer": "ipython3",
   "version": "3.7.6"
  }
 },
 "nbformat": 4,
 "nbformat_minor": 2
}

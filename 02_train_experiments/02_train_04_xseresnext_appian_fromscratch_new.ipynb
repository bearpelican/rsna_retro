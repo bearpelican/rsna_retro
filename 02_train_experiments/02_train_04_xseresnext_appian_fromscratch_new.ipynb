{
 "cells": [
  {
   "cell_type": "code",
   "execution_count": 1,
   "metadata": {},
   "outputs": [],
   "source": [
    "import os\n",
    "os.chdir('../')"
   ]
  },
  {
   "cell_type": "code",
   "execution_count": 2,
   "metadata": {},
   "outputs": [
    {
     "name": "stdout",
     "output_type": "stream",
     "text": [
      "Loading imports\n",
      "Warning: Your Kaggle API key is readable by other users on this system! To fix this, you can run 'chmod 600 /home/ashaw/.kaggle/kaggle.json'\n"
     ]
    }
   ],
   "source": [
    "from rsna_retro.imports import *\n",
    "from rsna_retro.metadata import *\n",
    "from rsna_retro.preprocess import *\n",
    "from rsna_retro.train import *"
   ]
  },
  {
   "cell_type": "code",
   "execution_count": 3,
   "metadata": {},
   "outputs": [],
   "source": [
    "torch.cuda.set_device(4)"
   ]
  },
  {
   "cell_type": "markdown",
   "metadata": {},
   "source": [
    "## Load Model"
   ]
  },
  {
   "cell_type": "code",
   "execution_count": 4,
   "metadata": {},
   "outputs": [],
   "source": [
    "name = 'baseline_any_xse_resnext50_appian_fromscratch'"
   ]
  },
  {
   "cell_type": "code",
   "execution_count": 5,
   "metadata": {},
   "outputs": [],
   "source": [
    "import pretrainedmodels"
   ]
  },
  {
   "cell_type": "code",
   "execution_count": 6,
   "metadata": {},
   "outputs": [],
   "source": [
    "m = pretrainedmodels.se_resnext50_32x4d(num_classes=1000, pretrained='imagenet')"
   ]
  },
  {
   "cell_type": "code",
   "execution_count": 7,
   "metadata": {},
   "outputs": [],
   "source": [
    "# m.avg_pool = nn.AdaptiveAvgPool2d(1)\n",
    "# m.last_linear = nn.Linear(in_features=2048, out_features=6)\n",
    "\n",
    "m.avg_pool = AdaptiveConcatPool2d(1)\n",
    "m.last_linear = nn.Linear(in_features=2048*2, out_features=6)"
   ]
  },
  {
   "cell_type": "code",
   "execution_count": 8,
   "metadata": {},
   "outputs": [],
   "source": [
    "\n",
    "def appianish_cycle_train(learn, get_data, no_pretrain=False, schedule=None, lr=3e-4):\n",
    "    do_slice=freeze= not no_pretrain\n",
    "    if not schedule: schedule = [(64,192), (64,352), (64,512), (64,None)]\n",
    "\n",
    "    \"\"\"\n",
    "    learn.loss_func = get_loss()\n",
    "    bs,sz = schedule[3]\n",
    "    learn.dls = get_data(bs, None, use_wgt=False)\n",
    "    do_fit(learn, 1, lr*2/3*2/3, freeze=False, **no_1cycle)\n",
    "    \"\"\"\n",
    "\n",
    "    if no_pretrain:\n",
    "        learn.loss_func = get_loss()\n",
    "        learn.dls = get_data(64, 160, use_wgt=False)\n",
    "        do_fit(learn, 4, lr, freeze=False, **no_1cycle)\n",
    "\n",
    "    #if not schedule: schedule = [(64,192), (64,352), (64,512), (64,None)]\n",
    "    #if not schedule: schedule = [(16,192),(16,352),(16,512),(16,None)]\n",
    "    learn.loss_func = get_loss()\n",
    "    bs,sz = schedule[0]\n",
    "    learn.dls = get_data(bs, 192, use_wgt=True)\n",
    "    do_fit(learn, 2, lr, do_slice=do_slice, freeze=freeze , **no_1cycle)\n",
    "    bs,sz = schedule[1]\n",
    "    learn.dls = get_data(bs, 352, use_wgt=True)\n",
    "    do_fit(learn, 2, lr*2/3, do_slice=do_slice, freeze=freeze, **no_1cycle)\n",
    "    bs,sz = schedule[2]\n",
    "    learn.dls = get_data(bs, 512, use_wgt=True)\n",
    "    do_fit(learn, 1, lr*2/3*2/3, do_slice=False, freeze=False, **no_1cycle)\n",
    "\n",
    "    learn.loss_func = get_loss()\n",
    "    bs,sz = schedule[3]\n",
    "    learn.dls = get_data(bs, None, use_wgt=False)\n",
    "    do_fit(learn, 1, lr*2/3*2/3, freeze=False, **no_1cycle)\n",
    "    do_fit(learn, 1, lr*2/3*2/3, freeze=False, div=1, pct_start=0.01)"
   ]
  },
  {
   "cell_type": "code",
   "execution_count": 9,
   "metadata": {},
   "outputs": [],
   "source": [
    "dls = get_data(384, 192, splits=Meta.splits, img_dir=path_jpg256)\n",
    "learn = get_learner(dls, m)"
   ]
  },
  {
   "cell_type": "code",
   "execution_count": 10,
   "metadata": {},
   "outputs": [],
   "source": [
    "lr = 4e-3"
   ]
  },
  {
   "cell_type": "markdown",
   "metadata": {},
   "source": [
    "## Training"
   ]
  },
  {
   "cell_type": "code",
   "execution_count": 11,
   "metadata": {},
   "outputs": [
    {
     "data": {
      "text/html": [
       "<table border=\"1\" class=\"dataframe\">\n",
       "  <thead>\n",
       "    <tr style=\"text-align: left;\">\n",
       "      <th>epoch</th>\n",
       "      <th>train_loss</th>\n",
       "      <th>valid_loss</th>\n",
       "      <th>accuracy_multi</th>\n",
       "      <th>accuracy_any</th>\n",
       "      <th>time</th>\n",
       "    </tr>\n",
       "  </thead>\n",
       "  <tbody>\n",
       "    <tr>\n",
       "      <td>0</td>\n",
       "      <td>0.111661</td>\n",
       "      <td>0.111581</td>\n",
       "      <td>0.963627</td>\n",
       "      <td>0.934870</td>\n",
       "      <td>29:09</td>\n",
       "    </tr>\n",
       "    <tr>\n",
       "      <td>1</td>\n",
       "      <td>0.097778</td>\n",
       "      <td>0.101920</td>\n",
       "      <td>0.968015</td>\n",
       "      <td>0.939719</td>\n",
       "      <td>28:48</td>\n",
       "    </tr>\n",
       "  </tbody>\n",
       "</table>"
      ],
      "text/plain": [
       "<IPython.core.display.HTML object>"
      ]
     },
     "metadata": {},
     "output_type": "display_data"
    }
   ],
   "source": [
    "do_fit(learn, 2, lr, **no_1cycle)\n",
    "learn.save(f'runs/{name}-1')"
   ]
  },
  {
   "cell_type": "code",
   "execution_count": 12,
   "metadata": {},
   "outputs": [
    {
     "data": {
      "text/html": [
       "<table border=\"1\" class=\"dataframe\">\n",
       "  <thead>\n",
       "    <tr style=\"text-align: left;\">\n",
       "      <th>epoch</th>\n",
       "      <th>train_loss</th>\n",
       "      <th>valid_loss</th>\n",
       "      <th>accuracy_multi</th>\n",
       "      <th>accuracy_any</th>\n",
       "      <th>time</th>\n",
       "    </tr>\n",
       "  </thead>\n",
       "  <tbody>\n",
       "    <tr>\n",
       "      <td>0</td>\n",
       "      <td>0.084263</td>\n",
       "      <td>0.090851</td>\n",
       "      <td>0.971102</td>\n",
       "      <td>0.949259</td>\n",
       "      <td>1:37:54</td>\n",
       "    </tr>\n",
       "    <tr>\n",
       "      <td>1</td>\n",
       "      <td>0.079062</td>\n",
       "      <td>0.085999</td>\n",
       "      <td>0.972297</td>\n",
       "      <td>0.948451</td>\n",
       "      <td>1:37:12</td>\n",
       "    </tr>\n",
       "  </tbody>\n",
       "</table>"
      ],
      "text/plain": [
       "<IPython.core.display.HTML object>"
      ]
     },
     "metadata": {},
     "output_type": "display_data"
    }
   ],
   "source": [
    "learn.dls = get_data(128, 352, splits=Meta.splits, img_dir=path_jpg)\n",
    "do_fit(learn, 2, lr*1/3, freeze=False, **no_1cycle)\n",
    "learn.save(f'runs/{name}-2')"
   ]
  },
  {
   "cell_type": "code",
   "execution_count": 13,
   "metadata": {},
   "outputs": [
    {
     "data": {
      "text/html": [
       "<table border=\"1\" class=\"dataframe\">\n",
       "  <thead>\n",
       "    <tr style=\"text-align: left;\">\n",
       "      <th>epoch</th>\n",
       "      <th>train_loss</th>\n",
       "      <th>valid_loss</th>\n",
       "      <th>accuracy_multi</th>\n",
       "      <th>accuracy_any</th>\n",
       "      <th>time</th>\n",
       "    </tr>\n",
       "  </thead>\n",
       "  <tbody>\n",
       "    <tr>\n",
       "      <td>0</td>\n",
       "      <td>0.079223</td>\n",
       "      <td>0.085103</td>\n",
       "      <td>0.972493</td>\n",
       "      <td>0.949334</td>\n",
       "      <td>3:06:54</td>\n",
       "    </tr>\n",
       "  </tbody>\n",
       "</table>"
      ],
      "text/plain": [
       "<IPython.core.display.HTML object>"
      ]
     },
     "metadata": {},
     "output_type": "display_data"
    }
   ],
   "source": [
    "learn.dls = get_data(64, 512, splits=Meta.splits, img_dir=path_jpg)\n",
    "do_fit(learn, 1, lr*2/9, freeze=False, **no_1cycle)\n",
    "learn.save(f'runs/{name}-3')"
   ]
  },
  {
   "cell_type": "code",
   "execution_count": null,
   "metadata": {},
   "outputs": [
    {
     "data": {
      "text/html": [
       "\n",
       "    <div>\n",
       "        <style>\n",
       "            /* Turns off some styling */\n",
       "            progress {\n",
       "                /* gets rid of default border in Firefox and Opera. */\n",
       "                border: none;\n",
       "                /* Needs to be in here for Safari polyfill so background images work as expected. */\n",
       "                background-size: auto;\n",
       "            }\n",
       "            .progress-bar-interrupted, .progress-bar-interrupted::-webkit-progress-bar {\n",
       "                background: #F44336;\n",
       "            }\n",
       "        </style>\n",
       "      <progress value='0' class='' max='1', style='width:300px; height:20px; vertical-align: middle;'></progress>\n",
       "      0.00% [0/1 00:00<00:00]\n",
       "    </div>\n",
       "    \n",
       "<table border=\"1\" class=\"dataframe\">\n",
       "  <thead>\n",
       "    <tr style=\"text-align: left;\">\n",
       "      <th>epoch</th>\n",
       "      <th>train_loss</th>\n",
       "      <th>valid_loss</th>\n",
       "      <th>accuracy_multi</th>\n",
       "      <th>accuracy_any</th>\n",
       "      <th>time</th>\n",
       "    </tr>\n",
       "  </thead>\n",
       "  <tbody>\n",
       "  </tbody>\n",
       "</table><p>\n",
       "\n",
       "    <div>\n",
       "        <style>\n",
       "            /* Turns off some styling */\n",
       "            progress {\n",
       "                /* gets rid of default border in Firefox and Opera. */\n",
       "                border: none;\n",
       "                /* Needs to be in here for Safari polyfill so background images work as expected. */\n",
       "                background-size: auto;\n",
       "            }\n",
       "            .progress-bar-interrupted, .progress-bar-interrupted::-webkit-progress-bar {\n",
       "                background: #F44336;\n",
       "            }\n",
       "        </style>\n",
       "      <progress value='5089' class='' max='10293', style='width:300px; height:20px; vertical-align: middle;'></progress>\n",
       "      49.44% [5089/10293 1:27:31<1:29:30 0.0754]\n",
       "    </div>\n",
       "    "
      ],
      "text/plain": [
       "<IPython.core.display.HTML object>"
      ]
     },
     "metadata": {},
     "output_type": "display_data"
    }
   ],
   "source": [
    "learn.dls = get_data(64, None, splits=Meta.splits, img_dir=path_jpg)\n",
    "do_fit(learn, 1, lr*1/9, freeze=False, **no_1cycle)\n",
    "learn.save(f'runs/{name}-4')"
   ]
  },
  {
   "cell_type": "markdown",
   "metadata": {},
   "source": [
    "## Submission"
   ]
  },
  {
   "cell_type": "code",
   "execution_count": null,
   "metadata": {},
   "outputs": [],
   "source": [
    "learn.load(f'runs/{name}-1')\n",
    "sub_fn = f'subm/{name}'"
   ]
  },
  {
   "cell_type": "code",
   "execution_count": null,
   "metadata": {},
   "outputs": [],
   "source": [
    "learn.dls = get_test_data(Meta.df_tst, bs=128, sz=None, tst_dir='tst_jpg')"
   ]
  },
  {
   "cell_type": "code",
   "execution_count": null,
   "metadata": {},
   "outputs": [],
   "source": [
    "ob = learn.dls.one_batch()"
   ]
  },
  {
   "cell_type": "code",
   "execution_count": null,
   "metadata": {},
   "outputs": [],
   "source": [
    "preds,targs = learn.get_preds()"
   ]
  },
  {
   "cell_type": "code",
   "execution_count": 15,
   "metadata": {},
   "outputs": [],
   "source": [
    "pred_csv = submission(Meta.df_tst, preds, fn=sub_fn)"
   ]
  },
  {
   "cell_type": "code",
   "execution_count": 16,
   "metadata": {},
   "outputs": [
    {
     "name": "stderr",
     "output_type": "stream",
     "text": [
      "100%|██████████| 26.0M/26.0M [00:02<00:00, 9.96MB/s]\n"
     ]
    },
    {
     "data": {
      "text/plain": [
       "Successfully submitted to RSNA Intracranial Hemorrhage Detection"
      ]
     },
     "execution_count": 16,
     "metadata": {},
     "output_type": "execute_result"
    }
   ],
   "source": [
    "api.competition_submit(f'{sub_fn}.csv', f'{name} appian se_resnext50', 'rsna-intracranial-hemorrhage-detection')"
   ]
  },
  {
   "cell_type": "code",
   "execution_count": 17,
   "metadata": {},
   "outputs": [
    {
     "data": {
      "text/plain": [
       "{'ref': 13820147,\n",
       " 'totalBytes': 27277209,\n",
       " 'date': '2019-12-16T19:19:33.217Z',\n",
       " 'description': 'baseline_any_xse_resnext_512_appian appian se_resnext50',\n",
       " 'errorDescription': None,\n",
       " 'fileName': 'baseline_any_xse_resnext_512_appian.csv',\n",
       " 'publicScore': None,\n",
       " 'privateScore': None,\n",
       " 'status': 'pending',\n",
       " 'submittedBy': 'Andrew Shaw',\n",
       " 'submittedByRef': 'bearpelican',\n",
       " 'teamName': 'Andrew Shaw',\n",
       " 'type': 'standard',\n",
       " 'url': 'https://www.kaggle.com/submissions/13820147/13820147.raw'}"
      ]
     },
     "execution_count": 17,
     "metadata": {},
     "output_type": "execute_result"
    }
   ],
   "source": [
    "api.competitions_submissions_list('rsna-intracranial-hemorrhage-detection')[0]"
   ]
  },
  {
   "cell_type": "markdown",
   "metadata": {},
   "source": [
    "## Save Predictions"
   ]
  },
  {
   "cell_type": "code",
   "execution_count": 11,
   "metadata": {},
   "outputs": [],
   "source": [
    "class FeatureModel(nn.Module):\n",
    "    def __init__(self, m): \n",
    "        super().__init__()\n",
    "        self.m = m\n",
    "        \n",
    "    def forward(self, x):\n",
    "        return self.m.avg_pool(self.m.features(x))"
   ]
  },
  {
   "cell_type": "code",
   "execution_count": 12,
   "metadata": {},
   "outputs": [],
   "source": [
    "#export\n",
    "class DummyLoss:\n",
    "    def __call__(self, p, *t, **kwargs): return torch.tensor(0, device=p.device).float()"
   ]
  },
  {
   "cell_type": "code",
   "execution_count": 13,
   "metadata": {},
   "outputs": [],
   "source": [
    "#export\n",
    "def save_features(learn, feat_path):\n",
    "    preds,targs = learn.get_preds(dl=learn.dls.valid)\n",
    "    val_ids = dls.valid.dataset.items\n",
    "    feat_path.mkdir(exist_ok=True)\n",
    "    for idx,pred in progress_bar(zip(val_ids, preds), total=len(val_ids)):\n",
    "        fn = feat_path/f'{idx}'\n",
    "        if fn.exists(): continue\n",
    "        np.save(str(fn), pred.squeeze().numpy())"
   ]
  },
  {
   "cell_type": "code",
   "execution_count": 14,
   "metadata": {},
   "outputs": [],
   "source": [
    "#export\n",
    "path_feat512 = path/'features_512'\n",
    "path_feat512_tst = path/'tst_features_512'"
   ]
  },
  {
   "cell_type": "code",
   "execution_count": 15,
   "metadata": {},
   "outputs": [
    {
     "data": {
      "text/plain": [
       "1306"
      ]
     },
     "execution_count": 15,
     "metadata": {},
     "output_type": "execute_result"
    }
   ],
   "source": [
    "len(dls.valid)"
   ]
  },
  {
   "cell_type": "code",
   "execution_count": 16,
   "metadata": {},
   "outputs": [],
   "source": [
    "dls = get_test_data(Meta.df_comb, bs=128, sz=None, tst_dir='nocrop_jpg', sl=slice(50000, 200000))\n",
    "# dls = get_data(48, 512, splits=Meta.splits_sample, img_dir=path_jpg)\n",
    "learn = get_learner(dls, m, lf=DummyLoss(), metrics=[])\n",
    "learn.load(f'runs/{name}-1')\n",
    "learn.model = FeatureModel(learn.model)"
   ]
  },
  {
   "cell_type": "code",
   "execution_count": 17,
   "metadata": {
    "scrolled": true
   },
   "outputs": [
    {
     "data": {
      "text/html": [],
      "text/plain": [
       "<IPython.core.display.HTML object>"
      ]
     },
     "metadata": {},
     "output_type": "display_data"
    },
    {
     "data": {
      "text/html": [
       "\n",
       "    <div>\n",
       "        <style>\n",
       "            /* Turns off some styling */\n",
       "            progress {\n",
       "                /* gets rid of default border in Firefox and Opera. */\n",
       "                border: none;\n",
       "                /* Needs to be in here for Safari polyfill so background images work as expected. */\n",
       "                background-size: auto;\n",
       "            }\n",
       "            .progress-bar-interrupted, .progress-bar-interrupted::-webkit-progress-bar {\n",
       "                background: #F44336;\n",
       "            }\n",
       "        </style>\n",
       "      <progress value='150000' class='' max='150000', style='width:300px; height:20px; vertical-align: middle;'></progress>\n",
       "      100.00% [150000/150000 01:01<00:00]\n",
       "    </div>\n",
       "    "
      ],
      "text/plain": [
       "<IPython.core.display.HTML object>"
      ]
     },
     "metadata": {},
     "output_type": "display_data"
    }
   ],
   "source": [
    "save_features(learn, path_feat512)"
   ]
  },
  {
   "cell_type": "code",
   "execution_count": 18,
   "metadata": {},
   "outputs": [
    {
     "data": {
      "text/plain": [
       "20"
      ]
     },
     "execution_count": 18,
     "metadata": {},
     "output_type": "execute_result"
    }
   ],
   "source": [
    "import gc\n",
    "gc.collect()"
   ]
  },
  {
   "cell_type": "code",
   "execution_count": null,
   "metadata": {},
   "outputs": [],
   "source": [
    "learn.dls = get_test_data(Meta.df_tst, bs=128, sz=None, tst_dir='tst_jpg')\n",
    "save_features(learn, path_feat512_tst)"
   ]
  }
 ],
 "metadata": {
  "kernelspec": {
   "display_name": "Python 3",
   "language": "python",
   "name": "python3"
  },
  "language_info": {
   "codemirror_mode": {
    "name": "ipython",
    "version": 3
   },
   "file_extension": ".py",
   "mimetype": "text/x-python",
   "name": "python",
   "nbconvert_exporter": "python",
   "pygments_lexer": "ipython3",
   "version": "3.7.6"
  }
 },
 "nbformat": 4,
 "nbformat_minor": 2
}

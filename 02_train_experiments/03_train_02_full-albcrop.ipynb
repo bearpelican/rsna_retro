{
 "cells": [
  {
   "cell_type": "code",
   "execution_count": 1,
   "metadata": {},
   "outputs": [],
   "source": [
    "import os\n",
    "os.chdir('../')"
   ]
  },
  {
   "cell_type": "code",
   "execution_count": 2,
   "metadata": {},
   "outputs": [
    {
     "name": "stdout",
     "output_type": "stream",
     "text": [
      "Loading imports\n",
      "Warning: Your Kaggle API key is readable by other users on this system! To fix this, you can run 'chmod 600 /home/ashaw/.kaggle/kaggle.json'\n"
     ]
    }
   ],
   "source": [
    "from rsna_retro.imports import *\n",
    "from rsna_retro.metadata import *\n",
    "from rsna_retro.preprocess import *\n",
    "from rsna_retro.train import *"
   ]
  },
  {
   "cell_type": "code",
   "execution_count": 3,
   "metadata": {},
   "outputs": [],
   "source": [
    "torch.cuda.set_device(3)"
   ]
  },
  {
   "cell_type": "code",
   "execution_count": 4,
   "metadata": {
    "scrolled": false
   },
   "outputs": [
    {
     "data": {
      "text/html": [
       "<div>\n",
       "<style scoped>\n",
       "    .dataframe tbody tr th:only-of-type {\n",
       "        vertical-align: middle;\n",
       "    }\n",
       "\n",
       "    .dataframe tbody tr th {\n",
       "        vertical-align: top;\n",
       "    }\n",
       "\n",
       "    .dataframe thead th {\n",
       "        text-align: right;\n",
       "    }\n",
       "</style>\n",
       "<table border=\"1\" class=\"dataframe\">\n",
       "  <thead>\n",
       "    <tr style=\"text-align: right;\">\n",
       "      <th></th>\n",
       "      <th>Modality</th>\n",
       "      <th>PatientID</th>\n",
       "      <th>StudyInstanceUID</th>\n",
       "      <th>SeriesInstanceUID</th>\n",
       "      <th>StudyID</th>\n",
       "      <th>ImagePositionPatient</th>\n",
       "      <th>ImageOrientationPatient</th>\n",
       "      <th>SamplesPerPixel</th>\n",
       "      <th>PhotometricInterpretation</th>\n",
       "      <th>Rows</th>\n",
       "      <th>...</th>\n",
       "      <th>MultiWindowCenter</th>\n",
       "      <th>WindowCenter1</th>\n",
       "      <th>MultiWindowWidth</th>\n",
       "      <th>WindowWidth1</th>\n",
       "      <th>any</th>\n",
       "      <th>epidural</th>\n",
       "      <th>intraparenchymal</th>\n",
       "      <th>intraventricular</th>\n",
       "      <th>subarachnoid</th>\n",
       "      <th>subdural</th>\n",
       "    </tr>\n",
       "    <tr>\n",
       "      <th>SOPInstanceUID</th>\n",
       "      <th></th>\n",
       "      <th></th>\n",
       "      <th></th>\n",
       "      <th></th>\n",
       "      <th></th>\n",
       "      <th></th>\n",
       "      <th></th>\n",
       "      <th></th>\n",
       "      <th></th>\n",
       "      <th></th>\n",
       "      <th></th>\n",
       "      <th></th>\n",
       "      <th></th>\n",
       "      <th></th>\n",
       "      <th></th>\n",
       "      <th></th>\n",
       "      <th></th>\n",
       "      <th></th>\n",
       "      <th></th>\n",
       "      <th></th>\n",
       "      <th></th>\n",
       "    </tr>\n",
       "  </thead>\n",
       "  <tbody>\n",
       "    <tr>\n",
       "      <th>ID_76d55d9d0</th>\n",
       "      <td>CT</td>\n",
       "      <td>ID_b9797064</td>\n",
       "      <td>ID_00b9e1961f</td>\n",
       "      <td>ID_0000298a7d</td>\n",
       "      <td></td>\n",
       "      <td>-125.0</td>\n",
       "      <td>1.0</td>\n",
       "      <td>1</td>\n",
       "      <td>MONOCHROME2</td>\n",
       "      <td>512</td>\n",
       "      <td>...</td>\n",
       "      <td>NaN</td>\n",
       "      <td>NaN</td>\n",
       "      <td>NaN</td>\n",
       "      <td>NaN</td>\n",
       "      <td>0</td>\n",
       "      <td>0</td>\n",
       "      <td>0</td>\n",
       "      <td>0</td>\n",
       "      <td>0</td>\n",
       "      <td>0</td>\n",
       "    </tr>\n",
       "    <tr>\n",
       "      <th>ID_96d282ea9</th>\n",
       "      <td>CT</td>\n",
       "      <td>ID_b9797064</td>\n",
       "      <td>ID_00b9e1961f</td>\n",
       "      <td>ID_0000298a7d</td>\n",
       "      <td></td>\n",
       "      <td>-125.0</td>\n",
       "      <td>1.0</td>\n",
       "      <td>1</td>\n",
       "      <td>MONOCHROME2</td>\n",
       "      <td>512</td>\n",
       "      <td>...</td>\n",
       "      <td>NaN</td>\n",
       "      <td>NaN</td>\n",
       "      <td>NaN</td>\n",
       "      <td>NaN</td>\n",
       "      <td>0</td>\n",
       "      <td>0</td>\n",
       "      <td>0</td>\n",
       "      <td>0</td>\n",
       "      <td>0</td>\n",
       "      <td>0</td>\n",
       "    </tr>\n",
       "    <tr>\n",
       "      <th>ID_7d8a7c29d</th>\n",
       "      <td>CT</td>\n",
       "      <td>ID_b9797064</td>\n",
       "      <td>ID_00b9e1961f</td>\n",
       "      <td>ID_0000298a7d</td>\n",
       "      <td></td>\n",
       "      <td>-125.0</td>\n",
       "      <td>1.0</td>\n",
       "      <td>1</td>\n",
       "      <td>MONOCHROME2</td>\n",
       "      <td>512</td>\n",
       "      <td>...</td>\n",
       "      <td>NaN</td>\n",
       "      <td>NaN</td>\n",
       "      <td>NaN</td>\n",
       "      <td>NaN</td>\n",
       "      <td>0</td>\n",
       "      <td>0</td>\n",
       "      <td>0</td>\n",
       "      <td>0</td>\n",
       "      <td>0</td>\n",
       "      <td>0</td>\n",
       "    </tr>\n",
       "    <tr>\n",
       "      <th>ID_4d4401491</th>\n",
       "      <td>CT</td>\n",
       "      <td>ID_b9797064</td>\n",
       "      <td>ID_00b9e1961f</td>\n",
       "      <td>ID_0000298a7d</td>\n",
       "      <td></td>\n",
       "      <td>-125.0</td>\n",
       "      <td>1.0</td>\n",
       "      <td>1</td>\n",
       "      <td>MONOCHROME2</td>\n",
       "      <td>512</td>\n",
       "      <td>...</td>\n",
       "      <td>NaN</td>\n",
       "      <td>NaN</td>\n",
       "      <td>NaN</td>\n",
       "      <td>NaN</td>\n",
       "      <td>0</td>\n",
       "      <td>0</td>\n",
       "      <td>0</td>\n",
       "      <td>0</td>\n",
       "      <td>0</td>\n",
       "      <td>0</td>\n",
       "    </tr>\n",
       "    <tr>\n",
       "      <th>ID_8f5ded0b7</th>\n",
       "      <td>CT</td>\n",
       "      <td>ID_b9797064</td>\n",
       "      <td>ID_00b9e1961f</td>\n",
       "      <td>ID_0000298a7d</td>\n",
       "      <td></td>\n",
       "      <td>-125.0</td>\n",
       "      <td>1.0</td>\n",
       "      <td>1</td>\n",
       "      <td>MONOCHROME2</td>\n",
       "      <td>512</td>\n",
       "      <td>...</td>\n",
       "      <td>NaN</td>\n",
       "      <td>NaN</td>\n",
       "      <td>NaN</td>\n",
       "      <td>NaN</td>\n",
       "      <td>0</td>\n",
       "      <td>0</td>\n",
       "      <td>0</td>\n",
       "      <td>0</td>\n",
       "      <td>0</td>\n",
       "      <td>0</td>\n",
       "    </tr>\n",
       "  </tbody>\n",
       "</table>\n",
       "<p>5 rows × 47 columns</p>\n",
       "</div>"
      ],
      "text/plain": [
       "               Modality    PatientID StudyInstanceUID SeriesInstanceUID  \\\n",
       "SOPInstanceUID                                                            \n",
       "ID_76d55d9d0         CT  ID_b9797064    ID_00b9e1961f     ID_0000298a7d   \n",
       "ID_96d282ea9         CT  ID_b9797064    ID_00b9e1961f     ID_0000298a7d   \n",
       "ID_7d8a7c29d         CT  ID_b9797064    ID_00b9e1961f     ID_0000298a7d   \n",
       "ID_4d4401491         CT  ID_b9797064    ID_00b9e1961f     ID_0000298a7d   \n",
       "ID_8f5ded0b7         CT  ID_b9797064    ID_00b9e1961f     ID_0000298a7d   \n",
       "\n",
       "               StudyID  ImagePositionPatient  ImageOrientationPatient  \\\n",
       "SOPInstanceUID                                                          \n",
       "ID_76d55d9d0                          -125.0                      1.0   \n",
       "ID_96d282ea9                          -125.0                      1.0   \n",
       "ID_7d8a7c29d                          -125.0                      1.0   \n",
       "ID_4d4401491                          -125.0                      1.0   \n",
       "ID_8f5ded0b7                          -125.0                      1.0   \n",
       "\n",
       "                SamplesPerPixel PhotometricInterpretation  Rows  ...  \\\n",
       "SOPInstanceUID                                                   ...   \n",
       "ID_76d55d9d0                  1               MONOCHROME2   512  ...   \n",
       "ID_96d282ea9                  1               MONOCHROME2   512  ...   \n",
       "ID_7d8a7c29d                  1               MONOCHROME2   512  ...   \n",
       "ID_4d4401491                  1               MONOCHROME2   512  ...   \n",
       "ID_8f5ded0b7                  1               MONOCHROME2   512  ...   \n",
       "\n",
       "                MultiWindowCenter  WindowCenter1  MultiWindowWidth  \\\n",
       "SOPInstanceUID                                                       \n",
       "ID_76d55d9d0                  NaN            NaN               NaN   \n",
       "ID_96d282ea9                  NaN            NaN               NaN   \n",
       "ID_7d8a7c29d                  NaN            NaN               NaN   \n",
       "ID_4d4401491                  NaN            NaN               NaN   \n",
       "ID_8f5ded0b7                  NaN            NaN               NaN   \n",
       "\n",
       "                WindowWidth1  any  epidural  intraparenchymal  \\\n",
       "SOPInstanceUID                                                  \n",
       "ID_76d55d9d0             NaN    0         0                 0   \n",
       "ID_96d282ea9             NaN    0         0                 0   \n",
       "ID_7d8a7c29d             NaN    0         0                 0   \n",
       "ID_4d4401491             NaN    0         0                 0   \n",
       "ID_8f5ded0b7             NaN    0         0                 0   \n",
       "\n",
       "                intraventricular  subarachnoid  subdural  \n",
       "SOPInstanceUID                                            \n",
       "ID_76d55d9d0                   0             0         0  \n",
       "ID_96d282ea9                   0             0         0  \n",
       "ID_7d8a7c29d                   0             0         0  \n",
       "ID_4d4401491                   0             0         0  \n",
       "ID_8f5ded0b7                   0             0         0  \n",
       "\n",
       "[5 rows x 47 columns]"
      ]
     },
     "execution_count": 4,
     "metadata": {},
     "output_type": "execute_result"
    }
   ],
   "source": [
    "Meta.df_comb.head()"
   ]
  },
  {
   "cell_type": "markdown",
   "metadata": {},
   "source": [
    "## Training"
   ]
  },
  {
   "cell_type": "code",
   "execution_count": 5,
   "metadata": {},
   "outputs": [],
   "source": [
    "name = 'baseline_full_stg1_album'"
   ]
  },
  {
   "cell_type": "code",
   "execution_count": 6,
   "metadata": {},
   "outputs": [],
   "source": [
    "dbch = get_album_data(512, 128, splits=Meta.splits_stg1, autocrop=True)\n",
    "learn = get_learner(dbch, xresnet18, pretrained=True)"
   ]
  },
  {
   "cell_type": "markdown",
   "metadata": {},
   "source": [
    "## Training"
   ]
  },
  {
   "cell_type": "code",
   "execution_count": 7,
   "metadata": {
    "scrolled": true
   },
   "outputs": [
    {
     "data": {
      "text/html": [
       "<table border=\"1\" class=\"dataframe\">\n",
       "  <thead>\n",
       "    <tr style=\"text-align: left;\">\n",
       "      <th>epoch</th>\n",
       "      <th>train_loss</th>\n",
       "      <th>valid_loss</th>\n",
       "      <th>accuracy_multi</th>\n",
       "      <th>accuracy_any</th>\n",
       "      <th>time</th>\n",
       "    </tr>\n",
       "  </thead>\n",
       "  <tbody>\n",
       "    <tr>\n",
       "      <td>0</td>\n",
       "      <td>0.124090</td>\n",
       "      <td>0.212700</td>\n",
       "      <td>0.928175</td>\n",
       "      <td>0.804074</td>\n",
       "      <td>10:00</td>\n",
       "    </tr>\n",
       "    <tr>\n",
       "      <td>1</td>\n",
       "      <td>0.109570</td>\n",
       "      <td>0.119122</td>\n",
       "      <td>0.963883</td>\n",
       "      <td>0.926794</td>\n",
       "      <td>10:03</td>\n",
       "    </tr>\n",
       "    <tr>\n",
       "      <td>2</td>\n",
       "      <td>0.104116</td>\n",
       "      <td>0.175774</td>\n",
       "      <td>0.956855</td>\n",
       "      <td>0.896964</td>\n",
       "      <td>09:59</td>\n",
       "    </tr>\n",
       "    <tr>\n",
       "      <td>3</td>\n",
       "      <td>0.100391</td>\n",
       "      <td>0.110482</td>\n",
       "      <td>0.966603</td>\n",
       "      <td>0.931759</td>\n",
       "      <td>10:03</td>\n",
       "    </tr>\n",
       "    <tr>\n",
       "      <td>4</td>\n",
       "      <td>0.095880</td>\n",
       "      <td>0.120665</td>\n",
       "      <td>0.963747</td>\n",
       "      <td>0.922236</td>\n",
       "      <td>09:54</td>\n",
       "    </tr>\n",
       "    <tr>\n",
       "      <td>5</td>\n",
       "      <td>0.092943</td>\n",
       "      <td>0.125946</td>\n",
       "      <td>0.964778</td>\n",
       "      <td>0.928678</td>\n",
       "      <td>09:51</td>\n",
       "    </tr>\n",
       "    <tr>\n",
       "      <td>6</td>\n",
       "      <td>0.088890</td>\n",
       "      <td>0.096296</td>\n",
       "      <td>0.970414</td>\n",
       "      <td>0.940951</td>\n",
       "      <td>10:01</td>\n",
       "    </tr>\n",
       "    <tr>\n",
       "      <td>7</td>\n",
       "      <td>0.086341</td>\n",
       "      <td>0.106033</td>\n",
       "      <td>0.969307</td>\n",
       "      <td>0.933821</td>\n",
       "      <td>10:05</td>\n",
       "    </tr>\n",
       "    <tr>\n",
       "      <td>8</td>\n",
       "      <td>0.080141</td>\n",
       "      <td>0.095062</td>\n",
       "      <td>0.972358</td>\n",
       "      <td>0.943446</td>\n",
       "      <td>10:01</td>\n",
       "    </tr>\n",
       "    <tr>\n",
       "      <td>9</td>\n",
       "      <td>0.077009</td>\n",
       "      <td>0.085163</td>\n",
       "      <td>0.974110</td>\n",
       "      <td>0.949418</td>\n",
       "      <td>10:10</td>\n",
       "    </tr>\n",
       "    <tr>\n",
       "      <td>10</td>\n",
       "      <td>0.070148</td>\n",
       "      <td>0.082856</td>\n",
       "      <td>0.975108</td>\n",
       "      <td>0.951034</td>\n",
       "      <td>10:05</td>\n",
       "    </tr>\n",
       "    <tr>\n",
       "      <td>11</td>\n",
       "      <td>0.067015</td>\n",
       "      <td>0.083033</td>\n",
       "      <td>0.975038</td>\n",
       "      <td>0.951060</td>\n",
       "      <td>10:05</td>\n",
       "    </tr>\n",
       "  </tbody>\n",
       "</table>"
      ],
      "text/plain": [
       "<IPython.core.display.HTML object>"
      ]
     },
     "metadata": {},
     "output_type": "display_data"
    }
   ],
   "source": [
    "do_fit(learn, 12, 4e-2)\n",
    "learn.save(f'runs/{name}-1')"
   ]
  },
  {
   "cell_type": "code",
   "execution_count": 8,
   "metadata": {},
   "outputs": [
    {
     "data": {
      "text/html": [
       "<table border=\"1\" class=\"dataframe\">\n",
       "  <thead>\n",
       "    <tr style=\"text-align: left;\">\n",
       "      <th>epoch</th>\n",
       "      <th>train_loss</th>\n",
       "      <th>valid_loss</th>\n",
       "      <th>accuracy_multi</th>\n",
       "      <th>accuracy_any</th>\n",
       "      <th>time</th>\n",
       "    </tr>\n",
       "  </thead>\n",
       "  <tbody>\n",
       "    <tr>\n",
       "      <td>0</td>\n",
       "      <td>0.082861</td>\n",
       "      <td>0.087619</td>\n",
       "      <td>0.973066</td>\n",
       "      <td>0.947228</td>\n",
       "      <td>13:59</td>\n",
       "    </tr>\n",
       "    <tr>\n",
       "      <td>1</td>\n",
       "      <td>0.073856</td>\n",
       "      <td>0.084599</td>\n",
       "      <td>0.974365</td>\n",
       "      <td>0.949583</td>\n",
       "      <td>13:46</td>\n",
       "    </tr>\n",
       "    <tr>\n",
       "      <td>2</td>\n",
       "      <td>0.076148</td>\n",
       "      <td>0.082394</td>\n",
       "      <td>0.974138</td>\n",
       "      <td>0.950143</td>\n",
       "      <td>13:46</td>\n",
       "    </tr>\n",
       "    <tr>\n",
       "      <td>3</td>\n",
       "      <td>0.072737</td>\n",
       "      <td>0.080915</td>\n",
       "      <td>0.974706</td>\n",
       "      <td>0.951124</td>\n",
       "      <td>13:46</td>\n",
       "    </tr>\n",
       "    <tr>\n",
       "      <td>4</td>\n",
       "      <td>0.071758</td>\n",
       "      <td>0.081326</td>\n",
       "      <td>0.974898</td>\n",
       "      <td>0.950652</td>\n",
       "      <td>13:47</td>\n",
       "    </tr>\n",
       "    <tr>\n",
       "      <td>5</td>\n",
       "      <td>0.068769</td>\n",
       "      <td>0.078811</td>\n",
       "      <td>0.975615</td>\n",
       "      <td>0.953199</td>\n",
       "      <td>13:47</td>\n",
       "    </tr>\n",
       "    <tr>\n",
       "      <td>6</td>\n",
       "      <td>0.065320</td>\n",
       "      <td>0.079316</td>\n",
       "      <td>0.975963</td>\n",
       "      <td>0.952931</td>\n",
       "      <td>13:42</td>\n",
       "    </tr>\n",
       "    <tr>\n",
       "      <td>7</td>\n",
       "      <td>0.062467</td>\n",
       "      <td>0.078394</td>\n",
       "      <td>0.976385</td>\n",
       "      <td>0.954306</td>\n",
       "      <td>13:42</td>\n",
       "    </tr>\n",
       "    <tr>\n",
       "      <td>8</td>\n",
       "      <td>0.060255</td>\n",
       "      <td>0.081078</td>\n",
       "      <td>0.976238</td>\n",
       "      <td>0.953441</td>\n",
       "      <td>13:43</td>\n",
       "    </tr>\n",
       "    <tr>\n",
       "      <td>9</td>\n",
       "      <td>0.055892</td>\n",
       "      <td>0.080255</td>\n",
       "      <td>0.976491</td>\n",
       "      <td>0.954141</td>\n",
       "      <td>13:44</td>\n",
       "    </tr>\n",
       "    <tr>\n",
       "      <td>10</td>\n",
       "      <td>0.051820</td>\n",
       "      <td>0.081643</td>\n",
       "      <td>0.976563</td>\n",
       "      <td>0.954383</td>\n",
       "      <td>13:45</td>\n",
       "    </tr>\n",
       "    <tr>\n",
       "      <td>11</td>\n",
       "      <td>0.050792</td>\n",
       "      <td>0.081989</td>\n",
       "      <td>0.976655</td>\n",
       "      <td>0.954599</td>\n",
       "      <td>13:42</td>\n",
       "    </tr>\n",
       "  </tbody>\n",
       "</table>"
      ],
      "text/plain": [
       "<IPython.core.display.HTML object>"
      ]
     },
     "metadata": {},
     "output_type": "display_data"
    }
   ],
   "source": [
    "learn.dbunch = get_album_data(512, 256, splits=Meta.splits_stg1, autocrop=True)\n",
    "do_fit(learn, 12, 4e-3, freeze=False)\n",
    "learn.save(f'runs/{name}-2')"
   ]
  },
  {
   "cell_type": "code",
   "execution_count": 9,
   "metadata": {},
   "outputs": [
    {
     "data": {
      "text/html": [
       "<table border=\"1\" class=\"dataframe\">\n",
       "  <thead>\n",
       "    <tr style=\"text-align: left;\">\n",
       "      <th>epoch</th>\n",
       "      <th>train_loss</th>\n",
       "      <th>valid_loss</th>\n",
       "      <th>accuracy_multi</th>\n",
       "      <th>accuracy_any</th>\n",
       "      <th>time</th>\n",
       "    </tr>\n",
       "  </thead>\n",
       "  <tbody>\n",
       "    <tr>\n",
       "      <td>0</td>\n",
       "      <td>0.067636</td>\n",
       "      <td>0.080426</td>\n",
       "      <td>0.975528</td>\n",
       "      <td>0.953161</td>\n",
       "      <td>32:49</td>\n",
       "    </tr>\n",
       "    <tr>\n",
       "      <td>1</td>\n",
       "      <td>0.064047</td>\n",
       "      <td>0.078824</td>\n",
       "      <td>0.976485</td>\n",
       "      <td>0.954625</td>\n",
       "      <td>32:10</td>\n",
       "    </tr>\n",
       "    <tr>\n",
       "      <td>2</td>\n",
       "      <td>0.057565</td>\n",
       "      <td>0.078837</td>\n",
       "      <td>0.976610</td>\n",
       "      <td>0.954523</td>\n",
       "      <td>32:19</td>\n",
       "    </tr>\n",
       "    <tr>\n",
       "      <td>3</td>\n",
       "      <td>0.054841</td>\n",
       "      <td>0.079174</td>\n",
       "      <td>0.976627</td>\n",
       "      <td>0.954956</td>\n",
       "      <td>31:27</td>\n",
       "    </tr>\n",
       "  </tbody>\n",
       "</table>"
      ],
      "text/plain": [
       "<IPython.core.display.HTML object>"
      ]
     },
     "metadata": {},
     "output_type": "display_data"
    }
   ],
   "source": [
    "learn.dbunch = get_album_data(256, 384, splits=Meta.splits_stg1, img_dir=path_jpg, autocrop=True)\n",
    "do_fit(learn, 4, 4e-4, freeze=False)\n",
    "learn.save(f'runs/{name}-3')"
   ]
  },
  {
   "cell_type": "markdown",
   "metadata": {},
   "source": [
    "## Submission"
   ]
  },
  {
   "cell_type": "code",
   "execution_count": 7,
   "metadata": {},
   "outputs": [
    {
     "data": {
      "text/plain": [
       "<fastai2.learner.Learner at 0x7f5bb55d26d0>"
      ]
     },
     "execution_count": 7,
     "metadata": {},
     "output_type": "execute_result"
    }
   ],
   "source": [
    "learn.load(f'runs/{name}-3')"
   ]
  },
  {
   "cell_type": "code",
   "execution_count": 8,
   "metadata": {},
   "outputs": [],
   "source": [
    "sub_fn = f'subm/{name}-3'"
   ]
  },
  {
   "cell_type": "code",
   "execution_count": 9,
   "metadata": {},
   "outputs": [],
   "source": [
    "s1 = L(range(len(Meta.df_tst.index)))\n",
    "learn.dbunch = get_album_data_gen(Meta.df_tst.index, bs=512, img_tfm=get_cv2_fn(path/'tst_jpg'), sz=384, splits=[s1, s1], test=True, autocrop=True)"
   ]
  },
  {
   "cell_type": "code",
   "execution_count": 16,
   "metadata": {},
   "outputs": [],
   "source": [
    "# tst_bs = 256\n",
    "# tst_sz = 384\n",
    "# tst_splits = [L.range(tst_fns), L.range(tst_fns)]\n",
    "# tst_dbch = get_data_gen(tst_fns, bs=tst_bs, img_tfm=get_pil_fn(path/'tst_jpg'), sz=tst_sz, splits=tst_splits, test=True)\n",
    "# learn.dbunch = tst_dbch"
   ]
  },
  {
   "cell_type": "code",
   "execution_count": 10,
   "metadata": {},
   "outputs": [
    {
     "data": {
      "text/html": [],
      "text/plain": [
       "<IPython.core.display.HTML object>"
      ]
     },
     "metadata": {},
     "output_type": "display_data"
    }
   ],
   "source": [
    "preds,targs = learn.get_preds()"
   ]
  },
  {
   "cell_type": "code",
   "execution_count": 11,
   "metadata": {},
   "outputs": [],
   "source": [
    "pred_csv = submission(Meta.df_tst, preds, fn=sub_fn)"
   ]
  },
  {
   "cell_type": "code",
   "execution_count": 12,
   "metadata": {},
   "outputs": [
    {
     "data": {
      "text/html": [
       "<a href='subm/baseline_full_stg1_album-3.csv' target='_blank'>subm/baseline_full_stg1_album-3.csv</a><br>"
      ],
      "text/plain": [
       "/home/ashaw/kaggle/rsna_retro/subm/baseline_full_stg1_album-3.csv"
      ]
     },
     "execution_count": 12,
     "metadata": {},
     "output_type": "execute_result"
    }
   ],
   "source": [
    "FileLink(f'{sub_fn}.csv')"
   ]
  },
  {
   "cell_type": "code",
   "execution_count": 13,
   "metadata": {},
   "outputs": [
    {
     "name": "stderr",
     "output_type": "stream",
     "text": [
      "100%|██████████| 26.0M/26.0M [00:02<00:00, 10.2MB/s]\n"
     ]
    },
    {
     "data": {
      "text/plain": [
       "Successfully submitted to RSNA Intracranial Hemorrhage Detection"
      ]
     },
     "execution_count": 13,
     "metadata": {},
     "output_type": "execute_result"
    }
   ],
   "source": [
    "api.competition_submit(f'{sub_fn}.csv', 'Training on Stage 1 (384), Valid on Stage 2. - 0.078346', 'rsna-intracranial-hemorrhage-detection')"
   ]
  },
  {
   "cell_type": "code",
   "execution_count": 15,
   "metadata": {},
   "outputs": [
    {
     "data": {
      "text/plain": [
       "{'ref': 14284334,\n",
       " 'totalBytes': 27277209,\n",
       " 'date': '2020-01-24T22:14:06.107Z',\n",
       " 'description': 'Training on Stage 1 (384), Valid on Stage 2. - 0.078346',\n",
       " 'errorDescription': None,\n",
       " 'fileName': 'baseline_full_stg1_album-3.csv',\n",
       " 'publicScore': '0.64291',\n",
       " 'privateScore': '0.06516',\n",
       " 'status': 'complete',\n",
       " 'submittedBy': 'Andrew Shaw',\n",
       " 'submittedByRef': 'bearpelican',\n",
       " 'teamName': 'Andrew Shaw',\n",
       " 'type': 'standard',\n",
       " 'url': 'https://www.kaggle.com/submissions/14284334/14284334.raw'}"
      ]
     },
     "execution_count": 15,
     "metadata": {},
     "output_type": "execute_result"
    }
   ],
   "source": [
    "# using albumentation tfms\n",
    "api.competitions_submissions_list('rsna-intracranial-hemorrhage-detection')[0]"
   ]
  }
 ],
 "metadata": {
  "kernelspec": {
   "display_name": "Python 3",
   "language": "python",
   "name": "python3"
  },
  "language_info": {
   "codemirror_mode": {
    "name": "ipython",
    "version": 3
   },
   "file_extension": ".py",
   "mimetype": "text/x-python",
   "name": "python",
   "nbconvert_exporter": "python",
   "pygments_lexer": "ipython3",
   "version": "3.7.6"
  }
 },
 "nbformat": 4,
 "nbformat_minor": 2
}

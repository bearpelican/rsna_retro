{
 "cells": [
  {
   "cell_type": "code",
   "execution_count": 1,
   "metadata": {},
   "outputs": [],
   "source": [
    "import os\n",
    "os.chdir('../')"
   ]
  },
  {
   "cell_type": "code",
   "execution_count": 2,
   "metadata": {},
   "outputs": [
    {
     "name": "stdout",
     "output_type": "stream",
     "text": [
      "Loading imports\n"
     ]
    }
   ],
   "source": [
    "from rsna_retro.imports import *\n",
    "from rsna_retro.metadata import *\n",
    "from rsna_retro.preprocess import *\n",
    "from rsna_retro.train import *"
   ]
  },
  {
   "cell_type": "code",
   "execution_count": 3,
   "metadata": {},
   "outputs": [],
   "source": [
    "torch.cuda.set_device(1)"
   ]
  },
  {
   "cell_type": "code",
   "execution_count": 4,
   "metadata": {
    "scrolled": true
   },
   "outputs": [
    {
     "data": {
      "text/html": [
       "<div>\n",
       "<style scoped>\n",
       "    .dataframe tbody tr th:only-of-type {\n",
       "        vertical-align: middle;\n",
       "    }\n",
       "\n",
       "    .dataframe tbody tr th {\n",
       "        vertical-align: top;\n",
       "    }\n",
       "\n",
       "    .dataframe thead th {\n",
       "        text-align: right;\n",
       "    }\n",
       "</style>\n",
       "<table border=\"1\" class=\"dataframe\">\n",
       "  <thead>\n",
       "    <tr style=\"text-align: right;\">\n",
       "      <th></th>\n",
       "      <th>Modality</th>\n",
       "      <th>PatientID</th>\n",
       "      <th>StudyInstanceUID</th>\n",
       "      <th>SeriesInstanceUID</th>\n",
       "      <th>StudyID</th>\n",
       "      <th>ImagePositionPatient</th>\n",
       "      <th>ImageOrientationPatient</th>\n",
       "      <th>SamplesPerPixel</th>\n",
       "      <th>PhotometricInterpretation</th>\n",
       "      <th>Rows</th>\n",
       "      <th>...</th>\n",
       "      <th>MultiWindowCenter</th>\n",
       "      <th>WindowCenter1</th>\n",
       "      <th>MultiWindowWidth</th>\n",
       "      <th>WindowWidth1</th>\n",
       "      <th>any</th>\n",
       "      <th>epidural</th>\n",
       "      <th>intraparenchymal</th>\n",
       "      <th>intraventricular</th>\n",
       "      <th>subarachnoid</th>\n",
       "      <th>subdural</th>\n",
       "    </tr>\n",
       "    <tr>\n",
       "      <th>SOPInstanceUID</th>\n",
       "      <th></th>\n",
       "      <th></th>\n",
       "      <th></th>\n",
       "      <th></th>\n",
       "      <th></th>\n",
       "      <th></th>\n",
       "      <th></th>\n",
       "      <th></th>\n",
       "      <th></th>\n",
       "      <th></th>\n",
       "      <th></th>\n",
       "      <th></th>\n",
       "      <th></th>\n",
       "      <th></th>\n",
       "      <th></th>\n",
       "      <th></th>\n",
       "      <th></th>\n",
       "      <th></th>\n",
       "      <th></th>\n",
       "      <th></th>\n",
       "      <th></th>\n",
       "    </tr>\n",
       "  </thead>\n",
       "  <tbody>\n",
       "    <tr>\n",
       "      <th>ID_76d55d9d0</th>\n",
       "      <td>CT</td>\n",
       "      <td>ID_b9797064</td>\n",
       "      <td>ID_00b9e1961f</td>\n",
       "      <td>ID_0000298a7d</td>\n",
       "      <td></td>\n",
       "      <td>-125.0</td>\n",
       "      <td>1.0</td>\n",
       "      <td>1</td>\n",
       "      <td>MONOCHROME2</td>\n",
       "      <td>512</td>\n",
       "      <td>...</td>\n",
       "      <td>NaN</td>\n",
       "      <td>NaN</td>\n",
       "      <td>NaN</td>\n",
       "      <td>NaN</td>\n",
       "      <td>0</td>\n",
       "      <td>0</td>\n",
       "      <td>0</td>\n",
       "      <td>0</td>\n",
       "      <td>0</td>\n",
       "      <td>0</td>\n",
       "    </tr>\n",
       "    <tr>\n",
       "      <th>ID_96d282ea9</th>\n",
       "      <td>CT</td>\n",
       "      <td>ID_b9797064</td>\n",
       "      <td>ID_00b9e1961f</td>\n",
       "      <td>ID_0000298a7d</td>\n",
       "      <td></td>\n",
       "      <td>-125.0</td>\n",
       "      <td>1.0</td>\n",
       "      <td>1</td>\n",
       "      <td>MONOCHROME2</td>\n",
       "      <td>512</td>\n",
       "      <td>...</td>\n",
       "      <td>NaN</td>\n",
       "      <td>NaN</td>\n",
       "      <td>NaN</td>\n",
       "      <td>NaN</td>\n",
       "      <td>0</td>\n",
       "      <td>0</td>\n",
       "      <td>0</td>\n",
       "      <td>0</td>\n",
       "      <td>0</td>\n",
       "      <td>0</td>\n",
       "    </tr>\n",
       "    <tr>\n",
       "      <th>ID_7d8a7c29d</th>\n",
       "      <td>CT</td>\n",
       "      <td>ID_b9797064</td>\n",
       "      <td>ID_00b9e1961f</td>\n",
       "      <td>ID_0000298a7d</td>\n",
       "      <td></td>\n",
       "      <td>-125.0</td>\n",
       "      <td>1.0</td>\n",
       "      <td>1</td>\n",
       "      <td>MONOCHROME2</td>\n",
       "      <td>512</td>\n",
       "      <td>...</td>\n",
       "      <td>NaN</td>\n",
       "      <td>NaN</td>\n",
       "      <td>NaN</td>\n",
       "      <td>NaN</td>\n",
       "      <td>0</td>\n",
       "      <td>0</td>\n",
       "      <td>0</td>\n",
       "      <td>0</td>\n",
       "      <td>0</td>\n",
       "      <td>0</td>\n",
       "    </tr>\n",
       "    <tr>\n",
       "      <th>ID_4d4401491</th>\n",
       "      <td>CT</td>\n",
       "      <td>ID_b9797064</td>\n",
       "      <td>ID_00b9e1961f</td>\n",
       "      <td>ID_0000298a7d</td>\n",
       "      <td></td>\n",
       "      <td>-125.0</td>\n",
       "      <td>1.0</td>\n",
       "      <td>1</td>\n",
       "      <td>MONOCHROME2</td>\n",
       "      <td>512</td>\n",
       "      <td>...</td>\n",
       "      <td>NaN</td>\n",
       "      <td>NaN</td>\n",
       "      <td>NaN</td>\n",
       "      <td>NaN</td>\n",
       "      <td>0</td>\n",
       "      <td>0</td>\n",
       "      <td>0</td>\n",
       "      <td>0</td>\n",
       "      <td>0</td>\n",
       "      <td>0</td>\n",
       "    </tr>\n",
       "    <tr>\n",
       "      <th>ID_8f5ded0b7</th>\n",
       "      <td>CT</td>\n",
       "      <td>ID_b9797064</td>\n",
       "      <td>ID_00b9e1961f</td>\n",
       "      <td>ID_0000298a7d</td>\n",
       "      <td></td>\n",
       "      <td>-125.0</td>\n",
       "      <td>1.0</td>\n",
       "      <td>1</td>\n",
       "      <td>MONOCHROME2</td>\n",
       "      <td>512</td>\n",
       "      <td>...</td>\n",
       "      <td>NaN</td>\n",
       "      <td>NaN</td>\n",
       "      <td>NaN</td>\n",
       "      <td>NaN</td>\n",
       "      <td>0</td>\n",
       "      <td>0</td>\n",
       "      <td>0</td>\n",
       "      <td>0</td>\n",
       "      <td>0</td>\n",
       "      <td>0</td>\n",
       "    </tr>\n",
       "  </tbody>\n",
       "</table>\n",
       "<p>5 rows × 47 columns</p>\n",
       "</div>"
      ],
      "text/plain": [
       "               Modality    PatientID StudyInstanceUID SeriesInstanceUID  \\\n",
       "SOPInstanceUID                                                            \n",
       "ID_76d55d9d0         CT  ID_b9797064    ID_00b9e1961f     ID_0000298a7d   \n",
       "ID_96d282ea9         CT  ID_b9797064    ID_00b9e1961f     ID_0000298a7d   \n",
       "ID_7d8a7c29d         CT  ID_b9797064    ID_00b9e1961f     ID_0000298a7d   \n",
       "ID_4d4401491         CT  ID_b9797064    ID_00b9e1961f     ID_0000298a7d   \n",
       "ID_8f5ded0b7         CT  ID_b9797064    ID_00b9e1961f     ID_0000298a7d   \n",
       "\n",
       "               StudyID  ImagePositionPatient  ImageOrientationPatient  \\\n",
       "SOPInstanceUID                                                          \n",
       "ID_76d55d9d0                          -125.0                      1.0   \n",
       "ID_96d282ea9                          -125.0                      1.0   \n",
       "ID_7d8a7c29d                          -125.0                      1.0   \n",
       "ID_4d4401491                          -125.0                      1.0   \n",
       "ID_8f5ded0b7                          -125.0                      1.0   \n",
       "\n",
       "                SamplesPerPixel PhotometricInterpretation  Rows  ...  \\\n",
       "SOPInstanceUID                                                   ...   \n",
       "ID_76d55d9d0                  1               MONOCHROME2   512  ...   \n",
       "ID_96d282ea9                  1               MONOCHROME2   512  ...   \n",
       "ID_7d8a7c29d                  1               MONOCHROME2   512  ...   \n",
       "ID_4d4401491                  1               MONOCHROME2   512  ...   \n",
       "ID_8f5ded0b7                  1               MONOCHROME2   512  ...   \n",
       "\n",
       "                MultiWindowCenter  WindowCenter1  MultiWindowWidth  \\\n",
       "SOPInstanceUID                                                       \n",
       "ID_76d55d9d0                  NaN            NaN               NaN   \n",
       "ID_96d282ea9                  NaN            NaN               NaN   \n",
       "ID_7d8a7c29d                  NaN            NaN               NaN   \n",
       "ID_4d4401491                  NaN            NaN               NaN   \n",
       "ID_8f5ded0b7                  NaN            NaN               NaN   \n",
       "\n",
       "                WindowWidth1  any  epidural  intraparenchymal  \\\n",
       "SOPInstanceUID                                                  \n",
       "ID_76d55d9d0             NaN    0         0                 0   \n",
       "ID_96d282ea9             NaN    0         0                 0   \n",
       "ID_7d8a7c29d             NaN    0         0                 0   \n",
       "ID_4d4401491             NaN    0         0                 0   \n",
       "ID_8f5ded0b7             NaN    0         0                 0   \n",
       "\n",
       "                intraventricular  subarachnoid  subdural  \n",
       "SOPInstanceUID                                            \n",
       "ID_76d55d9d0                   0             0         0  \n",
       "ID_96d282ea9                   0             0         0  \n",
       "ID_7d8a7c29d                   0             0         0  \n",
       "ID_4d4401491                   0             0         0  \n",
       "ID_8f5ded0b7                   0             0         0  \n",
       "\n",
       "[5 rows x 47 columns]"
      ]
     },
     "execution_count": 4,
     "metadata": {},
     "output_type": "execute_result"
    }
   ],
   "source": [
    "Meta.df_comb.head()"
   ]
  },
  {
   "cell_type": "markdown",
   "metadata": {},
   "source": [
    "## Training"
   ]
  },
  {
   "cell_type": "code",
   "execution_count": 5,
   "metadata": {},
   "outputs": [],
   "source": [
    "name = 'train_1_self_supervised'\n",
    "arch = xresnet18(c_in)"
   ]
  },
  {
   "cell_type": "code",
   "execution_count": 6,
   "metadata": {},
   "outputs": [],
   "source": [
    "dbch = get_data(512, 256, splits=Meta.splits_stg1)\n",
    "learn = get_learner(dbch, arch, pretrained=True)"
   ]
  },
  {
   "cell_type": "code",
   "execution_count": 7,
   "metadata": {},
   "outputs": [
    {
     "data": {
      "text/plain": [
       "XResNet(\n",
       "  (0): ConvLayer(\n",
       "    (0): Conv2d(3, 32, kernel_size=(3, 3), stride=(2, 2), padding=(1, 1), bias=False)\n",
       "    (1): BatchNorm2d(32, eps=1e-05, momentum=0.1, affine=True, track_running_stats=True)\n",
       "    (2): ReLU()\n",
       "  )\n",
       "  (1): ConvLayer(\n",
       "    (0): Conv2d(32, 32, kernel_size=(3, 3), stride=(1, 1), padding=(1, 1), bias=False)\n",
       "    (1): BatchNorm2d(32, eps=1e-05, momentum=0.1, affine=True, track_running_stats=True)\n",
       "    (2): ReLU()\n",
       "  )\n",
       "  (2): ConvLayer(\n",
       "    (0): Conv2d(32, 64, kernel_size=(3, 3), stride=(1, 1), padding=(1, 1), bias=False)\n",
       "    (1): BatchNorm2d(64, eps=1e-05, momentum=0.1, affine=True, track_running_stats=True)\n",
       "    (2): ReLU()\n",
       "  )\n",
       "  (3): MaxPool2d(kernel_size=3, stride=2, padding=1, dilation=1, ceil_mode=False)\n",
       "  (4): Sequential(\n",
       "    (0): ResBlock(\n",
       "      (convpath): Sequential(\n",
       "        (0): ConvLayer(\n",
       "          (0): Conv2d(64, 64, kernel_size=(3, 3), stride=(1, 1), padding=(1, 1), bias=False)\n",
       "          (1): BatchNorm2d(64, eps=1e-05, momentum=0.1, affine=True, track_running_stats=True)\n",
       "          (2): ReLU()\n",
       "        )\n",
       "        (1): ConvLayer(\n",
       "          (0): Conv2d(64, 64, kernel_size=(3, 3), stride=(1, 1), padding=(1, 1), bias=False)\n",
       "          (1): BatchNorm2d(64, eps=1e-05, momentum=0.1, affine=True, track_running_stats=True)\n",
       "        )\n",
       "      )\n",
       "      (idpath): Sequential()\n",
       "      (act): ReLU(inplace=True)\n",
       "    )\n",
       "    (1): ResBlock(\n",
       "      (convpath): Sequential(\n",
       "        (0): ConvLayer(\n",
       "          (0): Conv2d(64, 64, kernel_size=(3, 3), stride=(1, 1), padding=(1, 1), bias=False)\n",
       "          (1): BatchNorm2d(64, eps=1e-05, momentum=0.1, affine=True, track_running_stats=True)\n",
       "          (2): ReLU()\n",
       "        )\n",
       "        (1): ConvLayer(\n",
       "          (0): Conv2d(64, 64, kernel_size=(3, 3), stride=(1, 1), padding=(1, 1), bias=False)\n",
       "          (1): BatchNorm2d(64, eps=1e-05, momentum=0.1, affine=True, track_running_stats=True)\n",
       "        )\n",
       "      )\n",
       "      (idpath): Sequential()\n",
       "      (act): ReLU(inplace=True)\n",
       "    )\n",
       "  )\n",
       "  (5): Sequential(\n",
       "    (0): ResBlock(\n",
       "      (convpath): Sequential(\n",
       "        (0): ConvLayer(\n",
       "          (0): Conv2d(64, 128, kernel_size=(3, 3), stride=(2, 2), padding=(1, 1), bias=False)\n",
       "          (1): BatchNorm2d(128, eps=1e-05, momentum=0.1, affine=True, track_running_stats=True)\n",
       "          (2): ReLU()\n",
       "        )\n",
       "        (1): ConvLayer(\n",
       "          (0): Conv2d(128, 128, kernel_size=(3, 3), stride=(1, 1), padding=(1, 1), bias=False)\n",
       "          (1): BatchNorm2d(128, eps=1e-05, momentum=0.1, affine=True, track_running_stats=True)\n",
       "        )\n",
       "      )\n",
       "      (idpath): Sequential(\n",
       "        (0): AvgPool2d(kernel_size=2, stride=2, padding=0)\n",
       "        (1): ConvLayer(\n",
       "          (0): Conv2d(64, 128, kernel_size=(1, 1), stride=(1, 1), bias=False)\n",
       "          (1): BatchNorm2d(128, eps=1e-05, momentum=0.1, affine=True, track_running_stats=True)\n",
       "        )\n",
       "      )\n",
       "      (act): ReLU(inplace=True)\n",
       "    )\n",
       "    (1): ResBlock(\n",
       "      (convpath): Sequential(\n",
       "        (0): ConvLayer(\n",
       "          (0): Conv2d(128, 128, kernel_size=(3, 3), stride=(1, 1), padding=(1, 1), bias=False)\n",
       "          (1): BatchNorm2d(128, eps=1e-05, momentum=0.1, affine=True, track_running_stats=True)\n",
       "          (2): ReLU()\n",
       "        )\n",
       "        (1): ConvLayer(\n",
       "          (0): Conv2d(128, 128, kernel_size=(3, 3), stride=(1, 1), padding=(1, 1), bias=False)\n",
       "          (1): BatchNorm2d(128, eps=1e-05, momentum=0.1, affine=True, track_running_stats=True)\n",
       "        )\n",
       "      )\n",
       "      (idpath): Sequential()\n",
       "      (act): ReLU(inplace=True)\n",
       "    )\n",
       "  )\n",
       "  (6): Sequential(\n",
       "    (0): ResBlock(\n",
       "      (convpath): Sequential(\n",
       "        (0): ConvLayer(\n",
       "          (0): Conv2d(128, 256, kernel_size=(3, 3), stride=(2, 2), padding=(1, 1), bias=False)\n",
       "          (1): BatchNorm2d(256, eps=1e-05, momentum=0.1, affine=True, track_running_stats=True)\n",
       "          (2): ReLU()\n",
       "        )\n",
       "        (1): ConvLayer(\n",
       "          (0): Conv2d(256, 256, kernel_size=(3, 3), stride=(1, 1), padding=(1, 1), bias=False)\n",
       "          (1): BatchNorm2d(256, eps=1e-05, momentum=0.1, affine=True, track_running_stats=True)\n",
       "        )\n",
       "      )\n",
       "      (idpath): Sequential(\n",
       "        (0): AvgPool2d(kernel_size=2, stride=2, padding=0)\n",
       "        (1): ConvLayer(\n",
       "          (0): Conv2d(128, 256, kernel_size=(1, 1), stride=(1, 1), bias=False)\n",
       "          (1): BatchNorm2d(256, eps=1e-05, momentum=0.1, affine=True, track_running_stats=True)\n",
       "        )\n",
       "      )\n",
       "      (act): ReLU(inplace=True)\n",
       "    )\n",
       "    (1): ResBlock(\n",
       "      (convpath): Sequential(\n",
       "        (0): ConvLayer(\n",
       "          (0): Conv2d(256, 256, kernel_size=(3, 3), stride=(1, 1), padding=(1, 1), bias=False)\n",
       "          (1): BatchNorm2d(256, eps=1e-05, momentum=0.1, affine=True, track_running_stats=True)\n",
       "          (2): ReLU()\n",
       "        )\n",
       "        (1): ConvLayer(\n",
       "          (0): Conv2d(256, 256, kernel_size=(3, 3), stride=(1, 1), padding=(1, 1), bias=False)\n",
       "          (1): BatchNorm2d(256, eps=1e-05, momentum=0.1, affine=True, track_running_stats=True)\n",
       "        )\n",
       "      )\n",
       "      (idpath): Sequential()\n",
       "      (act): ReLU(inplace=True)\n",
       "    )\n",
       "  )\n",
       "  (7): Sequential(\n",
       "    (0): ResBlock(\n",
       "      (convpath): Sequential(\n",
       "        (0): ConvLayer(\n",
       "          (0): Conv2d(256, 512, kernel_size=(3, 3), stride=(2, 2), padding=(1, 1), bias=False)\n",
       "          (1): BatchNorm2d(512, eps=1e-05, momentum=0.1, affine=True, track_running_stats=True)\n",
       "          (2): ReLU()\n",
       "        )\n",
       "        (1): ConvLayer(\n",
       "          (0): Conv2d(512, 512, kernel_size=(3, 3), stride=(1, 1), padding=(1, 1), bias=False)\n",
       "          (1): BatchNorm2d(512, eps=1e-05, momentum=0.1, affine=True, track_running_stats=True)\n",
       "        )\n",
       "      )\n",
       "      (idpath): Sequential(\n",
       "        (0): AvgPool2d(kernel_size=2, stride=2, padding=0)\n",
       "        (1): ConvLayer(\n",
       "          (0): Conv2d(256, 512, kernel_size=(1, 1), stride=(1, 1), bias=False)\n",
       "          (1): BatchNorm2d(512, eps=1e-05, momentum=0.1, affine=True, track_running_stats=True)\n",
       "        )\n",
       "      )\n",
       "      (act): ReLU(inplace=True)\n",
       "    )\n",
       "    (1): ResBlock(\n",
       "      (convpath): Sequential(\n",
       "        (0): ConvLayer(\n",
       "          (0): Conv2d(512, 512, kernel_size=(3, 3), stride=(1, 1), padding=(1, 1), bias=False)\n",
       "          (1): BatchNorm2d(512, eps=1e-05, momentum=0.1, affine=True, track_running_stats=True)\n",
       "          (2): ReLU()\n",
       "        )\n",
       "        (1): ConvLayer(\n",
       "          (0): Conv2d(512, 512, kernel_size=(3, 3), stride=(1, 1), padding=(1, 1), bias=False)\n",
       "          (1): BatchNorm2d(512, eps=1e-05, momentum=0.1, affine=True, track_running_stats=True)\n",
       "        )\n",
       "      )\n",
       "      (idpath): Sequential()\n",
       "      (act): ReLU(inplace=True)\n",
       "    )\n",
       "  )\n",
       "  (8): AdaptiveAvgPool2d(output_size=1)\n",
       "  (9): Flatten(full=False)\n",
       "  (10): Dropout(p=0.0, inplace=False)\n",
       "  (11): Linear(in_features=512, out_features=1000, bias=True)\n",
       ")"
      ]
     },
     "execution_count": 7,
     "metadata": {},
     "output_type": "execute_result"
    }
   ],
   "source": [
    "learn.model"
   ]
  },
  {
   "cell_type": "code",
   "execution_count": 7,
   "metadata": {},
   "outputs": [
    {
     "ename": "RuntimeError",
     "evalue": "Error(s) in loading state_dict for Sequential:\n\tMissing key(s) in state_dict: \"0.0.0.weight\", \"0.0.1.weight\", \"0.0.1.bias\", \"0.0.1.running_mean\", \"0.0.1.running_var\", \"0.1.0.weight\", \"0.1.1.weight\", \"0.1.1.bias\", \"0.1.1.running_mean\", \"0.1.1.running_var\", \"0.2.0.weight\", \"0.2.1.weight\", \"0.2.1.bias\", \"0.2.1.running_mean\", \"0.2.1.running_var\", \"0.4.0.convpath.0.0.weight\", \"0.4.0.convpath.0.1.weight\", \"0.4.0.convpath.0.1.bias\", \"0.4.0.convpath.0.1.running_mean\", \"0.4.0.convpath.0.1.running_var\", \"0.4.0.convpath.1.0.weight\", \"0.4.0.convpath.1.1.weight\", \"0.4.0.convpath.1.1.bias\", \"0.4.0.convpath.1.1.running_mean\", \"0.4.0.convpath.1.1.running_var\", \"0.4.1.convpath.0.0.weight\", \"0.4.1.convpath.0.1.weight\", \"0.4.1.convpath.0.1.bias\", \"0.4.1.convpath.0.1.running_mean\", \"0.4.1.convpath.0.1.running_var\", \"0.4.1.convpath.1.0.weight\", \"0.4.1.convpath.1.1.weight\", \"0.4.1.convpath.1.1.bias\", \"0.4.1.convpath.1.1.running_mean\", \"0.4.1.convpath.1.1.running_var\", \"0.5.0.convpath.0.0.weight\", \"0.5.0.convpath.0.1.weight\", \"0.5.0.convpath.0.1.bias\", \"0.5.0.convpath.0.1.running_mean\", \"0.5.0.convpath.0.1.running_var\", \"0.5.0.convpath.1.0.weight\", \"0.5.0.convpath.1.1.weight\", \"0.5.0.convpath.1.1.bias\", \"0.5.0.convpath.1.1.running_mean\", \"0.5.0.convpath.1.1.running_var\", \"0.5.0.idpath.1.0.weight\", \"0.5.0.idpath.1.1.weight\", \"0.5.0.idpath.1.1.bias\", \"0.5.0.idpath.1.1.running_mean\", \"0.5.0.idpath.1.1.running_var\", \"0.5.1.convpath.0.0.weight\", \"0.5.1.convpath.0.1.weight\", \"0.5.1.convpath.0.1.bias\", \"0.5.1.convpath.0.1.running_mean\", \"0.5.1.convpath.0.1.running_var\", \"0.5.1.convpath.1.0.weight\", \"0.5.1.convpath.1.1.weight\", \"0.5.1.convpath.1.1.bias\", \"0.5.1.convpath.1.1.running_mean\", \"0.5.1.convpath.1.1.running_var\", \"0.6.0.convpath.0.0.weight\", \"0.6.0.convpath.0.1.weight\", \"0.6.0.convpath.0.1.bias\", \"0.6.0.convpath.0.1.running_mean\", \"0.6.0.convpath.0.1.running_var\", \"0.6.0.convpath.1.0.weight\", \"0.6.0.convpath.1.1.weight\", \"0.6.0.convpath.1.1.bias\", \"0.6.0.convpath.1.1.running_mean\", \"0.6.0.convpath.1.1.running_var\", \"0.6.0.idpath.1.0.weight\", \"0.6.0.idpath.1.1.weight\", \"0.6.0.idpath.1.1.bias\", \"0.6.0.idpath.1.1.running_mean\", \"0.6.0.idpath.1.1.running_var\", \"0.6.1.convpath.0.0.weight\", \"0.6.1.convpath.0.1.weight\", \"0.6.1.convpath.0.1.bias\", \"0.6.1.convpath.0.1.running_mean\", \"0.6.1.convpath.0.1.running_var\", \"0.6.1.convpath.1.0.weight\", \"0.6.1.convpath.1.1.weight\", \"0.6.1.convpath.1.1.bias\", \"0.6.1.convpath.1.1.running_mean\", \"0.6.1.convpath.1.1.running_var\", \"0.7.0.convpath.0.0.weight\", \"0.7.0.convpath.0.1.weight\", \"0.7.0.convpath.0.1.bias\", \"0.7.0.convpath.0.1.running_mean\", \"0.7.0.convpath.0.1.running_var\", \"0.7.0.convpath.1.0.weight\", \"0.7.0.convpath.1.1.weight\", \"0.7.0.convpath.1.1.bias\", \"0.7.0.convpath.1.1.running_mean\", \"0.7.0.convpath.1.1.running_var\", \"0.7.0.idpath.1.0.weight\", \"0.7.0.idpath.1.1.weight\", \"0.7.0.idpath.1.1.bias\", \"0.7.0.idpath.1.1.running_mean\", \"0.7.0.idpath.1.1.running_var\", \"0.7.1.convpath.0.0.weight\", \"0.7.1.convpath.0.1.weight\", \"0.7.1.convpath.0.1.bias\", \"0.7.1.convpath.0.1.running_mean\", \"0.7.1.convpath.0.1.running_var\", \"0.7.1.convpath.1.0.weight\", \"0.7.1.convpath.1.1.weight\", \"0.7.1.convpath.1.1.bias\", \"0.7.1.convpath.1.1.running_mean\", \"0.7.1.convpath.1.1.running_var\", \"1.2.weight\", \"1.2.bias\", \"1.2.running_mean\", \"1.2.running_var\", \"1.3.weight\". \n\tUnexpected key(s) in state_dict: \"2.0.weight\", \"2.1.weight\", \"2.1.bias\", \"2.1.running_mean\", \"2.1.running_var\", \"2.1.num_batches_tracked\", \"4.0.convpath.0.0.weight\", \"4.0.convpath.0.1.weight\", \"4.0.convpath.0.1.bias\", \"4.0.convpath.0.1.running_mean\", \"4.0.convpath.0.1.running_var\", \"4.0.convpath.0.1.num_batches_tracked\", \"4.0.convpath.1.0.weight\", \"4.0.convpath.1.1.weight\", \"4.0.convpath.1.1.bias\", \"4.0.convpath.1.1.running_mean\", \"4.0.convpath.1.1.running_var\", \"4.0.convpath.1.1.num_batches_tracked\", \"4.1.convpath.0.0.weight\", \"4.1.convpath.0.1.weight\", \"4.1.convpath.0.1.bias\", \"4.1.convpath.0.1.running_mean\", \"4.1.convpath.0.1.running_var\", \"4.1.convpath.0.1.num_batches_tracked\", \"4.1.convpath.1.0.weight\", \"4.1.convpath.1.1.weight\", \"4.1.convpath.1.1.bias\", \"4.1.convpath.1.1.running_mean\", \"4.1.convpath.1.1.running_var\", \"4.1.convpath.1.1.num_batches_tracked\", \"5.0.convpath.0.0.weight\", \"5.0.convpath.0.1.weight\", \"5.0.convpath.0.1.bias\", \"5.0.convpath.0.1.running_mean\", \"5.0.convpath.0.1.running_var\", \"5.0.convpath.0.1.num_batches_tracked\", \"5.0.convpath.1.0.weight\", \"5.0.convpath.1.1.weight\", \"5.0.convpath.1.1.bias\", \"5.0.convpath.1.1.running_mean\", \"5.0.convpath.1.1.running_var\", \"5.0.convpath.1.1.num_batches_tracked\", \"5.0.idpath.1.0.weight\", \"5.0.idpath.1.1.weight\", \"5.0.idpath.1.1.bias\", \"5.0.idpath.1.1.running_mean\", \"5.0.idpath.1.1.running_var\", \"5.0.idpath.1.1.num_batches_tracked\", \"5.1.convpath.0.0.weight\", \"5.1.convpath.0.1.weight\", \"5.1.convpath.0.1.bias\", \"5.1.convpath.0.1.running_mean\", \"5.1.convpath.0.1.running_var\", \"5.1.convpath.0.1.num_batches_tracked\", \"5.1.convpath.1.0.weight\", \"5.1.convpath.1.1.weight\", \"5.1.convpath.1.1.bias\", \"5.1.convpath.1.1.running_mean\", \"5.1.convpath.1.1.running_var\", \"5.1.convpath.1.1.num_batches_tracked\", \"6.0.convpath.0.0.weight\", \"6.0.convpath.0.1.weight\", \"6.0.convpath.0.1.bias\", \"6.0.convpath.0.1.running_mean\", \"6.0.convpath.0.1.running_var\", \"6.0.convpath.0.1.num_batches_tracked\", \"6.0.convpath.1.0.weight\", \"6.0.convpath.1.1.weight\", \"6.0.convpath.1.1.bias\", \"6.0.convpath.1.1.running_mean\", \"6.0.convpath.1.1.running_var\", \"6.0.convpath.1.1.num_batches_tracked\", \"6.0.idpath.1.0.weight\", \"6.0.idpath.1.1.weight\", \"6.0.idpath.1.1.bias\", \"6.0.idpath.1.1.running_mean\", \"6.0.idpath.1.1.running_var\", \"6.0.idpath.1.1.num_batches_tracked\", \"6.1.convpath.0.0.weight\", \"6.1.convpath.0.1.weight\", \"6.1.convpath.0.1.bias\", \"6.1.convpath.0.1.running_mean\", \"6.1.convpath.0.1.running_var\", \"6.1.convpath.0.1.num_batches_tracked\", \"6.1.convpath.1.0.weight\", \"6.1.convpath.1.1.weight\", \"6.1.convpath.1.1.bias\", \"6.1.convpath.1.1.running_mean\", \"6.1.convpath.1.1.running_var\", \"6.1.convpath.1.1.num_batches_tracked\", \"7.0.convpath.0.0.weight\", \"7.0.convpath.0.1.weight\", \"7.0.convpath.0.1.bias\", \"7.0.convpath.0.1.running_mean\", \"7.0.convpath.0.1.running_var\", \"7.0.convpath.0.1.num_batches_tracked\", \"7.0.convpath.1.0.weight\", \"7.0.convpath.1.1.weight\", \"7.0.convpath.1.1.bias\", \"7.0.convpath.1.1.running_mean\", \"7.0.convpath.1.1.running_var\", \"7.0.convpath.1.1.num_batches_tracked\", \"7.0.idpath.1.0.weight\", \"7.0.idpath.1.1.weight\", \"7.0.idpath.1.1.bias\", \"7.0.idpath.1.1.running_mean\", \"7.0.idpath.1.1.running_var\", \"7.0.idpath.1.1.num_batches_tracked\", \"7.1.convpath.0.0.weight\", \"7.1.convpath.0.1.weight\", \"7.1.convpath.0.1.bias\", \"7.1.convpath.0.1.running_mean\", \"7.1.convpath.0.1.running_var\", \"7.1.convpath.0.1.num_batches_tracked\", \"7.1.convpath.1.0.weight\", \"7.1.convpath.1.1.weight\", \"7.1.convpath.1.1.bias\", \"7.1.convpath.1.1.running_mean\", \"7.1.convpath.1.1.running_var\", \"7.1.convpath.1.1.num_batches_tracked\", \"11.weight\", \"11.bias\", \"0.0.weight\", \"0.1.weight\", \"0.1.bias\", \"0.1.running_mean\", \"0.1.running_var\", \"0.1.num_batches_tracked\", \"1.0.weight\", \"1.1.weight\", \"1.1.bias\", \"1.1.running_mean\", \"1.1.running_var\", \"1.1.num_batches_tracked\". ",
     "output_type": "error",
     "traceback": [
      "\u001b[0;31m---------------------------------------------------------------------------\u001b[0m",
      "\u001b[0;31mRuntimeError\u001b[0m                              Traceback (most recent call last)",
      "\u001b[0;32m<ipython-input-7-fd1e0cba01d2>\u001b[0m in \u001b[0;36m<module>\u001b[0;34m\u001b[0m\n\u001b[0;32m----> 1\u001b[0;31m \u001b[0mlearn\u001b[0m\u001b[0;34m.\u001b[0m\u001b[0mload\u001b[0m\u001b[0;34m(\u001b[0m\u001b[0;34mf'runs/contrastive_loss-1'\u001b[0m\u001b[0;34m)\u001b[0m\u001b[0;34m\u001b[0m\u001b[0;34m\u001b[0m\u001b[0m\n\u001b[0m",
      "\u001b[0;32m~/fastai2/fastai2/learner.py\u001b[0m in \u001b[0;36mload\u001b[0;34m(self, file, with_opt, device, strict)\u001b[0m\n\u001b[1;32m    372\u001b[0m         \u001b[0mdistrib_barrier\u001b[0m\u001b[0;34m(\u001b[0m\u001b[0;34m)\u001b[0m\u001b[0;34m\u001b[0m\u001b[0;34m\u001b[0m\u001b[0m\n\u001b[1;32m    373\u001b[0m         \u001b[0mfile\u001b[0m \u001b[0;34m=\u001b[0m \u001b[0mjoin_path_file\u001b[0m\u001b[0;34m(\u001b[0m\u001b[0mfile\u001b[0m\u001b[0;34m,\u001b[0m \u001b[0mself\u001b[0m\u001b[0;34m.\u001b[0m\u001b[0mpath\u001b[0m\u001b[0;34m/\u001b[0m\u001b[0mself\u001b[0m\u001b[0;34m.\u001b[0m\u001b[0mmodel_dir\u001b[0m\u001b[0;34m,\u001b[0m \u001b[0mext\u001b[0m\u001b[0;34m=\u001b[0m\u001b[0;34m'.pth'\u001b[0m\u001b[0;34m)\u001b[0m\u001b[0;34m\u001b[0m\u001b[0;34m\u001b[0m\u001b[0m\n\u001b[0;32m--> 374\u001b[0;31m         \u001b[0mload_model\u001b[0m\u001b[0;34m(\u001b[0m\u001b[0mfile\u001b[0m\u001b[0;34m,\u001b[0m \u001b[0mself\u001b[0m\u001b[0;34m.\u001b[0m\u001b[0mmodel\u001b[0m\u001b[0;34m,\u001b[0m \u001b[0mself\u001b[0m\u001b[0;34m.\u001b[0m\u001b[0mopt\u001b[0m\u001b[0;34m,\u001b[0m \u001b[0mwith_opt\u001b[0m\u001b[0;34m=\u001b[0m\u001b[0mwith_opt\u001b[0m\u001b[0;34m,\u001b[0m \u001b[0mdevice\u001b[0m\u001b[0;34m=\u001b[0m\u001b[0mdevice\u001b[0m\u001b[0;34m,\u001b[0m \u001b[0mstrict\u001b[0m\u001b[0;34m=\u001b[0m\u001b[0mstrict\u001b[0m\u001b[0;34m)\u001b[0m\u001b[0;34m\u001b[0m\u001b[0;34m\u001b[0m\u001b[0m\n\u001b[0m\u001b[1;32m    375\u001b[0m         \u001b[0;32mreturn\u001b[0m \u001b[0mself\u001b[0m\u001b[0;34m\u001b[0m\u001b[0;34m\u001b[0m\u001b[0m\n\u001b[1;32m    376\u001b[0m \u001b[0;34m\u001b[0m\u001b[0m\n",
      "\u001b[0;32m~/fastai2/fastai2/learner.py\u001b[0m in \u001b[0;36mload_model\u001b[0;34m(file, model, opt, with_opt, device, strict)\u001b[0m\n\u001b[1;32m    166\u001b[0m     \u001b[0mhasopt\u001b[0m \u001b[0;34m=\u001b[0m \u001b[0mset\u001b[0m\u001b[0;34m(\u001b[0m\u001b[0mstate\u001b[0m\u001b[0;34m)\u001b[0m\u001b[0;34m==\u001b[0m\u001b[0;34m{\u001b[0m\u001b[0;34m'model'\u001b[0m\u001b[0;34m,\u001b[0m \u001b[0;34m'opt'\u001b[0m\u001b[0;34m}\u001b[0m\u001b[0;34m\u001b[0m\u001b[0;34m\u001b[0m\u001b[0m\n\u001b[1;32m    167\u001b[0m     \u001b[0mmodel_state\u001b[0m \u001b[0;34m=\u001b[0m \u001b[0mstate\u001b[0m\u001b[0;34m[\u001b[0m\u001b[0;34m'model'\u001b[0m\u001b[0;34m]\u001b[0m \u001b[0;32mif\u001b[0m \u001b[0mhasopt\u001b[0m \u001b[0;32melse\u001b[0m \u001b[0mstate\u001b[0m\u001b[0;34m\u001b[0m\u001b[0;34m\u001b[0m\u001b[0m\n\u001b[0;32m--> 168\u001b[0;31m     \u001b[0mget_model\u001b[0m\u001b[0;34m(\u001b[0m\u001b[0mmodel\u001b[0m\u001b[0;34m)\u001b[0m\u001b[0;34m.\u001b[0m\u001b[0mload_state_dict\u001b[0m\u001b[0;34m(\u001b[0m\u001b[0mmodel_state\u001b[0m\u001b[0;34m,\u001b[0m \u001b[0mstrict\u001b[0m\u001b[0;34m=\u001b[0m\u001b[0mstrict\u001b[0m\u001b[0;34m)\u001b[0m\u001b[0;34m\u001b[0m\u001b[0;34m\u001b[0m\u001b[0m\n\u001b[0m\u001b[1;32m    169\u001b[0m     \u001b[0;32mif\u001b[0m \u001b[0mhasopt\u001b[0m \u001b[0;32mand\u001b[0m \u001b[0mifnone\u001b[0m\u001b[0;34m(\u001b[0m\u001b[0mwith_opt\u001b[0m\u001b[0;34m,\u001b[0m\u001b[0;32mTrue\u001b[0m\u001b[0;34m)\u001b[0m\u001b[0;34m:\u001b[0m\u001b[0;34m\u001b[0m\u001b[0;34m\u001b[0m\u001b[0m\n\u001b[1;32m    170\u001b[0m         \u001b[0;32mtry\u001b[0m\u001b[0;34m:\u001b[0m \u001b[0mopt\u001b[0m\u001b[0;34m.\u001b[0m\u001b[0mload_state_dict\u001b[0m\u001b[0;34m(\u001b[0m\u001b[0mstate\u001b[0m\u001b[0;34m[\u001b[0m\u001b[0;34m'opt'\u001b[0m\u001b[0;34m]\u001b[0m\u001b[0;34m)\u001b[0m\u001b[0;34m\u001b[0m\u001b[0;34m\u001b[0m\u001b[0m\n",
      "\u001b[0;32m~/anaconda3/envs/rsna_retro/lib/python3.7/site-packages/torch/nn/modules/module.py\u001b[0m in \u001b[0;36mload_state_dict\u001b[0;34m(self, state_dict, strict)\u001b[0m\n\u001b[1;32m    837\u001b[0m         \u001b[0;32mif\u001b[0m \u001b[0mlen\u001b[0m\u001b[0;34m(\u001b[0m\u001b[0merror_msgs\u001b[0m\u001b[0;34m)\u001b[0m \u001b[0;34m>\u001b[0m \u001b[0;36m0\u001b[0m\u001b[0;34m:\u001b[0m\u001b[0;34m\u001b[0m\u001b[0;34m\u001b[0m\u001b[0m\n\u001b[1;32m    838\u001b[0m             raise RuntimeError('Error(s) in loading state_dict for {}:\\n\\t{}'.format(\n\u001b[0;32m--> 839\u001b[0;31m                                self.__class__.__name__, \"\\n\\t\".join(error_msgs)))\n\u001b[0m\u001b[1;32m    840\u001b[0m         \u001b[0;32mreturn\u001b[0m \u001b[0m_IncompatibleKeys\u001b[0m\u001b[0;34m(\u001b[0m\u001b[0mmissing_keys\u001b[0m\u001b[0;34m,\u001b[0m \u001b[0munexpected_keys\u001b[0m\u001b[0;34m)\u001b[0m\u001b[0;34m\u001b[0m\u001b[0;34m\u001b[0m\u001b[0m\n\u001b[1;32m    841\u001b[0m \u001b[0;34m\u001b[0m\u001b[0m\n",
      "\u001b[0;31mRuntimeError\u001b[0m: Error(s) in loading state_dict for Sequential:\n\tMissing key(s) in state_dict: \"0.0.0.weight\", \"0.0.1.weight\", \"0.0.1.bias\", \"0.0.1.running_mean\", \"0.0.1.running_var\", \"0.1.0.weight\", \"0.1.1.weight\", \"0.1.1.bias\", \"0.1.1.running_mean\", \"0.1.1.running_var\", \"0.2.0.weight\", \"0.2.1.weight\", \"0.2.1.bias\", \"0.2.1.running_mean\", \"0.2.1.running_var\", \"0.4.0.convpath.0.0.weight\", \"0.4.0.convpath.0.1.weight\", \"0.4.0.convpath.0.1.bias\", \"0.4.0.convpath.0.1.running_mean\", \"0.4.0.convpath.0.1.running_var\", \"0.4.0.convpath.1.0.weight\", \"0.4.0.convpath.1.1.weight\", \"0.4.0.convpath.1.1.bias\", \"0.4.0.convpath.1.1.running_mean\", \"0.4.0.convpath.1.1.running_var\", \"0.4.1.convpath.0.0.weight\", \"0.4.1.convpath.0.1.weight\", \"0.4.1.convpath.0.1.bias\", \"0.4.1.convpath.0.1.running_mean\", \"0.4.1.convpath.0.1.running_var\", \"0.4.1.convpath.1.0.weight\", \"0.4.1.convpath.1.1.weight\", \"0.4.1.convpath.1.1.bias\", \"0.4.1.convpath.1.1.running_mean\", \"0.4.1.convpath.1.1.running_var\", \"0.5.0.convpath.0.0.weight\", \"0.5.0.convpath.0.1.weight\", \"0.5.0.convpath.0.1.bias\", \"0.5.0.convpath.0.1.running_mean\", \"0.5.0.convpath.0.1.running_var\", \"0.5.0.convpath.1.0.weight\", \"0.5.0.convpath.1.1.weight\", \"0.5.0.convpath.1.1.bias\", \"0.5.0.convpath.1.1.running_mean\", \"0.5.0.convpath.1.1.running_var\", \"0.5.0.idpath.1.0.weight\", \"0.5.0.idpath.1.1.weight\", \"0.5.0.idpath.1.1.bias\", \"0.5.0.idpath.1.1.running_mean\", \"0.5.0.idpath.1.1.running_var\", \"0.5.1.convpath.0.0.weight\", \"0.5.1.convpath.0.1.weight\", \"0.5.1.convpath.0.1.bias\", \"0.5.1.convpath.0.1.running_mean\", \"0.5.1.convpath.0.1.running_var\", \"0.5.1.convpath.1.0.weight\", \"0.5.1.convpath.1.1.weight\", \"0.5.1.convpath.1.1.bias\", \"0.5.1.convpath.1.1.running_mean\", \"0.5.1.convpath.1.1.running_var\", \"0.6.0.convpath.0.0.weight\", \"0.6.0.convpath.0.1.weight\", \"0.6.0.convpath.0.1.bias\", \"0.6.0.convpath.0.1.running_mean\", \"0.6.0.convpath.0.1.running_var\", \"0.6.0.convpath.1.0.weight\", \"0.6.0.convpath.1.1.weight\", \"0.6.0.convpath.1.1.bias\", \"0.6.0.convpath.1.1.running_mean\", \"0.6.0.convpath.1.1.running_var\", \"0.6.0.idpath.1.0.weight\", \"0.6.0.idpath.1.1.weight\", \"0.6.0.idpath.1.1.bias\", \"0.6.0.idpath.1.1.running_mean\", \"0.6.0.idpath.1.1.running_var\", \"0.6.1.convpath.0.0.weight\", \"0.6.1.convpath.0.1.weight\", \"0.6.1.convpath.0.1.bias\", \"0.6.1.convpath.0.1.running_mean\", \"0.6.1.convpath.0.1.running_var\", \"0.6.1.convpath.1.0.weight\", \"0.6.1.convpath.1.1.weight\", \"0.6.1.convpath.1.1.bias\", \"0.6.1.convpath.1.1.running_mean\", \"0.6.1.convpath.1.1.running_var\", \"0.7.0.convpath.0.0.weight\", \"0.7.0.convpath.0.1.weight\", \"0.7.0.convpath.0.1.bias\", \"0.7.0.convpath.0.1.running_mean\", \"0.7.0.convpath.0.1.running_var\", \"0.7.0.convpath.1.0.weight\", \"0.7.0.convpath.1.1.weight\", \"0.7.0.convpath.1.1.bias\", \"0.7.0.convpath.1.1.running_mean\", \"0.7.0.convpath.1.1.running_var\", \"0.7.0.idpath.1.0.weight\", \"0.7.0.idpath.1.1.weight\", \"0.7.0.idpath.1.1.bias\", \"0.7.0.idpath.1.1.running_mean\", \"0.7.0.idpath.1.1.running_var\", \"0.7.1.convpath.0.0.weight\", \"0.7.1.convpath.0.1.weight\", \"0.7.1.convpath.0.1.bias\", \"0.7.1.convpath.0.1.running_mean\", \"0.7.1.convpath.0.1.running_var\", \"0.7.1.convpath.1.0.weight\", \"0.7.1.convpath.1.1.weight\", \"0.7.1.convpath.1.1.bias\", \"0.7.1.convpath.1.1.running_mean\", \"0.7.1.convpath.1.1.running_var\", \"1.2.weight\", \"1.2.bias\", \"1.2.running_mean\", \"1.2.running_var\", \"1.3.weight\". \n\tUnexpected key(s) in state_dict: \"2.0.weight\", \"2.1.weight\", \"2.1.bias\", \"2.1.running_mean\", \"2.1.running_var\", \"2.1.num_batches_tracked\", \"4.0.convpath.0.0.weight\", \"4.0.convpath.0.1.weight\", \"4.0.convpath.0.1.bias\", \"4.0.convpath.0.1.running_mean\", \"4.0.convpath.0.1.running_var\", \"4.0.convpath.0.1.num_batches_tracked\", \"4.0.convpath.1.0.weight\", \"4.0.convpath.1.1.weight\", \"4.0.convpath.1.1.bias\", \"4.0.convpath.1.1.running_mean\", \"4.0.convpath.1.1.running_var\", \"4.0.convpath.1.1.num_batches_tracked\", \"4.1.convpath.0.0.weight\", \"4.1.convpath.0.1.weight\", \"4.1.convpath.0.1.bias\", \"4.1.convpath.0.1.running_mean\", \"4.1.convpath.0.1.running_var\", \"4.1.convpath.0.1.num_batches_tracked\", \"4.1.convpath.1.0.weight\", \"4.1.convpath.1.1.weight\", \"4.1.convpath.1.1.bias\", \"4.1.convpath.1.1.running_mean\", \"4.1.convpath.1.1.running_var\", \"4.1.convpath.1.1.num_batches_tracked\", \"5.0.convpath.0.0.weight\", \"5.0.convpath.0.1.weight\", \"5.0.convpath.0.1.bias\", \"5.0.convpath.0.1.running_mean\", \"5.0.convpath.0.1.running_var\", \"5.0.convpath.0.1.num_batches_tracked\", \"5.0.convpath.1.0.weight\", \"5.0.convpath.1.1.weight\", \"5.0.convpath.1.1.bias\", \"5.0.convpath.1.1.running_mean\", \"5.0.convpath.1.1.running_var\", \"5.0.convpath.1.1.num_batches_tracked\", \"5.0.idpath.1.0.weight\", \"5.0.idpath.1.1.weight\", \"5.0.idpath.1.1.bias\", \"5.0.idpath.1.1.running_mean\", \"5.0.idpath.1.1.running_var\", \"5.0.idpath.1.1.num_batches_tracked\", \"5.1.convpath.0.0.weight\", \"5.1.convpath.0.1.weight\", \"5.1.convpath.0.1.bias\", \"5.1.convpath.0.1.running_mean\", \"5.1.convpath.0.1.running_var\", \"5.1.convpath.0.1.num_batches_tracked\", \"5.1.convpath.1.0.weight\", \"5.1.convpath.1.1.weight\", \"5.1.convpath.1.1.bias\", \"5.1.convpath.1.1.running_mean\", \"5.1.convpath.1.1.running_var\", \"5.1.convpath.1.1.num_batches_tracked\", \"6.0.convpath.0.0.weight\", \"6.0.convpath.0.1.weight\", \"6.0.convpath.0.1.bias\", \"6.0.convpath.0.1.running_mean\", \"6.0.convpath.0.1.running_var\", \"6.0.convpath.0.1.num_batches_tracked\", \"6.0.convpath.1.0.weight\", \"6.0.convpath.1.1.weight\", \"6.0.convpath.1.1.bias\", \"6.0.convpath.1.1.running_mean\", \"6.0.convpath.1.1.running_var\", \"6.0.convpath.1.1.num_batches_tracked\", \"6.0.idpath.1.0.weight\", \"6.0.idpath.1.1.weight\", \"6.0.idpath.1.1.bias\", \"6.0.idpath.1.1.running_mean\", \"6.0.idpath.1.1.running_var\", \"6.0.idpath.1.1.num_batches_tracked\", \"6.1.convpath.0.0.weight\", \"6.1.convpath.0.1.weight\", \"6.1.convpath.0.1.bias\", \"6.1.convpath.0.1.running_mean\", \"6.1.convpath.0.1.running_var\", \"6.1.convpath.0.1.num_batches_tracked\", \"6.1.convpath.1.0.weight\", \"6.1.convpath.1.1.weight\", \"6.1.convpath.1.1.bias\", \"6.1.convpath.1.1.running_mean\", \"6.1.convpath.1.1.running_var\", \"6.1.convpath.1.1.num_batches_tracked\", \"7.0.convpath.0.0.weight\", \"7.0.convpath.0.1.weight\", \"7.0.convpath.0.1.bias\", \"7.0.convpath.0.1.running_mean\", \"7.0.convpath.0.1.running_var\", \"7.0.convpath.0.1.num_batches_tracked\", \"7.0.convpath.1.0.weight\", \"7.0.convpath.1.1.weight\", \"7.0.convpath.1.1.bias\", \"7.0.convpath.1.1.running_mean\", \"7.0.convpath.1.1.running_var\", \"7.0.convpath.1.1.num_batches_tracked\", \"7.0.idpath.1.0.weight\", \"7.0.idpath.1.1.weight\", \"7.0.idpath.1.1.bias\", \"7.0.idpath.1.1.running_mean\", \"7.0.idpath.1.1.running_var\", \"7.0.idpath.1.1.num_batches_tracked\", \"7.1.convpath.0.0.weight\", \"7.1.convpath.0.1.weight\", \"7.1.convpath.0.1.bias\", \"7.1.convpath.0.1.running_mean\", \"7.1.convpath.0.1.running_var\", \"7.1.convpath.0.1.num_batches_tracked\", \"7.1.convpath.1.0.weight\", \"7.1.convpath.1.1.weight\", \"7.1.convpath.1.1.bias\", \"7.1.convpath.1.1.running_mean\", \"7.1.convpath.1.1.running_var\", \"7.1.convpath.1.1.num_batches_tracked\", \"11.weight\", \"11.bias\", \"0.0.weight\", \"0.1.weight\", \"0.1.bias\", \"0.1.running_mean\", \"0.1.running_var\", \"0.1.num_batches_tracked\", \"1.0.weight\", \"1.1.weight\", \"1.1.bias\", \"1.1.running_mean\", \"1.1.running_var\", \"1.1.num_batches_tracked\". "
     ]
    }
   ],
   "source": [
    "learn.load(f'runs/contrastive_loss-1')"
   ]
  },
  {
   "cell_type": "markdown",
   "metadata": {},
   "source": [
    "## Training"
   ]
  },
  {
   "cell_type": "code",
   "execution_count": 8,
   "metadata": {},
   "outputs": [
    {
     "data": {
      "text/html": [
       "<table border=\"1\" class=\"dataframe\">\n",
       "  <thead>\n",
       "    <tr style=\"text-align: left;\">\n",
       "      <th>epoch</th>\n",
       "      <th>train_loss</th>\n",
       "      <th>valid_loss</th>\n",
       "      <th>accuracy_multi</th>\n",
       "      <th>accuracy_any</th>\n",
       "      <th>time</th>\n",
       "    </tr>\n",
       "  </thead>\n",
       "  <tbody>\n",
       "    <tr>\n",
       "      <td>0</td>\n",
       "      <td>0.082060</td>\n",
       "      <td>0.092171</td>\n",
       "      <td>0.972097</td>\n",
       "      <td>0.945203</td>\n",
       "      <td>15:18</td>\n",
       "    </tr>\n",
       "    <tr>\n",
       "      <td>1</td>\n",
       "      <td>0.074926</td>\n",
       "      <td>0.085914</td>\n",
       "      <td>0.973858</td>\n",
       "      <td>0.949596</td>\n",
       "      <td>14:59</td>\n",
       "    </tr>\n",
       "    <tr>\n",
       "      <td>2</td>\n",
       "      <td>0.075017</td>\n",
       "      <td>0.084680</td>\n",
       "      <td>0.973803</td>\n",
       "      <td>0.950118</td>\n",
       "      <td>15:00</td>\n",
       "    </tr>\n",
       "    <tr>\n",
       "      <td>3</td>\n",
       "      <td>0.073742</td>\n",
       "      <td>0.083839</td>\n",
       "      <td>0.974255</td>\n",
       "      <td>0.950423</td>\n",
       "      <td>15:02</td>\n",
       "    </tr>\n",
       "    <tr>\n",
       "      <td>4</td>\n",
       "      <td>0.070476</td>\n",
       "      <td>0.082491</td>\n",
       "      <td>0.974543</td>\n",
       "      <td>0.949927</td>\n",
       "      <td>14:57</td>\n",
       "    </tr>\n",
       "    <tr>\n",
       "      <td>5</td>\n",
       "      <td>0.070923</td>\n",
       "      <td>0.083294</td>\n",
       "      <td>0.975195</td>\n",
       "      <td>0.951085</td>\n",
       "      <td>14:59</td>\n",
       "    </tr>\n",
       "    <tr>\n",
       "      <td>6</td>\n",
       "      <td>0.067894</td>\n",
       "      <td>0.083940</td>\n",
       "      <td>0.975295</td>\n",
       "      <td>0.950767</td>\n",
       "      <td>14:57</td>\n",
       "    </tr>\n",
       "    <tr>\n",
       "      <td>7</td>\n",
       "      <td>0.064150</td>\n",
       "      <td>0.080383</td>\n",
       "      <td>0.975893</td>\n",
       "      <td>0.952257</td>\n",
       "      <td>14:59</td>\n",
       "    </tr>\n",
       "    <tr>\n",
       "      <td>8</td>\n",
       "      <td>0.062082</td>\n",
       "      <td>0.081085</td>\n",
       "      <td>0.975785</td>\n",
       "      <td>0.951913</td>\n",
       "      <td>15:05</td>\n",
       "    </tr>\n",
       "    <tr>\n",
       "      <td>9</td>\n",
       "      <td>0.061756</td>\n",
       "      <td>0.080385</td>\n",
       "      <td>0.975844</td>\n",
       "      <td>0.952511</td>\n",
       "      <td>15:14</td>\n",
       "    </tr>\n",
       "    <tr>\n",
       "      <td>10</td>\n",
       "      <td>0.057531</td>\n",
       "      <td>0.080839</td>\n",
       "      <td>0.976362</td>\n",
       "      <td>0.953441</td>\n",
       "      <td>15:12</td>\n",
       "    </tr>\n",
       "    <tr>\n",
       "      <td>11</td>\n",
       "      <td>0.055979</td>\n",
       "      <td>0.081127</td>\n",
       "      <td>0.976243</td>\n",
       "      <td>0.953237</td>\n",
       "      <td>15:06</td>\n",
       "    </tr>\n",
       "  </tbody>\n",
       "</table>"
      ],
      "text/plain": [
       "<IPython.core.display.HTML object>"
      ]
     },
     "metadata": {},
     "output_type": "display_data"
    }
   ],
   "source": [
    "do_fit(learn, 12, 4e-3)\n",
    "learn.save(f'runs/{name}-1')"
   ]
  },
  {
   "cell_type": "code",
   "execution_count": 9,
   "metadata": {},
   "outputs": [
    {
     "data": {
      "text/html": [
       "<table border=\"1\" class=\"dataframe\">\n",
       "  <thead>\n",
       "    <tr style=\"text-align: left;\">\n",
       "      <th>epoch</th>\n",
       "      <th>train_loss</th>\n",
       "      <th>valid_loss</th>\n",
       "      <th>accuracy_multi</th>\n",
       "      <th>accuracy_any</th>\n",
       "      <th>time</th>\n",
       "    </tr>\n",
       "  </thead>\n",
       "  <tbody>\n",
       "    <tr>\n",
       "      <td>0</td>\n",
       "      <td>0.067012</td>\n",
       "      <td>0.078129</td>\n",
       "      <td>0.976114</td>\n",
       "      <td>0.953797</td>\n",
       "      <td>37:16</td>\n",
       "    </tr>\n",
       "    <tr>\n",
       "      <td>1</td>\n",
       "      <td>0.061063</td>\n",
       "      <td>0.077846</td>\n",
       "      <td>0.976502</td>\n",
       "      <td>0.954523</td>\n",
       "      <td>36:51</td>\n",
       "    </tr>\n",
       "    <tr>\n",
       "      <td>2</td>\n",
       "      <td>0.057996</td>\n",
       "      <td>0.076232</td>\n",
       "      <td>0.976797</td>\n",
       "      <td>0.955236</td>\n",
       "      <td>37:00</td>\n",
       "    </tr>\n",
       "    <tr>\n",
       "      <td>3</td>\n",
       "      <td>0.055647</td>\n",
       "      <td>0.075874</td>\n",
       "      <td>0.976780</td>\n",
       "      <td>0.955350</td>\n",
       "      <td>36:42</td>\n",
       "    </tr>\n",
       "  </tbody>\n",
       "</table>"
      ],
      "text/plain": [
       "<IPython.core.display.HTML object>"
      ]
     },
     "metadata": {},
     "output_type": "display_data"
    }
   ],
   "source": [
    "learn.dls = get_data(256, 384, splits=Meta.splits_stg1, img_dir=path_jpg)\n",
    "do_fit(learn, 4, 4e-4)\n",
    "learn.save(f'runs/{name}-3')"
   ]
  },
  {
   "cell_type": "markdown",
   "metadata": {},
   "source": [
    "## Submission"
   ]
  },
  {
   "cell_type": "code",
   "execution_count": 7,
   "metadata": {},
   "outputs": [],
   "source": [
    "learn.load(f'runs/{name}-3')\n",
    "sub_fn = f'subm/{name}-3'"
   ]
  },
  {
   "cell_type": "code",
   "execution_count": 8,
   "metadata": {},
   "outputs": [],
   "source": [
    "learn.dls = get_test_data(Meta.df_tst, bs=512, sz=384)"
   ]
  },
  {
   "cell_type": "code",
   "execution_count": 9,
   "metadata": {},
   "outputs": [
    {
     "data": {
      "text/html": [],
      "text/plain": [
       "<IPython.core.display.HTML object>"
      ]
     },
     "metadata": {},
     "output_type": "display_data"
    }
   ],
   "source": [
    "preds,targs = learn.get_preds()"
   ]
  },
  {
   "cell_type": "code",
   "execution_count": 16,
   "metadata": {},
   "outputs": [
    {
     "data": {
      "text/plain": [
       "torch.return_types.max(\n",
       "values=tensor([1.0000, 0.9999, 1.0000, 1.0000, 1.0000, 0.9999]),\n",
       "indices=tensor([ 8850, 99432, 49676, 18625, 45240, 71670]))"
      ]
     },
     "execution_count": 16,
     "metadata": {},
     "output_type": "execute_result"
    }
   ],
   "source": [
    "preds.max(axis=0)"
   ]
  },
  {
   "cell_type": "code",
   "execution_count": 10,
   "metadata": {},
   "outputs": [],
   "source": [
    "pred_csv = submission(Meta.df_tst, preds, fn=sub_fn)"
   ]
  },
  {
   "cell_type": "code",
   "execution_count": 11,
   "metadata": {},
   "outputs": [
    {
     "data": {
      "text/html": [
       "<a href='subm/baseline_full_stg1_xresnet18-3.csv' target='_blank'>subm/baseline_full_stg1_xresnet18-3.csv</a><br>"
      ],
      "text/plain": [
       "/home/ashaw/kaggle/rsna_retro/subm/baseline_full_stg1_xresnet18-3.csv"
      ]
     },
     "execution_count": 11,
     "metadata": {},
     "output_type": "execute_result"
    }
   ],
   "source": [
    "FileLink(f'{sub_fn}.csv')"
   ]
  },
  {
   "cell_type": "code",
   "execution_count": 12,
   "metadata": {},
   "outputs": [
    {
     "name": "stderr",
     "output_type": "stream",
     "text": [
      "100%|██████████| 26.0M/26.0M [00:02<00:00, 9.76MB/s]\n"
     ]
    },
    {
     "data": {
      "text/plain": [
       "Successfully submitted to RSNA Intracranial Hemorrhage Detection"
      ]
     },
     "execution_count": 12,
     "metadata": {},
     "output_type": "execute_result"
    }
   ],
   "source": [
    "api.competition_submit(f'{sub_fn}.csv', 'Training on Stage 1 (384), Valid on Stage 2. - 0.081172', 'rsna-intracranial-hemorrhage-detection')"
   ]
  },
  {
   "cell_type": "code",
   "execution_count": 14,
   "metadata": {},
   "outputs": [
    {
     "data": {
      "text/plain": [
       "{'ref': 14276411,\n",
       " 'totalBytes': 27277209,\n",
       " 'date': '2020-01-23T19:25:44.513Z',\n",
       " 'description': 'Training on Stage 1 (384), Valid on Stage 2. - 0.081172',\n",
       " 'errorDescription': None,\n",
       " 'fileName': 'baseline_full_stg1_xresnet18-3.csv',\n",
       " 'publicScore': '0.53894',\n",
       " 'privateScore': '0.06565',\n",
       " 'status': 'complete',\n",
       " 'submittedBy': 'Andrew Shaw',\n",
       " 'submittedByRef': 'bearpelican',\n",
       " 'teamName': 'Andrew Shaw',\n",
       " 'type': 'standard',\n",
       " 'url': 'https://www.kaggle.com/submissions/14276411/14276411.raw'}"
      ]
     },
     "execution_count": 14,
     "metadata": {},
     "output_type": "execute_result"
    }
   ],
   "source": [
    "api.competitions_submissions_list('rsna-intracranial-hemorrhage-detection')[0]"
   ]
  },
  {
   "cell_type": "code",
   "execution_count": 25,
   "metadata": {},
   "outputs": [
    {
     "data": {
      "text/plain": [
       "{'ref': 14258280,\n",
       " 'totalBytes': 27277209,\n",
       " 'date': '2020-01-22T06:54:06.2Z',\n",
       " 'description': 'Training on Stage 1 (384), Valid on Stage 2. - 0.084161',\n",
       " 'errorDescription': None,\n",
       " 'fileName': 'baseline_full_stg1-3.csv',\n",
       " 'publicScore': '0.61200',\n",
       " 'privateScore': '0.06511',\n",
       " 'status': 'complete',\n",
       " 'submittedBy': 'Andrew Shaw',\n",
       " 'submittedByRef': 'bearpelican',\n",
       " 'teamName': 'Andrew Shaw',\n",
       " 'type': 'standard',\n",
       " 'url': 'https://www.kaggle.com/submissions/14258280/14258280.raw'}"
      ]
     },
     "execution_count": 25,
     "metadata": {},
     "output_type": "execute_result"
    }
   ],
   "source": [
    "api.competitions_submissions_list('rsna-intracranial-hemorrhage-detection')[0]"
   ]
  }
 ],
 "metadata": {
  "kernelspec": {
   "display_name": "Python 3",
   "language": "python",
   "name": "python3"
  },
  "language_info": {
   "codemirror_mode": {
    "name": "ipython",
    "version": 3
   },
   "file_extension": ".py",
   "mimetype": "text/x-python",
   "name": "python",
   "nbconvert_exporter": "python",
   "pygments_lexer": "ipython3",
   "version": "3.7.6"
  }
 },
 "nbformat": 4,
 "nbformat_minor": 2
}

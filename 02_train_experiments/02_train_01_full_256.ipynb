{
 "cells": [
  {
   "cell_type": "code",
   "execution_count": 1,
   "metadata": {},
   "outputs": [
    {
     "name": "stdout",
     "output_type": "stream",
     "text": [
      "Loading imports\n",
      "Warning: Your Kaggle API key is readable by other users on this system! To fix this, you can run 'chmod 600 /home/ashaw/.kaggle/kaggle.json'\n"
     ]
    }
   ],
   "source": [
    "from rsna_retro.imports import *\n",
    "from rsna_retro.metadata import *\n",
    "from rsna_retro.preprocess import *\n",
    "from rsna_retro.train import *"
   ]
  },
  {
   "cell_type": "code",
   "execution_count": 2,
   "metadata": {},
   "outputs": [],
   "source": [
    "torch.cuda.set_device(1)"
   ]
  },
  {
   "cell_type": "markdown",
   "metadata": {},
   "source": [
    "## Training"
   ]
  },
  {
   "cell_type": "code",
   "execution_count": 3,
   "metadata": {},
   "outputs": [],
   "source": [
    "name = 'baseline_full256'"
   ]
  },
  {
   "cell_type": "code",
   "execution_count": 4,
   "metadata": {},
   "outputs": [],
   "source": [
    "dbch = get_data(512, 128, full_ds=True)\n",
    "learn = get_learner(dbch, xresnet34)"
   ]
  },
  {
   "cell_type": "markdown",
   "metadata": {},
   "source": [
    "## Training"
   ]
  },
  {
   "cell_type": "code",
   "execution_count": 5,
   "metadata": {},
   "outputs": [
    {
     "data": {
      "text/html": [
       "<table border=\"1\" class=\"dataframe\">\n",
       "  <thead>\n",
       "    <tr style=\"text-align: left;\">\n",
       "      <th>epoch</th>\n",
       "      <th>train_loss</th>\n",
       "      <th>valid_loss</th>\n",
       "      <th>accuracy_multi</th>\n",
       "      <th>accuracy_any</th>\n",
       "      <th>time</th>\n",
       "    </tr>\n",
       "  </thead>\n",
       "  <tbody>\n",
       "    <tr>\n",
       "      <td>0</td>\n",
       "      <td>0.124575</td>\n",
       "      <td>0.163663</td>\n",
       "      <td>0.955426</td>\n",
       "      <td>0.901901</td>\n",
       "      <td>08:24</td>\n",
       "    </tr>\n",
       "    <tr>\n",
       "      <td>1</td>\n",
       "      <td>0.110638</td>\n",
       "      <td>0.147394</td>\n",
       "      <td>0.960774</td>\n",
       "      <td>0.915567</td>\n",
       "      <td>08:21</td>\n",
       "    </tr>\n",
       "    <tr>\n",
       "      <td>2</td>\n",
       "      <td>0.103073</td>\n",
       "      <td>0.106245</td>\n",
       "      <td>0.966292</td>\n",
       "      <td>0.937678</td>\n",
       "      <td>09:05</td>\n",
       "    </tr>\n",
       "    <tr>\n",
       "      <td>3</td>\n",
       "      <td>0.102642</td>\n",
       "      <td>0.129951</td>\n",
       "      <td>0.962405</td>\n",
       "      <td>0.926011</td>\n",
       "      <td>09:11</td>\n",
       "    </tr>\n",
       "    <tr>\n",
       "      <td>4</td>\n",
       "      <td>0.097461</td>\n",
       "      <td>0.134574</td>\n",
       "      <td>0.963542</td>\n",
       "      <td>0.922512</td>\n",
       "      <td>09:08</td>\n",
       "    </tr>\n",
       "    <tr>\n",
       "      <td>5</td>\n",
       "      <td>0.095508</td>\n",
       "      <td>0.143088</td>\n",
       "      <td>0.962917</td>\n",
       "      <td>0.923596</td>\n",
       "      <td>08:34</td>\n",
       "    </tr>\n",
       "    <tr>\n",
       "      <td>6</td>\n",
       "      <td>0.097286</td>\n",
       "      <td>0.105116</td>\n",
       "      <td>0.968325</td>\n",
       "      <td>0.933275</td>\n",
       "      <td>08:10</td>\n",
       "    </tr>\n",
       "    <tr>\n",
       "      <td>7</td>\n",
       "      <td>0.092197</td>\n",
       "      <td>0.102081</td>\n",
       "      <td>0.968509</td>\n",
       "      <td>0.938932</td>\n",
       "      <td>08:05</td>\n",
       "    </tr>\n",
       "    <tr>\n",
       "      <td>8</td>\n",
       "      <td>0.090959</td>\n",
       "      <td>0.113184</td>\n",
       "      <td>0.964994</td>\n",
       "      <td>0.926053</td>\n",
       "      <td>08:09</td>\n",
       "    </tr>\n",
       "    <tr>\n",
       "      <td>9</td>\n",
       "      <td>0.087257</td>\n",
       "      <td>0.105018</td>\n",
       "      <td>0.969051</td>\n",
       "      <td>0.938698</td>\n",
       "      <td>08:06</td>\n",
       "    </tr>\n",
       "    <tr>\n",
       "      <td>10</td>\n",
       "      <td>0.085842</td>\n",
       "      <td>0.109048</td>\n",
       "      <td>0.967380</td>\n",
       "      <td>0.933647</td>\n",
       "      <td>07:56</td>\n",
       "    </tr>\n",
       "    <tr>\n",
       "      <td>11</td>\n",
       "      <td>0.081276</td>\n",
       "      <td>0.095349</td>\n",
       "      <td>0.969012</td>\n",
       "      <td>0.943569</td>\n",
       "      <td>07:58</td>\n",
       "    </tr>\n",
       "    <tr>\n",
       "      <td>12</td>\n",
       "      <td>0.079978</td>\n",
       "      <td>0.088534</td>\n",
       "      <td>0.971987</td>\n",
       "      <td>0.946345</td>\n",
       "      <td>07:57</td>\n",
       "    </tr>\n",
       "    <tr>\n",
       "      <td>13</td>\n",
       "      <td>0.080186</td>\n",
       "      <td>0.085617</td>\n",
       "      <td>0.972449</td>\n",
       "      <td>0.948291</td>\n",
       "      <td>07:56</td>\n",
       "    </tr>\n",
       "    <tr>\n",
       "      <td>14</td>\n",
       "      <td>0.076574</td>\n",
       "      <td>0.082416</td>\n",
       "      <td>0.973981</td>\n",
       "      <td>0.950535</td>\n",
       "      <td>07:59</td>\n",
       "    </tr>\n",
       "    <tr>\n",
       "      <td>15</td>\n",
       "      <td>0.072595</td>\n",
       "      <td>0.080733</td>\n",
       "      <td>0.974458</td>\n",
       "      <td>0.951259</td>\n",
       "      <td>07:59</td>\n",
       "    </tr>\n",
       "    <tr>\n",
       "      <td>16</td>\n",
       "      <td>0.067496</td>\n",
       "      <td>0.081894</td>\n",
       "      <td>0.974498</td>\n",
       "      <td>0.950940</td>\n",
       "      <td>08:09</td>\n",
       "    </tr>\n",
       "    <tr>\n",
       "      <td>17</td>\n",
       "      <td>0.065846</td>\n",
       "      <td>0.078682</td>\n",
       "      <td>0.975560</td>\n",
       "      <td>0.953396</td>\n",
       "      <td>08:03</td>\n",
       "    </tr>\n",
       "    <tr>\n",
       "      <td>18</td>\n",
       "      <td>0.061670</td>\n",
       "      <td>0.077818</td>\n",
       "      <td>0.975610</td>\n",
       "      <td>0.953843</td>\n",
       "      <td>08:07</td>\n",
       "    </tr>\n",
       "    <tr>\n",
       "      <td>19</td>\n",
       "      <td>0.059202</td>\n",
       "      <td>0.078791</td>\n",
       "      <td>0.975638</td>\n",
       "      <td>0.953556</td>\n",
       "      <td>08:05</td>\n",
       "    </tr>\n",
       "  </tbody>\n",
       "</table>"
      ],
      "text/plain": [
       "<IPython.core.display.HTML object>"
      ]
     },
     "metadata": {},
     "output_type": "display_data"
    }
   ],
   "source": [
    "do_fit(learn, 20, 4e-2)\n",
    "learn.save(f'runs/{name}-1')"
   ]
  },
  {
   "cell_type": "code",
   "execution_count": 6,
   "metadata": {},
   "outputs": [
    {
     "data": {
      "text/html": [
       "<table border=\"1\" class=\"dataframe\">\n",
       "  <thead>\n",
       "    <tr style=\"text-align: left;\">\n",
       "      <th>epoch</th>\n",
       "      <th>train_loss</th>\n",
       "      <th>valid_loss</th>\n",
       "      <th>accuracy_multi</th>\n",
       "      <th>accuracy_any</th>\n",
       "      <th>time</th>\n",
       "    </tr>\n",
       "  </thead>\n",
       "  <tbody>\n",
       "    <tr>\n",
       "      <td>0</td>\n",
       "      <td>0.078276</td>\n",
       "      <td>0.086466</td>\n",
       "      <td>0.972978</td>\n",
       "      <td>0.948472</td>\n",
       "      <td>19:34</td>\n",
       "    </tr>\n",
       "    <tr>\n",
       "      <td>1</td>\n",
       "      <td>0.071368</td>\n",
       "      <td>0.084380</td>\n",
       "      <td>0.974098</td>\n",
       "      <td>0.950631</td>\n",
       "      <td>19:09</td>\n",
       "    </tr>\n",
       "    <tr>\n",
       "      <td>2</td>\n",
       "      <td>0.071805</td>\n",
       "      <td>0.081235</td>\n",
       "      <td>0.974610</td>\n",
       "      <td>0.951865</td>\n",
       "      <td>19:08</td>\n",
       "    </tr>\n",
       "    <tr>\n",
       "      <td>3</td>\n",
       "      <td>0.069981</td>\n",
       "      <td>0.080485</td>\n",
       "      <td>0.974476</td>\n",
       "      <td>0.950897</td>\n",
       "      <td>19:05</td>\n",
       "    </tr>\n",
       "    <tr>\n",
       "      <td>4</td>\n",
       "      <td>0.066124</td>\n",
       "      <td>0.084292</td>\n",
       "      <td>0.974667</td>\n",
       "      <td>0.951961</td>\n",
       "      <td>19:05</td>\n",
       "    </tr>\n",
       "    <tr>\n",
       "      <td>5</td>\n",
       "      <td>0.064170</td>\n",
       "      <td>0.077517</td>\n",
       "      <td>0.975644</td>\n",
       "      <td>0.954577</td>\n",
       "      <td>19:05</td>\n",
       "    </tr>\n",
       "    <tr>\n",
       "      <td>6</td>\n",
       "      <td>0.063205</td>\n",
       "      <td>0.078167</td>\n",
       "      <td>0.975663</td>\n",
       "      <td>0.953832</td>\n",
       "      <td>19:03</td>\n",
       "    </tr>\n",
       "    <tr>\n",
       "      <td>7</td>\n",
       "      <td>0.060050</td>\n",
       "      <td>0.077831</td>\n",
       "      <td>0.976019</td>\n",
       "      <td>0.954120</td>\n",
       "      <td>19:06</td>\n",
       "    </tr>\n",
       "    <tr>\n",
       "      <td>8</td>\n",
       "      <td>0.056333</td>\n",
       "      <td>0.077768</td>\n",
       "      <td>0.976025</td>\n",
       "      <td>0.954258</td>\n",
       "      <td>19:06</td>\n",
       "    </tr>\n",
       "    <tr>\n",
       "      <td>9</td>\n",
       "      <td>0.051233</td>\n",
       "      <td>0.080768</td>\n",
       "      <td>0.976035</td>\n",
       "      <td>0.954311</td>\n",
       "      <td>19:02</td>\n",
       "    </tr>\n",
       "    <tr>\n",
       "      <td>10</td>\n",
       "      <td>0.049604</td>\n",
       "      <td>0.080637</td>\n",
       "      <td>0.976157</td>\n",
       "      <td>0.954385</td>\n",
       "      <td>19:09</td>\n",
       "    </tr>\n",
       "    <tr>\n",
       "      <td>11</td>\n",
       "      <td>0.045603</td>\n",
       "      <td>0.081686</td>\n",
       "      <td>0.976156</td>\n",
       "      <td>0.954428</td>\n",
       "      <td>19:04</td>\n",
       "    </tr>\n",
       "  </tbody>\n",
       "</table>"
      ],
      "text/plain": [
       "<IPython.core.display.HTML object>"
      ]
     },
     "metadata": {},
     "output_type": "display_data"
    }
   ],
   "source": [
    "learn.dbunch = get_data(512, 256, full_ds=True)\n",
    "do_fit(learn, 12, 4e-3)\n",
    "learn.save(f'runs/{name}-2')"
   ]
  },
  {
   "cell_type": "markdown",
   "metadata": {},
   "source": [
    "## Submission"
   ]
  },
  {
   "cell_type": "code",
   "execution_count": 5,
   "metadata": {},
   "outputs": [
    {
     "data": {
      "text/plain": [
       "<fastai2.learner.Learner at 0x7fd2999daf50>"
      ]
     },
     "execution_count": 5,
     "metadata": {},
     "output_type": "execute_result"
    }
   ],
   "source": [
    "learn.load(f'runs/{name}-2')"
   ]
  },
  {
   "cell_type": "code",
   "execution_count": 7,
   "metadata": {},
   "outputs": [],
   "source": [
    "sub_fn = f'subm/{name}-2'"
   ]
  },
  {
   "cell_type": "code",
   "execution_count": 11,
   "metadata": {},
   "outputs": [],
   "source": [
    "learn.dbunch = get_test_data(Meta.df_tst, bs=512, sz=None, tst_dir='tst_jpg256')"
   ]
  },
  {
   "cell_type": "code",
   "execution_count": 12,
   "metadata": {},
   "outputs": [],
   "source": [
    "# tst_bs = 256\n",
    "# tst_sz = 384\n",
    "# tst_splits = [L.range(tst_fns), L.range(tst_fns)]\n",
    "# tst_dbch = get_data_gen(tst_fns, bs=tst_bs, img_tfm=get_pil_fn(path/'tst_jpg'), sz=tst_sz, splits=tst_splits, test=True)\n",
    "# learn.dbunch = tst_dbch"
   ]
  },
  {
   "cell_type": "code",
   "execution_count": 13,
   "metadata": {},
   "outputs": [
    {
     "data": {
      "text/html": [],
      "text/plain": [
       "<IPython.core.display.HTML object>"
      ]
     },
     "metadata": {},
     "output_type": "display_data"
    }
   ],
   "source": [
    "preds,targs = learn.get_preds()"
   ]
  },
  {
   "cell_type": "code",
   "execution_count": 14,
   "metadata": {},
   "outputs": [],
   "source": [
    "pred_csv = submission(Meta.df_tst, preds, fn=sub_fn)"
   ]
  },
  {
   "cell_type": "code",
   "execution_count": 15,
   "metadata": {},
   "outputs": [
    {
     "name": "stderr",
     "output_type": "stream",
     "text": [
      "100%|██████████| 26.0M/26.0M [00:02<00:00, 9.88MB/s]\n"
     ]
    },
    {
     "data": {
      "text/plain": [
       "Successfully submitted to RSNA Intracranial Hemorrhage Detection"
      ]
     },
     "execution_count": 15,
     "metadata": {},
     "output_type": "execute_result"
    }
   ],
   "source": [
    "api.competition_submit(f'{sub_fn}.csv', f'{name} - 256 size. Compare to 384 0.064', 'rsna-intracranial-hemorrhage-detection')"
   ]
  },
  {
   "cell_type": "code",
   "execution_count": 16,
   "metadata": {},
   "outputs": [
    {
     "data": {
      "text/plain": [
       "{'ref': 13768529,\n",
       " 'totalBytes': 27277209,\n",
       " 'date': '2019-12-12T18:23:56.78Z',\n",
       " 'description': 'baseline_full256 - 256 size. Compare to 384 0.064',\n",
       " 'errorDescription': None,\n",
       " 'fileName': 'baseline_full256-2.csv',\n",
       " 'publicScore': '1.12953',\n",
       " 'privateScore': '0.07170',\n",
       " 'status': 'complete',\n",
       " 'submittedBy': 'Andrew Shaw',\n",
       " 'submittedByRef': 'bearpelican',\n",
       " 'teamName': 'Andrew Shaw',\n",
       " 'type': 'standard',\n",
       " 'url': 'https://www.kaggle.com/submissions/13768529/13768529.raw'}"
      ]
     },
     "execution_count": 16,
     "metadata": {},
     "output_type": "execute_result"
    }
   ],
   "source": [
    "api.competitions_submissions_list('rsna-intracranial-hemorrhage-detection')[0]"
   ]
  },
  {
   "cell_type": "code",
   "execution_count": 15,
   "metadata": {},
   "outputs": [
    {
     "data": {
      "text/plain": [
       "{'ref': 13695014,\n",
       " 'totalBytes': 27277209,\n",
       " 'date': '2019-12-08T22:49:07.013Z',\n",
       " 'description': 'testing rsna_retro submission',\n",
       " 'errorDescription': None,\n",
       " 'fileName': 'test_sub.csv',\n",
       " 'publicScore': '0.95475',\n",
       " 'privateScore': '0.06444',\n",
       " 'status': 'complete',\n",
       " 'submittedBy': 'Andrew Shaw',\n",
       " 'submittedByRef': 'bearpelican',\n",
       " 'teamName': 'Andrew Shaw',\n",
       " 'type': 'standard',\n",
       " 'url': 'https://www.kaggle.com/submissions/13695014/13695014.raw'}"
      ]
     },
     "execution_count": 15,
     "metadata": {},
     "output_type": "execute_result"
    }
   ],
   "source": [
    "api.competitions_submissions_list('rsna-intracranial-hemorrhage-detection')[0]"
   ]
  }
 ],
 "metadata": {
  "kernelspec": {
   "display_name": "Python 3",
   "language": "python",
   "name": "python3"
  },
  "language_info": {
   "codemirror_mode": {
    "name": "ipython",
    "version": 3
   },
   "file_extension": ".py",
   "mimetype": "text/x-python",
   "name": "python",
   "nbconvert_exporter": "python",
   "pygments_lexer": "ipython3",
   "version": "3.7.5"
  }
 },
 "nbformat": 4,
 "nbformat_minor": 2
}

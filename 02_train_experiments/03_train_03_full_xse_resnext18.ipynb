{
 "cells": [
  {
   "cell_type": "code",
   "execution_count": 1,
   "metadata": {},
   "outputs": [],
   "source": [
    "import os\n",
    "os.chdir('../')"
   ]
  },
  {
   "cell_type": "code",
   "execution_count": 2,
   "metadata": {},
   "outputs": [
    {
     "name": "stdout",
     "output_type": "stream",
     "text": [
      "Loading imports\n",
      "Warning: Your Kaggle API key is readable by other users on this system! To fix this, you can run 'chmod 600 /home/ashaw/.kaggle/kaggle.json'\n"
     ]
    }
   ],
   "source": [
    "from rsna_retro.imports import *\n",
    "from rsna_retro.metadata import *\n",
    "from rsna_retro.preprocess import *\n",
    "from rsna_retro.train import *"
   ]
  },
  {
   "cell_type": "code",
   "execution_count": 3,
   "metadata": {},
   "outputs": [],
   "source": [
    "torch.cuda.set_device(6)"
   ]
  },
  {
   "cell_type": "code",
   "execution_count": 4,
   "metadata": {
    "scrolled": true
   },
   "outputs": [
    {
     "data": {
      "text/html": [
       "<div>\n",
       "<style scoped>\n",
       "    .dataframe tbody tr th:only-of-type {\n",
       "        vertical-align: middle;\n",
       "    }\n",
       "\n",
       "    .dataframe tbody tr th {\n",
       "        vertical-align: top;\n",
       "    }\n",
       "\n",
       "    .dataframe thead th {\n",
       "        text-align: right;\n",
       "    }\n",
       "</style>\n",
       "<table border=\"1\" class=\"dataframe\">\n",
       "  <thead>\n",
       "    <tr style=\"text-align: right;\">\n",
       "      <th></th>\n",
       "      <th>Modality</th>\n",
       "      <th>PatientID</th>\n",
       "      <th>StudyInstanceUID</th>\n",
       "      <th>SeriesInstanceUID</th>\n",
       "      <th>StudyID</th>\n",
       "      <th>ImagePositionPatient</th>\n",
       "      <th>ImageOrientationPatient</th>\n",
       "      <th>SamplesPerPixel</th>\n",
       "      <th>PhotometricInterpretation</th>\n",
       "      <th>Rows</th>\n",
       "      <th>...</th>\n",
       "      <th>MultiWindowCenter</th>\n",
       "      <th>WindowCenter1</th>\n",
       "      <th>MultiWindowWidth</th>\n",
       "      <th>WindowWidth1</th>\n",
       "      <th>any</th>\n",
       "      <th>epidural</th>\n",
       "      <th>intraparenchymal</th>\n",
       "      <th>intraventricular</th>\n",
       "      <th>subarachnoid</th>\n",
       "      <th>subdural</th>\n",
       "    </tr>\n",
       "    <tr>\n",
       "      <th>SOPInstanceUID</th>\n",
       "      <th></th>\n",
       "      <th></th>\n",
       "      <th></th>\n",
       "      <th></th>\n",
       "      <th></th>\n",
       "      <th></th>\n",
       "      <th></th>\n",
       "      <th></th>\n",
       "      <th></th>\n",
       "      <th></th>\n",
       "      <th></th>\n",
       "      <th></th>\n",
       "      <th></th>\n",
       "      <th></th>\n",
       "      <th></th>\n",
       "      <th></th>\n",
       "      <th></th>\n",
       "      <th></th>\n",
       "      <th></th>\n",
       "      <th></th>\n",
       "      <th></th>\n",
       "    </tr>\n",
       "  </thead>\n",
       "  <tbody>\n",
       "    <tr>\n",
       "      <th>ID_76d55d9d0</th>\n",
       "      <td>CT</td>\n",
       "      <td>ID_b9797064</td>\n",
       "      <td>ID_00b9e1961f</td>\n",
       "      <td>ID_0000298a7d</td>\n",
       "      <td></td>\n",
       "      <td>-125.0</td>\n",
       "      <td>1.0</td>\n",
       "      <td>1</td>\n",
       "      <td>MONOCHROME2</td>\n",
       "      <td>512</td>\n",
       "      <td>...</td>\n",
       "      <td>NaN</td>\n",
       "      <td>NaN</td>\n",
       "      <td>NaN</td>\n",
       "      <td>NaN</td>\n",
       "      <td>0</td>\n",
       "      <td>0</td>\n",
       "      <td>0</td>\n",
       "      <td>0</td>\n",
       "      <td>0</td>\n",
       "      <td>0</td>\n",
       "    </tr>\n",
       "    <tr>\n",
       "      <th>ID_96d282ea9</th>\n",
       "      <td>CT</td>\n",
       "      <td>ID_b9797064</td>\n",
       "      <td>ID_00b9e1961f</td>\n",
       "      <td>ID_0000298a7d</td>\n",
       "      <td></td>\n",
       "      <td>-125.0</td>\n",
       "      <td>1.0</td>\n",
       "      <td>1</td>\n",
       "      <td>MONOCHROME2</td>\n",
       "      <td>512</td>\n",
       "      <td>...</td>\n",
       "      <td>NaN</td>\n",
       "      <td>NaN</td>\n",
       "      <td>NaN</td>\n",
       "      <td>NaN</td>\n",
       "      <td>0</td>\n",
       "      <td>0</td>\n",
       "      <td>0</td>\n",
       "      <td>0</td>\n",
       "      <td>0</td>\n",
       "      <td>0</td>\n",
       "    </tr>\n",
       "    <tr>\n",
       "      <th>ID_7d8a7c29d</th>\n",
       "      <td>CT</td>\n",
       "      <td>ID_b9797064</td>\n",
       "      <td>ID_00b9e1961f</td>\n",
       "      <td>ID_0000298a7d</td>\n",
       "      <td></td>\n",
       "      <td>-125.0</td>\n",
       "      <td>1.0</td>\n",
       "      <td>1</td>\n",
       "      <td>MONOCHROME2</td>\n",
       "      <td>512</td>\n",
       "      <td>...</td>\n",
       "      <td>NaN</td>\n",
       "      <td>NaN</td>\n",
       "      <td>NaN</td>\n",
       "      <td>NaN</td>\n",
       "      <td>0</td>\n",
       "      <td>0</td>\n",
       "      <td>0</td>\n",
       "      <td>0</td>\n",
       "      <td>0</td>\n",
       "      <td>0</td>\n",
       "    </tr>\n",
       "    <tr>\n",
       "      <th>ID_4d4401491</th>\n",
       "      <td>CT</td>\n",
       "      <td>ID_b9797064</td>\n",
       "      <td>ID_00b9e1961f</td>\n",
       "      <td>ID_0000298a7d</td>\n",
       "      <td></td>\n",
       "      <td>-125.0</td>\n",
       "      <td>1.0</td>\n",
       "      <td>1</td>\n",
       "      <td>MONOCHROME2</td>\n",
       "      <td>512</td>\n",
       "      <td>...</td>\n",
       "      <td>NaN</td>\n",
       "      <td>NaN</td>\n",
       "      <td>NaN</td>\n",
       "      <td>NaN</td>\n",
       "      <td>0</td>\n",
       "      <td>0</td>\n",
       "      <td>0</td>\n",
       "      <td>0</td>\n",
       "      <td>0</td>\n",
       "      <td>0</td>\n",
       "    </tr>\n",
       "    <tr>\n",
       "      <th>ID_8f5ded0b7</th>\n",
       "      <td>CT</td>\n",
       "      <td>ID_b9797064</td>\n",
       "      <td>ID_00b9e1961f</td>\n",
       "      <td>ID_0000298a7d</td>\n",
       "      <td></td>\n",
       "      <td>-125.0</td>\n",
       "      <td>1.0</td>\n",
       "      <td>1</td>\n",
       "      <td>MONOCHROME2</td>\n",
       "      <td>512</td>\n",
       "      <td>...</td>\n",
       "      <td>NaN</td>\n",
       "      <td>NaN</td>\n",
       "      <td>NaN</td>\n",
       "      <td>NaN</td>\n",
       "      <td>0</td>\n",
       "      <td>0</td>\n",
       "      <td>0</td>\n",
       "      <td>0</td>\n",
       "      <td>0</td>\n",
       "      <td>0</td>\n",
       "    </tr>\n",
       "  </tbody>\n",
       "</table>\n",
       "<p>5 rows × 47 columns</p>\n",
       "</div>"
      ],
      "text/plain": [
       "               Modality    PatientID StudyInstanceUID SeriesInstanceUID  \\\n",
       "SOPInstanceUID                                                            \n",
       "ID_76d55d9d0         CT  ID_b9797064    ID_00b9e1961f     ID_0000298a7d   \n",
       "ID_96d282ea9         CT  ID_b9797064    ID_00b9e1961f     ID_0000298a7d   \n",
       "ID_7d8a7c29d         CT  ID_b9797064    ID_00b9e1961f     ID_0000298a7d   \n",
       "ID_4d4401491         CT  ID_b9797064    ID_00b9e1961f     ID_0000298a7d   \n",
       "ID_8f5ded0b7         CT  ID_b9797064    ID_00b9e1961f     ID_0000298a7d   \n",
       "\n",
       "               StudyID  ImagePositionPatient  ImageOrientationPatient  \\\n",
       "SOPInstanceUID                                                          \n",
       "ID_76d55d9d0                          -125.0                      1.0   \n",
       "ID_96d282ea9                          -125.0                      1.0   \n",
       "ID_7d8a7c29d                          -125.0                      1.0   \n",
       "ID_4d4401491                          -125.0                      1.0   \n",
       "ID_8f5ded0b7                          -125.0                      1.0   \n",
       "\n",
       "                SamplesPerPixel PhotometricInterpretation  Rows  ...  \\\n",
       "SOPInstanceUID                                                   ...   \n",
       "ID_76d55d9d0                  1               MONOCHROME2   512  ...   \n",
       "ID_96d282ea9                  1               MONOCHROME2   512  ...   \n",
       "ID_7d8a7c29d                  1               MONOCHROME2   512  ...   \n",
       "ID_4d4401491                  1               MONOCHROME2   512  ...   \n",
       "ID_8f5ded0b7                  1               MONOCHROME2   512  ...   \n",
       "\n",
       "                MultiWindowCenter  WindowCenter1  MultiWindowWidth  \\\n",
       "SOPInstanceUID                                                       \n",
       "ID_76d55d9d0                  NaN            NaN               NaN   \n",
       "ID_96d282ea9                  NaN            NaN               NaN   \n",
       "ID_7d8a7c29d                  NaN            NaN               NaN   \n",
       "ID_4d4401491                  NaN            NaN               NaN   \n",
       "ID_8f5ded0b7                  NaN            NaN               NaN   \n",
       "\n",
       "                WindowWidth1  any  epidural  intraparenchymal  \\\n",
       "SOPInstanceUID                                                  \n",
       "ID_76d55d9d0             NaN    0         0                 0   \n",
       "ID_96d282ea9             NaN    0         0                 0   \n",
       "ID_7d8a7c29d             NaN    0         0                 0   \n",
       "ID_4d4401491             NaN    0         0                 0   \n",
       "ID_8f5ded0b7             NaN    0         0                 0   \n",
       "\n",
       "                intraventricular  subarachnoid  subdural  \n",
       "SOPInstanceUID                                            \n",
       "ID_76d55d9d0                   0             0         0  \n",
       "ID_96d282ea9                   0             0         0  \n",
       "ID_7d8a7c29d                   0             0         0  \n",
       "ID_4d4401491                   0             0         0  \n",
       "ID_8f5ded0b7                   0             0         0  \n",
       "\n",
       "[5 rows x 47 columns]"
      ]
     },
     "execution_count": 4,
     "metadata": {},
     "output_type": "execute_result"
    }
   ],
   "source": [
    "Meta.df_comb.head()"
   ]
  },
  {
   "cell_type": "markdown",
   "metadata": {},
   "source": [
    "## Training"
   ]
  },
  {
   "cell_type": "code",
   "execution_count": 6,
   "metadata": {},
   "outputs": [],
   "source": [
    "name = 'baseline_full_stg1_xse_resnext'"
   ]
  },
  {
   "cell_type": "code",
   "execution_count": 7,
   "metadata": {},
   "outputs": [],
   "source": [
    "dbch = get_data(512, 128, splits=Meta.splits_stg1)\n",
    "learn = get_learner(dbch, xse_resnext18, pretrained=True)"
   ]
  },
  {
   "cell_type": "markdown",
   "metadata": {},
   "source": [
    "## Training"
   ]
  },
  {
   "cell_type": "code",
   "execution_count": 8,
   "metadata": {},
   "outputs": [
    {
     "data": {
      "text/html": [
       "<table border=\"1\" class=\"dataframe\">\n",
       "  <thead>\n",
       "    <tr style=\"text-align: left;\">\n",
       "      <th>epoch</th>\n",
       "      <th>train_loss</th>\n",
       "      <th>valid_loss</th>\n",
       "      <th>accuracy_multi</th>\n",
       "      <th>accuracy_any</th>\n",
       "      <th>time</th>\n",
       "    </tr>\n",
       "  </thead>\n",
       "  <tbody>\n",
       "    <tr>\n",
       "      <td>0</td>\n",
       "      <td>0.123301</td>\n",
       "      <td>0.128679</td>\n",
       "      <td>0.960710</td>\n",
       "      <td>0.925240</td>\n",
       "      <td>08:57</td>\n",
       "    </tr>\n",
       "    <tr>\n",
       "      <td>1</td>\n",
       "      <td>0.113026</td>\n",
       "      <td>0.119885</td>\n",
       "      <td>0.964071</td>\n",
       "      <td>0.923878</td>\n",
       "      <td>08:42</td>\n",
       "    </tr>\n",
       "    <tr>\n",
       "      <td>2</td>\n",
       "      <td>0.104065</td>\n",
       "      <td>0.138082</td>\n",
       "      <td>0.962177</td>\n",
       "      <td>0.918225</td>\n",
       "      <td>08:55</td>\n",
       "    </tr>\n",
       "    <tr>\n",
       "      <td>3</td>\n",
       "      <td>0.100908</td>\n",
       "      <td>0.118655</td>\n",
       "      <td>0.966079</td>\n",
       "      <td>0.927570</td>\n",
       "      <td>09:17</td>\n",
       "    </tr>\n",
       "    <tr>\n",
       "      <td>4</td>\n",
       "      <td>0.095516</td>\n",
       "      <td>0.104754</td>\n",
       "      <td>0.968527</td>\n",
       "      <td>0.939143</td>\n",
       "      <td>09:07</td>\n",
       "    </tr>\n",
       "    <tr>\n",
       "      <td>5</td>\n",
       "      <td>0.093690</td>\n",
       "      <td>0.101034</td>\n",
       "      <td>0.970096</td>\n",
       "      <td>0.938328</td>\n",
       "      <td>08:46</td>\n",
       "    </tr>\n",
       "    <tr>\n",
       "      <td>6</td>\n",
       "      <td>0.090035</td>\n",
       "      <td>0.098093</td>\n",
       "      <td>0.970785</td>\n",
       "      <td>0.941027</td>\n",
       "      <td>08:49</td>\n",
       "    </tr>\n",
       "    <tr>\n",
       "      <td>7</td>\n",
       "      <td>0.083441</td>\n",
       "      <td>0.095108</td>\n",
       "      <td>0.971008</td>\n",
       "      <td>0.941486</td>\n",
       "      <td>09:31</td>\n",
       "    </tr>\n",
       "    <tr>\n",
       "      <td>8</td>\n",
       "      <td>0.080790</td>\n",
       "      <td>0.092370</td>\n",
       "      <td>0.972799</td>\n",
       "      <td>0.944771</td>\n",
       "      <td>09:09</td>\n",
       "    </tr>\n",
       "    <tr>\n",
       "      <td>9</td>\n",
       "      <td>0.075252</td>\n",
       "      <td>0.089204</td>\n",
       "      <td>0.973892</td>\n",
       "      <td>0.946871</td>\n",
       "      <td>09:29</td>\n",
       "    </tr>\n",
       "    <tr>\n",
       "      <td>10</td>\n",
       "      <td>0.071223</td>\n",
       "      <td>0.087089</td>\n",
       "      <td>0.974318</td>\n",
       "      <td>0.948259</td>\n",
       "      <td>09:54</td>\n",
       "    </tr>\n",
       "    <tr>\n",
       "      <td>11</td>\n",
       "      <td>0.069269</td>\n",
       "      <td>0.085582</td>\n",
       "      <td>0.974766</td>\n",
       "      <td>0.949545</td>\n",
       "      <td>09:04</td>\n",
       "    </tr>\n",
       "  </tbody>\n",
       "</table>"
      ],
      "text/plain": [
       "<IPython.core.display.HTML object>"
      ]
     },
     "metadata": {},
     "output_type": "display_data"
    }
   ],
   "source": [
    "do_fit(learn, 12, 4e-2)\n",
    "learn.save(f'runs/{name}-1')"
   ]
  },
  {
   "cell_type": "code",
   "execution_count": 9,
   "metadata": {},
   "outputs": [
    {
     "data": {
      "text/html": [
       "<table border=\"1\" class=\"dataframe\">\n",
       "  <thead>\n",
       "    <tr style=\"text-align: left;\">\n",
       "      <th>epoch</th>\n",
       "      <th>train_loss</th>\n",
       "      <th>valid_loss</th>\n",
       "      <th>accuracy_multi</th>\n",
       "      <th>accuracy_any</th>\n",
       "      <th>time</th>\n",
       "    </tr>\n",
       "  </thead>\n",
       "  <tbody>\n",
       "    <tr>\n",
       "      <td>0</td>\n",
       "      <td>0.081481</td>\n",
       "      <td>0.092056</td>\n",
       "      <td>0.972351</td>\n",
       "      <td>0.944580</td>\n",
       "      <td>20:37</td>\n",
       "    </tr>\n",
       "    <tr>\n",
       "      <td>1</td>\n",
       "      <td>0.076591</td>\n",
       "      <td>0.092315</td>\n",
       "      <td>0.973295</td>\n",
       "      <td>0.945764</td>\n",
       "      <td>20:09</td>\n",
       "    </tr>\n",
       "    <tr>\n",
       "      <td>2</td>\n",
       "      <td>0.076864</td>\n",
       "      <td>0.084091</td>\n",
       "      <td>0.973854</td>\n",
       "      <td>0.948374</td>\n",
       "      <td>20:14</td>\n",
       "    </tr>\n",
       "    <tr>\n",
       "      <td>3</td>\n",
       "      <td>0.071800</td>\n",
       "      <td>0.084416</td>\n",
       "      <td>0.974747</td>\n",
       "      <td>0.949532</td>\n",
       "      <td>20:11</td>\n",
       "    </tr>\n",
       "    <tr>\n",
       "      <td>4</td>\n",
       "      <td>0.069287</td>\n",
       "      <td>0.083371</td>\n",
       "      <td>0.974932</td>\n",
       "      <td>0.949277</td>\n",
       "      <td>19:34</td>\n",
       "    </tr>\n",
       "    <tr>\n",
       "      <td>5</td>\n",
       "      <td>0.066857</td>\n",
       "      <td>0.081601</td>\n",
       "      <td>0.975528</td>\n",
       "      <td>0.951646</td>\n",
       "      <td>19:13</td>\n",
       "    </tr>\n",
       "    <tr>\n",
       "      <td>6</td>\n",
       "      <td>0.065854</td>\n",
       "      <td>0.085698</td>\n",
       "      <td>0.975343</td>\n",
       "      <td>0.950602</td>\n",
       "      <td>19:09</td>\n",
       "    </tr>\n",
       "    <tr>\n",
       "      <td>7</td>\n",
       "      <td>0.064181</td>\n",
       "      <td>0.084857</td>\n",
       "      <td>0.974961</td>\n",
       "      <td>0.950703</td>\n",
       "      <td>19:09</td>\n",
       "    </tr>\n",
       "    <tr>\n",
       "      <td>8</td>\n",
       "      <td>0.061764</td>\n",
       "      <td>0.082080</td>\n",
       "      <td>0.976198</td>\n",
       "      <td>0.953352</td>\n",
       "      <td>19:13</td>\n",
       "    </tr>\n",
       "    <tr>\n",
       "      <td>9</td>\n",
       "      <td>0.057575</td>\n",
       "      <td>0.082465</td>\n",
       "      <td>0.976158</td>\n",
       "      <td>0.953059</td>\n",
       "      <td>19:08</td>\n",
       "    </tr>\n",
       "    <tr>\n",
       "      <td>10</td>\n",
       "      <td>0.054609</td>\n",
       "      <td>0.083889</td>\n",
       "      <td>0.976152</td>\n",
       "      <td>0.953364</td>\n",
       "      <td>19:11</td>\n",
       "    </tr>\n",
       "    <tr>\n",
       "      <td>11</td>\n",
       "      <td>0.053443</td>\n",
       "      <td>0.083886</td>\n",
       "      <td>0.976222</td>\n",
       "      <td>0.953517</td>\n",
       "      <td>19:06</td>\n",
       "    </tr>\n",
       "  </tbody>\n",
       "</table>"
      ],
      "text/plain": [
       "<IPython.core.display.HTML object>"
      ]
     },
     "metadata": {},
     "output_type": "display_data"
    }
   ],
   "source": [
    "learn.dbunch = get_data(512, 256, splits=Meta.splits_stg1)\n",
    "do_fit(learn, 12, 4e-3)\n",
    "learn.save(f'runs/{name}-2')"
   ]
  },
  {
   "cell_type": "code",
   "execution_count": 10,
   "metadata": {},
   "outputs": [
    {
     "data": {
      "text/html": [
       "<table border=\"1\" class=\"dataframe\">\n",
       "  <thead>\n",
       "    <tr style=\"text-align: left;\">\n",
       "      <th>epoch</th>\n",
       "      <th>train_loss</th>\n",
       "      <th>valid_loss</th>\n",
       "      <th>accuracy_multi</th>\n",
       "      <th>accuracy_any</th>\n",
       "      <th>time</th>\n",
       "    </tr>\n",
       "  </thead>\n",
       "  <tbody>\n",
       "    <tr>\n",
       "      <td>0</td>\n",
       "      <td>0.065102</td>\n",
       "      <td>0.081450</td>\n",
       "      <td>0.975506</td>\n",
       "      <td>0.952422</td>\n",
       "      <td>46:03</td>\n",
       "    </tr>\n",
       "    <tr>\n",
       "      <td>1</td>\n",
       "      <td>0.060117</td>\n",
       "      <td>0.079891</td>\n",
       "      <td>0.976014</td>\n",
       "      <td>0.953326</td>\n",
       "      <td>45:27</td>\n",
       "    </tr>\n",
       "    <tr>\n",
       "      <td>2</td>\n",
       "      <td>0.057547</td>\n",
       "      <td>0.079263</td>\n",
       "      <td>0.976101</td>\n",
       "      <td>0.953377</td>\n",
       "      <td>45:17</td>\n",
       "    </tr>\n",
       "    <tr>\n",
       "      <td>3</td>\n",
       "      <td>0.052879</td>\n",
       "      <td>0.080095</td>\n",
       "      <td>0.976213</td>\n",
       "      <td>0.953479</td>\n",
       "      <td>45:19</td>\n",
       "    </tr>\n",
       "  </tbody>\n",
       "</table>"
      ],
      "text/plain": [
       "<IPython.core.display.HTML object>"
      ]
     },
     "metadata": {},
     "output_type": "display_data"
    }
   ],
   "source": [
    "learn.dbunch = get_data(256, 384, splits=Meta.splits_stg1, img_dir=path_jpg)\n",
    "do_fit(learn, 4, 4e-4)\n",
    "learn.save(f'runs/{name}-3')"
   ]
  },
  {
   "cell_type": "markdown",
   "metadata": {},
   "source": [
    "## Submission"
   ]
  },
  {
   "cell_type": "code",
   "execution_count": 8,
   "metadata": {},
   "outputs": [
    {
     "data": {
      "text/plain": [
       "<fastai2.learner.Learner at 0x7f5197fdaf90>"
      ]
     },
     "execution_count": 8,
     "metadata": {},
     "output_type": "execute_result"
    }
   ],
   "source": [
    "learn.load(f'runs/{name}-3')"
   ]
  },
  {
   "cell_type": "code",
   "execution_count": 12,
   "metadata": {},
   "outputs": [],
   "source": [
    "# tst_fns = df_tst.index.values"
   ]
  },
  {
   "cell_type": "code",
   "execution_count": 9,
   "metadata": {},
   "outputs": [],
   "source": [
    "sub_fn = f'subm/{name}-3'"
   ]
  },
  {
   "cell_type": "code",
   "execution_count": 10,
   "metadata": {},
   "outputs": [],
   "source": [
    "learn.dbunch = get_test_data(Meta.df_tst, bs=512, sz=384)"
   ]
  },
  {
   "cell_type": "code",
   "execution_count": 15,
   "metadata": {},
   "outputs": [],
   "source": [
    "# tst_bs = 256\n",
    "# tst_sz = 384\n",
    "# tst_splits = [L.range(tst_fns), L.range(tst_fns)]\n",
    "# tst_dbch = get_data_gen(tst_fns, bs=tst_bs, img_tfm=get_pil_fn(path/'tst_jpg'), sz=tst_sz, splits=tst_splits, test=True)\n",
    "# learn.dbunch = tst_dbch"
   ]
  },
  {
   "cell_type": "code",
   "execution_count": 11,
   "metadata": {},
   "outputs": [
    {
     "data": {
      "text/html": [],
      "text/plain": [
       "<IPython.core.display.HTML object>"
      ]
     },
     "metadata": {},
     "output_type": "display_data"
    }
   ],
   "source": [
    "preds,targs = learn.get_preds()"
   ]
  },
  {
   "cell_type": "code",
   "execution_count": 12,
   "metadata": {},
   "outputs": [],
   "source": [
    "pred_csv = submission(Meta.df_tst, preds, fn=sub_fn)"
   ]
  },
  {
   "cell_type": "code",
   "execution_count": 13,
   "metadata": {},
   "outputs": [
    {
     "data": {
      "text/html": [
       "<a href='subm/baseline_full_stg1_xse_resnext-3.csv' target='_blank'>subm/baseline_full_stg1_xse_resnext-3.csv</a><br>"
      ],
      "text/plain": [
       "/home/ashaw/kaggle/rsna_retro/subm/baseline_full_stg1_xse_resnext-3.csv"
      ]
     },
     "execution_count": 13,
     "metadata": {},
     "output_type": "execute_result"
    }
   ],
   "source": [
    "FileLink(f'{sub_fn}.csv')"
   ]
  },
  {
   "cell_type": "code",
   "execution_count": 14,
   "metadata": {},
   "outputs": [
    {
     "name": "stderr",
     "output_type": "stream",
     "text": [
      "100%|██████████| 26.0M/26.0M [00:02<00:00, 11.2MB/s]\n"
     ]
    },
    {
     "data": {
      "text/plain": [
       "Successfully submitted to RSNA Intracranial Hemorrhage Detection"
      ]
     },
     "execution_count": 14,
     "metadata": {},
     "output_type": "execute_result"
    }
   ],
   "source": [
    "api.competition_submit(f'{sub_fn}.csv', 'Training on Stage 1 (384), Valid on Stage 2. - 0.084161', 'rsna-intracranial-hemorrhage-detection')"
   ]
  },
  {
   "cell_type": "code",
   "execution_count": 22,
   "metadata": {},
   "outputs": [
    {
     "data": {
      "text/plain": [
       "{'ref': 14266028,\n",
       " 'totalBytes': 27277209,\n",
       " 'date': '2020-01-22T18:34:09.763Z',\n",
       " 'description': 'Training on Stage 1 (384), Valid on Stage 2. - 0.084161',\n",
       " 'errorDescription': None,\n",
       " 'fileName': 'baseline_full_stg1_xse_resnext-3.csv',\n",
       " 'publicScore': '1.04722',\n",
       " 'privateScore': '0.06479',\n",
       " 'status': 'complete',\n",
       " 'submittedBy': 'Andrew Shaw',\n",
       " 'submittedByRef': 'bearpelican',\n",
       " 'teamName': 'Andrew Shaw',\n",
       " 'type': 'standard',\n",
       " 'url': 'https://www.kaggle.com/submissions/14266028/14266028.raw'}"
      ]
     },
     "execution_count": 22,
     "metadata": {},
     "output_type": "execute_result"
    }
   ],
   "source": [
    "api.competitions_submissions_list('rsna-intracranial-hemorrhage-detection')[0]"
   ]
  }
 ],
 "metadata": {
  "kernelspec": {
   "display_name": "Python 3",
   "language": "python",
   "name": "python3"
  },
  "language_info": {
   "codemirror_mode": {
    "name": "ipython",
    "version": 3
   },
   "file_extension": ".py",
   "mimetype": "text/x-python",
   "name": "python",
   "nbconvert_exporter": "python",
   "pygments_lexer": "ipython3",
   "version": "3.7.6"
  }
 },
 "nbformat": 4,
 "nbformat_minor": 2
}

{
 "cells": [
  {
   "cell_type": "markdown",
   "metadata": {},
   "source": [
    "## Setup"
   ]
  },
  {
   "cell_type": "code",
   "execution_count": 1,
   "metadata": {},
   "outputs": [],
   "source": [
    "import torch\n",
    "torch.cuda.set_device(6)\n",
    "\n",
    "from slice_e2e_shallow import *\n",
    "pd.options.display.max_rows = 999"
   ]
  },
  {
   "cell_type": "code",
   "execution_count": 2,
   "metadata": {},
   "outputs": [],
   "source": [
    "val_sids = sids[s_splits[1]]\n",
    "df_sids = pd.DataFrame(val_sids).set_index(0)\n",
    "df_slices = df_sids.merge(df, left_index=True, right_index=True).reset_index()\n",
    "y = to_device(tensor(df_slices[htypes].values))"
   ]
  },
  {
   "cell_type": "code",
   "execution_count": 3,
   "metadata": {},
   "outputs": [],
   "source": [
    "pres = '''train_rn18_all-e2e rn18_wgtd_freeze2-e2e train_rn18-e2e\n",
    "    rn18_wgtd-e2e-fr train_rn34-e2e-fr xrn34_wgtd_deep-e2e-fr'''.split()"
   ]
  },
  {
   "cell_type": "code",
   "execution_count": 4,
   "metadata": {},
   "outputs": [],
   "source": [
    "all_preds = [(path_pred/f'{pre}.pkl').load() for pre in pres]\n",
    "flp_preds = [(path_pred/f'{pre}-flip.pkl').load() for pre in pres]"
   ]
  },
  {
   "cell_type": "code",
   "execution_count": 5,
   "metadata": {},
   "outputs": [
    {
     "data": {
      "text/plain": [
       "[tensor(0.0634, device='cuda:6'),\n",
       " tensor(0.0629, device='cuda:6'),\n",
       " tensor(0.0631, device='cuda:6'),\n",
       " tensor(0.0624, device='cuda:6'),\n",
       " tensor(0.0639, device='cuda:6'),\n",
       " tensor(0.0629, device='cuda:6')]"
      ]
     },
     "execution_count": 5,
     "metadata": {},
     "output_type": "execute_result"
    }
   ],
   "source": [
    "[lf2(to_device((o+p)/2),y) for o,p in zip(all_preds,flp_preds)]"
   ]
  },
  {
   "cell_type": "code",
   "execution_count": 6,
   "metadata": {},
   "outputs": [
    {
     "data": {
      "text/plain": [
       "[(tensor(0.0646, device='cuda:6'), tensor(0.9784, device='cuda:6')),\n",
       " (tensor(0.0641, device='cuda:6'), tensor(0.9785, device='cuda:6')),\n",
       " (tensor(0.0638, device='cuda:6'), tensor(0.9784, device='cuda:6')),\n",
       " (tensor(0.0635, device='cuda:6'), tensor(0.9788, device='cuda:6')),\n",
       " (tensor(0.0645, device='cuda:6'), tensor(0.9782, device='cuda:6')),\n",
       " (tensor(0.0634, device='cuda:6'), tensor(0.9791, device='cuda:6'))]"
      ]
     },
     "execution_count": 6,
     "metadata": {},
     "output_type": "execute_result"
    }
   ],
   "source": [
    "[(lf2(to_device(o),y), accuracy_multi(to_device(o),y)) for o in all_preds]"
   ]
  },
  {
   "cell_type": "code",
   "execution_count": 7,
   "metadata": {},
   "outputs": [],
   "source": [
    "lf = nn.BCELoss(weight=loss_weights)"
   ]
  },
  {
   "cell_type": "code",
   "execution_count": 8,
   "metadata": {},
   "outputs": [
    {
     "data": {
      "text/plain": [
       "(tensor(0.0591, device='cuda:6'), tensor(0.9798, device='cuda:6'))"
      ]
     },
     "execution_count": 8,
     "metadata": {},
     "output_type": "execute_result"
    }
   ],
   "source": [
    "avg_preds = torch.stack(all_preds+flp_preds).mean(0)\n",
    "lf2(to_device(avg_preds),y), accuracy_multi(to_device(avg_preds),y)"
   ]
  },
  {
   "cell_type": "code",
   "execution_count": 9,
   "metadata": {},
   "outputs": [],
   "source": [
    "flp_avg = list((torch.stack(all_preds)+torch.stack(flp_preds))/2)"
   ]
  },
  {
   "cell_type": "code",
   "execution_count": 10,
   "metadata": {},
   "outputs": [],
   "source": [
    "cat_preds = torch.cat(flp_avg, dim=1)\n",
    "df_preds = pd.DataFrame(cat_preds.numpy())\n",
    "pred_cols = [f'{pre}:{c}' for pre in pres for c in htypes]\n",
    "df_preds.columns = pred_cols\n",
    "df_preds[['Left','Right']] = df_slices[['Left','Right']]"
   ]
  },
  {
   "cell_type": "code",
   "execution_count": 11,
   "metadata": {},
   "outputs": [],
   "source": [
    "df_preds.index = df_slices['SOPInstanceUID']"
   ]
  },
  {
   "cell_type": "code",
   "execution_count": 12,
   "metadata": {},
   "outputs": [],
   "source": [
    "# df_l = pd.merge(df_preds, df_preds, how='left', right_index=True, left_on=\"Left\",\n",
    "#                 suffixes=[\"\",\"_l\"]).drop(['Left_l','Right_l'], axis=1)\n",
    "# df_r = pd.merge(df_l, df_preds, how='left', right_index=True, left_on=\"Right\",\n",
    "#                 suffixes=[\"\",\"_r\"]).drop(['Left_r','Right_r'], axis=1)\n",
    "# df_r.drop(['Left','Right'], axis=1, inplace=True)\n",
    "\n",
    "# df_r[pd.isna(df_r)] = 0\n",
    "# df_preds = df_r.reset_index(drop=False)"
   ]
  },
  {
   "cell_type": "code",
   "execution_count": 13,
   "metadata": {},
   "outputs": [],
   "source": [
    "df_preds.reset_index(drop=False, inplace=True)"
   ]
  },
  {
   "cell_type": "code",
   "execution_count": 14,
   "metadata": {},
   "outputs": [],
   "source": [
    "df_preds[htypes] = df_slices[htypes].astype(np.float32)\n",
    "df_preds['SeriesInstanceUID'] = df_slices['index']"
   ]
  },
  {
   "cell_type": "code",
   "execution_count": 15,
   "metadata": {},
   "outputs": [],
   "source": [
    "set_seed(42)\n",
    "mask = np.random.random(len(val_sids))>0.1\n",
    "ens_trn_sids,ens_val_sids = val_sids[mask],val_sids[~mask]"
   ]
  },
  {
   "cell_type": "code",
   "execution_count": 16,
   "metadata": {},
   "outputs": [
    {
     "data": {
      "text/plain": [
       "(122286, 14499)"
      ]
     },
     "execution_count": 16,
     "metadata": {},
     "output_type": "execute_result"
    }
   ],
   "source": [
    "df_preds.set_index('SeriesInstanceUID', inplace=True)\n",
    "df_val = df_preds.loc[ens_val_sids].reset_index()\n",
    "df_trn = df_preds.loc[ens_trn_sids].reset_index()\n",
    "len(df_trn),len(df_val)"
   ]
  },
  {
   "cell_type": "code",
   "execution_count": 17,
   "metadata": {},
   "outputs": [],
   "source": [
    "yev = df_val[htypes].values\n",
    "yet = df_trn[htypes].values\n",
    "yev_t = to_device(tensor(yev))\n",
    "xev = df_val[pred_cols].values\n",
    "xet = df_trn[pred_cols].values"
   ]
  },
  {
   "cell_type": "markdown",
   "metadata": {
    "heading_collapsed": true
   },
   "source": [
    "## Baseline average"
   ]
  },
  {
   "cell_type": "code",
   "execution_count": 18,
   "metadata": {
    "hidden": true
   },
   "outputs": [],
   "source": [
    "xev_s = np.array_split(xev, 6, 1)\n",
    "xev_m = np.stack(xev_s).mean(0)\n",
    "xev_mt = to_device(tensor(xev_m))"
   ]
  },
  {
   "cell_type": "code",
   "execution_count": 19,
   "metadata": {
    "hidden": true
   },
   "outputs": [
    {
     "data": {
      "text/plain": [
       "(tensor(0.0698, device='cuda:6'), tensor(0.9761, device='cuda:6'))"
      ]
     },
     "execution_count": 19,
     "metadata": {},
     "output_type": "execute_result"
    }
   ],
   "source": [
    "lf2(xev_mt,yev_t), accuracy_multi(xev_mt,yev_t)"
   ]
  },
  {
   "cell_type": "code",
   "execution_count": 20,
   "metadata": {
    "hidden": true
   },
   "outputs": [
    {
     "data": {
      "text/plain": [
       "     fun: tensor(0.0697)\n",
       " message: 'Solution found.'\n",
       "    nfev: 9\n",
       "  status: 0\n",
       " success: True\n",
       "       x: tensor(0.9519)"
      ]
     },
     "execution_count": 20,
     "metadata": {},
     "output_type": "execute_result"
    }
   ],
   "source": [
    "opt_val_loss(xev_mt,yev_t, full=True)"
   ]
  },
  {
   "cell_type": "markdown",
   "metadata": {},
   "source": [
    "## Linear"
   ]
  },
  {
   "cell_type": "code",
   "execution_count": 18,
   "metadata": {},
   "outputs": [],
   "source": [
    "from sklearn.multioutput import MultiOutputClassifier\n",
    "from sklearn.linear_model import LogisticRegression\n",
    "from scipy.special import expit"
   ]
  },
  {
   "cell_type": "code",
   "execution_count": 19,
   "metadata": {},
   "outputs": [],
   "source": [
    "cw = to_np(loss_weights)"
   ]
  },
  {
   "cell_type": "code",
   "execution_count": 20,
   "metadata": {},
   "outputs": [],
   "source": [
    "regr = LogisticRegression(solver='lbfgs')\n",
    "mreg = MultiOutputClassifier(regr, n_jobs=32)\n",
    "reg = mreg.fit(xet, yet)"
   ]
  },
  {
   "cell_type": "code",
   "execution_count": 21,
   "metadata": {},
   "outputs": [
    {
     "data": {
      "text/plain": [
       "(tensor(0.0686, device='cuda:6'), tensor(0.9770, device='cuda:6'))"
      ]
     },
     "execution_count": 21,
     "metadata": {},
     "output_type": "execute_result"
    }
   ],
   "source": [
    "vp = [o[:,1] for o in reg.predict_proba(xev)]\n",
    "vps = np.stack(vp, axis=1)\n",
    "lf = nn.BCEWithLogitsLoss(weight=loss_weights)\n",
    "p = to_device(logit(tensor(vps)))\n",
    "lf2(p, yev_t.float()),accuracy_multi(p, yev_t.float())"
   ]
  },
  {
   "cell_type": "code",
   "execution_count": 23,
   "metadata": {},
   "outputs": [
    {
     "data": {
      "text/plain": [
       "     fun: tensor(0.0683)\n",
       " message: 'Solution found.'\n",
       "    nfev: 9\n",
       "  status: 0\n",
       " success: True\n",
       "       x: tensor(0.9281)"
      ]
     },
     "execution_count": 23,
     "metadata": {},
     "output_type": "execute_result"
    }
   ],
   "source": [
    "optv = opt_val_loss(p,yev_t.float(), full=True)\n",
    "optx = optv.x\n",
    "optv"
   ]
  },
  {
   "cell_type": "markdown",
   "metadata": {
    "heading_collapsed": true
   },
   "source": [
    "## Tabular"
   ]
  },
  {
   "cell_type": "code",
   "execution_count": 30,
   "metadata": {
    "hidden": true
   },
   "outputs": [],
   "source": [
    "from fastai2.tabular.core import *\n",
    "from fastai2.tabular.model import *"
   ]
  },
  {
   "cell_type": "code",
   "execution_count": 31,
   "metadata": {
    "hidden": true
   },
   "outputs": [],
   "source": [
    "df_tab = pd.concat([df_trn, df_val])"
   ]
  },
  {
   "cell_type": "code",
   "execution_count": 32,
   "metadata": {
    "hidden": true
   },
   "outputs": [],
   "source": [
    "splits = [list(range(len(df_trn))), list(range(len(df_trn), len(df_tab)))]\n",
    "# procs = []\n",
    "procs = [Normalize]"
   ]
  },
  {
   "cell_type": "code",
   "execution_count": 33,
   "metadata": {
    "hidden": true,
    "scrolled": false
   },
   "outputs": [],
   "source": [
    "to = TabularPandas(df_tab, procs, None, pred_cols, y_names=htypes,\n",
    "                   block_y=MultiCategoryBlock(encoded=True, vocab=htypes), splits=splits)"
   ]
  },
  {
   "cell_type": "code",
   "execution_count": 34,
   "metadata": {
    "hidden": true
   },
   "outputs": [],
   "source": [
    "dbch = to.dataloaders(bs=256, after_batch=Cuda)"
   ]
  },
  {
   "cell_type": "code",
   "execution_count": 106,
   "metadata": {
    "collapsed": true,
    "hidden": true
   },
   "outputs": [
    {
     "data": {
      "text/html": [
       "<table border=\"1\" class=\"dataframe\">\n",
       "  <thead>\n",
       "    <tr style=\"text-align: right;\">\n",
       "      <th></th>\n",
       "      <th>train_rn18_all-e2e:any</th>\n",
       "      <th>train_rn18_all-e2e:epidural</th>\n",
       "      <th>train_rn18_all-e2e:intraparenchymal</th>\n",
       "      <th>train_rn18_all-e2e:intraventricular</th>\n",
       "      <th>train_rn18_all-e2e:subarachnoid</th>\n",
       "      <th>train_rn18_all-e2e:subdural</th>\n",
       "      <th>rn18_wgtd_freeze2-e2e:any</th>\n",
       "      <th>rn18_wgtd_freeze2-e2e:epidural</th>\n",
       "      <th>rn18_wgtd_freeze2-e2e:intraparenchymal</th>\n",
       "      <th>rn18_wgtd_freeze2-e2e:intraventricular</th>\n",
       "      <th>rn18_wgtd_freeze2-e2e:subarachnoid</th>\n",
       "      <th>rn18_wgtd_freeze2-e2e:subdural</th>\n",
       "      <th>train_rn18-e2e:any</th>\n",
       "      <th>train_rn18-e2e:epidural</th>\n",
       "      <th>train_rn18-e2e:intraparenchymal</th>\n",
       "      <th>train_rn18-e2e:intraventricular</th>\n",
       "      <th>train_rn18-e2e:subarachnoid</th>\n",
       "      <th>train_rn18-e2e:subdural</th>\n",
       "      <th>rn18_wgtd-e2e-fr:any</th>\n",
       "      <th>rn18_wgtd-e2e-fr:epidural</th>\n",
       "      <th>rn18_wgtd-e2e-fr:intraparenchymal</th>\n",
       "      <th>rn18_wgtd-e2e-fr:intraventricular</th>\n",
       "      <th>rn18_wgtd-e2e-fr:subarachnoid</th>\n",
       "      <th>rn18_wgtd-e2e-fr:subdural</th>\n",
       "      <th>train_rn34-e2e-fr:any</th>\n",
       "      <th>train_rn34-e2e-fr:epidural</th>\n",
       "      <th>train_rn34-e2e-fr:intraparenchymal</th>\n",
       "      <th>train_rn34-e2e-fr:intraventricular</th>\n",
       "      <th>train_rn34-e2e-fr:subarachnoid</th>\n",
       "      <th>train_rn34-e2e-fr:subdural</th>\n",
       "      <th>xrn34_wgtd_deep-e2e-fr:any</th>\n",
       "      <th>xrn34_wgtd_deep-e2e-fr:epidural</th>\n",
       "      <th>xrn34_wgtd_deep-e2e-fr:intraparenchymal</th>\n",
       "      <th>xrn34_wgtd_deep-e2e-fr:intraventricular</th>\n",
       "      <th>xrn34_wgtd_deep-e2e-fr:subarachnoid</th>\n",
       "      <th>xrn34_wgtd_deep-e2e-fr:subdural</th>\n",
       "      <th>any</th>\n",
       "      <th>epidural</th>\n",
       "      <th>intraparenchymal</th>\n",
       "      <th>intraventricular</th>\n",
       "      <th>subarachnoid</th>\n",
       "      <th>subdural</th>\n",
       "    </tr>\n",
       "  </thead>\n",
       "  <tbody>\n",
       "    <tr>\n",
       "      <th>0</th>\n",
       "      <td>-8.238376</td>\n",
       "      <td>-17.297939</td>\n",
       "      <td>-11.920480</td>\n",
       "      <td>-13.801267</td>\n",
       "      <td>-8.112549</td>\n",
       "      <td>-11.807898</td>\n",
       "      <td>-11.469049</td>\n",
       "      <td>-48.865624</td>\n",
       "      <td>-21.400269</td>\n",
       "      <td>-31.216509</td>\n",
       "      <td>-13.093112</td>\n",
       "      <td>-18.295864</td>\n",
       "      <td>-8.641256</td>\n",
       "      <td>-17.059513</td>\n",
       "      <td>-11.449665</td>\n",
       "      <td>-11.519353</td>\n",
       "      <td>-10.864289</td>\n",
       "      <td>-11.979290</td>\n",
       "      <td>-10.082086</td>\n",
       "      <td>-51.885269</td>\n",
       "      <td>-21.977497</td>\n",
       "      <td>-20.055372</td>\n",
       "      <td>-13.080116</td>\n",
       "      <td>-15.691304</td>\n",
       "      <td>-6.949860</td>\n",
       "      <td>-14.042627</td>\n",
       "      <td>-10.161537</td>\n",
       "      <td>-13.418343</td>\n",
       "      <td>-8.311250</td>\n",
       "      <td>-8.792625</td>\n",
       "      <td>-57.777737</td>\n",
       "      <td>-294.844643</td>\n",
       "      <td>-119.424292</td>\n",
       "      <td>-119.933349</td>\n",
       "      <td>-77.936313</td>\n",
       "      <td>-127.467362</td>\n",
       "      <td>False</td>\n",
       "      <td>False</td>\n",
       "      <td>False</td>\n",
       "      <td>False</td>\n",
       "      <td>False</td>\n",
       "      <td>False</td>\n",
       "    </tr>\n",
       "    <tr>\n",
       "      <th>1</th>\n",
       "      <td>-8.894002</td>\n",
       "      <td>-23.112486</td>\n",
       "      <td>-13.503254</td>\n",
       "      <td>-16.370792</td>\n",
       "      <td>-9.410556</td>\n",
       "      <td>-16.119137</td>\n",
       "      <td>-14.027308</td>\n",
       "      <td>-90.660106</td>\n",
       "      <td>-34.550870</td>\n",
       "      <td>-42.426856</td>\n",
       "      <td>-19.474388</td>\n",
       "      <td>-32.251309</td>\n",
       "      <td>-11.616915</td>\n",
       "      <td>-25.087519</td>\n",
       "      <td>-15.819075</td>\n",
       "      <td>-16.251137</td>\n",
       "      <td>-15.958450</td>\n",
       "      <td>-17.463702</td>\n",
       "      <td>-10.837638</td>\n",
       "      <td>-86.797811</td>\n",
       "      <td>-29.641816</td>\n",
       "      <td>-22.678650</td>\n",
       "      <td>-19.088266</td>\n",
       "      <td>-22.328073</td>\n",
       "      <td>-7.536536</td>\n",
       "      <td>-18.096712</td>\n",
       "      <td>-11.853873</td>\n",
       "      <td>-16.381811</td>\n",
       "      <td>-9.462038</td>\n",
       "      <td>-11.018987</td>\n",
       "      <td>-78.903519</td>\n",
       "      <td>-420.682998</td>\n",
       "      <td>-173.893171</td>\n",
       "      <td>-183.870655</td>\n",
       "      <td>-98.145798</td>\n",
       "      <td>-176.540264</td>\n",
       "      <td>False</td>\n",
       "      <td>False</td>\n",
       "      <td>False</td>\n",
       "      <td>False</td>\n",
       "      <td>False</td>\n",
       "      <td>False</td>\n",
       "    </tr>\n",
       "    <tr>\n",
       "      <th>2</th>\n",
       "      <td>-8.119171</td>\n",
       "      <td>-21.655539</td>\n",
       "      <td>-12.158889</td>\n",
       "      <td>-14.291330</td>\n",
       "      <td>-7.933742</td>\n",
       "      <td>-14.503250</td>\n",
       "      <td>-12.776923</td>\n",
       "      <td>-85.946008</td>\n",
       "      <td>-29.017556</td>\n",
       "      <td>-35.154503</td>\n",
       "      <td>-18.022791</td>\n",
       "      <td>-29.894262</td>\n",
       "      <td>-10.836414</td>\n",
       "      <td>-23.289580</td>\n",
       "      <td>-14.411385</td>\n",
       "      <td>-16.836514</td>\n",
       "      <td>-15.094324</td>\n",
       "      <td>-15.860887</td>\n",
       "      <td>-10.094175</td>\n",
       "      <td>-88.441892</td>\n",
       "      <td>-26.232767</td>\n",
       "      <td>-18.411291</td>\n",
       "      <td>-17.964004</td>\n",
       "      <td>-21.095013</td>\n",
       "      <td>-7.408670</td>\n",
       "      <td>-18.969206</td>\n",
       "      <td>-11.748572</td>\n",
       "      <td>-17.043703</td>\n",
       "      <td>-9.597425</td>\n",
       "      <td>-10.958816</td>\n",
       "      <td>-77.630879</td>\n",
       "      <td>-452.448059</td>\n",
       "      <td>-187.230416</td>\n",
       "      <td>-211.359621</td>\n",
       "      <td>-105.170753</td>\n",
       "      <td>-190.182931</td>\n",
       "      <td>False</td>\n",
       "      <td>False</td>\n",
       "      <td>False</td>\n",
       "      <td>False</td>\n",
       "      <td>False</td>\n",
       "      <td>False</td>\n",
       "    </tr>\n",
       "    <tr>\n",
       "      <th>3</th>\n",
       "      <td>-7.781424</td>\n",
       "      <td>-19.138993</td>\n",
       "      <td>-11.556243</td>\n",
       "      <td>-12.046307</td>\n",
       "      <td>-7.331095</td>\n",
       "      <td>-12.278094</td>\n",
       "      <td>-9.543168</td>\n",
       "      <td>-59.156147</td>\n",
       "      <td>-17.419157</td>\n",
       "      <td>-24.777745</td>\n",
       "      <td>-12.769736</td>\n",
       "      <td>-19.460015</td>\n",
       "      <td>-8.355537</td>\n",
       "      <td>-18.411451</td>\n",
       "      <td>-11.059415</td>\n",
       "      <td>-14.383511</td>\n",
       "      <td>-12.000196</td>\n",
       "      <td>-12.007165</td>\n",
       "      <td>-9.247957</td>\n",
       "      <td>-74.225433</td>\n",
       "      <td>-21.215900</td>\n",
       "      <td>-14.893441</td>\n",
       "      <td>-16.259479</td>\n",
       "      <td>-18.411292</td>\n",
       "      <td>-7.092768</td>\n",
       "      <td>-17.991411</td>\n",
       "      <td>-11.154374</td>\n",
       "      <td>-15.885393</td>\n",
       "      <td>-8.965619</td>\n",
       "      <td>-10.221709</td>\n",
       "      <td>-53.196241</td>\n",
       "      <td>-324.777060</td>\n",
       "      <td>-131.539796</td>\n",
       "      <td>-154.040023</td>\n",
       "      <td>-73.507534</td>\n",
       "      <td>-135.103183</td>\n",
       "      <td>False</td>\n",
       "      <td>False</td>\n",
       "      <td>False</td>\n",
       "      <td>False</td>\n",
       "      <td>False</td>\n",
       "      <td>False</td>\n",
       "    </tr>\n",
       "    <tr>\n",
       "      <th>4</th>\n",
       "      <td>-8.297978</td>\n",
       "      <td>-18.595947</td>\n",
       "      <td>-12.225114</td>\n",
       "      <td>-11.814520</td>\n",
       "      <td>-8.615858</td>\n",
       "      <td>-11.880745</td>\n",
       "      <td>-9.658147</td>\n",
       "      <td>-44.582695</td>\n",
       "      <td>-15.320809</td>\n",
       "      <td>-21.730829</td>\n",
       "      <td>-12.848784</td>\n",
       "      <td>-15.004621</td>\n",
       "      <td>-8.487944</td>\n",
       "      <td>-16.585638</td>\n",
       "      <td>-10.174383</td>\n",
       "      <td>-14.355636</td>\n",
       "      <td>-11.512384</td>\n",
       "      <td>-11.212727</td>\n",
       "      <td>-8.365472</td>\n",
       "      <td>-54.641521</td>\n",
       "      <td>-16.416634</td>\n",
       "      <td>-12.076744</td>\n",
       "      <td>-14.095578</td>\n",
       "      <td>-15.268195</td>\n",
       "      <td>-7.134136</td>\n",
       "      <td>-17.164047</td>\n",
       "      <td>-10.913686</td>\n",
       "      <td>-14.907598</td>\n",
       "      <td>-8.785104</td>\n",
       "      <td>-9.860677</td>\n",
       "      <td>-29.372470</td>\n",
       "      <td>-193.949931</td>\n",
       "      <td>-75.391036</td>\n",
       "      <td>-91.426269</td>\n",
       "      <td>-40.571681</td>\n",
       "      <td>-76.969107</td>\n",
       "      <td>False</td>\n",
       "      <td>False</td>\n",
       "      <td>False</td>\n",
       "      <td>False</td>\n",
       "      <td>False</td>\n",
       "      <td>False</td>\n",
       "    </tr>\n",
       "    <tr>\n",
       "      <th>5</th>\n",
       "      <td>-8.311223</td>\n",
       "      <td>-18.066149</td>\n",
       "      <td>-12.344319</td>\n",
       "      <td>-12.039684</td>\n",
       "      <td>-9.543006</td>\n",
       "      <td>-11.331078</td>\n",
       "      <td>-9.945591</td>\n",
       "      <td>-35.326969</td>\n",
       "      <td>-14.559081</td>\n",
       "      <td>-19.646854</td>\n",
       "      <td>-12.834412</td>\n",
       "      <td>-13.121857</td>\n",
       "      <td>-8.257975</td>\n",
       "      <td>-15.247637</td>\n",
       "      <td>-9.296320</td>\n",
       "      <td>-14.397449</td>\n",
       "      <td>-10.787633</td>\n",
       "      <td>-10.446164</td>\n",
       "      <td>-7.507165</td>\n",
       "      <td>-32.809090</td>\n",
       "      <td>-11.085460</td>\n",
       "      <td>-9.423244</td>\n",
       "      <td>-10.082087</td>\n",
       "      <td>-10.801372</td>\n",
       "      <td>-7.235676</td>\n",
       "      <td>-16.186253</td>\n",
       "      <td>-10.567697</td>\n",
       "      <td>-14.020062</td>\n",
       "      <td>-8.732453</td>\n",
       "      <td>-9.484603</td>\n",
       "      <td>-19.840418</td>\n",
       "      <td>-122.784058</td>\n",
       "      <td>-46.553077</td>\n",
       "      <td>-60.170295</td>\n",
       "      <td>-25.210947</td>\n",
       "      <td>-46.451263</td>\n",
       "      <td>False</td>\n",
       "      <td>False</td>\n",
       "      <td>False</td>\n",
       "      <td>False</td>\n",
       "      <td>False</td>\n",
       "      <td>False</td>\n",
       "    </tr>\n",
       "    <tr>\n",
       "      <th>6</th>\n",
       "      <td>-8.291356</td>\n",
       "      <td>-16.980060</td>\n",
       "      <td>-12.105909</td>\n",
       "      <td>-12.642331</td>\n",
       "      <td>-10.125785</td>\n",
       "      <td>-10.430420</td>\n",
       "      <td>-8.580228</td>\n",
       "      <td>-23.196798</td>\n",
       "      <td>-10.491736</td>\n",
       "      <td>-15.407043</td>\n",
       "      <td>-10.484550</td>\n",
       "      <td>-9.543168</td>\n",
       "      <td>-8.453100</td>\n",
       "      <td>-14.467136</td>\n",
       "      <td>-8.982725</td>\n",
       "      <td>-14.355636</td>\n",
       "      <td>-10.404351</td>\n",
       "      <td>-10.035007</td>\n",
       "      <td>-8.347339</td>\n",
       "      <td>-20.937858</td>\n",
       "      <td>-9.755688</td>\n",
       "      <td>-10.311774</td>\n",
       "      <td>-9.900754</td>\n",
       "      <td>-9.453467</td>\n",
       "      <td>-6.904730</td>\n",
       "      <td>-15.170851</td>\n",
       "      <td>-9.725290</td>\n",
       "      <td>-12.921925</td>\n",
       "      <td>-8.296206</td>\n",
       "      <td>-9.018270</td>\n",
       "      <td>-14.800773</td>\n",
       "      <td>-81.652412</td>\n",
       "      <td>-29.932432</td>\n",
       "      <td>-40.648037</td>\n",
       "      <td>-18.122356</td>\n",
       "      <td>-28.481625</td>\n",
       "      <td>False</td>\n",
       "      <td>False</td>\n",
       "      <td>False</td>\n",
       "      <td>False</td>\n",
       "      <td>False</td>\n",
       "      <td>False</td>\n",
       "    </tr>\n",
       "    <tr>\n",
       "      <th>7</th>\n",
       "      <td>-8.198641</td>\n",
       "      <td>-15.682053</td>\n",
       "      <td>-11.728427</td>\n",
       "      <td>-13.337692</td>\n",
       "      <td>-10.218500</td>\n",
       "      <td>-9.595986</td>\n",
       "      <td>-7.983780</td>\n",
       "      <td>-16.513706</td>\n",
       "      <td>-9.104816</td>\n",
       "      <td>-13.646443</td>\n",
       "      <td>-9.514424</td>\n",
       "      <td>-8.472437</td>\n",
       "      <td>-8.494913</td>\n",
       "      <td>-14.327761</td>\n",
       "      <td>-8.843350</td>\n",
       "      <td>-14.237167</td>\n",
       "      <td>-10.111664</td>\n",
       "      <td>-10.007133</td>\n",
       "      <td>-8.172051</td>\n",
       "      <td>-17.226585</td>\n",
       "      <td>-9.658977</td>\n",
       "      <td>-11.254703</td>\n",
       "      <td>-9.785910</td>\n",
       "      <td>-9.616666</td>\n",
       "      <td>-6.502331</td>\n",
       "      <td>-14.290836</td>\n",
       "      <td>-9.123570</td>\n",
       "      <td>-11.861394</td>\n",
       "      <td>-7.698248</td>\n",
       "      <td>-8.544415</td>\n",
       "      <td>-12.732738</td>\n",
       "      <td>-65.566276</td>\n",
       "      <td>-23.772867</td>\n",
       "      <td>-32.859497</td>\n",
       "      <td>-16.124315</td>\n",
       "      <td>-21.253044</td>\n",
       "      <td>False</td>\n",
       "      <td>False</td>\n",
       "      <td>False</td>\n",
       "      <td>False</td>\n",
       "      <td>False</td>\n",
       "      <td>False</td>\n",
       "    </tr>\n",
       "    <tr>\n",
       "      <th>8</th>\n",
       "      <td>-8.006589</td>\n",
       "      <td>-14.834374</td>\n",
       "      <td>-11.523130</td>\n",
       "      <td>-13.655572</td>\n",
       "      <td>-9.807905</td>\n",
       "      <td>-9.152279</td>\n",
       "      <td>-8.149061</td>\n",
       "      <td>-15.464532</td>\n",
       "      <td>-10.362387</td>\n",
       "      <td>-13.890772</td>\n",
       "      <td>-9.636588</td>\n",
       "      <td>-8.810185</td>\n",
       "      <td>-8.641256</td>\n",
       "      <td>-14.815574</td>\n",
       "      <td>-9.003632</td>\n",
       "      <td>-14.341699</td>\n",
       "      <td>-9.923508</td>\n",
       "      <td>-10.341633</td>\n",
       "      <td>-7.712675</td>\n",
       "      <td>-16.271569</td>\n",
       "      <td>-9.719421</td>\n",
       "      <td>-12.922962</td>\n",
       "      <td>-9.260046</td>\n",
       "      <td>-9.423244</td>\n",
       "      <td>-6.618914</td>\n",
       "      <td>-14.170492</td>\n",
       "      <td>-9.499645</td>\n",
       "      <td>-11.680879</td>\n",
       "      <td>-7.529015</td>\n",
       "      <td>-8.604588</td>\n",
       "      <td>-11.530095</td>\n",
       "      <td>-56.199669</td>\n",
       "      <td>-20.145849</td>\n",
       "      <td>-27.972570</td>\n",
       "      <td>-14.788047</td>\n",
       "      <td>-17.524218</td>\n",
       "      <td>False</td>\n",
       "      <td>False</td>\n",
       "      <td>False</td>\n",
       "      <td>False</td>\n",
       "      <td>False</td>\n",
       "      <td>False</td>\n",
       "    </tr>\n",
       "    <tr>\n",
       "      <th>9</th>\n",
       "      <td>-7.920496</td>\n",
       "      <td>-14.397290</td>\n",
       "      <td>-11.589355</td>\n",
       "      <td>-13.615836</td>\n",
       "      <td>-9.211882</td>\n",
       "      <td>-8.940360</td>\n",
       "      <td>-8.278411</td>\n",
       "      <td>-16.125654</td>\n",
       "      <td>-11.584026</td>\n",
       "      <td>-13.905144</td>\n",
       "      <td>-9.557541</td>\n",
       "      <td>-9.047326</td>\n",
       "      <td>-8.390382</td>\n",
       "      <td>-15.289449</td>\n",
       "      <td>-8.906069</td>\n",
       "      <td>-14.188386</td>\n",
       "      <td>-9.512351</td>\n",
       "      <td>-10.453133</td>\n",
       "      <td>-7.585742</td>\n",
       "      <td>-17.420008</td>\n",
       "      <td>-10.209019</td>\n",
       "      <td>-14.313178</td>\n",
       "      <td>-8.945736</td>\n",
       "      <td>-9.411156</td>\n",
       "      <td>-6.265404</td>\n",
       "      <td>-14.200579</td>\n",
       "      <td>-9.665118</td>\n",
       "      <td>-11.222068</td>\n",
       "      <td>-6.878405</td>\n",
       "      <td>-8.589545</td>\n",
       "      <td>-11.046493</td>\n",
       "      <td>-52.992622</td>\n",
       "      <td>-18.555054</td>\n",
       "      <td>-25.949076</td>\n",
       "      <td>-14.317171</td>\n",
       "      <td>-16.162495</td>\n",
       "      <td>False</td>\n",
       "      <td>False</td>\n",
       "      <td>False</td>\n",
       "      <td>False</td>\n",
       "      <td>False</td>\n",
       "      <td>False</td>\n",
       "    </tr>\n",
       "  </tbody>\n",
       "</table>"
      ],
      "text/plain": [
       "<IPython.core.display.HTML object>"
      ]
     },
     "metadata": {},
     "output_type": "display_data"
    }
   ],
   "source": [
    "dbch.valid.show_batch()"
   ]
  },
  {
   "cell_type": "code",
   "execution_count": 36,
   "metadata": {
    "hidden": true
   },
   "outputs": [],
   "source": [
    "model = TabularModel(get_emb_sz(to), len(to.cont_names), 6, layers=[1000,500], ps=[0.001,0.01])\n",
    "# model = TabularModel(get_emb_sz(to), len(to.cont_names), 6, layers=[200,100], ps=[0.,0.])\n",
    "opt_func = partial(Adam, wd=0.001, eps=1e-5)\n",
    "learn = Learner(dbch, model, loss_func, opt_func=opt_func, metrics=metrics)\n",
    "\n",
    "avg_lbls = df[htypes].mean()\n",
    "learn.model.layers[-1][0].bias.data = to_device(tensor(scipy.special.logit(avg_lbls.values)))"
   ]
  },
  {
   "cell_type": "code",
   "execution_count": 134,
   "metadata": {
    "collapsed": true,
    "hidden": true
   },
   "outputs": [
    {
     "data": {
      "text/html": [],
      "text/plain": [
       "<IPython.core.display.HTML object>"
      ]
     },
     "metadata": {},
     "output_type": "display_data"
    },
    {
     "data": {
      "image/png": "[encoded data removed]",
      "text/plain": [
       "<Figure size 432x288 with 1 Axes>"
      ]
     },
     "metadata": {
      "needs_background": "light"
     },
     "output_type": "display_data"
    }
   ],
   "source": [
    "learn.lr_find(end_lr=10)"
   ]
  },
  {
   "cell_type": "code",
   "execution_count": 23,
   "metadata": {
    "hidden": true
   },
   "outputs": [
    {
     "data": {
      "text/html": [
       "<table border=\"1\" class=\"dataframe\">\n",
       "  <thead>\n",
       "    <tr style=\"text-align: left;\">\n",
       "      <th>epoch</th>\n",
       "      <th>train_loss</th>\n",
       "      <th>valid_loss</th>\n",
       "      <th>accuracy_multi</th>\n",
       "      <th>accuracy_any</th>\n",
       "      <th>None</th>\n",
       "      <th>accum</th>\n",
       "      <th>time</th>\n",
       "    </tr>\n",
       "  </thead>\n",
       "  <tbody>\n",
       "    <tr>\n",
       "      <td>0</td>\n",
       "      <td>0.060577</td>\n",
       "      <td>0.077482</td>\n",
       "      <td>0.973389</td>\n",
       "      <td>0.960618</td>\n",
       "      <td>0.077482</td>\n",
       "      <td>0.076293</td>\n",
       "      <td>00:11</td>\n",
       "    </tr>\n",
       "    <tr>\n",
       "      <td>1</td>\n",
       "      <td>0.062870</td>\n",
       "      <td>0.071571</td>\n",
       "      <td>0.975952</td>\n",
       "      <td>0.959170</td>\n",
       "      <td>0.071571</td>\n",
       "      <td>0.071305</td>\n",
       "      <td>00:11</td>\n",
       "    </tr>\n",
       "    <tr>\n",
       "      <td>2</td>\n",
       "      <td>0.060341</td>\n",
       "      <td>0.073200</td>\n",
       "      <td>0.975630</td>\n",
       "      <td>0.958894</td>\n",
       "      <td>0.073200</td>\n",
       "      <td>0.073180</td>\n",
       "      <td>00:11</td>\n",
       "    </tr>\n",
       "    <tr>\n",
       "      <td>3</td>\n",
       "      <td>0.055940</td>\n",
       "      <td>0.069958</td>\n",
       "      <td>0.976205</td>\n",
       "      <td>0.960204</td>\n",
       "      <td>0.069958</td>\n",
       "      <td>0.069388</td>\n",
       "      <td>00:11</td>\n",
       "    </tr>\n",
       "    <tr>\n",
       "      <td>4</td>\n",
       "      <td>0.058380</td>\n",
       "      <td>0.068828</td>\n",
       "      <td>0.976711</td>\n",
       "      <td>0.961101</td>\n",
       "      <td>0.068828</td>\n",
       "      <td>0.068504</td>\n",
       "      <td>00:11</td>\n",
       "    </tr>\n",
       "  </tbody>\n",
       "</table>"
      ],
      "text/plain": [
       "<IPython.core.display.HTML object>"
      ]
     },
     "metadata": {},
     "output_type": "display_data"
    }
   ],
   "source": [
    "learn.fit_one_cycle(5, 1e-2)"
   ]
  },
  {
   "cell_type": "code",
   "execution_count": 37,
   "metadata": {
    "hidden": true
   },
   "outputs": [
    {
     "data": {
      "text/html": [
       "<table border=\"1\" class=\"dataframe\">\n",
       "  <thead>\n",
       "    <tr style=\"text-align: left;\">\n",
       "      <th>epoch</th>\n",
       "      <th>train_loss</th>\n",
       "      <th>valid_loss</th>\n",
       "      <th>accuracy_multi</th>\n",
       "      <th>accuracy_any</th>\n",
       "      <th>None</th>\n",
       "      <th>accum</th>\n",
       "      <th>time</th>\n",
       "    </tr>\n",
       "  </thead>\n",
       "  <tbody>\n",
       "    <tr>\n",
       "      <td>0</td>\n",
       "      <td>0.063583</td>\n",
       "      <td>0.077152</td>\n",
       "      <td>0.973803</td>\n",
       "      <td>0.960135</td>\n",
       "      <td>0.077152</td>\n",
       "      <td>0.075655</td>\n",
       "      <td>00:12</td>\n",
       "    </tr>\n",
       "    <tr>\n",
       "      <td>1</td>\n",
       "      <td>0.062399</td>\n",
       "      <td>0.070169</td>\n",
       "      <td>0.976228</td>\n",
       "      <td>0.961170</td>\n",
       "      <td>0.070169</td>\n",
       "      <td>0.069754</td>\n",
       "      <td>00:11</td>\n",
       "    </tr>\n",
       "    <tr>\n",
       "      <td>2</td>\n",
       "      <td>0.060438</td>\n",
       "      <td>0.070341</td>\n",
       "      <td>0.976768</td>\n",
       "      <td>0.961653</td>\n",
       "      <td>0.070341</td>\n",
       "      <td>0.070136</td>\n",
       "      <td>00:11</td>\n",
       "    </tr>\n",
       "    <tr>\n",
       "      <td>3</td>\n",
       "      <td>0.058490</td>\n",
       "      <td>0.068444</td>\n",
       "      <td>0.976837</td>\n",
       "      <td>0.961446</td>\n",
       "      <td>0.068444</td>\n",
       "      <td>0.068299</td>\n",
       "      <td>00:11</td>\n",
       "    </tr>\n",
       "    <tr>\n",
       "      <td>4</td>\n",
       "      <td>0.055634</td>\n",
       "      <td>0.069772</td>\n",
       "      <td>0.976619</td>\n",
       "      <td>0.960687</td>\n",
       "      <td>0.069772</td>\n",
       "      <td>0.069392</td>\n",
       "      <td>00:11</td>\n",
       "    </tr>\n",
       "  </tbody>\n",
       "</table>"
      ],
      "text/plain": [
       "<IPython.core.display.HTML object>"
      ]
     },
     "metadata": {},
     "output_type": "display_data"
    }
   ],
   "source": [
    "learn.fit_one_cycle(5, 1e-2)"
   ]
  },
  {
   "cell_type": "code",
   "execution_count": 38,
   "metadata": {
    "hidden": true
   },
   "outputs": [
    {
     "data": {
      "text/html": [
       "<table border=\"1\" class=\"dataframe\">\n",
       "  <thead>\n",
       "    <tr style=\"text-align: left;\">\n",
       "      <th>epoch</th>\n",
       "      <th>train_loss</th>\n",
       "      <th>valid_loss</th>\n",
       "      <th>accuracy_multi</th>\n",
       "      <th>accuracy_any</th>\n",
       "      <th>None</th>\n",
       "      <th>accum</th>\n",
       "      <th>time</th>\n",
       "    </tr>\n",
       "  </thead>\n",
       "  <tbody>\n",
       "    <tr>\n",
       "      <td>0</td>\n",
       "      <td>0.057431</td>\n",
       "      <td>0.069954</td>\n",
       "      <td>0.976389</td>\n",
       "      <td>0.959859</td>\n",
       "      <td>0.069954</td>\n",
       "      <td>0.069656</td>\n",
       "      <td>00:12</td>\n",
       "    </tr>\n",
       "    <tr>\n",
       "      <td>1</td>\n",
       "      <td>0.057479</td>\n",
       "      <td>0.070082</td>\n",
       "      <td>0.976159</td>\n",
       "      <td>0.959239</td>\n",
       "      <td>0.070082</td>\n",
       "      <td>0.069847</td>\n",
       "      <td>00:12</td>\n",
       "    </tr>\n",
       "    <tr>\n",
       "      <td>2</td>\n",
       "      <td>0.058718</td>\n",
       "      <td>0.069226</td>\n",
       "      <td>0.976803</td>\n",
       "      <td>0.961721</td>\n",
       "      <td>0.069226</td>\n",
       "      <td>0.068843</td>\n",
       "      <td>00:11</td>\n",
       "    </tr>\n",
       "    <tr>\n",
       "      <td>3</td>\n",
       "      <td>0.057396</td>\n",
       "      <td>0.069076</td>\n",
       "      <td>0.976573</td>\n",
       "      <td>0.961515</td>\n",
       "      <td>0.069076</td>\n",
       "      <td>0.068915</td>\n",
       "      <td>00:11</td>\n",
       "    </tr>\n",
       "    <tr>\n",
       "      <td>4</td>\n",
       "      <td>0.057621</td>\n",
       "      <td>0.069314</td>\n",
       "      <td>0.976757</td>\n",
       "      <td>0.961032</td>\n",
       "      <td>0.069314</td>\n",
       "      <td>0.068893</td>\n",
       "      <td>00:11</td>\n",
       "    </tr>\n",
       "  </tbody>\n",
       "</table>"
      ],
      "text/plain": [
       "<IPython.core.display.HTML object>"
      ]
     },
     "metadata": {},
     "output_type": "display_data"
    }
   ],
   "source": [
    "learn.fit_one_cycle(5, 1e-3)"
   ]
  },
  {
   "cell_type": "markdown",
   "metadata": {
    "heading_collapsed": true
   },
   "source": [
    "## GBM"
   ]
  },
  {
   "cell_type": "code",
   "execution_count": 18,
   "metadata": {
    "hidden": true
   },
   "outputs": [],
   "source": [
    "from sklearn.multioutput import MultiOutputClassifier\n",
    "from sklearn.experimental import enable_hist_gradient_boosting\n",
    "from sklearn.ensemble import HistGradientBoostingClassifier"
   ]
  },
  {
   "cell_type": "code",
   "execution_count": 19,
   "metadata": {
    "hidden": true
   },
   "outputs": [
    {
     "data": {
      "text/plain": [
       "0.9146148010207601"
      ]
     },
     "execution_count": 19,
     "metadata": {},
     "output_type": "execute_result"
    }
   ],
   "source": [
    "clf = HistGradientBoostingClassifier(\n",
    "    learning_rate=0.05,\n",
    "    max_iter=100,\n",
    "    max_leaf_nodes=31,\n",
    "    min_samples_leaf=2000,\n",
    "    max_depth=4,\n",
    "    l2_regularization=1.0,\n",
    "    loss='binary_crossentropy',\n",
    "    verbose=1,\n",
    ")\n",
    "mreg = MultiOutputClassifier(clf, n_jobs=16)\n",
    "reg = mreg.fit(xet, yet)\n",
    "reg.score(xev, yev)"
   ]
  },
  {
   "cell_type": "code",
   "execution_count": 20,
   "metadata": {
    "hidden": true
   },
   "outputs": [
    {
     "data": {
      "text/plain": [
       "(tensor(0.0680, device='cuda:6'), tensor(0.9767, device='cuda:6'))"
      ]
     },
     "execution_count": 20,
     "metadata": {},
     "output_type": "execute_result"
    }
   ],
   "source": [
    "vp = [o[:,1] for o in reg.predict_proba(xev)]\n",
    "vps = np.stack(vp, axis=1)\n",
    "p = to_device(logit(tensor(vps)))\n",
    "lf2(p, yev_t.float()),accuracy_multi(p, yev_t.float())"
   ]
  },
  {
   "cell_type": "code",
   "execution_count": 21,
   "metadata": {
    "hidden": true
   },
   "outputs": [
    {
     "data": {
      "text/plain": [
       "     fun: tensor(0.0680)\n",
       " message: 'Solution found.'\n",
       "    nfev: 10\n",
       "  status: 0\n",
       " success: True\n",
       "       x: tensor(0.9880)"
      ]
     },
     "execution_count": 21,
     "metadata": {},
     "output_type": "execute_result"
    }
   ],
   "source": [
    "opt_val_loss(p,yev_t.float(), full=True)"
   ]
  },
  {
   "cell_type": "markdown",
   "metadata": {},
   "source": [
    "## Submit GBM"
   ]
  },
  {
   "cell_type": "code",
   "execution_count": 24,
   "metadata": {},
   "outputs": [],
   "source": [
    "from slice_e2e_test import *\n",
    "pd.options.display.max_rows = 999"
   ]
  },
  {
   "cell_type": "code",
   "execution_count": 25,
   "metadata": {},
   "outputs": [],
   "source": [
    "# df_sids = pd.DataFrame(sids).set_index(0)\n",
    "# df_slices = df_sids.merge(df, left_index=True, right_index=True).reset_index().set_index('SOPInstanceUID')"
   ]
  },
  {
   "cell_type": "code",
   "execution_count": 26,
   "metadata": {},
   "outputs": [],
   "source": [
    "dl = dls.valid\n",
    "osids = L(dl).itemgot(0).map(list)\n",
    "ssids = L(sum(osids,[]))\n",
    "df2 = pd.DataFrame(ssids).set_index(0)"
   ]
  },
  {
   "cell_type": "code",
   "execution_count": 27,
   "metadata": {},
   "outputs": [],
   "source": [
    "pres = '''train_rn18_all-e2e rn18_wgtd_freeze2-e2e train_rn18-e2e\n",
    "    rn18_wgtd-e2e-fr train_rn34-e2e-fr xrn34_wgtd_deep-e2e-fr'''.split()\n",
    "\n",
    "all_preds = [(path_pred_test/f'{pre}.pkl'     ).load() for pre in pres]\n",
    "flp_preds = [(path_pred_test/f'{pre}-flip.pkl').load() for pre in pres]\n",
    "flp_avg = list((torch.stack(all_preds)+torch.stack(flp_preds))/2)\n",
    "cat_preds = torch.cat(flp_avg, dim=1)"
   ]
  },
  {
   "cell_type": "code",
   "execution_count": 28,
   "metadata": {},
   "outputs": [],
   "source": [
    "xev = to_np(cat_preds)"
   ]
  },
  {
   "cell_type": "code",
   "execution_count": 29,
   "metadata": {},
   "outputs": [],
   "source": [
    "vp = [o[:,1] for o in reg.predict_proba(xev)]\n",
    "vps = np.stack(vp, axis=1)"
   ]
  },
  {
   "cell_type": "code",
   "execution_count": 30,
   "metadata": {},
   "outputs": [],
   "source": [
    "a=1e-5\n",
    "avg_pred = tensor(vps).clamp(a,1-a)"
   ]
  },
  {
   "cell_type": "code",
   "execution_count": 48,
   "metadata": {},
   "outputs": [],
   "source": [
    "p = (logit(tensor(vps))*optx).sigmoid()\n",
    "a=1e-7\n",
    "avg_pred = p.clamp(a,1-a)"
   ]
  },
  {
   "cell_type": "code",
   "execution_count": 49,
   "metadata": {},
   "outputs": [],
   "source": [
    "dfc = submission(df2, avg_pred, fn='lin-noclamp-opt')"
   ]
  },
  {
   "cell_type": "code",
   "execution_count": 50,
   "metadata": {},
   "outputs": [
    {
     "data": {
      "image/png": "[encoded data removed]",
      "text/plain": [
       "<Figure size 432x288 with 1 Axes>"
      ]
     },
     "metadata": {
      "needs_background": "light"
     },
     "output_type": "display_data"
    }
   ],
   "source": [
    "prev = pd.read_csv('clamp-final.csv')\n",
    "dfc.Label = dfc.Label.astype(np.float)\n",
    "plt.scatter(dfc.Label[:4000], prev.Label[:4000], alpha=0.5, s=1);"
   ]
  },
  {
   "cell_type": "code",
   "execution_count": null,
   "metadata": {},
   "outputs": [],
   "source": []
  },
  {
   "cell_type": "markdown",
   "metadata": {
    "heading_collapsed": true
   },
   "source": [
    "## RF"
   ]
  },
  {
   "cell_type": "code",
   "execution_count": 122,
   "metadata": {
    "hidden": true
   },
   "outputs": [],
   "source": [
    "from sklearn.multioutput import MultiOutputClassifier\n",
    "from sklearn.ensemble import RandomForestClassifier"
   ]
  },
  {
   "cell_type": "code",
   "execution_count": null,
   "metadata": {
    "hidden": true
   },
   "outputs": [],
   "source": [
    "%%time\n",
    "clf = RandomForestClassifier(\n",
    "    oob_score=True,\n",
    "    n_jobs=32,\n",
    "    n_estimators=30,\n",
    "    min_samples_leaf=20,\n",
    "    max_features=0.9,\n",
    "    min_samples_split=5,\n",
    ")\n",
    "mreg = MultiOutputClassifier(clf, n_jobs=1)\n",
    "reg = mreg.fit(xet, yet)"
   ]
  },
  {
   "cell_type": "code",
   "execution_count": 135,
   "metadata": {
    "hidden": true
   },
   "outputs": [],
   "source": [
    "clf = RandomForestClassifier(n_estimators=400, min_samples_leaf=10, max_features=0.8, n_jobs=32, oob_score=True)"
   ]
  },
  {
   "cell_type": "code",
   "execution_count": 136,
   "metadata": {
    "hidden": true
   },
   "outputs": [],
   "source": [
    "reg = clf.fit(xet, yet)"
   ]
  },
  {
   "cell_type": "code",
   "execution_count": 138,
   "metadata": {
    "hidden": true
   },
   "outputs": [
    {
     "data": {
      "text/plain": [
       "0.9828121507504267"
      ]
     },
     "execution_count": 138,
     "metadata": {},
     "output_type": "execute_result"
    }
   ],
   "source": [
    "reg.oob_score_"
   ]
  },
  {
   "cell_type": "code",
   "execution_count": 133,
   "metadata": {
    "hidden": true
   },
   "outputs": [
    {
     "data": {
      "text/plain": [
       "(tensor(0.0751, device='cuda:6'), tensor(0.9763, device='cuda:6'))"
      ]
     },
     "execution_count": 133,
     "metadata": {},
     "output_type": "execute_result"
    }
   ],
   "source": [
    "vp = [o[:,1] for o in reg.predict_proba(xev)]\n",
    "vps = np.stack(vp, axis=1)\n",
    "p = to_device(logit(tensor(vps)))\n",
    "lf2(p, yev_t.float()),accuracy_multi(p, yev_t.float())"
   ]
  },
  {
   "cell_type": "code",
   "execution_count": 139,
   "metadata": {
    "hidden": true
   },
   "outputs": [
    {
     "data": {
      "text/plain": [
       "(tensor(0.0715, device='cuda:6'), tensor(0.9762, device='cuda:6'))"
      ]
     },
     "execution_count": 139,
     "metadata": {},
     "output_type": "execute_result"
    }
   ],
   "source": [
    "vp = [o[:,1] for o in reg.predict_proba(xev)]\n",
    "vps = np.stack(vp, axis=1)\n",
    "p = to_device(logit(tensor(vps)))\n",
    "lf2(p, yev_t.float()),accuracy_multi(p, yev_t.float())"
   ]
  },
  {
   "cell_type": "code",
   "execution_count": 140,
   "metadata": {
    "hidden": true
   },
   "outputs": [
    {
     "data": {
      "text/plain": [
       "     fun: tensor(0.0712)\n",
       " message: 'Solution found.'\n",
       "    nfev: 9\n",
       "  status: 0\n",
       " success: True\n",
       "       x: tensor(0.9223)"
      ]
     },
     "execution_count": 140,
     "metadata": {},
     "output_type": "execute_result"
    }
   ],
   "source": [
    "opt_val_loss(p,yev_t.float(), full=True)"
   ]
  },
  {
   "cell_type": "code",
   "execution_count": null,
   "metadata": {
    "hidden": true
   },
   "outputs": [],
   "source": []
  }
 ],
 "metadata": {
  "kernelspec": {
   "display_name": "Python 3",
   "language": "python",
   "name": "python3"
  },
  "language_info": {
   "codemirror_mode": {
    "name": "ipython",
    "version": 3
   },
   "file_extension": ".py",
   "mimetype": "text/x-python",
   "name": "python",
   "nbconvert_exporter": "python",
   "pygments_lexer": "ipython3",
   "version": "3.7.4"
  },
  "toc": {
   "base_numbering": 1,
   "nav_menu": {},
   "number_sections": true,
   "sideBar": true,
   "skip_h1_title": false,
   "title_cell": "Table of Contents",
   "title_sidebar": "Contents",
   "toc_cell": false,
   "toc_position": {},
   "toc_section_display": true,
   "toc_window_display": false
  }
 },
 "nbformat": 4,
 "nbformat_minor": 2
}

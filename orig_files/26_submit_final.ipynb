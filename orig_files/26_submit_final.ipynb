{
 "cells": [
  {
   "cell_type": "markdown",
   "metadata": {},
   "source": [
    "## Setup"
   ]
  },
  {
   "cell_type": "code",
   "execution_count": 2,
   "metadata": {},
   "outputs": [],
   "source": [
    "import torch\n",
    "torch.cuda.set_device(5)\n",
    "\n",
    "from slice_e2e_test import *\n",
    "pd.options.display.max_rows = 999"
   ]
  },
  {
   "cell_type": "code",
   "execution_count": 3,
   "metadata": {},
   "outputs": [],
   "source": [
    "df_sids = pd.DataFrame(sids).set_index(0)\n",
    "df_slices = df_sids.merge(df, left_index=True, right_index=True).reset_index().set_index('SOPInstanceUID')"
   ]
  },
  {
   "cell_type": "code",
   "execution_count": 4,
   "metadata": {},
   "outputs": [],
   "source": [
    "dl = dbunch.valid_dl\n",
    "osids = L(dl).itemgot(0).map(list)\n",
    "ssids = L(sum(osids,[]))\n",
    "df2 = pd.DataFrame(ssids).set_index(0)"
   ]
  },
  {
   "cell_type": "code",
   "execution_count": 27,
   "metadata": {},
   "outputs": [],
   "source": [
    "pres = '''train_rn18_all-e2e rn18_wgtd_freeze2-e2e train_rn18-e2e\n",
    "    rn18_wgtd-e2e-fr train_rn34-e2e-fr xrn34_wgtd_deep-e2e-fr'''.split()\n",
    "\n",
    "all_preds = [(path_pred_test/f'{pre}.pkl'     ).load() for pre in pres]\n",
    "flp_preds = [(path_pred_test/f'{pre}-flip.pkl').load() for pre in pres]"
   ]
  },
  {
   "cell_type": "code",
   "execution_count": 65,
   "metadata": {},
   "outputs": [],
   "source": [
    "avg_pred = torch.stack(all_preds+flp_preds).mean(0).sigmoid()"
   ]
  },
  {
   "cell_type": "code",
   "execution_count": 31,
   "metadata": {},
   "outputs": [],
   "source": [
    "a=1e-7\n",
    "avg_pred = torch.stack(all_preds+flp_preds).mean(0).sigmoid().clamp(a,1-a)"
   ]
  },
  {
   "cell_type": "code",
   "execution_count": 33,
   "metadata": {},
   "outputs": [],
   "source": [
    "dfc = submission(df2, avg_pred, fn='noclamp-final')"
   ]
  },
  {
   "cell_type": "code",
   "execution_count": null,
   "metadata": {},
   "outputs": [],
   "source": []
  }
 ],
 "metadata": {
  "kernelspec": {
   "display_name": "Python 3",
   "language": "python",
   "name": "python3"
  },
  "language_info": {
   "codemirror_mode": {
    "name": "ipython",
    "version": 3
   },
   "file_extension": ".py",
   "mimetype": "text/x-python",
   "name": "python",
   "nbconvert_exporter": "python",
   "pygments_lexer": "ipython3",
   "version": "3.7.4"
  },
  "toc": {
   "base_numbering": 1,
   "nav_menu": {},
   "number_sections": true,
   "sideBar": true,
   "skip_h1_title": false,
   "title_cell": "Table of Contents",
   "title_sidebar": "Contents",
   "toc_cell": false,
   "toc_position": {},
   "toc_section_display": true,
   "toc_window_display": false
  }
 },
 "nbformat": 4,
 "nbformat_minor": 2
}

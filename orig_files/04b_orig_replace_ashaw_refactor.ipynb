{
 "cells": [
  {
   "cell_type": "code",
   "execution_count": 1,
   "metadata": {},
   "outputs": [],
   "source": [
    "import torch\n",
    "from fastai2.basics           import *\n",
    "from fastai2.vision.all       import *\n",
    "from fastai2.medical.imaging  import *\n",
    "from fastai2.callback.tracker import *\n",
    "from fastai2.callback.all     import *\n",
    "torch.cuda.set_device(2)"
   ]
  },
  {
   "cell_type": "code",
   "execution_count": 2,
   "metadata": {
    "_cell_guid": "b1076dfc-b9ad-4769-8c92-a6c4dae69d19",
    "_uuid": "8f2839f25d086af736a60e9eeb907d3b93b6e0e5"
   },
   "outputs": [],
   "source": [
    "# from rsnautils import *\n",
    "\n",
    "nw = 8\n",
    "pre = 'rn34_repl'"
   ]
  },
  {
   "cell_type": "markdown",
   "metadata": {},
   "source": [
    "## Pretrain on sample"
   ]
  },
  {
   "cell_type": "code",
   "execution_count": 3,
   "metadata": {},
   "outputs": [
    {
     "ename": "NameError",
     "evalue": "name 'df_comb' is not defined",
     "output_type": "error",
     "traceback": [
      "\u001b[0;31m---------------------------------------------------------------------------\u001b[0m",
      "\u001b[0;31mNameError\u001b[0m                                 Traceback (most recent call last)",
      "\u001b[0;32m<ipython-input-3-5679c0a20efd>\u001b[0m in \u001b[0;36m<module>\u001b[0;34m\u001b[0m\n\u001b[0;32m----> 1\u001b[0;31m \u001b[0mfns\u001b[0m \u001b[0;34m=\u001b[0m \u001b[0mL\u001b[0m\u001b[0;34m(\u001b[0m\u001b[0mlist\u001b[0m\u001b[0;34m(\u001b[0m\u001b[0mdf_comb\u001b[0m\u001b[0;34m.\u001b[0m\u001b[0mfname\u001b[0m\u001b[0;34m)\u001b[0m\u001b[0;34m)\u001b[0m\u001b[0;34m.\u001b[0m\u001b[0mmap\u001b[0m\u001b[0;34m(\u001b[0m\u001b[0mfilename\u001b[0m\u001b[0;34m)\u001b[0m\u001b[0;34m\u001b[0m\u001b[0;34m\u001b[0m\u001b[0m\n\u001b[0m\u001b[1;32m      2\u001b[0m \u001b[0mfn\u001b[0m \u001b[0;34m=\u001b[0m \u001b[0mfns\u001b[0m\u001b[0;34m[\u001b[0m\u001b[0;36m0\u001b[0m\u001b[0;34m]\u001b[0m\u001b[0;34m\u001b[0m\u001b[0;34m\u001b[0m\u001b[0m\n\u001b[1;32m      3\u001b[0m \u001b[0mfn\u001b[0m\u001b[0;34m\u001b[0m\u001b[0;34m\u001b[0m\u001b[0m\n",
      "\u001b[0;31mNameError\u001b[0m: name 'df_comb' is not defined"
     ]
    }
   ],
   "source": [
    "fns = L(list(df_comb.fname)).map(filename)\n",
    "fn = fns[0]\n",
    "fn"
   ]
  },
  {
   "cell_type": "code",
   "execution_count": 6,
   "metadata": {},
   "outputs": [
    {
     "ename": "NameError",
     "evalue": "name 'split_data' is not defined",
     "output_type": "error",
     "traceback": [
      "\u001b[0;31m---------------------------------------------------------------------------\u001b[0m",
      "\u001b[0;31mNameError\u001b[0m                                 Traceback (most recent call last)",
      "\u001b[0;32m<ipython-input-6-168f9a078dc9>\u001b[0m in \u001b[0;36m<module>\u001b[0;34m\u001b[0m\n\u001b[0;32m----> 1\u001b[0;31m \u001b[0msplits\u001b[0m \u001b[0;34m=\u001b[0m \u001b[0msplit_data\u001b[0m\u001b[0;34m(\u001b[0m\u001b[0mdf_comb\u001b[0m\u001b[0;34m,\u001b[0m\u001b[0;36m0\u001b[0m\u001b[0;34m)\u001b[0m\u001b[0;34m\u001b[0m\u001b[0;34m\u001b[0m\u001b[0m\n\u001b[0m",
      "\u001b[0;31mNameError\u001b[0m: name 'split_data' is not defined"
     ]
    }
   ],
   "source": [
    "splits = split_data(df_comb,0)"
   ]
  },
  {
   "cell_type": "code",
   "execution_count": 5,
   "metadata": {},
   "outputs": [],
   "source": [
    "def get_data(bs,sz): return get_data_pil(fns, bs, splits=splits, sz=sz, use_hist=False)"
   ]
  },
  {
   "cell_type": "code",
   "execution_count": 6,
   "metadata": {
    "scrolled": true
   },
   "outputs": [
    {
     "data": {
      "text/plain": [
       "(tensor(-0.1214), tensor(0.9939), torch.Size([512, 3, 128, 128]), 1053)"
      ]
     },
     "execution_count": 6,
     "metadata": {},
     "output_type": "execute_result"
    }
   ],
   "source": [
    "dbch = get_data(512, sz=128)\n",
    "xb,yb = to_cpu(dbch.one_batch())\n",
    "# dbch.show_batch(max_n=4, figsize=(9,6))\n",
    "xb.mean(),xb.std(),xb.shape,len(dbch.train_dl)"
   ]
  },
  {
   "cell_type": "code",
   "execution_count": 7,
   "metadata": {},
   "outputs": [
    {
     "data": {
      "image/png": "[encoded data removed]",
      "text/plain": [
       "<Figure size 864x288 with 3 Axes>"
      ]
     },
     "metadata": {
      "needs_background": "light"
     },
     "output_type": "display_data"
    }
   ],
   "source": [
    "show_images(xb[0])"
   ]
  },
  {
   "cell_type": "code",
   "execution_count": 8,
   "metadata": {},
   "outputs": [],
   "source": [
    "loss_func = get_loss()"
   ]
  },
  {
   "cell_type": "code",
   "execution_count": 9,
   "metadata": {},
   "outputs": [],
   "source": [
    "def get_learner(lf=loss_func, fp16=True):\n",
    "    learn = cnn_learner(dbch, resnet34, pretrained=False, loss_func=lf, opt_func=opt_func, metrics=metrics)\n",
    "    if fp16: learn = learn.to_fp16()\n",
    "    return learn"
   ]
  },
  {
   "cell_type": "code",
   "execution_count": 10,
   "metadata": {
    "scrolled": false
   },
   "outputs": [],
   "source": [
    "def fit_tune(bs, sz, epochs, lr):\n",
    "    learn.dbunch = get_data(bs, sz)\n",
    "    do_fit(learn, epochs, lr, freeze=False)"
   ]
  },
  {
   "cell_type": "code",
   "execution_count": 11,
   "metadata": {},
   "outputs": [],
   "source": [
    "learn = get_learner()\n",
    "#TODO same thing for single label clas\n",
    "learn.model[1][8].bias.data = to_device(logit(avg_lbls))"
   ]
  },
  {
   "cell_type": "code",
   "execution_count": 11,
   "metadata": {},
   "outputs": [
    {
     "data": {
      "text/html": [
       "<table border=\"1\" class=\"dataframe\">\n",
       "  <thead>\n",
       "    <tr style=\"text-align: left;\">\n",
       "      <th>epoch</th>\n",
       "      <th>train_loss</th>\n",
       "      <th>valid_loss</th>\n",
       "      <th>accuracy_multi</th>\n",
       "      <th>accuracy_any</th>\n",
       "      <th>time</th>\n",
       "    </tr>\n",
       "  </thead>\n",
       "  <tbody>\n",
       "    <tr>\n",
       "      <td>0</td>\n",
       "      <td>0.140949</td>\n",
       "      <td>0.160142</td>\n",
       "      <td>0.951221</td>\n",
       "      <td>0.904317</td>\n",
       "      <td>08:39</td>\n",
       "    </tr>\n",
       "    <tr>\n",
       "      <td>1</td>\n",
       "      <td>0.129881</td>\n",
       "      <td>0.129937</td>\n",
       "      <td>0.960162</td>\n",
       "      <td>0.923674</td>\n",
       "      <td>08:57</td>\n",
       "    </tr>\n",
       "    <tr>\n",
       "      <td>2</td>\n",
       "      <td>0.128108</td>\n",
       "      <td>0.127426</td>\n",
       "      <td>0.961704</td>\n",
       "      <td>0.922725</td>\n",
       "      <td>09:11</td>\n",
       "    </tr>\n",
       "    <tr>\n",
       "      <td>3</td>\n",
       "      <td>0.121263</td>\n",
       "      <td>0.131080</td>\n",
       "      <td>0.957745</td>\n",
       "      <td>0.922717</td>\n",
       "      <td>09:07</td>\n",
       "    </tr>\n",
       "    <tr>\n",
       "      <td>4</td>\n",
       "      <td>0.120499</td>\n",
       "      <td>0.121601</td>\n",
       "      <td>0.962020</td>\n",
       "      <td>0.924520</td>\n",
       "      <td>09:10</td>\n",
       "    </tr>\n",
       "    <tr>\n",
       "      <td>5</td>\n",
       "      <td>0.117910</td>\n",
       "      <td>0.126844</td>\n",
       "      <td>0.955621</td>\n",
       "      <td>0.883379</td>\n",
       "      <td>09:11</td>\n",
       "    </tr>\n",
       "    <tr>\n",
       "      <td>6</td>\n",
       "      <td>0.115781</td>\n",
       "      <td>0.128989</td>\n",
       "      <td>0.958260</td>\n",
       "      <td>0.914860</td>\n",
       "      <td>09:06</td>\n",
       "    </tr>\n",
       "    <tr>\n",
       "      <td>7</td>\n",
       "      <td>0.113933</td>\n",
       "      <td>0.113083</td>\n",
       "      <td>0.963737</td>\n",
       "      <td>0.921708</td>\n",
       "      <td>08:47</td>\n",
       "    </tr>\n",
       "    <tr>\n",
       "      <td>8</td>\n",
       "      <td>0.111369</td>\n",
       "      <td>0.115241</td>\n",
       "      <td>0.962047</td>\n",
       "      <td>0.918288</td>\n",
       "      <td>08:53</td>\n",
       "    </tr>\n",
       "    <tr>\n",
       "      <td>9</td>\n",
       "      <td>0.109899</td>\n",
       "      <td>0.117833</td>\n",
       "      <td>0.963737</td>\n",
       "      <td>0.924194</td>\n",
       "      <td>08:54</td>\n",
       "    </tr>\n",
       "    <tr>\n",
       "      <td>10</td>\n",
       "      <td>0.109030</td>\n",
       "      <td>0.106422</td>\n",
       "      <td>0.967257</td>\n",
       "      <td>0.934529</td>\n",
       "      <td>08:58</td>\n",
       "    </tr>\n",
       "    <tr>\n",
       "      <td>11</td>\n",
       "      <td>0.102349</td>\n",
       "      <td>0.107472</td>\n",
       "      <td>0.965541</td>\n",
       "      <td>0.922955</td>\n",
       "      <td>08:58</td>\n",
       "    </tr>\n",
       "    <tr>\n",
       "      <td>12</td>\n",
       "      <td>0.102263</td>\n",
       "      <td>0.100286</td>\n",
       "      <td>0.968548</td>\n",
       "      <td>0.934344</td>\n",
       "      <td>09:08</td>\n",
       "    </tr>\n",
       "    <tr>\n",
       "      <td>13</td>\n",
       "      <td>0.097383</td>\n",
       "      <td>0.101307</td>\n",
       "      <td>0.967719</td>\n",
       "      <td>0.933706</td>\n",
       "      <td>09:05</td>\n",
       "    </tr>\n",
       "    <tr>\n",
       "      <td>14</td>\n",
       "      <td>0.092782</td>\n",
       "      <td>0.095692</td>\n",
       "      <td>0.970461</td>\n",
       "      <td>0.940539</td>\n",
       "      <td>08:49</td>\n",
       "    </tr>\n",
       "    <tr>\n",
       "      <td>15</td>\n",
       "      <td>0.090122</td>\n",
       "      <td>0.094883</td>\n",
       "      <td>0.969396</td>\n",
       "      <td>0.934329</td>\n",
       "      <td>08:47</td>\n",
       "    </tr>\n",
       "    <tr>\n",
       "      <td>16</td>\n",
       "      <td>0.083223</td>\n",
       "      <td>0.090842</td>\n",
       "      <td>0.971985</td>\n",
       "      <td>0.944383</td>\n",
       "      <td>08:43</td>\n",
       "    </tr>\n",
       "    <tr>\n",
       "      <td>17</td>\n",
       "      <td>0.081250</td>\n",
       "      <td>0.089238</td>\n",
       "      <td>0.973101</td>\n",
       "      <td>0.948560</td>\n",
       "      <td>08:27</td>\n",
       "    </tr>\n",
       "    <tr>\n",
       "      <td>18</td>\n",
       "      <td>0.076591</td>\n",
       "      <td>0.086774</td>\n",
       "      <td>0.973164</td>\n",
       "      <td>0.947091</td>\n",
       "      <td>08:52</td>\n",
       "    </tr>\n",
       "    <tr>\n",
       "      <td>19</td>\n",
       "      <td>0.074819</td>\n",
       "      <td>0.086550</td>\n",
       "      <td>0.973113</td>\n",
       "      <td>0.946683</td>\n",
       "      <td>08:37</td>\n",
       "    </tr>\n",
       "  </tbody>\n",
       "</table>"
      ],
      "text/plain": [
       "<IPython.core.display.HTML object>"
      ]
     },
     "metadata": {},
     "output_type": "display_data"
    }
   ],
   "source": [
    "fit_tune(256, 128, 20, 3e-2)\n",
    "learn.save(f'{pre}a1')"
   ]
  },
  {
   "cell_type": "code",
   "execution_count": 12,
   "metadata": {
    "collapsed": true
   },
   "outputs": [
    {
     "data": {
      "text/html": [
       "<table border=\"1\" class=\"dataframe\">\n",
       "  <thead>\n",
       "    <tr style=\"text-align: left;\">\n",
       "      <th>epoch</th>\n",
       "      <th>train_loss</th>\n",
       "      <th>valid_loss</th>\n",
       "      <th>accuracy_multi</th>\n",
       "      <th>accuracy_any</th>\n",
       "      <th>time</th>\n",
       "    </tr>\n",
       "  </thead>\n",
       "  <tbody>\n",
       "    <tr>\n",
       "      <td>0</td>\n",
       "      <td>0.080579</td>\n",
       "      <td>0.086997</td>\n",
       "      <td>0.973294</td>\n",
       "      <td>0.948975</td>\n",
       "      <td>12:47</td>\n",
       "    </tr>\n",
       "    <tr>\n",
       "      <td>1</td>\n",
       "      <td>0.079565</td>\n",
       "      <td>0.089957</td>\n",
       "      <td>0.973186</td>\n",
       "      <td>0.949079</td>\n",
       "      <td>12:44</td>\n",
       "    </tr>\n",
       "    <tr>\n",
       "      <td>2</td>\n",
       "      <td>0.079729</td>\n",
       "      <td>0.087659</td>\n",
       "      <td>0.973282</td>\n",
       "      <td>0.950942</td>\n",
       "      <td>12:47</td>\n",
       "    </tr>\n",
       "    <tr>\n",
       "      <td>3</td>\n",
       "      <td>0.077453</td>\n",
       "      <td>0.084489</td>\n",
       "      <td>0.973992</td>\n",
       "      <td>0.950912</td>\n",
       "      <td>12:39</td>\n",
       "    </tr>\n",
       "    <tr>\n",
       "      <td>4</td>\n",
       "      <td>0.075205</td>\n",
       "      <td>0.081697</td>\n",
       "      <td>0.974669</td>\n",
       "      <td>0.950697</td>\n",
       "      <td>12:44</td>\n",
       "    </tr>\n",
       "    <tr>\n",
       "      <td>5</td>\n",
       "      <td>0.074030</td>\n",
       "      <td>0.082559</td>\n",
       "      <td>0.973924</td>\n",
       "      <td>0.949220</td>\n",
       "      <td>12:41</td>\n",
       "    </tr>\n",
       "    <tr>\n",
       "      <td>6</td>\n",
       "      <td>0.072317</td>\n",
       "      <td>0.081156</td>\n",
       "      <td>0.974223</td>\n",
       "      <td>0.948449</td>\n",
       "      <td>12:32</td>\n",
       "    </tr>\n",
       "    <tr>\n",
       "      <td>7</td>\n",
       "      <td>0.068380</td>\n",
       "      <td>0.078621</td>\n",
       "      <td>0.975030</td>\n",
       "      <td>0.950355</td>\n",
       "      <td>12:38</td>\n",
       "    </tr>\n",
       "    <tr>\n",
       "      <td>8</td>\n",
       "      <td>0.066935</td>\n",
       "      <td>0.078495</td>\n",
       "      <td>0.975304</td>\n",
       "      <td>0.951773</td>\n",
       "      <td>12:31</td>\n",
       "    </tr>\n",
       "    <tr>\n",
       "      <td>9</td>\n",
       "      <td>0.064214</td>\n",
       "      <td>0.078876</td>\n",
       "      <td>0.975550</td>\n",
       "      <td>0.952707</td>\n",
       "      <td>12:27</td>\n",
       "    </tr>\n",
       "  </tbody>\n",
       "</table>"
      ],
      "text/plain": [
       "<IPython.core.display.HTML object>"
      ]
     },
     "metadata": {},
     "output_type": "display_data"
    }
   ],
   "source": [
    "fit_tune(512, 224, 10, 6e-3)\n",
    "learn.save(f'{pre}a2')"
   ]
  },
  {
   "cell_type": "code",
   "execution_count": 13,
   "metadata": {},
   "outputs": [
    {
     "data": {
      "text/html": [
       "<table border=\"1\" class=\"dataframe\">\n",
       "  <thead>\n",
       "    <tr style=\"text-align: left;\">\n",
       "      <th>epoch</th>\n",
       "      <th>train_loss</th>\n",
       "      <th>valid_loss</th>\n",
       "      <th>accuracy_multi</th>\n",
       "      <th>accuracy_any</th>\n",
       "      <th>time</th>\n",
       "    </tr>\n",
       "  </thead>\n",
       "  <tbody>\n",
       "    <tr>\n",
       "      <td>0</td>\n",
       "      <td>0.078011</td>\n",
       "      <td>0.082457</td>\n",
       "      <td>0.972910</td>\n",
       "      <td>0.946104</td>\n",
       "      <td>33:03</td>\n",
       "    </tr>\n",
       "    <tr>\n",
       "      <td>1</td>\n",
       "      <td>0.074408</td>\n",
       "      <td>0.079043</td>\n",
       "      <td>0.975056</td>\n",
       "      <td>0.952285</td>\n",
       "      <td>33:00</td>\n",
       "    </tr>\n",
       "    <tr>\n",
       "      <td>2</td>\n",
       "      <td>0.068901</td>\n",
       "      <td>0.075658</td>\n",
       "      <td>0.975830</td>\n",
       "      <td>0.952752</td>\n",
       "      <td>33:09</td>\n",
       "    </tr>\n",
       "    <tr>\n",
       "      <td>3</td>\n",
       "      <td>0.063990</td>\n",
       "      <td>0.075248</td>\n",
       "      <td>0.975939</td>\n",
       "      <td>0.952626</td>\n",
       "      <td>33:24</td>\n",
       "    </tr>\n",
       "  </tbody>\n",
       "</table>"
      ],
      "text/plain": [
       "<IPython.core.display.HTML object>"
      ]
     },
     "metadata": {},
     "output_type": "display_data"
    }
   ],
   "source": [
    "fit_tune(256, 352, 4, 2e-3)\n",
    "learn.save(f'{pre}a3')"
   ]
  },
  {
   "cell_type": "code",
   "execution_count": 17,
   "metadata": {},
   "outputs": [
    {
     "data": {
      "text/html": [
       "<table border=\"1\" class=\"dataframe\">\n",
       "  <thead>\n",
       "    <tr style=\"text-align: left;\">\n",
       "      <th>epoch</th>\n",
       "      <th>train_loss</th>\n",
       "      <th>valid_loss</th>\n",
       "      <th>accuracy_multi</th>\n",
       "      <th>accuracy_any</th>\n",
       "      <th>time</th>\n",
       "    </tr>\n",
       "  </thead>\n",
       "  <tbody>\n",
       "    <tr>\n",
       "      <td>0</td>\n",
       "      <td>0.067253</td>\n",
       "      <td>0.078504</td>\n",
       "      <td>0.975445</td>\n",
       "      <td>0.952715</td>\n",
       "      <td>1:00:25</td>\n",
       "    </tr>\n",
       "    <tr>\n",
       "      <td>1</td>\n",
       "      <td>0.067149</td>\n",
       "      <td>0.077360</td>\n",
       "      <td>0.975505</td>\n",
       "      <td>0.952500</td>\n",
       "      <td>1:00:36</td>\n",
       "    </tr>\n",
       "    <tr>\n",
       "      <td>2</td>\n",
       "      <td>0.064889</td>\n",
       "      <td>0.076685</td>\n",
       "      <td>0.975693</td>\n",
       "      <td>0.952915</td>\n",
       "      <td>1:00:40</td>\n",
       "    </tr>\n",
       "  </tbody>\n",
       "</table>"
      ],
      "text/plain": [
       "<IPython.core.display.HTML object>"
      ]
     },
     "metadata": {},
     "output_type": "display_data"
    }
   ],
   "source": [
    "fit_tune(96, 512, 3, 1e-4)\n",
    "learn.save(f'{pre}a4')"
   ]
  },
  {
   "cell_type": "markdown",
   "metadata": {},
   "source": [
    "## Prepare for submission"
   ]
  },
  {
   "cell_type": "code",
   "execution_count": 12,
   "metadata": {},
   "outputs": [
    {
     "data": {
      "text/plain": [
       "<fastai2.learner.Learner at 0x7fe71abd8a50>"
      ]
     },
     "execution_count": 12,
     "metadata": {},
     "output_type": "execute_result"
    }
   ],
   "source": [
    "learn.dbunch = get_data(128, 352)\n",
    "learn.load(f'{pre}a3')"
   ]
  },
  {
   "cell_type": "code",
   "execution_count": 13,
   "metadata": {},
   "outputs": [],
   "source": [
    "path_tst = path/'tst_jpg'"
   ]
  },
  {
   "cell_type": "code",
   "execution_count": 14,
   "metadata": {},
   "outputs": [],
   "source": [
    "test_fns = [(path_tst/f'{filename(o)}.jpg').absolute() for o in df_tst.fname.values]\n",
    "fn = test_fns[0]"
   ]
  },
  {
   "cell_type": "code",
   "execution_count": 15,
   "metadata": {},
   "outputs": [
    {
     "data": {
      "text/plain": [
       "(tensor(-0.6667, device='cuda:5'),\n",
       " tensor(2.6667, device='cuda:5'),\n",
       " tensor(-0.1759, device='cuda:5'),\n",
       " tensor(0.9536, device='cuda:5'),\n",
       " torch.Size([256, 3, 352, 352]))"
      ]
     },
     "execution_count": 15,
     "metadata": {},
     "output_type": "execute_result"
    }
   ],
   "source": [
    "tst = test_dl(learn.dbunch, test_fns)\n",
    "x = tst.one_batch()[0]\n",
    "x.min(),x.max(),x.mean(),x.std(),x.shape"
   ]
  },
  {
   "cell_type": "code",
   "execution_count": 16,
   "metadata": {},
   "outputs": [
    {
     "data": {
      "image/png": "[encoded data removed]",
      "text/plain": [
       "<Figure size 864x288 with 3 Axes>"
      ]
     },
     "metadata": {
      "needs_background": "light"
     },
     "output_type": "display_data"
    }
   ],
   "source": [
    "show_images(x[0])"
   ]
  },
  {
   "cell_type": "code",
   "execution_count": 17,
   "metadata": {},
   "outputs": [
    {
     "data": {
      "text/html": [],
      "text/plain": [
       "<IPython.core.display.HTML object>"
      ]
     },
     "metadata": {},
     "output_type": "display_data"
    }
   ],
   "source": [
    "preds,targs = learn.get_preds(dl=tst)"
   ]
  },
  {
   "cell_type": "code",
   "execution_count": 56,
   "metadata": {},
   "outputs": [],
   "source": [
    "preds_scl = (logit(preds)*0.88).sigmoid()"
   ]
  },
  {
   "cell_type": "code",
   "execution_count": 57,
   "metadata": {},
   "outputs": [],
   "source": [
    "probs = preds_scl.clamp(1e-4,1-1e-4)"
   ]
  },
  {
   "cell_type": "code",
   "execution_count": 58,
   "metadata": {},
   "outputs": [],
   "source": [
    "def submission(df_tst, preds):\n",
    "    ids,labels = [],[]\n",
    "    for idx,pred in zip(df_tst.index, preds):\n",
    "        for i,label in enumerate(htypes):\n",
    "            ids.append(f\"{idx}_{label}\")\n",
    "            labels.append('{0:1.10f}'.format(pred[i].item()))\n",
    "    df_csv = pd.DataFrame({'ID': ids, 'Label': labels})\n",
    "    return df_csv"
   ]
  },
  {
   "cell_type": "code",
   "execution_count": 59,
   "metadata": {},
   "outputs": [],
   "source": [
    "pred_csv = submission(df_tst, probs)"
   ]
  },
  {
   "cell_type": "code",
   "execution_count": 18,
   "metadata": {},
   "outputs": [],
   "source": [
    "prev_csv = pd.read_csv('subm/subm_avg.csv')\n",
    "pred2_df = pred_csv.merge(prev_csv, on='ID')\n",
    "pred2_samp = pred2_df.sample(10000)\n",
    "np.corrcoef(pred2_samp.Label_x.astype(np.float64),pred2_samp.Label_y, rowvar=False)\n",
    "\n",
    "x,y = tensor(pred2_samp.Label_x.astype(np.float32)),tensor(pred2_samp.Label_y.astype(np.float32))\n",
    "plt.figure(figsize=(7,7))\n",
    "plt.scatter(logit(x),logit(y), s=1, alpha=0.3);"
   ]
  },
  {
   "cell_type": "code",
   "execution_count": 62,
   "metadata": {},
   "outputs": [],
   "source": [
    "nm = 'replace_ashaw_refactor_scl_088'\n",
    "pred_csv.to_csv(f'subm/{nm}.csv', index=False)"
   ]
  },
  {
   "cell_type": "code",
   "execution_count": 54,
   "metadata": {},
   "outputs": [
    {
     "data": {
      "text/html": [
       "<a href='subm/replace_ashaw_refactor.csv' target='_blank'>subm/replace_ashaw_refactor.csv</a><br>"
      ],
      "text/plain": [
       "/home/jhoward/git/rsna_brain/subm/replace_ashaw_refactor.csv"
      ]
     },
     "execution_count": 54,
     "metadata": {},
     "output_type": "execute_result"
    }
   ],
   "source": [
    "from IPython.display import FileLink, FileLinks\n",
    "FileLink(f'subm/{nm}.csv')"
   ]
  },
  {
   "cell_type": "code",
   "execution_count": 64,
   "metadata": {},
   "outputs": [
    {
     "name": "stderr",
     "output_type": "stream",
     "text": [
      "100%|██████████| 16.9M/16.9M [00:00<00:00, 5.78MB/s]\n"
     ]
    },
    {
     "data": {
      "text/plain": [
       "Successfully submitted to RSNA Intracranial Hemorrhage Detection"
      ]
     },
     "execution_count": 64,
     "metadata": {},
     "output_type": "execute_result"
    }
   ],
   "source": [
    "from kaggle import api\n",
    "api.competition_submit(f'subm/{nm}.csv', '0.0744,rn34_repl (scl 0.88)', 'rsna-intracranial-hemorrhage-detection')"
   ]
  },
  {
   "cell_type": "code",
   "execution_count": null,
   "metadata": {},
   "outputs": [],
   "source": []
  },
  {
   "cell_type": "code",
   "execution_count": 13,
   "metadata": {
    "scrolled": false
   },
   "outputs": [
    {
     "data": {
      "text/html": [],
      "text/plain": [
       "<IPython.core.display.HTML object>"
      ]
     },
     "metadata": {},
     "output_type": "display_data"
    }
   ],
   "source": [
    "t = to_cpu(learn.get_preds(act=noop))"
   ]
  },
  {
   "cell_type": "code",
   "execution_count": 14,
   "metadata": {},
   "outputs": [],
   "source": [
    "preds,targs = t"
   ]
  },
  {
   "cell_type": "code",
   "execution_count": 15,
   "metadata": {},
   "outputs": [],
   "source": [
    "lw2 = tensor(2.0, 1, 1, 1, 1, 1)\n",
    "lf2 = BaseLoss(nn.BCEWithLogitsLoss, pos_weight=lw2, floatify=True, flatten=False, \n",
    "    is_2d=False, activation=torch.sigmoid)"
   ]
  },
  {
   "cell_type": "code",
   "execution_count": 16,
   "metadata": {},
   "outputs": [
    {
     "data": {
      "text/plain": [
       "tensor(0.0752)"
      ]
     },
     "execution_count": 16,
     "metadata": {},
     "output_type": "execute_result"
    }
   ],
   "source": [
    "lf2(preds, targs)"
   ]
  },
  {
   "cell_type": "code",
   "execution_count": 17,
   "metadata": {},
   "outputs": [],
   "source": [
    "def f(x): return lf2(preds*x,targs)"
   ]
  },
  {
   "cell_type": "code",
   "execution_count": 18,
   "metadata": {},
   "outputs": [
    {
     "data": {
      "text/plain": [
       "     fun: tensor(0.0744)\n",
       " message: 'Solution found.'\n",
       "    nfev: 9\n",
       "  status: 0\n",
       " success: True\n",
       "       x: tensor(0.8820)"
      ]
     },
     "execution_count": 18,
     "metadata": {},
     "output_type": "execute_result"
    }
   ],
   "source": [
    "scipy.optimize.minimize_scalar(f, bounds=(0.2,2), method='Bounded', options={'xatol':0.001})"
   ]
  },
  {
   "cell_type": "code",
   "execution_count": 19,
   "metadata": {},
   "outputs": [
    {
     "data": {
      "text/plain": [
       "'rn34_repl'"
      ]
     },
     "execution_count": 19,
     "metadata": {},
     "output_type": "execute_result"
    }
   ],
   "source": [
    "pre"
   ]
  },
  {
   "cell_type": "code",
   "execution_count": null,
   "metadata": {},
   "outputs": [],
   "source": []
  }
 ],
 "metadata": {
  "kernelspec": {
   "display_name": "Python 3",
   "language": "python",
   "name": "python3"
  },
  "language_info": {
   "codemirror_mode": {
    "name": "ipython",
    "version": 3
   },
   "file_extension": ".py",
   "mimetype": "text/x-python",
   "name": "python",
   "nbconvert_exporter": "python",
   "pygments_lexer": "ipython3",
   "version": "3.7.5"
  }
 },
 "nbformat": 4,
 "nbformat_minor": 1
}

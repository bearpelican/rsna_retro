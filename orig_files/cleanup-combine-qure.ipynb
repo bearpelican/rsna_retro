{
 "cells": [
  {
   "cell_type": "code",
   "execution_count": 2,
   "metadata": {
    "_cell_guid": "b1076dfc-b9ad-4769-8c92-a6c4dae69d19",
    "_uuid": "8f2839f25d086af736a60e9eeb907d3b93b6e0e5"
   },
   "outputs": [],
   "source": [
    "from fastai2.basics           import *\n",
    "from fastai2.vision.all       import *\n",
    "from fastai2.medical.imaging  import *\n",
    "\n",
    "np.set_printoptions(linewidth=120)\n",
    "pd.options.display.max_rows = 999\n",
    "matplotlib.rcParams['image.cmap'] = 'bone'\n",
    "set_num_threads(1)\n",
    "set_seed(42)\n",
    "\n",
    "path = Path('~/data/rsna').expanduser()\n",
    "path_trn = path/'stage_2_train'\n",
    "path_tst = path/'stage_2_test'\n",
    "path_jpg = path/'nocrop_jpg'\n",
    "path_jpg256 = path/'nocrop_jpg256'\n",
    "\n",
    "torch.cuda.set_device(1)"
   ]
  },
  {
   "cell_type": "code",
   "execution_count": 3,
   "metadata": {
    "_cell_guid": "b1076dfc-b9ad-4769-8c92-a6c4dae69d19",
    "_uuid": "8f2839f25d086af736a60e9eeb907d3b93b6e0e5"
   },
   "outputs": [],
   "source": [
    "path_meta = path/'meta'\n",
    "df_lbls = pd.read_feather(path_meta/'labels.fth')\n",
    "df_tst = pd.read_feather(path_meta/'df_tst.fth')\n",
    "df_trn = pd.read_feather(path_meta/'df_trn.fth').dropna(subset=['img_pct_window'])\n",
    "bins = (path_meta/'bins.pkl').load()"
   ]
  },
  {
   "cell_type": "code",
   "execution_count": 4,
   "metadata": {
    "_cell_guid": "b1076dfc-b9ad-4769-8c92-a6c4dae69d19",
    "_uuid": "8f2839f25d086af736a60e9eeb907d3b93b6e0e5"
   },
   "outputs": [],
   "source": [
    "# comb = df_trn.join(df_lbls.set_index('ID'), 'SOPInstanceUID')\n",
    "# comb.reset_index(drop=True).to_feather(path_meta/'df_comb.fth')"
   ]
  },
  {
   "cell_type": "code",
   "execution_count": 5,
   "metadata": {},
   "outputs": [],
   "source": [
    "df_comb = pd.read_feather(path_meta/'df_comb.fth')"
   ]
  },
  {
   "cell_type": "code",
   "execution_count": 6,
   "metadata": {},
   "outputs": [],
   "source": [
    "qpath = Path('~/data/qure').expanduser()\n",
    "qpath_meta = qpath/'meta'\n",
    "qdf_comb = pd.read_feather(qpath_meta/'df_comb.fth')"
   ]
  },
  {
   "cell_type": "code",
   "execution_count": 7,
   "metadata": {},
   "outputs": [],
   "source": [
    "sop = qdf_comb.SOPInstanceUID[0]"
   ]
  },
  {
   "cell_type": "code",
   "execution_count": 8,
   "metadata": {},
   "outputs": [],
   "source": [
    "sop = df_comb.SOPInstanceUID[0]"
   ]
  },
  {
   "cell_type": "code",
   "execution_count": 9,
   "metadata": {},
   "outputs": [],
   "source": [
    "def remove_suff(x): return '.'.join(x.split('.')[:-1])\n",
    "def fname(fname): return path_jpg256/f'{fname}.jpg'"
   ]
  },
  {
   "cell_type": "code",
   "execution_count": 10,
   "metadata": {},
   "outputs": [],
   "source": [
    "fn = fname(sop)"
   ]
  },
  {
   "cell_type": "code",
   "execution_count": 11,
   "metadata": {},
   "outputs": [],
   "source": [
    "qdf_comb['is_qure'] = 1\n",
    "df_comb['is_qure'] = 0"
   ]
  },
  {
   "cell_type": "code",
   "execution_count": 12,
   "metadata": {},
   "outputs": [],
   "source": [
    "both_df_comb = pd.concat([df_comb, qdf_comb], sort=False, join='inner')"
   ]
  },
  {
   "cell_type": "code",
   "execution_count": 13,
   "metadata": {},
   "outputs": [],
   "source": [
    "both_df_comb.reset_index(drop=True).to_feather(path_meta/'both_df_comb.fth')"
   ]
  },
  {
   "cell_type": "code",
   "execution_count": null,
   "metadata": {},
   "outputs": [],
   "source": []
  },
  {
   "cell_type": "code",
   "execution_count": 14,
   "metadata": {},
   "outputs": [
    {
     "data": {
      "text/plain": [
       "(19428, 19428)"
      ]
     },
     "execution_count": 14,
     "metadata": {},
     "output_type": "execute_result"
    }
   ],
   "source": [
    "patients = both_df_comb.PatientID.unique()\n",
    "patient_grps = Path('patient_grps.pkl').load()\n",
    "prev_patients = np.concatenate(patient_grps)\n",
    "len(prev_patients),len(patients)"
   ]
  },
  {
   "cell_type": "code",
   "execution_count": 31,
   "metadata": {},
   "outputs": [],
   "source": [
    "patset1 = set(patients)\n",
    "patset2 = set(prev_patients)\n",
    "new_pat = array(list(patset1-patset2))\n",
    "patient_grps[4] = np.concatenate([new_pat,patient_grps[4]])\n",
    "Path('patient_grps2.pkl').save(patient_grps)"
   ]
  },
  {
   "cell_type": "code",
   "execution_count": null,
   "metadata": {},
   "outputs": [],
   "source": []
  }
 ],
 "metadata": {
  "kernelspec": {
   "display_name": "Python 3",
   "language": "python",
   "name": "python3"
  },
  "language_info": {
   "codemirror_mode": {
    "name": "ipython",
    "version": 3
   },
   "file_extension": ".py",
   "mimetype": "text/x-python",
   "name": "python",
   "nbconvert_exporter": "python",
   "pygments_lexer": "ipython3",
   "version": "3.7.5"
  },
  "toc": {
   "base_numbering": 1,
   "nav_menu": {},
   "number_sections": true,
   "sideBar": true,
   "skip_h1_title": false,
   "title_cell": "Table of Contents",
   "title_sidebar": "Contents",
   "toc_cell": false,
   "toc_position": {},
   "toc_section_display": true,
   "toc_window_display": false
  }
 },
 "nbformat": 4,
 "nbformat_minor": 1
}

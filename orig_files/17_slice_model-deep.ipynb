{
 "cells": [
  {
   "cell_type": "markdown",
   "metadata": {},
   "source": [
    "## Start"
   ]
  },
  {
   "cell_type": "code",
   "execution_count": 1,
   "metadata": {},
   "outputs": [],
   "source": [
    "import torch\n",
    "torch.cuda.set_device(3)\n",
    "\n",
    "from rsnautils import *\n",
    "from fastai2.callback.data import *\n",
    "from fastai2.patch_tables import patch_tables\n",
    "from fastai2.test import *\n",
    "patch_tables()\n",
    "\n",
    "nw = 8"
   ]
  },
  {
   "cell_type": "code",
   "execution_count": 2,
   "metadata": {},
   "outputs": [],
   "source": [
    "pre = 'xrn34_wgtd_deep'"
   ]
  },
  {
   "cell_type": "code",
   "execution_count": 3,
   "metadata": {},
   "outputs": [],
   "source": [
    "src_x = path_cts/pre\n",
    "src_y = path_ct_lbls/pre"
   ]
  },
  {
   "cell_type": "code",
   "execution_count": 4,
   "metadata": {},
   "outputs": [],
   "source": [
    "sids = src_x.ls().attrgot('name')\n",
    "test_eq(len(sids), 23017)"
   ]
  },
  {
   "cell_type": "code",
   "execution_count": 5,
   "metadata": {},
   "outputs": [],
   "source": [
    "val_sid = df_comb.loc[val_sops].SeriesInstanceUID.unique()\n",
    "idx = L.range(sids)\n",
    "val_sid = set(list(val_sid))"
   ]
  },
  {
   "cell_type": "code",
   "execution_count": 6,
   "metadata": {},
   "outputs": [],
   "source": [
    "mask = np.array([o in val_sid for o in sids])\n",
    "s_splits = idx[~mask],idx[mask]\n",
    "test_eq(len(s_splits[0]),19058)\n",
    "test_eq(len(s_splits[1]),3959 )"
   ]
  },
  {
   "cell_type": "code",
   "execution_count": 7,
   "metadata": {},
   "outputs": [],
   "source": [
    "def read_slice(s): return TensorCTScan(tensor((src_x/s).load_array()))\n",
    "def read_slbls(s): return tensor((src_y/s).load_array()).float()"
   ]
  },
  {
   "cell_type": "code",
   "execution_count": 8,
   "metadata": {},
   "outputs": [],
   "source": [
    "tfms = [[read_slice], [read_slbls]]\n",
    "dsets = Datasets(sids, tfms, splits=s_splits)"
   ]
  },
  {
   "cell_type": "code",
   "execution_count": 9,
   "metadata": {},
   "outputs": [],
   "source": [
    "# dls = dsets.dataloaders(None, after_batch=Cuda(), num_workers=8)\n",
    "dls = DataLoaders(\n",
    "    DataLoader(dsets.train, after_batch=Cuda(), num_workers=8, shuffle=True),\n",
    "    DataLoader(dsets.valid, after_batch=Cuda(), num_workers=8)\n",
    ")\n",
    "\n",
    "dls.device = default_device()"
   ]
  },
  {
   "cell_type": "code",
   "execution_count": 10,
   "metadata": {
    "scrolled": false
   },
   "outputs": [
    {
     "data": {
      "text/plain": [
       "(torch.Size([28, 256, 1, 1]), torch.Size([28, 6]))"
      ]
     },
     "execution_count": 10,
     "metadata": {},
     "output_type": "execute_result"
    }
   ],
   "source": [
    "x,y = dls.valid.one_batch()\n",
    "n_final = x.shape[1]\n",
    "x.shape,y.shape"
   ]
  },
  {
   "cell_type": "code",
   "execution_count": 11,
   "metadata": {},
   "outputs": [],
   "source": [
    "loss_func = get_loss()"
   ]
  },
  {
   "cell_type": "code",
   "execution_count": 12,
   "metadata": {},
   "outputs": [],
   "source": [
    "class Batchify(Module):\n",
    "    def forward(self, x): return x[...,0,0][None].transpose(1,2)\n",
    "\n",
    "class DeBatchify(Module):\n",
    "    def forward(self, x): return x[0].transpose(0,1)"
   ]
  },
  {
   "cell_type": "code",
   "execution_count": 13,
   "metadata": {},
   "outputs": [],
   "source": [
    "def conv3(ni,nf,stride=1, norm_type=NormType.Batch):\n",
    "#     return ConvLayer(ni, nf, 5, stride=(1,stride,stride), ndim=3)\n",
    "    return ConvLayer(ni, nf, (5,3,3), stride=(1,stride,stride), ndim=3, padding=(2,1,1), norm_type=norm_type)"
   ]
  },
  {
   "cell_type": "code",
   "execution_count": 14,
   "metadata": {},
   "outputs": [],
   "source": [
    "def conv1(ni,nf,stride=1, norm_type=NormType.Batch):\n",
    "    return ConvLayer(ni, nf, 5, ndim=1, padding=2, norm_type=norm_type)\n",
    "\n",
    "m = nn.Sequential(Batchify(),\n",
    "    conv1(n_final,256,1, norm_type=None), # 8\n",
    "    conv1(    256,128,1, norm_type=None), # 4\n",
    "    conv1(    128, 64,1, norm_type=None), # 2\n",
    "    DeBatchify(), Flatten(), nn.Linear(64,6))\n",
    "\n",
    "init_cnn(m)"
   ]
  },
  {
   "cell_type": "code",
   "execution_count": 16,
   "metadata": {},
   "outputs": [],
   "source": [
    "learn = Learner(dls, m, loss_func=loss_func, metrics=metrics)\n",
    "learn.model[-1].bias.data = to_device(logit(avg_lbls))"
   ]
  },
  {
   "cell_type": "code",
   "execution_count": 17,
   "metadata": {},
   "outputs": [
    {
     "data": {
      "text/html": [
       "<table border=\"1\" class=\"dataframe\">\n",
       "  <thead>\n",
       "    <tr style=\"text-align: left;\">\n",
       "      <th>epoch</th>\n",
       "      <th>train_loss</th>\n",
       "      <th>valid_loss</th>\n",
       "      <th>accuracy_multi</th>\n",
       "      <th>accuracy_any</th>\n",
       "      <th>None</th>\n",
       "      <th>accum</th>\n",
       "      <th>time</th>\n",
       "    </tr>\n",
       "  </thead>\n",
       "  <tbody>\n",
       "    <tr>\n",
       "      <td>0</td>\n",
       "      <td>0.047986</td>\n",
       "      <td>0.078214</td>\n",
       "      <td>0.976942</td>\n",
       "      <td>0.960953</td>\n",
       "      <td>0.078214</td>\n",
       "      <td>0.070074</td>\n",
       "      <td>07:36</td>\n",
       "    </tr>\n",
       "    <tr>\n",
       "      <td>1</td>\n",
       "      <td>0.046641</td>\n",
       "      <td>0.064090</td>\n",
       "      <td>0.979135</td>\n",
       "      <td>0.961831</td>\n",
       "      <td>0.064090</td>\n",
       "      <td>0.063143</td>\n",
       "      <td>05:30</td>\n",
       "    </tr>\n",
       "  </tbody>\n",
       "</table>"
      ],
      "text/plain": [
       "<IPython.core.display.HTML object>"
      ]
     },
     "metadata": {},
     "output_type": "display_data"
    }
   ],
   "source": [
    "#ks=5,3,3 xrn34_wgtd_deep\n",
    "learn.fit_one_cycle(2,1e-3)"
   ]
  },
  {
   "cell_type": "code",
   "execution_count": 18,
   "metadata": {},
   "outputs": [],
   "source": [
    "learn.save(f'{pre}-3d')"
   ]
  },
  {
   "cell_type": "code",
   "execution_count": 20,
   "metadata": {
    "scrolled": true
   },
   "outputs": [
    {
     "data": {
      "text/plain": [
       "tensor(0.0636, device='cuda:3')"
      ]
     },
     "execution_count": 20,
     "metadata": {},
     "output_type": "execute_result"
    }
   ],
   "source": [
    "preds,targs = learn.get_preds()\n",
    "p,t = to_device((preds,targs))\n",
    "loss_func(logit(p), t)"
   ]
  },
  {
   "cell_type": "code",
   "execution_count": 21,
   "metadata": {},
   "outputs": [
    {
     "data": {
      "text/plain": [
       "torch.Size([136785, 6])"
      ]
     },
     "execution_count": 21,
     "metadata": {},
     "output_type": "execute_result"
    }
   ],
   "source": [
    "preds.shape"
   ]
  },
  {
   "cell_type": "code",
   "execution_count": null,
   "metadata": {},
   "outputs": [],
   "source": []
  },
  {
   "cell_type": "code",
   "execution_count": null,
   "metadata": {},
   "outputs": [],
   "source": []
  },
  {
   "cell_type": "code",
   "execution_count": null,
   "metadata": {},
   "outputs": [],
   "source": [
    "#export\n",
    "class XRN3dHead(nn.Sequential):\n",
    "    def __init__(self, block_szs, layers, c_in=3, c_out=1000, act_cls=defaults.activation):\n",
    "        blocks = [self._make_layer(block_szs[i], block_szs[i+1], l, 1 if i==0 else 2, act_cls=act_cls)\n",
    "                  for i,l in enumerate(layers)]\n",
    "        super().__init__(*blocks,\n",
    "            nn.AdaptiveAvgPool(1, ndim=3), Flatten(),\n",
    "            nn.Linear(block_szs[-1], c_out),\n",
    "        )\n",
    "        init_cnn(self)\n",
    "\n",
    "    def _make_layer(self, expansion, ni, nf, blocks, stride, sa, sym, act_cls):\n",
    "        return nn.Sequential(\n",
    "            *[ResBlock(expansion, ni if i==0 else nf, nf, stride if i==0 else 1, ndim=3, act_cls=act_cls)\n",
    "              for i in range(blocks)])"
   ]
  },
  {
   "cell_type": "code",
   "execution_count": null,
   "metadata": {},
   "outputs": [],
   "source": []
  }
 ],
 "metadata": {
  "kernelspec": {
   "display_name": "Python 3",
   "language": "python",
   "name": "python3"
  },
  "language_info": {
   "codemirror_mode": {
    "name": "ipython",
    "version": 3
   },
   "file_extension": ".py",
   "mimetype": "text/x-python",
   "name": "python",
   "nbconvert_exporter": "python",
   "pygments_lexer": "ipython3",
   "version": "3.7.4"
  }
 },
 "nbformat": 4,
 "nbformat_minor": 1
}

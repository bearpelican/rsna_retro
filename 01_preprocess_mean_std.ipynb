{
 "cells": [
  {
   "cell_type": "code",
   "execution_count": 1,
   "metadata": {},
   "outputs": [
    {
     "name": "stdout",
     "output_type": "stream",
     "text": [
      "Loading imports\n",
      "Warning: Your Kaggle API key is readable by other users on this system! To fix this, you can run 'chmod 600 /home/ashaw/.kaggle/kaggle.json'\n"
     ]
    }
   ],
   "source": [
    "from rsna_retro.imports import *\n",
    "from rsna_retro.metadata import *\n",
    "from rsna_retro.preprocess import *"
   ]
  },
  {
   "cell_type": "code",
   "execution_count": 2,
   "metadata": {},
   "outputs": [],
   "source": [
    "# https://forums.fast.ai/t/calculating-our-own-image-stats-imagenet-stats-cifar-stats-etc/40355/4\n",
    "# https://gist.github.com/thomasbrandon/ad5b1218fc573c10ea4e1f0c63658469#file-running_stats-py-L31\n",
    "\n",
    "import torch\n",
    "from torch import Tensor\n",
    "from typing import Iterable\n",
    "from fastprogress import progress_bar\n",
    "\n",
    "class RunningStatistics:\n",
    "    def __init__(self, n_dims:int=2, record_range=False):\n",
    "        self._n_dims,self._range = n_dims,record_range\n",
    "        self.n,self.sum,self.min,self.max = 0,None,None,None\n",
    "    \n",
    "    def update(self, data:Tensor):\n",
    "        data = data.view(*list(data.shape[:-self._n_dims]) + [-1])\n",
    "        with torch.no_grad():\n",
    "            new_n,new_var,new_sum = data.shape[-1],data.var(-1),data.sum(-1)\n",
    "            if self.n == 0:\n",
    "                self.n = new_n\n",
    "                self._shape = data.shape[:-1]\n",
    "                self.sum = new_sum\n",
    "                self._nvar = new_var.mul_(new_n)\n",
    "#                 self._nvar = new_var.mul_(new_n-1)\n",
    "                if self._range:\n",
    "                    self.min = data.min(-1)[0]\n",
    "                    self.max = data.max(-1)[0]\n",
    "            else:\n",
    "                assert data.shape[:-1] == self._shape, f\"Mismatched shapes, expected {self._shape} but got {data.shape[:-1]}.\"\n",
    "                ratio = self.n / new_n\n",
    "                t = (self.sum / ratio).sub_(new_sum).pow_(2)\n",
    "                self._nvar.add_(new_n, new_var).add_(ratio / (self.n + new_n), t)\n",
    "#                 self._nvar.add_(new_n-1, new_var).add_(ratio / (self.n + new_n), t)\n",
    "                self.sum.add_(new_sum)\n",
    "                self.n += new_n\n",
    "                if self._range:\n",
    "                    self.min = torch.min(self.min, data.min(-1)[0])\n",
    "                    self.max = torch.max(self.max, data.max(-1)[0])\n",
    "\n",
    "    @property\n",
    "    def mean(self): return self.sum / self.n if self.n > 0 else None\n",
    "    @property\n",
    "    def var(self): return self._nvar / self.n if self.n > 0 else None\n",
    "    @property\n",
    "    def std(self): return self.var.sqrt() if self.n > 0 else None\n",
    "\n",
    "    def __repr__(self):\n",
    "        def _fmt_t(t:Tensor):\n",
    "            if t.numel() > 5: return f\"tensor of ({','.join(map(str,t.shape))})\"\n",
    "            def __fmt_t(t:Tensor):\n",
    "                return '[' + ','.join([f\"{v:.3g}\" if v.ndim==0 else __fmt_t(v) for v in t]) + ']'\n",
    "            return __fmt_t(t)\n",
    "        rng_str = f\", min={_fmt_t(self.min)}, max={_fmt_t(self.max)}\" if self._range else \"\"\n",
    "        return f\"RunningStatistics(n={self.n}, mean={_fmt_t(self.mean)}, std={_fmt_t(self.std)}{rng_str})\""
   ]
  },
  {
   "cell_type": "code",
   "execution_count": 3,
   "metadata": {},
   "outputs": [],
   "source": [
    "train_fns = path_jpg256.ls()\n",
    "random.shuffle(train_fns)"
   ]
  },
  {
   "cell_type": "code",
   "execution_count": 4,
   "metadata": {},
   "outputs": [],
   "source": [
    "pipe = Pipeline(funcs=[PILCTScan.create, ToTensor, IntToFloatTensor])"
   ]
  },
  {
   "cell_type": "code",
   "execution_count": 5,
   "metadata": {},
   "outputs": [
    {
     "data": {
      "text/plain": [
       "tensor(0.1248)"
      ]
     },
     "execution_count": 5,
     "metadata": {},
     "output_type": "execute_result"
    }
   ],
   "source": [
    "pipe(train_fns[0]).mean()"
   ]
  },
  {
   "cell_type": "code",
   "execution_count": 6,
   "metadata": {},
   "outputs": [],
   "source": [
    "rs = RunningStatistics(n_dims=2)"
   ]
  },
  {
   "cell_type": "code",
   "execution_count": null,
   "metadata": {},
   "outputs": [],
   "source": [
    "for fn in progress_bar(train_fns[:5000]):\n",
    "    try:\n",
    "        rs.update(pipe(fn))\n",
    "    except Exception as e:\n",
    "        print(e)"
   ]
  },
  {
   "cell_type": "code",
   "execution_count": 8,
   "metadata": {},
   "outputs": [
    {
     "data": {
      "text/plain": [
       "(tensor([0.1594, 0.0766, 0.0605]), tensor([0.3011, 0.2521, 0.2160]))"
      ]
     },
     "execution_count": 8,
     "metadata": {},
     "output_type": "execute_result"
    }
   ],
   "source": [
    "rs.mean, rs.std"
   ]
  }
 ],
 "metadata": {
  "kernelspec": {
   "display_name": "Python 3",
   "language": "python",
   "name": "python3"
  }
 },
 "nbformat": 4,
 "nbformat_minor": 2
}
